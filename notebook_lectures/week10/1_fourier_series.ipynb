{
 "cells": [
  {
   "cell_type": "markdown",
   "metadata": {},
   "source": [
    "# Week 11 Day 1: Introduction to Fourier Series\n",
    "\n",
    "## Objectives:\n",
    "\n",
    "* Look at histogram performance study\n",
    "* Cover the mathematics of Fourier Series\n",
    "* Look at DFT"
   ]
  },
  {
   "cell_type": "markdown",
   "metadata": {},
   "source": [
    "### Performance study\n",
    "\n",
    "I've written an interesting look at 1D and 2D histogram performance here: <https://iscinumpy.gitlab.io/post/histogram-speeds-in-python/>\n",
    "\n",
    "### Bokeh\n",
    "\n",
    "The plotting library Bokeh has just reached version 1.0. We'll use that today instead of matplotlib just to make things interesting. It's not as old and respected as matplotlib, but is prettier in a browser."
   ]
  },
  {
   "cell_type": "code",
   "execution_count": null,
   "metadata": {},
   "outputs": [],
   "source": [
    "from bokeh.io import output_notebook, show\n",
    "from bokeh.plotting import figure\n",
    "\n",
    "output_notebook()"
   ]
  },
  {
   "cell_type": "code",
   "execution_count": null,
   "metadata": {},
   "outputs": [],
   "source": [
    "import numpy as np"
   ]
  },
  {
   "cell_type": "markdown",
   "metadata": {},
   "source": [
    "## Fourier series\n",
    "\n",
    "Our goal will be to decompose (periodic) functions into Fourier components. A few definitions:\n",
    "\n",
    "$T$ is the period. $\\omega = \\frac{2\\pi}{T}$ is the true frequency. The Fourier series is then written:\n",
    "\n",
    "$$\n",
    "y(t) = \\frac{a_0}{2} + \\sum_{n=1}^{\\infty} \\left( a_n \\cos n \\omega t + b_n \\sin n \\omega t \\right)\n",
    "\\tag{1}\n",
    "$$\n",
    "\n",
    "We can compute it by integrating over the function of interest and computing the components:\n",
    "\n",
    "$$\n",
    "\\left(\\begin{matrix}a_n \\\\ b_n\\end{matrix}\\right)\n",
    "=\n",
    "\\frac{2}{T} \\int^{T}_{0}\n",
    "\\left(\\begin{matrix}\\cos n \\omega t \\\\ \\sin n \\omega t \\end{matrix}\\right) y(t) \\, dt\n",
    "\\tag{2}\n",
    "$$\n",
    "\n",
    "Useful tips:\n",
    "* $a_0 = \\left<y(t)\\right>$\n",
    "* For odd or even functions, we can drop cos or sin (respectively) and integrate over 1/2 the range."
   ]
  },
  {
   "cell_type": "markdown",
   "metadata": {},
   "source": [
    "#### Example: Step function\n",
    "\n",
    "Let's define a step function valid from $-L$ to $L$ (it repeats outside that range). We have:\n",
    "\n",
    "$$\n",
    "f(t) = \\begin{cases}1 & t \\ge 0 \\\\\n",
    "                   -1 & t < 0\\end{cases}.\n",
    "$$\n",
    "\n",
    "This is odd, so we only need to integrate from $0$ to $L=T/2$ and multiply by 2. The average value is 0, so we can drop $a_0$. We have $\\omega = 2\\pi / T = \\pi / L$ So equation 2 becomes:\n",
    "\n",
    "$$\n",
    "a_n =2 \\frac{1}{L} \\int^{L}_0 \\sin \\frac{n \\pi t}{L} \\, dt.\n",
    "$$"
   ]
  },
  {
   "cell_type": "markdown",
   "metadata": {},
   "source": [
    "Since $\\int_0^A \\sin a t \\, dt = \\frac{1 - \\cos(a A)}{a}$, we have:\n",
    "\n",
    "$$\n",
    "a_n = \\frac{2}{L} \\frac{L}{n \\pi} \\left( 1 - \\cos n \\pi \\right),\n",
    "$$\n",
    "\n",
    "which is non-zero only for odd n, giving the final formula:\n",
    "\n",
    "$$\n",
    "a_n = \\frac{4}{n \\pi}, \\quad n\\ \\textrm{odd}.\n",
    "$$"
   ]
  },
  {
   "cell_type": "markdown",
   "metadata": {},
   "source": [
    "Combining with equation 1 gives:\n",
    "\n",
    "$$\n",
    "f(t) = \\frac{4}{\\pi} \\sum^{\\infty}_{n=1,3,5,\\ldots} \\frac{1}{n} \\sin\\left( \\frac{n \\pi t}{L} \\right).\n",
    "$$"
   ]
  },
  {
   "cell_type": "code",
   "execution_count": null,
   "metadata": {},
   "outputs": [],
   "source": [
    "t = np.linspace(-1.25 * np.pi, 1.25 * np.pi, 2000)\n",
    "y = np.zeros_like(t)\n",
    "for n in range(1, 100, 2):\n",
    "    y += 1 / n * np.sin(n * t)\n",
    "y *= 4 / np.pi"
   ]
  },
  {
   "cell_type": "code",
   "execution_count": null,
   "metadata": {},
   "outputs": [],
   "source": [
    "p = figure(width=500, height=300)\n",
    "p.line(t, y)\n",
    "show(p)"
   ]
  },
  {
   "cell_type": "markdown",
   "metadata": {},
   "source": [
    "The function is a best fit to the sawtooth, but it always \"overshoots\" the edges - this is the Gibbs phenomenon."
   ]
  },
  {
   "cell_type": "markdown",
   "metadata": {},
   "source": [
    "We can also look at the spectrum of frequencies:"
   ]
  },
  {
   "cell_type": "code",
   "execution_count": null,
   "metadata": {},
   "outputs": [],
   "source": [
    "x = np.arange(1, 100)\n",
    "s = 4 / (np.pi * x)\n",
    "s[1::2] = 0\n",
    "\n",
    "p = figure(width=500, height=300)\n",
    "p.vbar(x - 0.5, 1, s)\n",
    "show(p)"
   ]
  },
  {
   "cell_type": "markdown",
   "metadata": {},
   "source": [
    "#### Example: Sawtooth function\n",
    "\n",
    "From the book, Example 10.2.1.\n",
    "\n",
    "$$\n",
    "y(t) = \\frac{2}{\\pi} \\biggr[ \\sin \\omega t - \\sin 2 \\omega t + \\sin 3 \\omega t - \\cdots \\biggr]\n",
    "$$"
   ]
  },
  {
   "cell_type": "code",
   "execution_count": null,
   "metadata": {},
   "outputs": [],
   "source": [
    "x = np.linspace(-2.5 * np.pi, 2.5 * np.pi, 2000)\n",
    "y = np.zeros_like(x)\n",
    "L = 2 * np.pi\n",
    "for n in range(1, 50):\n",
    "    y += 1 / n * (-1) ** (n + 1) * np.sin(2 * n * np.pi * x / L)\n",
    "y *= 2 / np.pi"
   ]
  },
  {
   "cell_type": "code",
   "execution_count": null,
   "metadata": {},
   "outputs": [],
   "source": [
    "p = figure(width=500, height=300)\n",
    "p.line(x, y)\n",
    "show(p)"
   ]
  },
  {
   "cell_type": "markdown",
   "metadata": {},
   "source": [
    "We can also look at the spectrum of frequencies:"
   ]
  },
  {
   "cell_type": "code",
   "execution_count": null,
   "metadata": {},
   "outputs": [],
   "source": [
    "x = np.arange(1, 50)\n",
    "s = (-1) ** (x + 1) * 2 / (np.pi * x)\n",
    "\n",
    "p = figure(width=500, height=300)\n",
    "p.vbar(x - 0.5, 1, s)\n",
    "show(p)"
   ]
  },
  {
   "cell_type": "markdown",
   "metadata": {},
   "source": [
    "### Fourier transform\n",
    "\n",
    "Now briefly look at the Fourier transform, using the complex exponential function. Computationally, we will be converting the integrals to series anyway, so this becomes equivalent to the Fourier series.\n",
    "\n",
    "$$\n",
    "y(t) = \\frac{1}{\\sqrt{2 \\pi}} \\int_{-\\infty}^{\\infty} e^{i \\omega t} Y(\\omega) \\, d\\omega.\n",
    "\\tag{3}\n",
    "$$\n",
    "\n",
    "And its inverse:\n",
    "\n",
    "$$\n",
    "Y(\\omega) = \\frac{1}{\\sqrt{2 \\pi}} \\int_{-\\infty}^{\\infty} e^{- i \\omega t} y(t) \\, dt.\n",
    "\\tag{4}\n",
    "$$\n",
    "\n",
    "You'll notice that different conventions exist for the sign and the location of the scaling factor - just be consistent and you'll be okay. We will follow the book's lead here.\n",
    "\n",
    "We can apply the transform and the inverse together to obtain the Dirac delta function:\n",
    "\n",
    "$$\n",
    "\\int_{-\\infty}^{\\infty} e^{i (\\omega' - \\omega) t}\\, dt \\equiv 2 \\pi \\delta (\\omega' - \\omega)\n",
    "$$\n",
    "\n",
    "This \"function\" is useful analytically because it can select on point out of an integration range, but ugly computationally. You should do it by hand before coding, rather than later."
   ]
  },
  {
   "cell_type": "markdown",
   "metadata": {},
   "source": [
    "### DFT: The Discrete Fourier Transform\n",
    "\n",
    "Fourier tools are great for analysis (as long as you remember their limitations). Real measurements generally are discrete. So we need a discrete version of this machinery."
   ]
  },
  {
   "cell_type": "markdown",
   "metadata": {},
   "source": [
    "We start with a signal $y(t)$ sampled in $N$ time intervals ($N+1$ measurements). We can assume constant time spacing $h \\equiv \\Delta t$. The total time is $T$ (carefully selected to look like a period as well, we'll see more later). We have a sampling rate $s \\equiv N/T=1/h$ So:\n",
    "\n",
    "$$\n",
    "y_k \\equiv y(t_k) \\\\\n",
    "t_k \\equiv k h\n",
    "$$\n",
    "\n",
    "At this point, we can view this Fourier transform as a Fourier Series, since we now have a periodicity imposed; the final measurement must be equal to the first $y_0 = y_N$."
   ]
  },
  {
   "cell_type": "markdown",
   "metadata": {},
   "source": [
    "Since we only have $N$ data points (left), we can only determine $N$ independent output Fourier components. We can write all the frequencies as multiples of the base frequency:\n",
    "\n",
    "$$\n",
    "\\omega_n = n \\omega_1 = n \\frac{2 \\pi}{N h}\n",
    "$$"
   ]
  },
  {
   "cell_type": "markdown",
   "metadata": {},
   "source": [
    "### DFT: Evaluation\n",
    "\n",
    "Now we can evaluate the integral in (3). We can just evaluate over the range 0 to T (due to above requirements on periodicity), and we can use the trapezoid rule. Since the first point is equal to the last point, we don't even need special handling at the end points."
   ]
  },
  {
   "cell_type": "markdown",
   "metadata": {},
   "source": [
    "Forward transform:\n",
    "\n",
    "$$\n",
    "Y_n \\equiv \\frac{1}{h} Y(\\omega_n) \\approx \\sum_{k=1}^{N} y_k \\frac{e^{-2 \\pi i k n / N}}{\\sqrt{2 \\pi}}\n",
    "\\tag{5}\n",
    "$$\n",
    "\n",
    "And inverse:\n",
    "\n",
    "$$\n",
    "y(t) \\approx \\sum_{n=1}^{N} \\frac{2 \\pi}{N h} Y_n \\frac{e^{i \\omega_n t}}{\\sqrt{2 \\pi}}\n",
    "\\tag{6}\n",
    "$$"
   ]
  },
  {
   "cell_type": "markdown",
   "metadata": {},
   "source": [
    "Let's add one more trick to make this easier to compute: we will introduce $Z=e^{-2\\pi i / N}$, and rewrite the above expressions as\n",
    "\n",
    "$$\n",
    "y_k = \\frac{\\sqrt{2 \\pi}}{N} \\sum_{n=1}^{N} Z^{-n k} Y_n\n",
    "$$\n",
    "\n",
    "$$\n",
    "Y_n = \\frac{1}{\\sqrt{2 \\pi}} \\sum_{k=1}^{N} Z^{n k} y_k\n",
    "$$"
   ]
  },
  {
   "cell_type": "code",
   "execution_count": null,
   "metadata": {},
   "outputs": [],
   "source": [
    "N = 50\n",
    "x = np.linspace(0, 2 * np.pi, N + 1)\n",
    "signal = 30 * np.cos(3 * x) + 20 * np.sin(7 * x)  # Change these values\n",
    "h = 2 * np.pi / N"
   ]
  },
  {
   "cell_type": "code",
   "execution_count": null,
   "metadata": {},
   "outputs": [],
   "source": [
    "p = figure(width=500, height=300)\n",
    "p.circle(x, signal)\n",
    "show(p)"
   ]
  },
  {
   "cell_type": "code",
   "execution_count": null,
   "metadata": {},
   "outputs": [],
   "source": [
    "n = np.arange(N).reshape(-1, 1)\n",
    "k = np.arange(N).reshape(1, -1)\n",
    "zexpo = 1j * 2 * np.pi * k * n / N\n",
    "zsum = np.sum(signal[:N] * np.exp(-zexpo), axis=1)\n",
    "dftz = zsum / np.sqrt(2 * np.pi)"
   ]
  },
  {
   "cell_type": "markdown",
   "metadata": {},
   "source": [
    "Note: Formula taken from the book. I think there may be a missing element on the end - but due to symmetric nature, the end element would be the same as the beginning element, so we don't lose anything."
   ]
  },
  {
   "cell_type": "code",
   "execution_count": null,
   "metadata": {},
   "outputs": [],
   "source": [
    "p = figure(width=500, height=300)\n",
    "p.line(k.ravel(), dftz.real)\n",
    "p.line(k.ravel(), dftz.imag, color=\"firebrick\")\n",
    "show(p)"
   ]
  },
  {
   "cell_type": "code",
   "execution_count": null,
   "metadata": {},
   "outputs": [],
   "source": [
    "zfft = np.fft.fft(signal)\n",
    "p = figure(width=500, height=300)\n",
    "p.line(np.arange(N + 1), zfft.real)\n",
    "p.line(np.arange(N + 1), zfft.imag, color=\"firebrick\")\n",
    "show(p)"
   ]
  },
  {
   "cell_type": "markdown",
   "metadata": {},
   "source": [
    "#### Example: Not perfectly aligned sin waves\n",
    "\n",
    "We'll use the FFT to compute and look at a problem where the frequencies are not quite so perfectly aligned. This example is taken from the SciPy documentation, but is implemented in Numpy and Bokeh."
   ]
  },
  {
   "cell_type": "code",
   "execution_count": null,
   "metadata": {},
   "outputs": [],
   "source": [
    "N = 600\n",
    "T = 1.0 / 800.0\n",
    "x = np.linspace(0.0, N * T, N)\n",
    "y = np.sin(50.0 * 2.0 * np.pi * x) + 0.5 * np.sin(80.0 * 2.0 * np.pi * x)\n",
    "yf = np.fft.fft(y)\n",
    "xf = np.linspace(0.0, 1.0 / (2.0 * T), N)\n",
    "\n",
    "norm_yf = 2.0 / N * np.abs(yf)"
   ]
  },
  {
   "cell_type": "code",
   "execution_count": null,
   "metadata": {},
   "outputs": [],
   "source": [
    "p = figure(width=500, height=300)\n",
    "p.line(x, y)\n",
    "show(p)"
   ]
  },
  {
   "cell_type": "code",
   "execution_count": null,
   "metadata": {},
   "outputs": [],
   "source": [
    "p = figure(width=500, height=300)\n",
    "p.line(xf[: N // 2 + 1], norm_yf[: N // 2 + 1])\n",
    "show(p)"
   ]
  },
  {
   "cell_type": "markdown",
   "metadata": {},
   "source": [
    "#### Questions:\n",
    "\n",
    "* What happens when you plot in the entire range instead of just to N?\n",
    "* Try `rfft` with the full range."
   ]
  },
  {
   "cell_type": "markdown",
   "metadata": {},
   "source": [
    "Let's look at that in more detail: (the description [here](https://www.fil.ion.ucl.ac.uk/~wpenny/course/fourier.pdf) is good)."
   ]
  },
  {
   "cell_type": "code",
   "execution_count": null,
   "metadata": {},
   "outputs": [],
   "source": [
    "t = np.linspace(0, 1, 1000)\n",
    "f0 = 13  # Sampling frequency\n",
    "f1 = 3  # First frequency\n",
    "k = 1  # Any integer\n",
    "f2 = f1 + k * f0  # Identical under the sampling frequency!\n",
    "tp = np.linspace(0, 1, f0 + 1)\n",
    "y1 = np.sin(2 * f1 * np.pi * t)\n",
    "y2 = np.sin(2 * f2 * np.pi * t)\n",
    "ytp = np.sin(2 * f2 * np.pi * tp)"
   ]
  },
  {
   "cell_type": "code",
   "execution_count": null,
   "metadata": {},
   "outputs": [],
   "source": [
    "p = figure(width=700, height=300)\n",
    "p.line(t, y1)\n",
    "p.line(t, y2, color=\"firebrick\")\n",
    "p.circle(tp, ytp, color=\"black\")\n",
    "show(p)"
   ]
  }
 ],
 "metadata": {
  "language_info": {
   "codemirror_mode": {
    "name": "ipython",
    "version": 3
   },
   "file_extension": ".py",
   "mimetype": "text/x-python",
   "name": "python",
   "nbconvert_exporter": "python",
   "pygments_lexer": "ipython3",
   "version": "3.8.2"
  }
 },
 "nbformat": 4,
 "nbformat_minor": 2
}
