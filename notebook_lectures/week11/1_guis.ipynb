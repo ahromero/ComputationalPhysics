{
 "cells": [
  {
   "cell_type": "markdown",
   "metadata": {},
   "source": [
    "# Week 12 Day 1: Requested topic: GUIs\n",
    "\n",
    "## Objectives:\n",
    "* Go over quick overview of available GUI libraries\n",
    "\n",
    "This is bonus material unless we finish the presentations early; in which case we'll look at it in class. I may return to this if there is still interest for the student requested topics day.\n",
    "\n",
    "Today, some of the code cannot be run on the OSC or in a notebook. Any GUI that does not produce web content will need to be run by itself."
   ]
  },
  {
   "cell_type": "markdown",
   "metadata": {},
   "source": [
    "# GUIs\n",
    "\n",
    "There are a [ton](https://wiki.python.org/moin/GuiProgramming) of options. Here is a little sampling:\n",
    "\n",
    "* TKinter: Old, built into Python. Not pythonic, limited in scope, ugly, and a bit slow. Better with a wrapper.\n",
    "    * [PySimpleGUI](https://github.com/MikeTheWatchGuy/PySimpleGUI): Designed to be both simple and powerful. Very new, but very promising for simple to mid-level GUIs. A new PySimpleGUI_Qt front end \n",
    "* Qt: Industrial grade GUI toolkit for C++. Has two Python bindings.\n",
    "    * PyQT: Powerful, GPL only bindings. First to support Qt5 and Python 3.\n",
    "    * PySide: Acquired by Qt, to become the \"official\" bindings. Old, still Qt4.\n",
    "    * [Qt for Python](https://wiki.qt.io/Qt_for_Python) (PySide 2): Soon to become the first \"official\" release of PySide under Qt\n",
    "* [wxPython](https://wxpython.org): A framework built for Python.\n",
    "* [PyGame](https://www.pygame.org/news): A OpenGL gui made for games. Waiting on a big 2.0 release.\n",
    "* [kivy](https://kivy.org): Some fancy cross platform thing, but not easy to install/integrate as far as I can tell.\n",
    "\n",
    "See [Top 7 Python GUI frameworks](https://insights.dice.com/2017/08/07/7-top-python-gui-frameworks-for-2017-2/) for more.\n",
    "\n",
    "For Jupyter, you can also use [widgets](http://jupyter.org/widgets) to make a make-shift GUI that might be good enough. See the interact widgets and other widgets."
   ]
  },
  {
   "cell_type": "markdown",
   "metadata": {},
   "source": [
    "## Jupyter\n",
    "\n",
    "Let's play with interact first."
   ]
  },
  {
   "cell_type": "code",
   "execution_count": null,
   "metadata": {},
   "outputs": [],
   "source": [
    "from bokeh.io import output_notebook, show, push_notebook\n",
    "from bokeh.plotting import figure\n",
    "output_notebook()"
   ]
  },
  {
   "cell_type": "code",
   "execution_count": null,
   "metadata": {},
   "outputs": [],
   "source": [
    "from ipywidgets import interact"
   ]
  },
  {
   "cell_type": "code",
   "execution_count": null,
   "metadata": {},
   "outputs": [],
   "source": [
    "import numpy as np"
   ]
  },
  {
   "cell_type": "code",
   "execution_count": null,
   "metadata": {},
   "outputs": [],
   "source": [
    "t = np.linspace(-1.25*np.pi, 1.25*np.pi, 2000)\n",
    "y = np.zeros_like(t)\n",
    "for n in range(1,100,2):\n",
    "    y += 1/n * np.sin(n * t)\n",
    "y *= 4/np.pi"
   ]
  },
  {
   "cell_type": "code",
   "execution_count": null,
   "metadata": {},
   "outputs": [],
   "source": [
    "p = figure(width=500, height=300)\n",
    "r = p.line(t, y)\n",
    "show(p, notebook_handle=True);"
   ]
  },
  {
   "cell_type": "code",
   "execution_count": null,
   "metadata": {},
   "outputs": [],
   "source": [
    "@interact\n",
    "def funct(its=(1,50)):\n",
    "    t = np.linspace(-1.25*np.pi, 1.25*np.pi, 2000)\n",
    "    y = np.zeros_like(t)\n",
    "    for i in range(its):\n",
    "        n = 1 + 2*i\n",
    "        y += 1/n * np.sin(n * t)\n",
    "    y *= 4/np.pi\n",
    "    r.data_source.data['y'] = y\n",
    "    push_notebook()"
   ]
  },
  {
   "cell_type": "markdown",
   "metadata": {},
   "source": [
    "## GUI Styles\n",
    "\n",
    "GUIs come in two styles: Dialog and Event Loop."
   ]
  },
  {
   "cell_type": "markdown",
   "metadata": {},
   "source": [
    "### Dialog\n",
    "\n",
    "This sort of GUI is like a function call. You ask for information, the GUI collects it from the user, and returns to your script. The program flow is still \"traditional\", that is, it is linear and looks like the code we are used to. The drawback, of course, is the GUI is quite limited in what it can do; it's just a glorified dialog box at best.\n",
    "\n",
    "Some frameworks like Tkinter provide a few simple one item dialog boxes. Wrappers like PySimpleGUI provide much more powerful multi-part dialog boxes that can do several things at once (though still remain dialog box-like)."
   ]
  },
  {
   "cell_type": "markdown",
   "metadata": {},
   "source": [
    "#### Tkinter\n",
    "\n",
    "Let's look at the standard library module Tkinter. This became quite a bit easier to use in this mode in the last few Python releases, I believe. The [tutorial here](http://interactivepython.org/runestone/static/CS152f17/GUIandEventDrivenProgramming/02_standard_dialog_boxes.html) looks quite good."
   ]
  },
  {
   "cell_type": "code",
   "execution_count": null,
   "metadata": {},
   "outputs": [],
   "source": [
    "# This will not work unless you are local\n",
    "# or have your x windows display attached to the remote!\n",
    "from tkinter import messagebox, simpledialog"
   ]
  },
  {
   "cell_type": "code",
   "execution_count": null,
   "metadata": {},
   "outputs": [],
   "source": [
    "messagebox.showinfo(\"Information\",\"Informative message\")"
   ]
  },
  {
   "cell_type": "code",
   "execution_count": null,
   "metadata": {},
   "outputs": [],
   "source": [
    "messagebox.askyesno(\"Question\",\"Do you like Python?\")"
   ]
  },
  {
   "cell_type": "code",
   "execution_count": null,
   "metadata": {},
   "outputs": [],
   "source": [
    "simpledialog.askstring(\"Input\", \"What is your first name?\")"
   ]
  },
  {
   "cell_type": "markdown",
   "metadata": {},
   "source": [
    "Notice that ugly dead window that is running? That's the parent window. We could have set it up and controlled it ourselves with `application_window = Tk()`. There is also a separate `tkinker.filedialog` module that has file choice boxes, and a few other things."
   ]
  },
  {
   "cell_type": "markdown",
   "metadata": {},
   "source": [
    "#### PySimpleGUI\n",
    "\n",
    "Let's try PySimpleGUI. You might need to restart your kernel to get rid of the first tkinter root window."
   ]
  },
  {
   "cell_type": "code",
   "execution_count": null,
   "metadata": {},
   "outputs": [],
   "source": [
    "import PySimpleGUI as sg\n",
    "\n",
    "# Very basic window.  Return values as a list\n",
    "\n",
    "layout = [\n",
    "          [sg.Text('Please enter your Name, Address, Phone')],\n",
    "          [sg.Text('Name', size=(15, 1)), sg.InputText('name')],\n",
    "          [sg.Text('Address', size=(15, 1)), sg.InputText('address')],\n",
    "          [sg.Text('Phone', size=(15, 1)), sg.InputText('phone')],\n",
    "          [sg.Submit(), sg.Cancel()]\n",
    "         ]\n",
    "\n",
    "window = sg.Window('Simple data entry window').Layout(layout)\n",
    "button, values = window.Read()\n",
    "window.Close() # Doesn't seem to work for me on Anaconda macOS\n",
    "               # - the window dies instead of closing\n",
    "\n",
    "print(button, *values)"
   ]
  },
  {
   "cell_type": "markdown",
   "metadata": {},
   "source": [
    "See lots more PySimpleGUI [DemoPrograms here](https://github.com/MikeTheWatchGuy/PySimpleGUI/tree/master/DemoPrograms). PySimpleGUI has a Python 2.7 version (called PySimpleGUI27, rather than being the same package), and a *very early* version of PySimpleGUIQt, which uses a Qt backend instead.\n",
    "\n",
    "Due to a bug in Anaconda Python on macOS (possibly just my copy?), the kernel must be restarted to remove the window."
   ]
  },
  {
   "cell_type": "markdown",
   "metadata": {},
   "source": [
    "### Event Loop\n",
    "\n",
    "This style of GUI is very powerful - you can remain in a single window, and buttons and other parts of the GUI drive the computation. The programming style is different and invasive; instead of a linear flow, you write callbacks that get run when a user performs some action. The overall app has to have something powering it; this is the \"event loop\".\n",
    "\n",
    "This is how most GUI frameworks work internally, though wrappers often hide this when they provide the dialog box interfaces. PySimpleGUI seems to do a good job of providing tools and examples for this mode too."
   ]
  },
  {
   "cell_type": "markdown",
   "metadata": {},
   "source": [
    "Let's start with tkinter again:"
   ]
  },
  {
   "cell_type": "code",
   "execution_count": null,
   "metadata": {},
   "outputs": [],
   "source": [
    "import tkinter as tk\n",
    "from tkinter import ttk\n",
    "\n",
    "# Create the application window\n",
    "window = tk.Tk()\n",
    "\n",
    "# Create the user interface\n",
    "my_label = ttk.Label(window, text=\"Hello World!\")\n",
    "my_label.grid(row=1, column=1)\n",
    "\n",
    "# Start the GUI event loop\n",
    "window.mainloop()"
   ]
  },
  {
   "cell_type": "markdown",
   "metadata": {},
   "source": [
    "For an example of how you could use OO programming to orginize this, [try this page](https://python-textbok.readthedocs.io/en/1.0/Introduction_to_GUI_Programming.html)."
   ]
  },
  {
   "cell_type": "markdown",
   "metadata": {},
   "source": [
    "### PyQT or PySide\n",
    "\n",
    "These are low level wrappers around the Qt C++ interface, along with some high level features to make them more pythonic. They are quite verbose, but quite powerful."
   ]
  },
  {
   "cell_type": "code",
   "execution_count": null,
   "metadata": {},
   "outputs": [],
   "source": [
    "from PyQt5.QtWidgets import QApplication, QWidget, QLabel\n",
    "import sys"
   ]
  },
  {
   "cell_type": "code",
   "execution_count": null,
   "metadata": {},
   "outputs": [],
   "source": [
    "app = QApplication(sys.argv)\n",
    "w = QWidget()\n",
    "b = QLabel(w)\n",
    "b.setText(\"Hello World!\")\n",
    "w.setGeometry(100,100,200,50)\n",
    "b.move(50,20)\n",
    "w.setWindowTitle(\"PyQt\")\n",
    "w.show()\n",
    "app.exec_()"
   ]
  },
  {
   "cell_type": "markdown",
   "metadata": {},
   "source": [
    "Note: You must restart your kernel. This was not designed to be run from a notebook/long running process."
   ]
  },
  {
   "cell_type": "markdown",
   "metadata": {},
   "source": [
    "This is what it's supposed to look like, however:"
   ]
  },
  {
   "cell_type": "code",
   "execution_count": null,
   "metadata": {},
   "outputs": [],
   "source": [
    "from PyQt5.QtWidgets import QApplication, QWidget, QPushButton\n",
    "import sys"
   ]
  },
  {
   "cell_type": "code",
   "execution_count": null,
   "metadata": {},
   "outputs": [],
   "source": [
    "class Example(QWidget):\n",
    "    \n",
    "    def __init__(self):\n",
    "        super().__init__()\n",
    "        \n",
    "        self.initUI()\n",
    "        \n",
    "        \n",
    "    def initUI(self):               \n",
    "        \n",
    "        qbtn = QPushButton('Quit', self)\n",
    "        qbtn.clicked.connect(QApplication.instance().quit)\n",
    "        qbtn.resize(qbtn.sizeHint())\n",
    "        qbtn.move(50, 50)       \n",
    "        \n",
    "        self.setGeometry(300, 300, 250, 150)\n",
    "        self.setWindowTitle('Quit button')    \n",
    "        self.show()\n",
    "        \n",
    "        \n",
    "# Normally, you wild include: if __name__ == '__main__':\n",
    "# And sys.exit(app.exec_())\n",
    "    \n",
    "app = QApplication(sys.argv)\n",
    "ex = Example()\n",
    "app.exec_()"
   ]
  }
 ],
 "metadata": {
  "language_info": {
   "codemirror_mode": {
    "name": "ipython",
    "version": 3
   },
   "file_extension": ".py",
   "mimetype": "text/x-python",
   "name": "python",
   "nbconvert_exporter": "python",
   "pygments_lexer": "ipython3",
   "version": "3.7.0"
  }
 },
 "nbformat": 4,
 "nbformat_minor": 2
}
