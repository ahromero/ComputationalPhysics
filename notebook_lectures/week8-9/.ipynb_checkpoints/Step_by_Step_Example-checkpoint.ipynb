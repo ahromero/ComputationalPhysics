{
 "cells": [
  {
   "cell_type": "markdown",
   "id": "e29d5683",
   "metadata": {},
   "source": [
    "Now that we have learn about random walks and diffusion, let us work an example step by step. We are going to simulate the diffusion of a drop of dye in water.\n",
    "\n",
    "Ok, one approache would be to solve the dynamical equations of each of the particles you have in the drop, let say Avogrado's number. This is already VERY difficult for several reasons\n",
    "\n",
    "+ It is too big and storing the positions and velocities of each one of them would be impossible.\n",
    "\n",
    "+ Assuming we reduce the problem, the question is that we will need to solve the equations of motion on each iteration. Maybe too demanding before we see any change\n",
    "\n",
    "Therefore, the best is now using stochastic methods.\n",
    "\n",
    "Ok, now we need to upload the basic packages"
   ]
  },
  {
   "cell_type": "code",
   "execution_count": 1,
   "id": "2ae37c7b",
   "metadata": {},
   "outputs": [],
   "source": [
    "import numpy as np\n",
    "import matplotlib.pylab as plt\n",
    "import scipy"
   ]
  },
  {
   "cell_type": "markdown",
   "id": "21b3cf29",
   "metadata": {},
   "source": [
    "Now, the next step is to create the dye, we are going to assume that we have N number of particles (defined by the user) and they are going to be sitting within a circle (in the example below, I am assuming only 2D but generalization would be simple, though the GUI will take more time."
   ]
  },
  {
   "cell_type": "code",
   "execution_count": 2,
   "id": "56579bf6",
   "metadata": {},
   "outputs": [],
   "source": [
    "#radii of circle\n",
    "r0=1.0\n",
    "\n",
    "rmax=5.0\n",
    "rmax2=rmax*rmax\n",
    "\n",
    "#Number of particles\n",
    "npart=200\n",
    "#dimensionality of my problem\n",
    "ndim=2\n",
    "\n",
    "# we will see why we use sqrt(random) below\n",
    "r = r0 * np.sqrt(np.random.rand(npart))\n",
    "theta = np.random.rand(npart) * 2 * np.pi\n",
    "\n",
    "x = r * np.cos(theta)\n",
    "y = r * np.sin(theta)\n",
    "\n",
    "old=np.array([x,y])"
   ]
  },
  {
   "cell_type": "code",
   "execution_count": 3,
   "id": "47a37c75",
   "metadata": {},
   "outputs": [
    {
     "data": {
      "text/plain": [
       "[<matplotlib.lines.Line2D at 0x7fa6219e1460>]"
      ]
     },
     "execution_count": 3,
     "metadata": {},
     "output_type": "execute_result"
    },
    {
     "data": {
      "image/png": "[encoded data removed]",
      "text/plain": [
       "<Figure size 432x288 with 1 Axes>"
      ]
     },
     "metadata": {
      "needs_background": "light"
     },
     "output_type": "display_data"
    }
   ],
   "source": [
    "plt.plot(x,y,'o')"
   ]
  },
  {
   "cell_type": "markdown",
   "id": "4970e7ee",
   "metadata": {},
   "source": [
    "The average distance between points should be the same regardless of how far from the center we look. For example points at r=0.25 should have the same \"density\" for r=0.5. This means that we need the double of points at r=0.5 to maintain the density, right?\n",
    "\n",
    "Now, since the length of the circle goes as 2πr, therefore the number of points that needs to be created go linear with r. In other words, the desired probability density function (PDF) grows linearly. Since a PDF should have an area equal to 1 and the maximum radius is r0 (which in this example we have defined to be 1.0), then $PDF(r)=2r$. \n",
    "\n",
    "Now, we want to simulate this PDF, how? use the trick of the inversion sampling.\n",
    "\n",
    "Let us go a bit deeper\n",
    "\n",
    "Using Wikipedia\n",
    "\n",
    "\"Inverse transform sampling (also known as inversion sampling, the inverse probability integral transform, the inverse transformation method, Smirnov transform, or the golden rule[1]) is a basic method for pseudo-random number sampling, i.e., for generating sample numbers at random from any probability distribution given its cumulative distribution function.\"\n",
    "\n",
    "Now?\n",
    "\n",
    "\n",
    "+ From the PDF, create the cumulative distribution function (CDF)\n",
    "    \n",
    "+ Mirror this along y = x\n",
    "\n",
    "+ Apply the resulting function to a uniform value between 0 and 1.\n",
    "\n",
    "\n",
    "Step 1: Create the CDF:\n",
    "\n",
    "Since we're working with reals, the CDF is expressed as the integral of the PDF.\n",
    "\n",
    "$CDF(x) = \\int 2x = x^2$\n",
    "\n",
    "Step 2: Mirror the CDF along y = x:\n",
    "\n",
    "Mathematically this boils down to swapping x and y and solving for y:\n",
    "\n",
    "CDF:     $y = x^2$\n",
    "\n",
    "Swap:   $x = y^2$\n",
    "\n",
    "Solve:   $y = \\sqrt{x}$\n",
    "\n",
    "CDF$^{-1}$:  $y = \\sqrt{x}$\n",
    "\n",
    "Step 3: Apply the resulting function to a uniform value between 0 and 1\n",
    "\n",
    "CDF$^{-1}$(random()) = $\\sqrt{\\text{random()}}$\n",
    "\n",
    "\n"
   ]
  },
  {
   "cell_type": "code",
   "execution_count": 4,
   "id": "7fe97854",
   "metadata": {},
   "outputs": [
    {
     "data": {
      "text/plain": [
       "<Figure size 720x720 with 0 Axes>"
      ]
     },
     "execution_count": 4,
     "metadata": {},
     "output_type": "execute_result"
    },
    {
     "data": {
      "text/plain": [
       "<Figure size 720x720 with 0 Axes>"
      ]
     },
     "metadata": {},
     "output_type": "display_data"
    }
   ],
   "source": [
    "#Allow animation\n",
    "plt.ion()\n",
    "\n",
    "# set up graph window\n",
    "plt.figure(figsize=(10,10))"
   ]
  },
  {
   "cell_type": "code",
   "execution_count": 5,
   "id": "ddeeed55",
   "metadata": {},
   "outputs": [],
   "source": [
    "def circle_line_segment_intersection(circle_center, circle_radius, pt1, pt2, full_line=True, tangent_tol=1e-9):\n",
    "    \"\"\" Find the points at which a circle intersects a line-segment.  This can happen at 0, 1, or 2 points.\n",
    "\n",
    "    :param circle_center: The (x, y) location of the circle center\n",
    "    :param circle_radius: The radius of the circle\n",
    "    :param pt1: The (x, y) location of the first point of the segment\n",
    "    :param pt2: The (x, y) location of the second point of the segment\n",
    "    :param full_line: True to find intersections along full line - not just in the segment.  False will just return intersections within the segment.\n",
    "    :param tangent_tol: Numerical tolerance at which we decide the intersections are close enough to consider it a tangent\n",
    "    :return Sequence[Tuple[float, float]]: A list of length 0, 1, or 2, where each element is a point at which the circle intercepts a line segment.\n",
    "\n",
    "    Note: We follow: http://mathworld.wolfram.com/Circle-LineIntersection.html\n",
    "    \"\"\"\n",
    "\n",
    "    (p1x, p1y), (p2x, p2y), (cx, cy) = pt1, pt2, circle_center\n",
    "    (x1, y1), (x2, y2) = (p1x - cx, p1y - cy), (p2x - cx, p2y - cy)\n",
    "    dx, dy = (x2 - x1), (y2 - y1)\n",
    "    dr = (dx ** 2 + dy ** 2)**.5\n",
    "    big_d = x1 * y2 - x2 * y1\n",
    "    discriminant = circle_radius ** 2 * dr ** 2 - big_d ** 2\n",
    "\n",
    "    if discriminant < 0:  # No intersection between circle and line\n",
    "        return []\n",
    "    else:  # There may be 0, 1, or 2 intersections with the segment\n",
    "        intersections = [\n",
    "            (cx + (big_d * dy + sign * (-1 if dy < 0 else 1) * dx * discriminant**.5) / dr ** 2,\n",
    "             cy + (-big_d * dx + sign * abs(dy) * discriminant**.5) / dr ** 2)\n",
    "            for sign in ((1, -1) if dy < 0 else (-1, 1))]  # This makes sure the order along the segment is correct\n",
    "        if not full_line:  # If only considering the segment, filter out intersections that do not fall within the segment\n",
    "            fraction_along_segment = [(xi - p1x) / dx if abs(dx) > abs(dy) else (yi - p1y) / dy for xi, yi in intersections]\n",
    "            intersections = [pt for pt, frac in zip(intersections, fraction_along_segment) if 0 <= frac <= 1]\n",
    "        if len(intersections) == 2 and abs(discriminant) <= tangent_tol:  # If line is tangent to circle, return just one point (as both intersections have same location)\n",
    "            return [intersections[0]]\n",
    "        else:\n",
    "            return intersections"
   ]
  },
  {
   "cell_type": "code",
   "execution_count": 6,
   "id": "da5d583c",
   "metadata": {},
   "outputs": [
    {
     "name": "stdout",
     "output_type": "stream",
     "text": [
      "[[-2.  0.]\n",
      " [ 2.  0.]]\n"
     ]
    }
   ],
   "source": [
    "d=circle_line_segment_intersection([0,0], 2.0, [0,0], [3,0],True)\n",
    "print(np.array(d))"
   ]
  },
  {
   "cell_type": "code",
   "execution_count": 7,
   "id": "11e16d8b",
   "metadata": {},
   "outputs": [
    {
     "name": "stdout",
     "output_type": "stream",
     "text": [
      "Press return to continue\n"
     ]
    },
    {
     "data": {
      "image/png": "[encoded data removed]",
      "text/plain": [
       "<Figure size 432x288 with 1 Axes>"
      ]
     },
     "metadata": {
      "needs_background": "light"
     },
     "output_type": "display_data"
    }
   ],
   "source": [
    "#show initial configuration\n",
    "\n",
    "line, = plt.plot(old[0,:], old[1,:], 'ro')\n",
    "plt.xlim(-5,5)\n",
    "plt.ylim(-5,5)\n",
    "plt.draw()\n",
    "\n",
    "wait = input(\"Press return to continue\")"
   ]
  },
  {
   "cell_type": "code",
   "execution_count": 9,
   "id": "412f5929",
   "metadata": {},
   "outputs": [],
   "source": [
    "# Number of steps\n",
    "\n",
    "N = 100\n",
    "\n",
    "p=np.zeros(2)\n",
    "\n",
    "for i in range(N):\n",
    "\n",
    "    #print('iteration =',i)\n",
    "    r = 0.1*np.sqrt(np.random.rand(npart))\n",
    "    theta = np.random.rand(npart) * 2 * np.pi\n",
    "    x = r * np.cos(theta)\n",
    "    y = r * np.sin(theta)\n",
    "    new = old + np.array([x,y])\n",
    "    r = np.sum(new**2,axis=0)\n",
    "\n",
    "    for j in range (npart):\n",
    "            oldpos=old[:,j]\n",
    "            newpos=new[:,j]\n",
    "            \n",
    "            while np.linalg.norm(newpos)> rmax:\n",
    "                \n",
    "                out=np.array(circle_line_segment_intersection([0,0], rmax, oldpos, newpos, True))\n",
    "                d1=np.sqrt((out[0,0]-newpos[0])**2+(out[0,1]-newpos[1])**2)\n",
    "                d2=np.sqrt((out[1,0]-newpos[0])**2+(out[1,1]-newpos[1])**2)\n",
    "                if d1<d2:\n",
    "                    p[0]=out[0,0]\n",
    "                    p[1]=out[0,1]\n",
    "                else:\n",
    "                    p[0]=out[1,0]\n",
    "                    p[1]=out[1,1]\n",
    "                a=newpos-p #Find the vector from the intersection point to the new point\n",
    "                newpos=newpos-2*(np.dot(p,a)/np.linalg.norm(p)**2)*p\n",
    "                oldpos=p\n",
    "                \n",
    "            old[:,j]=newpos\n",
    "            new[:,j]=oldpos\n",
    "     \n",
    "    if (i%20 == 0):\n",
    "    # See how things look now.\n",
    "        line.set_xdata(new[0,:])\n",
    "        line.set_ydata(new[1,:])\n",
    "        plt.draw()\n",
    "        #wait = input(\"Press return to exit\")"
   ]
  },
  {
   "cell_type": "code",
   "execution_count": null,
   "id": "13f5c60d",
   "metadata": {},
   "outputs": [],
   "source": []
  }
 ],
 "metadata": {
  "kernelspec": {
   "display_name": "Python 3 (ipykernel)",
   "language": "python",
   "name": "python3"
  },
  "language_info": {
   "codemirror_mode": {
    "name": "ipython",
    "version": 3
   },
   "file_extension": ".py",
   "mimetype": "text/x-python",
   "name": "python",
   "nbconvert_exporter": "python",
   "pygments_lexer": "ipython3",
   "version": "3.8.10"
  }
 },
 "nbformat": 4,
 "nbformat_minor": 5
}
