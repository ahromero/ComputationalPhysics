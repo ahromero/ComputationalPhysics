{
 "cells": [
  {
   "cell_type": "markdown",
   "metadata": {},
   "source": [
    "# Week 7 Day 1: Worksheet\n",
    "\n",
    "Load the following example dataset:"
   ]
  },
  {
   "cell_type": "code",
   "execution_count": null,
   "metadata": {},
   "outputs": [],
   "source": [
    "import seaborn as sns\n",
    "import pandas as pd\n",
    "import numpy as np\n",
    "import matplotlib.pyplot as plt\n",
    "\n",
    "df = sns.load_dataset(\"titanic\")\n",
    "# Note: if you have problems, try:\n",
    "# df = pd.read_csv('https://raw.githubusercontent.com/mwaskom/seaborn-data/master/titanic.csv')"
   ]
  },
  {
   "cell_type": "markdown",
   "metadata": {},
   "source": [
    "### 1: Look at the data\n",
    "\n",
    "What does the dataset look like? (Most importantly, what are the column names)"
   ]
  },
  {
   "cell_type": "markdown",
   "metadata": {},
   "source": [
    "## 2: Cleanup\n",
    "\n",
    "### 2.1\n",
    "Modify the dataset to provide more reasonable dtypes.\n",
    "* `survived` can be bool\n",
    "* `alive` can be bool (a little tricker)\n",
    "* `pclass`, `sex`, `embarked`, `who`, and `embark_town` can be categorical\n",
    "\n",
    "Remember, you are modifying the DataFrame, so you'll probably not be able to rerun this cell without rerunning the one before it.\n",
    "\n",
    "<!--\n",
    "df.survived = df.survived.astype('bool')\n",
    "df.pclass = df.pclass.astype('category')\n",
    "df.sex = df.sex.astype('category')\n",
    "df.embarked = df.embarked.astype('category')\n",
    "df.who = df.who.astype('category')\n",
    "df.embark_town = df.embark_town.astype('category')\n",
    "df.alive = df.alive == 'yes'\n",
    "-->"
   ]
  },
  {
   "cell_type": "markdown",
   "metadata": {},
   "source": [
    "## 2.2\n",
    "What categories does `who` come in?"
   ]
  },
  {
   "cell_type": "markdown",
   "metadata": {},
   "source": [
    "## 2.3\n",
    "\n",
    "For our purposes, we should have `child=bool`, `sex=category`, and we can drop `adult_male` and `who` columns. You can use the Python `del` statement to delete columns."
   ]
  },
  {
   "cell_type": "markdown",
   "metadata": {},
   "source": [
    "## 3: Several questions"
   ]
  },
  {
   "cell_type": "markdown",
   "metadata": {},
   "source": [
    "What fraction survived the titanic (in the dataset we have)?"
   ]
  },
  {
   "cell_type": "markdown",
   "metadata": {},
   "source": [
    "What fraction of children survived the Titanic?"
   ]
  },
  {
   "cell_type": "markdown",
   "metadata": {},
   "source": [
    "What was the average fare of each class of adult passenger `pclass`?"
   ]
  },
  {
   "cell_type": "markdown",
   "metadata": {},
   "source": [
    "## 4: Plotting\n",
    "\n",
    "A bit tricky: Plot a stacked histogram binned over age (10 or 20 bins for 0-100) of alive vs. not alive passengers. You probably will find yourself filtering out the NaN's if you use matplotlib directly (which I think you need to)."
   ]
  }
 ],
 "metadata": {
  "kernelspec": {
   "display_name": "compclass",
   "language": "python",
   "name": "compclass"
  },
  "language_info": {
   "codemirror_mode": {
    "name": "ipython",
    "version": 3
   },
   "file_extension": ".py",
   "mimetype": "text/x-python",
   "name": "python",
   "nbconvert_exporter": "python",
   "pygments_lexer": "ipython3",
   "version": "3.8.2"
  }
 },
 "nbformat": 4,
 "nbformat_minor": 4
}
