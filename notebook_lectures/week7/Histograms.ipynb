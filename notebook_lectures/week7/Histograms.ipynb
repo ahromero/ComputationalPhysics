{
 "cells": [
  {
   "cell_type": "markdown",
   "metadata": {},
   "source": [
    "# Week 7 Day 2: Cuts and histograms\n",
    "\n",
    "## Objectives\n",
    "\n",
    "* Learn about manipulating realistic data sets\n",
    "* Look about making cuts by looking at histograms\n",
    "* Learn to install package locally on OSC\n",
    "\n",
    "> Note that the answers are hidden in this notebook. Please try first, then you can reveal the answer by double-clicking the markdown cell above the input cell."
   ]
  },
  {
   "cell_type": "markdown",
   "metadata": {},
   "source": [
    "The datafiles we'll be looking at today are realistic files from LHCb. Please do not distribute to anyone outside our class. The data is high energy physics data, but most of the concepts generalize to other statistical fields.\n",
    "\n",
    "Like most high energy physics data, our files sit in ROOT - a special custom C++ behemoth. Since we don't have the (many) hours required to install ROOT, and installing ROOT inside an Anaconda environment is a nightmare, we'll use the pure-python [uproot](https://uproot.readthedocs.io/en/latest/) package to read in the data.\n",
    "\n",
    "If you don't have uproot, run:\n",
    "\n",
    "```python\n",
    "!pip install --user uproot\n",
    "```\n",
    "\n",
    "And then restart your kernel. This will install to `~/.local`. (Your user directory is called `~` or `$HOME` in Unix.)"
   ]
  },
  {
   "cell_type": "code",
   "execution_count": null,
   "metadata": {},
   "outputs": [],
   "source": [
    "import uproot"
   ]
  },
  {
   "cell_type": "markdown",
   "metadata": {},
   "source": [
    "Feel free to change this from `inline` to `notebook`; just be careful to not keep plotting to the same output figure."
   ]
  },
  {
   "cell_type": "code",
   "execution_count": null,
   "metadata": {},
   "outputs": [],
   "source": [
    "%matplotlib inline"
   ]
  },
  {
   "cell_type": "code",
   "execution_count": null,
   "metadata": {},
   "outputs": [],
   "source": [
    "import matplotlib.pyplot as plt\n",
    "import numpy as np"
   ]
  },
  {
   "cell_type": "markdown",
   "metadata": {},
   "source": [
    "Note: normally, we should open a file like:\n",
    "\n",
    "```python\n",
    "with open(...) as f:\n",
    "    ... # open file\n",
    "... # file automatically closed\n",
    "```\n",
    "\n",
    "However, in uproot, files are opened and closed on each read, so while you can structure your code like this, is isn't necessary."
   ]
  },
  {
   "cell_type": "code",
   "execution_count": null,
   "metadata": {},
   "outputs": [],
   "source": [
    "f = uproot.open(\"/fs/project/PES0765/tutorial_data/DVntuple-March04A.root\")\n",
    "# f = uproot.open('/data/tutorial/DVntuple-March04A.root')"
   ]
  },
  {
   "cell_type": "markdown",
   "metadata": {},
   "source": [
    "We have several \"directories\" in here, each with a single \"NTuple\" or \"TTree\" with `Decay` in the name - don't worry about the ROOT centric terminology, these are just tabular data! Let's grab one:"
   ]
  },
  {
   "cell_type": "code",
   "execution_count": null,
   "metadata": {},
   "outputs": [],
   "source": [
    "XiDecayTuple = f[\"myXiTuple\"][\"XiDecayTuple\"]\n",
    "myLcTuple = f[\"myLcTuple\"][\"DecayTree\"]"
   ]
  },
  {
   "cell_type": "code",
   "execution_count": null,
   "metadata": {},
   "outputs": [],
   "source": [
    "print(f\"XiDecayTuple number of events: {len(XiDecayTuple):,}\")\n",
    "print(f\"myLcTuple number of events: {len(myLcTuple):,}\")"
   ]
  },
  {
   "cell_type": "markdown",
   "metadata": {},
   "source": [
    "We could continue to use the \"ROOT\"like uproot interface, but why? Let's read the whole thing in as a DataFrame! Note that at this point, the data will sit in memory (since Pandas is in-memory only)."
   ]
  },
  {
   "cell_type": "markdown",
   "metadata": {},
   "source": [
    "The NTuple contains \"JaggedArrays\" or \"AwkwardArrays\", arrays that have a different number of columns per row. We'll simply filter those out manually for now. We could use an hierarchical index in Pandas instead, but this would waist memory and is buggy at the moment. We could also read the data in as python lists, but since we don't need it, we'll filter it instead."
   ]
  },
  {
   "cell_type": "code",
   "execution_count": null,
   "metadata": {},
   "outputs": [],
   "source": [
    "# Uproot bug causes crash (and would be hierarchical index if it worked):\n",
    "#     df = t.pandas.df(entrystop=100_000, flatten=True)\n",
    "#\n",
    "# My proposal: https://github.com/scikit-hep/uproot/pull/157\n",
    "#     df = t.pandas.df(entrystop=100_000, flatten=None)\n",
    "#\n",
    "# A bit wasteful in memory:\n",
    "#     df = t.pandas.df(entrystop=100_000, flatten=False)\n",
    "#\n",
    "# I haven't shown you lambda functions, but this is supported by uproot:\n",
    "#     df = t.pandas.df(lambda x: x.interpretation if not isinstance(x.interpretation, uproot.asjagged) else None)\n",
    "\n",
    "good_keys = [\n",
    "    key\n",
    "    for key in XiDecayTuple.keys()\n",
    "    if not isinstance(XiDecayTuple[key].interpretation, uproot.asjagged)\n",
    "]\n",
    "xi = XiDecayTuple.pandas.df(good_keys, entrystop=100_000)"
   ]
  },
  {
   "cell_type": "code",
   "execution_count": null,
   "metadata": {},
   "outputs": [],
   "source": [
    "xi.info()"
   ]
  },
  {
   "cell_type": "code",
   "execution_count": null,
   "metadata": {},
   "outputs": [],
   "source": [
    "xi.head()"
   ]
  },
  {
   "cell_type": "markdown",
   "metadata": {},
   "source": [
    "The dataset uses prefixes. Can you find the unique set of prefixes of column names?\n",
    "\n",
    "<!--\n",
    "# keys(), columns, and indexes[2] all work\n",
    "# Pandas way\n",
    "set(xi.columns.str.split('_').str[0])\n",
    "# Comprehension way:\n",
    "set(name.split('_')[0] for name in xi.keys() if '_' in name)\n",
    "# On the comprehension we actually can filter on strings that contain a _, giving a better result.\n",
    "-->"
   ]
  },
  {
   "cell_type": "markdown",
   "metadata": {},
   "source": [
    "How much memory would you need to load the whole file? (with our filter, at least) - just approximate it by hand.\n",
    "\n",
    "<!--\n",
    "about 4 GB\n",
    "-->"
   ]
  },
  {
   "cell_type": "markdown",
   "metadata": {},
   "source": [
    "This is particle physics data from LHCb. We are looking at the following decay:\n",
    "\n",
    "$$\n",
    "\\Xi^- \\rightarrow \\Lambda^0 \\pi^-, \\quad \\Lambda^0 \\rightarrow p \\pi^-\n",
    "$$\n",
    "\n",
    "We will use the names:\n",
    "\n",
    "| Particle                  | Prefix        | Type  | PDG Mass (MeV) |\n",
    "|---------------------------|---------------|-------|----------------|\n",
    "| $\\Xi^-$                   | `Xi_`         | Recon  |   1321.71     |\n",
    "| $\\Lambda^-$ from $\\Xi^-$  | `Lambda_`     | Recon   |  1115.683    |\n",
    "| $\\pi^-$ from $\\Xi^-$      | `PropmtPi_`   | Observed | 139.571     |\n",
    "| $p$ from $\\Lambda^-$      | `DecayPr_`    | Observed | 938.272     |\n",
    "| $\\pi^-$ from $\\Lambda^-$  | `DecayPi_`    | Observed | 139.571     |\n",
    "\n",
    "Let's plot the $\\Xi^-$ mass:\n",
    "\n",
    "<!--\n",
    "xi['Xi_MM'].plot.hist(bins=100);\n",
    "-->"
   ]
  },
  {
   "cell_type": "markdown",
   "metadata": {},
   "source": [
    "How about the $\\Lambda^0$ mass?\n",
    "\n",
    "<!--\n",
    "xi['Lambda_MM'].plot.hist(bins=100);\n",
    "-->"
   ]
  },
  {
   "cell_type": "markdown",
   "metadata": {},
   "source": [
    "In the original document, we were asked to look at the $\\Lambda^0$ mass for good $\\Xi^-$, and bad $\\Xi^-$ candidates. Let's make some cuts on the $\\Xi^-$ mass. Try good candidates from 1315 to 1327 MeV and bad candidates that are more than 5 MeV from that range.\n",
    "\n",
    "<!--\n",
    "good_cut = (xi['Xi_MM'] > 1315) & (xi['Xi_MM'] < 1327)\n",
    "bad_cut = (xi['Xi_MM'] < 1315-5) | (xi['Xi_MM'] > 1327+5)\n",
    "-->"
   ]
  },
  {
   "cell_type": "code",
   "execution_count": null,
   "metadata": {},
   "outputs": [],
   "source": [
    "good_cut = ...\n",
    "bad_cut = ..."
   ]
  },
  {
   "cell_type": "code",
   "execution_count": null,
   "metadata": {},
   "outputs": [],
   "source": [
    "fix, axs = plt.subplots(1, 2, figsize=(12, 5))\n",
    "xi.loc[good_cut, \"Lambda_MM\"].plot.hist(bins=100, ax=axs[0])\n",
    "xi.loc[bad_cut, \"Lambda_MM\"].plot.hist(bins=100, ax=axs[1])\n",
    "plt.show()"
   ]
  },
  {
   "cell_type": "markdown",
   "metadata": {},
   "source": [
    "Let's try another common trick: we'll look at the plot of the $\\Xi^-$ mass were we've replaced the original $\\Lambda^0$ mass with the known mass (essentially collapsing the distribution we saw before into a delta function). Due to a first-order approximation, we can just subtract the measured mass and replace it with the known mass. (Here I'm using \"known\" to indicate that it is an exact value, not that we actually truly know that exact value.)\n",
    "\n",
    "<!--\n",
    "(xi['Xi_MM'] - xi['Lambda_MM'] + 1115.6).plot.hist(bins=100);\n",
    "-->"
   ]
  },
  {
   "cell_type": "markdown",
   "metadata": {},
   "source": [
    "## Part 2: Another decay"
   ]
  },
  {
   "cell_type": "markdown",
   "metadata": {},
   "source": [
    "This is particle physics data from LHCb again. We are looking at the following decay:\n",
    "\n",
    "$$\n",
    "\\Lambda_c^{+} \\rightarrow \\Xi^{-} K^{+} \\pi^{+}, \\quad \\Xi^- \\rightarrow \\Lambda^0 \\pi^-, \\quad \\Lambda^0 \\rightarrow p \\pi^-\n",
    "$$\n",
    "\n",
    "We will use the names:\n",
    "\n",
    "| Particle                  | Prefix        | Type     | PDG Mass (MeV) |\n",
    "|---------------------------|---------------|----------|----------------|\n",
    "| $\\Lambda_C^+$             | `LambdaC_`    | Recon    | 2286.46        |\n",
    "| $K^+$ from $\\Lambda_C^+$  | `PromptK_`    | Observed | 493.677        |\n",
    "| $\\pi^+$ from $\\Lambda_C^+$| `PropmtPi_`   | Observed | 139.571        |\n",
    "| $\\Xi^-$ from $\\Lambda_C^+$| `Ximinus_`    | Recon    | 1321.71        |\n",
    "| $\\Lambda^-$ from $\\Xi^-$  | `Lambda_`     | Recon    | 1115.683       |\n",
    "| $\\pi^-$ from $\\Xi^-$      | `XiPi_`       | Observed | 139.571        |\n",
    "| $p$ from $\\Lambda^-$      | `LambdaPr_`   | Observed | 938.272        |\n",
    "| $\\pi^-$ from $\\Lambda^-$  | `LambdaPi_`   | Observed | 139.571        |"
   ]
  },
  {
   "cell_type": "code",
   "execution_count": null,
   "metadata": {},
   "outputs": [],
   "source": [
    "lc = myLcTuple.pandas.df(\n",
    "    lambda x: None\n",
    "    if isinstance(x.interpretation, uproot.asjagged)\n",
    "    else x.interpretation\n",
    ")"
   ]
  },
  {
   "cell_type": "code",
   "execution_count": null,
   "metadata": {},
   "outputs": [],
   "source": [
    "lc.head()"
   ]
  },
  {
   "cell_type": "markdown",
   "metadata": {},
   "source": [
    "Let's plot the $\\Lambda_C^-$ mass:\n",
    "\n",
    "<!--\n",
    "lc['LambdaC_MM'].plot.hist(bins=100);\n",
    "-->"
   ]
  },
  {
   "cell_type": "markdown",
   "metadata": {},
   "source": [
    "Yikes! That is not as clean as what we had before. Let's see if we can make some cuts to fix this up!\n",
    "\n",
    "We'll start by making a background subtracted distribution. We'll select \"signal + background\", and we'll select \"background\". Then we can subtract the two (making sure to account for differences in acceptance), and that will give us a way to decide where to cut.\n",
    "\n",
    "Hopefully obviously, we want to reduce background without reducing too much signal.\n",
    "\n",
    "<!--\n",
    "signal_cut = (lc['LambdaC_MM'] > 2287.5 - 5) & (lc['LambdaC_MM'] < 2287.5 + 5)\n",
    "background_cut_lower = (lc['LambdaC_MM'] > 2250-5) & (lc['LambdaC_MM'] < 2250+5)\n",
    "background_cut_upper = (lc['LambdaC_MM'] > 2320-5) & (lc['LambdaC_MM'] < 2320+5)\n",
    "background_cut = background_cut_upper | background_cut_lower\n",
    "-->"
   ]
  },
  {
   "cell_type": "code",
   "execution_count": null,
   "metadata": {},
   "outputs": [],
   "source": [
    "signal_cut = ...\n",
    "background_cut_lower = ...\n",
    "background_cut_upper = ...\n",
    "background_cut = ..."
   ]
  },
  {
   "cell_type": "markdown",
   "metadata": {},
   "source": [
    "Let's make a histogram of $\\Lambda_C^-$ mass with three colors, one for signal_cut, one for background_cut, and one for the remaining parts."
   ]
  },
  {
   "cell_type": "code",
   "execution_count": null,
   "metadata": {},
   "outputs": [],
   "source": [
    "plt.hist(\n",
    "    [\n",
    "        lc.loc[signal_cut, \"LambdaC_MM\"],\n",
    "        lc.loc[background_cut, \"LambdaC_MM\"],\n",
    "        lc.loc[~(background_cut | signal_cut), \"LambdaC_MM\"],\n",
    "    ],\n",
    "    bins=np.arange(2235, 2335.5, 0.5),\n",
    "    stacked=True,\n",
    "    label=[\"Signal + background\", \"Background\", \"Other\"],\n",
    ")\n",
    "plt.xlabel(\"$\\Xi^{-} K^{+} \\pi^{+}$ mass [MeV]\")\n",
    "plt.ylabel(\"Events per 1/2 MeV\")\n",
    "plt.legend()"
   ]
  },
  {
   "cell_type": "markdown",
   "metadata": {},
   "source": [
    "Let's make a plot where we look at a distribution, such as `'PromptK_ProbNNk'`, with signal and background. You should make the histograms by hand (ie, use `np.histogram` to name hsb and hb), then plot `hsb*2-hb`.\n",
    "\n",
    "<!--\n",
    "hsb, _ = np.histogram(lc.loc[signal_cut,'PromptK_ProbNNk'], bins=np.linspace(0,1,20))\n",
    "hb, edges = np.histogram(lc.loc[background_cut,'PromptK_ProbNNk'], bins=np.linspace(0,1,20))\n",
    "bins = (edges[1:] + edges[:-1])/2\n",
    "\n",
    "plt.plot(bins, hsb*2 - hb, 'o', label='signal')\n",
    "plt.plot(bins, hb, 'o', label='background')\n",
    "plt.grid()\n",
    "plt.legend();\n",
    "-->"
   ]
  },
  {
   "cell_type": "markdown",
   "metadata": {},
   "source": [
    "Select and make a `PromptK_ProbNNk_cut`.\n",
    "\n",
    "<!--\n",
    "PromptK_ProbNNk_cut = lc['PromptK_ProbNNk'] > .5\n",
    "-->"
   ]
  },
  {
   "cell_type": "markdown",
   "metadata": {},
   "source": [
    "Now plot the histograms before and after cuts of the $\\Lambda_C^-$ mass.\n",
    "\n",
    "<!--\n",
    "plt.hist(lc.loc[:, 'LambdaC_MM'],\n",
    "         bins=np.arange(2235, 2335.5, 1),\n",
    "         color='k', label='Original',\n",
    "         histtype='step')\n",
    "plt.hist(lc.loc[PromptK_ProbNNk_cut, 'LambdaC_MM'],\n",
    "         color='g', label='After cut',\n",
    "         bins=np.arange(2235, 2335.5, 1))\n",
    "plt.hist(lc.loc[~PromptK_ProbNNk_cut, 'LambdaC_MM'],\n",
    "         bins=np.arange(2235, 2335.5, 1),\n",
    "         color='r', label='Before cut',\n",
    "         histtype='step')\n",
    "plt.xlabel('$\\Xi^{-} K^{+} \\pi^{+}$ mass [MeV]')\n",
    "plt.ylabel('Events per MeV')\n",
    "plt.legend();\n",
    "-->"
   ]
  },
  {
   "cell_type": "markdown",
   "metadata": {},
   "source": [
    "You should make functions out of the last two plotting codes, and then use them to run the same test on `'LambdaC_TAU'`, the lifetime (travel distance) of the $\\Lambda_C^-$.\n",
    "\n",
    "<!--\n",
    "def bg_sub_hist(lc, signal_cut, background_cut, variable, bins=100):\n",
    "    hs, _ = np.histogram(lc.loc[signal_cut, variable], bins=bins)\n",
    "    hb, edges = np.histogram(lc.loc[background_cut, variable], bins=bins)\n",
    "    bins = (edges[1:] + edges[:-1])/2\n",
    "\n",
    "    plt.plot(bins, hs*2 - hb, '.', label='signal')\n",
    "    plt.plot(bins, hb, '.', label='background')\n",
    "    plt.grid()\n",
    "    plt.legend();\n",
    "-->"
   ]
  },
  {
   "cell_type": "code",
   "execution_count": null,
   "metadata": {},
   "outputs": [],
   "source": [
    "bg_sub_hist(lc, signal_cut, background_cut, \"LambdaC_TAU\", np.linspace(0, 0.01))"
   ]
  },
  {
   "cell_type": "markdown",
   "metadata": {},
   "source": [
    "And the other one:\n",
    "\n",
    "<!--\n",
    "def final_plot(lc, cuts):\n",
    "    plt.hist(lc.loc[:, 'LambdaC_MM'],\n",
    "             bins=np.arange(2235, 2335.5, 1),\n",
    "             color='k', label='Original',\n",
    "             histtype='step')\n",
    "    plt.hist(lc.loc[cuts, 'LambdaC_MM'],\n",
    "             color='g', label='After cut',\n",
    "             bins=np.arange(2235, 2335.5, 1))\n",
    "    plt.hist(lc.loc[~cuts, 'LambdaC_MM'],\n",
    "             bins=np.arange(2235, 2335.5, 1),\n",
    "             color='r', label='Before cut',\n",
    "             histtype='step')\n",
    "    plt.xlabel('$\\Xi^{-} K^{+} \\pi^{+}$ mass [MeV]')\n",
    "    plt.ylabel('Events per MeV')\n",
    "    plt.legend();\n",
    "-->"
   ]
  },
  {
   "cell_type": "code",
   "execution_count": null,
   "metadata": {},
   "outputs": [],
   "source": [
    "final_plot(lc[PromptK_ProbNNk_cut], lc[\"LambdaC_TAU\"] > 0.0005)"
   ]
  }
 ],
 "metadata": {
  "kernelspec": {
   "display_name": "compclass",
   "language": "python",
   "name": "compclass"
  },
  "language_info": {
   "codemirror_mode": {
    "name": "ipython",
    "version": 3
   },
   "file_extension": ".py",
   "mimetype": "text/x-python",
   "name": "python",
   "nbconvert_exporter": "python",
   "pygments_lexer": "ipython3",
   "version": "3.8.2"
  }
 },
 "nbformat": 4,
 "nbformat_minor": 4
}
