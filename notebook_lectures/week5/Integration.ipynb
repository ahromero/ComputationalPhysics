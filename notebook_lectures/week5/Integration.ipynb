{
 "cells": [
  {
   "cell_type": "markdown",
   "metadata": {},
   "source": [
    "# Numerical Integration\n",
    "\n",
    "## Objectives\n",
    "* Learn to implement a few simple integration routines\n",
    "* Use built-in tools (Numpy and Scipy) to integrate\n",
    "* Study best practices"
   ]
  },
  {
   "cell_type": "markdown",
   "metadata": {},
   "source": [
    "Standard imports"
   ]
  },
  {
   "cell_type": "code",
   "execution_count": null,
   "metadata": {},
   "outputs": [],
   "source": [
    "%matplotlib notebook\n",
    "import numpy as np\n",
    "import matplotlib.pyplot as plt"
   ]
  },
  {
   "cell_type": "markdown",
   "metadata": {},
   "source": [
    "Aside: I wanted to setup a fun function to integrate. Here's how I played with a polynomial till I got one I liked. First, make a (mostly empty) plot to put our interactive output:"
   ]
  },
  {
   "cell_type": "code",
   "execution_count": null,
   "metadata": {},
   "outputs": [],
   "source": [
    "from ipywidgets import interact"
   ]
  },
  {
   "cell_type": "code",
   "execution_count": null,
   "metadata": {},
   "outputs": [],
   "source": [
    "x = np.linspace(0, 10)"
   ]
  },
  {
   "cell_type": "code",
   "execution_count": null,
   "metadata": {},
   "outputs": [],
   "source": [
    "fig, ax = plt.subplots()\n",
    "(lines,) = plt.plot([], [])\n",
    "ax.set_xlim(0, 10)\n",
    "ax.set_ylim(-10, 10)\n",
    "plt.show()"
   ]
  },
  {
   "cell_type": "code",
   "execution_count": null,
   "metadata": {},
   "outputs": [],
   "source": [
    "def f(a=(-1.0, 1.0), b=(-1.0, 1.0), c=(-10.0, 10.0), d=(-10.0, 10.0)):\n",
    "    lines.set_data(x, np.poly1d([a, b, c, d, 0])(x))\n",
    "\n",
    "\n",
    "interact(f)"
   ]
  },
  {
   "cell_type": "markdown",
   "metadata": {},
   "source": [
    "## Trapezoid"
   ]
  },
  {
   "cell_type": "markdown",
   "metadata": {},
   "source": [
    "Okay, I have something I like. Let's compute:\n",
    "\n",
    "$$\n",
    "Ax^4 + Bx^3 + Cx^2 + Dx + E\n",
    "$$\n",
    "\n",
    "Where $A=-0.1, B=1.0, C=-3.1, D=3.6, E=0.5$. I've just picked nice numbers to give an interesting plot and integral."
   ]
  },
  {
   "cell_type": "code",
   "execution_count": null,
   "metadata": {},
   "outputs": [],
   "source": [
    "x = np.linspace(0, 5.5, 500)\n",
    "f = np.poly1d([-0.1, 1.0, -3.1, 3.6, 0.5])\n",
    "y = f(x)\n",
    "x_i = np.linspace(0, 5.5, 4)\n",
    "y_i = f(x_i)\n",
    "\n",
    "fig, ax = plt.subplots()\n",
    "plt.plot(x, y)\n",
    "plt.plot(x_i, y_i, \"o-r\")\n",
    "plt.plot(x_i, y_i * 0, \"o-r\")\n",
    "plt.vlines(x_i, y_i * 0, y_i, \"r\")\n",
    "plt.show()"
   ]
  },
  {
   "cell_type": "markdown",
   "metadata": {},
   "source": [
    "Let's try integrating with several different values of N (picking odd values for later use - we could have even numbers if we wanted). Let's also compare with `np.trapz`."
   ]
  },
  {
   "cell_type": "code",
   "execution_count": null,
   "metadata": {},
   "outputs": [],
   "source": [
    "for i in 3, 5, 7, 11, 21, 101, 1001:\n",
    "    x_i = np.linspace(0, 5.5, i)\n",
    "    y_i = f(x_i)\n",
    "    h = np.diff(x_i)[0]\n",
    "    my_intg = 1 / 2 * h * np.sum(y_i[:-1] + y_i[1:])\n",
    "    of_intg = np.trapz(y_i, x_i)\n",
    "    print(f\"{i: 5} {my_intg: 16.12f} {of_intg: 16.12f}\")"
   ]
  },
  {
   "cell_type": "markdown",
   "metadata": {},
   "source": [
    "We can also calculate the exact value, since it's just a polynomial. In fact, since we built it with a specialized class in numpy, we can just call `.integ` to get the analytic integral (and then we call that with our points):"
   ]
  },
  {
   "cell_type": "code",
   "execution_count": null,
   "metadata": {},
   "outputs": [],
   "source": [
    "f.integ()(5.5)"
   ]
  },
  {
   "cell_type": "markdown",
   "metadata": {},
   "source": [
    "### Simpson's rule\n",
    "\n",
    "We'll get the `integrate` subpackage from scipy - it has a lot of integration functions."
   ]
  },
  {
   "cell_type": "code",
   "execution_count": null,
   "metadata": {},
   "outputs": [],
   "source": [
    "from scipy import integrate"
   ]
  },
  {
   "cell_type": "markdown",
   "metadata": {},
   "source": [
    "Let's make sure we are selecting the times we want with our indexing expressions:"
   ]
  },
  {
   "cell_type": "code",
   "execution_count": null,
   "metadata": {},
   "outputs": [],
   "source": [
    "index = list(range(7))\n",
    "index[:-1:2], index[1::2], index[2::2]"
   ]
  },
  {
   "cell_type": "markdown",
   "metadata": {},
   "source": [
    "Looks good! Now let's try the rule, comparing with `integrate.simps`:"
   ]
  },
  {
   "cell_type": "code",
   "execution_count": null,
   "metadata": {},
   "outputs": [],
   "source": [
    "for i in 3, 5, 7, 11, 21, 101, 1001:\n",
    "    x_i = np.linspace(0, 5.5, i)\n",
    "    y_i = f(x_i)\n",
    "    h = np.diff(x_i)[0]\n",
    "    my_intg = 1 / 3 * h * np.sum(y_i[:-1:2] + 4 * y_i[1::2] + y_i[2::2])\n",
    "    of_intg = integrate.simps(y_i, x_i)\n",
    "    print(f\"{i: 5} {my_intg: 16.12f} {of_intg: 16.12f}\")"
   ]
  },
  {
   "cell_type": "markdown",
   "metadata": {},
   "source": [
    "## Gaussian quadrature"
   ]
  },
  {
   "cell_type": "code",
   "execution_count": null,
   "metadata": {},
   "outputs": [],
   "source": [
    "p = np.poly1d([7, -8, -3, 3])"
   ]
  },
  {
   "cell_type": "code",
   "execution_count": null,
   "metadata": {},
   "outputs": [],
   "source": [
    "x = np.linspace(-1, 1)\n",
    "fig, ax = plt.subplots()\n",
    "ax.plot(x, p(x))\n",
    "plt.show()"
   ]
  },
  {
   "cell_type": "code",
   "execution_count": null,
   "metadata": {},
   "outputs": [],
   "source": [
    "p.integ()(1) - p.integ()(-1)"
   ]
  },
  {
   "cell_type": "code",
   "execution_count": null,
   "metadata": {},
   "outputs": [],
   "source": [
    "p(-np.sqrt(1 / 3)) + p(np.sqrt(1 / 3))"
   ]
  },
  {
   "cell_type": "markdown",
   "metadata": {},
   "source": [
    "### Optional: Use SymPy (Symbolic library for Python) to pretty print"
   ]
  },
  {
   "cell_type": "code",
   "execution_count": null,
   "metadata": {},
   "outputs": [],
   "source": [
    "from sympy.abc import x\n",
    "import sympy\n",
    "\n",
    "sympy.init_printing()"
   ]
  },
  {
   "cell_type": "code",
   "execution_count": null,
   "metadata": {},
   "outputs": [],
   "source": [
    "p(x).expand()"
   ]
  },
  {
   "cell_type": "code",
   "execution_count": null,
   "metadata": {},
   "outputs": [],
   "source": [
    "p(x).integrate(x).expand()"
   ]
  },
  {
   "cell_type": "markdown",
   "metadata": {},
   "source": [
    "### Making Gaussian quadrature:"
   ]
  },
  {
   "cell_type": "markdown",
   "metadata": {},
   "source": [
    "Slightly improved version:"
   ]
  },
  {
   "cell_type": "code",
   "execution_count": null,
   "metadata": {},
   "outputs": [],
   "source": [
    "max_in = 11\n",
    "\n",
    "w = np.zeros(2001, dtype=np.float64)\n",
    "x = np.zeros(2001, dtype=np.float64)\n",
    "\n",
    "\n",
    "def func_e(x):\n",
    "    return np.exp(-x)\n",
    "\n",
    "\n",
    "def gauss(npts, job, a, b, x, w, vmin=0.0, vmax=0.0):\n",
    "    m = i = j = t = t1 = pp = p1 = p2 = p3 = 0.0\n",
    "\n",
    "    eps = 3e-14  # Accuracy: ******ADJUST THIS*******!\n",
    "    m = (npts + 1) // 2\n",
    "    for i in range(1, m + 1):\n",
    "        t = np.cos(np.pi * (float(i) - 0.25) / (float(npts) + 0.5))\n",
    "\n",
    "        t1 = 1\n",
    "        while abs(t - t1) >= eps:\n",
    "            p1 = 1.0\n",
    "            p2 = 0.0\n",
    "            for j in range(1, npts + 1):\n",
    "                p3 = p2\n",
    "                p2 = p1\n",
    "                p1 = ((2.0 * float(j) - 1) * t * p2 - (float(j) - 1.0) * p3) / (\n",
    "                    float(j)\n",
    "                )\n",
    "            pp = npts * (t * p1 - p2) / (t * t - 1.0)\n",
    "            t1 = t\n",
    "            t = t1 - p1 / pp\n",
    "\n",
    "        x[i - 1] = -t\n",
    "        x[npts - i] = t\n",
    "        w[i - 1] = 2.0 / ((1.0 - t * t) * pp * pp)\n",
    "        w[npts - i] = w[i - 1]\n",
    "\n",
    "    if job == 0:\n",
    "        for i in range(0, npts):\n",
    "            x[i] = x[i] * (b - a) / 2.0 + (b + a) / 2.0\n",
    "            w[i] = w[i] * (b - a) / 2.0\n",
    "\n",
    "    if job == 1:\n",
    "        for i in range(0, npts):\n",
    "            xi = x[i]\n",
    "            x[i] = a * b * (1.0 + xi) / (b + a - (b - a) * xi)\n",
    "            w[i] = (\n",
    "                w[i]\n",
    "                * 2.0\n",
    "                * a\n",
    "                * b\n",
    "                * b\n",
    "                / ((b + a - (b - a) * xi) * (b + a - (b - a) * xi))\n",
    "            )\n",
    "\n",
    "    if job == 2:\n",
    "        for i in range(0, npts):\n",
    "            xi = x[i]\n",
    "            x[i] = (b * xi + b + a + a) / (1.0 - xi)\n",
    "            w[i] = w[i] * 2.0 * (a + b) / ((1.0 - xi) * (1.0 - xi))\n",
    "\n",
    "\n",
    "def gaussint(no, min, max):\n",
    "    quadra = 0.0\n",
    "    gauss(no, 0, min, max, x, w)\n",
    "    for n in range(0, no):\n",
    "        quadra += func_e(x[n]) * w[n]\n",
    "    return quadra\n",
    "\n",
    "\n",
    "for i in range(3, max_in + 1, 2):\n",
    "    result = gaussint(i, 0.0, 1.0)\n",
    "    print(\" i \", i, \" err \", abs(result - 1 + 1 / np.exp(1)))"
   ]
  },
  {
   "cell_type": "markdown",
   "metadata": {},
   "source": [
    "Much better version:"
   ]
  },
  {
   "cell_type": "code",
   "execution_count": null,
   "metadata": {},
   "outputs": [],
   "source": [
    "def gauss_new(npts, job, a, b, vmin=0.0, vmax=0.0, eps=3e-14):\n",
    "\n",
    "    x = np.zeros(npts, dtype=np.float64)\n",
    "    w = np.zeros(npts, dtype=np.float64)\n",
    "\n",
    "    for i in range((npts + 1) // 2):\n",
    "        t = np.cos(np.pi * (i + 0.75) / (npts + 0.5))\n",
    "\n",
    "        t1 = 1\n",
    "        while abs(t - t1) >= eps:\n",
    "            p1 = 1.0\n",
    "            p2 = 0.0\n",
    "            for j in range(npts):\n",
    "                p3 = p2\n",
    "                p2 = p1\n",
    "                p1 = ((2 * j + 1) * t * p2 - j * p3) / (j + 1)\n",
    "\n",
    "            pp = npts * (t * p1 - p2) / (t ** 2 - 1)\n",
    "            t1 = t\n",
    "            t = t1 - p1 / pp\n",
    "\n",
    "        x[i] = -t\n",
    "        x[~i] = t\n",
    "        w[i] = 2 / ((1 - t ** 2) * pp ** 2)\n",
    "        w[~i] = w[i]\n",
    "\n",
    "    if job == 0:\n",
    "        w = w * (b - a) / 2\n",
    "        x = x * (b - a) / 2 + (b + a) / 2\n",
    "\n",
    "    elif job == 1:\n",
    "        # Use old x for w and x calcs\n",
    "        w = w * 2 * a * b ** 2 / (b + a - (b - a) * x) ** 2\n",
    "        x = a * b * (1 + x) / (b + a - (b - a) * x)\n",
    "\n",
    "    elif job == 2:\n",
    "        # Use old x for w and x calcs\n",
    "        w = w * 2 * (a + b) / (1 - x) ** 2\n",
    "        x = (b * x + b + 2 * a) / (1 - x)\n",
    "\n",
    "    else:\n",
    "        raise RuntimeError(f\"Job ({job}) must be 0, 1, or 2\")\n",
    "\n",
    "    return x, w\n",
    "\n",
    "\n",
    "def gaussint_new(f, no, min, max):\n",
    "    quadra = 0.0\n",
    "    x, w = gauss_new(no, 0, min, max)\n",
    "    for n in range(no):\n",
    "        quadra += f(x[n]) * w[n]\n",
    "    return quadra\n",
    "\n",
    "\n",
    "for i in range(3, max_in + 1, 2):\n",
    "    result = gaussint_new(func_e, i, 0, 1)\n",
    "    print(\"i\", i, \"err\", abs(result - 1 + 1 / np.exp(1)))"
   ]
  },
  {
   "cell_type": "markdown",
   "metadata": {},
   "source": [
    "Using the classic `QUADPACK` from the Fortran days..."
   ]
  },
  {
   "cell_type": "code",
   "execution_count": null,
   "metadata": {},
   "outputs": [],
   "source": [
    "result, *_ = integrate.quad(func_e, 0, 1)\n",
    "print(abs(result - 1 + 1 / np.exp(1)))"
   ]
  },
  {
   "cell_type": "markdown",
   "metadata": {},
   "source": [
    "Using `fixed_quad`, which should be fairly similar to our algorithm:"
   ]
  },
  {
   "cell_type": "code",
   "execution_count": null,
   "metadata": {},
   "outputs": [],
   "source": [
    "for i in range(3, max_in + 1, 2):\n",
    "    result, *_ = integrate.fixed_quad(func_e, 0, 1, n=i)\n",
    "    print(\"i\", i, \"err\", abs(result - 1 + 1 / np.exp(1)))"
   ]
  },
  {
   "cell_type": "markdown",
   "metadata": {},
   "source": [
    "Look at the \"See Also\" section of the docstrings for the integration functions!"
   ]
  }
 ],
 "metadata": {
  "kernelspec": {
   "display_name": "compclass",
   "language": "python",
   "name": "compclass"
  },
  "language_info": {
   "codemirror_mode": {
    "name": "ipython",
    "version": 3
   },
   "file_extension": ".py",
   "mimetype": "text/x-python",
   "name": "python",
   "nbconvert_exporter": "python",
   "pygments_lexer": "ipython3",
   "version": "3.8.2"
  },
  "widgets": {
   "application/vnd.jupyter.widget-state+json": {
    "state": {
     "1fc961cf7f8647beb0264223d59791d4": {
      "model_module": "@jupyter-widgets/base",
      "model_module_version": "1.2.0",
      "model_name": "LayoutModel",
      "state": {
       "_model_module": "@jupyter-widgets/base",
       "_model_module_version": "1.2.0",
       "_model_name": "LayoutModel",
       "_view_count": null,
       "_view_module": "@jupyter-widgets/base",
       "_view_module_version": "1.2.0",
       "_view_name": "LayoutView",
       "align_content": null,
       "align_items": null,
       "align_self": null,
       "border": null,
       "bottom": null,
       "display": null,
       "flex": null,
       "flex_flow": null,
       "grid_area": null,
       "grid_auto_columns": null,
       "grid_auto_flow": null,
       "grid_auto_rows": null,
       "grid_column": null,
       "grid_gap": null,
       "grid_row": null,
       "grid_template_areas": null,
       "grid_template_columns": null,
       "grid_template_rows": null,
       "height": null,
       "justify_content": null,
       "justify_items": null,
       "left": null,
       "margin": null,
       "max_height": null,
       "max_width": null,
       "min_height": null,
       "min_width": null,
       "object_fit": null,
       "object_position": null,
       "order": null,
       "overflow": null,
       "overflow_x": null,
       "overflow_y": null,
       "padding": null,
       "right": null,
       "top": null,
       "visibility": null,
       "width": null
      }
     },
     "353ac0ff4bf0427d963898367f1c1f80": {
      "model_module": "@jupyter-widgets/base",
      "model_module_version": "1.2.0",
      "model_name": "LayoutModel",
      "state": {
       "_model_module": "@jupyter-widgets/base",
       "_model_module_version": "1.2.0",
       "_model_name": "LayoutModel",
       "_view_count": null,
       "_view_module": "@jupyter-widgets/base",
       "_view_module_version": "1.2.0",
       "_view_name": "LayoutView",
       "align_content": null,
       "align_items": null,
       "align_self": null,
       "border": null,
       "bottom": null,
       "display": null,
       "flex": null,
       "flex_flow": null,
       "grid_area": null,
       "grid_auto_columns": null,
       "grid_auto_flow": null,
       "grid_auto_rows": null,
       "grid_column": null,
       "grid_gap": null,
       "grid_row": null,
       "grid_template_areas": null,
       "grid_template_columns": null,
       "grid_template_rows": null,
       "height": null,
       "justify_content": null,
       "justify_items": null,
       "left": null,
       "margin": null,
       "max_height": null,
       "max_width": null,
       "min_height": null,
       "min_width": null,
       "object_fit": null,
       "object_position": null,
       "order": null,
       "overflow": null,
       "overflow_x": null,
       "overflow_y": null,
       "padding": null,
       "right": null,
       "top": null,
       "visibility": null,
       "width": null
      }
     },
     "462e48d0af2841c5844571624d8a4caa": {
      "model_module": "@jupyter-widgets/base",
      "model_module_version": "1.2.0",
      "model_name": "LayoutModel",
      "state": {
       "_model_module": "@jupyter-widgets/base",
       "_model_module_version": "1.2.0",
       "_model_name": "LayoutModel",
       "_view_count": null,
       "_view_module": "@jupyter-widgets/base",
       "_view_module_version": "1.2.0",
       "_view_name": "LayoutView",
       "align_content": null,
       "align_items": null,
       "align_self": null,
       "border": null,
       "bottom": null,
       "display": null,
       "flex": null,
       "flex_flow": null,
       "grid_area": null,
       "grid_auto_columns": null,
       "grid_auto_flow": null,
       "grid_auto_rows": null,
       "grid_column": null,
       "grid_gap": null,
       "grid_row": null,
       "grid_template_areas": null,
       "grid_template_columns": null,
       "grid_template_rows": null,
       "height": null,
       "justify_content": null,
       "justify_items": null,
       "left": null,
       "margin": null,
       "max_height": null,
       "max_width": null,
       "min_height": null,
       "min_width": null,
       "object_fit": null,
       "object_position": null,
       "order": null,
       "overflow": null,
       "overflow_x": null,
       "overflow_y": null,
       "padding": null,
       "right": null,
       "top": null,
       "visibility": null,
       "width": null
      }
     },
     "50e58b46fecf47dab8e0fe3fabf0fb94": {
      "model_module": "@jupyter-widgets/controls",
      "model_module_version": "1.5.0",
      "model_name": "SliderStyleModel",
      "state": {
       "_model_module": "@jupyter-widgets/controls",
       "_model_module_version": "1.5.0",
       "_model_name": "SliderStyleModel",
       "_view_count": null,
       "_view_module": "@jupyter-widgets/base",
       "_view_module_version": "1.2.0",
       "_view_name": "StyleView",
       "description_width": "",
       "handle_color": null
      }
     },
     "72adf71065b1421596df2e9cab4e0e0b": {
      "model_module": "@jupyter-widgets/controls",
      "model_module_version": "1.5.0",
      "model_name": "VBoxModel",
      "state": {
       "_dom_classes": [
        "widget-interact"
       ],
       "_model_module": "@jupyter-widgets/controls",
       "_model_module_version": "1.5.0",
       "_model_name": "VBoxModel",
       "_view_count": null,
       "_view_module": "@jupyter-widgets/controls",
       "_view_module_version": "1.5.0",
       "_view_name": "VBoxView",
       "box_style": "",
       "children": [
        "IPY_MODEL_b934707c795748f0ac77d750c20b62af",
        "IPY_MODEL_a1b54dd9cadb4d058967aa1647e5cad4",
        "IPY_MODEL_8f35510cb601406ba614458ea3237c65",
        "IPY_MODEL_aa012b04948e4da495be7783570e521c",
        "IPY_MODEL_95108a08285048bd8d9057103059c1ce"
       ],
       "layout": "IPY_MODEL_b245ea50e8874a218a0a0743bfc88e08"
      }
     },
     "735a878782214724992aec9067d2b8b6": {
      "model_module": "@jupyter-widgets/controls",
      "model_module_version": "1.5.0",
      "model_name": "SliderStyleModel",
      "state": {
       "_model_module": "@jupyter-widgets/controls",
       "_model_module_version": "1.5.0",
       "_model_name": "SliderStyleModel",
       "_view_count": null,
       "_view_module": "@jupyter-widgets/base",
       "_view_module_version": "1.2.0",
       "_view_name": "StyleView",
       "description_width": "",
       "handle_color": null
      }
     },
     "8f35510cb601406ba614458ea3237c65": {
      "model_module": "@jupyter-widgets/controls",
      "model_module_version": "1.5.0",
      "model_name": "FloatSliderModel",
      "state": {
       "_dom_classes": [],
       "_model_module": "@jupyter-widgets/controls",
       "_model_module_version": "1.5.0",
       "_model_name": "FloatSliderModel",
       "_view_count": null,
       "_view_module": "@jupyter-widgets/controls",
       "_view_module_version": "1.5.0",
       "_view_name": "FloatSliderView",
       "continuous_update": true,
       "description": "c",
       "description_tooltip": null,
       "disabled": false,
       "layout": "IPY_MODEL_d65aac8cb939499fa3acd4784342865c",
       "max": 10.0,
       "min": -10.0,
       "orientation": "horizontal",
       "readout": true,
       "readout_format": ".2f",
       "step": 0.1,
       "style": "IPY_MODEL_50e58b46fecf47dab8e0fe3fabf0fb94",
       "value": 0.0
      }
     },
     "95108a08285048bd8d9057103059c1ce": {
      "model_module": "@jupyter-widgets/output",
      "model_module_version": "1.0.0",
      "model_name": "OutputModel",
      "state": {
       "_dom_classes": [],
       "_model_module": "@jupyter-widgets/output",
       "_model_module_version": "1.0.0",
       "_model_name": "OutputModel",
       "_view_count": null,
       "_view_module": "@jupyter-widgets/output",
       "_view_module_version": "1.0.0",
       "_view_name": "OutputView",
       "layout": "IPY_MODEL_1fc961cf7f8647beb0264223d59791d4",
       "msg_id": "",
       "outputs": []
      }
     },
     "a1b54dd9cadb4d058967aa1647e5cad4": {
      "model_module": "@jupyter-widgets/controls",
      "model_module_version": "1.5.0",
      "model_name": "FloatSliderModel",
      "state": {
       "_dom_classes": [],
       "_model_module": "@jupyter-widgets/controls",
       "_model_module_version": "1.5.0",
       "_model_name": "FloatSliderModel",
       "_view_count": null,
       "_view_module": "@jupyter-widgets/controls",
       "_view_module_version": "1.5.0",
       "_view_name": "FloatSliderView",
       "continuous_update": true,
       "description": "b",
       "description_tooltip": null,
       "disabled": false,
       "layout": "IPY_MODEL_353ac0ff4bf0427d963898367f1c1f80",
       "max": 1.0,
       "min": -1.0,
       "orientation": "horizontal",
       "readout": true,
       "readout_format": ".2f",
       "step": 0.1,
       "style": "IPY_MODEL_735a878782214724992aec9067d2b8b6",
       "value": 0.0
      }
     },
     "a3f83a885d1d473d905103a9be99d266": {
      "model_module": "@jupyter-widgets/controls",
      "model_module_version": "1.5.0",
      "model_name": "SliderStyleModel",
      "state": {
       "_model_module": "@jupyter-widgets/controls",
       "_model_module_version": "1.5.0",
       "_model_name": "SliderStyleModel",
       "_view_count": null,
       "_view_module": "@jupyter-widgets/base",
       "_view_module_version": "1.2.0",
       "_view_name": "StyleView",
       "description_width": "",
       "handle_color": null
      }
     },
     "aa012b04948e4da495be7783570e521c": {
      "model_module": "@jupyter-widgets/controls",
      "model_module_version": "1.5.0",
      "model_name": "FloatSliderModel",
      "state": {
       "_dom_classes": [],
       "_model_module": "@jupyter-widgets/controls",
       "_model_module_version": "1.5.0",
       "_model_name": "FloatSliderModel",
       "_view_count": null,
       "_view_module": "@jupyter-widgets/controls",
       "_view_module_version": "1.5.0",
       "_view_name": "FloatSliderView",
       "continuous_update": true,
       "description": "d",
       "description_tooltip": null,
       "disabled": false,
       "layout": "IPY_MODEL_462e48d0af2841c5844571624d8a4caa",
       "max": 10.0,
       "min": -10.0,
       "orientation": "horizontal",
       "readout": true,
       "readout_format": ".2f",
       "step": 0.1,
       "style": "IPY_MODEL_a3f83a885d1d473d905103a9be99d266",
       "value": 0.0
      }
     },
     "aad1299d38194e198eeba88d79348f1c": {
      "model_module": "@jupyter-widgets/controls",
      "model_module_version": "1.5.0",
      "model_name": "SliderStyleModel",
      "state": {
       "_model_module": "@jupyter-widgets/controls",
       "_model_module_version": "1.5.0",
       "_model_name": "SliderStyleModel",
       "_view_count": null,
       "_view_module": "@jupyter-widgets/base",
       "_view_module_version": "1.2.0",
       "_view_name": "StyleView",
       "description_width": "",
       "handle_color": null
      }
     },
     "b245ea50e8874a218a0a0743bfc88e08": {
      "model_module": "@jupyter-widgets/base",
      "model_module_version": "1.2.0",
      "model_name": "LayoutModel",
      "state": {
       "_model_module": "@jupyter-widgets/base",
       "_model_module_version": "1.2.0",
       "_model_name": "LayoutModel",
       "_view_count": null,
       "_view_module": "@jupyter-widgets/base",
       "_view_module_version": "1.2.0",
       "_view_name": "LayoutView",
       "align_content": null,
       "align_items": null,
       "align_self": null,
       "border": null,
       "bottom": null,
       "display": null,
       "flex": null,
       "flex_flow": null,
       "grid_area": null,
       "grid_auto_columns": null,
       "grid_auto_flow": null,
       "grid_auto_rows": null,
       "grid_column": null,
       "grid_gap": null,
       "grid_row": null,
       "grid_template_areas": null,
       "grid_template_columns": null,
       "grid_template_rows": null,
       "height": null,
       "justify_content": null,
       "justify_items": null,
       "left": null,
       "margin": null,
       "max_height": null,
       "max_width": null,
       "min_height": null,
       "min_width": null,
       "object_fit": null,
       "object_position": null,
       "order": null,
       "overflow": null,
       "overflow_x": null,
       "overflow_y": null,
       "padding": null,
       "right": null,
       "top": null,
       "visibility": null,
       "width": null
      }
     },
     "b934707c795748f0ac77d750c20b62af": {
      "model_module": "@jupyter-widgets/controls",
      "model_module_version": "1.5.0",
      "model_name": "FloatSliderModel",
      "state": {
       "_dom_classes": [],
       "_model_module": "@jupyter-widgets/controls",
       "_model_module_version": "1.5.0",
       "_model_name": "FloatSliderModel",
       "_view_count": null,
       "_view_module": "@jupyter-widgets/controls",
       "_view_module_version": "1.5.0",
       "_view_name": "FloatSliderView",
       "continuous_update": true,
       "description": "a",
       "description_tooltip": null,
       "disabled": false,
       "layout": "IPY_MODEL_ef96c42a773f418d9001bdc0682973dc",
       "max": 1.0,
       "min": -1.0,
       "orientation": "horizontal",
       "readout": true,
       "readout_format": ".2f",
       "step": 0.1,
       "style": "IPY_MODEL_aad1299d38194e198eeba88d79348f1c",
       "value": 0.0
      }
     },
     "d65aac8cb939499fa3acd4784342865c": {
      "model_module": "@jupyter-widgets/base",
      "model_module_version": "1.2.0",
      "model_name": "LayoutModel",
      "state": {
       "_model_module": "@jupyter-widgets/base",
       "_model_module_version": "1.2.0",
       "_model_name": "LayoutModel",
       "_view_count": null,
       "_view_module": "@jupyter-widgets/base",
       "_view_module_version": "1.2.0",
       "_view_name": "LayoutView",
       "align_content": null,
       "align_items": null,
       "align_self": null,
       "border": null,
       "bottom": null,
       "display": null,
       "flex": null,
       "flex_flow": null,
       "grid_area": null,
       "grid_auto_columns": null,
       "grid_auto_flow": null,
       "grid_auto_rows": null,
       "grid_column": null,
       "grid_gap": null,
       "grid_row": null,
       "grid_template_areas": null,
       "grid_template_columns": null,
       "grid_template_rows": null,
       "height": null,
       "justify_content": null,
       "justify_items": null,
       "left": null,
       "margin": null,
       "max_height": null,
       "max_width": null,
       "min_height": null,
       "min_width": null,
       "object_fit": null,
       "object_position": null,
       "order": null,
       "overflow": null,
       "overflow_x": null,
       "overflow_y": null,
       "padding": null,
       "right": null,
       "top": null,
       "visibility": null,
       "width": null
      }
     },
     "ef96c42a773f418d9001bdc0682973dc": {
      "model_module": "@jupyter-widgets/base",
      "model_module_version": "1.2.0",
      "model_name": "LayoutModel",
      "state": {
       "_model_module": "@jupyter-widgets/base",
       "_model_module_version": "1.2.0",
       "_model_name": "LayoutModel",
       "_view_count": null,
       "_view_module": "@jupyter-widgets/base",
       "_view_module_version": "1.2.0",
       "_view_name": "LayoutView",
       "align_content": null,
       "align_items": null,
       "align_self": null,
       "border": null,
       "bottom": null,
       "display": null,
       "flex": null,
       "flex_flow": null,
       "grid_area": null,
       "grid_auto_columns": null,
       "grid_auto_flow": null,
       "grid_auto_rows": null,
       "grid_column": null,
       "grid_gap": null,
       "grid_row": null,
       "grid_template_areas": null,
       "grid_template_columns": null,
       "grid_template_rows": null,
       "height": null,
       "justify_content": null,
       "justify_items": null,
       "left": null,
       "margin": null,
       "max_height": null,
       "max_width": null,
       "min_height": null,
       "min_width": null,
       "object_fit": null,
       "object_position": null,
       "order": null,
       "overflow": null,
       "overflow_x": null,
       "overflow_y": null,
       "padding": null,
       "right": null,
       "top": null,
       "visibility": null,
       "width": null
      }
     }
    },
    "version_major": 2,
    "version_minor": 0
   }
  }
 },
 "nbformat": 4,
 "nbformat_minor": 4
}
