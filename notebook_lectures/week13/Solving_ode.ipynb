{
 "cells": [
  {
   "cell_type": "markdown",
   "metadata": {},
   "source": [
    "# ODE problems\n",
    "\n",
    "## Objectives\n",
    "\n",
    "* Discuss debuggers\n",
    "* Solve a BVP\n",
    "* Look at some other ODE problems"
   ]
  },
  {
   "cell_type": "markdown",
   "metadata": {},
   "source": [
    "## Debugging\n",
    "\n",
    "Using a debugger has several parts:\n",
    "\n",
    "* Starting the debugger\n",
    "    * Classic way: `import pdb; pdb.set_trace()` (This is the standard library debugger)\n",
    "    * Python 3.7 way: `breakpoint()` (This will start the current debugger)\n",
    "    * IPython offers `%debug` to jump in *after* an error is raised! (like `pdb.pm()`)\n",
    "    * You can also start at the beginning (see [docs](https://docs.python.org/3.7/library/pdb.html))\n",
    "* Controlling the debugger\n",
    "    * `pyb` (and `ipydb`) are sort of based on classic debugging tools - the syntax is a bit odd, but will be useful in other languages.\n",
    "    * A common term is the \"stack\", short in this case for the \"call-stack\", the series of functions that call each other to get to the current point.\n",
    "        * Note that the \"stack\" is also a term for memory locations in compiled programs - and is unrelated to this usage."
   ]
  },
  {
   "cell_type": "markdown",
   "metadata": {},
   "source": [
    "| short | name          | action | Names in other debuggers |\n",
    "|-------|---------------|--------|--------------------------|\n",
    "| `h`   | `help`        | Print out help | |\n",
    "| `p`   | `print`       | Print out the value of a variable or expression | |\n",
    "| `u`   | `up`          | Go up one in the stack| |\n",
    "| `d`   | `down`        | Go down one in the stack | |\n",
    "| `w`   | `where`       | Show you where you are | Stack trace |\n",
    "| `s`   | `step`        | Move forward one computation | Step in |\n",
    "| `n`   | `next`        | More forward one line | Step over |\n",
    "| `c`   | `continue`    | Continue on till next stop | |\n",
    "| `b`   | `breakpoint`  | Set a breakpoint somehere | |\n",
    "| `q`   | `quit`        | Quit | |"
   ]
  },
  {
   "cell_type": "code",
   "execution_count": 2,
   "metadata": {},
   "outputs": [],
   "source": [
    "## A program to debug\n",
    "def simple_function(div):\n",
    "    simple_x = 2\n",
    "    simple_y = div\n",
    "\n",
    "    # When the line below is executed, Python stops and waits for you to tell it what to do next\n",
    "    # ou’ll see a (Pdb) prompt. This means that you’re now paused in the interactive \n",
    "    # debugger and can enter a command.\n",
    "    import pdb; pdb.set_trace()\n",
    "\n",
    "    return fancy_function(simple_x, simple_y)\n",
    "\n",
    "\n",
    "def fancy_function(x, y):\n",
    "    r = x / y\n",
    "    return r"
   ]
  },
  {
   "cell_type": "code",
   "execution_count": 4,
   "metadata": {},
   "outputs": [
    {
     "name": "stdout",
     "output_type": "stream",
     "text": [
      "> \u001b[0;32m/var/folders/sd/7rq2vwcx7fd8stfzsvfnz9980000gq/T/ipykernel_88296/3900354869.py\u001b[0m(8)\u001b[0;36msimple_function\u001b[0;34m()\u001b[0m\n",
      "\u001b[0;32m      6 \u001b[0;31m    \u001b[0;32mimport\u001b[0m \u001b[0mpdb\u001b[0m\u001b[0;34m;\u001b[0m \u001b[0mpdb\u001b[0m\u001b[0;34m.\u001b[0m\u001b[0mset_trace\u001b[0m\u001b[0;34m(\u001b[0m\u001b[0;34m)\u001b[0m\u001b[0;34m\u001b[0m\u001b[0;34m\u001b[0m\u001b[0m\n",
      "\u001b[0m\u001b[0;32m      7 \u001b[0;31m\u001b[0;34m\u001b[0m\u001b[0m\n",
      "\u001b[0m\u001b[0;32m----> 8 \u001b[0;31m    \u001b[0;32mreturn\u001b[0m \u001b[0mfancy_function\u001b[0m\u001b[0;34m(\u001b[0m\u001b[0msimple_x\u001b[0m\u001b[0;34m,\u001b[0m \u001b[0msimple_y\u001b[0m\u001b[0;34m)\u001b[0m\u001b[0;34m\u001b[0m\u001b[0;34m\u001b[0m\u001b[0m\n",
      "\u001b[0m\u001b[0;32m      9 \u001b[0;31m\u001b[0;34m\u001b[0m\u001b[0m\n",
      "\u001b[0m\u001b[0;32m     10 \u001b[0;31m\u001b[0;34m\u001b[0m\u001b[0m\n",
      "\u001b[0m\n",
      "ipdb> simple_x\n",
      "2\n",
      "ipdb> simple_y\n",
      "0\n",
      "ipdb> break\n",
      "ipdb> continue\n"
     ]
    },
    {
     "ename": "ZeroDivisionError",
     "evalue": "division by zero",
     "output_type": "error",
     "traceback": [
      "\u001b[0;31m---------------------------------------------------------------------------\u001b[0m",
      "\u001b[0;31mZeroDivisionError\u001b[0m                         Traceback (most recent call last)",
      "\u001b[0;32m/var/folders/sd/7rq2vwcx7fd8stfzsvfnz9980000gq/T/ipykernel_88296/1138872405.py\u001b[0m in \u001b[0;36m<module>\u001b[0;34m\u001b[0m\n\u001b[0;32m----> 1\u001b[0;31m \u001b[0msimple_function\u001b[0m\u001b[0;34m(\u001b[0m\u001b[0;36m0\u001b[0m\u001b[0;34m)\u001b[0m\u001b[0;34m\u001b[0m\u001b[0;34m\u001b[0m\u001b[0m\n\u001b[0m",
      "\u001b[0;32m/var/folders/sd/7rq2vwcx7fd8stfzsvfnz9980000gq/T/ipykernel_88296/3900354869.py\u001b[0m in \u001b[0;36msimple_function\u001b[0;34m(div)\u001b[0m\n\u001b[1;32m      6\u001b[0m     \u001b[0;32mimport\u001b[0m \u001b[0mpdb\u001b[0m\u001b[0;34m;\u001b[0m \u001b[0mpdb\u001b[0m\u001b[0;34m.\u001b[0m\u001b[0mset_trace\u001b[0m\u001b[0;34m(\u001b[0m\u001b[0;34m)\u001b[0m\u001b[0;34m\u001b[0m\u001b[0;34m\u001b[0m\u001b[0m\n\u001b[1;32m      7\u001b[0m \u001b[0;34m\u001b[0m\u001b[0m\n\u001b[0;32m----> 8\u001b[0;31m     \u001b[0;32mreturn\u001b[0m \u001b[0mfancy_function\u001b[0m\u001b[0;34m(\u001b[0m\u001b[0msimple_x\u001b[0m\u001b[0;34m,\u001b[0m \u001b[0msimple_y\u001b[0m\u001b[0;34m)\u001b[0m\u001b[0;34m\u001b[0m\u001b[0;34m\u001b[0m\u001b[0m\n\u001b[0m\u001b[1;32m      9\u001b[0m \u001b[0;34m\u001b[0m\u001b[0m\n\u001b[1;32m     10\u001b[0m \u001b[0;34m\u001b[0m\u001b[0m\n",
      "\u001b[0;32m/var/folders/sd/7rq2vwcx7fd8stfzsvfnz9980000gq/T/ipykernel_88296/3900354869.py\u001b[0m in \u001b[0;36mfancy_function\u001b[0;34m(x, y)\u001b[0m\n\u001b[1;32m     10\u001b[0m \u001b[0;34m\u001b[0m\u001b[0m\n\u001b[1;32m     11\u001b[0m \u001b[0;32mdef\u001b[0m \u001b[0mfancy_function\u001b[0m\u001b[0;34m(\u001b[0m\u001b[0mx\u001b[0m\u001b[0;34m,\u001b[0m \u001b[0my\u001b[0m\u001b[0;34m)\u001b[0m\u001b[0;34m:\u001b[0m\u001b[0;34m\u001b[0m\u001b[0;34m\u001b[0m\u001b[0m\n\u001b[0;32m---> 12\u001b[0;31m     \u001b[0mr\u001b[0m \u001b[0;34m=\u001b[0m \u001b[0mx\u001b[0m \u001b[0;34m/\u001b[0m \u001b[0my\u001b[0m\u001b[0;34m\u001b[0m\u001b[0;34m\u001b[0m\u001b[0m\n\u001b[0m\u001b[1;32m     13\u001b[0m     \u001b[0;32mreturn\u001b[0m \u001b[0mr\u001b[0m\u001b[0;34m\u001b[0m\u001b[0;34m\u001b[0m\u001b[0m\n",
      "\u001b[0;31mZeroDivisionError\u001b[0m: division by zero"
     ]
    }
   ],
   "source": [
    "simple_function(0)"
   ]
  },
  {
   "cell_type": "code",
   "execution_count": 5,
   "metadata": {},
   "outputs": [
    {
     "name": "stdout",
     "output_type": "stream",
     "text": [
      "--Call--\n",
      "> \u001b[0;32m/Users/aldoromero/opt/anaconda3/lib/python3.8/site-packages/IPython/core/displayhook.py\u001b[0m(252)\u001b[0;36m__call__\u001b[0;34m()\u001b[0m\n",
      "\u001b[0;32m    250 \u001b[0;31m        \u001b[0msys\u001b[0m\u001b[0;34m.\u001b[0m\u001b[0mstdout\u001b[0m\u001b[0;34m.\u001b[0m\u001b[0mflush\u001b[0m\u001b[0;34m(\u001b[0m\u001b[0;34m)\u001b[0m\u001b[0;34m\u001b[0m\u001b[0;34m\u001b[0m\u001b[0m\n",
      "\u001b[0m\u001b[0;32m    251 \u001b[0;31m\u001b[0;34m\u001b[0m\u001b[0m\n",
      "\u001b[0m\u001b[0;32m--> 252 \u001b[0;31m    \u001b[0;32mdef\u001b[0m \u001b[0m__call__\u001b[0m\u001b[0;34m(\u001b[0m\u001b[0mself\u001b[0m\u001b[0;34m,\u001b[0m \u001b[0mresult\u001b[0m\u001b[0;34m=\u001b[0m\u001b[0;32mNone\u001b[0m\u001b[0;34m)\u001b[0m\u001b[0;34m:\u001b[0m\u001b[0;34m\u001b[0m\u001b[0;34m\u001b[0m\u001b[0m\n",
      "\u001b[0m\u001b[0;32m    253 \u001b[0;31m        \"\"\"Printing with history cache management.\n",
      "\u001b[0m\u001b[0;32m    254 \u001b[0;31m\u001b[0;34m\u001b[0m\u001b[0m\n",
      "\u001b[0m\n",
      "ipdb> simple_x\n",
      "*** NameError: name 'simple_x' is not defined\n",
      "ipdb> continue\n"
     ]
    }
   ],
   "source": [
    "# starting Python 3.6\n",
    "# By default, breakpoint() will import pdb and call pdb.set_trace()\n",
    "#\n",
    "# using breakpoint() is more flexible and allows you to control debugging behavior via its \n",
    "# API and use of the environment variable PYTHONBREAKPOINT\n",
    "breakpoint()\n"
   ]
  },
  {
   "cell_type": "markdown",
   "metadata": {},
   "source": [
    "You can also run as a script\n",
    "\n",
    "```\n",
    "python3 -m pdb app.py arg1 arg2\n",
    "```"
   ]
  },
  {
   "cell_type": "code",
   "execution_count": 6,
   "metadata": {},
   "outputs": [
    {
     "name": "stdout",
     "output_type": "stream",
     "text": [
      "> \u001b[0;32m/var/folders/sd/7rq2vwcx7fd8stfzsvfnz9980000gq/T/ipykernel_88296/3900354869.py\u001b[0m(12)\u001b[0;36mfancy_function\u001b[0;34m()\u001b[0m\n",
      "\u001b[0;32m      9 \u001b[0;31m\u001b[0;34m\u001b[0m\u001b[0m\n",
      "\u001b[0m\u001b[0;32m     10 \u001b[0;31m\u001b[0;34m\u001b[0m\u001b[0m\n",
      "\u001b[0m\u001b[0;32m     11 \u001b[0;31m\u001b[0;32mdef\u001b[0m \u001b[0mfancy_function\u001b[0m\u001b[0;34m(\u001b[0m\u001b[0mx\u001b[0m\u001b[0;34m,\u001b[0m \u001b[0my\u001b[0m\u001b[0;34m)\u001b[0m\u001b[0;34m:\u001b[0m\u001b[0;34m\u001b[0m\u001b[0;34m\u001b[0m\u001b[0m\n",
      "\u001b[0m\u001b[0;32m---> 12 \u001b[0;31m    \u001b[0mr\u001b[0m \u001b[0;34m=\u001b[0m \u001b[0mx\u001b[0m \u001b[0;34m/\u001b[0m \u001b[0my\u001b[0m\u001b[0;34m\u001b[0m\u001b[0;34m\u001b[0m\u001b[0m\n",
      "\u001b[0m\u001b[0;32m     13 \u001b[0;31m    \u001b[0;32mreturn\u001b[0m \u001b[0mr\u001b[0m\u001b[0;34m\u001b[0m\u001b[0;34m\u001b[0m\u001b[0m\n",
      "\u001b[0m\n",
      "ipdb> r\n"
     ]
    }
   ],
   "source": [
    "%debug"
   ]
  },
  {
   "cell_type": "code",
   "execution_count": 7,
   "metadata": {},
   "outputs": [
    {
     "name": "stdout",
     "output_type": "stream",
     "text": [
      "> \u001b[0;32m/var/folders/sd/7rq2vwcx7fd8stfzsvfnz9980000gq/T/ipykernel_88296/3900354869.py\u001b[0m(8)\u001b[0;36msimple_function\u001b[0;34m()\u001b[0m\n",
      "\u001b[0;32m      6 \u001b[0;31m    \u001b[0;32mimport\u001b[0m \u001b[0mpdb\u001b[0m\u001b[0;34m;\u001b[0m \u001b[0mpdb\u001b[0m\u001b[0;34m.\u001b[0m\u001b[0mset_trace\u001b[0m\u001b[0;34m(\u001b[0m\u001b[0;34m)\u001b[0m\u001b[0;34m\u001b[0m\u001b[0;34m\u001b[0m\u001b[0m\n",
      "\u001b[0m\u001b[0;32m      7 \u001b[0;31m\u001b[0;34m\u001b[0m\u001b[0m\n",
      "\u001b[0m\u001b[0;32m----> 8 \u001b[0;31m    \u001b[0;32mreturn\u001b[0m \u001b[0mfancy_function\u001b[0m\u001b[0;34m(\u001b[0m\u001b[0msimple_x\u001b[0m\u001b[0;34m,\u001b[0m \u001b[0msimple_y\u001b[0m\u001b[0;34m)\u001b[0m\u001b[0;34m\u001b[0m\u001b[0;34m\u001b[0m\u001b[0m\n",
      "\u001b[0m\u001b[0;32m      9 \u001b[0;31m\u001b[0;34m\u001b[0m\u001b[0m\n",
      "\u001b[0m\u001b[0;32m     10 \u001b[0;31m\u001b[0;34m\u001b[0m\u001b[0m\n",
      "\u001b[0m\n",
      "ipdb> simple_x\n",
      "2\n",
      "ipdb> continue\n"
     ]
    },
    {
     "data": {
      "text/plain": [
       "1.0"
      ]
     },
     "execution_count": 7,
     "metadata": {},
     "output_type": "execute_result"
    }
   ],
   "source": [
    "simple_function(2)"
   ]
  },
  {
   "cell_type": "code",
   "execution_count": 8,
   "metadata": {},
   "outputs": [],
   "source": [
    "import pdb"
   ]
  },
  {
   "cell_type": "code",
   "execution_count": 9,
   "metadata": {},
   "outputs": [
    {
     "name": "stdout",
     "output_type": "stream",
     "text": [
      "> \u001b[0;32m<string>\u001b[0m(1)\u001b[0;36m<module>\u001b[0;34m()\u001b[0m\n",
      "\n",
      "ipdb> simple_x\n",
      "*** NameError: name 'simple_x' is not defined\n",
      "--KeyboardInterrupt--\n",
      "\n",
      "KeyboardInterrupt: Interrupted by user\n",
      "> \u001b[0;32m/var/folders/sd/7rq2vwcx7fd8stfzsvfnz9980000gq/T/ipykernel_88296/3900354869.py\u001b[0m(8)\u001b[0;36msimple_function\u001b[0;34m()\u001b[0m\n",
      "\u001b[0;32m      6 \u001b[0;31m    \u001b[0;32mimport\u001b[0m \u001b[0mpdb\u001b[0m\u001b[0;34m;\u001b[0m \u001b[0mpdb\u001b[0m\u001b[0;34m.\u001b[0m\u001b[0mset_trace\u001b[0m\u001b[0;34m(\u001b[0m\u001b[0;34m)\u001b[0m\u001b[0;34m\u001b[0m\u001b[0;34m\u001b[0m\u001b[0m\n",
      "\u001b[0m\u001b[0;32m      7 \u001b[0;31m\u001b[0;34m\u001b[0m\u001b[0m\n",
      "\u001b[0m\u001b[0;32m----> 8 \u001b[0;31m    \u001b[0;32mreturn\u001b[0m \u001b[0mfancy_function\u001b[0m\u001b[0;34m(\u001b[0m\u001b[0msimple_x\u001b[0m\u001b[0;34m,\u001b[0m \u001b[0msimple_y\u001b[0m\u001b[0;34m)\u001b[0m\u001b[0;34m\u001b[0m\u001b[0;34m\u001b[0m\u001b[0m\n",
      "\u001b[0m\u001b[0;32m      9 \u001b[0;31m\u001b[0;34m\u001b[0m\u001b[0m\n",
      "\u001b[0m\u001b[0;32m     10 \u001b[0;31m\u001b[0;34m\u001b[0m\u001b[0m\n",
      "\u001b[0m\n",
      "ipdb> continue\n"
     ]
    },
    {
     "ename": "ZeroDivisionError",
     "evalue": "division by zero",
     "output_type": "error",
     "traceback": [
      "\u001b[0;31m---------------------------------------------------------------------------\u001b[0m",
      "\u001b[0;31mZeroDivisionError\u001b[0m                         Traceback (most recent call last)",
      "\u001b[0;32m/var/folders/sd/7rq2vwcx7fd8stfzsvfnz9980000gq/T/ipykernel_88296/4173517291.py\u001b[0m in \u001b[0;36m<module>\u001b[0;34m\u001b[0m\n\u001b[0;32m----> 1\u001b[0;31m \u001b[0mpdb\u001b[0m\u001b[0;34m.\u001b[0m\u001b[0mrun\u001b[0m\u001b[0;34m(\u001b[0m\u001b[0;34m'simple_function(0)'\u001b[0m\u001b[0;34m)\u001b[0m\u001b[0;34m\u001b[0m\u001b[0;34m\u001b[0m\u001b[0m\n\u001b[0m",
      "\u001b[0;32m~/opt/anaconda3/lib/python3.8/pdb.py\u001b[0m in \u001b[0;36mrun\u001b[0;34m(statement, globals, locals)\u001b[0m\n\u001b[1;32m   1595\u001b[0m \u001b[0;34m\u001b[0m\u001b[0m\n\u001b[1;32m   1596\u001b[0m \u001b[0;32mdef\u001b[0m \u001b[0mrun\u001b[0m\u001b[0;34m(\u001b[0m\u001b[0mstatement\u001b[0m\u001b[0;34m,\u001b[0m \u001b[0mglobals\u001b[0m\u001b[0;34m=\u001b[0m\u001b[0;32mNone\u001b[0m\u001b[0;34m,\u001b[0m \u001b[0mlocals\u001b[0m\u001b[0;34m=\u001b[0m\u001b[0;32mNone\u001b[0m\u001b[0;34m)\u001b[0m\u001b[0;34m:\u001b[0m\u001b[0;34m\u001b[0m\u001b[0;34m\u001b[0m\u001b[0m\n\u001b[0;32m-> 1597\u001b[0;31m     \u001b[0mPdb\u001b[0m\u001b[0;34m(\u001b[0m\u001b[0;34m)\u001b[0m\u001b[0;34m.\u001b[0m\u001b[0mrun\u001b[0m\u001b[0;34m(\u001b[0m\u001b[0mstatement\u001b[0m\u001b[0;34m,\u001b[0m \u001b[0mglobals\u001b[0m\u001b[0;34m,\u001b[0m \u001b[0mlocals\u001b[0m\u001b[0;34m)\u001b[0m\u001b[0;34m\u001b[0m\u001b[0;34m\u001b[0m\u001b[0m\n\u001b[0m\u001b[1;32m   1598\u001b[0m \u001b[0;34m\u001b[0m\u001b[0m\n\u001b[1;32m   1599\u001b[0m \u001b[0;32mdef\u001b[0m \u001b[0mruneval\u001b[0m\u001b[0;34m(\u001b[0m\u001b[0mexpression\u001b[0m\u001b[0;34m,\u001b[0m \u001b[0mglobals\u001b[0m\u001b[0;34m=\u001b[0m\u001b[0;32mNone\u001b[0m\u001b[0;34m,\u001b[0m \u001b[0mlocals\u001b[0m\u001b[0;34m=\u001b[0m\u001b[0;32mNone\u001b[0m\u001b[0;34m)\u001b[0m\u001b[0;34m:\u001b[0m\u001b[0;34m\u001b[0m\u001b[0;34m\u001b[0m\u001b[0m\n",
      "\u001b[0;32m~/opt/anaconda3/lib/python3.8/bdb.py\u001b[0m in \u001b[0;36mrun\u001b[0;34m(self, cmd, globals, locals)\u001b[0m\n\u001b[1;32m    578\u001b[0m         \u001b[0msys\u001b[0m\u001b[0;34m.\u001b[0m\u001b[0msettrace\u001b[0m\u001b[0;34m(\u001b[0m\u001b[0mself\u001b[0m\u001b[0;34m.\u001b[0m\u001b[0mtrace_dispatch\u001b[0m\u001b[0;34m)\u001b[0m\u001b[0;34m\u001b[0m\u001b[0;34m\u001b[0m\u001b[0m\n\u001b[1;32m    579\u001b[0m         \u001b[0;32mtry\u001b[0m\u001b[0;34m:\u001b[0m\u001b[0;34m\u001b[0m\u001b[0;34m\u001b[0m\u001b[0m\n\u001b[0;32m--> 580\u001b[0;31m             \u001b[0mexec\u001b[0m\u001b[0;34m(\u001b[0m\u001b[0mcmd\u001b[0m\u001b[0;34m,\u001b[0m \u001b[0mglobals\u001b[0m\u001b[0;34m,\u001b[0m \u001b[0mlocals\u001b[0m\u001b[0;34m)\u001b[0m\u001b[0;34m\u001b[0m\u001b[0;34m\u001b[0m\u001b[0m\n\u001b[0m\u001b[1;32m    581\u001b[0m         \u001b[0;32mexcept\u001b[0m \u001b[0mBdbQuit\u001b[0m\u001b[0;34m:\u001b[0m\u001b[0;34m\u001b[0m\u001b[0;34m\u001b[0m\u001b[0m\n\u001b[1;32m    582\u001b[0m             \u001b[0;32mpass\u001b[0m\u001b[0;34m\u001b[0m\u001b[0;34m\u001b[0m\u001b[0m\n",
      "\u001b[0;32m<string>\u001b[0m in \u001b[0;36m<module>\u001b[0;34m\u001b[0m\n",
      "\u001b[0;32m/var/folders/sd/7rq2vwcx7fd8stfzsvfnz9980000gq/T/ipykernel_88296/3900354869.py\u001b[0m in \u001b[0;36msimple_function\u001b[0;34m(div)\u001b[0m\n\u001b[1;32m      6\u001b[0m     \u001b[0;32mimport\u001b[0m \u001b[0mpdb\u001b[0m\u001b[0;34m;\u001b[0m \u001b[0mpdb\u001b[0m\u001b[0;34m.\u001b[0m\u001b[0mset_trace\u001b[0m\u001b[0;34m(\u001b[0m\u001b[0;34m)\u001b[0m\u001b[0;34m\u001b[0m\u001b[0;34m\u001b[0m\u001b[0m\n\u001b[1;32m      7\u001b[0m \u001b[0;34m\u001b[0m\u001b[0m\n\u001b[0;32m----> 8\u001b[0;31m     \u001b[0;32mreturn\u001b[0m \u001b[0mfancy_function\u001b[0m\u001b[0;34m(\u001b[0m\u001b[0msimple_x\u001b[0m\u001b[0;34m,\u001b[0m \u001b[0msimple_y\u001b[0m\u001b[0;34m)\u001b[0m\u001b[0;34m\u001b[0m\u001b[0;34m\u001b[0m\u001b[0m\n\u001b[0m\u001b[1;32m      9\u001b[0m \u001b[0;34m\u001b[0m\u001b[0m\n\u001b[1;32m     10\u001b[0m \u001b[0;34m\u001b[0m\u001b[0m\n",
      "\u001b[0;32m/var/folders/sd/7rq2vwcx7fd8stfzsvfnz9980000gq/T/ipykernel_88296/3900354869.py\u001b[0m in \u001b[0;36mfancy_function\u001b[0;34m(x, y)\u001b[0m\n\u001b[1;32m     10\u001b[0m \u001b[0;34m\u001b[0m\u001b[0m\n\u001b[1;32m     11\u001b[0m \u001b[0;32mdef\u001b[0m \u001b[0mfancy_function\u001b[0m\u001b[0;34m(\u001b[0m\u001b[0mx\u001b[0m\u001b[0;34m,\u001b[0m \u001b[0my\u001b[0m\u001b[0;34m)\u001b[0m\u001b[0;34m:\u001b[0m\u001b[0;34m\u001b[0m\u001b[0;34m\u001b[0m\u001b[0m\n\u001b[0;32m---> 12\u001b[0;31m     \u001b[0mr\u001b[0m \u001b[0;34m=\u001b[0m \u001b[0mx\u001b[0m \u001b[0;34m/\u001b[0m \u001b[0my\u001b[0m\u001b[0;34m\u001b[0m\u001b[0;34m\u001b[0m\u001b[0m\n\u001b[0m\u001b[1;32m     13\u001b[0m     \u001b[0;32mreturn\u001b[0m \u001b[0mr\u001b[0m\u001b[0;34m\u001b[0m\u001b[0;34m\u001b[0m\u001b[0m\n",
      "\u001b[0;31mZeroDivisionError\u001b[0m: division by zero"
     ]
    }
   ],
   "source": [
    "pdb.run('simple_function(0)')"
   ]
  },
  {
   "cell_type": "markdown",
   "metadata": {},
   "source": [
    "### Other tools: Tracing\n",
    "\n",
    "Some IDEs, like PyCharm, may offer enhanced and partially graphical debuggers. And, in Python 3.7, the new built-in `breakpoint()` can call the fancy debugger instead of the builtin one!\n",
    "\n",
    "Let's look at something similar: Tracing. If you have a complex piece of Python code and you want to have an idea of what the control flow looks like, you can trace it."
   ]
  },
  {
   "cell_type": "code",
   "execution_count": 11,
   "metadata": {},
   "outputs": [
    {
     "name": "stdout",
     "output_type": "stream",
     "text": [
      "Writing simple.py\n"
     ]
    }
   ],
   "source": [
    "%%writefile simple.py\n",
    "\n",
    "## A program to debug\n",
    "def simple_function(div):\n",
    "    simple_x = 2\n",
    "    simple_y = div\n",
    "\n",
    "    return fancy_function(simple_x, simple_y)\n",
    "\n",
    "\n",
    "def fancy_function(x, y):\n",
    "    r = x / y\n",
    "    return r\n",
    "\n",
    "\n",
    "def main():\n",
    "    print(simple_function(2))\n",
    "\n",
    "\n",
    "if __name__ == \"__main__\":\n",
    "    main()"
   ]
  },
  {
   "cell_type": "code",
   "execution_count": 12,
   "metadata": {},
   "outputs": [
    {
     "name": "stdout",
     "output_type": "stream",
     "text": [
      "1.0\r\n"
     ]
    }
   ],
   "source": [
    "!python simple.py"
   ]
  },
  {
   "cell_type": "code",
   "execution_count": 13,
   "metadata": {},
   "outputs": [
    {
     "name": "stdout",
     "output_type": "stream",
     "text": [
      " --- modulename: simple, funcname: <module>\r\n",
      "simple.py(3): def simple_function(div):\r\n",
      "simple.py(10): def fancy_function(x, y):\r\n",
      "simple.py(15): def main():\r\n",
      "simple.py(19): if __name__ == \"__main__\":\r\n",
      "simple.py(20):     main()\r\n",
      " --- modulename: simple, funcname: main\r\n",
      "simple.py(16):     print(simple_function(2))\r\n",
      " --- modulename: simple, funcname: simple_function\r\n",
      "simple.py(4):     simple_x = 2\r\n",
      "simple.py(5):     simple_y = div\r\n",
      "simple.py(7):     return fancy_function(simple_x, simple_y)\r\n",
      " --- modulename: simple, funcname: fancy_function\r\n",
      "simple.py(11):     r = x / y\r\n",
      "simple.py(12):     return r\r\n",
      "1.0\r\n"
     ]
    }
   ],
   "source": [
    "!python -m trace --trace simple.py"
   ]
  },
  {
   "cell_type": "code",
   "execution_count": 14,
   "metadata": {},
   "outputs": [
    {
     "name": "stdout",
     "output_type": "stream",
     "text": [
      "1.0\r\n",
      "\r\n",
      "functions called:\r\n",
      "filename: simple.py, modulename: simple, funcname: <module>\r\n",
      "filename: simple.py, modulename: simple, funcname: fancy_function\r\n",
      "filename: simple.py, modulename: simple, funcname: main\r\n",
      "filename: simple.py, modulename: simple, funcname: simple_function\r\n"
     ]
    }
   ],
   "source": [
    "!python -m trace --listfuncs simple.py"
   ]
  },
  {
   "cell_type": "markdown",
   "metadata": {},
   "source": [
    "## Boundary value problems (BPV)\n",
    "\n",
    "### DUAL ALGORITHMS: EIGENVALUES VIA ODE SOLVER + SEARCH\n",
    "\n",
    "Let us for now focus on Quantum Mechanical problems.\n",
    "\n",
    "The solution of the eigenvalue problem combines the numerical solution of the ordinary differential equation with a trial-and-error search for a wave function that satisfies the boundary conditions. This is done in several steps:\n",
    "\n",
    "* Start on the very far left at $x = −X_{max} \\sim −\\infty$, where $X_{max} \\gg a$. Since the potential\n",
    "$V = 0$ in this region, the analytic solution here is $e^{\\pm κx}$. Accordingly, assume that the\n",
    "wave function there satisfies the left-hand boundary condition $\\psi_L(x=-X_{max}) = e^{κx}=e^{-κX_{max}}$.\n",
    "\n",
    "* Use your favorite ODE solver to step $\\psi_L (x)$ in toward the origin (to the right) from\n",
    "$x = −X_{max}$ until you reach the matching radius $x_{match}. The exact value of this matching\n",
    "radius is not important, and our final solution should be independent of it. \n",
    "\n",
    "* Start on the very far right, that is, at $x = +X_{max} \\sim +\\infty$, with a wave function that\n",
    "satisfies the right-hand boundary condition $\\psi_L(x=X_{max}) = e^{-κx}=e^{κX_{max}}$\n",
    "\n",
    "* Use your favorite ODE solver (e.g., rk4) to step $\\psi_R (x)$ in toward the origin (to the left)\n",
    "from $x = X_{max}$ until you reach the matching radius $x_{match}$. \n",
    "\n",
    "* In order for probability and current to be continuous at $x=x_{match}$, $\\psi (x)$ and $\\psi ' (x)$ must\n",
    "be continuous there. Requiring the ratio $\\psi ' (x)/\\psi (x)$, called the logarithmic derivative,\n",
    "to be continuous encapsulates both continuity conditions into a single condition and is\n",
    "independent of $\\psi (x)$’s normalization.\n",
    "\n",
    "* Even though we do not know ahead of time which energies $E$ or κ values are eigenvalues,\n",
    "we still need a starting value for the energy in order to use our ODE solver. Such being\n",
    "the case, we start the solution with a guess for the energy. A good guess for ground-state\n",
    "energy would be a value somewhat up from that at the bottom of the well, $E > −V_0$.\n",
    "\n",
    "* Because it is unlikely that any guess will be correct, the left- and right-wave functions\n",
    "will not quite match at $x = x_{match}$. This is okay because we can use the\n",
    "amount of mismatch to improve the next guess. We measure how well the right and left\n",
    "wave functions match by calculating the difference\n",
    "\n",
    "$$\n",
    "\\Delta(E,x) = \\frac{\\psi_L'/\\psi_L - \\psi_R'/\\psi_R}{\\psi_L'/\\psi_L + \\psi_R'/\\psi_R}|_{x=x_{match}}\n",
    "$$\n",
    "\n",
    "\n",
    "where the denominator is used to avoid overly large or small numbers. Next we try a\n",
    "different energy, note how much $\\Delta(E)$ has changed, and use this to deduce an intelligent\n",
    "guess at the next energy. The search continues until the left- and right-wave $\\psi'/\\psi$ match\n",
    "within some tolerance.\n",
    "\n",
    "Let's look at a square well:\n",
    "\n"
   ]
  },
  {
   "cell_type": "code",
   "execution_count": 22,
   "metadata": {},
   "outputs": [],
   "source": [
    "import numpy as np\n",
    "import matplotlib.pyplot as plt\n",
    "import scipy.integrate"
   ]
  },
  {
   "cell_type": "markdown",
   "metadata": {},
   "source": [
    "$$\n",
    "\\begin{align}\n",
    "\\psi'' + \\left( \\frac{2 m}{\\hbar^2} V_0 - \\kappa^2 \\right) \\psi = 0,& \\quad \\textrm{for }|x|\\le a \\\\\n",
    "\\psi'' -  \\kappa^2 \\psi = 0,&\n",
    "\\quad \\textrm{for }|x| > a\n",
    "\\end{align}\n",
    "$$"
   ]
  },
  {
   "cell_type": "markdown",
   "metadata": {},
   "source": [
    "Again, we write this as a set of first order equations:\n",
    "\n",
    "$$\n",
    "u = \\left(\\begin{matrix}\\psi' \\\\ \\psi\\end{matrix}\\right)\n",
    "$$\n",
    "\n",
    "$$\n",
    "u' = \\left(\\begin{matrix}\\psi'' \\\\ \\psi'\\end{matrix}\\right)\n",
    "= \\left(\\begin{matrix}\\left( \\frac{2 m}{\\hbar^2} V_0 - \\kappa^2 \\right) \\psi \\\\ \\psi'\\end{matrix}\\right)\n",
    "$$\n",
    "\n",
    "where we set $V_0$ to $0$ when $|x|$ is larger than $a$. Boundary conditions:\n",
    "\n",
    "$$\n",
    "\\psi(x_\\mathrm{max}) = e^{-\\kappa x_\\mathrm{max}} \\\\\n",
    "\\psi(-x_\\mathrm{max}) = e^{-\\kappa x_\\mathrm{max}}\n",
    "$$\n"
   ]
  },
  {
   "cell_type": "markdown",
   "metadata": {},
   "source": [
    "Double click to see broken code for `solve_bvp` (in a live notebook, not a viewer).\n",
    "\n",
    "<!--\n",
    "\n",
    "```python\n",
    "width = 10\n",
    "\n",
    "def f(x, y, p):\n",
    "    E, = p\n",
    "    V = np.where(abs(x) < 10, -16, 0)\n",
    "    return np.vstack([y[1], -0.4829*(E - V)*y[0]])\n",
    "\n",
    "def bc(ya, yb, p):\n",
    "    E, = p\n",
    "    κ = np.sqrt(0.0483 * abs(E) * 10)\n",
    "    bc = np.exp(-κ * width)\n",
    "\n",
    "    return np.array([ya[0] - bc, yb[0] - bc, ya[1] + yb[1]])\n",
    "\n",
    "x = np.linspace(-width, width, 100)\n",
    "y = np.ones([2,len(x)])\n",
    "\n",
    "res = scipy.integrate.solve_bvp(f, bc, x, y, p=[-17])\n",
    "print(res.message)\n",
    "print('p =', res.p[0])\n",
    "\n",
    "plt.plot(res.x, res.y[0])\n",
    "```\n",
    "\n",
    "-->"
   ]
  },
  {
   "cell_type": "code",
   "execution_count": 23,
   "metadata": {},
   "outputs": [
    {
     "name": "stdout",
     "output_type": "stream",
     "text": [
      "-17.077272727272728\n"
     ]
    },
    {
     "data": {
      "image/png": "[encoded data removed]",
      "text/plain": [
       "<Figure size 432x288 with 1 Axes>"
      ]
     },
     "metadata": {
      "needs_background": "light"
     },
     "output_type": "display_data"
    },
    {
     "name": "stdout",
     "output_type": "stream",
     "text": [
      "-16.26590909090909\n"
     ]
    },
    {
     "data": {
      "image/png": "[encoded data removed]",
      "text/plain": [
       "<Figure size 432x288 with 1 Axes>"
      ]
     },
     "metadata": {
      "needs_background": "light"
     },
     "output_type": "display_data"
    },
    {
     "name": "stdout",
     "output_type": "stream",
     "text": [
      "-15.860227272727272\n"
     ]
    },
    {
     "data": {
      "image/png": "[encoded data removed]",
      "text/plain": [
       "<Figure size 432x288 with 1 Axes>"
      ]
     },
     "metadata": {
      "needs_background": "light"
     },
     "output_type": "display_data"
    },
    {
     "name": "stdout",
     "output_type": "stream",
     "text": [
      "-16.06306818181818\n"
     ]
    },
    {
     "data": {
      "image/png": "[encoded data removed]",
      "text/plain": [
       "<Figure size 432x288 with 1 Axes>"
      ]
     },
     "metadata": {
      "needs_background": "light"
     },
     "output_type": "display_data"
    },
    {
     "name": "stdout",
     "output_type": "stream",
     "text": [
      "-15.961647727272727\n"
     ]
    },
    {
     "data": {
      "image/png": "[encoded data removed]",
      "text/plain": [
       "<Figure size 432x288 with 1 Axes>"
      ]
     },
     "metadata": {
      "needs_background": "light"
     },
     "output_type": "display_data"
    },
    {
     "name": "stdout",
     "output_type": "stream",
     "text": [
      "-15.9109375\n"
     ]
    },
    {
     "data": {
      "image/png": "[encoded data removed]",
      "text/plain": [
       "<Figure size 432x288 with 1 Axes>"
      ]
     },
     "metadata": {
      "needs_background": "light"
     },
     "output_type": "display_data"
    },
    {
     "name": "stdout",
     "output_type": "stream",
     "text": [
      "-15.936292613636363\n"
     ]
    },
    {
     "data": {
      "image/png": "[encoded data removed]",
      "text/plain": [
       "<Figure size 432x288 with 1 Axes>"
      ]
     },
     "metadata": {
      "needs_background": "light"
     },
     "output_type": "display_data"
    },
    {
     "name": "stdout",
     "output_type": "stream",
     "text": [
      "-15.948970170454544\n"
     ]
    },
    {
     "data": {
      "image/png": "[encoded data removed]",
      "text/plain": [
       "<Figure size 432x288 with 1 Axes>"
      ]
     },
     "metadata": {
      "needs_background": "light"
     },
     "output_type": "display_data"
    },
    {
     "name": "stdout",
     "output_type": "stream",
     "text": [
      "-15.955308948863635\n"
     ]
    },
    {
     "data": {
      "image/png": "[encoded data removed]",
      "text/plain": [
       "<Figure size 432x288 with 1 Axes>"
      ]
     },
     "metadata": {
      "needs_background": "light"
     },
     "output_type": "display_data"
    },
    {
     "name": "stdout",
     "output_type": "stream",
     "text": [
      "-15.95213955965909\n"
     ]
    },
    {
     "data": {
      "image/png": "[encoded data removed]",
      "text/plain": [
       "<Figure size 432x288 with 1 Axes>"
      ]
     },
     "metadata": {
      "needs_background": "light"
     },
     "output_type": "display_data"
    },
    {
     "name": "stdout",
     "output_type": "stream",
     "text": [
      "-15.950554865056816\n"
     ]
    },
    {
     "data": {
      "image/png": "[encoded data removed]",
      "text/plain": [
       "<Figure size 432x288 with 1 Axes>"
      ]
     },
     "metadata": {
      "needs_background": "light"
     },
     "output_type": "display_data"
    },
    {
     "name": "stdout",
     "output_type": "stream",
     "text": [
      "-15.951347212357952\n"
     ]
    },
    {
     "data": {
      "image/png": "[encoded data removed]",
      "text/plain": [
       "<Figure size 432x288 with 1 Axes>"
      ]
     },
     "metadata": {
      "needs_background": "light"
     },
     "output_type": "display_data"
    },
    {
     "name": "stdout",
     "output_type": "stream",
     "text": [
      "-15.95174338600852\n"
     ]
    },
    {
     "data": {
      "image/png": "[encoded data removed]",
      "text/plain": [
       "<Figure size 432x288 with 1 Axes>"
      ]
     },
     "metadata": {
      "needs_background": "light"
     },
     "output_type": "display_data"
    },
    {
     "name": "stdout",
     "output_type": "stream",
     "text": [
      "-15.951941472833806\n"
     ]
    },
    {
     "data": {
      "image/png": "[encoded data removed]",
      "text/plain": [
       "<Figure size 432x288 with 1 Axes>"
      ]
     },
     "metadata": {
      "needs_background": "light"
     },
     "output_type": "display_data"
    },
    {
     "name": "stdout",
     "output_type": "stream",
     "text": [
      "-15.952040516246448\n"
     ]
    },
    {
     "data": {
      "image/png": "[encoded data removed]",
      "text/plain": [
       "<Figure size 432x288 with 1 Axes>"
      ]
     },
     "metadata": {
      "needs_background": "light"
     },
     "output_type": "display_data"
    },
    {
     "name": "stdout",
     "output_type": "stream",
     "text": [
      "Final eigenvalue E =  -15.952090037952768\n",
      "iterations, max =  15\n"
     ]
    }
   ],
   "source": [
    "\"\"\" From \"COMPUTATIONAL PHYSICS\" & \"COMPUTER PROBLEMS in PHYSICS\"\n",
    "    by RH Landau, MJ Paez, and CC Bordeianu (deceased)\n",
    "    Copyright R Landau, Oregon State Unv, MJ Paez, Univ Antioquia, \n",
    "    C Bordeianu, Univ Bucharest, 2017. \n",
    "    Please respect copyright & acknowledge our work.\"\"\"\n",
    "\n",
    "# QuantumEigen.py:             Finds E and psi via rk4 + bisection\n",
    "\n",
    "# mass/((hbar*c)**2)= 940MeV/(197.33MeV-fm)**2 =0.4829\n",
    "# well width=20.0 fm, depth 10 MeV, Wave function not normalized.\n",
    "\n",
    "import numpy as np\n",
    "import matplotlib.pyplot as plt\n",
    "\n",
    "eps = 1e-3  # Precision\n",
    "n_steps = 501\n",
    "E = -17  # E guess\n",
    "h = 0.04\n",
    "count_max = 100\n",
    "Emax = 1.1 * E  # E limits\n",
    "Emin = E / 1.1\n",
    "\n",
    "\n",
    "def f(x, y, E):\n",
    "    return np.array([y[1], -0.4829 * (E - V(x)) * y[0]])\n",
    "\n",
    "\n",
    "def V(x):\n",
    "    # Well depth\n",
    "    return -16 if abs(x) < 10 else 0\n",
    "\n",
    "\n",
    "def rk4(t, y, h, Neqs, E):\n",
    "    ydumb = np.zeros((Neqs), float)\n",
    "    k1 = np.zeros((Neqs), float)\n",
    "    k2 = np.zeros((Neqs), float)\n",
    "    k3 = np.zeros((Neqs), float)\n",
    "    k4 = np.zeros((Neqs), float)\n",
    "\n",
    "    F = f(t, y, E)\n",
    "    k1 = h * F\n",
    "    ydumb = y + k1 / 2\n",
    "\n",
    "    F = f(t + h / 2, ydumb, E)\n",
    "    k2 = h * F\n",
    "    ydumb = y + k2 / 2\n",
    "\n",
    "    F = f(t + h / 2, ydumb, E)\n",
    "    k3 = h * F\n",
    "    ydumb = y + k3\n",
    "\n",
    "    F = f(t + h, ydumb, E)\n",
    "    k4 = h * F\n",
    "\n",
    "    y += (k1 + 2 * (k2 + k3) + k4) / 6\n",
    "\n",
    "\n",
    "def diff(E, h):\n",
    "    i_match = n_steps // 3  # Matching radius\n",
    "    nL = i_match + 1\n",
    "\n",
    "    y = np.array([1e-15, 1e-15 * np.sqrt(-E * 0.4829)])  # Initial left wf\n",
    "\n",
    "    for ix in range(0, nL + 1):\n",
    "        x = h * (ix - n_steps / 2)\n",
    "        rk4(x, y, h, 2, E)\n",
    "\n",
    "    left = y[1] / y[0]  # Log  derivative\n",
    "\n",
    "    y[0] = 1e-15\n",
    "    # For even;  reverse for odd\n",
    "    y[1] = -y[0] * np.sqrt(-E * 0.4829)  # Initialize R wf\n",
    "\n",
    "    for ix in range(n_steps, nL + 1, -1):\n",
    "        x = h * (ix + 1 - n_steps / 2)\n",
    "        rk4(x, y, -h, 2, E)\n",
    "\n",
    "    right = y[1] / y[0]  # Log derivative\n",
    "    return (left - right) / (left + right)\n",
    "\n",
    "\n",
    "def plot(E, h):\n",
    "    # Repeat integrations for plot\n",
    "    x = 0.0\n",
    "    n_steps = 1501  # integration steps\n",
    "\n",
    "    y = np.zeros((2), float)\n",
    "    yL = np.zeros((2, 505), float)\n",
    "    i_match = 500  # Matching point\n",
    "    nL = i_match + 1\n",
    "\n",
    "    y[0] = 1e-40  # Initial left wf\n",
    "    y[1] = -np.sqrt(-E * 0.4829) * y[0]\n",
    "\n",
    "    for ix in range(nL + 1):\n",
    "        yL[0][ix] = y[0]\n",
    "        yL[1][ix] = y[1]\n",
    "        x = h * (ix - n_steps / 2)\n",
    "        rk4(x, y, h, 2, E)\n",
    "\n",
    "    y[0] = -1.0e-15  # For even;  reverse for odd\n",
    "    y[1] = -np.sqrt(-E * 0.4829) * y[0]\n",
    "    j = 0\n",
    "\n",
    "    Rwf_x = np.zeros(n_steps - 3 - nL)\n",
    "    Rwf_y = np.zeros(n_steps - 3 - nL)\n",
    "    for ix in range(n_steps - 1, nL + 2, -1):  # right WF\n",
    "        x = h * (ix + 1 - n_steps / 2)  # Integrate in\n",
    "        rk4(x, y, -h, 2, E)\n",
    "        Rwf_x[j] = 2 * (ix + 1 - n_steps / 2)\n",
    "        Rwf_y[j] = y[0] * 35e-9\n",
    "        j += 1\n",
    "    x = x - h\n",
    "    normL = y[0] / yL[0][nL]\n",
    "    j = 0\n",
    "\n",
    "    # Renormalize L wf & derivative\n",
    "    Lwf_x = np.zeros(nL + 1)\n",
    "    Lwf_y = np.zeros(nL + 1)\n",
    "    for ix in range(nL + 1):\n",
    "        x = h * (ix - n_steps / 2 + 1)\n",
    "        y[0] = yL[0][ix] * normL\n",
    "        y[1] = yL[1][ix] * normL\n",
    "        Lwf_x[j] = 2 * (ix - n_steps / 2 + 1)\n",
    "        Lwf_y[j] = y[0] * 35e-9  # Factor for scale\n",
    "        j += 1\n",
    "\n",
    "    print(E)\n",
    "    plt.plot(Rwf_x, Rwf_y)\n",
    "    plt.plot(Lwf_x, Lwf_y)\n",
    "    plt.show()\n",
    "\n",
    "\n",
    "for count in range(0, count_max + 1):\n",
    "    # Iteration loop\n",
    "    E = (Emax + Emin) / 2  # Divide E range\n",
    "    Diff = diff(E, h)\n",
    "\n",
    "    if diff(Emax, h) * Diff > 0:\n",
    "        Emax = E  # Bisection algor\n",
    "    else:\n",
    "        Emin = E\n",
    "\n",
    "    if abs(Diff) < eps:\n",
    "        break\n",
    "\n",
    "    plot(E, h)\n",
    "\n",
    "\n",
    "print(\"Final eigenvalue E = \", E)\n",
    "print(\"iterations, max = \", count)"
   ]
  },
  {
   "cell_type": "markdown",
   "metadata": {},
   "source": [
    "## Problem 2: Projectile motion with drag\n",
    "\n",
    "We can select a power $n=1$ or $2$. The friction coefficient is $k$.\n",
    "\n",
    "$$\n",
    "\\ddot{x} = - k \\dot{x}^n \\frac{\\dot{x}}{v} \\\\\n",
    "\\ddot{y} = - g - k \\dot{y}^n \\frac{\\dot{y}}{v} \\\\\n",
    "v = \\sqrt{\\dot{x}^2 + \\dot{y}^2}\n",
    "$$\n",
    "\n",
    "We can rewrite it:\n",
    "\n",
    "$$\n",
    "u = \\left(\\begin{matrix}\n",
    "    x \\\\\n",
    "    \\dot{x} \\\\\n",
    "    y \\\\\n",
    "    \\dot{y}\n",
    "\\end{matrix}\\right)\n",
    "$$\n",
    "\n",
    "Then:\n",
    "\n",
    "$$\n",
    "\\dot{u} = \\left(\\begin{matrix}\n",
    "    \\dot{x} \\\\\n",
    "    - k \\dot{x}^n \\frac{\\dot{x}}{v} \\\\\n",
    "    \\dot{y} \\\\\n",
    "    - g - k \\dot{y}^n \\frac{\\dot{y}}{v}\n",
    "\\end{matrix}\\right)\n",
    "=\n",
    "\\left(\\begin{matrix}\n",
    "    u_1 \\\\\n",
    "    - k u_1^n \\frac{u_1}{\\sqrt{u_1^2 + u_3^2}} \\\\\n",
    "    u_3 \\\\\n",
    "    - g - k u_3^n \\frac{u_3}{\\sqrt{u_1^2 + u_3^2}}\n",
    "\\end{matrix}\\right)\n",
    "$$\n",
    "\n",
    "We can set the initial positions to 0 and give it a starting velocity, and compare no friction to friction versions."
   ]
  },
  {
   "cell_type": "code",
   "execution_count": 16,
   "metadata": {},
   "outputs": [],
   "source": [
    "import scipy.integrate"
   ]
  },
  {
   "cell_type": "code",
   "execution_count": 17,
   "metadata": {},
   "outputs": [],
   "source": [
    "v0 = 22\n",
    "angle = 34\n",
    "g = 9.8\n",
    "k = 0.8\n",
    "n = 1\n",
    "\n",
    "v0x = v0 * np.cos(np.radians(angle))\n",
    "v0y = v0 * np.sin(np.radians(angle))\n",
    "\n",
    "t_eval = np.linspace(0, 2)\n",
    "analytic_x = v0x * t_eval\n",
    "analytic_y = v0y * t_eval - 0.5 * g * t_eval ** 2"
   ]
  },
  {
   "cell_type": "code",
   "execution_count": 18,
   "metadata": {},
   "outputs": [],
   "source": [
    "def f(t, u):\n",
    "    v = np.sqrt(u[1] ** 2 + u[3] ** 2)\n",
    "    return np.stack(\n",
    "        [u[1], -k * u[1] ** n * u[1] / v, u[3], -g - k * u[3] ** n * u[3] / v]\n",
    "    )"
   ]
  },
  {
   "cell_type": "code",
   "execution_count": 19,
   "metadata": {},
   "outputs": [
    {
     "name": "stdout",
     "output_type": "stream",
     "text": [
      "The solver successfully reached the end of the integration interval.\n"
     ]
    }
   ],
   "source": [
    "res = scipy.integrate.solve_ivp(f, [0, 2], [0, v0x, 0, v0y], t_eval=t_eval)\n",
    "print(res.message)"
   ]
  },
  {
   "cell_type": "code",
   "execution_count": 20,
   "metadata": {},
   "outputs": [
    {
     "data": {
      "text/plain": [
       "[<matplotlib.lines.Line2D at 0x7fe8179008b0>]"
      ]
     },
     "execution_count": 20,
     "metadata": {},
     "output_type": "execute_result"
    },
    {
     "data": {
      "image/png": "[encoded data removed]",
      "text/plain": [
       "<Figure size 576x216 with 1 Axes>"
      ]
     },
     "metadata": {
      "needs_background": "light"
     },
     "output_type": "display_data"
    }
   ],
   "source": [
    "plt.figure(figsize=(8, 3))\n",
    "plt.plot(res.y[0], res.y[2])\n",
    "plt.plot(analytic_x, analytic_y)"
   ]
  },
  {
   "cell_type": "code",
   "execution_count": 21,
   "metadata": {},
   "outputs": [
    {
     "name": "stdout",
     "output_type": "stream",
     "text": [
      "No Drag T = 2.510662015582945 , H = 7.7216941017014955 , R = 45.79152914391073\n",
      "\n",
      "       With Friction  \n",
      "       x            y\n",
      "  1.5878444084   0.9841455183 \n",
      "  3.0560925976   1.8072962748 \n",
      "  4.4137525380   2.4815783725 \n",
      "  5.6691537211   3.0182045781 \n",
      "  6.8299982623   3.4275431141 \n",
      "  7.9034081546   3.7191812700 \n",
      "  8.8959689636   3.9019842221 \n",
      "  9.8137702310   3.9841494227 \n",
      " 10.6624428350   3.9732568932 \n",
      " 11.4471935368   3.8763157289 \n",
      " 12.1728369253   3.6998071009 \n",
      " 12.8438249551   3.4497240195 \n",
      " 13.4642742600   3.1316081022 \n",
      " 14.0379914099   2.7505835728 \n",
      " 14.5684962641   2.3113886991 \n",
      " 15.0590435667   1.8184048634 \n",
      " 15.5126429149   1.2756834428 \n",
      " 15.9320772235   0.6869706652 \n",
      " 16.3199197985   0.0557305932 \n",
      "\n",
      "       No Friction  \n",
      "        x            y\n",
      "  0.0000000000   0.0000000000\n",
      "  2.0606188115   1.3273592161\n",
      "  4.1212376230   2.5296269877\n",
      "  6.1818564344   3.6068033149\n",
      "  8.2424752459   4.5588881976\n",
      " 10.3030940574   5.3858816359\n",
      " 12.3637128689   6.0877836298\n",
      " 14.4243316803   6.6645941792\n",
      " 16.4849504918   7.1163132841\n",
      " 18.5455693033   7.4429409446\n",
      " 20.6061881148   7.6444771607\n",
      " 22.6668069262   7.7209219323\n",
      " 24.7274257377   7.6722752595\n",
      " 26.7880445492   7.4985371422\n",
      " 28.8486633607   7.1997075804\n",
      " 30.9092821721   6.7757865742\n",
      " 32.9699009836   6.2267741236\n",
      " 35.0305197951   5.5526702285\n",
      " 37.0911386066   4.7534748890\n",
      " 39.1517574180   3.8291881050\n"
     ]
    },
    {
     "data": {
      "image/png": "[encoded data removed]",
      "text/plain": [
       "<Figure size 432x288 with 1 Axes>"
      ]
     },
     "metadata": {
      "needs_background": "light"
     },
     "output_type": "display_data"
    }
   ],
   "source": [
    "\"\"\" From \"COMPUTATIONAL PHYSICS\" & \"COMPUTER PROBLEMS in PHYSICS\"\n",
    "    by RH Landau, MJ Paez, and CC Bordeianu (deceased)\n",
    "    Copyright R Landau, Oregon State Unv, MJ Paez, Univ Antioquia, \n",
    "    C Bordeianu, Univ Bucharest, 2017. \n",
    "    Please respect copyright & acknowledge our work.\"\"\"\n",
    "\n",
    "# ProjectileAir.py: Order dt^2 projectile trajectory + drag\n",
    "\n",
    "import numpy as np\n",
    "import matplotlib.pyplot as plt\n",
    "\n",
    "v0 = 22\n",
    "angle = 34.0\n",
    "g = 9.8\n",
    "kf = 0.8\n",
    "N = 20\n",
    "\n",
    "v0x = v0 * np.cos(angle * np.pi / 180)\n",
    "v0y = v0 * np.sin(angle * np.pi / 180)\n",
    "T = 2 * v0y / g\n",
    "H = v0y ** 2 / 2 / g\n",
    "R = 2 * v0x * v0y / g\n",
    "\n",
    "print(\"No Drag T =\", T, \", H =\", H, \", R =\", R)\n",
    "\n",
    "\n",
    "def plotNumeric(k):\n",
    "    vx = v0 * np.cos(angle * np.pi / 180)\n",
    "    vy = v0 * np.sin(angle * np.pi / 180)\n",
    "    x = 0.0\n",
    "    y = 0.0\n",
    "    dt = vy / g / N * 1.5\n",
    "\n",
    "    print(\"\\n       With Friction  \")\n",
    "    print(\"       x            y\")\n",
    "\n",
    "    xy = np.empty((2, N))\n",
    "    xy[:, 0] = 0, 0\n",
    "\n",
    "    for i in range(N - 1):\n",
    "        vx = vx - k * vx * dt\n",
    "        vy = vy - g * dt - k * vy * dt\n",
    "        x = x + vx * dt\n",
    "        y = y + vy * dt\n",
    "        xy[:, i + 1] = x, y\n",
    "        print(\" %13.10f  %13.10f \" % (x, y))\n",
    "\n",
    "    plt.plot(*xy)\n",
    "\n",
    "\n",
    "def plotAnalytic():\n",
    "    v0x = v0 * np.cos(angle * np.pi / 180)\n",
    "    v0y = v0 * np.sin(angle * np.pi / 180)\n",
    "    dt = v0y / g / N * 1.8\n",
    "    print(\"\\n       No Friction  \")\n",
    "    print(\"        x            y\")\n",
    "\n",
    "    xy = np.empty((2, N))\n",
    "    for i in range(N):\n",
    "        t = i * dt\n",
    "        x = v0x * t\n",
    "        y = v0y * t - g * t * t / 2\n",
    "        xy[:, i] = x, y\n",
    "        print(\" %13.10f  %13.10f\" % (x, y))\n",
    "\n",
    "    plt.plot(*xy)\n",
    "\n",
    "\n",
    "plotNumeric(kf)\n",
    "plotAnalytic()"
   ]
  },
  {
   "cell_type": "code",
   "execution_count": null,
   "metadata": {},
   "outputs": [],
   "source": []
  }
 ],
 "metadata": {
  "kernelspec": {
   "display_name": "Python 3 (ipykernel)",
   "language": "python",
   "name": "python3"
  },
  "language_info": {
   "codemirror_mode": {
    "name": "ipython",
    "version": 3
   },
   "file_extension": ".py",
   "mimetype": "text/x-python",
   "name": "python",
   "nbconvert_exporter": "python",
   "pygments_lexer": "ipython3",
   "version": "3.8.10"
  }
 },
 "nbformat": 4,
 "nbformat_minor": 2
}
