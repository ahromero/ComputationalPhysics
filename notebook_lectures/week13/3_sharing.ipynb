{
 "cells": [
  {
   "cell_type": "markdown",
   "metadata": {},
   "source": [
    "# Week 14 Day 3: Sharing and documenting code\n",
    "\n",
    "## Objectives\n",
    "* Go over the final presentation\n",
    "* Go over the final project report\n",
    "* Talk about reproducible research\n",
    "* Talk about what we didn't talk about."
   ]
  },
  {
   "cell_type": "markdown",
   "metadata": {},
   "source": [
    "## Presentations"
   ]
  },
  {
   "cell_type": "markdown",
   "metadata": {},
   "source": [
    "### Previous rubric:\n",
    "\n",
    "#### Style\n",
    "\n",
    "* Include page numbers?                <span style=\"float:right;\"> 10 pts </span>\n",
    "* Fonts legible?                       <span style=\"float:right;\"> 5 pts </span>\n",
    "* Some reasonable figures/images?      <span style=\"float:right;\"> 10 pts </span>\n",
    "* Reasonable amount of text per slide (not too much)? <span style=\"float:right;\"> 5 pts </span>\n",
    "* Attractive slides?                   <span style=\"float:right;\"> 5 pts </span>\n",
    "* Multiple obvious grammatical/spelling errors? <span style=\"float:right;\"> 10 pts </span>\n",
    "\n",
    "#### Content\n",
    "\n",
    "* Intro\n",
    "    - Clear to non-expert?                     <span style=\"float:right;\"> 15 pts </span>\n",
    "    - Explains why the audience should be interested?  <span style=\"float:right;\"> 15 pts </span>\n",
    "* Plans/results\n",
    "    - Clear description of what was done or will be done? <span style=\"float:right;\"> 15 pts </span>\n",
    "\n",
    "#### Speaking\n",
    "* Stayed on time? (UG)                 <span style=\"float:right;\"> 5 pts </span>\n",
    "* Avoid directly reading slides?       <span style=\"float:right;\"> 5 pts </span>\n",
    "\n",
    "\n",
    "See [100 point talk rubric](https://www.rcampus.com/rubricshowc.cfm?code=CX6CA97&sp=yes&)"
   ]
  },
  {
   "cell_type": "markdown",
   "metadata": {},
   "source": [
    "### Final presentation:\n",
    "\n",
    "**Sign up for a time slot!**\n",
    "\n",
    "#### Parts\n",
    "\n",
    "* Title slide with your **name**.\n",
    "* Intro (similar to before, 2-3 slides)\n",
    "* Procedures (discussion of what was done, 2-3 slides)\n",
    "* Results (discussion of what was accomplished, 2-3 slides)\n",
    "* Future plans (what can be done, 1 slide)\n",
    "* Conclusion (Quick recap in 1 slide)\n",
    "* References (1 slide)\n",
    "* Backup (anything)\n",
    "\n",
    "#### Guides\n",
    "* Have at least 2 images. More is better.\n",
    "* You must have **slide numbers**.\n",
    "* Stay on time. You have 10 minutes, plus ~2 minutes for questions. If you go over, you will have to stop.\n",
    "* Keep text per slide down - The 1-6-6 rule is too strict, but keep it in mind. Maybe [see this page](https://www.elsevier.com/connect/how-to-give-a-dynamic-scientific-presentation).\n",
    "* Think visual - how do you make your content clear and have an impact?"
   ]
  },
  {
   "cell_type": "markdown",
   "metadata": {},
   "source": [
    "## Project report\n",
    "\n",
    "### Format\n",
    "* You will \"submit\" a git repository with your code.\n",
    "    - It does not *have* to be in git. But recommended. If not, you should be able to send a zip file with it.\n",
    "* Should be reproducible - if I have access to your data, I should be able to run your code and get your results.\n",
    "* Structure should be similar to recommended structure in class\n",
    "    - Must have 1+ `.py` files with implementations\n",
    "    - Should have notebook(s) or python scripts that run the library parts\n",
    "    - Should have a list of some sort of requirements / used packages\n",
    "    - Data does not have to be included\n",
    "* Two documents required:\n",
    "    - README.md (or similar): basic instructions to someone who wants to run your code\n",
    "    - Writeup as notebook or document: see below\n",
    "\n",
    "### Writeup\n",
    "* Report can be written in a notebook (with or without a bit of example code)\n",
    "* Should contain similar sections the slides (so see above)\n",
    "* Should be 2-4 pages in length, not counting code."
   ]
  },
  {
   "cell_type": "markdown",
   "metadata": {},
   "source": [
    "![Example of common Python environments](https://imgs.xkcd.com/comics/python_environment.png)"
   ]
  },
  {
   "cell_type": "markdown",
   "metadata": {},
   "source": [
    "## Reproducing your environment\n",
    "\n",
    "Several methods:\n",
    "\n",
    "* `setup.py`: make an installable package\n",
    "    - Good for libraries, but doesn't keep exact version numbers\n",
    "    - Harder to setup\n",
    "* `environment.xml`: list of packages for Conda\n",
    "    - Still only one version\n",
    "    - Requires Conda\n",
    "* `requirements.txt`: List of PyPI packages\n",
    "    - Directly supported by Pip\n",
    "    - Only PyPI packages\n",
    "* `Pipfile` and `Pipfile.lock`: list of packages for Pipenv\n",
    "    - Stores \"nice\" and \"reproducible\" version\n",
    "    - Always and automatically generated by Pipenv\n",
    "    - Only PyPI packages"
   ]
  },
  {
   "cell_type": "markdown",
   "metadata": {},
   "source": [
    "#### Example: Pipenv\n",
    "\n",
    "```bash\n",
    "pipenv install numpy uproot\n",
    "```\n",
    "\n",
    "This creates a virtual environment, a `Pipfile` and a `Pipfile.lock`. Pipfile will list general, explicit dependencies. Pipfile.lock will list *all* installed packages, including requirement from pip, and will have exact versions (and is an ugly file). You can do a few extra things in the Pipfile too, like set up cross-dependencies (install this back-ported package only on old Python, for example), require a Python version, and more."
   ]
  },
  {
   "cell_type": "markdown",
   "metadata": {},
   "source": [
    "### Why?\n",
    "\n",
    "Once you have this:\n",
    "\n",
    "* Others can make a virtual environment and run your code in 1-2 lines\n",
    "* You have a history of exactly what worked if something breaks\n",
    "* You can even give access to your code in a service like Binder; no install required\n",
    "* It's easy for you to set up your code on a new computer"
   ]
  },
  {
   "cell_type": "markdown",
   "metadata": {},
   "source": [
    "### Example: [PvFinder](https://gitlab.cern.ch/LHCb-Reco-Dev/pv-finder)\n",
    "\n",
    "This is a project I'm working on. Notice several things:\n",
    "\n",
    "* Pipfile: I don't actually use this (I'm using Conda) but I'm still tracking dependencies\n",
    "* README.md: A nice, markdown readme is in several directories\n",
    "* `model/`: The Python code is in here. I picked a bad name, but I am stuck with it.\n",
    "* `notebooks/`: Most of the \"user\" code is here, with explanations and plots. I clear the notebooks before committing them.\n",
    "* `scripts/`: Files in here are run directly from the shell.\n",
    "* `tests/`: I have only a few tests, but few is better than none.\n",
    "* Data is stored in another location, but symlinked in.\n",
    "* I make large changes in a branch, then make a Pull Request, keeps nice history and helps collaborators\n"
   ]
  },
  {
   "cell_type": "markdown",
   "metadata": {},
   "source": [
    "## What did we miss?\n",
    "\n",
    "Other topics we did not cover this semester because we were too short on time."
   ]
  },
  {
   "cell_type": "markdown",
   "metadata": {},
   "source": [
    "### Python language features\n",
    "\n",
    "We mostly skipped more advanced features or features that are really new.\n",
    "\n",
    "* Lambda functions: You can just write regular functions.\n",
    "* Advanced iterators/generators: Nice, but not critical for scientific code.\n",
    "* Async/Await: I've been trying for years to use this in scientific code. Haven't found a use yet. Maybe IPython 7's new support will make it useful for animations? Very much a Python 3 feature.\n",
    "* Static type hints: Nice tools (editors like PyCharm, static analyzer like MyPy) could make this useful, but it adds lots of extra bits of code and is very much a Python 3 feature. Can slow your code down a bit (better in Python 3.7 and will be even better in Python 4)\n",
    "* How to *write* a decorator: Very tricky to get just right.\n",
    "* Metaclasses and advanced class creation: Even if you think you need this, you probably don't.\n",
    "* Threading: Python really can't do faster *computation* in multiple threads; you should use something like Numba to do so. Regular threading (and async) is designed for IO, networking, etc; places where you sit and wait.\n",
    "* Python 2: Even though many experiments are still stuck on Python 2, it is a [dying language](https://pythonclock.org). Next year, [many more libraries](https://python3statement.org) will drop support from new releases. *Most* of what you know can be used or adapted to Python 2 if you have to."
   ]
  },
  {
   "cell_type": "code",
   "execution_count": null,
   "metadata": {},
   "outputs": [],
   "source": [
    "x : int = 0 # A static code analysis tool will complain if you set x to a non-int value."
   ]
  },
  {
   "cell_type": "markdown",
   "metadata": {},
   "source": [
    "### Related topics\n",
    "\n",
    "* [Shells](https://en.wikipedia.org/wiki/Comparison_of_command_shells): we didn't cover shells - it's a key part of working on any Unix system.\n",
    "    - Several old shells exist, like SH (1979) and CSH (1978). Don't use them.\n",
    "    - [Bash](https://en.wikipedia.org/wiki/Bash_(Unix_shell)) (1989) is the most common shell. It's what people mean by a shell most of the time. It's default pretty much anywhere, including macOS.\n",
    "    - New shells are fancier or more user friendly. [ZSH](https://en.wikipedia.org/wiki/Z_shell) is Bash on steroids, [FISH](https://fishshell.com) is a re-imagining of a shell for the 1990s (that's considered *new* for shells), and [Xonsh](http://xonsh.org) is a shell written in Python 3.\n",
    "* Containers: like [Docker](https://www.docker.com)\n",
    "    - Run a pristine custom Linux environment anywhere in seconds\n",
    "    - Too high a learning curve to cover - with great power, ...!\n",
    "    - Used for everything; you can get a container for any Linux OS, Anaconda, LaTeX, ROOT, and more.\n",
    "* Compiled extensions\n",
    "    - Would need another language, like C or C++11; and Numba covers many use cases already!\n",
    "* [PEPs](https://www.python.org/dev/peps/): Python Enhancement Proposals\n",
    "    - This is how Python is developed\n",
    "    - Almost all features were a PEP at one point\n",
    "    - Currently bogged down in finding a new governance model after Guido Van Rossum stepped down.\n",
    "* Utilities\n",
    "    - Formatting tools can check your format against [PEP 8](https://www.python.org/dev/peps/pep-0008/) (formatting guidelines)\n",
    "    - [Sphinx](http://www.sphinx-doc.org/en/master/) builds documentation for your code\n",
    "    - [CookieCutter](https://cookiecutter.readthedocs.io/en/latest/) can make a new project from a template\n",
    "    - Continuous integration services test your git repository on every commit, publish docs or a website, make binaries, push to PyPI, and more.\n",
    "* `setup.py`\n",
    "    - You can make an installable package\n",
    "    - Uses setuptools (third-party, but ubiquitous like pip) or distutils (standard library, but not recommended)\n",
    "    - Not that user friendly *yet* - see [flit](https://www.scivision.co/pyproject-toml-vs-setup-py/) - new tools require pip 10+\n",
    "* [More libraries](https://pythontips.com/2018/06/03/top-14-most-famous-python-libraries-frameworks/)\n",
    "    - [Plumbum](https://plumbum.readthedocs.io/en/latest/) makes writing shell scripts in Python simple (note: I'm the maintainer)\n",
    "* More about Jupyter notebooks\n",
    "    - How to write markdown, LaTeX math, hidden text, colors, and other ways to make great notebooks\n",
    "    - How to make a slide show from a notebook\n",
    "    - Examples of Jupyter Lab instead of plain Jupyter Notebook"
   ]
  },
  {
   "cell_type": "markdown",
   "metadata": {},
   "source": [
    "## Takeaways\n",
    "\n",
    "* Know what to look for\n",
    "* Know where to look\n",
    "* Code is a product of research, just like a paper. It should be made presentable.\n",
    "* Reading code is harder than writing code\n",
    "* Reading good code is easier than writing good code\n",
    "* Good code is tested, clear, and simple\n",
    "* Less code is easier to maintain/debug than more code most of the time\n",
    "* Understand the algorithm (maybe with a toy implementation), then use the existing tools if possible\n",
    "* Only make code uglier for performance *if it matters*! Check!\n",
    "* Python 3.6 was the most exciting Python release in the last 10 years, and probably for a few years to come. (3.7 was nice, but mostly focused on performance and security, and 3.8 will be bogged down in politics)."
   ]
  },
  {
   "cell_type": "markdown",
   "metadata": {},
   "source": [
    "## Bonus feature: DataClasses/Attrs\n",
    "\n",
    "We can't end without seeing some code! So let's look at a feature you probably thought existed when you tried to write your first class. A \"data\" class."
   ]
  },
  {
   "cell_type": "code",
   "execution_count": null,
   "metadata": {},
   "outputs": [],
   "source": [
    "class MyBadVector:\n",
    "    x = 0\n",
    "    y = 0\n",
    "    z = 0\n",
    "    \n",
    "# v = MyBadVector(1,2,3) # NO!\n",
    "# print(v) # Ugly!\n",
    "# MyBadVector.x <- Is stored in class, not instance!"
   ]
  },
  {
   "cell_type": "markdown",
   "metadata": {},
   "source": [
    "Python's best shot at providing something like this is a namedtuple - a very useful concept, but not really a very good class:"
   ]
  },
  {
   "cell_type": "code",
   "execution_count": null,
   "metadata": {},
   "outputs": [],
   "source": [
    "from collections import namedtuple\n",
    "MyTupleVector = namedtuple('MyTupleVector', ('x', 'y', 'z'))"
   ]
  },
  {
   "cell_type": "code",
   "execution_count": null,
   "metadata": {},
   "outputs": [],
   "source": [
    "v = MyTupleVector(1,2,3)\n",
    "print(v)"
   ]
  },
  {
   "cell_type": "code",
   "execution_count": null,
   "metadata": {},
   "outputs": [],
   "source": [
    "# Behaves like a tuple:\n",
    "x,y,z = v\n",
    "print(x)\n",
    "\n",
    "# But also has names!\n",
    "print(v.x)"
   ]
  },
  {
   "cell_type": "markdown",
   "metadata": {},
   "source": [
    "There are a few options, but not many.\n",
    "\n",
    "To really get what we want, we have to write a lot of boiler plate code that is always the same:"
   ]
  },
  {
   "cell_type": "code",
   "execution_count": null,
   "metadata": {},
   "outputs": [],
   "source": [
    "class MyProperVector:\n",
    "    __slots__ = (\"x\", \"y\", \"z\") # optional, used to make the class faster and smaller\n",
    "    \n",
    "    def __init__(self, x=0, y=0, z=0):\n",
    "        self.x = x # Each argument is listed 3 (or 4) times!\n",
    "        self.y = y # Easy to make mistake\n",
    "        self.z = z\n",
    "        \n",
    "    def __repr__(self):\n",
    "        # All classes need something like this, all about the same\n",
    "        return f\"{self.__class__.__name__}(x={self.x}, y={self.y}, z={self.z})\"\n",
    "\n",
    "v = MyProperVector(1,2,3)\n",
    "print(v)"
   ]
  },
  {
   "cell_type": "markdown",
   "metadata": {},
   "source": [
    "The relatively recent but very popular Attrs project was designed to fix this. Here's what it looks like."
   ]
  },
  {
   "cell_type": "code",
   "execution_count": null,
   "metadata": {},
   "outputs": [],
   "source": [
    "import attr # note: if you don't have it (you probably do), it's called attrs not attr in PyPI"
   ]
  },
  {
   "cell_type": "code",
   "execution_count": null,
   "metadata": {},
   "outputs": [],
   "source": [
    "@attr.s\n",
    "class MyAttrsVector:\n",
    "    x = attr.ib(0)\n",
    "    y = attr.ib(0)\n",
    "    z = attr.ib(0)"
   ]
  },
  {
   "cell_type": "code",
   "execution_count": null,
   "metadata": {},
   "outputs": [],
   "source": [
    "v = MyAttrsVector(1,2,3)\n",
    "print(v)"
   ]
  },
  {
   "cell_type": "markdown",
   "metadata": {},
   "source": [
    "You can optionally add auto-slots, types (as an argument or in Python 3.6 style), defaults, conversion functions, validation functions, immutability, and more!\n",
    "\n",
    "You automatically get (but can control) `__init__`, comparisons, and `__repr__`, and can also get `__slots__`, `__hash__`, and a few more."
   ]
  },
  {
   "cell_type": "markdown",
   "metadata": {},
   "source": [
    "This was so popular **Python 3.7** has added a version of it to the standard library! A few \"magical\" features are not included, like `__slots__` (Attrs actually creates a new class to add slots, while this could in very special and rare cases cause issues)."
   ]
  },
  {
   "cell_type": "code",
   "execution_count": null,
   "metadata": {},
   "outputs": [],
   "source": [
    "# Requires Python 3.7:\n",
    "\n",
    "from dataclasses import dataclass"
   ]
  },
  {
   "cell_type": "code",
   "execution_count": null,
   "metadata": {},
   "outputs": [],
   "source": [
    "@dataclass\n",
    "class MyDataClassVector:\n",
    "    x : float = 0\n",
    "    y : float = 0\n",
    "    z : float = 0  "
   ]
  },
  {
   "cell_type": "code",
   "execution_count": null,
   "metadata": {},
   "outputs": [],
   "source": [
    "v = MyDataClassVector(1,2,3)\n",
    "print(v)"
   ]
  }
 ],
 "metadata": {
  "language_info": {
   "codemirror_mode": {
    "name": "ipython",
    "version": 3
   },
   "file_extension": ".py",
   "mimetype": "text/x-python",
   "name": "python",
   "nbconvert_exporter": "python",
   "pygments_lexer": "ipython3",
   "version": "3.7.0"
  }
 },
 "nbformat": 4,
 "nbformat_minor": 2
}
