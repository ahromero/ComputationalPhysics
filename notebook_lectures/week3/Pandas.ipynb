{
 "cells": [
  {
   "cell_type": "markdown",
   "metadata": {},
   "source": [
    " <div style=\"clear: both; display: table;\">\n",
    "  <div style=\"border: none; float: left; width: 60%; padding: 5px\">\n",
    "  <h1 id=\"subtitle\">Chapter 6: Pandas</h1>\n",
    "  <h2 id=\"subtitle\">Guillermo Avendaño Franco <br> Aldo Humberto Romero</h2>\n",
    "  <br>\n",
    "  <img src=\"fig/1-line logotype124-295.png\" alt=\"Scientific Computing with Python\" style=\"width:50%\" align=\"left\">\n",
    "  </div>\n",
    "  <div style=\"border: none; float: left; width: 30%; padding: 5px\">\n",
    "  <img src=\"fig/SCPython.png\" alt=\"Scientific Computing with Python\" style=\"width:100%\">\n",
    "  </div>\n",
    "</div>\n",
    "\n",
    "Adapted by **Guillermo Avendaño** (WVU), **Jose Rogan** (Universidad de Chile) and **Aldo Humberto Romero** (WVU) from the [Tutorials for Stanford cs228 and cs231n](https://github.com/kuleshov/cs228-material). A large parte of the info was also built from scratch. In turn, that material was adapted by [Volodymyr Kuleshov](http://web.stanford.edu/~kuleshov/) and [Isaac Caswell](https://symsys.stanford.edu/viewing/symsysaffiliate/21335) from the `CS231n` Python tutorial by Justin Johnson (http://cs231n.github.io/python-numpy-tutorial/).\n",
    "\n",
    "Changes to the original tutorial include strict Python 3 formats and split of the material to fit a series of lessons on Python Programming for WVU's faculty and graduate students.\n",
    "\n",
    "The support of the National Science Foundation and the US Department of Energy under projects: DMREF-NSF 1434897, NSF OAC-1740111 and DOE DE-SC0016176 is recognized.\n",
    "\n",
    "<div style=\"clear: both; display: table;\">\n",
    "<div style=\"border: none; float: left; width: 40%; padding: 10px\">\n",
    "<img src=\"fig/NSF.jpg\" alt=\"National Science Foundation\" style=\"width:50%\" align=\"left\">\n",
    "    </div>\n",
    "    <div style=\"border: none; float: right; width: 40%; padding: 10px\">\n",
    "<img src=\"fig/DOE.jpg\" alt=\"National Science Foundation\" style=\"width:50%\" align=\"right\">\n",
    "</div>"
   ]
  },
  {
   "cell_type": "markdown",
   "metadata": {},
   "source": [
    "## Table of Contents\n",
    "\n",
    "Python is a great general-purpose programming language on its own. This notebook is focused on Pandas. \n",
    "Pandas is a library specialized in Data Analysis.\n",
    "The lesson is particularly oriented to Scientific Computing. \n",
    "Other episodes in the series include:\n",
    "\n",
    "  * Python Syntax \n",
    "  * The Python Standard Library\n",
    "  * Numpy\n",
    "  * Matplotlib\n",
    "  * Scipy\n",
    "  * **Pandas \\[This notebook\\]**\n",
    "  * Cython\n",
    "\n",
    "After completing all the series in this lesson you will realize that python has become a powerful environment for scientific computing at several levels, from intereactive computing to scripting to big project developments."
   ]
  },
  {
   "cell_type": "markdown",
   "metadata": {},
   "source": [
    "## Setup"
   ]
  },
  {
   "cell_type": "code",
   "execution_count": 1,
   "metadata": {},
   "outputs": [],
   "source": [
    "%load_ext watermark"
   ]
  },
  {
   "cell_type": "code",
   "execution_count": 2,
   "metadata": {},
   "outputs": [
    {
     "name": "stdout",
     "output_type": "stream",
     "text": [
      "2020-05-31T08:46:25-04:00\n",
      "\n",
      "CPython 3.7.7\n",
      "IPython 7.13.0\n",
      "\n",
      "compiler   : Clang 4.0.1 (tags/RELEASE_401/final)\n",
      "system     : Darwin\n",
      "release    : 19.5.0\n",
      "machine    : x86_64\n",
      "processor  : i386\n",
      "CPU cores  : 8\n",
      "interpreter: 64bit\n"
     ]
    }
   ],
   "source": [
    "%watermark"
   ]
  },
  {
   "cell_type": "code",
   "execution_count": 3,
   "metadata": {},
   "outputs": [
    {
     "name": "stdout",
     "output_type": "stream",
     "text": [
      "pandas 1.0.3\n",
      "\n"
     ]
    }
   ],
   "source": [
    "import pandas\n",
    "%watermark -iv"
   ]
  },
  {
   "cell_type": "markdown",
   "metadata": {},
   "source": [
    "## Introduction"
   ]
  },
  {
   "cell_type": "markdown",
   "metadata": {},
   "source": [
    "In this tutorial, we will cover:\n",
    "\n",
    "* Create DataFrames directly and from several file formats\n",
    "* Extract specific rows and columns"
   ]
  },
  {
   "cell_type": "markdown",
   "metadata": {},
   "source": [
    "The purpose of this notebook is to show the basic elements that makes Pandas a very effective tool for data analysis.\n",
    "In particular the focus will be on dealing with scientific data rather than a more broad \"another dataset\" approach \n",
    "from most tutorials of this kind.\n",
    "\n",
    "**pandas** is an open source, BSD-licensed library providing high-performance, easy-to-use data structures and data analysis tools for the Python programming language. It was created by Wes McKinney. \n",
    "\n",
    "**pandas** is a NumFOCUS sponsored project. It is a well stablished API and it is the foundation of several other packages used in data analysis, data mining and machine learning applications.\n",
    "\n",
    "Pandas is one of them most often asked questions on Stack Overflow, in part due to its rising popularity but also due to the versatility in manipulating data."
   ]
  },
  {
   "cell_type": "markdown",
   "metadata": {},
   "source": [
    "<img src=\"fig/atlas_Sk4U7xecQ@2x.png\" width=500px />"
   ]
  },
  {
   "cell_type": "markdown",
   "metadata": {},
   "source": [
    "Pandas can be used also in scripts and bigger applications. However, it is easier to learn it from an interactive computing perspective. So we will use this notebook for that purpose. FOr anything that is not cover here, there are two good resources you need to consider. One is the pandas webpage and the other one is [stackoverflow.com](http:stackoverflow.com).\n",
    "\n",
    "We start loading pandas:"
   ]
  },
  {
   "cell_type": "code",
   "execution_count": 4,
   "metadata": {},
   "outputs": [],
   "source": [
    "import os\n",
    "import pandas as pd"
   ]
  },
  {
   "cell_type": "markdown",
   "metadata": {},
   "source": [
    "The command above exposes all the functionality of pandas under the `pd` namespace. This namespace is optional and its name arbitrary but with time it has been converted into *the-facto* usage.\n",
    "\n",
    "Pandas deals with basically two kinds of data: Series and Dataframe. Series is just a collection of values like"
   ]
  },
  {
   "cell_type": "code",
   "execution_count": 5,
   "metadata": {},
   "outputs": [],
   "source": [
    "fibo=pd.Series([1,1,2,3,5,8,13])"
   ]
  },
  {
   "cell_type": "code",
   "execution_count": 6,
   "metadata": {},
   "outputs": [
    {
     "data": {
      "text/plain": [
       "0     1\n",
       "1     1\n",
       "2     2\n",
       "3     3\n",
       "4     5\n",
       "5     8\n",
       "6    13\n",
       "dtype: int64"
      ]
     },
     "execution_count": 6,
     "metadata": {},
     "output_type": "execute_result"
    }
   ],
   "source": [
    "fibo"
   ]
  },
  {
   "cell_type": "code",
   "execution_count": 27,
   "metadata": {},
   "outputs": [
    {
     "name": "stdout",
     "output_type": "stream",
     "text": [
      "France              Paris\n",
      "Colombia           Bogota\n",
      "Argentina    Buenos Aires\n",
      "Chile            Santiago\n",
      "dtype: object\n"
     ]
    }
   ],
   "source": [
    "#Let us see other example\n",
    "a={'France':'Paris','Colombia':'Bogota','Argentina':'Buenos Aires','Chile':'Santiago'}\n",
    "b=pd.Series(a)\n",
    "print(b)"
   ]
  },
  {
   "cell_type": "code",
   "execution_count": 28,
   "metadata": {},
   "outputs": [
    {
     "name": "stdout",
     "output_type": "stream",
     "text": [
      "Index(['France', 'Colombia', 'Argentina', 'Chile'], dtype='object')\n"
     ]
    }
   ],
   "source": [
    "print(b.index)"
   ]
  },
  {
   "cell_type": "code",
   "execution_count": 29,
   "metadata": {},
   "outputs": [
    {
     "name": "stdout",
     "output_type": "stream",
     "text": [
      "Paris              France\n",
      "Bogota           Colombia\n",
      "Buenos Aires    Argentina\n",
      "Santiago            Chile\n",
      "dtype: object\n"
     ]
    }
   ],
   "source": [
    "#We can also can create the list by passing the index as a list\n",
    "c=pd.Series(['France','Colombia','Argentina','Chile'],index=['Paris','Bogota','Buenos Aires','Santiago'])\n",
    "print(c)"
   ]
  },
  {
   "cell_type": "code",
   "execution_count": 44,
   "metadata": {},
   "outputs": [
    {
     "name": "stdout",
     "output_type": "stream",
     "text": [
      "Buenos Aires\n",
      "Buenos Aires\n",
      "Buenos Aires\n",
      "Colombia\n"
     ]
    }
   ],
   "source": [
    "# to look for the 3rd Capital in this list. Remember that here the country name is the indexing\n",
    "print(b.iloc[2])\n",
    "# to look for the capital of Argentina\n",
    "print(b.loc['Argentina'])\n",
    "# we can use the following but we have to be careful\n",
    "print(b[2])\n",
    "#why? because\n",
    "a={1:'France',2:'Colombia',3:'Argentina',4:'Chile'}\n",
    "p=pd.Series(a)\n",
    "#here we will print what happen with index 2, no by the \"position 2\". For that reason\n",
    "# it is always better to use iloc when quering a position\n",
    "print(p[2])\n"
   ]
  },
  {
   "cell_type": "code",
   "execution_count": 8,
   "metadata": {},
   "outputs": [
    {
     "data": {
      "text/plain": [
       "0       a\n",
       "1       b\n",
       "2       c\n",
       "3       d\n",
       "4    None\n",
       "dtype: object"
      ]
     },
     "execution_count": 8,
     "metadata": {},
     "output_type": "execute_result"
    }
   ],
   "source": [
    "data1=['a','b','c','d',None]\n",
    "pd.Series(data1)"
   ]
  },
  {
   "cell_type": "code",
   "execution_count": 9,
   "metadata": {},
   "outputs": [
    {
     "data": {
      "text/plain": [
       "0    1.0\n",
       "1    2.0\n",
       "2    2.0\n",
       "3    3.0\n",
       "4    NaN\n",
       "dtype: float64"
      ]
     },
     "execution_count": 9,
     "metadata": {},
     "output_type": "execute_result"
    }
   ],
   "source": [
    "#Here we stress that NaN is the same than None but it is number\n",
    "data2=[1,2,2,3,None]\n",
    "pd.Series(data2)"
   ]
  },
  {
   "cell_type": "code",
   "execution_count": 14,
   "metadata": {},
   "outputs": [
    {
     "name": "stdout",
     "output_type": "stream",
     "text": [
      "False\n",
      "False\n",
      "True\n"
     ]
    }
   ],
   "source": [
    "#To see why this is important, let see what Numpy says about None\n",
    "import numpy as np\n",
    "print(np.nan == None)\n",
    "# more interesting is if we compare np.nan with itself\n",
    "print(np.nan == np.nan)\n",
    "#THerefore we need an special function to check the existence of a Nan such as\n",
    "print(np.isnan(np.nan))"
   ]
  },
  {
   "cell_type": "code",
   "execution_count": 55,
   "metadata": {},
   "outputs": [
    {
     "name": "stdout",
     "output_type": "stream",
     "text": [
      "0    1\n",
      "1    2\n",
      "2    3\n",
      "dtype: int64\n",
      "0                 1\n",
      "1                 2\n",
      "2                 3\n",
      "New capital    None\n",
      "dtype: object\n"
     ]
    }
   ],
   "source": [
    "# we can also mix types\n",
    "a=pd.Series([1,2,3])\n",
    "print(a)\n",
    "#now we add a new entry\n",
    "a.loc['New capital']='None'\n",
    "print(a)"
   ]
  },
  {
   "cell_type": "markdown",
   "metadata": {},
   "source": [
    "Dataframes are basically tables, consider for example this table with the Boiling Points for common Liquids and Gases at Atmosferic pressure. Data from <https://www.engineeringtoolbox.com/boiling-points-fluids-gases-d_155.html>\n",
    "\n",
    "| Product | Boiling Point (C) | Boiling Point (F) |\n",
    "|:--------|:--------------|:----------------------|\n",
    "|Acetylene \t|-84          | -119|\n",
    "|Ammonia \t|-35.5  \t  | -28.1|\n",
    "|Ethanol \t| 78.4 \t      | 173|\n",
    "|Isopropyl Alchol |\t80.3  |\t177|\n",
    "|Mercury \t| 356.9 \t  | 675.1|\n",
    "|Methane \t| -161.5 \t  | -258.69|\n",
    "|Methanol\t| 66    \t  | 151|\n",
    "|Propane \t| -42.04 \t  | -43.67|\n",
    "|Sulfuric Acid \t| 330 \t  | 626|\n",
    "|Water \t    |100 \t      | 212|\n",
    "\n",
    "This table can be converted into a Pandas Dataframe using a python dictionary as entry."
   ]
  },
  {
   "cell_type": "code",
   "execution_count": 7,
   "metadata": {},
   "outputs": [],
   "source": [
    "temps={'F': [-84, -35.5, 78.4, 80.3, 356.9, -161.5, 66, -42.04, 330, 100], \n",
    "       'C':[-119,-28.1, 173, 177, 675.1, -258.69, 151, -43.67, 626, 212]}"
   ]
  },
  {
   "cell_type": "code",
   "execution_count": 8,
   "metadata": {},
   "outputs": [
    {
     "data": {
      "text/html": [
       "<div>\n",
       "<style scoped>\n",
       "    .dataframe tbody tr th:only-of-type {\n",
       "        vertical-align: middle;\n",
       "    }\n",
       "\n",
       "    .dataframe tbody tr th {\n",
       "        vertical-align: top;\n",
       "    }\n",
       "\n",
       "    .dataframe thead th {\n",
       "        text-align: right;\n",
       "    }\n",
       "</style>\n",
       "<table border=\"1\" class=\"dataframe\">\n",
       "  <thead>\n",
       "    <tr style=\"text-align: right;\">\n",
       "      <th></th>\n",
       "      <th>F</th>\n",
       "      <th>C</th>\n",
       "    </tr>\n",
       "  </thead>\n",
       "  <tbody>\n",
       "    <tr>\n",
       "      <th>0</th>\n",
       "      <td>-84.00</td>\n",
       "      <td>-119.00</td>\n",
       "    </tr>\n",
       "    <tr>\n",
       "      <th>1</th>\n",
       "      <td>-35.50</td>\n",
       "      <td>-28.10</td>\n",
       "    </tr>\n",
       "    <tr>\n",
       "      <th>2</th>\n",
       "      <td>78.40</td>\n",
       "      <td>173.00</td>\n",
       "    </tr>\n",
       "    <tr>\n",
       "      <th>3</th>\n",
       "      <td>80.30</td>\n",
       "      <td>177.00</td>\n",
       "    </tr>\n",
       "    <tr>\n",
       "      <th>4</th>\n",
       "      <td>356.90</td>\n",
       "      <td>675.10</td>\n",
       "    </tr>\n",
       "    <tr>\n",
       "      <th>5</th>\n",
       "      <td>-161.50</td>\n",
       "      <td>-258.69</td>\n",
       "    </tr>\n",
       "    <tr>\n",
       "      <th>6</th>\n",
       "      <td>66.00</td>\n",
       "      <td>151.00</td>\n",
       "    </tr>\n",
       "    <tr>\n",
       "      <th>7</th>\n",
       "      <td>-42.04</td>\n",
       "      <td>-43.67</td>\n",
       "    </tr>\n",
       "    <tr>\n",
       "      <th>8</th>\n",
       "      <td>330.00</td>\n",
       "      <td>626.00</td>\n",
       "    </tr>\n",
       "    <tr>\n",
       "      <th>9</th>\n",
       "      <td>100.00</td>\n",
       "      <td>212.00</td>\n",
       "    </tr>\n",
       "  </tbody>\n",
       "</table>\n",
       "</div>"
      ],
      "text/plain": [
       "        F       C\n",
       "0  -84.00 -119.00\n",
       "1  -35.50  -28.10\n",
       "2   78.40  173.00\n",
       "3   80.30  177.00\n",
       "4  356.90  675.10\n",
       "5 -161.50 -258.69\n",
       "6   66.00  151.00\n",
       "7  -42.04  -43.67\n",
       "8  330.00  626.00\n",
       "9  100.00  212.00"
      ]
     },
     "execution_count": 8,
     "metadata": {},
     "output_type": "execute_result"
    }
   ],
   "source": [
    "pd.DataFrame(temps)"
   ]
  },
  {
   "cell_type": "markdown",
   "metadata": {},
   "source": [
    "**How did that work?**\n",
    "\n",
    "Each *(key, value)* item in `temps` corresponds to a *column* in the resulting DataFrame.\n",
    "\n",
    "The **Index** of this DataFrame was given to us on creation as the numbers 0-9.\n",
    "To complete the table, lets add the names of the substances for which the boiling point was measured."
   ]
  },
  {
   "cell_type": "code",
   "execution_count": 9,
   "metadata": {},
   "outputs": [],
   "source": [
    "indices=['Acetylene', 'Ammonia', 'Ethanol', 'Isopropyl Alchol', \n",
    "         'Mercury', 'Methane', 'Methanol', 'Propane', 'Sulfuric Acid', 'Water']"
   ]
  },
  {
   "cell_type": "code",
   "execution_count": 10,
   "metadata": {},
   "outputs": [
    {
     "data": {
      "text/html": [
       "<div>\n",
       "<style scoped>\n",
       "    .dataframe tbody tr th:only-of-type {\n",
       "        vertical-align: middle;\n",
       "    }\n",
       "\n",
       "    .dataframe tbody tr th {\n",
       "        vertical-align: top;\n",
       "    }\n",
       "\n",
       "    .dataframe thead th {\n",
       "        text-align: right;\n",
       "    }\n",
       "</style>\n",
       "<table border=\"1\" class=\"dataframe\">\n",
       "  <thead>\n",
       "    <tr style=\"text-align: right;\">\n",
       "      <th></th>\n",
       "      <th>F</th>\n",
       "      <th>C</th>\n",
       "    </tr>\n",
       "  </thead>\n",
       "  <tbody>\n",
       "    <tr>\n",
       "      <th>Acetylene</th>\n",
       "      <td>-84.00</td>\n",
       "      <td>-119.00</td>\n",
       "    </tr>\n",
       "    <tr>\n",
       "      <th>Ammonia</th>\n",
       "      <td>-35.50</td>\n",
       "      <td>-28.10</td>\n",
       "    </tr>\n",
       "    <tr>\n",
       "      <th>Ethanol</th>\n",
       "      <td>78.40</td>\n",
       "      <td>173.00</td>\n",
       "    </tr>\n",
       "    <tr>\n",
       "      <th>Isopropyl Alchol</th>\n",
       "      <td>80.30</td>\n",
       "      <td>177.00</td>\n",
       "    </tr>\n",
       "    <tr>\n",
       "      <th>Mercury</th>\n",
       "      <td>356.90</td>\n",
       "      <td>675.10</td>\n",
       "    </tr>\n",
       "    <tr>\n",
       "      <th>Methane</th>\n",
       "      <td>-161.50</td>\n",
       "      <td>-258.69</td>\n",
       "    </tr>\n",
       "    <tr>\n",
       "      <th>Methanol</th>\n",
       "      <td>66.00</td>\n",
       "      <td>151.00</td>\n",
       "    </tr>\n",
       "    <tr>\n",
       "      <th>Propane</th>\n",
       "      <td>-42.04</td>\n",
       "      <td>-43.67</td>\n",
       "    </tr>\n",
       "    <tr>\n",
       "      <th>Sulfuric Acid</th>\n",
       "      <td>330.00</td>\n",
       "      <td>626.00</td>\n",
       "    </tr>\n",
       "    <tr>\n",
       "      <th>Water</th>\n",
       "      <td>100.00</td>\n",
       "      <td>212.00</td>\n",
       "    </tr>\n",
       "  </tbody>\n",
       "</table>\n",
       "</div>"
      ],
      "text/plain": [
       "                       F       C\n",
       "Acetylene         -84.00 -119.00\n",
       "Ammonia           -35.50  -28.10\n",
       "Ethanol            78.40  173.00\n",
       "Isopropyl Alchol   80.30  177.00\n",
       "Mercury           356.90  675.10\n",
       "Methane          -161.50 -258.69\n",
       "Methanol           66.00  151.00\n",
       "Propane           -42.04  -43.67\n",
       "Sulfuric Acid     330.00  626.00\n",
       "Water             100.00  212.00"
      ]
     },
     "execution_count": 10,
     "metadata": {},
     "output_type": "execute_result"
    }
   ],
   "source": [
    "boiling = pd.DataFrame(temps, index=indices)\n",
    "boiling"
   ]
  },
  {
   "cell_type": "markdown",
   "metadata": {},
   "source": [
    "A pandas dataframe arrange data into columns and rows, each column has a tag and each row is identified with an index. If the index is not declared, a number will be used instead."
   ]
  },
  {
   "cell_type": "markdown",
   "metadata": {},
   "source": [
    "Before we now play with the data, I would like to stress that one of the differences with numpy is how we want to manage missing data. Let see two examples"
   ]
  },
  {
   "cell_type": "markdown",
   "metadata": {},
   "source": [
    "## Extracting columns and rows"
   ]
  },
  {
   "cell_type": "markdown",
   "metadata": {},
   "source": [
    "Columns can be extracted using the name of the column, there are two ways of extracting them, as series or as another dataframe. As Series will be:"
   ]
  },
  {
   "cell_type": "code",
   "execution_count": 11,
   "metadata": {},
   "outputs": [
    {
     "data": {
      "text/plain": [
       "Acetylene           -84.00\n",
       "Ammonia             -35.50\n",
       "Ethanol              78.40\n",
       "Isopropyl Alchol     80.30\n",
       "Mercury             356.90\n",
       "Methane            -161.50\n",
       "Methanol             66.00\n",
       "Propane             -42.04\n",
       "Sulfuric Acid       330.00\n",
       "Water               100.00\n",
       "Name: F, dtype: float64"
      ]
     },
     "execution_count": 11,
     "metadata": {},
     "output_type": "execute_result"
    }
   ],
   "source": [
    "boiling['F']"
   ]
  },
  {
   "cell_type": "code",
   "execution_count": 12,
   "metadata": {},
   "outputs": [
    {
     "data": {
      "text/plain": [
       "pandas.core.series.Series"
      ]
     },
     "execution_count": 12,
     "metadata": {},
     "output_type": "execute_result"
    }
   ],
   "source": [
    "type(_)"
   ]
  },
  {
   "cell_type": "markdown",
   "metadata": {},
   "source": [
    "As dataframe a double bracket is used"
   ]
  },
  {
   "cell_type": "code",
   "execution_count": 13,
   "metadata": {},
   "outputs": [
    {
     "data": {
      "text/html": [
       "<div>\n",
       "<style scoped>\n",
       "    .dataframe tbody tr th:only-of-type {\n",
       "        vertical-align: middle;\n",
       "    }\n",
       "\n",
       "    .dataframe tbody tr th {\n",
       "        vertical-align: top;\n",
       "    }\n",
       "\n",
       "    .dataframe thead th {\n",
       "        text-align: right;\n",
       "    }\n",
       "</style>\n",
       "<table border=\"1\" class=\"dataframe\">\n",
       "  <thead>\n",
       "    <tr style=\"text-align: right;\">\n",
       "      <th></th>\n",
       "      <th>F</th>\n",
       "    </tr>\n",
       "  </thead>\n",
       "  <tbody>\n",
       "    <tr>\n",
       "      <th>Acetylene</th>\n",
       "      <td>-84.00</td>\n",
       "    </tr>\n",
       "    <tr>\n",
       "      <th>Ammonia</th>\n",
       "      <td>-35.50</td>\n",
       "    </tr>\n",
       "    <tr>\n",
       "      <th>Ethanol</th>\n",
       "      <td>78.40</td>\n",
       "    </tr>\n",
       "    <tr>\n",
       "      <th>Isopropyl Alchol</th>\n",
       "      <td>80.30</td>\n",
       "    </tr>\n",
       "    <tr>\n",
       "      <th>Mercury</th>\n",
       "      <td>356.90</td>\n",
       "    </tr>\n",
       "    <tr>\n",
       "      <th>Methane</th>\n",
       "      <td>-161.50</td>\n",
       "    </tr>\n",
       "    <tr>\n",
       "      <th>Methanol</th>\n",
       "      <td>66.00</td>\n",
       "    </tr>\n",
       "    <tr>\n",
       "      <th>Propane</th>\n",
       "      <td>-42.04</td>\n",
       "    </tr>\n",
       "    <tr>\n",
       "      <th>Sulfuric Acid</th>\n",
       "      <td>330.00</td>\n",
       "    </tr>\n",
       "    <tr>\n",
       "      <th>Water</th>\n",
       "      <td>100.00</td>\n",
       "    </tr>\n",
       "  </tbody>\n",
       "</table>\n",
       "</div>"
      ],
      "text/plain": [
       "                       F\n",
       "Acetylene         -84.00\n",
       "Ammonia           -35.50\n",
       "Ethanol            78.40\n",
       "Isopropyl Alchol   80.30\n",
       "Mercury           356.90\n",
       "Methane          -161.50\n",
       "Methanol           66.00\n",
       "Propane           -42.04\n",
       "Sulfuric Acid     330.00\n",
       "Water             100.00"
      ]
     },
     "execution_count": 13,
     "metadata": {},
     "output_type": "execute_result"
    }
   ],
   "source": [
    "boiling[['F']]"
   ]
  },
  {
   "cell_type": "code",
   "execution_count": 14,
   "metadata": {},
   "outputs": [
    {
     "data": {
      "text/plain": [
       "pandas.core.frame.DataFrame"
      ]
     },
     "execution_count": 14,
     "metadata": {},
     "output_type": "execute_result"
    }
   ],
   "source": [
    "type(_)"
   ]
  },
  {
   "cell_type": "markdown",
   "metadata": {},
   "source": [
    "Rows are extracted with the method loc, for example:"
   ]
  },
  {
   "cell_type": "code",
   "execution_count": 15,
   "metadata": {},
   "outputs": [
    {
     "data": {
      "text/plain": [
       "F    100.0\n",
       "C    212.0\n",
       "Name: Water, dtype: float64"
      ]
     },
     "execution_count": 15,
     "metadata": {},
     "output_type": "execute_result"
    }
   ],
   "source": [
    "boiling.loc['Water']"
   ]
  },
  {
   "cell_type": "code",
   "execution_count": 16,
   "metadata": {},
   "outputs": [
    {
     "data": {
      "text/plain": [
       "pandas.core.series.Series"
      ]
     },
     "execution_count": 16,
     "metadata": {},
     "output_type": "execute_result"
    }
   ],
   "source": [
    "type(_)"
   ]
  },
  {
   "cell_type": "markdown",
   "metadata": {},
   "source": [
    "The row can also be returned as a DataFrame using the double bracket notation."
   ]
  },
  {
   "cell_type": "code",
   "execution_count": 17,
   "metadata": {},
   "outputs": [
    {
     "data": {
      "text/html": [
       "<div>\n",
       "<style scoped>\n",
       "    .dataframe tbody tr th:only-of-type {\n",
       "        vertical-align: middle;\n",
       "    }\n",
       "\n",
       "    .dataframe tbody tr th {\n",
       "        vertical-align: top;\n",
       "    }\n",
       "\n",
       "    .dataframe thead th {\n",
       "        text-align: right;\n",
       "    }\n",
       "</style>\n",
       "<table border=\"1\" class=\"dataframe\">\n",
       "  <thead>\n",
       "    <tr style=\"text-align: right;\">\n",
       "      <th></th>\n",
       "      <th>F</th>\n",
       "      <th>C</th>\n",
       "    </tr>\n",
       "  </thead>\n",
       "  <tbody>\n",
       "    <tr>\n",
       "      <th>Water</th>\n",
       "      <td>100.0</td>\n",
       "      <td>212.0</td>\n",
       "    </tr>\n",
       "  </tbody>\n",
       "</table>\n",
       "</div>"
      ],
      "text/plain": [
       "           F      C\n",
       "Water  100.0  212.0"
      ]
     },
     "execution_count": 17,
     "metadata": {},
     "output_type": "execute_result"
    }
   ],
   "source": [
    "boiling.loc[['Water']] "
   ]
  },
  {
   "cell_type": "markdown",
   "metadata": {},
   "source": [
    "There is another way of extract columns with a dot notation. It takes the flexibility of Python, pandas is also able to convert the columns as public attributes of the dataframe object. Consider this example:"
   ]
  },
  {
   "cell_type": "code",
   "execution_count": 18,
   "metadata": {},
   "outputs": [
    {
     "data": {
      "text/plain": [
       "Acetylene          -119.00\n",
       "Ammonia             -28.10\n",
       "Ethanol             173.00\n",
       "Isopropyl Alchol    177.00\n",
       "Mercury             675.10\n",
       "Methane            -258.69\n",
       "Methanol            151.00\n",
       "Propane             -43.67\n",
       "Sulfuric Acid       626.00\n",
       "Water               212.00\n",
       "Name: C, dtype: float64"
      ]
     },
     "execution_count": 18,
     "metadata": {},
     "output_type": "execute_result"
    }
   ],
   "source": [
    "boiling.C"
   ]
  },
  {
   "cell_type": "code",
   "execution_count": 19,
   "metadata": {},
   "outputs": [
    {
     "data": {
      "text/plain": [
       "pandas.core.series.Series"
      ]
     },
     "execution_count": 19,
     "metadata": {},
     "output_type": "execute_result"
    }
   ],
   "source": [
    "type(_)"
   ]
  },
  {
   "cell_type": "markdown",
   "metadata": {},
   "source": [
    "The (dot) notation only works if the names of the columns have no spaces, otherwise only the bracket column extraction applies."
   ]
  },
  {
   "cell_type": "code",
   "execution_count": 20,
   "metadata": {},
   "outputs": [],
   "source": [
    "df=pd.DataFrame({'case one': [1], 'case two': [2]})"
   ]
  },
  {
   "cell_type": "code",
   "execution_count": 21,
   "metadata": {},
   "outputs": [
    {
     "data": {
      "text/plain": [
       "0    1\n",
       "Name: case one, dtype: int64"
      ]
     },
     "execution_count": 21,
     "metadata": {},
     "output_type": "execute_result"
    }
   ],
   "source": [
    "df['case one']"
   ]
  },
  {
   "cell_type": "markdown",
   "metadata": {},
   "source": [
    "The location and extraction methods in Pandas are far more elaborated than just the examples above. Most dataframes that are created in actual applications are not created from dictionaries but from actual files."
   ]
  },
  {
   "cell_type": "markdown",
   "metadata": {},
   "source": [
    "## Read data\n",
    "\n",
    "It’s quite simple to load data from various file formats into a DataFrame. In the following examples we'll create dataframes from several usual formats."
   ]
  },
  {
   "cell_type": "markdown",
   "metadata": {},
   "source": [
    "### From CSV files"
   ]
  },
  {
   "cell_type": "markdown",
   "metadata": {},
   "source": [
    "CSV stands for \"comma-separated values\". Its data fields are most often separated, or delimited, by a comma. For example, let's say you had a spreadsheet containing the following data.\n",
    "\n",
    "CSV is a simple file format used to store tabular data, such as a spreadsheet or one table from a relational database. Files in the CSV format can be imported to and exported from programs that store data in tables, such as Microsoft Excel or OpenOffice Calc.\n",
    "\n",
    "Being a text file, this format is not recommended when dealing with extremely large tables or more complex data structures, due to the natural limitations of the text format."
   ]
  },
  {
   "cell_type": "code",
   "execution_count": 77,
   "metadata": {},
   "outputs": [],
   "source": [
    "df = pd.read_csv('data/heart.csv')"
   ]
  },
  {
   "cell_type": "markdown",
   "metadata": {},
   "source": [
    "This is a table downloaded from <https://www.kaggle.com/ronitf/heart-disease-uci>. The table contains a number of columns related to the presence of heart disease in a list of patients. In real applications tables can be extremely large to be seen complete. Pandas offers a few methods to get a quick overview of the contents of a DataFrame"
   ]
  },
  {
   "cell_type": "code",
   "execution_count": 78,
   "metadata": {},
   "outputs": [
    {
     "data": {
      "text/html": [
       "<div>\n",
       "<style scoped>\n",
       "    .dataframe tbody tr th:only-of-type {\n",
       "        vertical-align: middle;\n",
       "    }\n",
       "\n",
       "    .dataframe tbody tr th {\n",
       "        vertical-align: top;\n",
       "    }\n",
       "\n",
       "    .dataframe thead th {\n",
       "        text-align: right;\n",
       "    }\n",
       "</style>\n",
       "<table border=\"1\" class=\"dataframe\">\n",
       "  <thead>\n",
       "    <tr style=\"text-align: right;\">\n",
       "      <th></th>\n",
       "      <th>age</th>\n",
       "      <th>sex</th>\n",
       "      <th>cp</th>\n",
       "      <th>trestbps</th>\n",
       "      <th>chol</th>\n",
       "      <th>fbs</th>\n",
       "      <th>restecg</th>\n",
       "      <th>thalach</th>\n",
       "      <th>exang</th>\n",
       "      <th>oldpeak</th>\n",
       "      <th>slope</th>\n",
       "      <th>ca</th>\n",
       "      <th>thal</th>\n",
       "      <th>target</th>\n",
       "    </tr>\n",
       "  </thead>\n",
       "  <tbody>\n",
       "    <tr>\n",
       "      <th>0</th>\n",
       "      <td>63</td>\n",
       "      <td>1</td>\n",
       "      <td>3</td>\n",
       "      <td>145</td>\n",
       "      <td>233</td>\n",
       "      <td>1</td>\n",
       "      <td>0</td>\n",
       "      <td>150</td>\n",
       "      <td>0</td>\n",
       "      <td>2.3</td>\n",
       "      <td>0</td>\n",
       "      <td>0</td>\n",
       "      <td>1</td>\n",
       "      <td>1</td>\n",
       "    </tr>\n",
       "    <tr>\n",
       "      <th>1</th>\n",
       "      <td>37</td>\n",
       "      <td>1</td>\n",
       "      <td>2</td>\n",
       "      <td>130</td>\n",
       "      <td>250</td>\n",
       "      <td>0</td>\n",
       "      <td>1</td>\n",
       "      <td>187</td>\n",
       "      <td>0</td>\n",
       "      <td>3.5</td>\n",
       "      <td>0</td>\n",
       "      <td>0</td>\n",
       "      <td>2</td>\n",
       "      <td>1</td>\n",
       "    </tr>\n",
       "    <tr>\n",
       "      <th>2</th>\n",
       "      <td>41</td>\n",
       "      <td>0</td>\n",
       "      <td>1</td>\n",
       "      <td>130</td>\n",
       "      <td>204</td>\n",
       "      <td>0</td>\n",
       "      <td>0</td>\n",
       "      <td>172</td>\n",
       "      <td>0</td>\n",
       "      <td>1.4</td>\n",
       "      <td>2</td>\n",
       "      <td>0</td>\n",
       "      <td>2</td>\n",
       "      <td>1</td>\n",
       "    </tr>\n",
       "    <tr>\n",
       "      <th>3</th>\n",
       "      <td>56</td>\n",
       "      <td>1</td>\n",
       "      <td>1</td>\n",
       "      <td>120</td>\n",
       "      <td>236</td>\n",
       "      <td>0</td>\n",
       "      <td>1</td>\n",
       "      <td>178</td>\n",
       "      <td>0</td>\n",
       "      <td>0.8</td>\n",
       "      <td>2</td>\n",
       "      <td>0</td>\n",
       "      <td>2</td>\n",
       "      <td>1</td>\n",
       "    </tr>\n",
       "    <tr>\n",
       "      <th>4</th>\n",
       "      <td>57</td>\n",
       "      <td>0</td>\n",
       "      <td>0</td>\n",
       "      <td>120</td>\n",
       "      <td>354</td>\n",
       "      <td>0</td>\n",
       "      <td>1</td>\n",
       "      <td>163</td>\n",
       "      <td>1</td>\n",
       "      <td>0.6</td>\n",
       "      <td>2</td>\n",
       "      <td>0</td>\n",
       "      <td>2</td>\n",
       "      <td>1</td>\n",
       "    </tr>\n",
       "    <tr>\n",
       "      <th>5</th>\n",
       "      <td>57</td>\n",
       "      <td>1</td>\n",
       "      <td>0</td>\n",
       "      <td>140</td>\n",
       "      <td>192</td>\n",
       "      <td>0</td>\n",
       "      <td>1</td>\n",
       "      <td>148</td>\n",
       "      <td>0</td>\n",
       "      <td>0.4</td>\n",
       "      <td>1</td>\n",
       "      <td>0</td>\n",
       "      <td>1</td>\n",
       "      <td>1</td>\n",
       "    </tr>\n",
       "    <tr>\n",
       "      <th>6</th>\n",
       "      <td>56</td>\n",
       "      <td>0</td>\n",
       "      <td>1</td>\n",
       "      <td>140</td>\n",
       "      <td>294</td>\n",
       "      <td>0</td>\n",
       "      <td>0</td>\n",
       "      <td>153</td>\n",
       "      <td>0</td>\n",
       "      <td>1.3</td>\n",
       "      <td>1</td>\n",
       "      <td>0</td>\n",
       "      <td>2</td>\n",
       "      <td>1</td>\n",
       "    </tr>\n",
       "    <tr>\n",
       "      <th>7</th>\n",
       "      <td>44</td>\n",
       "      <td>1</td>\n",
       "      <td>1</td>\n",
       "      <td>120</td>\n",
       "      <td>263</td>\n",
       "      <td>0</td>\n",
       "      <td>1</td>\n",
       "      <td>173</td>\n",
       "      <td>0</td>\n",
       "      <td>0.0</td>\n",
       "      <td>2</td>\n",
       "      <td>0</td>\n",
       "      <td>3</td>\n",
       "      <td>1</td>\n",
       "    </tr>\n",
       "    <tr>\n",
       "      <th>8</th>\n",
       "      <td>52</td>\n",
       "      <td>1</td>\n",
       "      <td>2</td>\n",
       "      <td>172</td>\n",
       "      <td>199</td>\n",
       "      <td>1</td>\n",
       "      <td>1</td>\n",
       "      <td>162</td>\n",
       "      <td>0</td>\n",
       "      <td>0.5</td>\n",
       "      <td>2</td>\n",
       "      <td>0</td>\n",
       "      <td>3</td>\n",
       "      <td>1</td>\n",
       "    </tr>\n",
       "    <tr>\n",
       "      <th>9</th>\n",
       "      <td>57</td>\n",
       "      <td>1</td>\n",
       "      <td>2</td>\n",
       "      <td>150</td>\n",
       "      <td>168</td>\n",
       "      <td>0</td>\n",
       "      <td>1</td>\n",
       "      <td>174</td>\n",
       "      <td>0</td>\n",
       "      <td>1.6</td>\n",
       "      <td>2</td>\n",
       "      <td>0</td>\n",
       "      <td>2</td>\n",
       "      <td>1</td>\n",
       "    </tr>\n",
       "  </tbody>\n",
       "</table>\n",
       "</div>"
      ],
      "text/plain": [
       "   age  sex  cp  trestbps  chol  fbs  restecg  thalach  exang  oldpeak  slope  \\\n",
       "0   63    1   3       145   233    1        0      150      0      2.3      0   \n",
       "1   37    1   2       130   250    0        1      187      0      3.5      0   \n",
       "2   41    0   1       130   204    0        0      172      0      1.4      2   \n",
       "3   56    1   1       120   236    0        1      178      0      0.8      2   \n",
       "4   57    0   0       120   354    0        1      163      1      0.6      2   \n",
       "5   57    1   0       140   192    0        1      148      0      0.4      1   \n",
       "6   56    0   1       140   294    0        0      153      0      1.3      1   \n",
       "7   44    1   1       120   263    0        1      173      0      0.0      2   \n",
       "8   52    1   2       172   199    1        1      162      0      0.5      2   \n",
       "9   57    1   2       150   168    0        1      174      0      1.6      2   \n",
       "\n",
       "   ca  thal  target  \n",
       "0   0     1       1  \n",
       "1   0     2       1  \n",
       "2   0     2       1  \n",
       "3   0     2       1  \n",
       "4   0     2       1  \n",
       "5   0     1       1  \n",
       "6   0     2       1  \n",
       "7   0     3       1  \n",
       "8   0     3       1  \n",
       "9   0     2       1  "
      ]
     },
     "execution_count": 78,
     "metadata": {},
     "output_type": "execute_result"
    }
   ],
   "source": [
    "df.head(10)"
   ]
  },
  {
   "cell_type": "code",
   "execution_count": 79,
   "metadata": {},
   "outputs": [
    {
     "data": {
      "text/html": [
       "<div>\n",
       "<style scoped>\n",
       "    .dataframe tbody tr th:only-of-type {\n",
       "        vertical-align: middle;\n",
       "    }\n",
       "\n",
       "    .dataframe tbody tr th {\n",
       "        vertical-align: top;\n",
       "    }\n",
       "\n",
       "    .dataframe thead th {\n",
       "        text-align: right;\n",
       "    }\n",
       "</style>\n",
       "<table border=\"1\" class=\"dataframe\">\n",
       "  <thead>\n",
       "    <tr style=\"text-align: right;\">\n",
       "      <th></th>\n",
       "      <th>age</th>\n",
       "      <th>sex</th>\n",
       "      <th>cp</th>\n",
       "      <th>trestbps</th>\n",
       "      <th>chol</th>\n",
       "      <th>fbs</th>\n",
       "      <th>restecg</th>\n",
       "      <th>thalach</th>\n",
       "      <th>exang</th>\n",
       "      <th>oldpeak</th>\n",
       "      <th>slope</th>\n",
       "      <th>ca</th>\n",
       "      <th>thal</th>\n",
       "      <th>target</th>\n",
       "    </tr>\n",
       "  </thead>\n",
       "  <tbody>\n",
       "    <tr>\n",
       "      <th>293</th>\n",
       "      <td>67</td>\n",
       "      <td>1</td>\n",
       "      <td>2</td>\n",
       "      <td>152</td>\n",
       "      <td>212</td>\n",
       "      <td>0</td>\n",
       "      <td>0</td>\n",
       "      <td>150</td>\n",
       "      <td>0</td>\n",
       "      <td>0.8</td>\n",
       "      <td>1</td>\n",
       "      <td>0</td>\n",
       "      <td>3</td>\n",
       "      <td>0</td>\n",
       "    </tr>\n",
       "    <tr>\n",
       "      <th>294</th>\n",
       "      <td>44</td>\n",
       "      <td>1</td>\n",
       "      <td>0</td>\n",
       "      <td>120</td>\n",
       "      <td>169</td>\n",
       "      <td>0</td>\n",
       "      <td>1</td>\n",
       "      <td>144</td>\n",
       "      <td>1</td>\n",
       "      <td>2.8</td>\n",
       "      <td>0</td>\n",
       "      <td>0</td>\n",
       "      <td>1</td>\n",
       "      <td>0</td>\n",
       "    </tr>\n",
       "    <tr>\n",
       "      <th>295</th>\n",
       "      <td>63</td>\n",
       "      <td>1</td>\n",
       "      <td>0</td>\n",
       "      <td>140</td>\n",
       "      <td>187</td>\n",
       "      <td>0</td>\n",
       "      <td>0</td>\n",
       "      <td>144</td>\n",
       "      <td>1</td>\n",
       "      <td>4.0</td>\n",
       "      <td>2</td>\n",
       "      <td>2</td>\n",
       "      <td>3</td>\n",
       "      <td>0</td>\n",
       "    </tr>\n",
       "    <tr>\n",
       "      <th>296</th>\n",
       "      <td>63</td>\n",
       "      <td>0</td>\n",
       "      <td>0</td>\n",
       "      <td>124</td>\n",
       "      <td>197</td>\n",
       "      <td>0</td>\n",
       "      <td>1</td>\n",
       "      <td>136</td>\n",
       "      <td>1</td>\n",
       "      <td>0.0</td>\n",
       "      <td>1</td>\n",
       "      <td>0</td>\n",
       "      <td>2</td>\n",
       "      <td>0</td>\n",
       "    </tr>\n",
       "    <tr>\n",
       "      <th>297</th>\n",
       "      <td>59</td>\n",
       "      <td>1</td>\n",
       "      <td>0</td>\n",
       "      <td>164</td>\n",
       "      <td>176</td>\n",
       "      <td>1</td>\n",
       "      <td>0</td>\n",
       "      <td>90</td>\n",
       "      <td>0</td>\n",
       "      <td>1.0</td>\n",
       "      <td>1</td>\n",
       "      <td>2</td>\n",
       "      <td>1</td>\n",
       "      <td>0</td>\n",
       "    </tr>\n",
       "    <tr>\n",
       "      <th>298</th>\n",
       "      <td>57</td>\n",
       "      <td>0</td>\n",
       "      <td>0</td>\n",
       "      <td>140</td>\n",
       "      <td>241</td>\n",
       "      <td>0</td>\n",
       "      <td>1</td>\n",
       "      <td>123</td>\n",
       "      <td>1</td>\n",
       "      <td>0.2</td>\n",
       "      <td>1</td>\n",
       "      <td>0</td>\n",
       "      <td>3</td>\n",
       "      <td>0</td>\n",
       "    </tr>\n",
       "    <tr>\n",
       "      <th>299</th>\n",
       "      <td>45</td>\n",
       "      <td>1</td>\n",
       "      <td>3</td>\n",
       "      <td>110</td>\n",
       "      <td>264</td>\n",
       "      <td>0</td>\n",
       "      <td>1</td>\n",
       "      <td>132</td>\n",
       "      <td>0</td>\n",
       "      <td>1.2</td>\n",
       "      <td>1</td>\n",
       "      <td>0</td>\n",
       "      <td>3</td>\n",
       "      <td>0</td>\n",
       "    </tr>\n",
       "    <tr>\n",
       "      <th>300</th>\n",
       "      <td>68</td>\n",
       "      <td>1</td>\n",
       "      <td>0</td>\n",
       "      <td>144</td>\n",
       "      <td>193</td>\n",
       "      <td>1</td>\n",
       "      <td>1</td>\n",
       "      <td>141</td>\n",
       "      <td>0</td>\n",
       "      <td>3.4</td>\n",
       "      <td>1</td>\n",
       "      <td>2</td>\n",
       "      <td>3</td>\n",
       "      <td>0</td>\n",
       "    </tr>\n",
       "    <tr>\n",
       "      <th>301</th>\n",
       "      <td>57</td>\n",
       "      <td>1</td>\n",
       "      <td>0</td>\n",
       "      <td>130</td>\n",
       "      <td>131</td>\n",
       "      <td>0</td>\n",
       "      <td>1</td>\n",
       "      <td>115</td>\n",
       "      <td>1</td>\n",
       "      <td>1.2</td>\n",
       "      <td>1</td>\n",
       "      <td>1</td>\n",
       "      <td>3</td>\n",
       "      <td>0</td>\n",
       "    </tr>\n",
       "    <tr>\n",
       "      <th>302</th>\n",
       "      <td>57</td>\n",
       "      <td>0</td>\n",
       "      <td>1</td>\n",
       "      <td>130</td>\n",
       "      <td>236</td>\n",
       "      <td>0</td>\n",
       "      <td>0</td>\n",
       "      <td>174</td>\n",
       "      <td>0</td>\n",
       "      <td>0.0</td>\n",
       "      <td>1</td>\n",
       "      <td>1</td>\n",
       "      <td>2</td>\n",
       "      <td>0</td>\n",
       "    </tr>\n",
       "  </tbody>\n",
       "</table>\n",
       "</div>"
      ],
      "text/plain": [
       "     age  sex  cp  trestbps  chol  fbs  restecg  thalach  exang  oldpeak  \\\n",
       "293   67    1   2       152   212    0        0      150      0      0.8   \n",
       "294   44    1   0       120   169    0        1      144      1      2.8   \n",
       "295   63    1   0       140   187    0        0      144      1      4.0   \n",
       "296   63    0   0       124   197    0        1      136      1      0.0   \n",
       "297   59    1   0       164   176    1        0       90      0      1.0   \n",
       "298   57    0   0       140   241    0        1      123      1      0.2   \n",
       "299   45    1   3       110   264    0        1      132      0      1.2   \n",
       "300   68    1   0       144   193    1        1      141      0      3.4   \n",
       "301   57    1   0       130   131    0        1      115      1      1.2   \n",
       "302   57    0   1       130   236    0        0      174      0      0.0   \n",
       "\n",
       "     slope  ca  thal  target  \n",
       "293      1   0     3       0  \n",
       "294      0   0     1       0  \n",
       "295      2   2     3       0  \n",
       "296      1   0     2       0  \n",
       "297      1   2     1       0  \n",
       "298      1   0     3       0  \n",
       "299      1   0     3       0  \n",
       "300      1   2     3       0  \n",
       "301      1   1     3       0  \n",
       "302      1   1     2       0  "
      ]
     },
     "execution_count": 79,
     "metadata": {},
     "output_type": "execute_result"
    }
   ],
   "source": [
    "df.tail(10)"
   ]
  },
  {
   "cell_type": "code",
   "execution_count": 80,
   "metadata": {},
   "outputs": [
    {
     "data": {
      "text/plain": [
       "(303, 14)"
      ]
     },
     "execution_count": 80,
     "metadata": {},
     "output_type": "execute_result"
    }
   ],
   "source": [
    "df.shape"
   ]
  },
  {
   "cell_type": "code",
   "execution_count": 81,
   "metadata": {},
   "outputs": [
    {
     "data": {
      "text/plain": [
       "4242"
      ]
     },
     "execution_count": 81,
     "metadata": {},
     "output_type": "execute_result"
    }
   ],
   "source": [
    "df.size"
   ]
  },
  {
   "cell_type": "code",
   "execution_count": 82,
   "metadata": {},
   "outputs": [
    {
     "data": {
      "text/html": [
       "<div>\n",
       "<style scoped>\n",
       "    .dataframe tbody tr th:only-of-type {\n",
       "        vertical-align: middle;\n",
       "    }\n",
       "\n",
       "    .dataframe tbody tr th {\n",
       "        vertical-align: top;\n",
       "    }\n",
       "\n",
       "    .dataframe thead th {\n",
       "        text-align: right;\n",
       "    }\n",
       "</style>\n",
       "<table border=\"1\" class=\"dataframe\">\n",
       "  <thead>\n",
       "    <tr style=\"text-align: right;\">\n",
       "      <th></th>\n",
       "      <th>age</th>\n",
       "      <th>sex</th>\n",
       "    </tr>\n",
       "  </thead>\n",
       "  <tbody>\n",
       "    <tr>\n",
       "      <th>0</th>\n",
       "      <td>63</td>\n",
       "      <td>1</td>\n",
       "    </tr>\n",
       "    <tr>\n",
       "      <th>1</th>\n",
       "      <td>37</td>\n",
       "      <td>1</td>\n",
       "    </tr>\n",
       "    <tr>\n",
       "      <th>2</th>\n",
       "      <td>41</td>\n",
       "      <td>0</td>\n",
       "    </tr>\n",
       "    <tr>\n",
       "      <th>3</th>\n",
       "      <td>56</td>\n",
       "      <td>1</td>\n",
       "    </tr>\n",
       "    <tr>\n",
       "      <th>4</th>\n",
       "      <td>57</td>\n",
       "      <td>0</td>\n",
       "    </tr>\n",
       "    <tr>\n",
       "      <th>...</th>\n",
       "      <td>...</td>\n",
       "      <td>...</td>\n",
       "    </tr>\n",
       "    <tr>\n",
       "      <th>298</th>\n",
       "      <td>57</td>\n",
       "      <td>0</td>\n",
       "    </tr>\n",
       "    <tr>\n",
       "      <th>299</th>\n",
       "      <td>45</td>\n",
       "      <td>1</td>\n",
       "    </tr>\n",
       "    <tr>\n",
       "      <th>300</th>\n",
       "      <td>68</td>\n",
       "      <td>1</td>\n",
       "    </tr>\n",
       "    <tr>\n",
       "      <th>301</th>\n",
       "      <td>57</td>\n",
       "      <td>1</td>\n",
       "    </tr>\n",
       "    <tr>\n",
       "      <th>302</th>\n",
       "      <td>57</td>\n",
       "      <td>0</td>\n",
       "    </tr>\n",
       "  </tbody>\n",
       "</table>\n",
       "<p>303 rows × 2 columns</p>\n",
       "</div>"
      ],
      "text/plain": [
       "     age  sex\n",
       "0     63    1\n",
       "1     37    1\n",
       "2     41    0\n",
       "3     56    1\n",
       "4     57    0\n",
       "..   ...  ...\n",
       "298   57    0\n",
       "299   45    1\n",
       "300   68    1\n",
       "301   57    1\n",
       "302   57    0\n",
       "\n",
       "[303 rows x 2 columns]"
      ]
     },
     "execution_count": 82,
     "metadata": {},
     "output_type": "execute_result"
    }
   ],
   "source": [
    "df.loc[:,['age', 'sex']]"
   ]
  },
  {
   "cell_type": "code",
   "execution_count": 84,
   "metadata": {},
   "outputs": [
    {
     "data": {
      "text/html": [
       "<div>\n",
       "<style scoped>\n",
       "    .dataframe tbody tr th:only-of-type {\n",
       "        vertical-align: middle;\n",
       "    }\n",
       "\n",
       "    .dataframe tbody tr th {\n",
       "        vertical-align: top;\n",
       "    }\n",
       "\n",
       "    .dataframe thead th {\n",
       "        text-align: right;\n",
       "    }\n",
       "</style>\n",
       "<table border=\"1\" class=\"dataframe\">\n",
       "  <thead>\n",
       "    <tr style=\"text-align: right;\">\n",
       "      <th></th>\n",
       "      <th>age</th>\n",
       "      <th>sex</th>\n",
       "      <th>cp</th>\n",
       "      <th>trestbps</th>\n",
       "      <th>chol</th>\n",
       "      <th>fbs</th>\n",
       "      <th>restecg</th>\n",
       "      <th>thalach</th>\n",
       "      <th>exang</th>\n",
       "      <th>oldpeak</th>\n",
       "      <th>slope</th>\n",
       "      <th>ca</th>\n",
       "      <th>thal</th>\n",
       "      <th>target</th>\n",
       "      <th>new column</th>\n",
       "    </tr>\n",
       "  </thead>\n",
       "  <tbody>\n",
       "    <tr>\n",
       "      <th>0</th>\n",
       "      <td>63</td>\n",
       "      <td>1</td>\n",
       "      <td>3</td>\n",
       "      <td>145</td>\n",
       "      <td>233</td>\n",
       "      <td>1</td>\n",
       "      <td>0</td>\n",
       "      <td>150</td>\n",
       "      <td>0</td>\n",
       "      <td>2.3</td>\n",
       "      <td>0</td>\n",
       "      <td>0</td>\n",
       "      <td>1</td>\n",
       "      <td>1</td>\n",
       "      <td>None</td>\n",
       "    </tr>\n",
       "    <tr>\n",
       "      <th>1</th>\n",
       "      <td>37</td>\n",
       "      <td>1</td>\n",
       "      <td>2</td>\n",
       "      <td>130</td>\n",
       "      <td>250</td>\n",
       "      <td>0</td>\n",
       "      <td>1</td>\n",
       "      <td>187</td>\n",
       "      <td>0</td>\n",
       "      <td>3.5</td>\n",
       "      <td>0</td>\n",
       "      <td>0</td>\n",
       "      <td>2</td>\n",
       "      <td>1</td>\n",
       "      <td>None</td>\n",
       "    </tr>\n",
       "    <tr>\n",
       "      <th>2</th>\n",
       "      <td>41</td>\n",
       "      <td>0</td>\n",
       "      <td>1</td>\n",
       "      <td>130</td>\n",
       "      <td>204</td>\n",
       "      <td>0</td>\n",
       "      <td>0</td>\n",
       "      <td>172</td>\n",
       "      <td>0</td>\n",
       "      <td>1.4</td>\n",
       "      <td>2</td>\n",
       "      <td>0</td>\n",
       "      <td>2</td>\n",
       "      <td>1</td>\n",
       "      <td>None</td>\n",
       "    </tr>\n",
       "    <tr>\n",
       "      <th>3</th>\n",
       "      <td>56</td>\n",
       "      <td>1</td>\n",
       "      <td>1</td>\n",
       "      <td>120</td>\n",
       "      <td>236</td>\n",
       "      <td>0</td>\n",
       "      <td>1</td>\n",
       "      <td>178</td>\n",
       "      <td>0</td>\n",
       "      <td>0.8</td>\n",
       "      <td>2</td>\n",
       "      <td>0</td>\n",
       "      <td>2</td>\n",
       "      <td>1</td>\n",
       "      <td>None</td>\n",
       "    </tr>\n",
       "    <tr>\n",
       "      <th>4</th>\n",
       "      <td>57</td>\n",
       "      <td>0</td>\n",
       "      <td>0</td>\n",
       "      <td>120</td>\n",
       "      <td>354</td>\n",
       "      <td>0</td>\n",
       "      <td>1</td>\n",
       "      <td>163</td>\n",
       "      <td>1</td>\n",
       "      <td>0.6</td>\n",
       "      <td>2</td>\n",
       "      <td>0</td>\n",
       "      <td>2</td>\n",
       "      <td>1</td>\n",
       "      <td>None</td>\n",
       "    </tr>\n",
       "  </tbody>\n",
       "</table>\n",
       "</div>"
      ],
      "text/plain": [
       "   age  sex  cp  trestbps  chol  fbs  restecg  thalach  exang  oldpeak  slope  \\\n",
       "0   63    1   3       145   233    1        0      150      0      2.3      0   \n",
       "1   37    1   2       130   250    0        1      187      0      3.5      0   \n",
       "2   41    0   1       130   204    0        0      172      0      1.4      2   \n",
       "3   56    1   1       120   236    0        1      178      0      0.8      2   \n",
       "4   57    0   0       120   354    0        1      163      1      0.6      2   \n",
       "\n",
       "   ca  thal  target new column  \n",
       "0   0     1       1       None  \n",
       "1   0     2       1       None  \n",
       "2   0     2       1       None  \n",
       "3   0     2       1       None  \n",
       "4   0     2       1       None  "
      ]
     },
     "execution_count": 84,
     "metadata": {},
     "output_type": "execute_result"
    }
   ],
   "source": [
    "# adding a new column\n",
    "df[\"new column\"]=None\n",
    "df.head()"
   ]
  },
  {
   "cell_type": "code",
   "execution_count": 85,
   "metadata": {},
   "outputs": [
    {
     "data": {
      "text/html": [
       "<div>\n",
       "<style scoped>\n",
       "    .dataframe tbody tr th:only-of-type {\n",
       "        vertical-align: middle;\n",
       "    }\n",
       "\n",
       "    .dataframe tbody tr th {\n",
       "        vertical-align: top;\n",
       "    }\n",
       "\n",
       "    .dataframe thead th {\n",
       "        text-align: right;\n",
       "    }\n",
       "</style>\n",
       "<table border=\"1\" class=\"dataframe\">\n",
       "  <thead>\n",
       "    <tr style=\"text-align: right;\">\n",
       "      <th></th>\n",
       "      <th>age</th>\n",
       "      <th>sex</th>\n",
       "      <th>cp</th>\n",
       "      <th>trestbps</th>\n",
       "      <th>chol</th>\n",
       "      <th>fbs</th>\n",
       "      <th>restecg</th>\n",
       "      <th>thalach</th>\n",
       "      <th>exang</th>\n",
       "      <th>oldpeak</th>\n",
       "      <th>slope</th>\n",
       "      <th>ca</th>\n",
       "      <th>thal</th>\n",
       "      <th>target</th>\n",
       "    </tr>\n",
       "  </thead>\n",
       "  <tbody>\n",
       "    <tr>\n",
       "      <th>0</th>\n",
       "      <td>63</td>\n",
       "      <td>1</td>\n",
       "      <td>3</td>\n",
       "      <td>145</td>\n",
       "      <td>233</td>\n",
       "      <td>1</td>\n",
       "      <td>0</td>\n",
       "      <td>150</td>\n",
       "      <td>0</td>\n",
       "      <td>2.3</td>\n",
       "      <td>0</td>\n",
       "      <td>0</td>\n",
       "      <td>1</td>\n",
       "      <td>1</td>\n",
       "    </tr>\n",
       "    <tr>\n",
       "      <th>1</th>\n",
       "      <td>37</td>\n",
       "      <td>1</td>\n",
       "      <td>2</td>\n",
       "      <td>130</td>\n",
       "      <td>250</td>\n",
       "      <td>0</td>\n",
       "      <td>1</td>\n",
       "      <td>187</td>\n",
       "      <td>0</td>\n",
       "      <td>3.5</td>\n",
       "      <td>0</td>\n",
       "      <td>0</td>\n",
       "      <td>2</td>\n",
       "      <td>1</td>\n",
       "    </tr>\n",
       "    <tr>\n",
       "      <th>2</th>\n",
       "      <td>41</td>\n",
       "      <td>0</td>\n",
       "      <td>1</td>\n",
       "      <td>130</td>\n",
       "      <td>204</td>\n",
       "      <td>0</td>\n",
       "      <td>0</td>\n",
       "      <td>172</td>\n",
       "      <td>0</td>\n",
       "      <td>1.4</td>\n",
       "      <td>2</td>\n",
       "      <td>0</td>\n",
       "      <td>2</td>\n",
       "      <td>1</td>\n",
       "    </tr>\n",
       "    <tr>\n",
       "      <th>3</th>\n",
       "      <td>56</td>\n",
       "      <td>1</td>\n",
       "      <td>1</td>\n",
       "      <td>120</td>\n",
       "      <td>236</td>\n",
       "      <td>0</td>\n",
       "      <td>1</td>\n",
       "      <td>178</td>\n",
       "      <td>0</td>\n",
       "      <td>0.8</td>\n",
       "      <td>2</td>\n",
       "      <td>0</td>\n",
       "      <td>2</td>\n",
       "      <td>1</td>\n",
       "    </tr>\n",
       "    <tr>\n",
       "      <th>4</th>\n",
       "      <td>57</td>\n",
       "      <td>0</td>\n",
       "      <td>0</td>\n",
       "      <td>120</td>\n",
       "      <td>354</td>\n",
       "      <td>0</td>\n",
       "      <td>1</td>\n",
       "      <td>163</td>\n",
       "      <td>1</td>\n",
       "      <td>0.6</td>\n",
       "      <td>2</td>\n",
       "      <td>0</td>\n",
       "      <td>2</td>\n",
       "      <td>1</td>\n",
       "    </tr>\n",
       "  </tbody>\n",
       "</table>\n",
       "</div>"
      ],
      "text/plain": [
       "   age  sex  cp  trestbps  chol  fbs  restecg  thalach  exang  oldpeak  slope  \\\n",
       "0   63    1   3       145   233    1        0      150      0      2.3      0   \n",
       "1   37    1   2       130   250    0        1      187      0      3.5      0   \n",
       "2   41    0   1       130   204    0        0      172      0      1.4      2   \n",
       "3   56    1   1       120   236    0        1      178      0      0.8      2   \n",
       "4   57    0   0       120   354    0        1      163      1      0.6      2   \n",
       "\n",
       "   ca  thal  target  \n",
       "0   0     1       1  \n",
       "1   0     2       1  \n",
       "2   0     2       1  \n",
       "3   0     2       1  \n",
       "4   0     2       1  "
      ]
     },
     "execution_count": 85,
     "metadata": {},
     "output_type": "execute_result"
    }
   ],
   "source": [
    "# dropping one column (also works with rows)\n",
    "del df[\"new column\"]\n",
    "df.head()"
   ]
  },
  {
   "cell_type": "code",
   "execution_count": 86,
   "metadata": {},
   "outputs": [
    {
     "data": {
      "text/html": [
       "<div>\n",
       "<style scoped>\n",
       "    .dataframe tbody tr th:only-of-type {\n",
       "        vertical-align: middle;\n",
       "    }\n",
       "\n",
       "    .dataframe tbody tr th {\n",
       "        vertical-align: top;\n",
       "    }\n",
       "\n",
       "    .dataframe thead th {\n",
       "        text-align: right;\n",
       "    }\n",
       "</style>\n",
       "<table border=\"1\" class=\"dataframe\">\n",
       "  <thead>\n",
       "    <tr style=\"text-align: right;\">\n",
       "      <th></th>\n",
       "      <th>age</th>\n",
       "      <th>sex</th>\n",
       "      <th>cp</th>\n",
       "      <th>trestbps</th>\n",
       "      <th>chol</th>\n",
       "      <th>fbs</th>\n",
       "      <th>restecg</th>\n",
       "      <th>thalach</th>\n",
       "      <th>exang</th>\n",
       "      <th>oldpeak</th>\n",
       "      <th>slope</th>\n",
       "      <th>ca</th>\n",
       "      <th>thal</th>\n",
       "      <th>target</th>\n",
       "    </tr>\n",
       "  </thead>\n",
       "  <tbody>\n",
       "    <tr>\n",
       "      <th>0</th>\n",
       "      <td>64</td>\n",
       "      <td>1</td>\n",
       "      <td>3</td>\n",
       "      <td>145</td>\n",
       "      <td>233</td>\n",
       "      <td>1</td>\n",
       "      <td>0</td>\n",
       "      <td>150</td>\n",
       "      <td>0</td>\n",
       "      <td>2.3</td>\n",
       "      <td>0</td>\n",
       "      <td>0</td>\n",
       "      <td>1</td>\n",
       "      <td>1</td>\n",
       "    </tr>\n",
       "    <tr>\n",
       "      <th>1</th>\n",
       "      <td>38</td>\n",
       "      <td>1</td>\n",
       "      <td>2</td>\n",
       "      <td>130</td>\n",
       "      <td>250</td>\n",
       "      <td>0</td>\n",
       "      <td>1</td>\n",
       "      <td>187</td>\n",
       "      <td>0</td>\n",
       "      <td>3.5</td>\n",
       "      <td>0</td>\n",
       "      <td>0</td>\n",
       "      <td>2</td>\n",
       "      <td>1</td>\n",
       "    </tr>\n",
       "    <tr>\n",
       "      <th>2</th>\n",
       "      <td>42</td>\n",
       "      <td>0</td>\n",
       "      <td>1</td>\n",
       "      <td>130</td>\n",
       "      <td>204</td>\n",
       "      <td>0</td>\n",
       "      <td>0</td>\n",
       "      <td>172</td>\n",
       "      <td>0</td>\n",
       "      <td>1.4</td>\n",
       "      <td>2</td>\n",
       "      <td>0</td>\n",
       "      <td>2</td>\n",
       "      <td>1</td>\n",
       "    </tr>\n",
       "    <tr>\n",
       "      <th>3</th>\n",
       "      <td>57</td>\n",
       "      <td>1</td>\n",
       "      <td>1</td>\n",
       "      <td>120</td>\n",
       "      <td>236</td>\n",
       "      <td>0</td>\n",
       "      <td>1</td>\n",
       "      <td>178</td>\n",
       "      <td>0</td>\n",
       "      <td>0.8</td>\n",
       "      <td>2</td>\n",
       "      <td>0</td>\n",
       "      <td>2</td>\n",
       "      <td>1</td>\n",
       "    </tr>\n",
       "    <tr>\n",
       "      <th>4</th>\n",
       "      <td>58</td>\n",
       "      <td>0</td>\n",
       "      <td>0</td>\n",
       "      <td>120</td>\n",
       "      <td>354</td>\n",
       "      <td>0</td>\n",
       "      <td>1</td>\n",
       "      <td>163</td>\n",
       "      <td>1</td>\n",
       "      <td>0.6</td>\n",
       "      <td>2</td>\n",
       "      <td>0</td>\n",
       "      <td>2</td>\n",
       "      <td>1</td>\n",
       "    </tr>\n",
       "  </tbody>\n",
       "</table>\n",
       "</div>"
      ],
      "text/plain": [
       "   age  sex  cp  trestbps  chol  fbs  restecg  thalach  exang  oldpeak  slope  \\\n",
       "0   64    1   3       145   233    1        0      150      0      2.3      0   \n",
       "1   38    1   2       130   250    0        1      187      0      3.5      0   \n",
       "2   42    0   1       130   204    0        0      172      0      1.4      2   \n",
       "3   57    1   1       120   236    0        1      178      0      0.8      2   \n",
       "4   58    0   0       120   354    0        1      163      1      0.6      2   \n",
       "\n",
       "   ca  thal  target  \n",
       "0   0     1       1  \n",
       "1   0     2       1  \n",
       "2   0     2       1  \n",
       "3   0     2       1  \n",
       "4   0     2       1  "
      ]
     },
     "execution_count": 86,
     "metadata": {},
     "output_type": "execute_result"
    }
   ],
   "source": [
    "# Becareful if you make copies and modify the data\n",
    "df1=df[\"age\"]\n",
    "df1 += 1\n",
    "df.head()"
   ]
  },
  {
   "cell_type": "code",
   "execution_count": 70,
   "metadata": {},
   "outputs": [
    {
     "name": "stdout",
     "output_type": "stream",
     "text": [
      "﻿age,sex,cp,trestbps,chol,fbs,restecg,thalach,exang,oldpeak,slope,ca,thal,target\r",
      "\r\n",
      "63,1,3,145,233,1,0,150,0,2.3,0,0,1,1\r",
      "\r\n",
      "37,1,2,130,250,0,1,187,0,3.5,0,0,2,1\r",
      "\r\n",
      "41,0,1,130,204,0,0,172,0,1.4,2,0,2,1\r",
      "\r\n",
      "56,1,1,120,236,0,1,178,0,0.8,2,0,2,1\r",
      "\r\n",
      "57,0,0,120,354,0,1,163,1,0.6,2,0,2,1\r",
      "\r\n",
      "57,1,0,140,192,0,1,148,0,0.4,1,0,1,1\r",
      "\r\n",
      "56,0,1,140,294,0,0,153,0,1.3,1,0,2,1\r",
      "\r\n",
      "44,1,1,120,263,0,1,173,0,0,2,0,3,1\r",
      "\r\n",
      "52,1,2,172,199,1,1,162,0,0.5,2,0,3,1\r",
      "\r\n",
      "57,1,2,150,168,0,1,174,0,1.6,2,0,2,1\r",
      "\r\n",
      "54,1,0,140,239,0,1,160,0,1.2,2,0,2,1\r",
      "\r\n",
      "48,0,2,130,275,0,1,139,0,0.2,2,0,2,1\r",
      "\r\n",
      "49,1,1,130,266,0,1,171,0,0.6,2,0,2,1\r",
      "\r\n",
      "64,1,3,110,211,0,0,144,1,1.8,1,0,2,1\r",
      "\r\n",
      "58,0,3,150,283,1,0,162,0,1,2,0,2,1\r",
      "\r\n",
      "50,0,2,120,219,0,1,158,0,1.6,1,0,2,1\r",
      "\r\n",
      "58,0,2,120,340,0,1,172,0,0,2,0,2,1\r",
      "\r\n",
      "66,0,3,150,226,0,1,114,0,2.6,0,0,2,1\r",
      "\r\n",
      "43,1,0,150,247,0,1,171,0,1.5,2,0,2,1\r",
      "\r\n",
      "69,0,3,140,239,0,1,151,0,1.8,2,2,2,1\r",
      "\r\n",
      "59,1,0,135,234,0,1,161,0,0.5,1,0,3,1\r",
      "\r\n",
      "44,1,2,130,233,0,1,179,1,0.4,2,0,2,1\r",
      "\r\n",
      "42,1,0,140,226,0,1,178,0,0,2,0,2,1\r",
      "\r\n",
      "61,1,2,150,243,1,1,137,1,1,1,0,2,1\r",
      "\r\n",
      "40,1,3,140,199,0,1,178,1,1.4,2,0,3,1\r",
      "\r\n",
      "71,0,1,160,302,0,1,162,0,0.4,2,2,2,1\r",
      "\r\n",
      "59,1,2,150,212,1,1,157,0,1.6,2,0,2,1\r",
      "\r\n",
      "51,1,2,110,175,0,1,123,0,0.6,2,0,2,1\r",
      "\r\n",
      "65,0,2,140,417,1,0,157,0,0.8,2,1,2,1\r",
      "\r\n",
      "53,1,2,130,197,1,0,152,0,1.2,0,0,2,1\r",
      "\r\n",
      "41,0,1,105,198,0,1,168,0,0,2,1,2,1\r",
      "\r\n",
      "65,1,0,120,177,0,1,140,0,0.4,2,0,3,1\r",
      "\r\n",
      "44,1,1,130,219,0,0,188,0,0,2,0,2,1\r",
      "\r\n",
      "54,1,2,125,273,0,0,152,0,0.5,0,1,2,1\r",
      "\r\n",
      "51,1,3,125,213,0,0,125,1,1.4,2,1,2,1\r",
      "\r\n",
      "46,0,2,142,177,0,0,160,1,1.4,0,0,2,1\r",
      "\r\n",
      "54,0,2,135,304,1,1,170,0,0,2,0,2,1\r",
      "\r\n",
      "54,1,2,150,232,0,0,165,0,1.6,2,0,3,1\r",
      "\r\n",
      "65,0,2,155,269,0,1,148,0,0.8,2,0,2,1\r",
      "\r\n",
      "65,0,2,160,360,0,0,151,0,0.8,2,0,2,1\r",
      "\r\n",
      "51,0,2,140,308,0,0,142,0,1.5,2,1,2,1\r",
      "\r\n",
      "48,1,1,130,245,0,0,180,0,0.2,1,0,2,1\r",
      "\r\n",
      "45,1,0,104,208,0,0,148,1,3,1,0,2,1\r",
      "\r\n",
      "53,0,0,130,264,0,0,143,0,0.4,1,0,2,1\r",
      "\r\n",
      "39,1,2,140,321,0,0,182,0,0,2,0,2,1\r",
      "\r\n",
      "52,1,1,120,325,0,1,172,0,0.2,2,0,2,1\r",
      "\r\n",
      "44,1,2,140,235,0,0,180,0,0,2,0,2,1\r",
      "\r\n",
      "47,1,2,138,257,0,0,156,0,0,2,0,2,1\r",
      "\r\n",
      "53,0,2,128,216,0,0,115,0,0,2,0,0,1\r",
      "\r\n",
      "53,0,0,138,234,0,0,160,0,0,2,0,2,1\r",
      "\r\n",
      "51,0,2,130,256,0,0,149,0,0.5,2,0,2,1\r",
      "\r\n",
      "66,1,0,120,302,0,0,151,0,0.4,1,0,2,1\r",
      "\r\n",
      "62,1,2,130,231,0,1,146,0,1.8,1,3,3,1\r",
      "\r\n",
      "44,0,2,108,141,0,1,175,0,0.6,1,0,2,1\r",
      "\r\n",
      "63,0,2,135,252,0,0,172,0,0,2,0,2,1\r",
      "\r\n",
      "52,1,1,134,201,0,1,158,0,0.8,2,1,2,1\r",
      "\r\n",
      "48,1,0,122,222,0,0,186,0,0,2,0,2,1\r",
      "\r\n",
      "45,1,0,115,260,0,0,185,0,0,2,0,2,1\r",
      "\r\n",
      "34,1,3,118,182,0,0,174,0,0,2,0,2,1\r",
      "\r\n",
      "57,0,0,128,303,0,0,159,0,0,2,1,2,1\r",
      "\r\n",
      "71,0,2,110,265,1,0,130,0,0,2,1,2,1\r",
      "\r\n",
      "54,1,1,108,309,0,1,156,0,0,2,0,3,1\r",
      "\r\n",
      "52,1,3,118,186,0,0,190,0,0,1,0,1,1\r",
      "\r\n",
      "41,1,1,135,203,0,1,132,0,0,1,0,1,1\r",
      "\r\n",
      "58,1,2,140,211,1,0,165,0,0,2,0,2,1\r",
      "\r\n",
      "35,0,0,138,183,0,1,182,0,1.4,2,0,2,1\r",
      "\r\n",
      "51,1,2,100,222,0,1,143,1,1.2,1,0,2,1\r",
      "\r\n",
      "45,0,1,130,234,0,0,175,0,0.6,1,0,2,1\r",
      "\r\n",
      "44,1,1,120,220,0,1,170,0,0,2,0,2,1\r",
      "\r\n",
      "62,0,0,124,209,0,1,163,0,0,2,0,2,1\r",
      "\r\n",
      "54,1,2,120,258,0,0,147,0,0.4,1,0,3,1\r",
      "\r\n",
      "51,1,2,94,227,0,1,154,1,0,2,1,3,1\r",
      "\r\n",
      "29,1,1,130,204,0,0,202,0,0,2,0,2,1\r",
      "\r\n",
      "51,1,0,140,261,0,0,186,1,0,2,0,2,1\r",
      "\r\n",
      "43,0,2,122,213,0,1,165,0,0.2,1,0,2,1\r",
      "\r\n",
      "55,0,1,135,250,0,0,161,0,1.4,1,0,2,1\r",
      "\r\n",
      "51,1,2,125,245,1,0,166,0,2.4,1,0,2,1\r",
      "\r\n",
      "59,1,1,140,221,0,1,164,1,0,2,0,2,1\r",
      "\r\n",
      "52,1,1,128,205,1,1,184,0,0,2,0,2,1\r",
      "\r\n",
      "58,1,2,105,240,0,0,154,1,0.6,1,0,3,1\r",
      "\r\n",
      "41,1,2,112,250,0,1,179,0,0,2,0,2,1\r",
      "\r\n",
      "45,1,1,128,308,0,0,170,0,0,2,0,2,1\r",
      "\r\n",
      "60,0,2,102,318,0,1,160,0,0,2,1,2,1\r",
      "\r\n",
      "52,1,3,152,298,1,1,178,0,1.2,1,0,3,1\r",
      "\r\n",
      "42,0,0,102,265,0,0,122,0,0.6,1,0,2,1\r",
      "\r\n",
      "67,0,2,115,564,0,0,160,0,1.6,1,0,3,1\r",
      "\r\n",
      "68,1,2,118,277,0,1,151,0,1,2,1,3,1\r",
      "\r\n",
      "46,1,1,101,197,1,1,156,0,0,2,0,3,1\r",
      "\r\n",
      "54,0,2,110,214,0,1,158,0,1.6,1,0,2,1\r",
      "\r\n",
      "58,0,0,100,248,0,0,122,0,1,1,0,2,1\r",
      "\r\n",
      "48,1,2,124,255,1,1,175,0,0,2,2,2,1\r",
      "\r\n",
      "57,1,0,132,207,0,1,168,1,0,2,0,3,1\r",
      "\r\n",
      "52,1,2,138,223,0,1,169,0,0,2,4,2,1\r",
      "\r\n",
      "54,0,1,132,288,1,0,159,1,0,2,1,2,1\r",
      "\r\n",
      "45,0,1,112,160,0,1,138,0,0,1,0,2,1\r",
      "\r\n",
      "53,1,0,142,226,0,0,111,1,0,2,0,3,1\r",
      "\r\n",
      "62,0,0,140,394,0,0,157,0,1.2,1,0,2,1\r",
      "\r\n",
      "52,1,0,108,233,1,1,147,0,0.1,2,3,3,1\r",
      "\r\n",
      "43,1,2,130,315,0,1,162,0,1.9,2,1,2,1\r",
      "\r\n",
      "53,1,2,130,246,1,0,173,0,0,2,3,2,1\r",
      "\r\n",
      "42,1,3,148,244,0,0,178,0,0.8,2,2,2,1\r",
      "\r\n",
      "59,1,3,178,270,0,0,145,0,4.2,0,0,3,1\r",
      "\r\n",
      "63,0,1,140,195,0,1,179,0,0,2,2,2,1\r",
      "\r\n",
      "42,1,2,120,240,1,1,194,0,0.8,0,0,3,1\r",
      "\r\n",
      "50,1,2,129,196,0,1,163,0,0,2,0,2,1\r",
      "\r\n",
      "68,0,2,120,211,0,0,115,0,1.5,1,0,2,1\r",
      "\r\n",
      "69,1,3,160,234,1,0,131,0,0.1,1,1,2,1\r",
      "\r\n",
      "45,0,0,138,236,0,0,152,1,0.2,1,0,2,1\r",
      "\r\n",
      "50,0,1,120,244,0,1,162,0,1.1,2,0,2,1\r",
      "\r\n",
      "50,0,0,110,254,0,0,159,0,0,2,0,2,1\r",
      "\r\n",
      "64,0,0,180,325,0,1,154,1,0,2,0,2,1\r",
      "\r\n",
      "57,1,2,150,126,1,1,173,0,0.2,2,1,3,1\r",
      "\r\n",
      "64,0,2,140,313,0,1,133,0,0.2,2,0,3,1\r",
      "\r\n",
      "43,1,0,110,211,0,1,161,0,0,2,0,3,1\r",
      "\r\n",
      "55,1,1,130,262,0,1,155,0,0,2,0,2,1\r",
      "\r\n",
      "37,0,2,120,215,0,1,170,0,0,2,0,2,1\r",
      "\r\n",
      "41,1,2,130,214,0,0,168,0,2,1,0,2,1\r",
      "\r\n",
      "56,1,3,120,193,0,0,162,0,1.9,1,0,3,1\r",
      "\r\n",
      "46,0,1,105,204,0,1,172,0,0,2,0,2,1\r",
      "\r\n",
      "46,0,0,138,243,0,0,152,1,0,1,0,2,1\r",
      "\r\n",
      "64,0,0,130,303,0,1,122,0,2,1,2,2,1\r",
      "\r\n",
      "59,1,0,138,271,0,0,182,0,0,2,0,2,1\r",
      "\r\n",
      "41,0,2,112,268,0,0,172,1,0,2,0,2,1\r",
      "\r\n",
      "54,0,2,108,267,0,0,167,0,0,2,0,2,1\r",
      "\r\n",
      "39,0,2,94,199,0,1,179,0,0,2,0,2,1\r",
      "\r\n",
      "34,0,1,118,210,0,1,192,0,0.7,2,0,2,1\r",
      "\r\n",
      "47,1,0,112,204,0,1,143,0,0.1,2,0,2,1\r",
      "\r\n",
      "67,0,2,152,277,0,1,172,0,0,2,1,2,1\r",
      "\r\n",
      "52,0,2,136,196,0,0,169,0,0.1,1,0,2,1\r",
      "\r\n",
      "74,0,1,120,269,0,0,121,1,0.2,2,1,2,1\r",
      "\r\n",
      "54,0,2,160,201,0,1,163,0,0,2,1,2,1\r",
      "\r\n",
      "49,0,1,134,271,0,1,162,0,0,1,0,2,1\r",
      "\r\n",
      "42,1,1,120,295,0,1,162,0,0,2,0,2,1\r",
      "\r\n",
      "41,1,1,110,235,0,1,153,0,0,2,0,2,1\r",
      "\r\n",
      "41,0,1,126,306,0,1,163,0,0,2,0,2,1\r",
      "\r\n",
      "49,0,0,130,269,0,1,163,0,0,2,0,2,1\r",
      "\r\n",
      "60,0,2,120,178,1,1,96,0,0,2,0,2,1\r",
      "\r\n",
      "62,1,1,128,208,1,0,140,0,0,2,0,2,1\r",
      "\r\n",
      "57,1,0,110,201,0,1,126,1,1.5,1,0,1,1\r",
      "\r\n",
      "64,1,0,128,263,0,1,105,1,0.2,1,1,3,1\r",
      "\r\n",
      "51,0,2,120,295,0,0,157,0,0.6,2,0,2,1\r",
      "\r\n",
      "43,1,0,115,303,0,1,181,0,1.2,1,0,2,1\r",
      "\r\n",
      "42,0,2,120,209,0,1,173,0,0,1,0,2,1\r",
      "\r\n",
      "67,0,0,106,223,0,1,142,0,0.3,2,2,2,1\r",
      "\r\n",
      "76,0,2,140,197,0,2,116,0,1.1,1,0,2,1\r",
      "\r\n",
      "70,1,1,156,245,0,0,143,0,0,2,0,2,1\r",
      "\r\n",
      "44,0,2,118,242,0,1,149,0,0.3,1,1,2,1\r",
      "\r\n",
      "60,0,3,150,240,0,1,171,0,0.9,2,0,2,1\r",
      "\r\n",
      "44,1,2,120,226,0,1,169,0,0,2,0,2,1\r",
      "\r\n",
      "42,1,2,130,180,0,1,150,0,0,2,0,2,1\r",
      "\r\n",
      "66,1,0,160,228,0,0,138,0,2.3,2,0,1,1\r",
      "\r\n",
      "71,0,0,112,149,0,1,125,0,1.6,1,0,2,1\r",
      "\r\n",
      "64,1,3,170,227,0,0,155,0,0.6,1,0,3,1\r",
      "\r\n",
      "66,0,2,146,278,0,0,152,0,0,1,1,2,1\r",
      "\r\n",
      "39,0,2,138,220,0,1,152,0,0,1,0,2,1\r",
      "\r\n",
      "58,0,0,130,197,0,1,131,0,0.6,1,0,2,1\r",
      "\r\n",
      "47,1,2,130,253,0,1,179,0,0,2,0,2,1\r",
      "\r\n",
      "35,1,1,122,192,0,1,174,0,0,2,0,2,1\r",
      "\r\n",
      "58,1,1,125,220,0,1,144,0,0.4,1,4,3,1\r",
      "\r\n",
      "56,1,1,130,221,0,0,163,0,0,2,0,3,1\r",
      "\r\n",
      "56,1,1,120,240,0,1,169,0,0,0,0,2,1\r",
      "\r\n",
      "55,0,1,132,342,0,1,166,0,1.2,2,0,2,1\r",
      "\r\n",
      "41,1,1,120,157,0,1,182,0,0,2,0,2,1\r",
      "\r\n",
      "38,1,2,138,175,0,1,173,0,0,2,4,2,1\r",
      "\r\n",
      "38,1,2,138,175,0,1,173,0,0,2,4,2,1\r",
      "\r\n",
      "67,1,0,160,286,0,0,108,1,1.5,1,3,2,0\r",
      "\r\n",
      "67,1,0,120,229,0,0,129,1,2.6,1,2,3,0\r",
      "\r\n",
      "62,0,0,140,268,0,0,160,0,3.6,0,2,2,0\r",
      "\r\n",
      "63,1,0,130,254,0,0,147,0,1.4,1,1,3,0\r",
      "\r\n",
      "53,1,0,140,203,1,0,155,1,3.1,0,0,3,0\r",
      "\r\n",
      "56,1,2,130,256,1,0,142,1,0.6,1,1,1,0\r",
      "\r\n",
      "48,1,1,110,229,0,1,168,0,1,0,0,3,0\r",
      "\r\n",
      "58,1,1,120,284,0,0,160,0,1.8,1,0,2,0\r",
      "\r\n",
      "58,1,2,132,224,0,0,173,0,3.2,2,2,3,0\r",
      "\r\n",
      "60,1,0,130,206,0,0,132,1,2.4,1,2,3,0\r",
      "\r\n",
      "40,1,0,110,167,0,0,114,1,2,1,0,3,0\r",
      "\r\n",
      "60,1,0,117,230,1,1,160,1,1.4,2,2,3,0\r",
      "\r\n",
      "64,1,2,140,335,0,1,158,0,0,2,0,2,0\r",
      "\r\n",
      "43,1,0,120,177,0,0,120,1,2.5,1,0,3,0\r",
      "\r\n",
      "57,1,0,150,276,0,0,112,1,0.6,1,1,1,0\r",
      "\r\n",
      "55,1,0,132,353,0,1,132,1,1.2,1,1,3,0\r",
      "\r\n",
      "65,0,0,150,225,0,0,114,0,1,1,3,3,0\r",
      "\r\n",
      "61,0,0,130,330,0,0,169,0,0,2,0,2,0\r",
      "\r\n",
      "58,1,2,112,230,0,0,165,0,2.5,1,1,3,0\r",
      "\r\n",
      "50,1,0,150,243,0,0,128,0,2.6,1,0,3,0\r",
      "\r\n",
      "44,1,0,112,290,0,0,153,0,0,2,1,2,0\r",
      "\r\n",
      "60,1,0,130,253,0,1,144,1,1.4,2,1,3,0\r",
      "\r\n",
      "54,1,0,124,266,0,0,109,1,2.2,1,1,3,0\r",
      "\r\n",
      "50,1,2,140,233,0,1,163,0,0.6,1,1,3,0\r",
      "\r\n",
      "41,1,0,110,172,0,0,158,0,0,2,0,3,0\r",
      "\r\n",
      "51,0,0,130,305,0,1,142,1,1.2,1,0,3,0\r",
      "\r\n",
      "58,1,0,128,216,0,0,131,1,2.2,1,3,3,0\r",
      "\r\n",
      "54,1,0,120,188,0,1,113,0,1.4,1,1,3,0\r",
      "\r\n",
      "60,1,0,145,282,0,0,142,1,2.8,1,2,3,0\r",
      "\r\n",
      "60,1,2,140,185,0,0,155,0,3,1,0,2,0\r",
      "\r\n",
      "59,1,0,170,326,0,0,140,1,3.4,0,0,3,0\r",
      "\r\n",
      "46,1,2,150,231,0,1,147,0,3.6,1,0,2,0\r",
      "\r\n",
      "67,1,0,125,254,1,1,163,0,0.2,1,2,3,0\r",
      "\r\n",
      "62,1,0,120,267,0,1,99,1,1.8,1,2,3,0\r",
      "\r\n",
      "65,1,0,110,248,0,0,158,0,0.6,2,2,1,0\r",
      "\r\n",
      "44,1,0,110,197,0,0,177,0,0,2,1,2,0\r",
      "\r\n",
      "60,1,0,125,258,0,0,141,1,2.8,1,1,3,0\r",
      "\r\n",
      "58,1,0,150,270,0,0,111,1,0.8,2,0,3,0\r",
      "\r\n",
      "68,1,2,180,274,1,0,150,1,1.6,1,0,3,0\r",
      "\r\n",
      "62,0,0,160,164,0,0,145,0,6.2,0,3,3,0\r",
      "\r\n",
      "52,1,0,128,255,0,1,161,1,0,2,1,3,0\r",
      "\r\n",
      "59,1,0,110,239,0,0,142,1,1.2,1,1,3,0\r",
      "\r\n",
      "60,0,0,150,258,0,0,157,0,2.6,1,2,3,0\r",
      "\r\n",
      "49,1,2,120,188,0,1,139,0,2,1,3,3,0\r",
      "\r\n",
      "59,1,0,140,177,0,1,162,1,0,2,1,3,0\r",
      "\r\n",
      "57,1,2,128,229,0,0,150,0,0.4,1,1,3,0\r",
      "\r\n",
      "61,1,0,120,260,0,1,140,1,3.6,1,1,3,0\r",
      "\r\n",
      "39,1,0,118,219,0,1,140,0,1.2,1,0,3,0\r",
      "\r\n",
      "61,0,0,145,307,0,0,146,1,1,1,0,3,0\r",
      "\r\n",
      "56,1,0,125,249,1,0,144,1,1.2,1,1,2,0\r",
      "\r\n",
      "43,0,0,132,341,1,0,136,1,3,1,0,3,0\r",
      "\r\n",
      "62,0,2,130,263,0,1,97,0,1.2,1,1,3,0\r",
      "\r\n",
      "63,1,0,130,330,1,0,132,1,1.8,2,3,3,0\r",
      "\r\n",
      "65,1,0,135,254,0,0,127,0,2.8,1,1,3,0\r",
      "\r\n",
      "48,1,0,130,256,1,0,150,1,0,2,2,3,0\r",
      "\r\n",
      "63,0,0,150,407,0,0,154,0,4,1,3,3,0\r",
      "\r\n",
      "55,1,0,140,217,0,1,111,1,5.6,0,0,3,0\r",
      "\r\n",
      "65,1,3,138,282,1,0,174,0,1.4,1,1,2,0\r",
      "\r\n",
      "56,0,0,200,288,1,0,133,1,4,0,2,3,0\r",
      "\r\n",
      "54,1,0,110,239,0,1,126,1,2.8,1,1,3,0\r",
      "\r\n",
      "70,1,0,145,174,0,1,125,1,2.6,0,0,3,0\r",
      "\r\n",
      "62,1,1,120,281,0,0,103,0,1.4,1,1,3,0\r",
      "\r\n",
      "35,1,0,120,198,0,1,130,1,1.6,1,0,3,0\r",
      "\r\n",
      "59,1,3,170,288,0,0,159,0,0.2,1,0,3,0\r",
      "\r\n",
      "64,1,2,125,309,0,1,131,1,1.8,1,0,3,0\r",
      "\r\n",
      "47,1,2,108,243,0,1,152,0,0,2,0,2,0\r",
      "\r\n",
      "57,1,0,165,289,1,0,124,0,1,1,3,3,0\r",
      "\r\n",
      "55,1,0,160,289,0,0,145,1,0.8,1,1,3,0\r",
      "\r\n",
      "64,1,0,120,246,0,0,96,1,2.2,0,1,2,0\r",
      "\r\n",
      "70,1,0,130,322,0,0,109,0,2.4,1,3,2,0\r",
      "\r\n",
      "51,1,0,140,299,0,1,173,1,1.6,2,0,3,0\r",
      "\r\n",
      "58,1,0,125,300,0,0,171,0,0,2,2,3,0\r",
      "\r\n",
      "60,1,0,140,293,0,0,170,0,1.2,1,2,3,0\r",
      "\r\n",
      "77,1,0,125,304,0,0,162,1,0,2,3,2,0\r",
      "\r\n",
      "35,1,0,126,282,0,0,156,1,0,2,0,3,0\r",
      "\r\n",
      "70,1,2,160,269,0,1,112,1,2.9,1,1,3,0\r",
      "\r\n",
      "59,0,0,174,249,0,1,143,1,0,1,0,2,0\r",
      "\r\n",
      "64,1,0,145,212,0,0,132,0,2,1,2,1,0\r",
      "\r\n",
      "57,1,0,152,274,0,1,88,1,1.2,1,1,3,0\r",
      "\r\n",
      "56,1,0,132,184,0,0,105,1,2.1,1,1,1,0\r",
      "\r\n",
      "48,1,0,124,274,0,0,166,0,0.5,1,0,3,0\r",
      "\r\n",
      "56,0,0,134,409,0,0,150,1,1.9,1,2,3,0\r",
      "\r\n",
      "66,1,1,160,246,0,1,120,1,0,1,3,1,0\r",
      "\r\n",
      "54,1,1,192,283,0,0,195,0,0,2,1,3,0\r",
      "\r\n",
      "69,1,2,140,254,0,0,146,0,2,1,3,3,0\r",
      "\r\n",
      "51,1,0,140,298,0,1,122,1,4.2,1,3,3,0\r",
      "\r\n",
      "43,1,0,132,247,1,0,143,1,0.1,1,4,3,0\r",
      "\r\n",
      "62,0,0,138,294,1,1,106,0,1.9,1,3,2,0\r",
      "\r\n",
      "67,1,0,100,299,0,0,125,1,0.9,1,2,2,0\r",
      "\r\n",
      "59,1,3,160,273,0,0,125,0,0,2,0,2,0\r",
      "\r\n",
      "45,1,0,142,309,0,0,147,1,0,1,3,3,0\r",
      "\r\n",
      "58,1,0,128,259,0,0,130,1,3,1,2,3,0\r",
      "\r\n",
      "50,1,0,144,200,0,0,126,1,0.9,1,0,3,0\r",
      "\r\n",
      "62,0,0,150,244,0,1,154,1,1.4,1,0,2,0\r",
      "\r\n",
      "38,1,3,120,231,0,1,182,1,3.8,1,0,3,0\r",
      "\r\n",
      "66,0,0,178,228,1,1,165,1,1,1,2,3,0\r",
      "\r\n",
      "52,1,0,112,230,0,1,160,0,0,2,1,2,0\r",
      "\r\n",
      "53,1,0,123,282,0,1,95,1,2,1,2,3,0\r",
      "\r\n",
      "63,0,0,108,269,0,1,169,1,1.8,1,2,2,0\r",
      "\r\n",
      "54,1,0,110,206,0,0,108,1,0,1,1,2,0\r",
      "\r\n",
      "66,1,0,112,212,0,0,132,1,0.1,2,1,2,0\r",
      "\r\n",
      "55,0,0,180,327,0,2,117,1,3.4,1,0,2,0\r",
      "\r\n",
      "49,1,2,118,149,0,0,126,0,0.8,2,3,2,0\r",
      "\r\n",
      "54,1,0,122,286,0,0,116,1,3.2,1,2,2,0\r",
      "\r\n",
      "56,1,0,130,283,1,0,103,1,1.6,0,0,3,0\r",
      "\r\n",
      "46,1,0,120,249,0,0,144,0,0.8,2,0,3,0\r",
      "\r\n",
      "61,1,3,134,234,0,1,145,0,2.6,1,2,2,0\r",
      "\r\n",
      "67,1,0,120,237,0,1,71,0,1,1,0,2,0\r",
      "\r\n",
      "58,1,0,100,234,0,1,156,0,0.1,2,1,3,0\r",
      "\r\n",
      "47,1,0,110,275,0,0,118,1,1,1,1,2,0\r",
      "\r\n",
      "52,1,0,125,212,0,1,168,0,1,2,2,3,0\r",
      "\r\n",
      "58,1,0,146,218,0,1,105,0,2,1,1,3,0\r",
      "\r\n",
      "57,1,1,124,261,0,1,141,0,0.3,2,0,3,0\r",
      "\r\n",
      "58,0,1,136,319,1,0,152,0,0,2,2,2,0\r",
      "\r\n",
      "61,1,0,138,166,0,0,125,1,3.6,1,1,2,0\r",
      "\r\n",
      "42,1,0,136,315,0,1,125,1,1.8,1,0,1,0\r",
      "\r\n",
      "52,1,0,128,204,1,1,156,1,1,1,0,0,0\r",
      "\r\n",
      "59,1,2,126,218,1,1,134,0,2.2,1,1,1,0\r",
      "\r\n",
      "40,1,0,152,223,0,1,181,0,0,2,0,3,0\r",
      "\r\n",
      "61,1,0,140,207,0,0,138,1,1.9,2,1,3,0\r",
      "\r\n",
      "46,1,0,140,311,0,1,120,1,1.8,1,2,3,0\r",
      "\r\n",
      "59,1,3,134,204,0,1,162,0,0.8,2,2,2,0\r",
      "\r\n",
      "57,1,1,154,232,0,0,164,0,0,2,1,2,0\r",
      "\r\n",
      "57,1,0,110,335,0,1,143,1,3,1,1,3,0\r",
      "\r\n",
      "55,0,0,128,205,0,2,130,1,2,1,1,3,0\r",
      "\r\n",
      "61,1,0,148,203,0,1,161,0,0,2,1,3,0\r",
      "\r\n",
      "58,1,0,114,318,0,2,140,0,4.4,0,3,1,0\r",
      "\r\n",
      "58,0,0,170,225,1,0,146,1,2.8,1,2,1,0\r",
      "\r\n",
      "67,1,2,152,212,0,0,150,0,0.8,1,0,3,0\r",
      "\r\n",
      "44,1,0,120,169,0,1,144,1,2.8,0,0,1,0\r",
      "\r\n",
      "63,1,0,140,187,0,0,144,1,4,2,2,3,0\r",
      "\r\n",
      "63,0,0,124,197,0,1,136,1,0,1,0,2,0\r",
      "\r\n",
      "59,1,0,164,176,1,0,90,0,1,1,2,1,0\r",
      "\r\n",
      "57,0,0,140,241,0,1,123,1,0.2,1,0,3,0\r",
      "\r\n",
      "45,1,3,110,264,0,1,132,0,1.2,1,0,3,0\r",
      "\r\n",
      "68,1,0,144,193,1,1,141,0,3.4,1,2,3,0\r",
      "\r\n",
      "57,1,0,130,131,0,1,115,1,1.2,1,1,3,0\r",
      "\r\n",
      "57,0,1,130,236,0,0,174,0,0,1,1,2,0\r",
      "\r\n"
     ]
    }
   ],
   "source": [
    "# if you are not in windows. you can communicate with the operating system\n",
    "!cat data/heart.csv"
   ]
  },
  {
   "cell_type": "code",
   "execution_count": 87,
   "metadata": {},
   "outputs": [
    {
     "data": {
      "text/html": [
       "<div>\n",
       "<style scoped>\n",
       "    .dataframe tbody tr th:only-of-type {\n",
       "        vertical-align: middle;\n",
       "    }\n",
       "\n",
       "    .dataframe tbody tr th {\n",
       "        vertical-align: top;\n",
       "    }\n",
       "\n",
       "    .dataframe thead th {\n",
       "        text-align: right;\n",
       "    }\n",
       "</style>\n",
       "<table border=\"1\" class=\"dataframe\">\n",
       "  <thead>\n",
       "    <tr style=\"text-align: right;\">\n",
       "      <th></th>\n",
       "      <th>41</th>\n",
       "      <th>0</th>\n",
       "      <th>1</th>\n",
       "      <th>130</th>\n",
       "      <th>204</th>\n",
       "      <th>0.1</th>\n",
       "      <th>0.2</th>\n",
       "      <th>172</th>\n",
       "      <th>0.3</th>\n",
       "      <th>1.4</th>\n",
       "      <th>2</th>\n",
       "      <th>0.4</th>\n",
       "      <th>2.1</th>\n",
       "      <th>1.1</th>\n",
       "    </tr>\n",
       "  </thead>\n",
       "  <tbody>\n",
       "    <tr>\n",
       "      <th>0</th>\n",
       "      <td>56</td>\n",
       "      <td>1</td>\n",
       "      <td>1</td>\n",
       "      <td>120</td>\n",
       "      <td>236</td>\n",
       "      <td>0</td>\n",
       "      <td>1</td>\n",
       "      <td>178</td>\n",
       "      <td>0</td>\n",
       "      <td>0.8</td>\n",
       "      <td>2</td>\n",
       "      <td>0</td>\n",
       "      <td>2</td>\n",
       "      <td>1</td>\n",
       "    </tr>\n",
       "    <tr>\n",
       "      <th>1</th>\n",
       "      <td>57</td>\n",
       "      <td>0</td>\n",
       "      <td>0</td>\n",
       "      <td>120</td>\n",
       "      <td>354</td>\n",
       "      <td>0</td>\n",
       "      <td>1</td>\n",
       "      <td>163</td>\n",
       "      <td>1</td>\n",
       "      <td>0.6</td>\n",
       "      <td>2</td>\n",
       "      <td>0</td>\n",
       "      <td>2</td>\n",
       "      <td>1</td>\n",
       "    </tr>\n",
       "    <tr>\n",
       "      <th>2</th>\n",
       "      <td>57</td>\n",
       "      <td>1</td>\n",
       "      <td>0</td>\n",
       "      <td>140</td>\n",
       "      <td>192</td>\n",
       "      <td>0</td>\n",
       "      <td>1</td>\n",
       "      <td>148</td>\n",
       "      <td>0</td>\n",
       "      <td>0.4</td>\n",
       "      <td>1</td>\n",
       "      <td>0</td>\n",
       "      <td>1</td>\n",
       "      <td>1</td>\n",
       "    </tr>\n",
       "    <tr>\n",
       "      <th>3</th>\n",
       "      <td>56</td>\n",
       "      <td>0</td>\n",
       "      <td>1</td>\n",
       "      <td>140</td>\n",
       "      <td>294</td>\n",
       "      <td>0</td>\n",
       "      <td>0</td>\n",
       "      <td>153</td>\n",
       "      <td>0</td>\n",
       "      <td>1.3</td>\n",
       "      <td>1</td>\n",
       "      <td>0</td>\n",
       "      <td>2</td>\n",
       "      <td>1</td>\n",
       "    </tr>\n",
       "    <tr>\n",
       "      <th>4</th>\n",
       "      <td>44</td>\n",
       "      <td>1</td>\n",
       "      <td>1</td>\n",
       "      <td>120</td>\n",
       "      <td>263</td>\n",
       "      <td>0</td>\n",
       "      <td>1</td>\n",
       "      <td>173</td>\n",
       "      <td>0</td>\n",
       "      <td>0.0</td>\n",
       "      <td>2</td>\n",
       "      <td>0</td>\n",
       "      <td>3</td>\n",
       "      <td>1</td>\n",
       "    </tr>\n",
       "  </tbody>\n",
       "</table>\n",
       "</div>"
      ],
      "text/plain": [
       "   41  0  1  130  204  0.1  0.2  172  0.3  1.4  2  0.4  2.1  1.1\n",
       "0  56  1  1  120  236    0    1  178    0  0.8  2    0    2    1\n",
       "1  57  0  0  120  354    0    1  163    1  0.6  2    0    2    1\n",
       "2  57  1  0  140  192    0    1  148    0  0.4  1    0    1    1\n",
       "3  56  0  1  140  294    0    0  153    0  1.3  1    0    2    1\n",
       "4  44  1  1  120  263    0    1  173    0  0.0  2    0    3    1"
      ]
     },
     "execution_count": 87,
     "metadata": {},
     "output_type": "execute_result"
    }
   ],
   "source": [
    "# if you want to read the csv file but you want to skip the first 3 lines\n",
    "df = pd.read_csv('data/heart.csv',skiprows=3)\n",
    "df.head()"
   ]
  },
  {
   "cell_type": "code",
   "execution_count": 88,
   "metadata": {},
   "outputs": [
    {
     "data": {
      "text/html": [
       "<div>\n",
       "<style scoped>\n",
       "    .dataframe tbody tr th:only-of-type {\n",
       "        vertical-align: middle;\n",
       "    }\n",
       "\n",
       "    .dataframe tbody tr th {\n",
       "        vertical-align: top;\n",
       "    }\n",
       "\n",
       "    .dataframe thead th {\n",
       "        text-align: right;\n",
       "    }\n",
       "</style>\n",
       "<table border=\"1\" class=\"dataframe\">\n",
       "  <thead>\n",
       "    <tr style=\"text-align: right;\">\n",
       "      <th></th>\n",
       "      <th>0</th>\n",
       "      <th>1</th>\n",
       "      <th>130</th>\n",
       "      <th>204</th>\n",
       "      <th>0.1</th>\n",
       "      <th>0.2</th>\n",
       "      <th>172</th>\n",
       "      <th>0.3</th>\n",
       "      <th>1.4</th>\n",
       "      <th>2</th>\n",
       "      <th>0.4</th>\n",
       "      <th>2.1</th>\n",
       "      <th>1.1</th>\n",
       "    </tr>\n",
       "    <tr>\n",
       "      <th>41</th>\n",
       "      <th></th>\n",
       "      <th></th>\n",
       "      <th></th>\n",
       "      <th></th>\n",
       "      <th></th>\n",
       "      <th></th>\n",
       "      <th></th>\n",
       "      <th></th>\n",
       "      <th></th>\n",
       "      <th></th>\n",
       "      <th></th>\n",
       "      <th></th>\n",
       "      <th></th>\n",
       "    </tr>\n",
       "  </thead>\n",
       "  <tbody>\n",
       "    <tr>\n",
       "      <th>56</th>\n",
       "      <td>1</td>\n",
       "      <td>1</td>\n",
       "      <td>120</td>\n",
       "      <td>236</td>\n",
       "      <td>0</td>\n",
       "      <td>1</td>\n",
       "      <td>178</td>\n",
       "      <td>0</td>\n",
       "      <td>0.8</td>\n",
       "      <td>2</td>\n",
       "      <td>0</td>\n",
       "      <td>2</td>\n",
       "      <td>1</td>\n",
       "    </tr>\n",
       "    <tr>\n",
       "      <th>57</th>\n",
       "      <td>0</td>\n",
       "      <td>0</td>\n",
       "      <td>120</td>\n",
       "      <td>354</td>\n",
       "      <td>0</td>\n",
       "      <td>1</td>\n",
       "      <td>163</td>\n",
       "      <td>1</td>\n",
       "      <td>0.6</td>\n",
       "      <td>2</td>\n",
       "      <td>0</td>\n",
       "      <td>2</td>\n",
       "      <td>1</td>\n",
       "    </tr>\n",
       "    <tr>\n",
       "      <th>57</th>\n",
       "      <td>1</td>\n",
       "      <td>0</td>\n",
       "      <td>140</td>\n",
       "      <td>192</td>\n",
       "      <td>0</td>\n",
       "      <td>1</td>\n",
       "      <td>148</td>\n",
       "      <td>0</td>\n",
       "      <td>0.4</td>\n",
       "      <td>1</td>\n",
       "      <td>0</td>\n",
       "      <td>1</td>\n",
       "      <td>1</td>\n",
       "    </tr>\n",
       "    <tr>\n",
       "      <th>56</th>\n",
       "      <td>0</td>\n",
       "      <td>1</td>\n",
       "      <td>140</td>\n",
       "      <td>294</td>\n",
       "      <td>0</td>\n",
       "      <td>0</td>\n",
       "      <td>153</td>\n",
       "      <td>0</td>\n",
       "      <td>1.3</td>\n",
       "      <td>1</td>\n",
       "      <td>0</td>\n",
       "      <td>2</td>\n",
       "      <td>1</td>\n",
       "    </tr>\n",
       "    <tr>\n",
       "      <th>44</th>\n",
       "      <td>1</td>\n",
       "      <td>1</td>\n",
       "      <td>120</td>\n",
       "      <td>263</td>\n",
       "      <td>0</td>\n",
       "      <td>1</td>\n",
       "      <td>173</td>\n",
       "      <td>0</td>\n",
       "      <td>0.0</td>\n",
       "      <td>2</td>\n",
       "      <td>0</td>\n",
       "      <td>3</td>\n",
       "      <td>1</td>\n",
       "    </tr>\n",
       "  </tbody>\n",
       "</table>\n",
       "</div>"
      ],
      "text/plain": [
       "    0  1  130  204  0.1  0.2  172  0.3  1.4  2  0.4  2.1  1.1\n",
       "41                                                           \n",
       "56  1  1  120  236    0    1  178    0  0.8  2    0    2    1\n",
       "57  0  0  120  354    0    1  163    1  0.6  2    0    2    1\n",
       "57  1  0  140  192    0    1  148    0  0.4  1    0    1    1\n",
       "56  0  1  140  294    0    0  153    0  1.3  1    0    2    1\n",
       "44  1  1  120  263    0    1  173    0  0.0  2    0    3    1"
      ]
     },
     "execution_count": 88,
     "metadata": {},
     "output_type": "execute_result"
    }
   ],
   "source": [
    "# if we want to use the first column as the index\n",
    "df = pd.read_csv('data/heart.csv',index_col=0,skiprows=3)\n",
    "df.head()"
   ]
  },
  {
   "cell_type": "markdown",
   "metadata": {},
   "source": [
    "### From JSON Files"
   ]
  },
  {
   "cell_type": "markdown",
   "metadata": {},
   "source": [
    "JSON (JavaScript Object Notation) is a lightweight data-interchange format. It is easy for humans to read and write. It is easy for machines to parse and generate. It is based on a subset of the JavaScript Programming Language, Standard ECMA-262 3rd Edition - December 1999. JSON is a text format that is completely language independent but uses conventions that are familiar to programmers of the C-family of languages, including C, C++, C#, Java, JavaScript, Perl, Python, and many others. These properties make JSON an ideal data-interchange language.\n",
    "\n",
    "JSON is particularly useful for Data Analysis on Python as the JSON parser is part of the Standard Library and its format looks very similar to Python dictionaries. However, notice that a JSON file or JSON string is just a set of bytes that can be readed as text. A python dictionary is a complete data structure. Other differences between JSON strings and dictionaries are:\n",
    "\n",
    " * Python's dictionary key can hash any object, and JSON can only be a string.\n",
    " * The Python dict string can be created with single or double quotation marks. When represented on the screen, single quotes are used, however, a JSON string enforces double quotation marks.\n",
    " * You can nest tuple in Python dict. JSON can only use array.\n",
    " \n",
    "In practice that means that a JSON file can always be converted into a Python dictionary, but the reverse is not always true."
   ]
  },
  {
   "cell_type": "code",
   "execution_count": 27,
   "metadata": {},
   "outputs": [],
   "source": [
    "df=pd.read_json(\"data/heart.json\")"
   ]
  },
  {
   "cell_type": "markdown",
   "metadata": {},
   "source": [
    "### From SQLite Databases"
   ]
  },
  {
   "cell_type": "markdown",
   "metadata": {},
   "source": [
    "SQLite is a C-language library that implements a small, fast, self-contained, high-reliability, full-featured, SQL database engine. SQLite is the most used database engine in the world. In practice SQLite is a serverless SQL database in a file."
   ]
  },
  {
   "cell_type": "code",
   "execution_count": 28,
   "metadata": {},
   "outputs": [],
   "source": [
    "import sqlite3"
   ]
  },
  {
   "cell_type": "code",
   "execution_count": 29,
   "metadata": {},
   "outputs": [],
   "source": [
    "con = sqlite3.connect(\"data/heart.db\")"
   ]
  },
  {
   "cell_type": "code",
   "execution_count": 30,
   "metadata": {},
   "outputs": [],
   "source": [
    "df = pd.read_sql_query(\"SELECT * FROM heart\", con)"
   ]
  },
  {
   "cell_type": "code",
   "execution_count": 31,
   "metadata": {},
   "outputs": [
    {
     "data": {
      "text/html": [
       "<div>\n",
       "<style scoped>\n",
       "    .dataframe tbody tr th:only-of-type {\n",
       "        vertical-align: middle;\n",
       "    }\n",
       "\n",
       "    .dataframe tbody tr th {\n",
       "        vertical-align: top;\n",
       "    }\n",
       "\n",
       "    .dataframe thead th {\n",
       "        text-align: right;\n",
       "    }\n",
       "</style>\n",
       "<table border=\"1\" class=\"dataframe\">\n",
       "  <thead>\n",
       "    <tr style=\"text-align: right;\">\n",
       "      <th></th>\n",
       "      <th>index</th>\n",
       "      <th>age</th>\n",
       "      <th>sex</th>\n",
       "      <th>cp</th>\n",
       "      <th>trestbps</th>\n",
       "      <th>chol</th>\n",
       "      <th>fbs</th>\n",
       "      <th>restecg</th>\n",
       "      <th>thalach</th>\n",
       "      <th>exang</th>\n",
       "      <th>oldpeak</th>\n",
       "      <th>slope</th>\n",
       "      <th>ca</th>\n",
       "      <th>thal</th>\n",
       "      <th>target</th>\n",
       "    </tr>\n",
       "  </thead>\n",
       "  <tbody>\n",
       "    <tr>\n",
       "      <th>0</th>\n",
       "      <td>0</td>\n",
       "      <td>63</td>\n",
       "      <td>1</td>\n",
       "      <td>3</td>\n",
       "      <td>145</td>\n",
       "      <td>233</td>\n",
       "      <td>1</td>\n",
       "      <td>0</td>\n",
       "      <td>150</td>\n",
       "      <td>0</td>\n",
       "      <td>2.3</td>\n",
       "      <td>0</td>\n",
       "      <td>0</td>\n",
       "      <td>1</td>\n",
       "      <td>1</td>\n",
       "    </tr>\n",
       "    <tr>\n",
       "      <th>1</th>\n",
       "      <td>1</td>\n",
       "      <td>37</td>\n",
       "      <td>1</td>\n",
       "      <td>2</td>\n",
       "      <td>130</td>\n",
       "      <td>250</td>\n",
       "      <td>0</td>\n",
       "      <td>1</td>\n",
       "      <td>187</td>\n",
       "      <td>0</td>\n",
       "      <td>3.5</td>\n",
       "      <td>0</td>\n",
       "      <td>0</td>\n",
       "      <td>2</td>\n",
       "      <td>1</td>\n",
       "    </tr>\n",
       "    <tr>\n",
       "      <th>2</th>\n",
       "      <td>2</td>\n",
       "      <td>41</td>\n",
       "      <td>0</td>\n",
       "      <td>1</td>\n",
       "      <td>130</td>\n",
       "      <td>204</td>\n",
       "      <td>0</td>\n",
       "      <td>0</td>\n",
       "      <td>172</td>\n",
       "      <td>0</td>\n",
       "      <td>1.4</td>\n",
       "      <td>2</td>\n",
       "      <td>0</td>\n",
       "      <td>2</td>\n",
       "      <td>1</td>\n",
       "    </tr>\n",
       "    <tr>\n",
       "      <th>3</th>\n",
       "      <td>3</td>\n",
       "      <td>56</td>\n",
       "      <td>1</td>\n",
       "      <td>1</td>\n",
       "      <td>120</td>\n",
       "      <td>236</td>\n",
       "      <td>0</td>\n",
       "      <td>1</td>\n",
       "      <td>178</td>\n",
       "      <td>0</td>\n",
       "      <td>0.8</td>\n",
       "      <td>2</td>\n",
       "      <td>0</td>\n",
       "      <td>2</td>\n",
       "      <td>1</td>\n",
       "    </tr>\n",
       "    <tr>\n",
       "      <th>4</th>\n",
       "      <td>4</td>\n",
       "      <td>57</td>\n",
       "      <td>0</td>\n",
       "      <td>0</td>\n",
       "      <td>120</td>\n",
       "      <td>354</td>\n",
       "      <td>0</td>\n",
       "      <td>1</td>\n",
       "      <td>163</td>\n",
       "      <td>1</td>\n",
       "      <td>0.6</td>\n",
       "      <td>2</td>\n",
       "      <td>0</td>\n",
       "      <td>2</td>\n",
       "      <td>1</td>\n",
       "    </tr>\n",
       "  </tbody>\n",
       "</table>\n",
       "</div>"
      ],
      "text/plain": [
       "   index  age  sex  cp  trestbps  chol  fbs  restecg  thalach  exang  oldpeak  \\\n",
       "0      0   63    1   3       145   233    1        0      150      0      2.3   \n",
       "1      1   37    1   2       130   250    0        1      187      0      3.5   \n",
       "2      2   41    0   1       130   204    0        0      172      0      1.4   \n",
       "3      3   56    1   1       120   236    0        1      178      0      0.8   \n",
       "4      4   57    0   0       120   354    0        1      163      1      0.6   \n",
       "\n",
       "   slope  ca  thal  target  \n",
       "0      0   0     1       1  \n",
       "1      0   0     2       1  \n",
       "2      2   0     2       1  \n",
       "3      2   0     2       1  \n",
       "4      2   0     2       1  "
      ]
     },
     "execution_count": 31,
     "metadata": {},
     "output_type": "execute_result"
    }
   ],
   "source": [
    "df.head()"
   ]
  },
  {
   "cell_type": "markdown",
   "metadata": {},
   "source": [
    "### From Excel files"
   ]
  },
  {
   "cell_type": "markdown",
   "metadata": {},
   "source": [
    "Pandas also support reading Excel files, however, in order to read files from recent versions of Excel. You need to install the **xlrd** package "
   ]
  },
  {
   "cell_type": "code",
   "execution_count": 32,
   "metadata": {},
   "outputs": [],
   "source": [
    "#pip install xlrd"
   ]
  },
  {
   "cell_type": "markdown",
   "metadata": {},
   "source": [
    "If you are using conda, the package can be installed with:"
   ]
  },
  {
   "cell_type": "code",
   "execution_count": 33,
   "metadata": {},
   "outputs": [],
   "source": [
    "#conda install xlrd"
   ]
  },
  {
   "cell_type": "markdown",
   "metadata": {},
   "source": [
    "After the package has been installed, pandas is able to read the Excel files version >= 2.0"
   ]
  },
  {
   "cell_type": "code",
   "execution_count": 34,
   "metadata": {
    "scrolled": true
   },
   "outputs": [],
   "source": [
    "df=pd.read_excel('data/2018_all_indicators.xlsx')"
   ]
  },
  {
   "cell_type": "markdown",
   "metadata": {},
   "source": [
    "### From other formats"
   ]
  },
  {
   "cell_type": "markdown",
   "metadata": {},
   "source": [
    "Pandas is very versatil in accepting a variety of formats: STATA, SAS, HDF5 files. See <https://pandas.pydata.org/pandas-docs/stable/reference/io.html> for more information on the multiple formats supported."
   ]
  },
  {
   "cell_type": "markdown",
   "metadata": {},
   "source": [
    "## Write DataFrames\n",
    "\n",
    "Pandas also offers the ability to store resulting DataFrames back into several formats. Consider this example:\n",
    "    "
   ]
  },
  {
   "cell_type": "code",
   "execution_count": 154,
   "metadata": {},
   "outputs": [],
   "source": [
    "heart = pd.read_csv('data/heart.csv')"
   ]
  },
  {
   "cell_type": "markdown",
   "metadata": {},
   "source": [
    "Saving the dataframe in those formats execute:"
   ]
  },
  {
   "cell_type": "code",
   "execution_count": 155,
   "metadata": {},
   "outputs": [
    {
     "ename": "NameError",
     "evalue": "name 'sqlite3' is not defined",
     "output_type": "error",
     "traceback": [
      "\u001b[0;31m---------------------------------------------------------------------------\u001b[0m",
      "\u001b[0;31mNameError\u001b[0m                                 Traceback (most recent call last)",
      "\u001b[0;32m<ipython-input-155-31635bc3c2e4>\u001b[0m in \u001b[0;36m<module>\u001b[0;34m\u001b[0m\n\u001b[1;32m      6\u001b[0m \u001b[0mheart\u001b[0m\u001b[0;34m.\u001b[0m\u001b[0mto_json\u001b[0m\u001b[0;34m(\u001b[0m\u001b[0;34m'new_heart.json'\u001b[0m\u001b[0;34m)\u001b[0m\u001b[0;34m\u001b[0m\u001b[0;34m\u001b[0m\u001b[0m\n\u001b[1;32m      7\u001b[0m \u001b[0;34m\u001b[0m\u001b[0m\n\u001b[0;32m----> 8\u001b[0;31m \u001b[0mcon\u001b[0m \u001b[0;34m=\u001b[0m \u001b[0msqlite3\u001b[0m\u001b[0;34m.\u001b[0m\u001b[0mconnect\u001b[0m\u001b[0;34m(\u001b[0m\u001b[0;34m\"new_heart.db\"\u001b[0m\u001b[0;34m)\u001b[0m\u001b[0;34m\u001b[0m\u001b[0;34m\u001b[0m\u001b[0m\n\u001b[0m\u001b[1;32m      9\u001b[0m \u001b[0mheart\u001b[0m\u001b[0;34m.\u001b[0m\u001b[0mto_sql\u001b[0m\u001b[0;34m(\u001b[0m\u001b[0;34m'heart'\u001b[0m\u001b[0;34m,\u001b[0m \u001b[0mcon\u001b[0m\u001b[0;34m)\u001b[0m\u001b[0;34m\u001b[0m\u001b[0;34m\u001b[0m\u001b[0m\n\u001b[1;32m     10\u001b[0m \u001b[0;34m\u001b[0m\u001b[0m\n",
      "\u001b[0;31mNameError\u001b[0m: name 'sqlite3' is not defined"
     ]
    }
   ],
   "source": [
    "if os.path.isfile(\"new_heart.db\"):\n",
    "    os.remove(\"new_heart.db\")\n",
    "\n",
    "heart.to_csv('new_heart.csv')\n",
    "\n",
    "heart.to_json('new_heart.json')\n",
    "\n",
    "con = sqlite3.connect(\"new_heart.db\")\n",
    "heart.to_sql('heart', con)\n",
    "\n",
    "os.remove(\"new_heart.csv\")\n",
    "os.remove(\"new_heart.json\")\n",
    "os.remove(\"new_heart.db\")"
   ]
  },
  {
   "cell_type": "markdown",
   "metadata": {},
   "source": [
    "## View the data"
   ]
  },
  {
   "cell_type": "markdown",
   "metadata": {},
   "source": [
    "We already saw how to use **tail** and **head** to get a glipmse into the initial and final rows. The default is 5 rows, but the value can be modified."
   ]
  },
  {
   "cell_type": "code",
   "execution_count": 156,
   "metadata": {},
   "outputs": [
    {
     "data": {
      "text/html": [
       "<div>\n",
       "<style scoped>\n",
       "    .dataframe tbody tr th:only-of-type {\n",
       "        vertical-align: middle;\n",
       "    }\n",
       "\n",
       "    .dataframe tbody tr th {\n",
       "        vertical-align: top;\n",
       "    }\n",
       "\n",
       "    .dataframe thead th {\n",
       "        text-align: right;\n",
       "    }\n",
       "</style>\n",
       "<table border=\"1\" class=\"dataframe\">\n",
       "  <thead>\n",
       "    <tr style=\"text-align: right;\">\n",
       "      <th></th>\n",
       "      <th>age</th>\n",
       "      <th>sex</th>\n",
       "      <th>cp</th>\n",
       "      <th>trestbps</th>\n",
       "      <th>chol</th>\n",
       "      <th>fbs</th>\n",
       "      <th>restecg</th>\n",
       "      <th>thalach</th>\n",
       "      <th>exang</th>\n",
       "      <th>oldpeak</th>\n",
       "      <th>slope</th>\n",
       "      <th>ca</th>\n",
       "      <th>thal</th>\n",
       "      <th>target</th>\n",
       "    </tr>\n",
       "  </thead>\n",
       "  <tbody>\n",
       "    <tr>\n",
       "      <th>0</th>\n",
       "      <td>63</td>\n",
       "      <td>1</td>\n",
       "      <td>3</td>\n",
       "      <td>145</td>\n",
       "      <td>233</td>\n",
       "      <td>1</td>\n",
       "      <td>0</td>\n",
       "      <td>150</td>\n",
       "      <td>0</td>\n",
       "      <td>2.3</td>\n",
       "      <td>0</td>\n",
       "      <td>0</td>\n",
       "      <td>1</td>\n",
       "      <td>1</td>\n",
       "    </tr>\n",
       "    <tr>\n",
       "      <th>1</th>\n",
       "      <td>37</td>\n",
       "      <td>1</td>\n",
       "      <td>2</td>\n",
       "      <td>130</td>\n",
       "      <td>250</td>\n",
       "      <td>0</td>\n",
       "      <td>1</td>\n",
       "      <td>187</td>\n",
       "      <td>0</td>\n",
       "      <td>3.5</td>\n",
       "      <td>0</td>\n",
       "      <td>0</td>\n",
       "      <td>2</td>\n",
       "      <td>1</td>\n",
       "    </tr>\n",
       "    <tr>\n",
       "      <th>2</th>\n",
       "      <td>41</td>\n",
       "      <td>0</td>\n",
       "      <td>1</td>\n",
       "      <td>130</td>\n",
       "      <td>204</td>\n",
       "      <td>0</td>\n",
       "      <td>0</td>\n",
       "      <td>172</td>\n",
       "      <td>0</td>\n",
       "      <td>1.4</td>\n",
       "      <td>2</td>\n",
       "      <td>0</td>\n",
       "      <td>2</td>\n",
       "      <td>1</td>\n",
       "    </tr>\n",
       "  </tbody>\n",
       "</table>\n",
       "</div>"
      ],
      "text/plain": [
       "   age  sex  cp  trestbps  chol  fbs  restecg  thalach  exang  oldpeak  slope  \\\n",
       "0   63    1   3       145   233    1        0      150      0      2.3      0   \n",
       "1   37    1   2       130   250    0        1      187      0      3.5      0   \n",
       "2   41    0   1       130   204    0        0      172      0      1.4      2   \n",
       "\n",
       "   ca  thal  target  \n",
       "0   0     1       1  \n",
       "1   0     2       1  \n",
       "2   0     2       1  "
      ]
     },
     "execution_count": 156,
     "metadata": {},
     "output_type": "execute_result"
    }
   ],
   "source": [
    "heart.head(3)"
   ]
  },
  {
   "cell_type": "code",
   "execution_count": 157,
   "metadata": {},
   "outputs": [
    {
     "data": {
      "text/html": [
       "<div>\n",
       "<style scoped>\n",
       "    .dataframe tbody tr th:only-of-type {\n",
       "        vertical-align: middle;\n",
       "    }\n",
       "\n",
       "    .dataframe tbody tr th {\n",
       "        vertical-align: top;\n",
       "    }\n",
       "\n",
       "    .dataframe thead th {\n",
       "        text-align: right;\n",
       "    }\n",
       "</style>\n",
       "<table border=\"1\" class=\"dataframe\">\n",
       "  <thead>\n",
       "    <tr style=\"text-align: right;\">\n",
       "      <th></th>\n",
       "      <th>age</th>\n",
       "      <th>sex</th>\n",
       "      <th>cp</th>\n",
       "      <th>trestbps</th>\n",
       "      <th>chol</th>\n",
       "      <th>fbs</th>\n",
       "      <th>restecg</th>\n",
       "      <th>thalach</th>\n",
       "      <th>exang</th>\n",
       "      <th>oldpeak</th>\n",
       "      <th>slope</th>\n",
       "      <th>ca</th>\n",
       "      <th>thal</th>\n",
       "      <th>target</th>\n",
       "    </tr>\n",
       "  </thead>\n",
       "  <tbody>\n",
       "    <tr>\n",
       "      <th>300</th>\n",
       "      <td>68</td>\n",
       "      <td>1</td>\n",
       "      <td>0</td>\n",
       "      <td>144</td>\n",
       "      <td>193</td>\n",
       "      <td>1</td>\n",
       "      <td>1</td>\n",
       "      <td>141</td>\n",
       "      <td>0</td>\n",
       "      <td>3.4</td>\n",
       "      <td>1</td>\n",
       "      <td>2</td>\n",
       "      <td>3</td>\n",
       "      <td>0</td>\n",
       "    </tr>\n",
       "    <tr>\n",
       "      <th>301</th>\n",
       "      <td>57</td>\n",
       "      <td>1</td>\n",
       "      <td>0</td>\n",
       "      <td>130</td>\n",
       "      <td>131</td>\n",
       "      <td>0</td>\n",
       "      <td>1</td>\n",
       "      <td>115</td>\n",
       "      <td>1</td>\n",
       "      <td>1.2</td>\n",
       "      <td>1</td>\n",
       "      <td>1</td>\n",
       "      <td>3</td>\n",
       "      <td>0</td>\n",
       "    </tr>\n",
       "    <tr>\n",
       "      <th>302</th>\n",
       "      <td>57</td>\n",
       "      <td>0</td>\n",
       "      <td>1</td>\n",
       "      <td>130</td>\n",
       "      <td>236</td>\n",
       "      <td>0</td>\n",
       "      <td>0</td>\n",
       "      <td>174</td>\n",
       "      <td>0</td>\n",
       "      <td>0.0</td>\n",
       "      <td>1</td>\n",
       "      <td>1</td>\n",
       "      <td>2</td>\n",
       "      <td>0</td>\n",
       "    </tr>\n",
       "  </tbody>\n",
       "</table>\n",
       "</div>"
      ],
      "text/plain": [
       "     age  sex  cp  trestbps  chol  fbs  restecg  thalach  exang  oldpeak  \\\n",
       "300   68    1   0       144   193    1        1      141      0      3.4   \n",
       "301   57    1   0       130   131    0        1      115      1      1.2   \n",
       "302   57    0   1       130   236    0        0      174      0      0.0   \n",
       "\n",
       "     slope  ca  thal  target  \n",
       "300      1   2     3       0  \n",
       "301      1   1     3       0  \n",
       "302      1   1     2       0  "
      ]
     },
     "execution_count": 157,
     "metadata": {},
     "output_type": "execute_result"
    }
   ],
   "source": [
    "heart.tail(3)"
   ]
  },
  {
   "cell_type": "markdown",
   "metadata": {},
   "source": [
    "Another method is **info** to see the columns and the type of values stored on them. In general Pandas tries to associate an numerical value when possible. However, it will revert into datatype **object** when mixed values are found."
   ]
  },
  {
   "cell_type": "code",
   "execution_count": 158,
   "metadata": {},
   "outputs": [
    {
     "name": "stdout",
     "output_type": "stream",
     "text": [
      "<class 'pandas.core.frame.DataFrame'>\n",
      "RangeIndex: 303 entries, 0 to 302\n",
      "Data columns (total 14 columns):\n",
      " #   Column    Non-Null Count  Dtype  \n",
      "---  ------    --------------  -----  \n",
      " 0   age       303 non-null    int64  \n",
      " 1   sex       303 non-null    int64  \n",
      " 2   cp        303 non-null    int64  \n",
      " 3   trestbps  303 non-null    int64  \n",
      " 4   chol      303 non-null    int64  \n",
      " 5   fbs       303 non-null    int64  \n",
      " 6   restecg   303 non-null    int64  \n",
      " 7   thalach   303 non-null    int64  \n",
      " 8   exang     303 non-null    int64  \n",
      " 9   oldpeak   303 non-null    float64\n",
      " 10  slope     303 non-null    int64  \n",
      " 11  ca        303 non-null    int64  \n",
      " 12  thal      303 non-null    int64  \n",
      " 13  target    303 non-null    int64  \n",
      "dtypes: float64(1), int64(13)\n",
      "memory usage: 33.3 KB\n"
     ]
    }
   ],
   "source": [
    "heart.info()"
   ]
  },
  {
   "cell_type": "markdown",
   "metadata": {},
   "source": [
    "In this particular case the table is rather clean, with all columns populated. It is often the case where some columns have missing data, we will deal with them in another example."
   ]
  },
  {
   "cell_type": "markdown",
   "metadata": {},
   "source": [
    "Another way to query the database and mask some of the results can be by using boolean operations. Let see some examples"
   ]
  },
  {
   "cell_type": "code",
   "execution_count": 145,
   "metadata": {},
   "outputs": [
    {
     "name": "stdout",
     "output_type": "stream",
     "text": [
      "    age  sex   cp  trestbps   chol  fbs  restecg  thalach  exang  oldpeak  \\\n",
      "0  63.0  1.0  3.0     145.0  233.0  1.0      0.0    150.0    0.0      2.3   \n",
      "1   NaN  NaN  NaN       NaN    NaN  NaN      NaN      NaN    NaN      NaN   \n",
      "2   NaN  NaN  NaN       NaN    NaN  NaN      NaN      NaN    NaN      NaN   \n",
      "3  56.0  1.0  1.0     120.0  236.0  0.0      1.0    178.0    0.0      0.8   \n",
      "4  57.0  0.0  0.0     120.0  354.0  0.0      1.0    163.0    1.0      0.6   \n",
      "\n",
      "   slope   ca  thal  target  \n",
      "0    0.0  0.0   1.0     1.0  \n",
      "1    NaN  NaN   NaN     NaN  \n",
      "2    NaN  NaN   NaN     NaN  \n",
      "3    2.0  0.0   2.0     1.0  \n",
      "4    2.0  0.0   2.0     1.0  \n",
      "Values with NoNaNs in only50  208  and in the whole database 303\n",
      "    age  sex   cp  trestbps   chol  fbs  restecg  thalach  exang  oldpeak  \\\n",
      "0  63.0  1.0  3.0     145.0  233.0  1.0      0.0    150.0    0.0      2.3   \n",
      "3  56.0  1.0  1.0     120.0  236.0  0.0      1.0    178.0    0.0      0.8   \n",
      "4  57.0  0.0  0.0     120.0  354.0  0.0      1.0    163.0    1.0      0.6   \n",
      "5  57.0  1.0  0.0     140.0  192.0  0.0      1.0    148.0    0.0      0.4   \n",
      "6  56.0  0.0  1.0     140.0  294.0  0.0      0.0    153.0    0.0      1.3   \n",
      "\n",
      "   slope   ca  thal  target  \n",
      "0    0.0  0.0   1.0     1.0  \n",
      "3    2.0  0.0   2.0     1.0  \n",
      "4    2.0  0.0   2.0     1.0  \n",
      "5    1.0  0.0   1.0     1.0  \n",
      "6    1.0  0.0   2.0     1.0  \n"
     ]
    }
   ],
   "source": [
    "# here we select all people with heart conditions and older than 50\n",
    "#print(heart.isna)\n",
    "only50 = heart.where(heart['age'] > 50)\n",
    "print(only50.head())\n",
    "#only people that has the condition has values, the other has NaN as entries\n",
    "#NaN are not really counted or used in statistics analysis of the dataframe. \n",
    "count1=only50['age'].count()\n",
    "count2=heart['age'].count()\n",
    "print('Values with NoNaNs in only50 ',count1,' and in the whole database', count2)\n",
    "only50real=only50.dropna()\n",
    "print(only50real.head())\n",
    "# we can delete all rows with NaN as\n"
   ]
  },
  {
   "cell_type": "code",
   "execution_count": 148,
   "metadata": {},
   "outputs": [
    {
     "name": "stdout",
     "output_type": "stream",
     "text": [
      "   age  sex  cp  trestbps  chol  fbs  restecg  thalach  exang  oldpeak  slope  \\\n",
      "0   63    1   3       145   233    1        0      150      0      2.3      0   \n",
      "3   56    1   1       120   236    0        1      178      0      0.8      2   \n",
      "4   57    0   0       120   354    0        1      163      1      0.6      2   \n",
      "5   57    1   0       140   192    0        1      148      0      0.4      1   \n",
      "6   56    0   1       140   294    0        0      153      0      1.3      1   \n",
      "\n",
      "   ca  thal  target  \n",
      "0   0     1       1  \n",
      "3   0     2       1  \n",
      "4   0     2       1  \n",
      "5   0     1       1  \n",
      "6   0     2       1  \n"
     ]
    }
   ],
   "source": [
    "# we can avoid all this problem is we use\n",
    "only50 = heart[heart['age']>50]\n",
    "print(only50.head())\n",
    "# but now we can do it more complex, for example people older than 50 with cholesterol larger than 150\n",
    "only50 = heart[(heart['age']>50) & (heart['chol'] > 150)]"
   ]
  },
  {
   "cell_type": "code",
   "execution_count": 159,
   "metadata": {},
   "outputs": [
    {
     "name": "stdout",
     "output_type": "stream",
     "text": [
      "     sex  cp  trestbps  chol  fbs  restecg  thalach  exang  oldpeak  slope  \\\n",
      "age                                                                          \n",
      "63     1   3       145   233    1        0      150      0      2.3      0   \n",
      "37     1   2       130   250    0        1      187      0      3.5      0   \n",
      "41     0   1       130   204    0        0      172      0      1.4      2   \n",
      "56     1   1       120   236    0        1      178      0      0.8      2   \n",
      "57     0   0       120   354    0        1      163      1      0.6      2   \n",
      "\n",
      "     ca  thal  target  \n",
      "age                    \n",
      "63    0     1       1  \n",
      "37    0     2       1  \n",
      "41    0     2       1  \n",
      "56    0     2       1  \n",
      "57    0     2       1  \n",
      "   age  sex  cp  trestbps  chol  fbs  restecg  thalach  exang  oldpeak  slope  \\\n",
      "0   63    1   3       145   233    1        0      150      0      2.3      0   \n",
      "1   37    1   2       130   250    0        1      187      0      3.5      0   \n",
      "2   41    0   1       130   204    0        0      172      0      1.4      2   \n",
      "3   56    1   1       120   236    0        1      178      0      0.8      2   \n",
      "4   57    0   0       120   354    0        1      163      1      0.6      2   \n",
      "\n",
      "   ca  thal  target  \n",
      "0   0     1       1  \n",
      "1   0     2       1  \n",
      "2   0     2       1  \n",
      "3   0     2       1  \n",
      "4   0     2       1  \n"
     ]
    }
   ],
   "source": [
    "#we can also order things promoting a column to be the index\n",
    "heart1=heart.set_index('age')\n",
    "print(heart1.head())\n",
    "# we can also come back to the original index and moving the existing index to a new column\n",
    "heart1=heart1.reset_index()\n",
    "print(heart1.head())\n",
    "# for binary we can alw"
   ]
  },
  {
   "cell_type": "code",
   "execution_count": 172,
   "metadata": {},
   "outputs": [
    {
     "name": "stdout",
     "output_type": "stream",
     "text": [
      "         Date    Class  Value\n",
      "0  2020-05-01  class 1      1\n",
      "1  2020-05-01  class 2      2\n",
      "2  2020-05-02  class 1      3\n",
      "3  2020-05-03  class 1      4\n",
      "4  2020-05-03  class 2      5\n"
     ]
    }
   ],
   "source": [
    "# There is a cool idea in Pandas which is hierarquical indexes.. for example \n",
    "case1 = pd.Series({'Date': '2020-05-01','Class': 'class 1','Value': 1})\n",
    "case2 = pd.Series({'Date': '2020-05-01','Class': 'class 2','Value': 2})\n",
    "case3 = pd.Series({'Date': '2020-05-02','Class': 'class 1','Value': 3})\n",
    "case4 = pd.Series({'Date': '2020-05-03','Class': 'class 1','Value': 4})\n",
    "case5 = pd.Series({'Date': '2020-05-03','Class': 'class 2','Value': 5})\n",
    "case6 = pd.Series({'Date': '2020-05-04','Class': 'class 1','Value': 6})\n",
    "\n",
    "\n",
    "df=pd.DataFrame([case1,case2,case3,case4,case5,case6])\n",
    "print(df.head())\n"
   ]
  },
  {
   "cell_type": "code",
   "execution_count": 173,
   "metadata": {},
   "outputs": [
    {
     "name": "stdout",
     "output_type": "stream",
     "text": [
      "                    Value\n",
      "Date       Class         \n",
      "2020-05-01 class 1      1\n",
      "           class 2      2\n",
      "2020-05-02 class 1      3\n",
      "2020-05-03 class 1      4\n",
      "           class 2      5\n"
     ]
    }
   ],
   "source": [
    "df = df.set_index(['Date', 'Class'])\n",
    "print(df.head())\n",
    "\n"
   ]
  },
  {
   "cell_type": "markdown",
   "metadata": {},
   "source": [
    "## Checking and removing duplicates"
   ]
  },
  {
   "cell_type": "markdown",
   "metadata": {},
   "source": [
    "Another important check to perform on DataFrames is search for duplicated rows. Lets continue using the 'hearth' dataFrame and search duplicated rows."
   ]
  },
  {
   "cell_type": "code",
   "execution_count": 40,
   "metadata": {},
   "outputs": [
    {
     "data": {
      "text/plain": [
       "0      False\n",
       "1      False\n",
       "2      False\n",
       "3      False\n",
       "4      False\n",
       "5      False\n",
       "6      False\n",
       "7      False\n",
       "8      False\n",
       "9      False\n",
       "10     False\n",
       "11     False\n",
       "12     False\n",
       "13     False\n",
       "14     False\n",
       "15     False\n",
       "16     False\n",
       "17     False\n",
       "18     False\n",
       "19     False\n",
       "20     False\n",
       "21     False\n",
       "22     False\n",
       "23     False\n",
       "24     False\n",
       "25     False\n",
       "26     False\n",
       "27     False\n",
       "28     False\n",
       "29     False\n",
       "       ...  \n",
       "273    False\n",
       "274    False\n",
       "275    False\n",
       "276    False\n",
       "277    False\n",
       "278    False\n",
       "279    False\n",
       "280    False\n",
       "281    False\n",
       "282    False\n",
       "283    False\n",
       "284    False\n",
       "285    False\n",
       "286    False\n",
       "287    False\n",
       "288    False\n",
       "289    False\n",
       "290    False\n",
       "291    False\n",
       "292    False\n",
       "293    False\n",
       "294    False\n",
       "295    False\n",
       "296    False\n",
       "297    False\n",
       "298    False\n",
       "299    False\n",
       "300    False\n",
       "301    False\n",
       "302    False\n",
       "Length: 303, dtype: bool"
      ]
     },
     "execution_count": 40,
     "metadata": {},
     "output_type": "execute_result"
    }
   ],
   "source": [
    "heart.duplicated()"
   ]
  },
  {
   "cell_type": "markdown",
   "metadata": {},
   "source": [
    "The answer is a pandas series indicating if the row is duplicated or not. Lets see the duplicates:"
   ]
  },
  {
   "cell_type": "code",
   "execution_count": 41,
   "metadata": {},
   "outputs": [
    {
     "data": {
      "text/html": [
       "<div>\n",
       "<style scoped>\n",
       "    .dataframe tbody tr th:only-of-type {\n",
       "        vertical-align: middle;\n",
       "    }\n",
       "\n",
       "    .dataframe tbody tr th {\n",
       "        vertical-align: top;\n",
       "    }\n",
       "\n",
       "    .dataframe thead th {\n",
       "        text-align: right;\n",
       "    }\n",
       "</style>\n",
       "<table border=\"1\" class=\"dataframe\">\n",
       "  <thead>\n",
       "    <tr style=\"text-align: right;\">\n",
       "      <th></th>\n",
       "      <th>age</th>\n",
       "      <th>sex</th>\n",
       "      <th>cp</th>\n",
       "      <th>trestbps</th>\n",
       "      <th>chol</th>\n",
       "      <th>fbs</th>\n",
       "      <th>restecg</th>\n",
       "      <th>thalach</th>\n",
       "      <th>exang</th>\n",
       "      <th>oldpeak</th>\n",
       "      <th>slope</th>\n",
       "      <th>ca</th>\n",
       "      <th>thal</th>\n",
       "      <th>target</th>\n",
       "    </tr>\n",
       "  </thead>\n",
       "  <tbody>\n",
       "    <tr>\n",
       "      <th>163</th>\n",
       "      <td>38</td>\n",
       "      <td>1</td>\n",
       "      <td>2</td>\n",
       "      <td>138</td>\n",
       "      <td>175</td>\n",
       "      <td>0</td>\n",
       "      <td>1</td>\n",
       "      <td>173</td>\n",
       "      <td>0</td>\n",
       "      <td>0.0</td>\n",
       "      <td>2</td>\n",
       "      <td>4</td>\n",
       "      <td>2</td>\n",
       "      <td>1</td>\n",
       "    </tr>\n",
       "    <tr>\n",
       "      <th>164</th>\n",
       "      <td>38</td>\n",
       "      <td>1</td>\n",
       "      <td>2</td>\n",
       "      <td>138</td>\n",
       "      <td>175</td>\n",
       "      <td>0</td>\n",
       "      <td>1</td>\n",
       "      <td>173</td>\n",
       "      <td>0</td>\n",
       "      <td>0.0</td>\n",
       "      <td>2</td>\n",
       "      <td>4</td>\n",
       "      <td>2</td>\n",
       "      <td>1</td>\n",
       "    </tr>\n",
       "  </tbody>\n",
       "</table>\n",
       "</div>"
      ],
      "text/plain": [
       "     age  sex  cp  trestbps  chol  fbs  restecg  thalach  exang  oldpeak  \\\n",
       "163   38    1   2       138   175    0        1      173      0      0.0   \n",
       "164   38    1   2       138   175    0        1      173      0      0.0   \n",
       "\n",
       "     slope  ca  thal  target  \n",
       "163      2   4     2       1  \n",
       "164      2   4     2       1  "
      ]
     },
     "execution_count": 41,
     "metadata": {},
     "output_type": "execute_result"
    }
   ],
   "source": [
    "heart[heart.duplicated(keep=False)]"
   ]
  },
  {
   "cell_type": "markdown",
   "metadata": {},
   "source": [
    "Two contiguous rows are identical. Most likely a human mistake entering the values. We can create a new DataFrame with one of those rows removed"
   ]
  },
  {
   "cell_type": "code",
   "execution_count": 42,
   "metadata": {},
   "outputs": [
    {
     "data": {
      "text/plain": [
       "(302, 14)"
      ]
     },
     "execution_count": 42,
     "metadata": {},
     "output_type": "execute_result"
    }
   ],
   "source": [
    "heart_nodup = heart.drop_duplicates()\n",
    "\n",
    "heart_nodup.shape"
   ]
  },
  {
   "cell_type": "markdown",
   "metadata": {},
   "source": [
    "Compare with the original DataFrame:"
   ]
  },
  {
   "cell_type": "code",
   "execution_count": 43,
   "metadata": {},
   "outputs": [
    {
     "data": {
      "text/plain": [
       "(303, 14)"
      ]
     },
     "execution_count": 43,
     "metadata": {},
     "output_type": "execute_result"
    }
   ],
   "source": [
    "heart.shape"
   ]
  },
  {
   "cell_type": "markdown",
   "metadata": {},
   "source": [
    "## Dataset Merging"
   ]
  },
  {
   "cell_type": "code",
   "execution_count": 174,
   "metadata": {},
   "outputs": [
    {
     "name": "stdout",
     "output_type": "stream",
     "text": [
      "         Date    Class  Value\n",
      "0  2020-05-01  class 1      1\n",
      "1  2020-05-01  class 2      2\n",
      "2  2020-05-02  class 1      3\n",
      "3  2020-05-03  class 1      4\n",
      "4  2020-05-03  class 2      5\n"
     ]
    }
   ],
   "source": [
    "# There is a cool idea in Pandas which is hierarquical indexes.. for example \n",
    "case1 = pd.Series({'Date': '2020-05-01','Class': 'class 1','Value': 1})\n",
    "case2 = pd.Series({'Date': '2020-05-01','Class': 'class 2','Value': 2})\n",
    "case3 = pd.Series({'Date': '2020-05-02','Class': 'class 1','Value': 3})\n",
    "case4 = pd.Series({'Date': '2020-05-03','Class': 'class 1','Value': 4})\n",
    "case5 = pd.Series({'Date': '2020-05-03','Class': 'class 2','Value': 5})\n",
    "case6 = pd.Series({'Date': '2020-05-04','Class': 'class 1','Value': 6})\n",
    "\n",
    "\n",
    "df=pd.DataFrame([case1,case2,case3,case4,case5,case6])\n",
    "print(df.head())"
   ]
  },
  {
   "cell_type": "code",
   "execution_count": 176,
   "metadata": {},
   "outputs": [
    {
     "name": "stdout",
     "output_type": "stream",
     "text": [
      "         Date    Class  Value    Book\n",
      "0  2020-05-01  class 1      1  book 1\n",
      "1  2020-05-01  class 2      2  book 2\n",
      "2  2020-05-02  class 1      3  book 3\n",
      "3  2020-05-03  class 1      4  book 4\n",
      "4  2020-05-03  class 2      5  book 5\n"
     ]
    }
   ],
   "source": [
    "df['Book']=['book 1','book 2','book 3','book 4','book 5','book 6']\n",
    "print(df.head())"
   ]
  },
  {
   "cell_type": "code",
   "execution_count": 179,
   "metadata": {},
   "outputs": [
    {
     "name": "stdout",
     "output_type": "stream",
     "text": [
      "   index        Date    Class  Value    Book    New Book\n",
      "0      0  2020-05-01  class 1      1  book 1         NaN\n",
      "1      1  2020-05-01  class 2      2  book 2  New Book 1\n",
      "2      2  2020-05-02  class 1      3  book 3         NaN\n",
      "3      3  2020-05-03  class 1      4  book 4         NaN\n",
      "4      4  2020-05-03  class 2      5  book 5  New Book 4\n"
     ]
    }
   ],
   "source": [
    "# A different method use index as the criteria\n",
    "newdf=df.reset_index()\n",
    "newdf['New Book']=pd.Series({1:'New Book 1',4:'New Book 4'})\n",
    "print(newdf.head())"
   ]
  },
  {
   "cell_type": "code",
   "execution_count": null,
   "metadata": {},
   "outputs": [],
   "source": [
    "# Let see how Merge works\n"
   ]
  },
  {
   "cell_type": "markdown",
   "metadata": {},
   "source": [
    "## Plotting"
   ]
  },
  {
   "cell_type": "code",
   "execution_count": 44,
   "metadata": {},
   "outputs": [
    {
     "data": {
      "image/png": "[encoded data removed]",
      "text/plain": [
       "<Figure size 432x288 with 1 Axes>"
      ]
     },
     "metadata": {
      "needs_background": "light"
     },
     "output_type": "display_data"
    }
   ],
   "source": [
    "%matplotlib inline\n",
    "heart['age'].plot.hist(bins=20);"
   ]
  },
  {
   "cell_type": "code",
   "execution_count": 45,
   "metadata": {},
   "outputs": [],
   "source": [
    "import seaborn as sns"
   ]
  },
  {
   "cell_type": "code",
   "execution_count": 46,
   "metadata": {},
   "outputs": [],
   "source": [
    "h4=heart[['age', 'trestbps', 'chol', 'thalach']]\n",
    "goal=[ 'no heart disease' if x==1 else 'heart disease' for x in heart['target'] ]\n",
    "h5=h4.join(pd.DataFrame(goal, columns=['goal']))"
   ]
  },
  {
   "cell_type": "code",
   "execution_count": 47,
   "metadata": {},
   "outputs": [
    {
     "data": {
      "image/png": "[encoded data removed]",
      "text/plain": [
       "<Figure size 839.375x720 with 20 Axes>"
      ]
     },
     "metadata": {
      "needs_background": "light"
     },
     "output_type": "display_data"
    }
   ],
   "source": [
    "import matplotlib.pyplot as plt\n",
    "\n",
    "g = sns.PairGrid(h5, hue=\"goal\")\n",
    "g.map_diag(plt.hist)\n",
    "g.map_offdiag(plt.scatter)\n",
    "g.add_legend();"
   ]
  }
 ],
 "metadata": {
  "kernelspec": {
   "display_name": "Python 3",
   "language": "python",
   "name": "python3"
  },
  "language_info": {
   "codemirror_mode": {
    "name": "ipython",
    "version": 3
   },
   "file_extension": ".py",
   "mimetype": "text/x-python",
   "name": "python",
   "nbconvert_exporter": "python",
   "pygments_lexer": "ipython3",
   "version": "3.7.7"
  }
 },
 "nbformat": 4,
 "nbformat_minor": 2
}
