{
 "cells": [
  {
   "cell_type": "markdown",
   "metadata": {},
   "source": [
    " <div style=\"clear: both; display: table;\">\n",
    "  <div style=\"border: none; float: left; width: 60%; padding: 5px\">\n",
    "  <h1 id=\"subtitle\">Chapter 1</h1>\n",
    "  <h2 id=\"subtitle\">Guillermo Avendaño Franco<br>Aldo Humberto Romero</h2>\n",
    "  <br>\n",
    "  <img src=\"fig/logotype124-295.tif\" alt=\"Scientific Computing with Python\" style=\"width:50%\" align=\"left\">\n",
    "  </div>\n",
    "  <div style=\"border: none; float: left; width: 30%; padding: 5px\">\n",
    "  <img src=\"fig/SCPython.png\" alt=\"Scientific Computing with Python\" style=\"width:100%\">\n",
    "  </div>\n",
    "</div>\n",
    "\n",
    "Adapted by **Guillermo Avendaño** (WVU), **Jose Rogan** (Universidad de Chile) and **Aldo Humberto Romero** (WVU) from the [Tutorials for Stanford cs228 and cs231n](https://github.com/kuleshov/cs228-material). A large parte of the info was also built from scratch. In turn, that material was adapted by [Volodymyr Kuleshov](http://web.stanford.edu/~kuleshov/) and [Isaac Caswell](https://symsys.stanford.edu/viewing/symsysaffiliate/21335) from the `CS231n` Python tutorial by Justin Johnson (http://cs231n.github.io/python-numpy-tutorial/). Another good resource, in particular if you want to just look for answer to specific question is [planetpython.org](http:planetpython.org), in particular for data science.\n",
    "\n",
    "Changes to the original tutorial include strict Python 3 formats and split of the material to fit a series of lessons on Python Programming for WVU's faculty and graduate students. **This is much deeper to what you have in the Chapter 1 of your book.**\n",
    "\n",
    "The support of the National Science Foundation and the US Department of Energy under projects: **DMREF-NSF 1434897**, **NSF OAC-1740111** and **DOE DE-SC0016176** is recognized.\n",
    "\n",
    "\n",
    "<div style=\"clear: both; display: table;\">\n",
    "<div style=\"border: none; float: left; width: 40%; padding: 10px\">\n",
    "<img src=\"fig/NSF.jpg\" alt=\"National Science Foundation\" style=\"width:50%\" align=\"left\">\n",
    "    </div>\n",
    "    <div style=\"border: none; float: right; width: 40%; padding: 10px\">\n",
    "<img src=\"fig/DOE.jpg\" alt=\"National Science Foundation\" style=\"width:50%\" align=\"right\">\n",
    "</div>"
   ]
  },
  {
   "cell_type": "markdown",
   "metadata": {},
   "source": [
    "In what follows, we have only a summarized version of this notebook, if you want the full version, you can copy the whole set of introductory notebooks as\n",
    "\n",
    "```\n",
    "git clone https://github.com/romerogroup/intro_python\n",
    "```"
   ]
  },
  {
   "cell_type": "markdown",
   "metadata": {},
   "source": [
    "## Setup"
   ]
  },
  {
   "cell_type": "code",
   "execution_count": 1,
   "metadata": {},
   "outputs": [],
   "source": [
    "%load_ext watermark"
   ]
  },
  {
   "cell_type": "code",
   "execution_count": 2,
   "metadata": {
    "scrolled": false
   },
   "outputs": [
    {
     "name": "stdout",
     "output_type": "stream",
     "text": [
      "2020-08-23T17:47:26-04:00\n",
      "\n",
      "CPython 3.7.7\n",
      "IPython 7.13.0\n",
      "\n",
      "compiler   : Clang 4.0.1 (tags/RELEASE_401/final)\n",
      "system     : Darwin\n",
      "release    : 19.6.0\n",
      "machine    : x86_64\n",
      "processor  : i386\n",
      "CPU cores  : 8\n",
      "interpreter: 64bit\n"
     ]
    }
   ],
   "source": [
    "%watermark"
   ]
  },
  {
   "cell_type": "markdown",
   "metadata": {},
   "source": [
    "Some code boxes uses `input` function. To test the entire notebook without asking for entries, the input function can be disable setting the variable below to False"
   ]
  },
  {
   "cell_type": "code",
   "execution_count": 3,
   "metadata": {},
   "outputs": [],
   "source": [
    "use_input=False"
   ]
  },
  {
   "cell_type": "markdown",
   "metadata": {},
   "source": [
    "# Introduction"
   ]
  },
  {
   "cell_type": "markdown",
   "metadata": {},
   "source": [
    " <div style=\"clear: both; display: table;\">\n",
    " <div style=\"border: none; float: left; width: 60%; padding: 5px\">\n",
    "\n",
    "[Python](http://www.python.org/) is a multiparadigm, general-purpose, interpreted, high-level programming language. \n",
    "\n",
    "Python is **multiparadigm** because it supports multiple programming paradigms, including procedural, object-oriented, and functional programming. \n",
    "\n",
    "Python is dynamically typed and garbage-collected and due to its comprehensive standard library, Python is a **general purpose** language often described as a having the \"batteries included\"\n",
    "\n",
    "Python is an **interpreted** language, which precludes the need to compile code before executing a program because Python does the compilation in the background. \n",
    "\n",
    "Because Python is a **high-level programming language**, it abstracts many sophisticated details from the programming code. Python focuses so much on this abstraction that its code can be understood by most novice programmers.\n",
    "\n",
    "Python was conceived in the late 1980s by [Guido van Rossum](https://en.wikipedia.org/wiki/Guido_van_Rossum) at Centrum Wiskunde \\& Informatica (CWI) in the Netherlands as a successor to the ABC language (itself inspired by SETL), capable of exception handling and interfacing with the Amoeba operating system. Its implementation began in December 1989. Van Rossum continued as Python's lead developer until July 12, 2018, when he announced his \"permanent vacation\" from his responsibilities as Python's **Benevolent Dictator For Life (BDFL)**, a title the Python community bestowed upon him to reflect his long-term commitment as the project's chief decision-maker. In January, 2019, active Python core developers elected Brett Cannon, Nick Coghlan, Barry Warsaw, Carol Willing and Van Rossum to a five-member \"Steering Council\" to lead the project.\n",
    "\n",
    "Guido named his language Python as a tribute to the British comedy group [Monty Python](https://en.wikipedia.org/wiki/Monty_Python) and not a reference to reptiles. However, logos and other media use stylize versions of reptiles in reference to Python.\n",
    "\n",
    "One consequence of the Monty Python original reference, tutorials and examples refer to spam and eggs (from a famous Monty Python sketch) instead of the standard foo and bar.\n",
    "\n",
    "The official language website is\n",
    "[http://www.python.org](http://www.python.org).\n",
    "\n",
    "</div>\n",
    "  <div style=\"border: none; float: left; width: 40%; padding: 5px\">\n",
    "  <img alt=\"Guido van Rossum\" src=\"fig/GvanR.jpg\" />\n",
    "  </div>\n",
    "</div>"
   ]
  },
  {
   "cell_type": "markdown",
   "metadata": {},
   "source": [
    "## Python in bulleted lists\n",
    "\n",
    "### Key characteristics of Python:\n",
    "\n",
    "* **clean and simple language:** (KISS principle) Easy-to-read and intuitive code, minimalistic syntax, scales well with projects.\n",
    "* **expressive language:** Fewer lines of code, fewer bugs, easier to maintain.\n",
    "* **multiparadigm:** Including object-oriented, imperative and functional programming or procedural styles. \n",
    "* **standard library:** Large and comprehensive set of functions that runs consistently where Python runs.\n",
    "\n",
    "### Technical details:\n",
    "\n",
    "* **dynamically typed:** No need to define the type of variables, function arguments or return types.\n",
    "* **automatic memory management:** No need to explicitly allocate and deallocate memory for variables and data arrays (Like _malloc_ in C). \n",
    "* **interpreted:** No need to compile the code. The Python interpreter reads and executes the python code directly. \n",
    "\n",
    "### Advantages\n",
    "\n",
    "* The main advantage is ease of programming, minimizing the time required to develop, debug and maintain the code.\n",
    "* Well designed language that encourage many good programming practices:\n",
    "* Modular and object-oriented programming, good system for packaging and re-use of code. This often results in more transparent, maintainable and bug-free code.\n",
    "* Documentation tightly integrated with the code (Documentation is usually accessed by different means and depending on the interface used, as scripting, notebooks, etc).\n",
    "* A large standard library, and a large collection of add-on packages.\n",
    "\n",
    "### Disadvantages\n",
    "\n",
    "* Since Python is an interpreted and dynamically typed programming language, the execution of python code can be slow compared to compiled statically typed programming languages, such as C and Fortran. \n",
    "* Lacks an standard GUI, there are several.\n",
    "* There are still two versions in use are 2.7.16 and 3.7.4 (July 2019). This could be confusing to new users as code in Python 2.7 is not compatible with Python 3.x due to some scattered but important differences. However, from January 1st 2020 Python 2.x will not longer be supported so you should focus on learning Python 3.x. All these notebooks are compatible only with Python 3.x\n"
   ]
  },
  {
   "cell_type": "markdown",
   "metadata": {},
   "source": [
    "## Optimizing what?"
   ]
  },
  {
   "cell_type": "markdown",
   "metadata": {},
   "source": [
    "Ok, what exactly do you want to optimize? The computer time (time that your code will be running on the machine) or the user time (time you need to write the code) or the time waiting for results to be obtained ?\n",
    "If you devote too much time hard programming in a language like C or Fortran, probably someone else will do it faster, the code could run slower but she/he will get\n",
    "the results sooner, like publish first and will receive a new grant to hire more people for her/his group.\n",
    "\n",
    "Now, what its efficiency?\n",
    "\n"
   ]
  },
  {
   "cell_type": "markdown",
   "metadata": {},
   "source": [
    "<img src=\"fig/optimizing-what.png\" width=\"600\">\n",
    "\n",
    "([from Johansson's Scientific Python Lectures](http://jrjohansson.github.io/) )\n",
    "\n",
    "That is the reason why Python has a strong position in scientific computing.\n",
    "You start getting results very early during development process. \n",
    "With time and effort you can improve performance and getting close to lower level programming languages.\n",
    "\n",
    "From the other hand working with low level languages like C or Fortran you have to write quite an amount of code to start getting the first results."
   ]
  },
  {
   "cell_type": "markdown",
   "metadata": {},
   "source": [
    "## Testing your Python Environment (I)"
   ]
  },
  {
   "cell_type": "markdown",
   "metadata": {},
   "source": [
    "We will now explore a little bit about how things work in python. The purpose of this section is two-fold, give you a quick overview of the kind of things that you can do with Python and allow to test if those things work for you, in particular the external libraries that could still not be present in your system. The most basic thing you can do is use the Python interpreter as a calculator, test for example:"
   ]
  },
  {
   "cell_type": "code",
   "execution_count": 1,
   "metadata": {},
   "outputs": [
    {
     "data": {
      "text/plain": [
       "365"
      ]
     },
     "execution_count": 1,
     "metadata": {},
     "output_type": "execute_result"
    }
   ],
   "source": [
    "31*7 + 30*4 + 28"
   ]
  },
  {
   "cell_type": "markdown",
   "metadata": {},
   "source": [
    "Old calculators use to fail with this:"
   ]
  },
  {
   "cell_type": "code",
   "execution_count": 5,
   "metadata": {},
   "outputs": [
    {
     "data": {
      "text/plain": [
       "11978571669969891796072783721689098736458938142546425857555362864628009582789845319680000000000000000"
      ]
     },
     "execution_count": 5,
     "metadata": {},
     "output_type": "execute_result"
    }
   ],
   "source": [
    "import math\n",
    "math.factorial(70)"
   ]
  },
  {
   "cell_type": "code",
   "execution_count": 6,
   "metadata": {},
   "outputs": [
    {
     "data": {
      "text/plain": [
       "1.1978571669969892e+100"
      ]
     },
     "execution_count": 6,
     "metadata": {},
     "output_type": "execute_result"
    }
   ],
   "source": [
    "float(math.factorial(70))"
   ]
  },
  {
   "cell_type": "markdown",
   "metadata": {},
   "source": [
    "This is called list comprehension, we will discuss them in more detail later on. I search for a very obfuscating case indeed!"
   ]
  },
  {
   "cell_type": "code",
   "execution_count": 7,
   "metadata": {},
   "outputs": [
    {
     "name": "stdout",
     "output_type": "stream",
     "text": [
      "[2, 3, 5, 7, 11, 13, 17, 19, 23, 29, 31, 37, 41, 43, 47, 53, 59, 61, 67, 71, 73, 79, 83, 89, 97]\n"
     ]
    }
   ],
   "source": [
    "n = 100 \n",
    "primes = [prime for prime in range(2, n) if prime not in \n",
    "          [noprimes for i in range(2, int(n**0.5)) for noprimes in \n",
    "           range(i * 2, n, i)]]\n",
    "print(primes)"
   ]
  },
  {
   "cell_type": "markdown",
   "metadata": {},
   "source": [
    "You can know wich version of Python you are using"
   ]
  },
  {
   "cell_type": "code",
   "execution_count": 8,
   "metadata": {},
   "outputs": [
    {
     "name": "stdout",
     "output_type": "stream",
     "text": [
      "3.7.4 (default, Jul 11 2019, 01:08:00) \n",
      "[Clang 10.0.1 (clang-1001.0.46.4)]\n"
     ]
    }
   ],
   "source": [
    "import sys\n",
    "print(sys.version)"
   ]
  },
  {
   "cell_type": "markdown",
   "metadata": {},
   "source": [
    "# Python Syntax I: Variables"
   ]
  },
  {
   "cell_type": "markdown",
   "metadata": {},
   "source": [
    "Let us start with something very simple and then we will focus on different useful packages"
   ]
  },
  {
   "cell_type": "code",
   "execution_count": 9,
   "metadata": {},
   "outputs": [
    {
     "name": "stdout",
     "output_type": "stream",
     "text": [
      "Hello Word\n"
     ]
    }
   ],
   "source": [
    "print(\"Hello Word\")  # Here I am adding a comment on the same line\n",
    "# Comments like these will not do anything"
   ]
  },
  {
   "cell_type": "markdown",
   "metadata": {},
   "source": [
    "## Variable types, names and reserved words"
   ]
  },
  {
   "cell_type": "raw",
   "metadata": {},
   "source": [
    "var=8                # Integer     \n",
    "k=23434235234L       # Long integer\n",
    "pi=3.14              # float\n",
    "z=1.5+0.5j           # Complex\n",
    "hi=\"Hellow world\"    # String\n",
    "truth=True           # Boolean\n",
    "\n",
    "# Assignation to an operation\n",
    "area=pi\\*3.0\\*3.0"
   ]
  },
  {
   "cell_type": "markdown",
   "metadata": {},
   "source": [
    "Variables can have any name but you can not use reserved language names as:\n",
    "\n",
    "<table> \n",
    "<tr>\n",
    "<td style=\"font-size:150%;\"> and       </td>\n",
    "<td style=\"font-size:150%;\"> as        </td>\n",
    "<td style=\"font-size:150%;\"> assert    </td>\n",
    "<td style=\"font-size:150%;\" > break    </td>\n",
    "<td style=\"font-size:150%;\"> class     </td>\n",
    "<td style=\"font-size:150%;\"> continue  </td>\n",
    "<td style=\"font-size:150%;\"> def       </td>\n",
    "</tr>\n",
    "<tr>\n",
    "<td style=\"font-size:150%;\"> del       </td>\n",
    "<td style=\"font-size:150%;\"> elif      </td>\n",
    "<td style=\"font-size:150%;\"> else      </td>\n",
    "<td style=\"font-size:150%;\"> except    </td>\n",
    "<td style=\"font-size:150%;\"> False     </td>\n",
    "<td style=\"font-size:150%;\"> finally   </td>\n",
    "<td style=\"font-size:150%;\"> for       </td>\n",
    "</tr>\n",
    "<tr>\n",
    "<td style=\"font-size:150%;\"> from      </td>\n",
    "<td style=\"font-size:150%;\"> global    </td>\n",
    "<td style=\"font-size:150%;\"> if        </td>\n",
    "<td style=\"font-size:150%;\"> import    </td>\n",
    "<td style=\"font-size:150%;\"> in        </td>\n",
    "<td style=\"font-size:150%;\"> is        </td>\n",
    "<td style=\"font-size:150%;\"> lambda    </td>\n",
    "</tr>\n",
    "<tr>\n",
    "<td style=\"font-size:150%;\"> None      </td>\n",
    "<td style=\"font-size:150%;\"> nonlocal  </td>\n",
    "<td style=\"font-size:150%;\"> not       </td>\n",
    "<td style=\"font-size:150%;\"> or        </td>\n",
    "<td style=\"font-size:150%;\"> pass      </td>\n",
    "<td style=\"font-size:150%;\"> print     </td>\n",
    "<td style=\"font-size:150%;\"> raise     </td>\n",
    "</tr>\n",
    "<tr>\n",
    "<td style=\"font-size:150%;\"> return    </td>\n",
    "<td style=\"font-size:150%;\"> True      </td>\n",
    "<td style=\"font-size:150%;\"> try       </td>\n",
    "<td style=\"font-size:150%;\"> while     </td>\n",
    "<td style=\"font-size:150%;\"> with      </td>\n",
    "<td style=\"font-size:150%;\"> yield     </td>\n",
    "<td style=\"font-size:150%;\">           </td>\n",
    "</tr>\n",
    "</table>\n",
    "\n",
    "They can not start by a number\n",
    "\n",
    "They should not include illegal charaters such as % & + - =, etc\n",
    "\n",
    "Names in upper-case are considered different than those in lower-case \n",
    "\n",
    "Now some examples of simple things you should know"
   ]
  },
  {
   "cell_type": "code",
   "execution_count": 10,
   "metadata": {},
   "outputs": [
    {
     "name": "stdout",
     "output_type": "stream",
     "text": [
      "2.5 2.5 2.5\n"
     ]
    }
   ],
   "source": [
    "x=y=z=2.5\n",
    "print(x,y,z)"
   ]
  },
  {
   "cell_type": "code",
   "execution_count": 11,
   "metadata": {},
   "outputs": [
    {
     "name": "stdout",
     "output_type": "stream",
     "text": [
      "1 2 3\n"
     ]
    }
   ],
   "source": [
    "a,b,c=1,2,3\n",
    "print(a,b,c)"
   ]
  },
  {
   "cell_type": "code",
   "execution_count": 12,
   "metadata": {},
   "outputs": [
    {
     "name": "stdout",
     "output_type": "stream",
     "text": [
      "2 3\n"
     ]
    }
   ],
   "source": [
    "a,b=b,a+b\n",
    "print(a,b)"
   ]
  },
  {
   "cell_type": "markdown",
   "metadata": {},
   "source": [
    "In this tutorial, we will cover:\n",
    "\n",
    "* Basic data types\n",
    "* Methods\n",
    "* Classes"
   ]
  },
  {
   "cell_type": "markdown",
   "metadata": {},
   "source": [
    "## Python versions"
   ]
  },
  {
   "cell_type": "markdown",
   "metadata": {},
   "source": [
    "There are currently two different versions of Python, 2.x and 3.x. Python 3.x introduced many backwards-incompatible changes to the language, so code written for 2.x in general does not work under 3.x and vice versa. \n",
    "\n",
    "Since Jan 2020, 2.x is not longer supported. \n",
    "\n",
    "You can check your Python version at the command line by running `python --version`.\n",
    "\n",
    "Another way of cheching the version from inside the notebook is using:"
   ]
  },
  {
   "cell_type": "code",
   "execution_count": 4,
   "metadata": {},
   "outputs": [
    {
     "name": "stdout",
     "output_type": "stream",
     "text": [
      "3.7.7 (default, Mar 26 2020, 10:32:53) \n",
      "[Clang 4.0.1 (tags/RELEASE_401/final)]\n"
     ]
    }
   ],
   "source": [
    "import sys\n",
    "print(sys.version)"
   ]
  },
  {
   "cell_type": "markdown",
   "metadata": {},
   "source": [
    "At the end of this notebook youw will see a few key differences between Python 2.x and 3.x"
   ]
  },
  {
   "cell_type": "markdown",
   "metadata": {},
   "source": [
    "## Basic data types"
   ]
  },
  {
   "cell_type": "markdown",
   "metadata": {},
   "source": [
    "### Numbers"
   ]
  },
  {
   "cell_type": "markdown",
   "metadata": {},
   "source": [
    "Integers and floats work as you would expect from other languages:"
   ]
  },
  {
   "cell_type": "code",
   "execution_count": 15,
   "metadata": {},
   "outputs": [
    {
     "name": "stdout",
     "output_type": "stream",
     "text": [
      "3 <class 'int'>\n"
     ]
    }
   ],
   "source": [
    "x = 3\n",
    "print(x, type(x))"
   ]
  },
  {
   "cell_type": "code",
   "execution_count": 16,
   "metadata": {},
   "outputs": [
    {
     "name": "stdout",
     "output_type": "stream",
     "text": [
      "4\n",
      "2\n",
      "6\n",
      "9\n"
     ]
    }
   ],
   "source": [
    "print(x + 1)   # Addition;\n",
    "print(x - 1)   # Subtraction;\n",
    "print(x * 2)   # Multiplication;\n",
    "print(x ** 2)  # Exponentiation;"
   ]
  },
  {
   "cell_type": "code",
   "execution_count": 17,
   "metadata": {},
   "outputs": [
    {
     "name": "stdout",
     "output_type": "stream",
     "text": [
      "4\n",
      "8\n"
     ]
    }
   ],
   "source": [
    "x += 1\n",
    "print(x)  # Prints \"4\"\n",
    "x *= 2\n",
    "print(x)  # Prints \"8\""
   ]
  },
  {
   "cell_type": "code",
   "execution_count": 18,
   "metadata": {},
   "outputs": [
    {
     "name": "stdout",
     "output_type": "stream",
     "text": [
      "<class 'float'>\n",
      "2.5 3.5 5.0 6.25\n"
     ]
    }
   ],
   "source": [
    "y = 2.5\n",
    "print(type(y)) # Prints \"<type 'float'>\"\n",
    "print(y, y + 1, y * 2, y ** 2) # Prints \"2.5 3.5 5.0 6.25\""
   ]
  },
  {
   "cell_type": "markdown",
   "metadata": {},
   "source": [
    "Note that unlike many languages, Python does not have unary increment (x++) or decrement (x--) operators.\n",
    "\n",
    "Python also has built-in types for long integers and complex numbers; you can find all of the details in the [documentation](https://docs.python.org/2/library/stdtypes.html#numeric-types-int-float-long-complex)."
   ]
  },
  {
   "cell_type": "markdown",
   "metadata": {},
   "source": [
    "## Basic Mathematical Operations\n",
    "\n",
    "* With <font color=\"brown\">Python</font> we can do the following basic operations:\n",
    "  \n",
    "Addition (<code><font color=brown>+</font></code>), substraction\n",
    "(<code><font color=brown>-</font></code>), multiplication\n",
    "(<code><font color=brown>*</font></code>) and división (<code><font color=brown>/</font></code>).\n",
    "\n",
    "* Other less common:\n",
    "\n",
    "Exponentiation (<code><font color=brown>**</font></code>), \n",
    "integer division (<code><font color=brown>//</font></code>) o \n",
    "module (<code><font color=brown>%</font></code>).\n",
    "\n",
    "\n",
    "### Precedence of Operations\n",
    "\n",
    "* PEDMAS\n",
    "    * **P**arenthesis\n",
    "    * **E**xponents\n",
    "    * **D**ivision and **M**ultiplication.\n",
    "    * **A**ddition and **S**ubstraction\n",
    "* From left to right.\n",
    "\n",
    "Let see some examples:"
   ]
  },
  {
   "cell_type": "code",
   "execution_count": 19,
   "metadata": {},
   "outputs": [
    {
     "name": "stdout",
     "output_type": "stream",
     "text": [
      "4\n",
      "1\n",
      "2.0\n"
     ]
    }
   ],
   "source": [
    "print((3-1)*2)\n",
    "print(3-1 *2)\n",
    "print(1/2*4)"
   ]
  },
  {
   "cell_type": "markdown",
   "metadata": {},
   "source": [
    "#### Booleans"
   ]
  },
  {
   "cell_type": "markdown",
   "metadata": {},
   "source": [
    "Python implements all of the usual operators for Boolean logic, but uses English words rather than symbols (`&&`, `||`, etc.):"
   ]
  },
  {
   "cell_type": "code",
   "execution_count": 20,
   "metadata": {},
   "outputs": [
    {
     "name": "stdout",
     "output_type": "stream",
     "text": [
      "<class 'bool'>\n"
     ]
    }
   ],
   "source": [
    "t, f = True, False\n",
    "print(type(t)) # Prints \"<type 'bool'>\""
   ]
  },
  {
   "cell_type": "markdown",
   "metadata": {},
   "source": [
    "Now we let's look at the operations:"
   ]
  },
  {
   "cell_type": "code",
   "execution_count": 21,
   "metadata": {},
   "outputs": [
    {
     "name": "stdout",
     "output_type": "stream",
     "text": [
      "False\n",
      "True\n",
      "False\n",
      "True\n"
     ]
    }
   ],
   "source": [
    "print(t and f) # Logical AND;\n",
    "print(t or f)  # Logical OR;\n",
    "print(not t)   # Logical NOT;\n",
    "print(t != f)  # Logical XOR;"
   ]
  },
  {
   "cell_type": "code",
   "execution_count": 22,
   "metadata": {},
   "outputs": [
    {
     "name": "stdout",
     "output_type": "stream",
     "text": [
      "False\n",
      "True\n"
     ]
    }
   ],
   "source": [
    "a=10\n",
    "b=20\n",
    "print (a==b)\n",
    "print (a!=b)"
   ]
  },
  {
   "cell_type": "code",
   "execution_count": 23,
   "metadata": {},
   "outputs": [
    {
     "name": "stdout",
     "output_type": "stream",
     "text": [
      "False\n",
      "True\n",
      "False\n",
      "True\n"
     ]
    }
   ],
   "source": [
    "a=10\n",
    "b=20\n",
    "print (a>b)\n",
    "print (a<b)\n",
    "print (a>=b)\n",
    "#print (a=>b) # Error de sintaxis\n",
    "print (a<=b)"
   ]
  },
  {
   "cell_type": "markdown",
   "metadata": {},
   "source": [
    "#### Strings"
   ]
  },
  {
   "cell_type": "code",
   "execution_count": 24,
   "metadata": {},
   "outputs": [
    {
     "name": "stdout",
     "output_type": "stream",
     "text": [
      "hello 5\n"
     ]
    }
   ],
   "source": [
    "hello = 'hello'   # String literals can use single quotes\n",
    "world = \"world\"   # or double quotes; it does not matter.\n",
    "print(hello, len(hello))"
   ]
  },
  {
   "cell_type": "code",
   "execution_count": 25,
   "metadata": {},
   "outputs": [
    {
     "name": "stdout",
     "output_type": "stream",
     "text": [
      "hello world\n"
     ]
    }
   ],
   "source": [
    "hw = hello + ' ' + world  # String concatenation\n",
    "print(hw)  # prints \"hello world\""
   ]
  },
  {
   "cell_type": "code",
   "execution_count": 26,
   "metadata": {},
   "outputs": [
    {
     "name": "stdout",
     "output_type": "stream",
     "text": [
      "hello world 12\n"
     ]
    }
   ],
   "source": [
    "hw12 = '%s %s %d' % (hello, world, 12)  # sprintf style string formatting\n",
    "print(hw12)  # prints \"hello world 12\""
   ]
  },
  {
   "cell_type": "markdown",
   "metadata": {},
   "source": [
    "String objects have a bunch of useful methods; for example:"
   ]
  },
  {
   "cell_type": "code",
   "execution_count": 27,
   "metadata": {},
   "outputs": [
    {
     "name": "stdout",
     "output_type": "stream",
     "text": [
      "Monty python\n",
      "MONTY PYTHON\n",
      "monty python\n",
      ">|                            Monty Python|<\n",
      ">|              Monty Python              |<\n",
      "Mont(wye) P(wye)thon\n",
      ">|Monty Python|<\n"
     ]
    }
   ],
   "source": [
    "s = \"Monty Python\"\n",
    "print(s.capitalize())  # Capitalize a string; prints \"Monty python\"\n",
    "print(s.upper())       # Convert a string to uppercase; prints \"MONTY PYTHON\"\n",
    "print(s.lower())       # Convert a string to lowercase; prints \"monty python\"\n",
    "print('>|'+s.rjust(40)+'|<')    # Right-justify a string, padding with spaces\n",
    "print('>|'+s.center(40)+'|<')   # Center a string, padding with spaces\n",
    "print(s.replace('y', '(wye)'))  # Replace all instances of one substring with another;\n",
    "                                # prints \"Mont(wye) P(wye)thon\"\n",
    "\n",
    "print('>|'+'      Monty Python    '.strip()+'|<')  # Strip leading and trailing whitespace"
   ]
  },
  {
   "cell_type": "markdown",
   "metadata": {},
   "source": [
    "We can see a more general picture on how to slice a string as \n",
    "\n",
    "\n",
    "<img width=\"700\" alt=\"No fig directory\" src=\"fig/string-slicing.png\" />"
   ]
  },
  {
   "cell_type": "code",
   "execution_count": 13,
   "metadata": {},
   "outputs": [
    {
     "name": "stdout",
     "output_type": "stream",
     "text": [
      "Pyth\n",
      "Mont\n",
      " Python\n",
      "ot y\n",
      "nohtyP ytnoM\n",
      "['a', 'b', 'c']\n"
     ]
    },
    {
     "data": {
      "text/plain": [
       "['my', 'My', 'my', 'My']"
      ]
     },
     "execution_count": 13,
     "metadata": {},
     "output_type": "execute_result"
    }
   ],
   "source": [
    "#  strings I\n",
    "\n",
    "word = \"Monty Python\"\n",
    "part = word[6:10]\n",
    "print (part)\n",
    "part = word[:4]\n",
    "print(part)\n",
    "part = word[5:]\n",
    "print(part)\n",
    "part = word[1:8:2] # from 1 to 8 in spaces of 2\n",
    "print(part)\n",
    "rev = word [::-1]\n",
    "print(rev)\n",
    "text = 'a,b,c'\n",
    "text = text.split(',')\n",
    "print(text)\n",
    "\n",
    "c1=\"my.My.my.My\"\n",
    "c2=\"name\"\n",
    "c1+c2\n",
    "c1*3\n",
    "c1.split(\".\")"
   ]
  },
  {
   "cell_type": "code",
   "execution_count": null,
   "metadata": {},
   "outputs": [],
   "source": [
    "Python uses UTF"
   ]
  },
  {
   "cell_type": "markdown",
   "metadata": {},
   "source": [
    "You can find a list of all string methods in the [Python 3.7 Language Documentation](https://docs.python.org/3.7/library/stdtypes.html#string-methods)."
   ]
  },
  {
   "cell_type": "markdown",
   "metadata": {},
   "source": [
    "### Printing"
   ]
  },
  {
   "cell_type": "code",
   "execution_count": 29,
   "metadata": {},
   "outputs": [
    {
     "name": "stdout",
     "output_type": "stream",
     "text": [
      "Hellow word!\n",
      "\n",
      "21\n"
     ]
    }
   ],
   "source": [
    "print(\"Hellow word!\")\n",
    "print()\n",
    "print(7*3)"
   ]
  },
  {
   "cell_type": "code",
   "execution_count": 30,
   "metadata": {},
   "outputs": [
    {
     "name": "stdout",
     "output_type": "stream",
     "text": [
      "Your names is :  Elizabeth\n",
      "\n",
      "Average :  6.5\n",
      "1 2 3 4 "
     ]
    }
   ],
   "source": [
    "name = \"Elizabeth\"\n",
    "print(\"Your names is : \", name)\n",
    "print()\n",
    "grade = 19.5\n",
    "neval = 3\n",
    "print(\"Average : \", grade/neval),\n",
    "# array \n",
    "a = [1, 2, 3, 4] \n",
    "  \n",
    "# printing a element in same \n",
    "# line \n",
    "for i in range(4): \n",
    "    print(a[i], end =\" \")  "
   ]
  },
  {
   "cell_type": "markdown",
   "metadata": {},
   "source": [
    "### printf-style String Formatting"
   ]
  },
  {
   "cell_type": "markdown",
   "metadata": {},
   "source": [
    "<table> \n",
    "<tr>\n",
    "<td style=\"font-size:150%;\"> %s     </td>\n",
    "<td style=\"font-size:150%;\"> &emsp;&emsp;&emsp;      </td>\n",
    "<td style=\"font-size:150%;\"> *<font color=green>string</font>*.    </td>\n",
    "</tr>\n",
    "<tr>\n",
    "<td style=\"font-size:150%;\"> %d  </td>\n",
    "<td style=\"font-size:150%;\">     </td>\n",
    "<td style=\"font-size:150%;\"> integer. </td>\n",
    "</tr>\n",
    "<tr>\n",
    "<td style=\"font-size:150%;\"> %0xd </td>\n",
    "<td style=\"font-size:150%;\">      </td>\n",
    "<td style=\"font-size:150%;\"> an integer with x zeros from the left. </td>\n",
    "</tr>\n",
    "<tr>\n",
    "<td style=\"font-size:150%;\"> %f </td>\n",
    "<td style=\"font-size:150%;\">    </td>\n",
    "<td style=\"font-size:150%;\"> decimal notation with six digits.  </td>\n",
    "</tr>\n",
    "<tr>\n",
    "<td style=\"font-size:150%;\"> %e    </td>\n",
    "<td style=\"font-size:150%;\">       </td>\n",
    "<td style=\"font-size:150%;\"> scientific notation (compact) with <code><font color=brown>e</font></code> in the exponent. </td>\n",
    "</tr>\n",
    " <tr>\n",
    "<td style=\"font-size:150%;\"> %E    </td>\n",
    "<td style=\"font-size:150%;\">       </td>\n",
    "<td style=\"font-size:150%;\"> scientific notation (compact) with <code><font color=brown>E</font></code> in the exponent. </td>\n",
    "</tr>\n",
    "<tr>\n",
    "<td style=\"font-size:150%;\"> %g    </td>\n",
    "<td style=\"font-size:150%;\">       </td>\n",
    "<td style=\"font-size:150%;\"> decimal or scientific notation with  <code><font color=brown>e</font></code> in the exponent. </td>\n",
    "</tr>\n",
    "<tr>\n",
    "<td style=\"font-size:150%;\"> %G    </td>\n",
    "<td style=\"font-size:150%;\">       </td>\n",
    "<td style=\"font-size:150%;\"> decimal or scientific notation with <code><font color=brown>E</font></code> in the exponent. </td>\n",
    "</tr>\n",
    "<tr>\n",
    "<td style=\"font-size:150%;\"> %xz    </td>\n",
    "<td style=\"font-size:150%;\">       </td>\n",
    "<td style=\"font-size:150%;\"> format z adjusted to the rigth in a field of width x. </td>\n",
    "</tr>\n",
    "<tr>\n",
    "<td style=\"font-size:150%;\"> %-xz    </td>\n",
    "<td style=\"font-size:150%;\">       </td>\n",
    "<td style=\"font-size:150%;\"> format z adjusted to the left in a field of width x. </td>\n",
    "</tr>\n",
    "<tr>\n",
    "<td style=\"font-size:150%;\"> %.yz    </td>\n",
    "<td style=\"font-size:150%;\">       </td>\n",
    "<td style=\"font-size:150%;\"> format z with y digits. </td>\n",
    "</tr>\n",
    "    <tr>\n",
    "<td style=\"font-size:150%;\"> %x.yz    </td>\n",
    "<td style=\"font-size:150%;\">       </td>\n",
    "<td style=\"font-size:150%;\"> format z with y digits in afield of width x . </td>\n",
    "</tr>\n",
    "    <tr>\n",
    "<td style=\"font-size:150%;\"> %%    </td>\n",
    "<td style=\"font-size:150%;\">       </td>\n",
    "<td style=\"font-size:150%;\"> percentage sign.</td>\n",
    "</tr>\n",
    "</table>"
   ]
  },
  {
   "cell_type": "code",
   "execution_count": 31,
   "metadata": {},
   "outputs": [
    {
     "name": "stdout",
     "output_type": "stream",
     "text": [
      "|  15, 3.1416|\n",
      "3.141590e+00, 3.14159\n",
      "|Hiii, Hiii,  Hiii,       Hiii|\n"
     ]
    }
   ],
   "source": [
    "n = 15          # Int\n",
    "r = 3.14159     # Float\n",
    "s = \"Hiii\"      # String\n",
    "print(\"|%4d, %6.4f|\"% (n,r))                  \n",
    "print(\"%e, %g\" % (r,r))                          \n",
    "print(\"|%2s, %4s, %5s, %10s|\" % (s, s, s ,s))  "
   ]
  },
  {
   "cell_type": "markdown",
   "metadata": {},
   "source": [
    "# Python Syntax II: Containers, loops and conditionals"
   ]
  },
  {
   "cell_type": "markdown",
   "metadata": {},
   "source": [
    "Python includes several built-in container types: lists, dictionaries, sets, and tuples.\n",
    "They are particularly ueful when you are working with loops and conditionals. We will cover all these language elements here"
   ]
  },
  {
   "cell_type": "markdown",
   "metadata": {},
   "source": [
    "## Lists"
   ]
  },
  {
   "cell_type": "markdown",
   "metadata": {},
   "source": [
    "A list is the Python equivalent of an array, but is resizeable and can contain elements of different types:"
   ]
  },
  {
   "cell_type": "code",
   "execution_count": 32,
   "metadata": {},
   "outputs": [
    {
     "name": "stdout",
     "output_type": "stream",
     "text": [
      "[3, 1, 2] 2\n",
      "2\n"
     ]
    }
   ],
   "source": [
    "xs = [3, 1, 2]    # Create a list\n",
    "print(xs, xs[2])\n",
    "print(xs[-1])     # Negative indices count from the end of the list; prints \"2\""
   ]
  },
  {
   "cell_type": "code",
   "execution_count": 33,
   "metadata": {},
   "outputs": [
    {
     "name": "stdout",
     "output_type": "stream",
     "text": [
      "[3, 1, 'spam']\n"
     ]
    }
   ],
   "source": [
    "xs[2] = 'spam'     # Lists can contain elements of different types\n",
    "print(xs)"
   ]
  },
  {
   "cell_type": "code",
   "execution_count": 34,
   "metadata": {},
   "outputs": [
    {
     "name": "stdout",
     "output_type": "stream",
     "text": [
      "[3, 1, 'spam', 'eggs']\n"
     ]
    }
   ],
   "source": [
    "xs.append('eggs')  # Add a new element to the end of the list\n",
    "print(xs)  "
   ]
  },
  {
   "cell_type": "code",
   "execution_count": 35,
   "metadata": {},
   "outputs": [
    {
     "name": "stdout",
     "output_type": "stream",
     "text": [
      "eggs [3, 1, 'spam']\n"
     ]
    }
   ],
   "source": [
    "x = xs.pop()      # Remove and return the last element of the list\n",
    "print(x, xs) "
   ]
  },
  {
   "cell_type": "code",
   "execution_count": 36,
   "metadata": {},
   "outputs": [
    {
     "name": "stdout",
     "output_type": "stream",
     "text": [
      "rhombus\n"
     ]
    }
   ],
   "source": [
    "words = [\"triangle\", [\"square\", \"rectangle\", \"rhombus\"], \"pentagon\"]\n",
    "print(words[1][2])"
   ]
  },
  {
   "cell_type": "markdown",
   "metadata": {},
   "source": [
    "As usual, you can find all the gory details about lists in the [Python 3.7 documentation](https://docs.python.org/3.7/tutorial/datastructures.html#more-on-lists)."
   ]
  },
  {
   "cell_type": "markdown",
   "metadata": {},
   "source": [
    "### Slicing"
   ]
  },
  {
   "cell_type": "markdown",
   "metadata": {},
   "source": [
    "In addition to accessing list elements one at a time, Python provides concise syntax to access sublists; this is known as slicing:"
   ]
  },
  {
   "cell_type": "code",
   "execution_count": 37,
   "metadata": {},
   "outputs": [
    {
     "name": "stdout",
     "output_type": "stream",
     "text": [
      "[0, 1, 2, 3, 4]\n",
      "[2, 3]\n",
      "[2, 3, 4]\n",
      "[0, 1]\n",
      "[0, 1, 2, 3, 4]\n",
      "[0, 1, 2, 3]\n",
      "[0, 1, 8, 9, 4]\n"
     ]
    }
   ],
   "source": [
    "nums = range(5)      # range in Python 3.x is a built-in function that creates an iterable\n",
    "lnums = list(nums)\n",
    "print(lnums)         # Prints \"[0, 1, 2, 3, 4]\"\n",
    "print(lnums[2:4])    # Get a slice from index 2 to 4 (exclusive); prints \"[2, 3]\"\n",
    "print(lnums[2:])     # Get a slice from index 2 to the end; prints \"[2, 3, 4]\"\n",
    "print(lnums[:2])     # Get a slice from the start to index 2 (exclusive); prints \"[0, 1]\"\n",
    "print(lnums[:])      # Get a slice of the whole list; prints [\"0, 1, 2, 3, 4]\"\n",
    "print(lnums[:-1])    # Slice indices can be negative; prints [\"0, 1, 2, 3]\"\n",
    "lnums[2:4] = [8, 9] # Assign a new sublist to a slice\n",
    "print(lnums)         # Prints \"[0, 1, 8, 9, 4]\""
   ]
  },
  {
   "cell_type": "markdown",
   "metadata": {},
   "source": [
    "### Loops over lists"
   ]
  },
  {
   "cell_type": "markdown",
   "metadata": {},
   "source": [
    "You can loop over the elements of a list like this:"
   ]
  },
  {
   "cell_type": "code",
   "execution_count": 38,
   "metadata": {},
   "outputs": [
    {
     "name": "stdout",
     "output_type": "stream",
     "text": [
      "Tetrahedron\n",
      "Cube\n",
      "Octahedron\n",
      "Dodecahedron\n",
      "Icosahedron\n"
     ]
    }
   ],
   "source": [
    "platonic=['Tetrahedron', 'Cube', 'Octahedron', 'Dodecahedron', 'Icosahedron']\n",
    "for solid in platonic:\n",
    "    print(solid)"
   ]
  },
  {
   "cell_type": "markdown",
   "metadata": {},
   "source": [
    "If you want access to the index of each element within the body of a loop, use the built-in `enumerate` function:"
   ]
  },
  {
   "cell_type": "code",
   "execution_count": 39,
   "metadata": {
    "scrolled": true
   },
   "outputs": [
    {
     "name": "stdout",
     "output_type": "stream",
     "text": [
      "#1: Tetrahedron\n",
      "#2: Cube\n",
      "#3: Octahedron\n",
      "#4: Dodecahedron\n",
      "#5: Icosahedron\n"
     ]
    }
   ],
   "source": [
    "platonic=['Tetrahedron', 'Cube', 'Octahedron', 'Dodecahedron', 'Icosahedron']\n",
    "for idx, solid in enumerate(platonic):\n",
    "    print('#%d: %s' % (idx + 1, solid))"
   ]
  },
  {
   "cell_type": "markdown",
   "metadata": {},
   "source": [
    "### Copying lists:"
   ]
  },
  {
   "cell_type": "code",
   "execution_count": 2,
   "metadata": {},
   "outputs": [
    {
     "name": "stdout",
     "output_type": "stream",
     "text": [
      "['a'] ['a']\n",
      "['a', 'asd'] ['a', 'asd']\n"
     ]
    }
   ],
   "source": [
    "# Assignment statements\n",
    "# Incorrect copy\n",
    "\n",
    "L=[]\n",
    "M=L\n",
    " \n",
    "# modify both lists\n",
    "L.append('a')\n",
    "print(L, M)\n",
    "\n",
    "M.append('asd')\n",
    "print(L,M)"
   ]
  },
  {
   "cell_type": "code",
   "execution_count": 41,
   "metadata": {},
   "outputs": [
    {
     "name": "stdout",
     "output_type": "stream",
     "text": [
      "['a'] [] []\n"
     ]
    }
   ],
   "source": [
    "\n",
    "#Shallow copy\n",
    "\n",
    "L=[]\n",
    "M=L[:]         # Shallow copy using slicing\n",
    "N=list(L)      # Creating another shallow copy\n",
    "\n",
    "# modifica solo a L\n",
    "L.append('a')\n",
    "print(L, M, N)"
   ]
  },
  {
   "cell_type": "markdown",
   "metadata": {},
   "source": [
    "### Shallow copy vs Deep Copy"
   ]
  },
  {
   "cell_type": "markdown",
   "metadata": {},
   "source": [
    "Assignment statements in Python **do not copy objects**, they create bindings between a target and an object. Therefore, the problem with shallow copies is that internal objects are only referenced"
   ]
  },
  {
   "cell_type": "code",
   "execution_count": 42,
   "metadata": {},
   "outputs": [],
   "source": [
    "lst1 = ['a','b',['ab','ba']]\n",
    "lst2 = lst1[:]"
   ]
  },
  {
   "cell_type": "code",
   "execution_count": 43,
   "metadata": {},
   "outputs": [
    {
     "name": "stdout",
     "output_type": "stream",
     "text": [
      "['a', 'b', ['cd', 'ba']]\n"
     ]
    }
   ],
   "source": [
    "lst2[2][0]='cd'\n",
    "print(lst1)"
   ]
  },
  {
   "cell_type": "code",
   "execution_count": 44,
   "metadata": {},
   "outputs": [],
   "source": [
    "lst1 = ['a','b',['ab','ba']]\n",
    "lst2 = list(lst1)"
   ]
  },
  {
   "cell_type": "code",
   "execution_count": 45,
   "metadata": {},
   "outputs": [
    {
     "name": "stdout",
     "output_type": "stream",
     "text": [
      "['a', 'b', ['cd', 'ba']]\n"
     ]
    }
   ],
   "source": [
    "lst2[2][0]='cd'\n",
    "print(lst1)"
   ]
  },
  {
   "cell_type": "markdown",
   "metadata": {},
   "source": [
    "To produce a deep copy you can use a module from the Python Standard Library. The Python Standard library will be covered in the next Notebook, however this is a good place to clarify this important topic about Shallow and Deep copies in Python."
   ]
  },
  {
   "cell_type": "code",
   "execution_count": 46,
   "metadata": {},
   "outputs": [],
   "source": [
    "from copy import deepcopy\n",
    "\n",
    "lst1 = ['a','b',['ab','ba']]\n",
    "lst2 = deepcopy(lst1)"
   ]
  },
  {
   "cell_type": "code",
   "execution_count": 47,
   "metadata": {},
   "outputs": [
    {
     "name": "stdout",
     "output_type": "stream",
     "text": [
      "['a', 'b', ['ab', 'ba']]\n"
     ]
    }
   ],
   "source": [
    "lst2[2][0]='cd'\n",
    "print(lst1)"
   ]
  },
  {
   "cell_type": "markdown",
   "metadata": {},
   "source": [
    "#### Deleting lists:"
   ]
  },
  {
   "cell_type": "code",
   "execution_count": 48,
   "metadata": {},
   "outputs": [
    {
     "name": "stdout",
     "output_type": "stream",
     "text": [
      "['Tetrahedron', 'Cube', 'Octahedron', 'Dodecahedron', 'Icosahedron']\n",
      "The variable 'platonic' is not defined\n"
     ]
    }
   ],
   "source": [
    "platonic=['Tetrahedron', 'Cube', 'Octahedron', 'Dodecahedron', 'Icosahedron']\n",
    "print(platonic)\n",
    "del platonic\n",
    "\n",
    "try: platonic\n",
    "except NameError: print(\"The variable 'platonic' is not defined\")"
   ]
  },
  {
   "cell_type": "code",
   "execution_count": 49,
   "metadata": {},
   "outputs": [
    {
     "name": "stdout",
     "output_type": "stream",
     "text": [
      "['Tetrahedron', 'Octahedron', 'Dodecahedron', 'Icosahedron']\n",
      "['Tetrahedron', 'Octahedron', 'Dodecahedron']\n",
      "['Tetrahedron', 'Octahedron', 'Dodecahedron', 'Icosahedron']\n",
      "['Tetrahedron', 'Octahedron', 'Dodecahedron', 'Icosahedron', 'Circle', 2]\n",
      "['Circle', 2, 'Circle', 2]\n",
      "['Circle', 2, 'Circle', 2]\n"
     ]
    }
   ],
   "source": [
    "platonic=['Tetrahedron', 'Cube', 'Octahedron', 'Dodecahedron', 'Icosahedron']\n",
    "del platonic[1]\n",
    "print(platonic)\n",
    "del platonic[-1]                  #Delete last element \n",
    "print(platonic)\n",
    "\n",
    "platonic=['Tetrahedron', 'Cube', 'Octahedron', 'Dodecahedron', 'Icosahedron']\n",
    "platonic.remove(\"Cube\")\n",
    "print(platonic)\n",
    "\n",
    "newl=[\"Circle\", 2]\n",
    "print(platonic+newl) \n",
    "print(newl*2)\n",
    "print(2*newl)"
   ]
  },
  {
   "cell_type": "markdown",
   "metadata": {},
   "source": [
    "#### Sorting lists:"
   ]
  },
  {
   "cell_type": "code",
   "execution_count": 50,
   "metadata": {},
   "outputs": [
    {
     "name": "stdout",
     "output_type": "stream",
     "text": [
      "['Cube', 'Dodecahedron', 'Icosahedron', 'Octahedron', 'Tetrahedron']\n",
      "[-1, 1, 2, 3, 10, 200, 999]\n"
     ]
    }
   ],
   "source": [
    "list1=['Tetrahedron', 'Cube', 'Octahedron', 'Dodecahedron', 'Icosahedron']\n",
    "list2=[1,200,3,10,2,999,-1]\n",
    "list1.sort()\n",
    "list2.sort()\n",
    "print(list1)\n",
    "print(list2)"
   ]
  },
  {
   "cell_type": "markdown",
   "metadata": {},
   "source": [
    "#### List comprehensions:"
   ]
  },
  {
   "cell_type": "markdown",
   "metadata": {},
   "source": [
    "When programming, frequently we want to transform one type of data into another. As a simple example, consider the following code that computes square numbers:"
   ]
  },
  {
   "cell_type": "code",
   "execution_count": 51,
   "metadata": {},
   "outputs": [
    {
     "name": "stdout",
     "output_type": "stream",
     "text": [
      "[0, 1, 4, 9, 16]\n"
     ]
    }
   ],
   "source": [
    "nums = [0, 1, 2, 3, 4]\n",
    "squares = []\n",
    "for x in nums:\n",
    "    squares.append(x ** 2)\n",
    "print(squares)"
   ]
  },
  {
   "cell_type": "markdown",
   "metadata": {},
   "source": [
    "You can make this code simpler using a list comprehension:"
   ]
  },
  {
   "cell_type": "code",
   "execution_count": 52,
   "metadata": {},
   "outputs": [
    {
     "name": "stdout",
     "output_type": "stream",
     "text": [
      "[0, 1, 4, 9, 16]\n"
     ]
    }
   ],
   "source": [
    "nums = [0, 1, 2, 3, 4]\n",
    "squares = [x ** 2 for x in nums]\n",
    "print(squares)"
   ]
  },
  {
   "cell_type": "markdown",
   "metadata": {},
   "source": [
    "List comprehensions can also contain conditions:"
   ]
  },
  {
   "cell_type": "code",
   "execution_count": 53,
   "metadata": {},
   "outputs": [
    {
     "name": "stdout",
     "output_type": "stream",
     "text": [
      "[0, 4, 16]\n"
     ]
    }
   ],
   "source": [
    "nums = [0, 1, 2, 3, 4]\n",
    "even_squares = [x ** 2 for x in nums if x % 2 == 0]\n",
    "print(even_squares)"
   ]
  },
  {
   "cell_type": "markdown",
   "metadata": {},
   "source": [
    "## Dictionaries"
   ]
  },
  {
   "cell_type": "markdown",
   "metadata": {},
   "source": [
    "A dictionary stores (key, value) pairs, similar to a `Map` in Java or an object in Javascript. You can use it like this:"
   ]
  },
  {
   "cell_type": "code",
   "execution_count": 54,
   "metadata": {},
   "outputs": [
    {
     "name": "stdout",
     "output_type": "stream",
     "text": [
      "6\n",
      "True\n"
     ]
    }
   ],
   "source": [
    "# Create a new dictionary with some data about regular polyhedra\n",
    "rp = {'Tetrahedron': 4, 'Cube': 6, 'Octahedron': 8, 'Dodecahedron': 12, 'Icosahedron': 20}  \n",
    "print(rp['Cube'])              # Get an entry from a dictionary; prints \"cute\"\n",
    "print('Icosahedron' in rp)     # Check if a dictionary has a given key; prints \"True\""
   ]
  },
  {
   "cell_type": "code",
   "execution_count": 55,
   "metadata": {},
   "outputs": [
    {
     "name": "stdout",
     "output_type": "stream",
     "text": [
      "0\n"
     ]
    }
   ],
   "source": [
    "rp['Circle'] = 0         # Set an entry in a dictionary\n",
    "print(rp['Circle'])      # Prints \"0\""
   ]
  },
  {
   "cell_type": "code",
   "execution_count": 56,
   "metadata": {},
   "outputs": [
    {
     "data": {
      "text/plain": [
       "False"
      ]
     },
     "execution_count": 56,
     "metadata": {},
     "output_type": "execute_result"
    }
   ],
   "source": [
    "'Heptahedron' in rp"
   ]
  },
  {
   "cell_type": "code",
   "execution_count": 57,
   "metadata": {},
   "outputs": [
    {
     "name": "stdout",
     "output_type": "stream",
     "text": [
      "N/A\n",
      "6\n"
     ]
    }
   ],
   "source": [
    "print(rp.get('Hexahedron', 'N/A'))  # Get an element with a default; prints \"N/A\"\n",
    "print(rp.get('Cube', 'N/A'))        # Get an element with a default; prints 6"
   ]
  },
  {
   "cell_type": "code",
   "execution_count": 58,
   "metadata": {},
   "outputs": [
    {
     "name": "stdout",
     "output_type": "stream",
     "text": [
      "N/A\n"
     ]
    }
   ],
   "source": [
    "del rp['Circle']        # Remove an element from a dictionary\n",
    "print(rp.get('Circle', 'N/A')) # \"Circle\" is no longer a key; prints \"N/A\""
   ]
  },
  {
   "cell_type": "markdown",
   "metadata": {},
   "source": [
    "You can find all you need to know about dictionaries in the [Python 3.7 documentation](https://docs.python.org/3.7/library/stdtypes.html#dict)."
   ]
  },
  {
   "cell_type": "markdown",
   "metadata": {},
   "source": [
    "It is easy to iterate over the keys in a dictionary:"
   ]
  },
  {
   "cell_type": "code",
   "execution_count": 16,
   "metadata": {},
   "outputs": [
    {
     "name": "stdout",
     "output_type": "stream",
     "text": [
      "The tetrahedron has 4 faces\n",
      "The cube has 6 faces\n",
      "The octahedron has 8 faces\n",
      "The dodecahedron has 12 faces\n",
      "The icosahedron has 20 faces\n",
      "Tetrahedron 4\n",
      "Cube 6\n",
      "Octahedron 8\n",
      "Dodecahedron 12\n",
      "Icosahedron 20\n"
     ]
    }
   ],
   "source": [
    "rp = {'Tetrahedron': 4, 'Cube': 6, 'Octahedron': 8, 'Dodecahedron': 12, 'Icosahedron': 20}  \n",
    "for polyhedron in rp:\n",
    "    faces = rp[polyhedron]\n",
    "    print('The %s has %d faces' % (polyhedron.lower(), faces))\n",
    "\n",
    "for n in rp.keys():\n",
    "    print(n,rp[n])"
   ]
  },
  {
   "cell_type": "markdown",
   "metadata": {},
   "source": [
    "If you want access to keys and their corresponding values, use the items() method. This is an iterable not a list."
   ]
  },
  {
   "cell_type": "code",
   "execution_count": 60,
   "metadata": {},
   "outputs": [
    {
     "name": "stdout",
     "output_type": "stream",
     "text": [
      "The Tetrahedron has 4 faces\n",
      "The Cube has 6 faces\n",
      "The Octahedron has 8 faces\n",
      "The Dodecahedron has 12 faces\n",
      "The Icosahedron has 20 faces\n"
     ]
    }
   ],
   "source": [
    "rp = {'Tetrahedron': 4, 'Cube': 6, 'Octahedron': 8, 'Dodecahedron': 12, 'Icosahedron': 20}  \n",
    "for polyhedron, faces in rp.items():\n",
    "    print('The %s has %d faces' % (polyhedron, faces))"
   ]
  },
  {
   "cell_type": "markdown",
   "metadata": {},
   "source": [
    "Dictionary comprehensions: These are similar to list comprehensions, but allow you to easily construct dictionaries. For example:"
   ]
  },
  {
   "cell_type": "code",
   "execution_count": 61,
   "metadata": {},
   "outputs": [
    {
     "name": "stdout",
     "output_type": "stream",
     "text": [
      "{0: 0, 2: 4, 4: 16}\n"
     ]
    }
   ],
   "source": [
    "nums = [0, 1, 2, 3, 4]\n",
    "even_num_to_square = {x: x ** 2 for x in nums if x % 2 == 0}\n",
    "print(even_num_to_square)"
   ]
  },
  {
   "cell_type": "markdown",
   "metadata": {},
   "source": [
    "## Sets"
   ]
  },
  {
   "cell_type": "markdown",
   "metadata": {},
   "source": [
    "A set is an unordered collection of distinct elements. As a simple example, consider the following:"
   ]
  },
  {
   "cell_type": "code",
   "execution_count": 62,
   "metadata": {},
   "outputs": [
    {
     "name": "stdout",
     "output_type": "stream",
     "text": [
      "True\n",
      "False\n"
     ]
    }
   ],
   "source": [
    "menu = {'spam', 'eggs'}\n",
    "print('spam' in menu)   # Check if an element is in a set; prints \"True\"\n",
    "print('ham' in menu)    # prints \"False\"\n"
   ]
  },
  {
   "cell_type": "code",
   "execution_count": 63,
   "metadata": {},
   "outputs": [
    {
     "name": "stdout",
     "output_type": "stream",
     "text": [
      "True\n",
      "3\n"
     ]
    }
   ],
   "source": [
    "menu.add('ham')        # Add an element to a set\n",
    "print('ham' in menu)\n",
    "print(len(menu))       # Number of elements in a set;"
   ]
  },
  {
   "cell_type": "code",
   "execution_count": 64,
   "metadata": {},
   "outputs": [
    {
     "name": "stdout",
     "output_type": "stream",
     "text": [
      "{'bacon', 'ham', 'eggs', 'spam'}\n",
      "{'bacon', 'eggs', 'spam'}\n"
     ]
    }
   ],
   "source": [
    "menu.add('bacon')       # Adding an element that is already in the set does nothing\n",
    "print(menu)       \n",
    "menu.remove('ham')      # Remove an element from a set\n",
    "print(menu)       "
   ]
  },
  {
   "cell_type": "code",
   "execution_count": 65,
   "metadata": {},
   "outputs": [
    {
     "name": "stdout",
     "output_type": "stream",
     "text": [
      "SetA =  {'second', 'first', 'third'}\n",
      "SetB= {'second', 'fourth'}\n",
      "{'second'}\n",
      "{'second', 'third', 'fourth', 'first'}\n",
      "{'first', 'third'}\n",
      "{'fourth'}\n",
      "{'first', 'third', 'fourth'}\n",
      "frozenset({'a', 'b'})\n"
     ]
    }
   ],
   "source": [
    "setA = set([\"first\", \"second\", \"third\", \"first\"])\n",
    "print(\"SetA = \",setA)\n",
    "setB = set([\"second\", \"fourth\"])\n",
    "print(\"SetB=\",setB)\n",
    "\n",
    "print(setA & setB)                       # Intersection\n",
    "print(setA | setB)                       # Union\n",
    "print(setA - setB)                       # Difference A-B\n",
    "print(setB - setA)                       # Difference B-A\n",
    "print(setA ^ setB)                       # symmetric difference\n",
    "set(['fourth', 'first', 'third'])\n",
    "\n",
    "# Set is not mutable, elements of frozen set remains the same after creation\n",
    "immutable_set = frozenset([\"a\", \"b\", \"a\"])   \n",
    "print(immutable_set)"
   ]
  },
  {
   "cell_type": "markdown",
   "metadata": {},
   "source": [
    "### Loops over sets \n",
    "\n",
    "Iterating over a set has the same syntax as iterating over a list; however since sets are unordered, you cannot make assumptions about the order in which you visit the elements of the set:"
   ]
  },
  {
   "cell_type": "code",
   "execution_count": 66,
   "metadata": {},
   "outputs": [
    {
     "name": "stdout",
     "output_type": "stream",
     "text": [
      "#1: fish\n",
      "#2: dog\n",
      "#3: cat\n"
     ]
    }
   ],
   "source": [
    "animals = {'cat', 'dog', 'fish'}\n",
    "for idx, animal in enumerate(animals):\n",
    "    print('#%d: %s' % (idx + 1, animal))\n",
    "# Prints \"#1: fish\", \"#2: dog\", \"#3: cat\""
   ]
  },
  {
   "cell_type": "markdown",
   "metadata": {},
   "source": [
    "Set comprehensions: Like lists and dictionaries, we can easily construct sets using set comprehensions:"
   ]
  },
  {
   "cell_type": "code",
   "execution_count": 67,
   "metadata": {},
   "outputs": [
    {
     "name": "stdout",
     "output_type": "stream",
     "text": [
      "[0, 1, 1, 1, 2, 2, 2, 2, 2, 3, 3, 3, 3, 3, 3, 3, 4, 4, 4, 4, 4, 4, 4, 4, 4, 5, 5, 5, 5, 5]\n",
      "{0, 1, 2, 3, 4, 5}\n"
     ]
    }
   ],
   "source": [
    "from math import sqrt\n",
    "lc=[int(sqrt(x)) for x in range(30)]\n",
    "sc={int(sqrt(x)) for x in range(30)}\n",
    "\n",
    "print(lc)\n",
    "print(sc)"
   ]
  },
  {
   "cell_type": "code",
   "execution_count": 68,
   "metadata": {},
   "outputs": [
    {
     "data": {
      "text/plain": [
       "{0, 1, 2, 3, 4, 5}"
      ]
     },
     "execution_count": 68,
     "metadata": {},
     "output_type": "execute_result"
    }
   ],
   "source": [
    "set(lc)"
   ]
  },
  {
   "cell_type": "markdown",
   "metadata": {},
   "source": [
    "## Tuples"
   ]
  },
  {
   "cell_type": "markdown",
   "metadata": {},
   "source": [
    "A tuple is an (immutable) ordered list of values. A tuple is in many ways similar to a list; one of the most important differences is that tuples can be used as keys in dictionaries and as elements of sets, while lists cannot.\n",
    "\n",
    "Some general observations on tuples are:\n",
    "\n",
    "1) A <code><font color=brown>tuple</font></code> can not be modified after its creation.\n",
    "\n",
    "2) A tuple is defined similarly to a list, only that the set is enclosed with parenthesis, \"()\", instead of \"[]\". \n",
    "\n",
    "3) The elements in the tuple have a predefined order, similar to a list.\n",
    "\n",
    "4) Tuples have the first index as zero, similar to lists, such that <code><font color=brown>t[0]</font></code> always exist.\n",
    "\n",
    "5) Negative indeces count from the end, as in lists.\n",
    "\n",
    "6) Slicing works as in lists.\n",
    "\n",
    "7) Extracting sections of a list give a list, similarly, a section of a tuple, gives a tuple.\n",
    "\n",
    "8) append or sort do not work in tuples. \"in\" can be used to know if an element exist in tuple.\n",
    "\n",
    "9) Tuples are much faster than lists.\n",
    "\n",
    "10) If you are defining a fix set of values and the only thing you would do is to run over it, use a tuple instead of a list.\n",
    "\n",
    "11) Tuples can be converted in lists <code><font color=brown>list(tuple)</font></code> and lists in tuples <code><font color=brown>tuple(list)</font></code>\n"
   ]
  },
  {
   "cell_type": "code",
   "execution_count": 9,
   "metadata": {},
   "outputs": [
    {
     "name": "stdout",
     "output_type": "stream",
     "text": [
      "<class 'tuple'>\n",
      "5\n",
      "1\n",
      "{(0, 1): 0, (1, 2): 1, (2, 3): 2, (3, 4): 3, (4, 5): 4, (5, 6): 5, (6, 7): 6, (7, 8): 7, (8, 9): 8, (9, 10): 9}\n",
      "<class 'tuple'>\n",
      "MIN of Tuple= 1\n",
      "['a', 'b', 'c'] ('a', 'b', 'c')\n"
     ]
    }
   ],
   "source": [
    "d = {(x, x + 1): x for x in range(10)}  # Create a dictionary with tuple keys\n",
    "t = (5, 6)       # Create a tuple\n",
    "print(type(t))\n",
    "print(d[t])       \n",
    "print(d[(1, 2)])\n",
    "print(d)\n",
    "e = (1,2,'a','b')\n",
    "print(type(e))\n",
    "#print('MIN of Tuple=',min(e))\n",
    "\n",
    "e = (1,2,3,4)\n",
    "print('MIN of Tuple=',min(e))\n",
    "\n",
    "word = 'abc'\n",
    "L = list(word)\n",
    "lp=list(word)\n",
    "tp=tuple(word)\n",
    "print(lp,tp)"
   ]
  },
  {
   "cell_type": "code",
   "execution_count": 70,
   "metadata": {},
   "outputs": [],
   "source": [
    "#t[0] = 1"
   ]
  },
  {
   "cell_type": "markdown",
   "metadata": {},
   "source": [
    "## Conditionals"
   ]
  },
  {
   "cell_type": "markdown",
   "metadata": {},
   "source": [
    "* Conditionals are expressions that can be true of false. For example\n",
    "\n",
    "    * has the user type the correct word? \n",
    "    * is the number bigger than 100? \n",
    "\n",
    "* The result of the conditions will decide what will happen, for example:\n",
    "\n",
    "    * When the input word is correct, print \"Good\" \n",
    "    * To all number larger than 100 substract 20."
   ]
  },
  {
   "cell_type": "markdown",
   "metadata": {},
   "source": [
    "### Boolean Operators"
   ]
  },
  {
   "cell_type": "code",
   "execution_count": 71,
   "metadata": {},
   "outputs": [
    {
     "name": "stdout",
     "output_type": "stream",
     "text": [
      "False\n",
      "True\n",
      "False\n",
      "True\n",
      "False\n",
      "True\n",
      "True\n"
     ]
    }
   ],
   "source": [
    "x = 125\n",
    "y = 251\n",
    "\n",
    "print(x == y)    # x equal to y\n",
    "print(x != y)    # x is not equal to y\n",
    "print(x >  y)    # x is larger than y\n",
    "print(x <  y)    # x is smaller than y\n",
    "print(x >= y)    # x is larger or equal than y\n",
    "print(x <= y)    # x is smaller or equal than y\n",
    "print(x == 125)  # x is equal to 125"
   ]
  },
  {
   "cell_type": "code",
   "execution_count": 72,
   "metadata": {},
   "outputs": [
    {
     "name": "stdout",
     "output_type": "stream",
     "text": [
      "True\n",
      "True\n",
      "True\n",
      "False\n",
      "False\n"
     ]
    }
   ],
   "source": [
    "passwd = \"nix\"\n",
    "num  = 10\n",
    "num1 = 20\n",
    "letter = \"a\"\n",
    "\n",
    "print(passwd == \"nix\")\n",
    "print(num >= 0)\n",
    "print(letter > \"L\")\n",
    "print(num/2 == (num1-num))\n",
    "print(num %5 != 0)"
   ]
  },
  {
   "cell_type": "code",
   "execution_count": 73,
   "metadata": {},
   "outputs": [
    {
     "name": "stdout",
     "output_type": "stream",
     "text": [
      "False\n",
      "True\n",
      "True\n"
     ]
    }
   ],
   "source": [
    "s1=\"A\"\n",
    "s2=\"Z\"\n",
    "\n",
    "print(s1>s2)\n",
    "print(s1.isupper())\n",
    "print(s1.lower()>s2)"
   ]
  },
  {
   "cell_type": "markdown",
   "metadata": {},
   "source": [
    "### Conditional (if...elif...else)"
   ]
  },
  {
   "cell_type": "code",
   "execution_count": 74,
   "metadata": {},
   "outputs": [
    {
     "name": "stdout",
     "output_type": "stream",
     "text": [
      "You have reach adulthood\n",
      "\n",
      "Thanks\n",
      "Done\n",
      "Number is odd\n",
      "odd\n"
     ]
    }
   ],
   "source": [
    "# Example with the instruction if\n",
    "if use_input:\n",
    "    num = input(\"Give me your age  \")\n",
    "else:\n",
    "    num = 20\n",
    "    \n",
    "if int(num) >= 18:\n",
    "   print(\"You have reach adulthood\")\n",
    "   print()      # Imprime una linea en blanco \n",
    "   print(\"Thanks\")\n",
    "print(\"Done\")\n",
    "\n",
    "# Example of if ... else\n",
    "if use_input:\n",
    "    x = int(input(\"Give me an integer: \"))\n",
    "else:\n",
    "    x = 7\n",
    "    \n",
    "if x% 2 == 0:\n",
    "   print(\"Number is even\")\n",
    "else:\n",
    "   print(\"Number is odd\")\n",
    "\n",
    "# Example of the compact form of  if...else\n",
    "if use_input:\n",
    "    num = int(input(\"Give me an integer: \"))\n",
    "else:\n",
    "    num = 7\n",
    "    \n",
    "evenless = \"even\" if (num % 2 == 0) else \"odd\"\n",
    "print(evenless)"
   ]
  },
  {
   "cell_type": "code",
   "execution_count": 75,
   "metadata": {},
   "outputs": [
    {
     "name": "stdout",
     "output_type": "stream",
     "text": [
      "-10  is negative\n"
     ]
    }
   ],
   "source": [
    "# Example of if...elif...else\n",
    "if use_input:\n",
    "    x=float(input(\"Give me a number : \"))\n",
    "else:\n",
    "    x=-10\n",
    "    \n",
    "if x<0 :\n",
    "    print(x,\" is negative\")\n",
    "elif x==0 :\n",
    "    print(\"the number is zero\")\n",
    "else:\n",
    "    print(x,\" is positive\")"
   ]
  },
  {
   "cell_type": "code",
   "execution_count": 76,
   "metadata": {},
   "outputs": [
    {
     "name": "stdout",
     "output_type": "stream",
     "text": [
      "x is negative\n"
     ]
    }
   ],
   "source": [
    "# example of the keyword pass\n",
    "\n",
    "if x<0:\n",
    "   print(\"x is negative\")\n",
    "else:\n",
    "   pass # I will not do anything "
   ]
  },
  {
   "cell_type": "markdown",
   "metadata": {},
   "source": [
    "### Loop with conditional (while)"
   ]
  },
  {
   "cell_type": "code",
   "execution_count": 77,
   "metadata": {},
   "outputs": [
    {
     "name": "stdout",
     "output_type": "stream",
     "text": [
      "0\n",
      "1\n",
      "2\n",
      "3\n",
      "4\n",
      "5\n",
      "6\n",
      "7\n",
      "8\n",
      "9\n",
      "End\n"
     ]
    }
   ],
   "source": [
    "# Example with while\n",
    "\n",
    "x=0\n",
    "while x < 10:\n",
    "     print(x)\n",
    "     x = x+1\n",
    "print(\"End\")"
   ]
  },
  {
   "cell_type": "code",
   "execution_count": 78,
   "metadata": {},
   "outputs": [
    {
     "name": "stdout",
     "output_type": "stream",
     "text": [
      "1 \t 1\n",
      "2 \t 4\n",
      "3 \t 9\n",
      "4 \t 16\n",
      "5 \t 25\n",
      "6 \t 36\n",
      "7 \t 49\n",
      "8 \t 64\n",
      "9 \t 81\n"
     ]
    }
   ],
   "source": [
    "# A printed table with tabular with while\n",
    "\n",
    "x=1\n",
    "\n",
    "while x < 10:\n",
    "     print(x, \"\\t\", x*x)\n",
    "     x = x+1"
   ]
  },
  {
   "cell_type": "code",
   "execution_count": 79,
   "metadata": {},
   "outputs": [
    {
     "name": "stdout",
     "output_type": "stream",
     "text": [
      "program of nothing\n",
      "program of nothing"
     ]
    }
   ],
   "source": [
    "# Comparing while and for in a string\n",
    "word = \"program of nothing\"\n",
    "index=0\n",
    "while index < len(word):\n",
    "    print(word[index], end =\"\") \n",
    "    index +=1\n",
    "print()\n",
    "for letter in word:\n",
    "      print(letter,end=\"\")"
   ]
  },
  {
   "cell_type": "code",
   "execution_count": 80,
   "metadata": {},
   "outputs": [
    {
     "name": "stdout",
     "output_type": "stream",
     "text": [
      "red green blue \n",
      "0 red\n",
      "1 green\n",
      "2 blue\n"
     ]
    }
   ],
   "source": [
    "#Using enumerate for lists\n",
    "\n",
    "colors=[\"red\", \"green\", \"blue\"]\n",
    "for c in colors:    \n",
    "    print(c,end=\" \")\n",
    "print() \n",
    "for i, col in enumerate(colors):\n",
    "    print(i,col) "
   ]
  },
  {
   "cell_type": "code",
   "execution_count": 81,
   "metadata": {},
   "outputs": [
    {
     "name": "stdout",
     "output_type": "stream",
     "text": [
      "Color rojo in spanish means red in english\n",
      "Color verde in spanish means green in english\n",
      "Color azul in spanish means blue in english\n"
     ]
    }
   ],
   "source": [
    "#Running over several lists at the same time\n",
    "\n",
    "colors1 =[\"rojo\",\"verde\", \"azul\"]\n",
    "colors2 =[\"red\", \"green\", \"blue\"]\n",
    "for ce, ci in zip(colors1,colors2):    \n",
    "    print(\"Color\",ce,\"in spanish means\",ci,\"in english\")"
   ]
  },
  {
   "cell_type": "markdown",
   "metadata": {},
   "source": [
    "### List of numbers (range)"
   ]
  },
  {
   "cell_type": "code",
   "execution_count": 82,
   "metadata": {},
   "outputs": [
    {
     "name": "stdout",
     "output_type": "stream",
     "text": [
      "[0, 1, 2, 3, 4, 5, 6, 7, 8, 9]\n",
      "[2, 3, 4, 5, 6, 7, 8, 9]\n",
      "[0, 2, 4, 6, 8, 10]\n"
     ]
    }
   ],
   "source": [
    "print(list(range(10)))\n",
    "print(list(range(2,10)))\n",
    "print(list(range(0,11,2)))"
   ]
  },
  {
   "cell_type": "markdown",
   "metadata": {},
   "source": [
    "A simple application of the function <code><font color=\"brown\">range()</font></code> is when we try to calculate\n",
    "finite sums of integers. For example\n",
    "\n",
    "\\begin{equation*}\n",
    "\\boxed{\n",
    "\\sum_{i=1}^n i = \\frac{n(n+1)}2\\ ,\n",
    " \\ \\ \\ \\ \\ \n",
    "\\sum_{i=1}^n  i^2 = \\frac{n(n+1)(2n+1)}6\\ .\n",
    "}\n",
    "\\end{equation*}\n"
   ]
  },
  {
   "cell_type": "code",
   "execution_count": 83,
   "metadata": {},
   "outputs": [
    {
     "name": "stdout",
     "output_type": "stream",
     "text": [
      "5050 5050.0\n",
      "338350 338350.0\n"
     ]
    }
   ],
   "source": [
    "if use_input:\n",
    "    n = int(input(\"Enter the limit of the sum: \")) \n",
    "else:\n",
    "    n = 100\n",
    "    \n",
    "sum_i=0\n",
    "sum_ii=0\n",
    "for i in range(1,n+1):\n",
    "     sum_i = sum_i + i\n",
    "     sum_ii += i*i\n",
    "print(sum_i, n*(n+1)/2) \n",
    "print(sum_ii, n*(n+1)*(2*n+1)/6)"
   ]
  },
  {
   "cell_type": "markdown",
   "metadata": {},
   "source": [
    "### Loop modifiers: break and continue"
   ]
  },
  {
   "cell_type": "code",
   "execution_count": 84,
   "metadata": {},
   "outputs": [
    {
     "name": "stdout",
     "output_type": "stream",
     "text": [
      "1  with square  1\n",
      "2  with square  4\n",
      "3  with square  9\n",
      "4  with square  16\n",
      "5  with square  25\n",
      "6  with square  36\n",
      "7  with square  49\n",
      "8 to the square is  64  > 50\n",
      "STOP\n",
      "-0.2\n",
      "-0.25\n",
      "-0.333\n",
      "-0.5\n",
      "-1.0\n",
      "1.0\n",
      "0.5\n",
      "0.333\n",
      "0.25\n"
     ]
    }
   ],
   "source": [
    "for n in range(1,10):\n",
    "      c=n*n\n",
    "      if c > 50:\n",
    "            print(n, \"to the square is \",c,\" > 50\")\n",
    "            print(\"STOP\")\n",
    "            break\n",
    "      else:\n",
    "            print(n,\" with square \",c)\n",
    "\n",
    "for i in range(-5,5,1):\n",
    "    if i == 0:\n",
    "        continue\n",
    "    else:\n",
    "        print(round(1/i,3))"
   ]
  },
  {
   "cell_type": "markdown",
   "metadata": {},
   "source": [
    "# Python Syntax III: Functions"
   ]
  },
  {
   "cell_type": "markdown",
   "metadata": {},
   "source": [
    "A function defines a set of instruction or a piece of a code with an associated name that performs an specific task and it can be reutilized.\n",
    "\n",
    "It can have argument(s) or not, it can return values or not.\n",
    "\n",
    "The functions can be given by the language, imported from an external file (module) or created by you"
   ]
  },
  {
   "cell_type": "markdown",
   "metadata": {},
   "source": [
    "## Built-in Functions\n",
    "\n",
    "The Python interpreter has a number of functions and types built into it that are always available. They are listed here in alphabetical order."
   ]
  },
  {
   "cell_type": "markdown",
   "metadata": {},
   "source": [
    "<table>\n",
    "<colgroup>\n",
    "<col style=\"width: 21%\">\n",
    "<col style=\"width: 18%\">\n",
    "<col style=\"width: 20%\">\n",
    "<col style=\"width: 20%\">\n",
    "<col style=\"width: 22%\">\n",
    "</colgroup>\n",
    "<thead>\n",
    "<tr class=\"row-odd\"><th class=\"head\"></th>\n",
    "<th class=\"head\"></th>\n",
    "<th class=\"head\"><p>Built-in Functions</p></th>\n",
    "<th class=\"head\"></th>\n",
    "<th class=\"head\"></th>\n",
    "</tr>\n",
    "</thead>\n",
    "<tbody>\n",
    "<tr class=\"row-even\"><td><p><a class=\"reference internal\" href=\"https://docs.python.org/3.7/library/functions.html#abs\" title=\"abs\"><code class=\"xref py py-func docutils literal notranslate\"><span class=\"pre\">abs()</span></code></a></p></td>\n",
    "<td><p><a class=\"reference internal\" href=\"https://docs.python.org/3.7/library/functions.html#delattr\" title=\"delattr\"><code class=\"xref py py-func docutils literal notranslate\"><span class=\"pre\">delattr()</span></code></a></p></td>\n",
    "<td><p><a class=\"reference internal\" href=\"https://docs.python.org/3.7/library/functions.html#hash\" title=\"hash\"><code class=\"xref py py-func docutils literal notranslate\"><span class=\"pre\">hash()</span></code></a></p></td>\n",
    "<td><p><a class=\"reference internal\" href=\"https://docs.python.org/3.7/library/functions.html#func-memoryview\"><code class=\"docutils literal notranslate\"><span class=\"pre\">memoryview()</span></code></a></p></td>\n",
    "<td><p><a class=\"reference internal\" href=\"https://docs.python.org/3.7/library/functions.html#func-set\"><code class=\"docutils literal notranslate\"><span class=\"pre\">set()</span></code></a></p></td>\n",
    "</tr>\n",
    "<tr class=\"row-odd\"><td><p><a class=\"reference internal\" href=\"https://docs.python.org/3.7/library/functions.html#all\" title=\"all\"><code class=\"xref py py-func docutils literal notranslate\"><span class=\"pre\">all()</span></code></a></p></td>\n",
    "<td><p><a class=\"reference internal\" href=\"https://docs.python.org/3.7/library/functions.html#func-dict\"><code class=\"docutils literal notranslate\"><span class=\"pre\">dict()</span></code></a></p></td>\n",
    "<td><p><a class=\"reference internal\" href=\"https://docs.python.org/3.7/library/functions.html#help\" title=\"help\"><code class=\"xref py py-func docutils literal notranslate\"><span class=\"pre\">help()</span></code></a></p></td>\n",
    "<td><p><a class=\"reference internal\" href=\"https://docs.python.org/3.7/library/functions.html#min\" title=\"min\"><code class=\"xref py py-func docutils literal notranslate\"><span class=\"pre\">min()</span></code></a></p></td>\n",
    "<td><p><a class=\"reference internal\" href=\"https://docs.python.org/3.7/library/functions.html#setattr\" title=\"setattr\"><code class=\"xref py py-func docutils literal notranslate\"><span class=\"pre\">setattr()</span></code></a></p></td>\n",
    "</tr>\n",
    "<tr class=\"row-even\"><td><p><a class=\"reference internal\" href=\"#any\" title=\"any\"><code class=\"xref py py-func docutils literal notranslate\"><span class=\"pre\">any()</span></code></a></p></td>\n",
    "<td><p><a class=\"reference internal\" href=\"https://docs.python.org/3.7/library/functions.html#dir\" title=\"dir\"><code class=\"xref py py-func docutils literal notranslate\"><span class=\"pre\">dir()</span></code></a></p></td>\n",
    "<td><p><a class=\"reference internal\" href=\"https://docs.python.org/3.7/library/functions.html#hex\" title=\"hex\"><code class=\"xref py py-func docutils literal notranslate\"><span class=\"pre\">hex()</span></code></a></p></td>\n",
    "<td><p><a class=\"reference internal\" href=\"https://docs.python.org/3.7/library/functions.html#next\" title=\"next\"><code class=\"xref py py-func docutils literal notranslate\"><span class=\"pre\">next()</span></code></a></p></td>\n",
    "<td><p><a class=\"reference internal\" href=\"https://docs.python.org/3.7/library/functions.html#slice\" title=\"slice\"><code class=\"xref py py-func docutils literal notranslate\"><span class=\"pre\">slice()</span></code></a></p></td>\n",
    "</tr>\n",
    "<tr class=\"row-odd\"><td><p><a class=\"reference internal\" href=\"#ascii\" title=\"ascii\"><code class=\"xref py py-func docutils literal notranslate\"><span class=\"pre\">ascii()</span></code></a></p></td>\n",
    "<td><p><a class=\"reference internal\" href=\"https://docs.python.org/3.7/library/functions.html#divmod\" title=\"divmod\"><code class=\"xref py py-func docutils literal notranslate\"><span class=\"pre\">divmod()</span></code></a></p></td>\n",
    "<td><p><a class=\"reference internal\" href=\"https://docs.python.org/3.7/library/functions.html#id\" title=\"id\"><code class=\"xref py py-func docutils literal notranslate\"><span class=\"pre\">id()</span></code></a></p></td>\n",
    "<td><p><a class=\"reference internal\" href=\"https://docs.python.org/3.7/library/functions.html#object\" title=\"object\"><code class=\"xref py py-func docutils literal notranslate\"><span class=\"pre\">object()</span></code></a></p></td>\n",
    "<td><p><a class=\"reference internal\" href=\"https://docs.python.org/3.7/library/functions.html#sorted\" title=\"sorted\"><code class=\"xref py py-func docutils literal notranslate\"><span class=\"pre\">sorted()</span></code></a></p></td>\n",
    "</tr>\n",
    "<tr class=\"row-even\"><td><p><a class=\"reference internal\" href=\"#bin\" title=\"bin\"><code class=\"xref py py-func docutils literal notranslate\"><span class=\"pre\">bin()</span></code></a></p></td>\n",
    "<td><p><a class=\"reference internal\" href=\"https://docs.python.org/3.7/library/functions.html#enumerate\" title=\"enumerate\"><code class=\"xref py py-func docutils literal notranslate\"><span class=\"pre\">enumerate()</span></code></a></p></td>\n",
    "<td><p><a class=\"reference internal\" href=\"https://docs.python.org/3.7/library/functions.html#input\" title=\"input\"><code class=\"xref py py-func docutils literal notranslate\"><span class=\"pre\">input()</span></code></a></p></td>\n",
    "<td><p><a class=\"reference internal\" href=\"https://docs.python.org/3.7/library/functions.html#oct\" title=\"oct\"><code class=\"xref py py-func docutils literal notranslate\"><span class=\"pre\">oct()</span></code></a></p></td>\n",
    "<td><p><a class=\"reference internal\" href=\"https://docs.python.org/3.7/library/functions.html#staticmethod\" title=\"staticmethod\"><code class=\"xref py py-func docutils literal notranslate\"><span class=\"pre\">staticmethod()</span></code></a></p></td>\n",
    "</tr>\n",
    "<tr class=\"row-odd\"><td><p><a class=\"reference internal\" href=\"#bool\" title=\"bool\"><code class=\"xref py py-func docutils literal notranslate\"><span class=\"pre\">bool()</span></code></a></p></td>\n",
    "<td><p><a class=\"reference internal\" href=\"https://docs.python.org/3.7/library/functions.html#eval\" title=\"eval\"><code class=\"xref py py-func docutils literal notranslate\"><span class=\"pre\">eval()</span></code></a></p></td>\n",
    "<td><p><a class=\"reference internal\" href=\"https://docs.python.org/3.7/library/functions.html#int\" title=\"int\"><code class=\"xref py py-func docutils literal notranslate\"><span class=\"pre\">int()</span></code></a></p></td>\n",
    "<td><p><a class=\"reference internal\" href=\"https://docs.python.org/3.7/library/functions.html#open\" title=\"open\"><code class=\"xref py py-func docutils literal notranslate\"><span class=\"pre\">open()</span></code></a></p></td>\n",
    "<td><p><a class=\"reference internal\" href=\"https://docs.python.org/3.7/library/functions.html#func-str\"><code class=\"docutils literal notranslate\"><span class=\"pre\">str()</span></code></a></p></td>\n",
    "</tr>\n",
    "<tr class=\"row-even\"><td><p><a class=\"reference internal\" href=\"#breakpoint\" title=\"breakpoint\"><code class=\"xref py py-func docutils literal notranslate\"><span class=\"pre\">breakpoint()</span></code></a></p></td>\n",
    "<td><p><a class=\"reference internal\" href=\"https://docs.python.org/3.7/library/functions.html#exec\" title=\"exec\"><code class=\"xref py py-func docutils literal notranslate\"><span class=\"pre\">exec()</span></code></a></p></td>\n",
    "<td><p><a class=\"reference internal\" href=\"https://docs.python.org/3.7/library/functions.html#isinstance\" title=\"isinstance\"><code class=\"xref py py-func docutils literal notranslate\"><span class=\"pre\">isinstance()</span></code></a></p></td>\n",
    "<td><p><a class=\"reference internal\" href=\"https://docs.python.org/3.7/library/functions.html#ord\" title=\"ord\"><code class=\"xref py py-func docutils literal notranslate\"><span class=\"pre\">ord()</span></code></a></p></td>\n",
    "<td><p><a class=\"reference internal\" href=\"https://docs.python.org/3.7/library/functions.html#sum\" title=\"sum\"><code class=\"xref py py-func docutils literal notranslate\"><span class=\"pre\">sum()</span></code></a></p></td>\n",
    "</tr>\n",
    "<tr class=\"row-odd\"><td><p><a class=\"reference internal\" href=\"#func-bytearray\"><code class=\"docutils literal notranslate\"><span class=\"pre\">bytearray()</span></code></a></p></td>\n",
    "<td><p><a class=\"reference internal\" href=\"https://docs.python.org/3.7/library/functions.html#filter\" title=\"filter\"><code class=\"xref py py-func docutils literal notranslate\"><span class=\"pre\">filter()</span></code></a></p></td>\n",
    "<td><p><a class=\"reference internal\" href=\"https://docs.python.org/3.7/library/functions.html#issubclass\" title=\"issubclass\"><code class=\"xref py py-func docutils literal notranslate\"><span class=\"pre\">issubclass()</span></code></a></p></td>\n",
    "<td><p><a class=\"reference internal\" href=\"https://docs.python.org/3.7/library/functions.html#pow\" title=\"pow\"><code class=\"xref py py-func docutils literal notranslate\"><span class=\"pre\">pow()</span></code></a></p></td>\n",
    "<td><p><a class=\"reference internal\" href=\"https://docs.python.org/3.7/library/functions.html#super\" title=\"super\"><code class=\"xref py py-func docutils literal notranslate\"><span class=\"pre\">super()</span></code></a></p></td>\n",
    "</tr>\n",
    "<tr class=\"row-even\"><td><p><a class=\"reference internal\" href=\"#func-bytes\"><code class=\"docutils literal notranslate\"><span class=\"pre\">bytes()</span></code></a></p></td>\n",
    "<td><p><a class=\"reference internal\" href=\"https://docs.python.org/3.7/library/functions.html#float\" title=\"float\"><code class=\"xref py py-func docutils literal notranslate\"><span class=\"pre\">float()</span></code></a></p></td>\n",
    "<td><p><a class=\"reference internal\" href=\"https://docs.python.org/3.7/library/functions.htmlhttps://docs.python.org/3.7/library/functions.html#iter\" title=\"iter\"><code class=\"xref py py-func docutils literal notranslate\"><span class=\"pre\">iter()</span></code></a></p></td>\n",
    "<td><p><a class=\"reference internal\" href=\"https://docs.python.org/3.7/library/functions.html#print\" title=\"print\"><code class=\"xref py py-func docutils literal notranslate\"><span class=\"pre\">print()</span></code></a></p></td>\n",
    "<td><p><a class=\"reference internal\" href=\"https://docs.python.org/3.7/library/functions.html#func-tuple\"><code class=\"docutils literal notranslate\"><span class=\"pre\">tuple()</span></code></a></p></td>\n",
    "</tr>\n",
    "<tr class=\"row-odd\"><td><p><a class=\"reference internal\" href=\"#callable\" title=\"callable\"><code class=\"xref py py-func docutils literal notranslate\"><span class=\"pre\">callable()</span></code></a></p></td>\n",
    "<td><p><a class=\"reference internal\" href=\"https://docs.python.org/3.7/library/functions.html#format\" title=\"format\"><code class=\"xref py py-func docutils literal notranslate\"><span class=\"pre\">format()</span></code></a></p></td>\n",
    "<td><p><a class=\"reference internal\" href=\"https://docs.python.org/3.7/library/functions.html#len\" title=\"len\"><code class=\"xref py py-func docutils literal notranslate\"><span class=\"pre\">len()</span></code></a></p></td>\n",
    "<td><p><a class=\"reference internal\" href=\"https://docs.python.org/3.7/library/functions.html#property\" title=\"property\"><code class=\"xref py py-func docutils literal notranslate\"><span class=\"pre\">property()</span></code></a></p></td>\n",
    "<td><p><a class=\"reference internal\" href=\"https://docs.python.org/3.7/library/functions.html#type\" title=\"type\"><code class=\"xref py py-func docutils literal notranslate\"><span class=\"pre\">type()</span></code></a></p></td>\n",
    "</tr>\n",
    "<tr class=\"row-even\"><td><p><a class=\"reference internal\" href=\"#chr\" title=\"chr\"><code class=\"xref py py-func docutils literal notranslate\"><span class=\"pre\">chr()</span></code></a></p></td>\n",
    "<td><p><a class=\"reference internal\" href=\"https://docs.python.org/3.7/library/functions.html#func-frozenset\"><code class=\"docutils literal notranslate\"><span class=\"pre\">frozenset()</span></code></a></p></td>\n",
    "<td><p><a class=\"reference internal\" href=\"https://docs.python.org/3.7/library/functions.html#func-list\"><code class=\"docutils literal notranslate\"><span class=\"pre\">list()</span></code></a></p></td>\n",
    "<td><p><a class=\"reference internal\" href=\"https://docs.python.org/3.7/library/functions.html#func-range\"><code class=\"docutils literal notranslate\"><span class=\"pre\">range()</span></code></a></p></td>\n",
    "<td><p><a class=\"reference internal\" href=\"https://docs.python.org/3.7/library/functions.html#vars\" title=\"vars\"><code class=\"xref py py-func docutils literal notranslate\"><span class=\"pre\">vars()</span></code></a></p></td>\n",
    "</tr>\n",
    "<tr class=\"row-odd\"><td><p><a class=\"reference internal\" href=\"#classmethod\" title=\"classmethod\"><code class=\"xref py py-func docutils literal notranslate\"><span class=\"pre\">classmethod()</span></code></a></p></td>\n",
    "<td><p><a class=\"reference internal\" href=\"https://docs.python.org/3.7/library/functions.html#getattr\" title=\"getattr\"><code class=\"xref py py-func docutils literal notranslate\"><span class=\"pre\">getattr()</span></code></a></p></td>\n",
    "<td><p><a class=\"reference internal\" href=\"https://docs.python.org/3.7/library/functions.html#locals\" title=\"locals\"><code class=\"xref py py-func docutils literal notranslate\"><span class=\"pre\">locals()</span></code></a></p></td>\n",
    "<td><p><a class=\"reference internal\" href=\"https://docs.python.org/3.7/library/functions.html#repr\" title=\"repr\"><code class=\"xref py py-func docutils literal notranslate\"><span class=\"pre\">repr()</span></code></a></p></td>\n",
    "<td><p><a class=\"reference internal\" href=\"https://docs.python.org/3.7/library/functions.html#zip\" title=\"zip\"><code class=\"xref py py-func docutils literal notranslate\"><span class=\"pre\">zip()</span></code></a></p></td>\n",
    "</tr>\n",
    "<tr class=\"row-even\"><td><p><a class=\"reference internal\" href=\"#compile\" title=\"compile\"><code class=\"xref py py-func docutils literal notranslate\"><span class=\"pre\">compile()</span></code></a></p></td>\n",
    "<td><p><a class=\"reference internal\" href=\"https://docs.python.org/3.7/library/functions.html#globals\" title=\"globals\"><code class=\"xref py py-func docutils literal notranslate\"><span class=\"pre\">globals()</span></code></a></p></td>\n",
    "<td><p><a class=\"reference internal\" href=\"https://docs.python.org/3.7/library/functions.html#map\" title=\"map\"><code class=\"xref py py-func docutils literal notranslate\"><span class=\"pre\">map()</span></code></a></p></td>\n",
    "<td><p><a class=\"reference internal\" href=\"#reversed\" title=\"reversed\"><code class=\"xref py py-func docutils literal notranslate\"><span class=\"pre\">reversed()</span></code></a></p></td>\n",
    "<td><p><a class=\"reference internal\" href=\"#__import__\" title=\"__import__\"><code class=\"xref py py-func docutils literal notranslate\"><span class=\"pre\">__import__()</span></code></a></p></td>\n",
    "</tr>\n",
    "<tr class=\"row-odd\"><td><p><a class=\"reference internal\" href=\"#complex\" title=\"complex\"><code class=\"xref py py-func docutils literal notranslate\"><span class=\"pre\">complex()</span></code></a></p></td>\n",
    "<td><p><a class=\"reference internal\" href=\"https://docs.python.org/3.7/library/functions.html#hasattr\" title=\"hasattr\"><code class=\"xref py py-func docutils literal notranslate\"><span class=\"pre\">hasattr()</span></code></a></p></td>\n",
    "<td><p><a class=\"reference internal\" href=\"https://docs.python.org/3.7/library/functions.html#max\" title=\"max\"><code class=\"xref py py-func docutils literal notranslate\"><span class=\"pre\">max()</span></code></a></p></td>\n",
    "<td><p><a class=\"reference internal\" href=\"https://docs.python.org/3.7/library/functions.html#round\" title=\"round\"><code class=\"xref py py-func docutils literal notranslate\"><span class=\"pre\">round()</span></code></a></p></td>\n",
    "</tbody>\n",
    "</table>"
   ]
  },
  {
   "cell_type": "markdown",
   "metadata": {},
   "source": [
    "### Some Built-in functions\n",
    "\n",
    "To see which functions are available in python, go the web site https://docs.python.org/3.7/library/functions.html\n",
    "\n",
    "`float(obj)`: convert a string or a number (integer or long integer) into a float number.\n",
    "\n",
    "`int(obj)`: convert a string or a number (integer or long integer) into a integer.\n",
    "\n",
    "`str(num)`: convert a number into a string.\n",
    "\n",
    "`divmod(x,y)`: return the results from  x/y y x%y.\n",
    "\n",
    "`pow(x,y)`: return x to the power  y.\n",
    "\n",
    "`range(start,stop,step)`: return a list of number from start to stop-1 in steps.\n",
    "\n",
    "`round(x,n)`: return a float value x rounding to n digits after the decimal point. If n is omitted, the value per default is zero.\n",
    "\n",
    "`len(obj)`: return the len of  string, lista, tupla o diccionary. \n",
    "\n",
    "### Modules from Python Standard Library\n",
    "\n",
    "We will see more about this functions on the next notebook\n",
    "We will show here just a few from the math module"
   ]
  },
  {
   "cell_type": "code",
   "execution_count": 85,
   "metadata": {},
   "outputs": [
    {
     "data": {
      "text/plain": [
       "1.4142135623730951"
      ]
     },
     "execution_count": 85,
     "metadata": {},
     "output_type": "execute_result"
    }
   ],
   "source": [
    "import math\n",
    "\n",
    "math.sqrt(2)"
   ]
  },
  {
   "cell_type": "code",
   "execution_count": 86,
   "metadata": {},
   "outputs": [
    {
     "data": {
      "text/plain": [
       "4.0"
      ]
     },
     "execution_count": 86,
     "metadata": {},
     "output_type": "execute_result"
    }
   ],
   "source": [
    "math.log10(10000)"
   ]
  },
  {
   "cell_type": "code",
   "execution_count": 87,
   "metadata": {},
   "outputs": [
    {
     "data": {
      "text/plain": [
       "5.0"
      ]
     },
     "execution_count": 87,
     "metadata": {},
     "output_type": "execute_result"
    }
   ],
   "source": [
    "math.hypot(3,4)"
   ]
  },
  {
   "cell_type": "code",
   "execution_count": 88,
   "metadata": {},
   "outputs": [
    {
     "name": "stdout",
     "output_type": "stream",
     "text": [
      "                                  2019\n",
      "\n",
      "      January                   February                   March\n",
      "Mo Tu We Th Fr Sa Su      Mo Tu We Th Fr Sa Su      Mo Tu We Th Fr Sa Su\n",
      "    1  2  3  4  5  6                   1  2  3                   1  2  3\n",
      " 7  8  9 10 11 12 13       4  5  6  7  8  9 10       4  5  6  7  8  9 10\n",
      "14 15 16 17 18 19 20      11 12 13 14 15 16 17      11 12 13 14 15 16 17\n",
      "21 22 23 24 25 26 27      18 19 20 21 22 23 24      18 19 20 21 22 23 24\n",
      "28 29 30 31               25 26 27 28               25 26 27 28 29 30 31\n",
      "\n",
      "       April                      May                       June\n",
      "Mo Tu We Th Fr Sa Su      Mo Tu We Th Fr Sa Su      Mo Tu We Th Fr Sa Su\n",
      " 1  2  3  4  5  6  7             1  2  3  4  5                      1  2\n",
      " 8  9 10 11 12 13 14       6  7  8  9 10 11 12       3  4  5  6  7  8  9\n",
      "15 16 17 18 19 20 21      13 14 15 16 17 18 19      10 11 12 13 14 15 16\n",
      "22 23 24 25 26 27 28      20 21 22 23 24 25 26      17 18 19 20 21 22 23\n",
      "29 30                     27 28 29 30 31            24 25 26 27 28 29 30\n",
      "\n",
      "        July                     August                  September\n",
      "Mo Tu We Th Fr Sa Su      Mo Tu We Th Fr Sa Su      Mo Tu We Th Fr Sa Su\n",
      " 1  2  3  4  5  6  7                1  2  3  4                         1\n",
      " 8  9 10 11 12 13 14       5  6  7  8  9 10 11       2  3  4  5  6  7  8\n",
      "15 16 17 18 19 20 21      12 13 14 15 16 17 18       9 10 11 12 13 14 15\n",
      "22 23 24 25 26 27 28      19 20 21 22 23 24 25      16 17 18 19 20 21 22\n",
      "29 30 31                  26 27 28 29 30 31         23 24 25 26 27 28 29\n",
      "                                                    30\n",
      "\n",
      "      October                   November                  December\n",
      "Mo Tu We Th Fr Sa Su      Mo Tu We Th Fr Sa Su      Mo Tu We Th Fr Sa Su\n",
      "    1  2  3  4  5  6                   1  2  3                         1\n",
      " 7  8  9 10 11 12 13       4  5  6  7  8  9 10       2  3  4  5  6  7  8\n",
      "14 15 16 17 18 19 20      11 12 13 14 15 16 17       9 10 11 12 13 14 15\n",
      "21 22 23 24 25 26 27      18 19 20 21 22 23 24      16 17 18 19 20 21 22\n",
      "28 29 30 31               25 26 27 28 29 30         23 24 25 26 27 28 29\n",
      "                                                    30 31\n",
      "    August 2019\n",
      "Mo Tu We Th Fr Sa Su\n",
      "          1  2  3  4\n",
      " 5  6  7  8  9 10 11\n",
      "12 13 14 15 16 17 18\n",
      "19 20 21 22 23 24 25\n",
      "26 27 28 29 30 31\n"
     ]
    }
   ],
   "source": [
    "import calendar\n",
    "\n",
    "calendar.prcal(2019)\n",
    "calendar.prmonth(2019, 8)"
   ]
  },
  {
   "cell_type": "markdown",
   "metadata": {},
   "source": [
    "### Functions from external modules\n",
    "\n",
    "These functions comes from modules. The way to do so, it is by doing\n",
    "\n",
    "    import module_name\n",
    "\n",
    "once it is imported, we can use the functions contained in this module by using\n",
    "\n",
    "    module_name.existing_funtion(expected_input_variables)\n",
    "\n",
    "some module names can be long or complicated.. you can then use\n",
    "\n",
    "    import module_name as mn\n",
    "\n",
    "and then to use it, you say\n",
    "\n",
    "    mn.existing_funtion(expected_input_variables)\n",
    "\n",
    "if you want to import only few functions from the module, you can say\n",
    "\n",
    "    from stuff import f, g\n",
    "    print f(\"a\"), g(1,2)\n",
    "\n",
    "You can also import all function as\n",
    "\n",
    "    from stuff import *\n",
    "    print f(\"a\"), g(1,2)\n",
    "\n",
    "Combining with the nickname for the module, we can say\n",
    "\n",
    "    from stuff import f as F\n",
    "    from stuff import g as G\n",
    "    print F(\"a\"), G(1,2)"
   ]
  },
  {
   "cell_type": "code",
   "execution_count": 89,
   "metadata": {},
   "outputs": [
    {
     "name": "stdout",
     "output_type": "stream",
     "text": [
      "3.0\n",
      "Ingrese un numero positivo\n",
      "1.4142135623730951\n"
     ]
    }
   ],
   "source": [
    "import math\n",
    "\n",
    "def myroot(num):\n",
    "    if num<0:\n",
    "         print(\"Ingrese un numero positivo\")\n",
    "         return\n",
    "    print(math.sqrt(num))\n",
    "\n",
    "# main\n",
    "myroot(9)\n",
    "myroot(-8)\n",
    "myroot(2)"
   ]
  },
  {
   "cell_type": "code",
   "execution_count": 90,
   "metadata": {},
   "outputs": [
    {
     "name": "stdout",
     "output_type": "stream",
     "text": [
      "11\n"
     ]
    }
   ],
   "source": [
    "def addthem(x,y):\n",
    "   return x+y\n",
    "\n",
    "# main\n",
    "add = addthem(5,6) # La llamada a la funcion\n",
    "print(add)"
   ]
  },
  {
   "cell_type": "markdown",
   "metadata": {},
   "source": [
    "We can declare functions with optional parameters. NOTE: The optional parameteres NEED to be always at the end"
   ]
  },
  {
   "cell_type": "code",
   "execution_count": 2,
   "metadata": {},
   "outputs": [
    {
     "name": "stdout",
     "output_type": "stream",
     "text": [
      "(11, -1, 30, 0.8333333333333334)\n",
      "12 4 32 2.0\n",
      "17 -1 160 0.4\n"
     ]
    }
   ],
   "source": [
    "def operations(x,y,z=None):\n",
    "    if (z==None):\n",
    "        sum = x+y\n",
    "        rest = x-y\n",
    "        prod= x*y\n",
    "        div = x/y \n",
    "    else:\n",
    "        sum = z+x+y\n",
    "        rest = x-y-z\n",
    "        prod= x*y*z\n",
    "        div = x/y/z \n",
    "    return sum,rest,prod,div\n",
    "\n",
    "# main\n",
    "print(operations(5,6))\n",
    "a,b,c,d = operations(8,4)\n",
    "print(a,b,c,d)\n",
    "a,b,c,d = operations(8,4,5)\n",
    "print(a,b,c,d)"
   ]
  },
  {
   "cell_type": "markdown",
   "metadata": {},
   "source": [
    "We can even pass a function to a variable and we can pass this to other function (this is called functional programming)"
   ]
  },
  {
   "cell_type": "code",
   "execution_count": 4,
   "metadata": {},
   "outputs": [
    {
     "name": "stdout",
     "output_type": "stream",
     "text": [
      "Flag is true\n",
      "(11, -1, 30, 0.8333333333333334)\n"
     ]
    }
   ],
   "source": [
    "def operations(x,y,z=None,flag=False):\n",
    "    if (flag == True):\n",
    "        print(\"Flag is true\")\n",
    "    if (z==None):\n",
    "        sum = x+y\n",
    "        rest = x-y\n",
    "        prod= x*y\n",
    "        div = x/y \n",
    "    else:\n",
    "        sum = z+x+y\n",
    "        rest = x-y-z\n",
    "        prod= x*y*z\n",
    "        div = x/y/z \n",
    "    return sum,rest,prod,div\n",
    "print(operations(5,6,flag=True))"
   ]
  },
  {
   "cell_type": "markdown",
   "metadata": {},
   "source": [
    "## Practical Example No. 1: Fibonacci Sequences and Golden Ratio"
   ]
  },
  {
   "cell_type": "markdown",
   "metadata": {},
   "source": [
    "At this point you have seen enough material to start doing some initial scientific computiong. Lets start applying all that you have learned up to now.\n",
    "\n",
    "For this introduction to Python language, we will use the Fibonacci Sequence as an excuse to start using the basics of the language. \n",
    "\n",
    "The Fibonacci sequence is a series of numbers generatated iteratively like this\n",
    "\n",
    "$F_n=F_{n-1}+F_{n-2}$\n",
    "\n",
    "where we can start with seeds $F_0=0$ and $F_1=1$\n",
    "\n",
    "Starting with those seeds we can compute $F_2$, $F_3$ and so on until an arbitrary large $F_n$\n",
    "\n",
    "The Fibonacci Sequence looks like this:\n",
    "\n",
    "$$0,\\; 1,\\;1,\\;2,\\;3,\\;5,\\;8,\\;13,\\;21,\\;34,\\;55,\\;89,\\;144,\\; \\ldots\\; $$\n",
    "\n",
    "Lets play with this in our first Python program."
   ]
  },
  {
   "cell_type": "markdown",
   "metadata": {},
   "source": [
    "Lets start by defining the first two elements in the Fibonacci series"
   ]
  },
  {
   "cell_type": "code",
   "execution_count": 92,
   "metadata": {},
   "outputs": [],
   "source": [
    "a = 0\n",
    "b = 1"
   ]
  },
  {
   "cell_type": "markdown",
   "metadata": {},
   "source": [
    "We now know that we can get a new variable to store the sum of `a` and `b`"
   ]
  },
  {
   "cell_type": "code",
   "execution_count": 93,
   "metadata": {},
   "outputs": [],
   "source": [
    "c = a + b"
   ]
  },
  {
   "cell_type": "markdown",
   "metadata": {},
   "source": [
    "Remember that the built-in function `range()` will create an iterable"
   ]
  },
  {
   "cell_type": "code",
   "execution_count": 94,
   "metadata": {
    "scrolled": true
   },
   "outputs": [
    {
     "data": {
      "text/plain": [
       "range(0, 10)"
      ]
     },
     "execution_count": 94,
     "metadata": {},
     "output_type": "execute_result"
    }
   ],
   "source": [
    "range(10)"
   ]
  },
  {
   "cell_type": "markdown",
   "metadata": {},
   "source": [
    "In Python 3.x, if you want to see the values explicitly, you have to convert it into a list, using the function 'list()'. \n",
    "Both works basically the same way for the level of this tutorial."
   ]
  },
  {
   "cell_type": "code",
   "execution_count": 95,
   "metadata": {},
   "outputs": [
    {
     "data": {
      "text/plain": [
       "[0, 1, 2, 3, 4, 5, 6, 7, 8, 9]"
      ]
     },
     "execution_count": 95,
     "metadata": {},
     "output_type": "execute_result"
    }
   ],
   "source": [
    "list(range(10))"
   ]
  },
  {
   "cell_type": "markdown",
   "metadata": {},
   "source": [
    "Now we can introduce a `for` using the iterable range(10) loop to see the first 10 elements in the Fibonacci sequence"
   ]
  },
  {
   "cell_type": "code",
   "execution_count": 96,
   "metadata": {},
   "outputs": [
    {
     "name": "stdout",
     "output_type": "stream",
     "text": [
      "0\n",
      "1\n",
      "1\n",
      "2\n",
      "3\n",
      "5\n",
      "8\n",
      "13\n",
      "21\n",
      "34\n",
      "55\n",
      "89\n"
     ]
    }
   ],
   "source": [
    "a = 0\n",
    "b = 1\n",
    "print(a)\n",
    "print(b)\n",
    "for i in range(10):\n",
    "    c = a+b\n",
    "    print(c)\n",
    "    a = b\n",
    "    b = c"
   ]
  },
  {
   "cell_type": "markdown",
   "metadata": {},
   "source": [
    "This is a simple way to iteratively generating the Fibonacci sequence. Now, imagine that we want to store the values of the sequence. \n",
    "Lists are the best containers so far, there are better options with `Numpy` something that we will see later. \n",
    "We can just use the append method for list and continuously add new numbers to the list.\n"
   ]
  },
  {
   "cell_type": "code",
   "execution_count": 97,
   "metadata": {},
   "outputs": [
    {
     "name": "stdout",
     "output_type": "stream",
     "text": [
      "[0, 1, 1, 2, 3, 5, 8, 13, 21, 34, 55, 89]\n"
     ]
    }
   ],
   "source": [
    "fib = [0, 1]\n",
    "for i in range(1,11):\n",
    "    fib.append(fib[i]+fib[i-1])\n",
    "print(fib)"
   ]
  },
  {
   "cell_type": "markdown",
   "metadata": {},
   "source": [
    "The append method works by adding the element at the end of the list. \n",
    "\n",
    "Lets continue with the creation of a Fibonacci function.\n",
    "We can create a fibonacci function to return the fibonacci number for an arbitrary iteration, see for example:"
   ]
  },
  {
   "cell_type": "code",
   "execution_count": 98,
   "metadata": {},
   "outputs": [],
   "source": [
    "def fibonacci_recursive(n):\n",
    "    if n < 2:\n",
    "        return n\n",
    "    else:\n",
    "        return fibonacci_recursive(n-2) + fibonacci_recursive(n-1)"
   ]
  },
  {
   "cell_type": "code",
   "execution_count": 99,
   "metadata": {},
   "outputs": [
    {
     "data": {
      "text/plain": [
       "8"
      ]
     },
     "execution_count": 99,
     "metadata": {},
     "output_type": "execute_result"
    }
   ],
   "source": [
    "fibonacci_recursive(6)"
   ]
  },
  {
   "cell_type": "markdown",
   "metadata": {},
   "source": [
    "We can recreate the list using this function, see the next code:"
   ]
  },
  {
   "cell_type": "code",
   "execution_count": 100,
   "metadata": {},
   "outputs": [
    {
     "name": "stdout",
     "output_type": "stream",
     "text": [
      "[0, 1, 1, 2, 3, 5, 8, 13, 21, 34, 55, 89, 144, 233, 377, 610, 987, 1597, 2584, 4181]\n"
     ]
    }
   ],
   "source": [
    "print([ fibonacci_recursive(n) for n in range (20) ])"
   ]
  },
  {
   "cell_type": "markdown",
   "metadata": {},
   "source": [
    "We are using a list comprehension. There is another way to obtain the same result using the so called lambda functions:"
   ]
  },
  {
   "cell_type": "code",
   "execution_count": 101,
   "metadata": {},
   "outputs": [
    {
     "name": "stdout",
     "output_type": "stream",
     "text": [
      "[0, 1, 1, 2, 3, 5, 8, 13, 21, 34, 55, 89, 144, 233, 377, 610, 987, 1597, 2584, 4181]\n"
     ]
    }
   ],
   "source": [
    "print(list(map(lambda x: fibonacci_recursive(x), range(20))))"
   ]
  },
  {
   "cell_type": "markdown",
   "metadata": {},
   "source": [
    "lambda functions are some sort of anonymous functions. They are indeed very popular in functional programming and Python with its multiparadigm style makes lambda functions common place in many situations.\n",
    "\n",
    "Using fibonacci_recursive is a very inefficient of generate the Fibonacci sequence even more as n increases. The larger the value of n more calls to fibonacci_recursive are necessary. \n",
    "\n",
    "There is an elegant solucion to use the redundant recursion:"
   ]
  },
  {
   "cell_type": "code",
   "execution_count": 102,
   "metadata": {},
   "outputs": [],
   "source": [
    "def fibonacci_fastrec(n):\n",
    "    def fib(prvprv, prv, c):\n",
    "        if c < 1: return prvprv\n",
    "        else: return fib(prv, prvprv + prv, c - 1) \n",
    "    return fib(0, 1, n)"
   ]
  },
  {
   "cell_type": "code",
   "execution_count": 103,
   "metadata": {},
   "outputs": [
    {
     "name": "stdout",
     "output_type": "stream",
     "text": [
      "[0, 1, 1, 2, 3, 5, 8, 13, 21, 34, 55, 89, 144, 233, 377, 610, 987, 1597, 2584, 4181]\n"
     ]
    }
   ],
   "source": [
    "print([ fibonacci_fastrec(n) for n in range (20) ])"
   ]
  },
  {
   "cell_type": "markdown",
   "metadata": {},
   "source": [
    "This solution is still recursive but avoiding the two fold recursion from the first function.\n",
    "With IPython we can use the magic `%timeit` to benchmark the difference between both implementations"
   ]
  },
  {
   "cell_type": "code",
   "execution_count": 104,
   "metadata": {},
   "outputs": [
    {
     "name": "stdout",
     "output_type": "stream",
     "text": [
      "40.8 µs ± 1.01 µs per loop (mean ± std. dev. of 7 runs, 10000 loops each)\n"
     ]
    }
   ],
   "source": [
    "%timeit [fibonacci_fastrec(n) for n in range (20)]"
   ]
  },
  {
   "cell_type": "code",
   "execution_count": 105,
   "metadata": {},
   "outputs": [
    {
     "name": "stdout",
     "output_type": "stream",
     "text": [
      "4.88 ms ± 326 µs per loop (mean ± std. dev. of 7 runs, 100 loops each)\n"
     ]
    }
   ],
   "source": [
    "%timeit [fibonacci_recursive(n) for n in range (20)]"
   ]
  },
  {
   "cell_type": "markdown",
   "metadata": {},
   "source": [
    "%timeit is not a Python command. It is a magic command of IPython, however Python itself provides a more restritive functionality. This can be provided with the time package as:"
   ]
  },
  {
   "cell_type": "code",
   "execution_count": 106,
   "metadata": {},
   "outputs": [
    {
     "name": "stdout",
     "output_type": "stream",
     "text": [
      "hello\n",
      "0.0001690387725830078\n"
     ]
    }
   ],
   "source": [
    "import time\n",
    "\n",
    "start = time.time()\n",
    "print(\"hello\")\n",
    "end = time.time()\n",
    "print(end - start)"
   ]
  },
  {
   "cell_type": "markdown",
   "metadata": {},
   "source": [
    "Finally, there is also an analytical expression for the Fibonacci sequence, so the entire recursion could be avoided."
   ]
  },
  {
   "cell_type": "code",
   "execution_count": 107,
   "metadata": {},
   "outputs": [],
   "source": [
    "from math import sqrt\n",
    " \n",
    "def analytic_fibonacci(n):\n",
    "    if n == 0:\n",
    "        return 0\n",
    "    else:\n",
    "        sqrt_5 = sqrt(5);\n",
    "        p = (1 + sqrt_5) / 2;\n",
    "        q = 1/p;\n",
    "        return int( (p**n + q**n) / sqrt_5 + 0.5 )\n",
    " "
   ]
  },
  {
   "cell_type": "code",
   "execution_count": 108,
   "metadata": {},
   "outputs": [
    {
     "name": "stdout",
     "output_type": "stream",
     "text": [
      "[0, 1, 1, 2, 3, 5, 8, 13, 21, 34, 55, 89, 144, 233, 377, 610, 987, 1597, 2584, 4181, 6765, 10946, 17711, 28657, 46368, 75025, 121393, 196418, 317811, 514229, 832040, 1346269, 2178309, 3524578, 5702887, 9227465, 14930352, 24157817, 39088169, 63245986]\n"
     ]
    }
   ],
   "source": [
    "print([ analytic_fibonacci(n) for n in range (40) ])"
   ]
  },
  {
   "cell_type": "code",
   "execution_count": 109,
   "metadata": {},
   "outputs": [
    {
     "name": "stdout",
     "output_type": "stream",
     "text": [
      "28.5 µs ± 3.28 µs per loop (mean ± std. dev. of 7 runs, 10000 loops each)\n"
     ]
    }
   ],
   "source": [
    "%timeit [analytic_fibonacci(n) for n in range (40)]"
   ]
  },
  {
   "cell_type": "markdown",
   "metadata": {},
   "source": [
    "There is an interesting property of the Fibonacci sequence, the ratio between consecutive elements converges to a finite value, the so called golden number. Let us store this ratio number in a list as the Fibonacci series grow. Here we introduce the function zip() from Python. zip() is used to map the similar index of multiple containers so that they can be used just using as single entity. As zip is not easy to understand and before we describe the fibonacci method, let me give you a simple example of using zip"
   ]
  },
  {
   "cell_type": "code",
   "execution_count": 233,
   "metadata": {},
   "outputs": [
    {
     "name": "stdout",
     "output_type": "stream",
     "text": [
      "The zipped result is : {('the Fibonacci', 2, 377), ('am', 1, 233), ('I', 1, 144), ('Series', 3, 610)}\n",
      "First string : ('the Fibonacci', 'am', 'I', 'Series')\n",
      "Second string : (2, 1, 1, 3)\n",
      "Third string : (377, 233, 144, 610)\n"
     ]
    }
   ],
   "source": [
    "# initializing lists \n",
    "sentence = [ \"I\", \"am\", \"the Fibonacci\", \"Series\" ] \n",
    "first_serie = [ 1, 1, 2, 3 ] \n",
    "second_serie = [ 144, 233, 377, 610 ] \n",
    "  \n",
    "mapped = zip(sentence, first_serie,second_serie) \n",
    "  \n",
    "# converting values to print as set \n",
    "mapped = set(mapped) \n",
    "   \n",
    "print (\"The zipped result is : \",end=\"\") \n",
    "print (mapped) \n",
    "\n",
    "# Unzipping means converting the zipped values back to the individual self as they were. \n",
    "# This is done with the help of “*” operator.\n",
    "\n",
    "s1, s2, s3 = zip(*mapped) \n",
    "\n",
    "print (\"First string : \",end=\"\") \n",
    "print (s1) \n",
    "  \n",
    "print (\"Second string : \",end=\"\") \n",
    "print (s2) \n",
    "  \n",
    "print (\"Third string : \",end=\"\") \n",
    "print (s3) \n"
   ]
  },
  {
   "cell_type": "markdown",
   "metadata": {},
   "source": [
    "Now let us go back to Fibonacci"
   ]
  },
  {
   "cell_type": "code",
   "execution_count": 110,
   "metadata": {},
   "outputs": [
    {
     "data": {
      "text/plain": [
       "[1.0,\n",
       " 2.0,\n",
       " 1.5,\n",
       " 1.6666666666666667,\n",
       " 1.6,\n",
       " 1.625,\n",
       " 1.6153846153846154,\n",
       " 1.619047619047619,\n",
       " 1.6176470588235294,\n",
       " 1.6181818181818182,\n",
       " 1.6179775280898876,\n",
       " 1.6180555555555556,\n",
       " 1.6180257510729614,\n",
       " 1.6180371352785146,\n",
       " 1.618032786885246,\n",
       " 1.618034447821682,\n",
       " 1.6180338134001253,\n",
       " 1.618034055727554,\n",
       " 1.6180339631667064,\n",
       " 1.6180339985218033,\n",
       " 1.618033985017358,\n",
       " 1.6180339901755971,\n",
       " 1.618033988205325,\n",
       " 1.618033988957902,\n",
       " 1.6180339886704431,\n",
       " 1.6180339887802426,\n",
       " 1.618033988738303,\n",
       " 1.6180339887543225,\n",
       " 1.6180339887482036,\n",
       " 1.6180339887505408,\n",
       " 1.6180339887496482,\n",
       " 1.618033988749989,\n",
       " 1.618033988749859,\n",
       " 1.6180339887499087,\n",
       " 1.6180339887498896,\n",
       " 1.618033988749897,\n",
       " 1.618033988749894,\n",
       " 1.6180339887498951]"
      ]
     },
     "execution_count": 110,
     "metadata": {},
     "output_type": "execute_result"
    }
   ],
   "source": [
    "fib= [fibonacci_fastrec(n) for n in range (40)]\n",
    "X=[ x/y for x,y in zip(fib[2:],fib[1:-1]) ]\n",
    "X"
   ]
  },
  {
   "cell_type": "markdown",
   "metadata": {},
   "source": [
    "The asymptotic value of the ratio is called the Golden Ratio, its value is $\\varphi = \\frac{1+\\sqrt{5}}{2} = 1.6180339887\\ldots.$"
   ]
  },
  {
   "cell_type": "code",
   "execution_count": 111,
   "metadata": {},
   "outputs": [],
   "source": [
    "import math\n",
    "\n",
    "golden=(1+math.sqrt(5))/2"
   ]
  },
  {
   "cell_type": "markdown",
   "metadata": {},
   "source": [
    "We can now plot how each ratio in the Fibonacci sequence is closer and closer to the gloden ratio"
   ]
  },
  {
   "cell_type": "code",
   "execution_count": 112,
   "metadata": {},
   "outputs": [],
   "source": [
    "import matplotlib.pyplot as plt\n",
    "\n",
    "plt.semilogy([math.fabs(x - golden) for x in X]);"
   ]
  },
  {
   "cell_type": "markdown",
   "metadata": {},
   "source": [
    "#### Functional Programming"
   ]
  },
  {
   "cell_type": "markdown",
   "metadata": {},
   "source": [
    "Before we discuss object oriented programming, it will be useful to discuss functional programming. This is the ability in python that a function can be called by another function. There are several existing cases in python."
   ]
  },
  {
   "cell_type": "code",
   "execution_count": 33,
   "metadata": {},
   "outputs": [
    {
     "name": "stdout",
     "output_type": "stream",
     "text": [
      "<map object at 0x7f8c475890d0>\n",
      "[0.2994317941011436, 0.2064064137666729, 0.4364727062007059, 0.29724062966754383, 0.6945301791124053, 0.18946304207676024, 0.9079177040431745, 0.3092527077175665, 0.47458878328279275, 0.8371554987670669, 0.5831544626314061, 0.48631274444720174, 0.2987219007928583, 0.15602408779559773, 0.20812856054714923, 0.3436860552724196, 0.203080665475334, 0.6815937212152641, 0.011276010682612858, 0.5877725777552603]\n"
     ]
    }
   ],
   "source": [
    "#map() function\n",
    "import numpy as np\n",
    "a=np.random.rand(20)\n",
    "b=np.random.rand(20)\n",
    "#here min is an existing function that compare two arguments, we can even create a function and use it in map\n",
    "lower=map(min,a,b)\n",
    "# this is an example of lazy evaluation, this is now an object, we will see the result only when we ask for the\n",
    "# result.\n",
    "print(lower)\n",
    "#now let us see what is inside\n",
    "print(list(lower))"
   ]
  },
  {
   "cell_type": "code",
   "execution_count": 38,
   "metadata": {},
   "outputs": [
    {
     "name": "stdout",
     "output_type": "stream",
     "text": [
      "6\n",
      "phone 333333\n",
      "email al@gmail.com\n"
     ]
    }
   ],
   "source": [
    "#lambda this is a method to define a function in a single line\n",
    "#in this example we define a function that received three parameters and summ them up.\n",
    "myfunction=lambda a,b,c: a+b+c\n",
    "print(myfunction(1,2,3))\n",
    "\n",
    "#another example\n",
    "a=[\"phone:333333\",\"email:al@gmail.com\"]\n",
    "for a in a:\n",
    "    print((lambda x: x.split(\":\")[0] + ' ' + x.split(\":\")[-1])(a))"
   ]
  }
 ],
 "metadata": {
  "kernelspec": {
   "display_name": "Python 3",
   "language": "python",
   "name": "python3"
  },
  "language_info": {
   "codemirror_mode": {
    "name": "ipython",
    "version": 3
   },
   "file_extension": ".py",
   "mimetype": "text/x-python",
   "name": "python",
   "nbconvert_exporter": "python",
   "pygments_lexer": "ipython3",
   "version": "3.7.7"
  }
 },
 "nbformat": 4,
 "nbformat_minor": 2
}
