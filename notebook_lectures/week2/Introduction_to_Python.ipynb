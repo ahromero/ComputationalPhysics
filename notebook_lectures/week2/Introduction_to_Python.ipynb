{
 "cells": [
  {
   "cell_type": "markdown",
   "metadata": {},
   "source": [
    " <div style=\"clear: both; display: table;\">\n",
    "  <div style=\"border: none; float: left; width: 60%; padding: 5px\">\n",
    "  <h1 id=\"subtitle\">Chapter 1: Python Syntax</h1>\n",
    "  <h2 id=\"subtitle\">Guillermo Avendaño Franco<br>Aldo Humberto Romero</h2>\n",
    "  <br>\n",
    "  <img src=\"fig/1-line logotype124-295.png\" alt=\"Scientific Computing with Python\" style=\"width:50%\" align=\"left\">\n",
    "  </div>\n",
    "  <div style=\"border: none; float: left; width: 30%; padding: 5px\">\n",
    "  <img src=\"fig/SCPython.png\" alt=\"Scientific Computing with Python\" style=\"width:100%\">\n",
    "  </div>\n",
    "</div>\n",
    "\n",
    "Adapted by **Guillermo Avendaño** (WVU), **Jose Rogan** (Universidad de Chile) and **Aldo Humberto Romero** (WVU) from the [Tutorials for Stanford cs228 and cs231n](https://github.com/kuleshov/cs228-material). A large parte of the info was also built from scratch. In turn, that material was adapted by [Volodymyr Kuleshov](http://web.stanford.edu/~kuleshov/) and [Isaac Caswell](https://symsys.stanford.edu/viewing/symsysaffiliate/21335) from the `CS231n` Python tutorial by Justin Johnson (http://cs231n.github.io/python-numpy-tutorial/). Another good resource, in particular if you want to just look for answer to specific question is [planetpython.org](http:planetpython.org), in particular for data science.\n",
    "\n",
    "Changes to the original tutorial include strict Python 3 formats and split of the material to fit a series of lessons on Python Programming for WVU's faculty and graduate students.\n",
    "\n",
    "The support of the National Science Foundation and the US Department of Energy under projects: DMREF-NSF 1434897, NSF OAC-1740111 and DOE DE-SC0016176 is recognized.\n",
    "\n",
    "<div style=\"clear: both; display: table;\">\n",
    "<div style=\"border: none; float: left; width: 40%; padding: 10px\">\n",
    "<img src=\"fig/NSF.jpg\" alt=\"National Science Foundation\" style=\"width:50%\" align=\"left\">\n",
    "    </div>\n",
    "    <div style=\"border: none; float: right; width: 40%; padding: 10px\">\n",
    "<img src=\"fig/DOE.jpg\" alt=\"National Science Foundation\" style=\"width:50%\" align=\"right\">\n",
    "</div>"
   ]
  },
  {
   "cell_type": "markdown",
   "metadata": {},
   "source": [
    "## Table of Contents\n",
    "\n",
    "Python is a great general-purpose programming language on its own. \n",
    "This episode is focused on the Python Syntax. \n",
    "Python is a general purpose programming language. It is interpreted and dynamically typed and is very suited for interactive work and quick prototyping, while being powerful enough to write large applications in.\n",
    "The lesson is particularly oriented to Scientific Computing. \n",
    "Other episodes in the series include:\n",
    "\n",
    "  * **Python Syntax \\[This notebook\\]**\n",
    "  * The Python Standard Library\n",
    "  * Numpy\n",
    "  * Matplotlib\n",
    "  * Scipy \n",
    "  * Pandas\n",
    "  * Cython\n",
    "\n",
    "After completing all the series in this lesson you will realize that python has become a powerful environment for scientific computing at several levels, from intereactive computing to scripting to big project developments."
   ]
  },
  {
   "cell_type": "markdown",
   "metadata": {},
   "source": [
    "## Setup"
   ]
  },
  {
   "cell_type": "code",
   "execution_count": 1,
   "metadata": {},
   "outputs": [],
   "source": [
    "%load_ext watermark"
   ]
  },
  {
   "cell_type": "code",
   "execution_count": 2,
   "metadata": {
    "scrolled": false
   },
   "outputs": [
    {
     "name": "stdout",
     "output_type": "stream",
     "text": [
      "2019-09-23T07:15:34-05:00\n",
      "\n",
      "CPython 3.7.4\n",
      "IPython 7.6.1\n",
      "\n",
      "compiler   : Clang 10.0.1 (clang-1001.0.46.4)\n",
      "system     : Darwin\n",
      "release    : 18.7.0\n",
      "machine    : x86_64\n",
      "processor  : i386\n",
      "CPU cores  : 8\n",
      "interpreter: 64bit\n"
     ]
    }
   ],
   "source": [
    "%watermark"
   ]
  },
  {
   "cell_type": "markdown",
   "metadata": {},
   "source": [
    "Some code boxes uses `input` function. To test the entire notebook without asking for entries, the input function can be disable setting the variable below to False"
   ]
  },
  {
   "cell_type": "code",
   "execution_count": 3,
   "metadata": {},
   "outputs": [],
   "source": [
    "use_input=False"
   ]
  },
  {
   "cell_type": "markdown",
   "metadata": {},
   "source": [
    "# Introduction"
   ]
  },
  {
   "cell_type": "markdown",
   "metadata": {},
   "source": [
    " <div style=\"clear: both; display: table;\">\n",
    " <div style=\"border: none; float: left; width: 60%; padding: 5px\">\n",
    "\n",
    "[Python](http://www.python.org/) is a multiparadigm, general-purpose, interpreted, high-level programming language. \n",
    "\n",
    "Python is **multiparadigm** because it supports multiple programming paradigms, including procedural, object-oriented, and functional programming. \n",
    "\n",
    "Python is dynamically typed and garbage-collected and due to its comprehensive standard library, Python is a **general purpose** language often described as a having the \"batteries included\"\n",
    "\n",
    "Python is an **interpreted** language, which precludes the need to compile code before executing a program because Python does the compilation in the background. \n",
    "\n",
    "Because Python is a **high-level programming language**, it abstracts many sophisticated details from the programming code. Python focuses so much on this abstraction that its code can be understood by most novice programmers.\n",
    "\n",
    "Python was conceived in the late 1980s by [Guido van Rossum](https://en.wikipedia.org/wiki/Guido_van_Rossum) at Centrum Wiskunde \\& Informatica (CWI) in the Netherlands as a successor to the ABC language (itself inspired by SETL), capable of exception handling and interfacing with the Amoeba operating system. Its implementation began in December 1989. Van Rossum continued as Python's lead developer until July 12, 2018, when he announced his \"permanent vacation\" from his responsibilities as Python's **Benevolent Dictator For Life (BDFL)**, a title the Python community bestowed upon him to reflect his long-term commitment as the project's chief decision-maker. In January, 2019, active Python core developers elected Brett Cannon, Nick Coghlan, Barry Warsaw, Carol Willing and Van Rossum to a five-member \"Steering Council\" to lead the project.\n",
    "\n",
    "Guido named his language Python as a tribute to the British comedy group [Monty Python](https://en.wikipedia.org/wiki/Monty_Python) and not a reference to reptiles. However, logos and other media use stylize versions of reptiles in reference to Python.\n",
    "\n",
    "One consequence of the Monty Python original reference, tutorials and examples refer to spam and eggs (from a famous Monty Python sketch) instead of the standard foo and bar.\n",
    "\n",
    "The official language website is\n",
    "[http://www.python.org](http://www.python.org).\n",
    "\n",
    "  </div>\n",
    "  <div style=\"border: none; float: left; width: 40%; padding: 5px\">\n",
    "  <img alt=\"Guido van Rossum\" src=\"fig/GvanR.jpg\" />\n",
    "  </div>\n",
    "</div>\n",
    "\n",
    "<img width=\"100%\" alt=\"Python Webpage\" src=\"fig/python_web.png\" />"
   ]
  },
  {
   "cell_type": "markdown",
   "metadata": {},
   "source": [
    "## Zen of Python\n",
    "\n",
    "<font color=\"brown\">Python</font> users refer frequently <font color=\"brown\">Python</font> philosophy.\n",
    "These principles of philosophy were written by the <font color=\"brown\">Python</font> developer, Tim Peters,\n",
    "in the [Zen of Python](https://www.python.org/dev/peps/pep-0020/):\n",
    "\n",
    "<p align=\"right\">\n",
    "    <img width=\"300\" alt=\"Zen of Python\" align=\"right\" src=\"fig/zen-of-pythonT.png\" />\n",
    "</p>\n",
    "<ul>\n",
    "<li> Beautiful is better than ugly. </li>\n",
    "<li> Explicit is better than implicit. </li>\n",
    "<li> Simple is better than complex. </li>\n",
    "<li> Complex is better than complicated. </li>\n",
    "<li> Flat is better than nested.</li> \n",
    "<li> Sparse is better than dense. </li>\n",
    "<li> Readability counts. </li>\n",
    "<li> Special cases aren't special enough to break the rules. </li>\n",
    "<li> Although practicality beats purity. </li>\n",
    "<li> Errors should never pass silently. </li>\n",
    "<li> Unless explicitly silenced. </li>\n",
    "<li> In the face of ambiguity, refuse the temptation to guess. </li>\n",
    "<li> There should be one-- and preferably only one --obvious way to do it. </li>\n",
    "<li> Although that way may not be obvious at first unless you're Dutch.  </li>\n",
    "<li> Now is better than never. </li>\n",
    "<li> Although never is often better than *right* now.  </li>\n",
    "<li> If the implementation is hard to explain, it's a bad idea. </li>\n",
    "<li> If the implementation is easy to explain, it may be a good idea. </li>\n",
    "<li> Namespaces are one honking great idea -- let's do more of those!  </li>\n",
    "</ul>"
   ]
  },
  {
   "cell_type": "markdown",
   "metadata": {},
   "source": [
    "## Python in bulleted lists\n",
    "\n",
    "### Key characteristics of Python:\n",
    "\n",
    "* **clean and simple language:** (KISS principle) Easy-to-read and intuitive code, minimalistic syntax, scales well with projects.\n",
    "* **expressive language:** Fewer lines of code, fewer bugs, easier to maintain.\n",
    "* **multiparadigm:** Including object-oriented, imperative and functional programming or procedural styles. \n",
    "* **standard library:** Large and comprehensive set of functions that runs consistently where Python runs.\n",
    "\n",
    "### Technical details:\n",
    "\n",
    "* **dynamically typed:** No need to define the type of variables, function arguments or return types.\n",
    "* **automatic memory management:** No need to explicitly allocate and deallocate memory for variables and data arrays (Like _malloc_ in C). \n",
    "* **interpreted:** No need to compile the code. The Python interpreter reads and executes the python code directly. \n",
    "\n",
    "### Advantages\n",
    "\n",
    "* The main advantage is ease of programming, minimizing the time required to develop, debug and maintain the code.\n",
    "* Well designed language that encourage many good programming practices:\n",
    "* Modular and object-oriented programming, good system for packaging and re-use of code. This often results in more transparent, maintainable and bug-free code.\n",
    "* Documentation tightly integrated with the code (Documentation is usually accessed by different means and depending on the interface used, as scripting, notebooks, etc).\n",
    "* A large standard library, and a large collection of add-on packages.\n",
    "\n",
    "### Disadvantages\n",
    "\n",
    "* Since Python is an interpreted and dynamically typed programming language, the execution of python code can be slow compared to compiled statically typed programming languages, such as C and Fortran. \n",
    "* Lacks an standard GUI, there are several.\n",
    "* There are still two versions in use are 2.7.16 and 3.7.4 (July 2019). This could be confusing to new users as code in Python 2.7 is not compatible with Python 3.x due to some scattered but important differences. However, from January 1st 2020 Python 2.x will not longer be supported so you should focus on learning Python 3.x. All these notebooks are compatible only with Python 3.x\n"
   ]
  },
  {
   "cell_type": "markdown",
   "metadata": {},
   "source": [
    "## Optimizing what?"
   ]
  },
  {
   "cell_type": "markdown",
   "metadata": {},
   "source": [
    "Ok, what exactly do you want to optimize? The computer time (time that your code will be running on the machine) or the user time (time you need to write the code) or the time waiting for results to be obtained ?\n",
    "If you devote too much time hard programming in a language like C or Fortran, probably someone else will do it faster, the code could run slower but she/he will get\n",
    "the results sooner, like publish first and will receive a new grant to hire more people for her/his group.\n",
    "\n",
    "Now, what its efficiency?\n",
    "\n"
   ]
  },
  {
   "cell_type": "markdown",
   "metadata": {},
   "source": [
    "<img src=\"fig/optimizing-what.png\" width=\"600\">\n",
    "\n",
    "([from Johansson's Scientific Python Lectures](http://jrjohansson.github.io/) )\n",
    "\n",
    "That is the reason why Python has a strong position in scientific computing.\n",
    "You start getting results very early during development process. \n",
    "With time and effort you can improve performance and getting close to lower level programming languages.\n",
    "\n",
    "From the other hand working with low level languages like C or Fortran you have to write quite an amount of code to start getting the first results."
   ]
  },
  {
   "cell_type": "markdown",
   "metadata": {},
   "source": [
    "## Programmer or Scripter\n",
    "\n",
    "You do not need to be a Python Programmer to actually use and take advantage of Python for your own research.\n",
    "Have you ever found doing the same operation in a computer over and over again?, simply because you do not know how to do it differently.\n",
    "\n",
    "Scripts are not bad programs, they are simply quick and dirt, pieces of code that help you save your brain to better purposes.\n",
    "They are dirty because, typically they are not commented, they are not actively maintained, no unitary tests, no continuous integration, no test-farms, nothing of such things that world-class software usually has.\n",
    "\n",
    "For programs, there are those who write programs, integrated pieces of code that are intended to be used independently. There are also those who write libraries, set of functions, classes, routines, methods, as you prefer to call them. Those are the building blocks of larger structures, such as programs or other libraries.\n",
    "\n",
    "As a scientist that uses computing to pursue your research, you could be doing scripts, doing programs or doing libraries. There is nothing pejorative in doing scripts, and there is nothing derogatory in using scripting languages. The important is the science, get the job done and move forward.\n",
    "\n",
    "In addition to Scripts and Programs, Python can be used in interactive computing. This document that you see right now was created as a Jupyter notebook. If you are reading it from an active Jupyter instance, you can execute this boxes."
   ]
  },
  {
   "cell_type": "markdown",
   "metadata": {},
   "source": [
    "## Testing your Python Environment (I)"
   ]
  },
  {
   "cell_type": "markdown",
   "metadata": {},
   "source": [
    "We will now explore a little bit about how things work in python. The purpose of this section is two-fold, give you a quick overview of the kind of things that you can do with Python and allow to test if those things work for you, in particular the external libraries that could still not be present in your system. The most basic thing you can do is use the Python interpreter as a calculator, test for example:"
   ]
  },
  {
   "cell_type": "code",
   "execution_count": 1,
   "metadata": {},
   "outputs": [
    {
     "data": {
      "text/plain": [
       "365"
      ]
     },
     "execution_count": 1,
     "metadata": {},
     "output_type": "execute_result"
    }
   ],
   "source": [
    "31*7 + 30*4 + 28"
   ]
  },
  {
   "cell_type": "markdown",
   "metadata": {},
   "source": [
    "Old calculators use to fail with this:"
   ]
  },
  {
   "cell_type": "code",
   "execution_count": 5,
   "metadata": {},
   "outputs": [
    {
     "data": {
      "text/plain": [
       "11978571669969891796072783721689098736458938142546425857555362864628009582789845319680000000000000000"
      ]
     },
     "execution_count": 5,
     "metadata": {},
     "output_type": "execute_result"
    }
   ],
   "source": [
    "import math\n",
    "math.factorial(70)"
   ]
  },
  {
   "cell_type": "code",
   "execution_count": 6,
   "metadata": {},
   "outputs": [
    {
     "data": {
      "text/plain": [
       "1.1978571669969892e+100"
      ]
     },
     "execution_count": 6,
     "metadata": {},
     "output_type": "execute_result"
    }
   ],
   "source": [
    "float(math.factorial(70))"
   ]
  },
  {
   "cell_type": "markdown",
   "metadata": {},
   "source": [
    "This is called list comprehension, we will discuss them in more detail later on. I search for a very obfuscating case indeed!"
   ]
  },
  {
   "cell_type": "code",
   "execution_count": 7,
   "metadata": {},
   "outputs": [
    {
     "name": "stdout",
     "output_type": "stream",
     "text": [
      "[2, 3, 5, 7, 11, 13, 17, 19, 23, 29, 31, 37, 41, 43, 47, 53, 59, 61, 67, 71, 73, 79, 83, 89, 97]\n"
     ]
    }
   ],
   "source": [
    "n = 100 \n",
    "primes = [prime for prime in range(2, n) if prime not in \n",
    "          [noprimes for i in range(2, int(n**0.5)) for noprimes in \n",
    "           range(i * 2, n, i)]]\n",
    "print(primes)"
   ]
  },
  {
   "cell_type": "markdown",
   "metadata": {},
   "source": [
    "You can know wich version of Python you are using"
   ]
  },
  {
   "cell_type": "code",
   "execution_count": 8,
   "metadata": {},
   "outputs": [
    {
     "name": "stdout",
     "output_type": "stream",
     "text": [
      "3.7.4 (default, Jul 11 2019, 01:08:00) \n",
      "[Clang 10.0.1 (clang-1001.0.46.4)]\n"
     ]
    }
   ],
   "source": [
    "import sys\n",
    "print(sys.version)"
   ]
  },
  {
   "cell_type": "markdown",
   "metadata": {},
   "source": [
    "# Python Syntax I: Variables"
   ]
  },
  {
   "cell_type": "markdown",
   "metadata": {},
   "source": [
    "Let us start with something very simple and then we will focus on different useful packages"
   ]
  },
  {
   "cell_type": "code",
   "execution_count": 9,
   "metadata": {},
   "outputs": [
    {
     "name": "stdout",
     "output_type": "stream",
     "text": [
      "Hello Word\n"
     ]
    }
   ],
   "source": [
    "print(\"Hello Word\")  # Here I am adding a comment on the same line\n",
    "# Comments like these will not do anything"
   ]
  },
  {
   "cell_type": "markdown",
   "metadata": {},
   "source": [
    "## Variable types, names and reserved words"
   ]
  },
  {
   "cell_type": "raw",
   "metadata": {},
   "source": [
    "var=8                # Integer     \n",
    "k=23434235234L       # Long integer\n",
    "pi=3.14              # float\n",
    "z=1.5+0.5j           # Complex\n",
    "hi=\"Hellow world\"    # String\n",
    "truth=True           # Boolean\n",
    "\n",
    "# Assignation to an operation\n",
    "area=pi\\*3.0\\*3.0"
   ]
  },
  {
   "cell_type": "markdown",
   "metadata": {},
   "source": [
    "Variables can have any name but you can not use reserved language names as:\n",
    "\n",
    "<table> \n",
    "<tr>\n",
    "<td style=\"font-size:150%;\"> and       </td>\n",
    "<td style=\"font-size:150%;\"> as        </td>\n",
    "<td style=\"font-size:150%;\"> assert    </td>\n",
    "<td style=\"font-size:150%;\" > break    </td>\n",
    "<td style=\"font-size:150%;\"> class     </td>\n",
    "<td style=\"font-size:150%;\"> continue  </td>\n",
    "<td style=\"font-size:150%;\"> def       </td>\n",
    "</tr>\n",
    "<tr>\n",
    "<td style=\"font-size:150%;\"> del       </td>\n",
    "<td style=\"font-size:150%;\"> elif      </td>\n",
    "<td style=\"font-size:150%;\"> else      </td>\n",
    "<td style=\"font-size:150%;\"> except    </td>\n",
    "<td style=\"font-size:150%;\"> False     </td>\n",
    "<td style=\"font-size:150%;\"> finally   </td>\n",
    "<td style=\"font-size:150%;\"> for       </td>\n",
    "</tr>\n",
    "<tr>\n",
    "<td style=\"font-size:150%;\"> from      </td>\n",
    "<td style=\"font-size:150%;\"> global    </td>\n",
    "<td style=\"font-size:150%;\"> if        </td>\n",
    "<td style=\"font-size:150%;\"> import    </td>\n",
    "<td style=\"font-size:150%;\"> in        </td>\n",
    "<td style=\"font-size:150%;\"> is        </td>\n",
    "<td style=\"font-size:150%;\"> lambda    </td>\n",
    "</tr>\n",
    "<tr>\n",
    "<td style=\"font-size:150%;\"> None      </td>\n",
    "<td style=\"font-size:150%;\"> nonlocal  </td>\n",
    "<td style=\"font-size:150%;\"> not       </td>\n",
    "<td style=\"font-size:150%;\"> or        </td>\n",
    "<td style=\"font-size:150%;\"> pass      </td>\n",
    "<td style=\"font-size:150%;\"> print     </td>\n",
    "<td style=\"font-size:150%;\"> raise     </td>\n",
    "</tr>\n",
    "<tr>\n",
    "<td style=\"font-size:150%;\"> return    </td>\n",
    "<td style=\"font-size:150%;\"> True      </td>\n",
    "<td style=\"font-size:150%;\"> try       </td>\n",
    "<td style=\"font-size:150%;\"> while     </td>\n",
    "<td style=\"font-size:150%;\"> with      </td>\n",
    "<td style=\"font-size:150%;\"> yield     </td>\n",
    "<td style=\"font-size:150%;\">           </td>\n",
    "</tr>\n",
    "</table>\n",
    "\n",
    "They can not start by a number\n",
    "\n",
    "They could not include illegal charaters such as % & + - =, etc\n",
    "\n",
    "Names in upper-case are considered different than those in lower-case \n",
    "\n",
    "Now some examples of simple things you should know"
   ]
  },
  {
   "cell_type": "code",
   "execution_count": 10,
   "metadata": {},
   "outputs": [
    {
     "name": "stdout",
     "output_type": "stream",
     "text": [
      "2.5 2.5 2.5\n"
     ]
    }
   ],
   "source": [
    "x=y=z=2.5\n",
    "print(x,y,z)"
   ]
  },
  {
   "cell_type": "code",
   "execution_count": 11,
   "metadata": {},
   "outputs": [
    {
     "name": "stdout",
     "output_type": "stream",
     "text": [
      "1 2 3\n"
     ]
    }
   ],
   "source": [
    "a,b,c=1,2,3\n",
    "print(a,b,c)"
   ]
  },
  {
   "cell_type": "code",
   "execution_count": 12,
   "metadata": {},
   "outputs": [
    {
     "name": "stdout",
     "output_type": "stream",
     "text": [
      "2 3\n"
     ]
    }
   ],
   "source": [
    "a,b=b,a+b\n",
    "print(a,b)"
   ]
  },
  {
   "cell_type": "markdown",
   "metadata": {},
   "source": [
    "In this tutorial, we will cover:\n",
    "\n",
    "* Basic data types\n",
    "* Methods\n",
    "* Classes"
   ]
  },
  {
   "cell_type": "markdown",
   "metadata": {},
   "source": [
    "## Python's compact syntax: The quicksort algorithm"
   ]
  },
  {
   "cell_type": "markdown",
   "metadata": {},
   "source": [
    "Python is a high-level, dynamically typed multiparadigm programming language. \n",
    "Python code is often said to be almost like pseudocode, since it allows you to express very powerful ideas in very few lines of code while being very readable. \n",
    "\n",
    "<br>\n",
    "<div style=\"clear: both; display: table;\">\n",
    "<div style=\"border: none; float: left; width: 60%; padding: 0px\">\n",
    "\n",
    "The quicksort algorithm is a classical algorithm for sorting a list of values. Developed by British computer scientist Tony Hoare in 1959 and published in 1961, quicksort is still a commonly used algorithm for sorting. When implemented well, it can be about two or three times faster than its main competitors, merge sort and heapsort.\n",
    "\n",
    "The steps to sort a list are these:\n",
    "\n",
    "  1. Choose any element of the array to be the pivot.\n",
    "\n",
    "  2. Divide all other elements (except the pivot) into two partitions.\n",
    "\n",
    "  3. All elements less than the pivot must be in the first partition.\n",
    "\n",
    "  4. All elements greater than the pivot must be in the second partition.\n",
    "\n",
    "  5. Use recursion to sort both partitions.\n",
    "\n",
    "  6. Join the first sorted partition, the pivot, and the second sorted partition.\n",
    "  </div>\n",
    "  <div style=\"border: none; float: left; width: 40%; padding: 5px\">\n",
    "  <img src=\"fig/Sorting_quicksort_anim.gif\" alt=\"QuickSort Algorithm\" style=\"width:100%\">\n",
    "  </div>\n",
    "</div>\n",
    "\n",
    "As an example, here is an implementation of the classic quicksort algorithm in Python:"
   ]
  },
  {
   "cell_type": "code",
   "execution_count": 13,
   "metadata": {},
   "outputs": [
    {
     "name": "stdout",
     "output_type": "stream",
     "text": [
      "[1, 1, 2, 3, 6, 8, 10]\n"
     ]
    }
   ],
   "source": [
    "def quicksort(arr):\n",
    "    if len(arr) <= 1:\n",
    "        return arr\n",
    "    pivot = arr[len(arr) // 2]\n",
    "    left = [x for x in arr if x < pivot]\n",
    "    middle = [x for x in arr if x == pivot]\n",
    "    right = [x for x in arr if x > pivot]\n",
    "    return quicksort(left) + middle + quicksort(right)\n",
    "\n",
    "print(quicksort([3,6,8,10,1,2,1]))"
   ]
  },
  {
   "cell_type": "markdown",
   "metadata": {},
   "source": [
    "As comparison look for a equivalent version of the same algorithm implemented in C, based on a similar implementation on  [RosettaCode](http://www.rosettacode.org/wiki/Sorting_algorithms/Quicksort#C)"
   ]
  },
  {
   "cell_type": "raw",
   "metadata": {},
   "source": [
    "#include <stdio.h>\n",
    " \n",
    "void quicksort(int *A, int len);\n",
    " \n",
    "int main (void) {\n",
    "  int a[] = {3,6,8,10,1,2,1};\n",
    "  int n = sizeof a / sizeof a[0];\n",
    " \n",
    "  int i;\n",
    "  for (i = 0; i < n; i++) {\n",
    "    printf(\"%d \", a[i]);\n",
    "  }\n",
    "  printf(\"\\n\");\n",
    " \n",
    "  quicksort(a, n);\n",
    " \n",
    "  for (i = 0; i < n; i++) {\n",
    "    printf(\"%d \", a[i]);\n",
    "  }\n",
    "  printf(\"\\n\");\n",
    " \n",
    "  return 0;\n",
    "}\n",
    " \n",
    "void quicksort(int *A, int len) {\n",
    "  if (len < 2) return;\n",
    " \n",
    "  int pivot = A[len / 2];\n",
    " \n",
    "  int i, j;\n",
    "  for (i = 0, j = len - 1; ; i++, j--) {\n",
    "    while (A[i] < pivot) i++;\n",
    "    while (A[j] > pivot) j--;\n",
    " \n",
    "    if (i >= j) break;\n",
    " \n",
    "    int temp = A[i];\n",
    "    A[i]     = A[j];\n",
    "    A[j]     = temp;\n",
    "  }\n",
    " \n",
    "  quicksort(A, i);\n",
    "  quicksort(A + i, len - i);\n",
    "}"
   ]
  },
  {
   "cell_type": "markdown",
   "metadata": {},
   "source": [
    "On the most important benefits of Python is how compact the notation can be and how easy is to write code that otherwise requires not only more coding, but also compilation. \n",
    "\n",
    "Python, however is in general much slower that C or Fortran. There are ways to alleviate this as we will see when start using libraries like numpy and Cython."
   ]
  },
  {
   "cell_type": "markdown",
   "metadata": {},
   "source": [
    "## Python versions"
   ]
  },
  {
   "cell_type": "markdown",
   "metadata": {},
   "source": [
    "There are currently two different versions of Python, 2.x and 3.x. Python 3.x introduced many backwards-incompatible changes to the language, so code written for 2.x in general does not work under 3.x and vice versa. \n",
    "\n",
    "By the time of writing this notebook (July 2019) the last version Python 2.x is 2.7.16 (March 4, 2019) and Python 3.x\n",
    "is 3.7.4 (July 8, 2019). Python 2.7 will not be maintained past 2020 and this notebook and all the notebooks in this series are intended to be used with Python 3.5+\n",
    "\n",
    "You can check your Python version at the command line by running `python --version`.\n",
    "\n",
    "Another way of cheching the version from inside the notebook is using:"
   ]
  },
  {
   "cell_type": "code",
   "execution_count": 14,
   "metadata": {},
   "outputs": [
    {
     "name": "stdout",
     "output_type": "stream",
     "text": [
      "3.7.4 (default, Jul 11 2019, 01:08:00) \n",
      "[Clang 10.0.1 (clang-1001.0.46.4)]\n"
     ]
    }
   ],
   "source": [
    "import sys\n",
    "print(sys.version)"
   ]
  },
  {
   "cell_type": "markdown",
   "metadata": {},
   "source": [
    "At the end of this notebook youw will see a few key differences between Python 2.x and 3.x"
   ]
  },
  {
   "cell_type": "markdown",
   "metadata": {},
   "source": [
    "## Basic data types"
   ]
  },
  {
   "cell_type": "markdown",
   "metadata": {},
   "source": [
    "### Numbers"
   ]
  },
  {
   "cell_type": "markdown",
   "metadata": {},
   "source": [
    "Integers and floats work as you would expect from other languages:"
   ]
  },
  {
   "cell_type": "code",
   "execution_count": 15,
   "metadata": {},
   "outputs": [
    {
     "name": "stdout",
     "output_type": "stream",
     "text": [
      "3 <class 'int'>\n"
     ]
    }
   ],
   "source": [
    "x = 3\n",
    "print(x, type(x))"
   ]
  },
  {
   "cell_type": "code",
   "execution_count": 16,
   "metadata": {},
   "outputs": [
    {
     "name": "stdout",
     "output_type": "stream",
     "text": [
      "4\n",
      "2\n",
      "6\n",
      "9\n"
     ]
    }
   ],
   "source": [
    "print(x + 1)   # Addition;\n",
    "print(x - 1)   # Subtraction;\n",
    "print(x * 2)   # Multiplication;\n",
    "print(x ** 2)  # Exponentiation;"
   ]
  },
  {
   "cell_type": "code",
   "execution_count": 17,
   "metadata": {},
   "outputs": [
    {
     "name": "stdout",
     "output_type": "stream",
     "text": [
      "4\n",
      "8\n"
     ]
    }
   ],
   "source": [
    "x += 1\n",
    "print(x)  # Prints \"4\"\n",
    "x *= 2\n",
    "print(x)  # Prints \"8\""
   ]
  },
  {
   "cell_type": "code",
   "execution_count": 18,
   "metadata": {},
   "outputs": [
    {
     "name": "stdout",
     "output_type": "stream",
     "text": [
      "<class 'float'>\n",
      "2.5 3.5 5.0 6.25\n"
     ]
    }
   ],
   "source": [
    "y = 2.5\n",
    "print(type(y)) # Prints \"<type 'float'>\"\n",
    "print(y, y + 1, y * 2, y ** 2) # Prints \"2.5 3.5 5.0 6.25\""
   ]
  },
  {
   "cell_type": "markdown",
   "metadata": {},
   "source": [
    "Note that unlike many languages, Python does not have unary increment (x++) or decrement (x--) operators.\n",
    "\n",
    "Python also has built-in types for long integers and complex numbers; you can find all of the details in the [documentation](https://docs.python.org/2/library/stdtypes.html#numeric-types-int-float-long-complex)."
   ]
  },
  {
   "cell_type": "markdown",
   "metadata": {},
   "source": [
    "## Basic Mathematical Operations\n",
    "\n",
    "* With <font color=\"brown\">Python</font> we can do the following basic operations:\n",
    "  \n",
    "Addition (<code><font color=brown>+</font></code>), substraction\n",
    "(<code><font color=brown>-</font></code>), multiplication\n",
    "(<code><font color=brown>*</font></code>) and división (<code><font color=brown>/</font></code>).\n",
    "\n",
    "* Other less common:\n",
    "\n",
    "Exponentiation (<code><font color=brown>**</font></code>), \n",
    "integer division (<code><font color=brown>//</font></code>) o \n",
    "module (<code><font color=brown>%</font></code>).\n",
    "\n",
    "\n",
    "### Precedence of Operations\n",
    "\n",
    "* PEDMAS\n",
    "    * **P**arenthesis\n",
    "    * **E**xponents\n",
    "    * **D**ivision and **M**ultiplication.\n",
    "    * **A**ddition and **S**ubstraction\n",
    "* From left to right.\n",
    "\n",
    "Let see some examples:"
   ]
  },
  {
   "cell_type": "code",
   "execution_count": 19,
   "metadata": {},
   "outputs": [
    {
     "name": "stdout",
     "output_type": "stream",
     "text": [
      "4\n",
      "1\n",
      "2.0\n"
     ]
    }
   ],
   "source": [
    "print((3-1)*2)\n",
    "print(3-1 *2)\n",
    "print(1/2*4)"
   ]
  },
  {
   "cell_type": "markdown",
   "metadata": {},
   "source": [
    "#### Booleans"
   ]
  },
  {
   "cell_type": "markdown",
   "metadata": {},
   "source": [
    "Python implements all of the usual operators for Boolean logic, but uses English words rather than symbols (`&&`, `||`, etc.):"
   ]
  },
  {
   "cell_type": "code",
   "execution_count": 20,
   "metadata": {},
   "outputs": [
    {
     "name": "stdout",
     "output_type": "stream",
     "text": [
      "<class 'bool'>\n"
     ]
    }
   ],
   "source": [
    "t, f = True, False\n",
    "print(type(t)) # Prints \"<type 'bool'>\""
   ]
  },
  {
   "cell_type": "markdown",
   "metadata": {},
   "source": [
    "Now we let's look at the operations:"
   ]
  },
  {
   "cell_type": "code",
   "execution_count": 21,
   "metadata": {},
   "outputs": [
    {
     "name": "stdout",
     "output_type": "stream",
     "text": [
      "False\n",
      "True\n",
      "False\n",
      "True\n"
     ]
    }
   ],
   "source": [
    "print(t and f) # Logical AND;\n",
    "print(t or f)  # Logical OR;\n",
    "print(not t)   # Logical NOT;\n",
    "print(t != f)  # Logical XOR;"
   ]
  },
  {
   "cell_type": "code",
   "execution_count": 22,
   "metadata": {},
   "outputs": [
    {
     "name": "stdout",
     "output_type": "stream",
     "text": [
      "False\n",
      "True\n"
     ]
    }
   ],
   "source": [
    "a=10\n",
    "b=20\n",
    "print (a==b)\n",
    "print (a!=b)"
   ]
  },
  {
   "cell_type": "code",
   "execution_count": 23,
   "metadata": {},
   "outputs": [
    {
     "name": "stdout",
     "output_type": "stream",
     "text": [
      "False\n",
      "True\n",
      "False\n",
      "True\n"
     ]
    }
   ],
   "source": [
    "a=10\n",
    "b=20\n",
    "print (a>b)\n",
    "print (a<b)\n",
    "print (a>=b)\n",
    "#print (a=>b) # Error de sintaxis\n",
    "print (a<=b)"
   ]
  },
  {
   "cell_type": "markdown",
   "metadata": {},
   "source": [
    "#### Strings"
   ]
  },
  {
   "cell_type": "code",
   "execution_count": 24,
   "metadata": {},
   "outputs": [
    {
     "name": "stdout",
     "output_type": "stream",
     "text": [
      "hello 5\n"
     ]
    }
   ],
   "source": [
    "hello = 'hello'   # String literals can use single quotes\n",
    "world = \"world\"   # or double quotes; it does not matter.\n",
    "print(hello, len(hello))"
   ]
  },
  {
   "cell_type": "code",
   "execution_count": 25,
   "metadata": {},
   "outputs": [
    {
     "name": "stdout",
     "output_type": "stream",
     "text": [
      "hello world\n"
     ]
    }
   ],
   "source": [
    "hw = hello + ' ' + world  # String concatenation\n",
    "print(hw)  # prints \"hello world\""
   ]
  },
  {
   "cell_type": "code",
   "execution_count": 26,
   "metadata": {},
   "outputs": [
    {
     "name": "stdout",
     "output_type": "stream",
     "text": [
      "hello world 12\n"
     ]
    }
   ],
   "source": [
    "hw12 = '%s %s %d' % (hello, world, 12)  # sprintf style string formatting\n",
    "print(hw12)  # prints \"hello world 12\""
   ]
  },
  {
   "cell_type": "markdown",
   "metadata": {},
   "source": [
    "String objects have a bunch of useful methods; for example:"
   ]
  },
  {
   "cell_type": "code",
   "execution_count": 27,
   "metadata": {},
   "outputs": [
    {
     "name": "stdout",
     "output_type": "stream",
     "text": [
      "Monty python\n",
      "MONTY PYTHON\n",
      "monty python\n",
      ">|                            Monty Python|<\n",
      ">|              Monty Python              |<\n",
      "Mont(wye) P(wye)thon\n",
      ">|Monty Python|<\n"
     ]
    }
   ],
   "source": [
    "s = \"Monty Python\"\n",
    "print(s.capitalize())  # Capitalize a string; prints \"Monty python\"\n",
    "print(s.upper())       # Convert a string to uppercase; prints \"MONTY PYTHON\"\n",
    "print(s.lower())       # Convert a string to lowercase; prints \"monty python\"\n",
    "print('>|'+s.rjust(40)+'|<')    # Right-justify a string, padding with spaces\n",
    "print('>|'+s.center(40)+'|<')   # Center a string, padding with spaces\n",
    "print(s.replace('y', '(wye)'))  # Replace all instances of one substring with another;\n",
    "                                # prints \"Mont(wye) P(wye)thon\"\n",
    "\n",
    "print('>|'+'      Monty Python    '.strip()+'|<')  # Strip leading and trailing whitespace"
   ]
  },
  {
   "cell_type": "markdown",
   "metadata": {},
   "source": [
    "We can see a more general picture on how to slice a string as \n",
    "\n",
    "\n",
    "<img width=\"700\" alt=\"No fig directory\" src=\"fig/string-slicing.png\" />"
   ]
  },
  {
   "cell_type": "code",
   "execution_count": 13,
   "metadata": {},
   "outputs": [
    {
     "name": "stdout",
     "output_type": "stream",
     "text": [
      "Pyth\n",
      "Mont\n",
      " Python\n",
      "ot y\n",
      "nohtyP ytnoM\n",
      "['a', 'b', 'c']\n"
     ]
    },
    {
     "data": {
      "text/plain": [
       "['my', 'My', 'my', 'My']"
      ]
     },
     "execution_count": 13,
     "metadata": {},
     "output_type": "execute_result"
    }
   ],
   "source": [
    "#  strings I\n",
    "\n",
    "word = \"Monty Python\"\n",
    "part = word[6:10]\n",
    "print (part)\n",
    "part = word[:4]\n",
    "print(part)\n",
    "part = word[5:]\n",
    "print(part)\n",
    "part = word[1:8:2] # from 1 to 8 in spaces of 2\n",
    "print(part)\n",
    "rev = word [::-1]\n",
    "print(rev)\n",
    "text = 'a,b,c'\n",
    "text = text.split(',')\n",
    "print(text)\n",
    "\n",
    "c1=\"my.My.my.My\"\n",
    "c2=\"name\"\n",
    "c1+c2\n",
    "c1*3\n",
    "c1.split(\".\")"
   ]
  },
  {
   "cell_type": "code",
   "execution_count": null,
   "metadata": {},
   "outputs": [],
   "source": [
    "Python uses UTF"
   ]
  },
  {
   "cell_type": "markdown",
   "metadata": {},
   "source": [
    "You can find a list of all string methods in the [Python 3.7 Language Documentation](https://docs.python.org/3.7/library/stdtypes.html#string-methods)."
   ]
  },
  {
   "cell_type": "markdown",
   "metadata": {},
   "source": [
    "### Printing"
   ]
  },
  {
   "cell_type": "code",
   "execution_count": 29,
   "metadata": {},
   "outputs": [
    {
     "name": "stdout",
     "output_type": "stream",
     "text": [
      "Hellow word!\n",
      "\n",
      "21\n"
     ]
    }
   ],
   "source": [
    "print(\"Hellow word!\")\n",
    "print()\n",
    "print(7*3)"
   ]
  },
  {
   "cell_type": "code",
   "execution_count": 30,
   "metadata": {},
   "outputs": [
    {
     "name": "stdout",
     "output_type": "stream",
     "text": [
      "Your names is :  Elizabeth\n",
      "\n",
      "Average :  6.5\n",
      "1 2 3 4 "
     ]
    }
   ],
   "source": [
    "name = \"Elizabeth\"\n",
    "print(\"Your names is : \", name)\n",
    "print()\n",
    "grade = 19.5\n",
    "neval = 3\n",
    "print(\"Average : \", grade/neval),\n",
    "# array \n",
    "a = [1, 2, 3, 4] \n",
    "  \n",
    "# printing a element in same \n",
    "# line \n",
    "for i in range(4): \n",
    "    print(a[i], end =\" \")  "
   ]
  },
  {
   "cell_type": "markdown",
   "metadata": {},
   "source": [
    "### printf-style String Formatting"
   ]
  },
  {
   "cell_type": "markdown",
   "metadata": {},
   "source": [
    "<table> \n",
    "<tr>\n",
    "<td style=\"font-size:150%;\"> %s     </td>\n",
    "<td style=\"font-size:150%;\"> &emsp;&emsp;&emsp;      </td>\n",
    "<td style=\"font-size:150%;\"> *<font color=green>string</font>*.    </td>\n",
    "</tr>\n",
    "<tr>\n",
    "<td style=\"font-size:150%;\"> %d  </td>\n",
    "<td style=\"font-size:150%;\">     </td>\n",
    "<td style=\"font-size:150%;\"> integer. </td>\n",
    "</tr>\n",
    "<tr>\n",
    "<td style=\"font-size:150%;\"> %0xd </td>\n",
    "<td style=\"font-size:150%;\">      </td>\n",
    "<td style=\"font-size:150%;\"> an integer with x zeros from the left. </td>\n",
    "</tr>\n",
    "<tr>\n",
    "<td style=\"font-size:150%;\"> %f </td>\n",
    "<td style=\"font-size:150%;\">    </td>\n",
    "<td style=\"font-size:150%;\"> decimal notation with six digits.  </td>\n",
    "</tr>\n",
    "<tr>\n",
    "<td style=\"font-size:150%;\"> %e    </td>\n",
    "<td style=\"font-size:150%;\">       </td>\n",
    "<td style=\"font-size:150%;\"> scientific notation (compact) with <code><font color=brown>e</font></code> in the exponent. </td>\n",
    "</tr>\n",
    " <tr>\n",
    "<td style=\"font-size:150%;\"> %E    </td>\n",
    "<td style=\"font-size:150%;\">       </td>\n",
    "<td style=\"font-size:150%;\"> scientific notation (compact) with <code><font color=brown>E</font></code> in the exponent. </td>\n",
    "</tr>\n",
    "<tr>\n",
    "<td style=\"font-size:150%;\"> %g    </td>\n",
    "<td style=\"font-size:150%;\">       </td>\n",
    "<td style=\"font-size:150%;\"> decimal or scientific notation with  <code><font color=brown>e</font></code> in the exponent. </td>\n",
    "</tr>\n",
    "<tr>\n",
    "<td style=\"font-size:150%;\"> %G    </td>\n",
    "<td style=\"font-size:150%;\">       </td>\n",
    "<td style=\"font-size:150%;\"> decimal or scientific notation with <code><font color=brown>E</font></code> in the exponent. </td>\n",
    "</tr>\n",
    "<tr>\n",
    "<td style=\"font-size:150%;\"> %xz    </td>\n",
    "<td style=\"font-size:150%;\">       </td>\n",
    "<td style=\"font-size:150%;\"> format z adjusted to the rigth in a field of width x. </td>\n",
    "</tr>\n",
    "<tr>\n",
    "<td style=\"font-size:150%;\"> %-xz    </td>\n",
    "<td style=\"font-size:150%;\">       </td>\n",
    "<td style=\"font-size:150%;\"> format z adjusted to the left in a field of width x. </td>\n",
    "</tr>\n",
    "<tr>\n",
    "<td style=\"font-size:150%;\"> %.yz    </td>\n",
    "<td style=\"font-size:150%;\">       </td>\n",
    "<td style=\"font-size:150%;\"> format z with y digits. </td>\n",
    "</tr>\n",
    "    <tr>\n",
    "<td style=\"font-size:150%;\"> %x.yz    </td>\n",
    "<td style=\"font-size:150%;\">       </td>\n",
    "<td style=\"font-size:150%;\"> format z with y digits in afield of width x . </td>\n",
    "</tr>\n",
    "    <tr>\n",
    "<td style=\"font-size:150%;\"> %%    </td>\n",
    "<td style=\"font-size:150%;\">       </td>\n",
    "<td style=\"font-size:150%;\"> percentage sign.</td>\n",
    "</tr>\n",
    "</table>"
   ]
  },
  {
   "cell_type": "code",
   "execution_count": 31,
   "metadata": {},
   "outputs": [
    {
     "name": "stdout",
     "output_type": "stream",
     "text": [
      "|  15, 3.1416|\n",
      "3.141590e+00, 3.14159\n",
      "|Hiii, Hiii,  Hiii,       Hiii|\n"
     ]
    }
   ],
   "source": [
    "n = 15          # Int\n",
    "r = 3.14159     # Float\n",
    "s = \"Hiii\"      # String\n",
    "print(\"|%4d, %6.4f|\"% (n,r))                  \n",
    "print(\"%e, %g\" % (r,r))                          \n",
    "print(\"|%2s, %4s, %5s, %10s|\" % (s, s, s ,s))  "
   ]
  },
  {
   "cell_type": "markdown",
   "metadata": {},
   "source": [
    "# Python Syntax II: Containers, loops and conditionals"
   ]
  },
  {
   "cell_type": "markdown",
   "metadata": {},
   "source": [
    "Python includes several built-in container types: lists, dictionaries, sets, and tuples.\n",
    "They are particularly ueful when you are working with loops and conditionals. We will cover all these language elements here"
   ]
  },
  {
   "cell_type": "markdown",
   "metadata": {},
   "source": [
    "## Lists"
   ]
  },
  {
   "cell_type": "markdown",
   "metadata": {},
   "source": [
    "A list is the Python equivalent of an array, but is resizeable and can contain elements of different types:"
   ]
  },
  {
   "cell_type": "code",
   "execution_count": 32,
   "metadata": {},
   "outputs": [
    {
     "name": "stdout",
     "output_type": "stream",
     "text": [
      "[3, 1, 2] 2\n",
      "2\n"
     ]
    }
   ],
   "source": [
    "xs = [3, 1, 2]    # Create a list\n",
    "print(xs, xs[2])\n",
    "print(xs[-1])     # Negative indices count from the end of the list; prints \"2\""
   ]
  },
  {
   "cell_type": "code",
   "execution_count": 33,
   "metadata": {},
   "outputs": [
    {
     "name": "stdout",
     "output_type": "stream",
     "text": [
      "[3, 1, 'spam']\n"
     ]
    }
   ],
   "source": [
    "xs[2] = 'spam'     # Lists can contain elements of different types\n",
    "print(xs)"
   ]
  },
  {
   "cell_type": "code",
   "execution_count": 34,
   "metadata": {},
   "outputs": [
    {
     "name": "stdout",
     "output_type": "stream",
     "text": [
      "[3, 1, 'spam', 'eggs']\n"
     ]
    }
   ],
   "source": [
    "xs.append('eggs')  # Add a new element to the end of the list\n",
    "print(xs)  "
   ]
  },
  {
   "cell_type": "code",
   "execution_count": 35,
   "metadata": {},
   "outputs": [
    {
     "name": "stdout",
     "output_type": "stream",
     "text": [
      "eggs [3, 1, 'spam']\n"
     ]
    }
   ],
   "source": [
    "x = xs.pop()      # Remove and return the last element of the list\n",
    "print(x, xs) "
   ]
  },
  {
   "cell_type": "code",
   "execution_count": 36,
   "metadata": {},
   "outputs": [
    {
     "name": "stdout",
     "output_type": "stream",
     "text": [
      "rhombus\n"
     ]
    }
   ],
   "source": [
    "words = [\"triangle\", [\"square\", \"rectangle\", \"rhombus\"], \"pentagon\"]\n",
    "print(words[1][2])"
   ]
  },
  {
   "cell_type": "markdown",
   "metadata": {},
   "source": [
    "As usual, you can find all the gory details about lists in the [Python 3.7 documentation](https://docs.python.org/3.7/tutorial/datastructures.html#more-on-lists)."
   ]
  },
  {
   "cell_type": "markdown",
   "metadata": {},
   "source": [
    "### Slicing"
   ]
  },
  {
   "cell_type": "markdown",
   "metadata": {},
   "source": [
    "In addition to accessing list elements one at a time, Python provides concise syntax to access sublists; this is known as slicing:"
   ]
  },
  {
   "cell_type": "code",
   "execution_count": 37,
   "metadata": {},
   "outputs": [
    {
     "name": "stdout",
     "output_type": "stream",
     "text": [
      "[0, 1, 2, 3, 4]\n",
      "[2, 3]\n",
      "[2, 3, 4]\n",
      "[0, 1]\n",
      "[0, 1, 2, 3, 4]\n",
      "[0, 1, 2, 3]\n",
      "[0, 1, 8, 9, 4]\n"
     ]
    }
   ],
   "source": [
    "nums = range(5)      # range in Python 3.x is a built-in function that creates an iterable\n",
    "lnums = list(nums)\n",
    "print(lnums)         # Prints \"[0, 1, 2, 3, 4]\"\n",
    "print(lnums[2:4])    # Get a slice from index 2 to 4 (exclusive); prints \"[2, 3]\"\n",
    "print(lnums[2:])     # Get a slice from index 2 to the end; prints \"[2, 3, 4]\"\n",
    "print(lnums[:2])     # Get a slice from the start to index 2 (exclusive); prints \"[0, 1]\"\n",
    "print(lnums[:])      # Get a slice of the whole list; prints [\"0, 1, 2, 3, 4]\"\n",
    "print(lnums[:-1])    # Slice indices can be negative; prints [\"0, 1, 2, 3]\"\n",
    "lnums[2:4] = [8, 9] # Assign a new sublist to a slice\n",
    "print(lnums)         # Prints \"[0, 1, 8, 9, 4]\""
   ]
  },
  {
   "cell_type": "markdown",
   "metadata": {},
   "source": [
    "### Loops over lists"
   ]
  },
  {
   "cell_type": "markdown",
   "metadata": {},
   "source": [
    "You can loop over the elements of a list like this:"
   ]
  },
  {
   "cell_type": "code",
   "execution_count": 38,
   "metadata": {},
   "outputs": [
    {
     "name": "stdout",
     "output_type": "stream",
     "text": [
      "Tetrahedron\n",
      "Cube\n",
      "Octahedron\n",
      "Dodecahedron\n",
      "Icosahedron\n"
     ]
    }
   ],
   "source": [
    "platonic=['Tetrahedron', 'Cube', 'Octahedron', 'Dodecahedron', 'Icosahedron']\n",
    "for solid in platonic:\n",
    "    print(solid)"
   ]
  },
  {
   "cell_type": "markdown",
   "metadata": {},
   "source": [
    "If you want access to the index of each element within the body of a loop, use the built-in `enumerate` function:"
   ]
  },
  {
   "cell_type": "code",
   "execution_count": 39,
   "metadata": {
    "scrolled": true
   },
   "outputs": [
    {
     "name": "stdout",
     "output_type": "stream",
     "text": [
      "#1: Tetrahedron\n",
      "#2: Cube\n",
      "#3: Octahedron\n",
      "#4: Dodecahedron\n",
      "#5: Icosahedron\n"
     ]
    }
   ],
   "source": [
    "platonic=['Tetrahedron', 'Cube', 'Octahedron', 'Dodecahedron', 'Icosahedron']\n",
    "for idx, solid in enumerate(platonic):\n",
    "    print('#%d: %s' % (idx + 1, solid))"
   ]
  },
  {
   "cell_type": "markdown",
   "metadata": {},
   "source": [
    "### Copying lists:"
   ]
  },
  {
   "cell_type": "code",
   "execution_count": 2,
   "metadata": {},
   "outputs": [
    {
     "name": "stdout",
     "output_type": "stream",
     "text": [
      "['a'] ['a']\n",
      "['a', 'asd'] ['a', 'asd']\n"
     ]
    }
   ],
   "source": [
    "# Assignment statements\n",
    "# Incorrect copy\n",
    "\n",
    "L=[]\n",
    "M=L\n",
    " \n",
    "# modify both lists\n",
    "L.append('a')\n",
    "print(L, M)\n",
    "\n",
    "M.append('asd')\n",
    "print(L,M)"
   ]
  },
  {
   "cell_type": "code",
   "execution_count": 41,
   "metadata": {},
   "outputs": [
    {
     "name": "stdout",
     "output_type": "stream",
     "text": [
      "['a'] [] []\n"
     ]
    }
   ],
   "source": [
    "\n",
    "#Shallow copy\n",
    "\n",
    "L=[]\n",
    "M=L[:]         # Shallow copy using slicing\n",
    "N=list(L)      # Creating another shallow copy\n",
    "\n",
    "# modifica solo a L\n",
    "L.append('a')\n",
    "print(L, M, N)"
   ]
  },
  {
   "cell_type": "markdown",
   "metadata": {},
   "source": [
    "### Shallow copy vs Deep Copy"
   ]
  },
  {
   "cell_type": "markdown",
   "metadata": {},
   "source": [
    "Assignment statements in Python **do not copy objects**, they create bindings between a target and an object. Therefore, the problem with shallow copies is that internal objects are only referenced"
   ]
  },
  {
   "cell_type": "code",
   "execution_count": 42,
   "metadata": {},
   "outputs": [],
   "source": [
    "lst1 = ['a','b',['ab','ba']]\n",
    "lst2 = lst1[:]"
   ]
  },
  {
   "cell_type": "code",
   "execution_count": 43,
   "metadata": {},
   "outputs": [
    {
     "name": "stdout",
     "output_type": "stream",
     "text": [
      "['a', 'b', ['cd', 'ba']]\n"
     ]
    }
   ],
   "source": [
    "lst2[2][0]='cd'\n",
    "print(lst1)"
   ]
  },
  {
   "cell_type": "code",
   "execution_count": 44,
   "metadata": {},
   "outputs": [],
   "source": [
    "lst1 = ['a','b',['ab','ba']]\n",
    "lst2 = list(lst1)"
   ]
  },
  {
   "cell_type": "code",
   "execution_count": 45,
   "metadata": {},
   "outputs": [
    {
     "name": "stdout",
     "output_type": "stream",
     "text": [
      "['a', 'b', ['cd', 'ba']]\n"
     ]
    }
   ],
   "source": [
    "lst2[2][0]='cd'\n",
    "print(lst1)"
   ]
  },
  {
   "cell_type": "markdown",
   "metadata": {},
   "source": [
    "To produce a deep copy you can use a module from the Python Standard Library. The Python Standard library will be covered in the next Notebook, however this is a good place to clarify this important topic about Shallow and Deep copies in Python."
   ]
  },
  {
   "cell_type": "code",
   "execution_count": 46,
   "metadata": {},
   "outputs": [],
   "source": [
    "from copy import deepcopy\n",
    "\n",
    "lst1 = ['a','b',['ab','ba']]\n",
    "lst2 = deepcopy(lst1)"
   ]
  },
  {
   "cell_type": "code",
   "execution_count": 47,
   "metadata": {},
   "outputs": [
    {
     "name": "stdout",
     "output_type": "stream",
     "text": [
      "['a', 'b', ['ab', 'ba']]\n"
     ]
    }
   ],
   "source": [
    "lst2[2][0]='cd'\n",
    "print(lst1)"
   ]
  },
  {
   "cell_type": "markdown",
   "metadata": {},
   "source": [
    "#### Deleting lists:"
   ]
  },
  {
   "cell_type": "code",
   "execution_count": 48,
   "metadata": {},
   "outputs": [
    {
     "name": "stdout",
     "output_type": "stream",
     "text": [
      "['Tetrahedron', 'Cube', 'Octahedron', 'Dodecahedron', 'Icosahedron']\n",
      "The variable 'platonic' is not defined\n"
     ]
    }
   ],
   "source": [
    "platonic=['Tetrahedron', 'Cube', 'Octahedron', 'Dodecahedron', 'Icosahedron']\n",
    "print(platonic)\n",
    "del platonic\n",
    "\n",
    "try: platonic\n",
    "except NameError: print(\"The variable 'platonic' is not defined\")"
   ]
  },
  {
   "cell_type": "code",
   "execution_count": 49,
   "metadata": {},
   "outputs": [
    {
     "name": "stdout",
     "output_type": "stream",
     "text": [
      "['Tetrahedron', 'Octahedron', 'Dodecahedron', 'Icosahedron']\n",
      "['Tetrahedron', 'Octahedron', 'Dodecahedron']\n",
      "['Tetrahedron', 'Octahedron', 'Dodecahedron', 'Icosahedron']\n",
      "['Tetrahedron', 'Octahedron', 'Dodecahedron', 'Icosahedron', 'Circle', 2]\n",
      "['Circle', 2, 'Circle', 2]\n",
      "['Circle', 2, 'Circle', 2]\n"
     ]
    }
   ],
   "source": [
    "platonic=['Tetrahedron', 'Cube', 'Octahedron', 'Dodecahedron', 'Icosahedron']\n",
    "del platonic[1]\n",
    "print(platonic)\n",
    "del platonic[-1]                  #Delete last element \n",
    "print(platonic)\n",
    "\n",
    "platonic=['Tetrahedron', 'Cube', 'Octahedron', 'Dodecahedron', 'Icosahedron']\n",
    "platonic.remove(\"Cube\")\n",
    "print(platonic)\n",
    "\n",
    "newl=[\"Circle\", 2]\n",
    "print(platonic+newl) \n",
    "print(newl*2)\n",
    "print(2*newl)"
   ]
  },
  {
   "cell_type": "markdown",
   "metadata": {},
   "source": [
    "#### Sorting lists:"
   ]
  },
  {
   "cell_type": "code",
   "execution_count": 50,
   "metadata": {},
   "outputs": [
    {
     "name": "stdout",
     "output_type": "stream",
     "text": [
      "['Cube', 'Dodecahedron', 'Icosahedron', 'Octahedron', 'Tetrahedron']\n",
      "[-1, 1, 2, 3, 10, 200, 999]\n"
     ]
    }
   ],
   "source": [
    "list1=['Tetrahedron', 'Cube', 'Octahedron', 'Dodecahedron', 'Icosahedron']\n",
    "list2=[1,200,3,10,2,999,-1]\n",
    "list1.sort()\n",
    "list2.sort()\n",
    "print(list1)\n",
    "print(list2)"
   ]
  },
  {
   "cell_type": "markdown",
   "metadata": {},
   "source": [
    "#### List comprehensions:"
   ]
  },
  {
   "cell_type": "markdown",
   "metadata": {},
   "source": [
    "When programming, frequently we want to transform one type of data into another. As a simple example, consider the following code that computes square numbers:"
   ]
  },
  {
   "cell_type": "code",
   "execution_count": 51,
   "metadata": {},
   "outputs": [
    {
     "name": "stdout",
     "output_type": "stream",
     "text": [
      "[0, 1, 4, 9, 16]\n"
     ]
    }
   ],
   "source": [
    "nums = [0, 1, 2, 3, 4]\n",
    "squares = []\n",
    "for x in nums:\n",
    "    squares.append(x ** 2)\n",
    "print(squares)"
   ]
  },
  {
   "cell_type": "markdown",
   "metadata": {},
   "source": [
    "You can make this code simpler using a list comprehension:"
   ]
  },
  {
   "cell_type": "code",
   "execution_count": 52,
   "metadata": {},
   "outputs": [
    {
     "name": "stdout",
     "output_type": "stream",
     "text": [
      "[0, 1, 4, 9, 16]\n"
     ]
    }
   ],
   "source": [
    "nums = [0, 1, 2, 3, 4]\n",
    "squares = [x ** 2 for x in nums]\n",
    "print(squares)"
   ]
  },
  {
   "cell_type": "markdown",
   "metadata": {},
   "source": [
    "List comprehensions can also contain conditions:"
   ]
  },
  {
   "cell_type": "code",
   "execution_count": 53,
   "metadata": {},
   "outputs": [
    {
     "name": "stdout",
     "output_type": "stream",
     "text": [
      "[0, 4, 16]\n"
     ]
    }
   ],
   "source": [
    "nums = [0, 1, 2, 3, 4]\n",
    "even_squares = [x ** 2 for x in nums if x % 2 == 0]\n",
    "print(even_squares)"
   ]
  },
  {
   "cell_type": "markdown",
   "metadata": {},
   "source": [
    "## Dictionaries"
   ]
  },
  {
   "cell_type": "markdown",
   "metadata": {},
   "source": [
    "A dictionary stores (key, value) pairs, similar to a `Map` in Java or an object in Javascript. You can use it like this:"
   ]
  },
  {
   "cell_type": "code",
   "execution_count": 54,
   "metadata": {},
   "outputs": [
    {
     "name": "stdout",
     "output_type": "stream",
     "text": [
      "6\n",
      "True\n"
     ]
    }
   ],
   "source": [
    "# Create a new dictionary with some data about regular polyhedra\n",
    "rp = {'Tetrahedron': 4, 'Cube': 6, 'Octahedron': 8, 'Dodecahedron': 12, 'Icosahedron': 20}  \n",
    "print(rp['Cube'])              # Get an entry from a dictionary; prints \"cute\"\n",
    "print('Icosahedron' in rp)     # Check if a dictionary has a given key; prints \"True\""
   ]
  },
  {
   "cell_type": "code",
   "execution_count": 55,
   "metadata": {},
   "outputs": [
    {
     "name": "stdout",
     "output_type": "stream",
     "text": [
      "0\n"
     ]
    }
   ],
   "source": [
    "rp['Circle'] = 0         # Set an entry in a dictionary\n",
    "print(rp['Circle'])      # Prints \"0\""
   ]
  },
  {
   "cell_type": "code",
   "execution_count": 56,
   "metadata": {},
   "outputs": [
    {
     "data": {
      "text/plain": [
       "False"
      ]
     },
     "execution_count": 56,
     "metadata": {},
     "output_type": "execute_result"
    }
   ],
   "source": [
    "'Heptahedron' in rp"
   ]
  },
  {
   "cell_type": "code",
   "execution_count": 57,
   "metadata": {},
   "outputs": [
    {
     "name": "stdout",
     "output_type": "stream",
     "text": [
      "N/A\n",
      "6\n"
     ]
    }
   ],
   "source": [
    "print(rp.get('Hexahedron', 'N/A'))  # Get an element with a default; prints \"N/A\"\n",
    "print(rp.get('Cube', 'N/A'))        # Get an element with a default; prints 6"
   ]
  },
  {
   "cell_type": "code",
   "execution_count": 58,
   "metadata": {},
   "outputs": [
    {
     "name": "stdout",
     "output_type": "stream",
     "text": [
      "N/A\n"
     ]
    }
   ],
   "source": [
    "del rp['Circle']        # Remove an element from a dictionary\n",
    "print(rp.get('Circle', 'N/A')) # \"Circle\" is no longer a key; prints \"N/A\""
   ]
  },
  {
   "cell_type": "markdown",
   "metadata": {},
   "source": [
    "You can find all you need to know about dictionaries in the [Python 3.7 documentation](https://docs.python.org/3.7/library/stdtypes.html#dict)."
   ]
  },
  {
   "cell_type": "markdown",
   "metadata": {},
   "source": [
    "It is easy to iterate over the keys in a dictionary:"
   ]
  },
  {
   "cell_type": "code",
   "execution_count": 16,
   "metadata": {},
   "outputs": [
    {
     "name": "stdout",
     "output_type": "stream",
     "text": [
      "The tetrahedron has 4 faces\n",
      "The cube has 6 faces\n",
      "The octahedron has 8 faces\n",
      "The dodecahedron has 12 faces\n",
      "The icosahedron has 20 faces\n",
      "Tetrahedron 4\n",
      "Cube 6\n",
      "Octahedron 8\n",
      "Dodecahedron 12\n",
      "Icosahedron 20\n"
     ]
    }
   ],
   "source": [
    "rp = {'Tetrahedron': 4, 'Cube': 6, 'Octahedron': 8, 'Dodecahedron': 12, 'Icosahedron': 20}  \n",
    "for polyhedron in rp:\n",
    "    faces = rp[polyhedron]\n",
    "    print('The %s has %d faces' % (polyhedron.lower(), faces))\n",
    "\n",
    "for n in rp.keys():\n",
    "    print(n,rp[n])"
   ]
  },
  {
   "cell_type": "markdown",
   "metadata": {},
   "source": [
    "If you want access to keys and their corresponding values, use the items() method. This is an iterable not a list."
   ]
  },
  {
   "cell_type": "code",
   "execution_count": 60,
   "metadata": {},
   "outputs": [
    {
     "name": "stdout",
     "output_type": "stream",
     "text": [
      "The Tetrahedron has 4 faces\n",
      "The Cube has 6 faces\n",
      "The Octahedron has 8 faces\n",
      "The Dodecahedron has 12 faces\n",
      "The Icosahedron has 20 faces\n"
     ]
    }
   ],
   "source": [
    "rp = {'Tetrahedron': 4, 'Cube': 6, 'Octahedron': 8, 'Dodecahedron': 12, 'Icosahedron': 20}  \n",
    "for polyhedron, faces in rp.items():\n",
    "    print('The %s has %d faces' % (polyhedron, faces))"
   ]
  },
  {
   "cell_type": "markdown",
   "metadata": {},
   "source": [
    "Dictionary comprehensions: These are similar to list comprehensions, but allow you to easily construct dictionaries. For example:"
   ]
  },
  {
   "cell_type": "code",
   "execution_count": 61,
   "metadata": {},
   "outputs": [
    {
     "name": "stdout",
     "output_type": "stream",
     "text": [
      "{0: 0, 2: 4, 4: 16}\n"
     ]
    }
   ],
   "source": [
    "nums = [0, 1, 2, 3, 4]\n",
    "even_num_to_square = {x: x ** 2 for x in nums if x % 2 == 0}\n",
    "print(even_num_to_square)"
   ]
  },
  {
   "cell_type": "markdown",
   "metadata": {},
   "source": [
    "## Sets"
   ]
  },
  {
   "cell_type": "markdown",
   "metadata": {},
   "source": [
    "A set is an unordered collection of distinct elements. As a simple example, consider the following:"
   ]
  },
  {
   "cell_type": "code",
   "execution_count": 62,
   "metadata": {},
   "outputs": [
    {
     "name": "stdout",
     "output_type": "stream",
     "text": [
      "True\n",
      "False\n"
     ]
    }
   ],
   "source": [
    "menu = {'spam', 'eggs'}\n",
    "print('spam' in menu)   # Check if an element is in a set; prints \"True\"\n",
    "print('ham' in menu)    # prints \"False\"\n"
   ]
  },
  {
   "cell_type": "code",
   "execution_count": 63,
   "metadata": {},
   "outputs": [
    {
     "name": "stdout",
     "output_type": "stream",
     "text": [
      "True\n",
      "3\n"
     ]
    }
   ],
   "source": [
    "menu.add('ham')        # Add an element to a set\n",
    "print('ham' in menu)\n",
    "print(len(menu))       # Number of elements in a set;"
   ]
  },
  {
   "cell_type": "code",
   "execution_count": 64,
   "metadata": {},
   "outputs": [
    {
     "name": "stdout",
     "output_type": "stream",
     "text": [
      "{'bacon', 'ham', 'eggs', 'spam'}\n",
      "{'bacon', 'eggs', 'spam'}\n"
     ]
    }
   ],
   "source": [
    "menu.add('bacon')       # Adding an element that is already in the set does nothing\n",
    "print(menu)       \n",
    "menu.remove('ham')      # Remove an element from a set\n",
    "print(menu)       "
   ]
  },
  {
   "cell_type": "code",
   "execution_count": 65,
   "metadata": {},
   "outputs": [
    {
     "name": "stdout",
     "output_type": "stream",
     "text": [
      "SetA =  {'second', 'first', 'third'}\n",
      "SetB= {'second', 'fourth'}\n",
      "{'second'}\n",
      "{'second', 'third', 'fourth', 'first'}\n",
      "{'first', 'third'}\n",
      "{'fourth'}\n",
      "{'first', 'third', 'fourth'}\n",
      "frozenset({'a', 'b'})\n"
     ]
    }
   ],
   "source": [
    "setA = set([\"first\", \"second\", \"third\", \"first\"])\n",
    "print(\"SetA = \",setA)\n",
    "setB = set([\"second\", \"fourth\"])\n",
    "print(\"SetB=\",setB)\n",
    "\n",
    "print(setA & setB)                       # Intersection\n",
    "print(setA | setB)                       # Union\n",
    "print(setA - setB)                       # Difference A-B\n",
    "print(setB - setA)                       # Difference B-A\n",
    "print(setA ^ setB)                       # symmetric difference\n",
    "set(['fourth', 'first', 'third'])\n",
    "\n",
    "# Set is not mutable, elements of frozen set remains the same after creation\n",
    "immutable_set = frozenset([\"a\", \"b\", \"a\"])   \n",
    "print(immutable_set)"
   ]
  },
  {
   "cell_type": "markdown",
   "metadata": {},
   "source": [
    "### Loops over sets \n",
    "\n",
    "Iterating over a set has the same syntax as iterating over a list; however since sets are unordered, you cannot make assumptions about the order in which you visit the elements of the set:"
   ]
  },
  {
   "cell_type": "code",
   "execution_count": 66,
   "metadata": {},
   "outputs": [
    {
     "name": "stdout",
     "output_type": "stream",
     "text": [
      "#1: fish\n",
      "#2: dog\n",
      "#3: cat\n"
     ]
    }
   ],
   "source": [
    "animals = {'cat', 'dog', 'fish'}\n",
    "for idx, animal in enumerate(animals):\n",
    "    print('#%d: %s' % (idx + 1, animal))\n",
    "# Prints \"#1: fish\", \"#2: dog\", \"#3: cat\""
   ]
  },
  {
   "cell_type": "markdown",
   "metadata": {},
   "source": [
    "Set comprehensions: Like lists and dictionaries, we can easily construct sets using set comprehensions:"
   ]
  },
  {
   "cell_type": "code",
   "execution_count": 67,
   "metadata": {},
   "outputs": [
    {
     "name": "stdout",
     "output_type": "stream",
     "text": [
      "[0, 1, 1, 1, 2, 2, 2, 2, 2, 3, 3, 3, 3, 3, 3, 3, 4, 4, 4, 4, 4, 4, 4, 4, 4, 5, 5, 5, 5, 5]\n",
      "{0, 1, 2, 3, 4, 5}\n"
     ]
    }
   ],
   "source": [
    "from math import sqrt\n",
    "lc=[int(sqrt(x)) for x in range(30)]\n",
    "sc={int(sqrt(x)) for x in range(30)}\n",
    "\n",
    "print(lc)\n",
    "print(sc)"
   ]
  },
  {
   "cell_type": "code",
   "execution_count": 68,
   "metadata": {},
   "outputs": [
    {
     "data": {
      "text/plain": [
       "{0, 1, 2, 3, 4, 5}"
      ]
     },
     "execution_count": 68,
     "metadata": {},
     "output_type": "execute_result"
    }
   ],
   "source": [
    "set(lc)"
   ]
  },
  {
   "cell_type": "markdown",
   "metadata": {},
   "source": [
    "## Tuples"
   ]
  },
  {
   "cell_type": "markdown",
   "metadata": {},
   "source": [
    "A tuple is an (immutable) ordered list of values. A tuple is in many ways similar to a list; one of the most important differences is that tuples can be used as keys in dictionaries and as elements of sets, while lists cannot.\n",
    "\n",
    "Some general observations on tuples are:\n",
    "\n",
    "1) A <code><font color=brown>tuple</font></code> can not be modified after its creation.\n",
    "\n",
    "2) A tuple is defined similarly to a list, only that the set is enclosed with parenthesis, \"()\", instead of \"[]\". \n",
    "\n",
    "3) The elements in the tuple have a predefined order, similar to a list.\n",
    "\n",
    "4) Tuples have the first index as zero, similar to lists, such that <code><font color=brown>t[0]</font></code> always exist.\n",
    "\n",
    "5) Negative indeces count from the end, as in lists.\n",
    "\n",
    "6) Slicing works as in lists.\n",
    "\n",
    "7) Extracting sections of a list give a list, similarly, a section of a tuple, gives a tuple.\n",
    "\n",
    "8) append or sort do not work in tuples. \"in\" can be used to know if an element exist in tuple.\n",
    "\n",
    "9) Tuples are much faster than lists.\n",
    "\n",
    "10) If you are defining a fix set of values and the only thing you would do is to run over it, use a tuple instead of a list.\n",
    "\n",
    "11) Tuples can be converted in lists <code><font color=brown>list(tuple)</font></code> and lists in tuples <code><font color=brown>tuple(list)</font></code>\n"
   ]
  },
  {
   "cell_type": "code",
   "execution_count": 9,
   "metadata": {},
   "outputs": [
    {
     "name": "stdout",
     "output_type": "stream",
     "text": [
      "<class 'tuple'>\n",
      "5\n",
      "1\n",
      "{(0, 1): 0, (1, 2): 1, (2, 3): 2, (3, 4): 3, (4, 5): 4, (5, 6): 5, (6, 7): 6, (7, 8): 7, (8, 9): 8, (9, 10): 9}\n",
      "<class 'tuple'>\n",
      "MIN of Tuple= 1\n",
      "['a', 'b', 'c'] ('a', 'b', 'c')\n"
     ]
    }
   ],
   "source": [
    "d = {(x, x + 1): x for x in range(10)}  # Create a dictionary with tuple keys\n",
    "t = (5, 6)       # Create a tuple\n",
    "print(type(t))\n",
    "print(d[t])       \n",
    "print(d[(1, 2)])\n",
    "print(d)\n",
    "e = (1,2,'a','b')\n",
    "print(type(e))\n",
    "#print('MIN of Tuple=',min(e))\n",
    "\n",
    "e = (1,2,3,4)\n",
    "print('MIN of Tuple=',min(e))\n",
    "\n",
    "word = 'abc'\n",
    "L = list(word)\n",
    "lp=list(word)\n",
    "tp=tuple(word)\n",
    "print(lp,tp)"
   ]
  },
  {
   "cell_type": "code",
   "execution_count": 70,
   "metadata": {},
   "outputs": [],
   "source": [
    "#t[0] = 1"
   ]
  },
  {
   "cell_type": "markdown",
   "metadata": {},
   "source": [
    "## Conditionals"
   ]
  },
  {
   "cell_type": "markdown",
   "metadata": {},
   "source": [
    "* Conditionals are expressions that can be true of false. For example\n",
    "\n",
    "    * has the user type the correct word? \n",
    "    * is the number bigger than 100? \n",
    "\n",
    "* The result of the conditions will decide what will happen, for example:\n",
    "\n",
    "    * When the input word is correct, print \"Good\" \n",
    "    * To all number larger than 100 substract 20."
   ]
  },
  {
   "cell_type": "markdown",
   "metadata": {},
   "source": [
    "### Boolean Operators"
   ]
  },
  {
   "cell_type": "code",
   "execution_count": 71,
   "metadata": {},
   "outputs": [
    {
     "name": "stdout",
     "output_type": "stream",
     "text": [
      "False\n",
      "True\n",
      "False\n",
      "True\n",
      "False\n",
      "True\n",
      "True\n"
     ]
    }
   ],
   "source": [
    "x = 125\n",
    "y = 251\n",
    "\n",
    "print(x == y)    # x equal to y\n",
    "print(x != y)    # x is not equal to y\n",
    "print(x >  y)    # x is larger than y\n",
    "print(x <  y)    # x is smaller than y\n",
    "print(x >= y)    # x is larger or equal than y\n",
    "print(x <= y)    # x is smaller or equal than y\n",
    "print(x == 125)  # x is equal to 125"
   ]
  },
  {
   "cell_type": "code",
   "execution_count": 72,
   "metadata": {},
   "outputs": [
    {
     "name": "stdout",
     "output_type": "stream",
     "text": [
      "True\n",
      "True\n",
      "True\n",
      "False\n",
      "False\n"
     ]
    }
   ],
   "source": [
    "passwd = \"nix\"\n",
    "num  = 10\n",
    "num1 = 20\n",
    "letter = \"a\"\n",
    "\n",
    "print(passwd == \"nix\")\n",
    "print(num >= 0)\n",
    "print(letter > \"L\")\n",
    "print(num/2 == (num1-num))\n",
    "print(num %5 != 0)"
   ]
  },
  {
   "cell_type": "code",
   "execution_count": 73,
   "metadata": {},
   "outputs": [
    {
     "name": "stdout",
     "output_type": "stream",
     "text": [
      "False\n",
      "True\n",
      "True\n"
     ]
    }
   ],
   "source": [
    "s1=\"A\"\n",
    "s2=\"Z\"\n",
    "\n",
    "print(s1>s2)\n",
    "print(s1.isupper())\n",
    "print(s1.lower()>s2)"
   ]
  },
  {
   "cell_type": "markdown",
   "metadata": {},
   "source": [
    "### Conditional (if...elif...else)"
   ]
  },
  {
   "cell_type": "code",
   "execution_count": 74,
   "metadata": {},
   "outputs": [
    {
     "name": "stdout",
     "output_type": "stream",
     "text": [
      "You have reach adulthood\n",
      "\n",
      "Thanks\n",
      "Done\n",
      "Number is odd\n",
      "odd\n"
     ]
    }
   ],
   "source": [
    "# Example with the instruction if\n",
    "if use_input:\n",
    "    num = input(\"Give me your age  \")\n",
    "else:\n",
    "    num = 20\n",
    "    \n",
    "if int(num) >= 18:\n",
    "   print(\"You have reach adulthood\")\n",
    "   print()      # Imprime una linea en blanco \n",
    "   print(\"Thanks\")\n",
    "print(\"Done\")\n",
    "\n",
    "# Example of if ... else\n",
    "if use_input:\n",
    "    x = int(input(\"Give me an integer: \"))\n",
    "else:\n",
    "    x = 7\n",
    "    \n",
    "if x% 2 == 0:\n",
    "   print(\"Number is even\")\n",
    "else:\n",
    "   print(\"Number is odd\")\n",
    "\n",
    "# Example of the compact form of  if...else\n",
    "if use_input:\n",
    "    num = int(input(\"Give me an integer: \"))\n",
    "else:\n",
    "    num = 7\n",
    "    \n",
    "evenless = \"even\" if (num % 2 == 0) else \"odd\"\n",
    "print(evenless)"
   ]
  },
  {
   "cell_type": "code",
   "execution_count": 75,
   "metadata": {},
   "outputs": [
    {
     "name": "stdout",
     "output_type": "stream",
     "text": [
      "-10  is negative\n"
     ]
    }
   ],
   "source": [
    "# Example of if...elif...else\n",
    "if use_input:\n",
    "    x=float(input(\"Give me a number : \"))\n",
    "else:\n",
    "    x=-10\n",
    "    \n",
    "if x<0 :\n",
    "    print(x,\" is negative\")\n",
    "elif x==0 :\n",
    "    print(\"the number is zero\")\n",
    "else:\n",
    "    print(x,\" is positive\")"
   ]
  },
  {
   "cell_type": "code",
   "execution_count": 76,
   "metadata": {},
   "outputs": [
    {
     "name": "stdout",
     "output_type": "stream",
     "text": [
      "x is negative\n"
     ]
    }
   ],
   "source": [
    "# example of the keyword pass\n",
    "\n",
    "if x<0:\n",
    "   print(\"x is negative\")\n",
    "else:\n",
    "   pass # I will not do anything "
   ]
  },
  {
   "cell_type": "markdown",
   "metadata": {},
   "source": [
    "### Loop with conditional (while)"
   ]
  },
  {
   "cell_type": "code",
   "execution_count": 77,
   "metadata": {},
   "outputs": [
    {
     "name": "stdout",
     "output_type": "stream",
     "text": [
      "0\n",
      "1\n",
      "2\n",
      "3\n",
      "4\n",
      "5\n",
      "6\n",
      "7\n",
      "8\n",
      "9\n",
      "End\n"
     ]
    }
   ],
   "source": [
    "# Example with while\n",
    "\n",
    "x=0\n",
    "while x < 10:\n",
    "     print(x)\n",
    "     x = x+1\n",
    "print(\"End\")"
   ]
  },
  {
   "cell_type": "code",
   "execution_count": 78,
   "metadata": {},
   "outputs": [
    {
     "name": "stdout",
     "output_type": "stream",
     "text": [
      "1 \t 1\n",
      "2 \t 4\n",
      "3 \t 9\n",
      "4 \t 16\n",
      "5 \t 25\n",
      "6 \t 36\n",
      "7 \t 49\n",
      "8 \t 64\n",
      "9 \t 81\n"
     ]
    }
   ],
   "source": [
    "# A printed table with tabular with while\n",
    "\n",
    "x=1\n",
    "\n",
    "while x < 10:\n",
    "     print(x, \"\\t\", x*x)\n",
    "     x = x+1"
   ]
  },
  {
   "cell_type": "code",
   "execution_count": 79,
   "metadata": {},
   "outputs": [
    {
     "name": "stdout",
     "output_type": "stream",
     "text": [
      "program of nothing\n",
      "program of nothing"
     ]
    }
   ],
   "source": [
    "# Comparing while and for in a string\n",
    "word = \"program of nothing\"\n",
    "index=0\n",
    "while index < len(word):\n",
    "    print(word[index], end =\"\") \n",
    "    index +=1\n",
    "print()\n",
    "for letter in word:\n",
    "      print(letter,end=\"\")"
   ]
  },
  {
   "cell_type": "code",
   "execution_count": 80,
   "metadata": {},
   "outputs": [
    {
     "name": "stdout",
     "output_type": "stream",
     "text": [
      "red green blue \n",
      "0 red\n",
      "1 green\n",
      "2 blue\n"
     ]
    }
   ],
   "source": [
    "#Using enumerate for lists\n",
    "\n",
    "colors=[\"red\", \"green\", \"blue\"]\n",
    "for c in colors:    \n",
    "    print(c,end=\" \")\n",
    "print() \n",
    "for i, col in enumerate(colors):\n",
    "    print(i,col) "
   ]
  },
  {
   "cell_type": "code",
   "execution_count": 81,
   "metadata": {},
   "outputs": [
    {
     "name": "stdout",
     "output_type": "stream",
     "text": [
      "Color rojo in spanish means red in english\n",
      "Color verde in spanish means green in english\n",
      "Color azul in spanish means blue in english\n"
     ]
    }
   ],
   "source": [
    "#Running over several lists at the same time\n",
    "\n",
    "colors1 =[\"rojo\",\"verde\", \"azul\"]\n",
    "colors2 =[\"red\", \"green\", \"blue\"]\n",
    "for ce, ci in zip(colors1,colors2):    \n",
    "    print(\"Color\",ce,\"in spanish means\",ci,\"in english\")"
   ]
  },
  {
   "cell_type": "markdown",
   "metadata": {},
   "source": [
    "### List of numbers (range)"
   ]
  },
  {
   "cell_type": "code",
   "execution_count": 82,
   "metadata": {},
   "outputs": [
    {
     "name": "stdout",
     "output_type": "stream",
     "text": [
      "[0, 1, 2, 3, 4, 5, 6, 7, 8, 9]\n",
      "[2, 3, 4, 5, 6, 7, 8, 9]\n",
      "[0, 2, 4, 6, 8, 10]\n"
     ]
    }
   ],
   "source": [
    "print(list(range(10)))\n",
    "print(list(range(2,10)))\n",
    "print(list(range(0,11,2)))"
   ]
  },
  {
   "cell_type": "markdown",
   "metadata": {},
   "source": [
    "A simple application of the function <code><font color=\"brown\">range()</font></code> is when we try to calculate\n",
    "finite sums of integers. For example\n",
    "\n",
    "\\begin{equation*}\n",
    "\\boxed{\n",
    "\\sum_{i=1}^n i = \\frac{n(n+1)}2\\ ,\n",
    " \\ \\ \\ \\ \\ \n",
    "\\sum_{i=1}^n  i^2 = \\frac{n(n+1)(2n+1)}6\\ .\n",
    "}\n",
    "\\end{equation*}\n"
   ]
  },
  {
   "cell_type": "code",
   "execution_count": 83,
   "metadata": {},
   "outputs": [
    {
     "name": "stdout",
     "output_type": "stream",
     "text": [
      "5050 5050.0\n",
      "338350 338350.0\n"
     ]
    }
   ],
   "source": [
    "if use_input:\n",
    "    n = int(input(\"Enter the limit of the sum: \")) \n",
    "else:\n",
    "    n = 100\n",
    "    \n",
    "sum_i=0\n",
    "sum_ii=0\n",
    "for i in range(1,n+1):\n",
    "     sum_i = sum_i + i\n",
    "     sum_ii += i*i\n",
    "print(sum_i, n*(n+1)/2) \n",
    "print(sum_ii, n*(n+1)*(2*n+1)/6)"
   ]
  },
  {
   "cell_type": "markdown",
   "metadata": {},
   "source": [
    "### Loop modifiers: break and continue"
   ]
  },
  {
   "cell_type": "code",
   "execution_count": 84,
   "metadata": {},
   "outputs": [
    {
     "name": "stdout",
     "output_type": "stream",
     "text": [
      "1  with square  1\n",
      "2  with square  4\n",
      "3  with square  9\n",
      "4  with square  16\n",
      "5  with square  25\n",
      "6  with square  36\n",
      "7  with square  49\n",
      "8 to the square is  64  > 50\n",
      "STOP\n",
      "-0.2\n",
      "-0.25\n",
      "-0.333\n",
      "-0.5\n",
      "-1.0\n",
      "1.0\n",
      "0.5\n",
      "0.333\n",
      "0.25\n"
     ]
    }
   ],
   "source": [
    "for n in range(1,10):\n",
    "      c=n*n\n",
    "      if c > 50:\n",
    "            print(n, \"to the square is \",c,\" > 50\")\n",
    "            print(\"STOP\")\n",
    "            break\n",
    "      else:\n",
    "            print(n,\" with square \",c)\n",
    "\n",
    "for i in range(-5,5,1):\n",
    "    if i == 0:\n",
    "        continue\n",
    "    else:\n",
    "        print(round(1/i,3))"
   ]
  },
  {
   "cell_type": "markdown",
   "metadata": {},
   "source": [
    "# Python Syntax III: Functions"
   ]
  },
  {
   "cell_type": "markdown",
   "metadata": {},
   "source": [
    "A function defines a set of instruction or a piece of a code with an associated name that performs an specific task and it can be reutilized.\n",
    "\n",
    "It can have argument(s) or not, it can return values or not.\n",
    "\n",
    "The functions can be given by the language, imported from an external file (module) or created by you"
   ]
  },
  {
   "cell_type": "markdown",
   "metadata": {},
   "source": [
    "## Built-in Functions\n",
    "\n",
    "The Python interpreter has a number of functions and types built into it that are always available. They are listed here in alphabetical order."
   ]
  },
  {
   "cell_type": "markdown",
   "metadata": {},
   "source": [
    "<table>\n",
    "<colgroup>\n",
    "<col style=\"width: 21%\">\n",
    "<col style=\"width: 18%\">\n",
    "<col style=\"width: 20%\">\n",
    "<col style=\"width: 20%\">\n",
    "<col style=\"width: 22%\">\n",
    "</colgroup>\n",
    "<thead>\n",
    "<tr class=\"row-odd\"><th class=\"head\"></th>\n",
    "<th class=\"head\"></th>\n",
    "<th class=\"head\"><p>Built-in Functions</p></th>\n",
    "<th class=\"head\"></th>\n",
    "<th class=\"head\"></th>\n",
    "</tr>\n",
    "</thead>\n",
    "<tbody>\n",
    "<tr class=\"row-even\"><td><p><a class=\"reference internal\" href=\"https://docs.python.org/3.7/library/functions.html#abs\" title=\"abs\"><code class=\"xref py py-func docutils literal notranslate\"><span class=\"pre\">abs()</span></code></a></p></td>\n",
    "<td><p><a class=\"reference internal\" href=\"https://docs.python.org/3.7/library/functions.html#delattr\" title=\"delattr\"><code class=\"xref py py-func docutils literal notranslate\"><span class=\"pre\">delattr()</span></code></a></p></td>\n",
    "<td><p><a class=\"reference internal\" href=\"https://docs.python.org/3.7/library/functions.html#hash\" title=\"hash\"><code class=\"xref py py-func docutils literal notranslate\"><span class=\"pre\">hash()</span></code></a></p></td>\n",
    "<td><p><a class=\"reference internal\" href=\"https://docs.python.org/3.7/library/functions.html#func-memoryview\"><code class=\"docutils literal notranslate\"><span class=\"pre\">memoryview()</span></code></a></p></td>\n",
    "<td><p><a class=\"reference internal\" href=\"https://docs.python.org/3.7/library/functions.html#func-set\"><code class=\"docutils literal notranslate\"><span class=\"pre\">set()</span></code></a></p></td>\n",
    "</tr>\n",
    "<tr class=\"row-odd\"><td><p><a class=\"reference internal\" href=\"https://docs.python.org/3.7/library/functions.html#all\" title=\"all\"><code class=\"xref py py-func docutils literal notranslate\"><span class=\"pre\">all()</span></code></a></p></td>\n",
    "<td><p><a class=\"reference internal\" href=\"https://docs.python.org/3.7/library/functions.html#func-dict\"><code class=\"docutils literal notranslate\"><span class=\"pre\">dict()</span></code></a></p></td>\n",
    "<td><p><a class=\"reference internal\" href=\"https://docs.python.org/3.7/library/functions.html#help\" title=\"help\"><code class=\"xref py py-func docutils literal notranslate\"><span class=\"pre\">help()</span></code></a></p></td>\n",
    "<td><p><a class=\"reference internal\" href=\"https://docs.python.org/3.7/library/functions.html#min\" title=\"min\"><code class=\"xref py py-func docutils literal notranslate\"><span class=\"pre\">min()</span></code></a></p></td>\n",
    "<td><p><a class=\"reference internal\" href=\"https://docs.python.org/3.7/library/functions.html#setattr\" title=\"setattr\"><code class=\"xref py py-func docutils literal notranslate\"><span class=\"pre\">setattr()</span></code></a></p></td>\n",
    "</tr>\n",
    "<tr class=\"row-even\"><td><p><a class=\"reference internal\" href=\"#any\" title=\"any\"><code class=\"xref py py-func docutils literal notranslate\"><span class=\"pre\">any()</span></code></a></p></td>\n",
    "<td><p><a class=\"reference internal\" href=\"https://docs.python.org/3.7/library/functions.html#dir\" title=\"dir\"><code class=\"xref py py-func docutils literal notranslate\"><span class=\"pre\">dir()</span></code></a></p></td>\n",
    "<td><p><a class=\"reference internal\" href=\"https://docs.python.org/3.7/library/functions.html#hex\" title=\"hex\"><code class=\"xref py py-func docutils literal notranslate\"><span class=\"pre\">hex()</span></code></a></p></td>\n",
    "<td><p><a class=\"reference internal\" href=\"https://docs.python.org/3.7/library/functions.html#next\" title=\"next\"><code class=\"xref py py-func docutils literal notranslate\"><span class=\"pre\">next()</span></code></a></p></td>\n",
    "<td><p><a class=\"reference internal\" href=\"https://docs.python.org/3.7/library/functions.html#slice\" title=\"slice\"><code class=\"xref py py-func docutils literal notranslate\"><span class=\"pre\">slice()</span></code></a></p></td>\n",
    "</tr>\n",
    "<tr class=\"row-odd\"><td><p><a class=\"reference internal\" href=\"#ascii\" title=\"ascii\"><code class=\"xref py py-func docutils literal notranslate\"><span class=\"pre\">ascii()</span></code></a></p></td>\n",
    "<td><p><a class=\"reference internal\" href=\"https://docs.python.org/3.7/library/functions.html#divmod\" title=\"divmod\"><code class=\"xref py py-func docutils literal notranslate\"><span class=\"pre\">divmod()</span></code></a></p></td>\n",
    "<td><p><a class=\"reference internal\" href=\"https://docs.python.org/3.7/library/functions.html#id\" title=\"id\"><code class=\"xref py py-func docutils literal notranslate\"><span class=\"pre\">id()</span></code></a></p></td>\n",
    "<td><p><a class=\"reference internal\" href=\"https://docs.python.org/3.7/library/functions.html#object\" title=\"object\"><code class=\"xref py py-func docutils literal notranslate\"><span class=\"pre\">object()</span></code></a></p></td>\n",
    "<td><p><a class=\"reference internal\" href=\"https://docs.python.org/3.7/library/functions.html#sorted\" title=\"sorted\"><code class=\"xref py py-func docutils literal notranslate\"><span class=\"pre\">sorted()</span></code></a></p></td>\n",
    "</tr>\n",
    "<tr class=\"row-even\"><td><p><a class=\"reference internal\" href=\"#bin\" title=\"bin\"><code class=\"xref py py-func docutils literal notranslate\"><span class=\"pre\">bin()</span></code></a></p></td>\n",
    "<td><p><a class=\"reference internal\" href=\"https://docs.python.org/3.7/library/functions.html#enumerate\" title=\"enumerate\"><code class=\"xref py py-func docutils literal notranslate\"><span class=\"pre\">enumerate()</span></code></a></p></td>\n",
    "<td><p><a class=\"reference internal\" href=\"https://docs.python.org/3.7/library/functions.html#input\" title=\"input\"><code class=\"xref py py-func docutils literal notranslate\"><span class=\"pre\">input()</span></code></a></p></td>\n",
    "<td><p><a class=\"reference internal\" href=\"https://docs.python.org/3.7/library/functions.html#oct\" title=\"oct\"><code class=\"xref py py-func docutils literal notranslate\"><span class=\"pre\">oct()</span></code></a></p></td>\n",
    "<td><p><a class=\"reference internal\" href=\"https://docs.python.org/3.7/library/functions.html#staticmethod\" title=\"staticmethod\"><code class=\"xref py py-func docutils literal notranslate\"><span class=\"pre\">staticmethod()</span></code></a></p></td>\n",
    "</tr>\n",
    "<tr class=\"row-odd\"><td><p><a class=\"reference internal\" href=\"#bool\" title=\"bool\"><code class=\"xref py py-func docutils literal notranslate\"><span class=\"pre\">bool()</span></code></a></p></td>\n",
    "<td><p><a class=\"reference internal\" href=\"https://docs.python.org/3.7/library/functions.html#eval\" title=\"eval\"><code class=\"xref py py-func docutils literal notranslate\"><span class=\"pre\">eval()</span></code></a></p></td>\n",
    "<td><p><a class=\"reference internal\" href=\"https://docs.python.org/3.7/library/functions.html#int\" title=\"int\"><code class=\"xref py py-func docutils literal notranslate\"><span class=\"pre\">int()</span></code></a></p></td>\n",
    "<td><p><a class=\"reference internal\" href=\"https://docs.python.org/3.7/library/functions.html#open\" title=\"open\"><code class=\"xref py py-func docutils literal notranslate\"><span class=\"pre\">open()</span></code></a></p></td>\n",
    "<td><p><a class=\"reference internal\" href=\"https://docs.python.org/3.7/library/functions.html#func-str\"><code class=\"docutils literal notranslate\"><span class=\"pre\">str()</span></code></a></p></td>\n",
    "</tr>\n",
    "<tr class=\"row-even\"><td><p><a class=\"reference internal\" href=\"#breakpoint\" title=\"breakpoint\"><code class=\"xref py py-func docutils literal notranslate\"><span class=\"pre\">breakpoint()</span></code></a></p></td>\n",
    "<td><p><a class=\"reference internal\" href=\"https://docs.python.org/3.7/library/functions.html#exec\" title=\"exec\"><code class=\"xref py py-func docutils literal notranslate\"><span class=\"pre\">exec()</span></code></a></p></td>\n",
    "<td><p><a class=\"reference internal\" href=\"https://docs.python.org/3.7/library/functions.html#isinstance\" title=\"isinstance\"><code class=\"xref py py-func docutils literal notranslate\"><span class=\"pre\">isinstance()</span></code></a></p></td>\n",
    "<td><p><a class=\"reference internal\" href=\"https://docs.python.org/3.7/library/functions.html#ord\" title=\"ord\"><code class=\"xref py py-func docutils literal notranslate\"><span class=\"pre\">ord()</span></code></a></p></td>\n",
    "<td><p><a class=\"reference internal\" href=\"https://docs.python.org/3.7/library/functions.html#sum\" title=\"sum\"><code class=\"xref py py-func docutils literal notranslate\"><span class=\"pre\">sum()</span></code></a></p></td>\n",
    "</tr>\n",
    "<tr class=\"row-odd\"><td><p><a class=\"reference internal\" href=\"#func-bytearray\"><code class=\"docutils literal notranslate\"><span class=\"pre\">bytearray()</span></code></a></p></td>\n",
    "<td><p><a class=\"reference internal\" href=\"https://docs.python.org/3.7/library/functions.html#filter\" title=\"filter\"><code class=\"xref py py-func docutils literal notranslate\"><span class=\"pre\">filter()</span></code></a></p></td>\n",
    "<td><p><a class=\"reference internal\" href=\"https://docs.python.org/3.7/library/functions.html#issubclass\" title=\"issubclass\"><code class=\"xref py py-func docutils literal notranslate\"><span class=\"pre\">issubclass()</span></code></a></p></td>\n",
    "<td><p><a class=\"reference internal\" href=\"https://docs.python.org/3.7/library/functions.html#pow\" title=\"pow\"><code class=\"xref py py-func docutils literal notranslate\"><span class=\"pre\">pow()</span></code></a></p></td>\n",
    "<td><p><a class=\"reference internal\" href=\"https://docs.python.org/3.7/library/functions.html#super\" title=\"super\"><code class=\"xref py py-func docutils literal notranslate\"><span class=\"pre\">super()</span></code></a></p></td>\n",
    "</tr>\n",
    "<tr class=\"row-even\"><td><p><a class=\"reference internal\" href=\"#func-bytes\"><code class=\"docutils literal notranslate\"><span class=\"pre\">bytes()</span></code></a></p></td>\n",
    "<td><p><a class=\"reference internal\" href=\"https://docs.python.org/3.7/library/functions.html#float\" title=\"float\"><code class=\"xref py py-func docutils literal notranslate\"><span class=\"pre\">float()</span></code></a></p></td>\n",
    "<td><p><a class=\"reference internal\" href=\"https://docs.python.org/3.7/library/functions.htmlhttps://docs.python.org/3.7/library/functions.html#iter\" title=\"iter\"><code class=\"xref py py-func docutils literal notranslate\"><span class=\"pre\">iter()</span></code></a></p></td>\n",
    "<td><p><a class=\"reference internal\" href=\"https://docs.python.org/3.7/library/functions.html#print\" title=\"print\"><code class=\"xref py py-func docutils literal notranslate\"><span class=\"pre\">print()</span></code></a></p></td>\n",
    "<td><p><a class=\"reference internal\" href=\"https://docs.python.org/3.7/library/functions.html#func-tuple\"><code class=\"docutils literal notranslate\"><span class=\"pre\">tuple()</span></code></a></p></td>\n",
    "</tr>\n",
    "<tr class=\"row-odd\"><td><p><a class=\"reference internal\" href=\"#callable\" title=\"callable\"><code class=\"xref py py-func docutils literal notranslate\"><span class=\"pre\">callable()</span></code></a></p></td>\n",
    "<td><p><a class=\"reference internal\" href=\"https://docs.python.org/3.7/library/functions.html#format\" title=\"format\"><code class=\"xref py py-func docutils literal notranslate\"><span class=\"pre\">format()</span></code></a></p></td>\n",
    "<td><p><a class=\"reference internal\" href=\"https://docs.python.org/3.7/library/functions.html#len\" title=\"len\"><code class=\"xref py py-func docutils literal notranslate\"><span class=\"pre\">len()</span></code></a></p></td>\n",
    "<td><p><a class=\"reference internal\" href=\"https://docs.python.org/3.7/library/functions.html#property\" title=\"property\"><code class=\"xref py py-func docutils literal notranslate\"><span class=\"pre\">property()</span></code></a></p></td>\n",
    "<td><p><a class=\"reference internal\" href=\"https://docs.python.org/3.7/library/functions.html#type\" title=\"type\"><code class=\"xref py py-func docutils literal notranslate\"><span class=\"pre\">type()</span></code></a></p></td>\n",
    "</tr>\n",
    "<tr class=\"row-even\"><td><p><a class=\"reference internal\" href=\"#chr\" title=\"chr\"><code class=\"xref py py-func docutils literal notranslate\"><span class=\"pre\">chr()</span></code></a></p></td>\n",
    "<td><p><a class=\"reference internal\" href=\"https://docs.python.org/3.7/library/functions.html#func-frozenset\"><code class=\"docutils literal notranslate\"><span class=\"pre\">frozenset()</span></code></a></p></td>\n",
    "<td><p><a class=\"reference internal\" href=\"https://docs.python.org/3.7/library/functions.html#func-list\"><code class=\"docutils literal notranslate\"><span class=\"pre\">list()</span></code></a></p></td>\n",
    "<td><p><a class=\"reference internal\" href=\"https://docs.python.org/3.7/library/functions.html#func-range\"><code class=\"docutils literal notranslate\"><span class=\"pre\">range()</span></code></a></p></td>\n",
    "<td><p><a class=\"reference internal\" href=\"https://docs.python.org/3.7/library/functions.html#vars\" title=\"vars\"><code class=\"xref py py-func docutils literal notranslate\"><span class=\"pre\">vars()</span></code></a></p></td>\n",
    "</tr>\n",
    "<tr class=\"row-odd\"><td><p><a class=\"reference internal\" href=\"#classmethod\" title=\"classmethod\"><code class=\"xref py py-func docutils literal notranslate\"><span class=\"pre\">classmethod()</span></code></a></p></td>\n",
    "<td><p><a class=\"reference internal\" href=\"https://docs.python.org/3.7/library/functions.html#getattr\" title=\"getattr\"><code class=\"xref py py-func docutils literal notranslate\"><span class=\"pre\">getattr()</span></code></a></p></td>\n",
    "<td><p><a class=\"reference internal\" href=\"https://docs.python.org/3.7/library/functions.html#locals\" title=\"locals\"><code class=\"xref py py-func docutils literal notranslate\"><span class=\"pre\">locals()</span></code></a></p></td>\n",
    "<td><p><a class=\"reference internal\" href=\"https://docs.python.org/3.7/library/functions.html#repr\" title=\"repr\"><code class=\"xref py py-func docutils literal notranslate\"><span class=\"pre\">repr()</span></code></a></p></td>\n",
    "<td><p><a class=\"reference internal\" href=\"https://docs.python.org/3.7/library/functions.html#zip\" title=\"zip\"><code class=\"xref py py-func docutils literal notranslate\"><span class=\"pre\">zip()</span></code></a></p></td>\n",
    "</tr>\n",
    "<tr class=\"row-even\"><td><p><a class=\"reference internal\" href=\"#compile\" title=\"compile\"><code class=\"xref py py-func docutils literal notranslate\"><span class=\"pre\">compile()</span></code></a></p></td>\n",
    "<td><p><a class=\"reference internal\" href=\"https://docs.python.org/3.7/library/functions.html#globals\" title=\"globals\"><code class=\"xref py py-func docutils literal notranslate\"><span class=\"pre\">globals()</span></code></a></p></td>\n",
    "<td><p><a class=\"reference internal\" href=\"https://docs.python.org/3.7/library/functions.html#map\" title=\"map\"><code class=\"xref py py-func docutils literal notranslate\"><span class=\"pre\">map()</span></code></a></p></td>\n",
    "<td><p><a class=\"reference internal\" href=\"#reversed\" title=\"reversed\"><code class=\"xref py py-func docutils literal notranslate\"><span class=\"pre\">reversed()</span></code></a></p></td>\n",
    "<td><p><a class=\"reference internal\" href=\"#__import__\" title=\"__import__\"><code class=\"xref py py-func docutils literal notranslate\"><span class=\"pre\">__import__()</span></code></a></p></td>\n",
    "</tr>\n",
    "<tr class=\"row-odd\"><td><p><a class=\"reference internal\" href=\"#complex\" title=\"complex\"><code class=\"xref py py-func docutils literal notranslate\"><span class=\"pre\">complex()</span></code></a></p></td>\n",
    "<td><p><a class=\"reference internal\" href=\"https://docs.python.org/3.7/library/functions.html#hasattr\" title=\"hasattr\"><code class=\"xref py py-func docutils literal notranslate\"><span class=\"pre\">hasattr()</span></code></a></p></td>\n",
    "<td><p><a class=\"reference internal\" href=\"https://docs.python.org/3.7/library/functions.html#max\" title=\"max\"><code class=\"xref py py-func docutils literal notranslate\"><span class=\"pre\">max()</span></code></a></p></td>\n",
    "<td><p><a class=\"reference internal\" href=\"https://docs.python.org/3.7/library/functions.html#round\" title=\"round\"><code class=\"xref py py-func docutils literal notranslate\"><span class=\"pre\">round()</span></code></a></p></td>\n",
    "</tbody>\n",
    "</table>"
   ]
  },
  {
   "cell_type": "markdown",
   "metadata": {},
   "source": [
    "### Some Built-in functions\n",
    "\n",
    "To see which functions are available in python, go the web site https://docs.python.org/3.7/library/functions.html\n",
    "\n",
    "`float(obj)`: convert a string or a number (integer or long integer) into a float number.\n",
    "\n",
    "`int(obj)`: convert a string or a number (integer or long integer) into a integer.\n",
    "\n",
    "`str(num)`: convert a number into a string.\n",
    "\n",
    "`divmod(x,y)`: return the results from  x/y y x%y.\n",
    "\n",
    "`pow(x,y)`: return x to the power  y.\n",
    "\n",
    "`range(start,stop,step)`: return a list of number from start to stop-1 in steps.\n",
    "\n",
    "`round(x,n)`: return a float value x rounding to n digits after the decimal point. If n is omitted, the value per default is zero.\n",
    "\n",
    "`len(obj)`: return the len of  string, lista, tupla o diccionary. \n",
    "\n",
    "### Modules from Python Standard Library\n",
    "\n",
    "We will see more about this functions on the next notebook\n",
    "We will show here just a few from the math module"
   ]
  },
  {
   "cell_type": "code",
   "execution_count": 85,
   "metadata": {},
   "outputs": [
    {
     "data": {
      "text/plain": [
       "1.4142135623730951"
      ]
     },
     "execution_count": 85,
     "metadata": {},
     "output_type": "execute_result"
    }
   ],
   "source": [
    "import math\n",
    "\n",
    "math.sqrt(2)"
   ]
  },
  {
   "cell_type": "code",
   "execution_count": 86,
   "metadata": {},
   "outputs": [
    {
     "data": {
      "text/plain": [
       "4.0"
      ]
     },
     "execution_count": 86,
     "metadata": {},
     "output_type": "execute_result"
    }
   ],
   "source": [
    "math.log10(10000)"
   ]
  },
  {
   "cell_type": "code",
   "execution_count": 87,
   "metadata": {},
   "outputs": [
    {
     "data": {
      "text/plain": [
       "5.0"
      ]
     },
     "execution_count": 87,
     "metadata": {},
     "output_type": "execute_result"
    }
   ],
   "source": [
    "math.hypot(3,4)"
   ]
  },
  {
   "cell_type": "code",
   "execution_count": 88,
   "metadata": {},
   "outputs": [
    {
     "name": "stdout",
     "output_type": "stream",
     "text": [
      "                                  2019\n",
      "\n",
      "      January                   February                   March\n",
      "Mo Tu We Th Fr Sa Su      Mo Tu We Th Fr Sa Su      Mo Tu We Th Fr Sa Su\n",
      "    1  2  3  4  5  6                   1  2  3                   1  2  3\n",
      " 7  8  9 10 11 12 13       4  5  6  7  8  9 10       4  5  6  7  8  9 10\n",
      "14 15 16 17 18 19 20      11 12 13 14 15 16 17      11 12 13 14 15 16 17\n",
      "21 22 23 24 25 26 27      18 19 20 21 22 23 24      18 19 20 21 22 23 24\n",
      "28 29 30 31               25 26 27 28               25 26 27 28 29 30 31\n",
      "\n",
      "       April                      May                       June\n",
      "Mo Tu We Th Fr Sa Su      Mo Tu We Th Fr Sa Su      Mo Tu We Th Fr Sa Su\n",
      " 1  2  3  4  5  6  7             1  2  3  4  5                      1  2\n",
      " 8  9 10 11 12 13 14       6  7  8  9 10 11 12       3  4  5  6  7  8  9\n",
      "15 16 17 18 19 20 21      13 14 15 16 17 18 19      10 11 12 13 14 15 16\n",
      "22 23 24 25 26 27 28      20 21 22 23 24 25 26      17 18 19 20 21 22 23\n",
      "29 30                     27 28 29 30 31            24 25 26 27 28 29 30\n",
      "\n",
      "        July                     August                  September\n",
      "Mo Tu We Th Fr Sa Su      Mo Tu We Th Fr Sa Su      Mo Tu We Th Fr Sa Su\n",
      " 1  2  3  4  5  6  7                1  2  3  4                         1\n",
      " 8  9 10 11 12 13 14       5  6  7  8  9 10 11       2  3  4  5  6  7  8\n",
      "15 16 17 18 19 20 21      12 13 14 15 16 17 18       9 10 11 12 13 14 15\n",
      "22 23 24 25 26 27 28      19 20 21 22 23 24 25      16 17 18 19 20 21 22\n",
      "29 30 31                  26 27 28 29 30 31         23 24 25 26 27 28 29\n",
      "                                                    30\n",
      "\n",
      "      October                   November                  December\n",
      "Mo Tu We Th Fr Sa Su      Mo Tu We Th Fr Sa Su      Mo Tu We Th Fr Sa Su\n",
      "    1  2  3  4  5  6                   1  2  3                         1\n",
      " 7  8  9 10 11 12 13       4  5  6  7  8  9 10       2  3  4  5  6  7  8\n",
      "14 15 16 17 18 19 20      11 12 13 14 15 16 17       9 10 11 12 13 14 15\n",
      "21 22 23 24 25 26 27      18 19 20 21 22 23 24      16 17 18 19 20 21 22\n",
      "28 29 30 31               25 26 27 28 29 30         23 24 25 26 27 28 29\n",
      "                                                    30 31\n",
      "    August 2019\n",
      "Mo Tu We Th Fr Sa Su\n",
      "          1  2  3  4\n",
      " 5  6  7  8  9 10 11\n",
      "12 13 14 15 16 17 18\n",
      "19 20 21 22 23 24 25\n",
      "26 27 28 29 30 31\n"
     ]
    }
   ],
   "source": [
    "import calendar\n",
    "\n",
    "calendar.prcal(2019)\n",
    "calendar.prmonth(2019, 8)"
   ]
  },
  {
   "cell_type": "markdown",
   "metadata": {},
   "source": [
    "### Functions from external modules\n",
    "\n",
    "These functions comes from modules. The way to do so, it is by doing\n",
    "\n",
    "    import module_name\n",
    "\n",
    "once it is imported, we can use the functions contained in this module by using\n",
    "\n",
    "    module_name.existing_funtion(expected_input_variables)\n",
    "\n",
    "some module names can be long or complicated.. you can then use\n",
    "\n",
    "    import module_name as mn\n",
    "\n",
    "and then to use it, you say\n",
    "\n",
    "    mn.existing_funtion(expected_input_variables)\n",
    "\n",
    "if you want to import only few functions from the module, you can say\n",
    "\n",
    "    from stuff import f, g\n",
    "    print f(\"a\"), g(1,2)\n",
    "\n",
    "You can also import all function as\n",
    "\n",
    "    from stuff import *\n",
    "    print f(\"a\"), g(1,2)\n",
    "\n",
    "Combining with the nickname for the module, we can say\n",
    "\n",
    "    from stuff import f as F\n",
    "    from stuff import g as G\n",
    "    print F(\"a\"), G(1,2)"
   ]
  },
  {
   "cell_type": "code",
   "execution_count": 89,
   "metadata": {},
   "outputs": [
    {
     "name": "stdout",
     "output_type": "stream",
     "text": [
      "3.0\n",
      "Ingrese un numero positivo\n",
      "1.4142135623730951\n"
     ]
    }
   ],
   "source": [
    "import math\n",
    "\n",
    "def myroot(num):\n",
    "    if num<0:\n",
    "         print(\"Ingrese un numero positivo\")\n",
    "         return\n",
    "    print(math.sqrt(num))\n",
    "\n",
    "# main\n",
    "myroot(9)\n",
    "myroot(-8)\n",
    "myroot(2)"
   ]
  },
  {
   "cell_type": "code",
   "execution_count": 90,
   "metadata": {},
   "outputs": [
    {
     "name": "stdout",
     "output_type": "stream",
     "text": [
      "11\n"
     ]
    }
   ],
   "source": [
    "def addthem(x,y):\n",
    "   return x+y\n",
    "\n",
    "# main\n",
    "add = addthem(5,6) # La llamada a la funcion\n",
    "print(add)"
   ]
  },
  {
   "cell_type": "markdown",
   "metadata": {},
   "source": [
    "We can declare functions with optional parameters. NOTE: The optional parameteres NEED to be always at the end"
   ]
  },
  {
   "cell_type": "code",
   "execution_count": 2,
   "metadata": {},
   "outputs": [
    {
     "name": "stdout",
     "output_type": "stream",
     "text": [
      "(11, -1, 30, 0.8333333333333334)\n",
      "12 4 32 2.0\n",
      "17 -1 160 0.4\n"
     ]
    }
   ],
   "source": [
    "def operations(x,y,z=None):\n",
    "    if (z==None):\n",
    "        sum = x+y\n",
    "        rest = x-y\n",
    "        prod= x*y\n",
    "        div = x/y \n",
    "    else:\n",
    "        sum = z+x+y\n",
    "        rest = x-y-z\n",
    "        prod= x*y*z\n",
    "        div = x/y/z \n",
    "    return sum,rest,prod,div\n",
    "\n",
    "# main\n",
    "print(operations(5,6))\n",
    "a,b,c,d = operations(8,4)\n",
    "print(a,b,c,d)\n",
    "a,b,c,d = operations(8,4,5)\n",
    "print(a,b,c,d)"
   ]
  },
  {
   "cell_type": "markdown",
   "metadata": {},
   "source": [
    "We can even pass a function to a variable and we can pass this to other function (this is called functional programming)"
   ]
  },
  {
   "cell_type": "code",
   "execution_count": 4,
   "metadata": {},
   "outputs": [
    {
     "name": "stdout",
     "output_type": "stream",
     "text": [
      "Flag is true\n",
      "(11, -1, 30, 0.8333333333333334)\n"
     ]
    }
   ],
   "source": [
    "def operations(x,y,z=None,flag=False):\n",
    "    if (flag == True):\n",
    "        print(\"Flag is true\")\n",
    "    if (z==None):\n",
    "        sum = x+y\n",
    "        rest = x-y\n",
    "        prod= x*y\n",
    "        div = x/y \n",
    "    else:\n",
    "        sum = z+x+y\n",
    "        rest = x-y-z\n",
    "        prod= x*y*z\n",
    "        div = x/y/z \n",
    "    return sum,rest,prod,div\n",
    "print(operations(5,6,flag=True))"
   ]
  },
  {
   "cell_type": "markdown",
   "metadata": {},
   "source": [
    "## Practical Example No. 1: Fibonacci Sequences and Golden Ratio"
   ]
  },
  {
   "cell_type": "markdown",
   "metadata": {},
   "source": [
    "At this point you have seen enough material to start doing some initial scientific computiong. Lets start applying all that you have learned up to now.\n",
    "\n",
    "For this introduction to Python language, we will use the Fibonacci Sequence as an excuse to start using the basics of the language. \n",
    "\n",
    "The Fibonacci sequence is a series of numbers generatated iteratively like this\n",
    "\n",
    "$F_n=F_{n-1}+F_{n-2}$\n",
    "\n",
    "where we can start with seeds $F_0=0$ and $F_1=1$\n",
    "\n",
    "Starting with those seeds we can compute $F_2$, $F_3$ and so on until an arbitrary large $F_n$\n",
    "\n",
    "The Fibonacci Sequence looks like this:\n",
    "\n",
    "$$0,\\; 1,\\;1,\\;2,\\;3,\\;5,\\;8,\\;13,\\;21,\\;34,\\;55,\\;89,\\;144,\\; \\ldots\\; $$\n",
    "\n",
    "Lets play with this in our first Python program."
   ]
  },
  {
   "cell_type": "markdown",
   "metadata": {},
   "source": [
    "Lets start by defining the first two elements in the Fibonacci series"
   ]
  },
  {
   "cell_type": "code",
   "execution_count": 92,
   "metadata": {},
   "outputs": [],
   "source": [
    "a = 0\n",
    "b = 1"
   ]
  },
  {
   "cell_type": "markdown",
   "metadata": {},
   "source": [
    "We now know that we can get a new variable to store the sum of `a` and `b`"
   ]
  },
  {
   "cell_type": "code",
   "execution_count": 93,
   "metadata": {},
   "outputs": [],
   "source": [
    "c = a + b"
   ]
  },
  {
   "cell_type": "markdown",
   "metadata": {},
   "source": [
    "Remember that the built-in function `range()` will create an iterable"
   ]
  },
  {
   "cell_type": "code",
   "execution_count": 94,
   "metadata": {
    "scrolled": true
   },
   "outputs": [
    {
     "data": {
      "text/plain": [
       "range(0, 10)"
      ]
     },
     "execution_count": 94,
     "metadata": {},
     "output_type": "execute_result"
    }
   ],
   "source": [
    "range(10)"
   ]
  },
  {
   "cell_type": "markdown",
   "metadata": {},
   "source": [
    "In Python 3.x, if you want to see the values explicitly, you have to convert it into a list, using the function 'list()'. \n",
    "Both works basically the same way for the level of this tutorial."
   ]
  },
  {
   "cell_type": "code",
   "execution_count": 95,
   "metadata": {},
   "outputs": [
    {
     "data": {
      "text/plain": [
       "[0, 1, 2, 3, 4, 5, 6, 7, 8, 9]"
      ]
     },
     "execution_count": 95,
     "metadata": {},
     "output_type": "execute_result"
    }
   ],
   "source": [
    "list(range(10))"
   ]
  },
  {
   "cell_type": "markdown",
   "metadata": {},
   "source": [
    "Now we can introduce a `for` using the iterable range(10) loop to see the first 10 elements in the Fibonacci sequence"
   ]
  },
  {
   "cell_type": "code",
   "execution_count": 96,
   "metadata": {},
   "outputs": [
    {
     "name": "stdout",
     "output_type": "stream",
     "text": [
      "0\n",
      "1\n",
      "1\n",
      "2\n",
      "3\n",
      "5\n",
      "8\n",
      "13\n",
      "21\n",
      "34\n",
      "55\n",
      "89\n"
     ]
    }
   ],
   "source": [
    "a = 0\n",
    "b = 1\n",
    "print(a)\n",
    "print(b)\n",
    "for i in range(10):\n",
    "    c = a+b\n",
    "    print(c)\n",
    "    a = b\n",
    "    b = c"
   ]
  },
  {
   "cell_type": "markdown",
   "metadata": {},
   "source": [
    "This is a simple way to iteratively generating the Fibonacci sequence. Now, imagine that we want to store the values of the sequence. \n",
    "Lists are the best containers so far, there are better options with `Numpy` something that we will see later. \n",
    "We can just use the append method for list and continuously add new numbers to the list.\n"
   ]
  },
  {
   "cell_type": "code",
   "execution_count": 97,
   "metadata": {},
   "outputs": [
    {
     "name": "stdout",
     "output_type": "stream",
     "text": [
      "[0, 1, 1, 2, 3, 5, 8, 13, 21, 34, 55, 89]\n"
     ]
    }
   ],
   "source": [
    "fib = [0, 1]\n",
    "for i in range(1,11):\n",
    "    fib.append(fib[i]+fib[i-1])\n",
    "print(fib)"
   ]
  },
  {
   "cell_type": "markdown",
   "metadata": {},
   "source": [
    "The append method works by adding the element at the end of the list. \n",
    "\n",
    "Lets continue with the creation of a Fibonacci function.\n",
    "We can create a fibonacci function to return the fibonacci number for an arbitrary iteration, see for example:"
   ]
  },
  {
   "cell_type": "code",
   "execution_count": 98,
   "metadata": {},
   "outputs": [],
   "source": [
    "def fibonacci_recursive(n):\n",
    "    if n < 2:\n",
    "        return n\n",
    "    else:\n",
    "        return fibonacci_recursive(n-2) + fibonacci_recursive(n-1)"
   ]
  },
  {
   "cell_type": "code",
   "execution_count": 99,
   "metadata": {},
   "outputs": [
    {
     "data": {
      "text/plain": [
       "8"
      ]
     },
     "execution_count": 99,
     "metadata": {},
     "output_type": "execute_result"
    }
   ],
   "source": [
    "fibonacci_recursive(6)"
   ]
  },
  {
   "cell_type": "markdown",
   "metadata": {},
   "source": [
    "We can recreate the list using this function, see the next code:"
   ]
  },
  {
   "cell_type": "code",
   "execution_count": 100,
   "metadata": {},
   "outputs": [
    {
     "name": "stdout",
     "output_type": "stream",
     "text": [
      "[0, 1, 1, 2, 3, 5, 8, 13, 21, 34, 55, 89, 144, 233, 377, 610, 987, 1597, 2584, 4181]\n"
     ]
    }
   ],
   "source": [
    "print([ fibonacci_recursive(n) for n in range (20) ])"
   ]
  },
  {
   "cell_type": "markdown",
   "metadata": {},
   "source": [
    "We are using a list comprehension. There is another way to obtain the same result using the so called lambda functions:"
   ]
  },
  {
   "cell_type": "code",
   "execution_count": 101,
   "metadata": {},
   "outputs": [
    {
     "name": "stdout",
     "output_type": "stream",
     "text": [
      "[0, 1, 1, 2, 3, 5, 8, 13, 21, 34, 55, 89, 144, 233, 377, 610, 987, 1597, 2584, 4181]\n"
     ]
    }
   ],
   "source": [
    "print(list(map(lambda x: fibonacci_recursive(x), range(20))))"
   ]
  },
  {
   "cell_type": "markdown",
   "metadata": {},
   "source": [
    "lambda functions are some sort of anonymous functions. They are indeed very popular in functional programming and Python with its multiparadigm style makes lambda functions common place in many situations.\n",
    "\n",
    "Using fibonacci_recursive is a very inefficient of generate the Fibonacci sequence even more as n increases. The larger the value of n more calls to fibonacci_recursive are necessary. \n",
    "\n",
    "There is an elegant solucion to use the redundant recursion:"
   ]
  },
  {
   "cell_type": "code",
   "execution_count": 102,
   "metadata": {},
   "outputs": [],
   "source": [
    "def fibonacci_fastrec(n):\n",
    "    def fib(prvprv, prv, c):\n",
    "        if c < 1: return prvprv\n",
    "        else: return fib(prv, prvprv + prv, c - 1) \n",
    "    return fib(0, 1, n)"
   ]
  },
  {
   "cell_type": "code",
   "execution_count": 103,
   "metadata": {},
   "outputs": [
    {
     "name": "stdout",
     "output_type": "stream",
     "text": [
      "[0, 1, 1, 2, 3, 5, 8, 13, 21, 34, 55, 89, 144, 233, 377, 610, 987, 1597, 2584, 4181]\n"
     ]
    }
   ],
   "source": [
    "print([ fibonacci_fastrec(n) for n in range (20) ])"
   ]
  },
  {
   "cell_type": "markdown",
   "metadata": {},
   "source": [
    "This solution is still recursive but avoiding the two fold recursion from the first function.\n",
    "With IPython we can use the magic `%timeit` to benchmark the difference between both implementations"
   ]
  },
  {
   "cell_type": "code",
   "execution_count": 104,
   "metadata": {},
   "outputs": [
    {
     "name": "stdout",
     "output_type": "stream",
     "text": [
      "40.8 µs ± 1.01 µs per loop (mean ± std. dev. of 7 runs, 10000 loops each)\n"
     ]
    }
   ],
   "source": [
    "%timeit [fibonacci_fastrec(n) for n in range (20)]"
   ]
  },
  {
   "cell_type": "code",
   "execution_count": 105,
   "metadata": {},
   "outputs": [
    {
     "name": "stdout",
     "output_type": "stream",
     "text": [
      "4.88 ms ± 326 µs per loop (mean ± std. dev. of 7 runs, 100 loops each)\n"
     ]
    }
   ],
   "source": [
    "%timeit [fibonacci_recursive(n) for n in range (20)]"
   ]
  },
  {
   "cell_type": "markdown",
   "metadata": {},
   "source": [
    "%timeit is not a Python command. It is a magic command of IPython, however Python itself provides a more restritive functionality. This can be provided with the time package as:"
   ]
  },
  {
   "cell_type": "code",
   "execution_count": 106,
   "metadata": {},
   "outputs": [
    {
     "name": "stdout",
     "output_type": "stream",
     "text": [
      "hello\n",
      "0.0001690387725830078\n"
     ]
    }
   ],
   "source": [
    "import time\n",
    "\n",
    "start = time.time()\n",
    "print(\"hello\")\n",
    "end = time.time()\n",
    "print(end - start)"
   ]
  },
  {
   "cell_type": "markdown",
   "metadata": {},
   "source": [
    "Finally, there is also an analytical expression for the Fibonacci sequence, so the entire recursion could be avoided."
   ]
  },
  {
   "cell_type": "code",
   "execution_count": 107,
   "metadata": {},
   "outputs": [],
   "source": [
    "from math import sqrt\n",
    " \n",
    "def analytic_fibonacci(n):\n",
    "    if n == 0:\n",
    "        return 0\n",
    "    else:\n",
    "        sqrt_5 = sqrt(5);\n",
    "        p = (1 + sqrt_5) / 2;\n",
    "        q = 1/p;\n",
    "        return int( (p**n + q**n) / sqrt_5 + 0.5 )\n",
    " "
   ]
  },
  {
   "cell_type": "code",
   "execution_count": 108,
   "metadata": {},
   "outputs": [
    {
     "name": "stdout",
     "output_type": "stream",
     "text": [
      "[0, 1, 1, 2, 3, 5, 8, 13, 21, 34, 55, 89, 144, 233, 377, 610, 987, 1597, 2584, 4181, 6765, 10946, 17711, 28657, 46368, 75025, 121393, 196418, 317811, 514229, 832040, 1346269, 2178309, 3524578, 5702887, 9227465, 14930352, 24157817, 39088169, 63245986]\n"
     ]
    }
   ],
   "source": [
    "print([ analytic_fibonacci(n) for n in range (40) ])"
   ]
  },
  {
   "cell_type": "code",
   "execution_count": 109,
   "metadata": {},
   "outputs": [
    {
     "name": "stdout",
     "output_type": "stream",
     "text": [
      "28.5 µs ± 3.28 µs per loop (mean ± std. dev. of 7 runs, 10000 loops each)\n"
     ]
    }
   ],
   "source": [
    "%timeit [analytic_fibonacci(n) for n in range (40)]"
   ]
  },
  {
   "cell_type": "markdown",
   "metadata": {},
   "source": [
    "There is an interesting property of the Fibonacci sequence, the ratio between consecutive elements converges to a finite value, the so called golden number. Let us store this ratio number in a list as the Fibonacci series grow. Here we introduce the function zip() from Python. zip() is used to map the similar index of multiple containers so that they can be used just using as single entity. As zip is not easy to understand and before we describe the fibonacci method, let me give you a simple example of using zip"
   ]
  },
  {
   "cell_type": "code",
   "execution_count": 233,
   "metadata": {},
   "outputs": [
    {
     "name": "stdout",
     "output_type": "stream",
     "text": [
      "The zipped result is : {('the Fibonacci', 2, 377), ('am', 1, 233), ('I', 1, 144), ('Series', 3, 610)}\n",
      "First string : ('the Fibonacci', 'am', 'I', 'Series')\n",
      "Second string : (2, 1, 1, 3)\n",
      "Third string : (377, 233, 144, 610)\n"
     ]
    }
   ],
   "source": [
    "# initializing lists \n",
    "sentence = [ \"I\", \"am\", \"the Fibonacci\", \"Series\" ] \n",
    "first_serie = [ 1, 1, 2, 3 ] \n",
    "second_serie = [ 144, 233, 377, 610 ] \n",
    "  \n",
    "mapped = zip(sentence, first_serie,second_serie) \n",
    "  \n",
    "# converting values to print as set \n",
    "mapped = set(mapped) \n",
    "   \n",
    "print (\"The zipped result is : \",end=\"\") \n",
    "print (mapped) \n",
    "\n",
    "# Unzipping means converting the zipped values back to the individual self as they were. \n",
    "# This is done with the help of “*” operator.\n",
    "\n",
    "s1, s2, s3 = zip(*mapped) \n",
    "\n",
    "print (\"First string : \",end=\"\") \n",
    "print (s1) \n",
    "  \n",
    "print (\"Second string : \",end=\"\") \n",
    "print (s2) \n",
    "  \n",
    "print (\"Third string : \",end=\"\") \n",
    "print (s3) \n"
   ]
  },
  {
   "cell_type": "markdown",
   "metadata": {},
   "source": [
    "Now let us go back to Fibonacci"
   ]
  },
  {
   "cell_type": "code",
   "execution_count": 110,
   "metadata": {},
   "outputs": [
    {
     "data": {
      "text/plain": [
       "[1.0,\n",
       " 2.0,\n",
       " 1.5,\n",
       " 1.6666666666666667,\n",
       " 1.6,\n",
       " 1.625,\n",
       " 1.6153846153846154,\n",
       " 1.619047619047619,\n",
       " 1.6176470588235294,\n",
       " 1.6181818181818182,\n",
       " 1.6179775280898876,\n",
       " 1.6180555555555556,\n",
       " 1.6180257510729614,\n",
       " 1.6180371352785146,\n",
       " 1.618032786885246,\n",
       " 1.618034447821682,\n",
       " 1.6180338134001253,\n",
       " 1.618034055727554,\n",
       " 1.6180339631667064,\n",
       " 1.6180339985218033,\n",
       " 1.618033985017358,\n",
       " 1.6180339901755971,\n",
       " 1.618033988205325,\n",
       " 1.618033988957902,\n",
       " 1.6180339886704431,\n",
       " 1.6180339887802426,\n",
       " 1.618033988738303,\n",
       " 1.6180339887543225,\n",
       " 1.6180339887482036,\n",
       " 1.6180339887505408,\n",
       " 1.6180339887496482,\n",
       " 1.618033988749989,\n",
       " 1.618033988749859,\n",
       " 1.6180339887499087,\n",
       " 1.6180339887498896,\n",
       " 1.618033988749897,\n",
       " 1.618033988749894,\n",
       " 1.6180339887498951]"
      ]
     },
     "execution_count": 110,
     "metadata": {},
     "output_type": "execute_result"
    }
   ],
   "source": [
    "fib= [fibonacci_fastrec(n) for n in range (40)]\n",
    "X=[ x/y for x,y in zip(fib[2:],fib[1:-1]) ]\n",
    "X"
   ]
  },
  {
   "cell_type": "markdown",
   "metadata": {},
   "source": [
    "The asymptotic value of the ratio is called the Golden Ratio, its value is $\\varphi = \\frac{1+\\sqrt{5}}{2} = 1.6180339887\\ldots.$"
   ]
  },
  {
   "cell_type": "code",
   "execution_count": 111,
   "metadata": {},
   "outputs": [],
   "source": [
    "import math\n",
    "\n",
    "golden=(1+math.sqrt(5))/2"
   ]
  },
  {
   "cell_type": "markdown",
   "metadata": {},
   "source": [
    "We can now plot how each ratio in the Fibonacci sequence is closer and closer to the gloden ratio"
   ]
  },
  {
   "cell_type": "code",
   "execution_count": 112,
   "metadata": {},
   "outputs": [],
   "source": [
    "import matplotlib.pyplot as plt\n",
    "\n",
    "plt.semilogy([math.fabs(x - golden) for x in X]);"
   ]
  },
  {
   "cell_type": "markdown",
   "metadata": {},
   "source": [
    "#### Functional Programming"
   ]
  },
  {
   "cell_type": "markdown",
   "metadata": {},
   "source": [
    "Before we discuss object oriented programming, it will be useful to discuss functional programming. This is the ability in python that a function can be called by another function. There are several existing cases in python."
   ]
  },
  {
   "cell_type": "code",
   "execution_count": 33,
   "metadata": {},
   "outputs": [
    {
     "name": "stdout",
     "output_type": "stream",
     "text": [
      "<map object at 0x7f8c475890d0>\n",
      "[0.2994317941011436, 0.2064064137666729, 0.4364727062007059, 0.29724062966754383, 0.6945301791124053, 0.18946304207676024, 0.9079177040431745, 0.3092527077175665, 0.47458878328279275, 0.8371554987670669, 0.5831544626314061, 0.48631274444720174, 0.2987219007928583, 0.15602408779559773, 0.20812856054714923, 0.3436860552724196, 0.203080665475334, 0.6815937212152641, 0.011276010682612858, 0.5877725777552603]\n"
     ]
    }
   ],
   "source": [
    "#map() function\n",
    "import numpy as np\n",
    "a=np.random.rand(20)\n",
    "b=np.random.rand(20)\n",
    "#here min is an existing function that compare two arguments, we can even create a function and use it in map\n",
    "lower=map(min,a,b)\n",
    "# this is an example of lazy evaluation, this is now an object, we will see the result only when we ask for the\n",
    "# result.\n",
    "print(lower)\n",
    "#now let us see what is inside\n",
    "print(list(lower))"
   ]
  },
  {
   "cell_type": "code",
   "execution_count": 38,
   "metadata": {},
   "outputs": [
    {
     "name": "stdout",
     "output_type": "stream",
     "text": [
      "6\n",
      "phone 333333\n",
      "email al@gmail.com\n"
     ]
    }
   ],
   "source": [
    "#lambda this is a method to define a function in a single line\n",
    "#in this example we define a function that received three parameters and summ them up.\n",
    "myfunction=lambda a,b,c: a+b+c\n",
    "print(myfunction(1,2,3))\n",
    "\n",
    "#another example\n",
    "a=[\"phone:333333\",\"email:al@gmail.com\"]\n",
    "for a in a:\n",
    "    print((lambda x: x.split(\":\")[0] + ' ' + x.split(\":\")[-1])(a))"
   ]
  },
  {
   "cell_type": "markdown",
   "metadata": {},
   "source": [
    "# Python Syntax IV: Object-Oriented Programming"
   ]
  },
  {
   "cell_type": "markdown",
   "metadata": {},
   "source": [
    "Object-oriented programming (OOP) is a programming paradigm based on the concept of **objects**, which can contain data, in the form of fields (often known as **attributes** or **properties**), and code, in the form of procedures (often known as **methods**). A feature of objects is an object's procedures that can access and often modify the data fields of the object with which they are associated (objects have a notion of \"this\" or \"self\"). In OOP, computer programs are designed by making them out of objects that interact with one another. \n",
    "\n",
    ">Object-oriented programming is more than just classes and objects; it's a whole programming paradigm based around [sic] objects (data structures) that contain data fields and methods. It is essential to understand this; using classes to organize a bunch of unrelated methods together is not object orientation.\n",
    ">\n",
    ">   *Junade Ali, Mastering PHP Design Patterns*\n",
    "\n",
    "\n",
    "Classes is a central concept in OOP. Classes provide means of bundling data and functionality together. Instances of a class are called objects. Each class instance can have attributes attached to it for maintaining its state. Class instances can also have methods (defined by its class) for modifying its state.\n",
    "\n",
    "\n",
    "\n",
    "\n",
    "The syntax for defining classes in Python is shown with some plain examples. Anything indented in the class, it is within the scope of the class. Usually they are named such that the first letter is capitalized. Variables can be defined withing the class but you can also initialize some variables by calling, *__init__*, which sets the values for any parameters that need to be defined when an object is first created. You define then methods within the class but to have access to that method, you need to include *self* in the method signature. Now, to use use, you just call the class, which then will create all variables within the class. If the class is created with some parameter, it will pass directly the variable that has been instatiated in *init*. "
   ]
  },
  {
   "cell_type": "code",
   "execution_count": 113,
   "metadata": {},
   "outputs": [
    {
     "name": "stdout",
     "output_type": "stream",
     "text": [
      "Hello, Fred\n",
      "HELLO, FRED!\n"
     ]
    }
   ],
   "source": [
    "class Greeter:\n",
    "    myvariable='nothing of use'\n",
    "\n",
    "\n",
    "    # Constructor\n",
    "    def __init__(self, name):\n",
    "        self.name = name  # Create an instance variable\n",
    "\n",
    "    # Instance method\n",
    "    def greet(self, loud=False):\n",
    "        if loud:\n",
    "            print('HELLO, %s!' % self.name.upper())\n",
    "        else:\n",
    "            print('Hello, %s' % self.name)\n",
    "\n",
    "g = Greeter('Fred')  # Construct an instance of the Greeter class\n",
    "g.greet()            # Call an instance method; prints \"Hello, Fred\"\n",
    "g.greet(loud=True)   # Call an instance method; prints \"HELLO, FRED!\""
   ]
  },
  {
   "cell_type": "code",
   "execution_count": 114,
   "metadata": {},
   "outputs": [],
   "source": [
    "# Let us start with a very simple class\n",
    "\n",
    "class MyClass:\n",
    "#create objects with instances customized to a specific initial state, here data is defined as an empty vector\n",
    "#The self parameter is a reference to the current instance of the class, \n",
    "#and is used to access variables that belongs to the class\n",
    "    def __init__(self):\n",
    "        self.data = []\n",
    "    \"\"\"A simple example class\"\"\"\n",
    "    i = 12345\n",
    "\n",
    "    def f(self):\n",
    "        return 'hello world'\n"
   ]
  },
  {
   "cell_type": "code",
   "execution_count": 115,
   "metadata": {},
   "outputs": [
    {
     "name": "stdout",
     "output_type": "stream",
     "text": [
      "12345\n",
      "<function MyClass.f at 0x1060bbb90>\n"
     ]
    }
   ],
   "source": [
    "#instantiation the class\n",
    "x=MyClass\n",
    "print(x.i)\n",
    "print(x.f)"
   ]
  },
  {
   "cell_type": "code",
   "execution_count": 116,
   "metadata": {},
   "outputs": [
    {
     "name": "stdout",
     "output_type": "stream",
     "text": [
      "John\n",
      "36\n",
      "Hello my name is John\n"
     ]
    }
   ],
   "source": [
    "class Person:\n",
    "  def __init__(self, name, age):\n",
    "    self.name = name\n",
    "    self.age = age\n",
    "\n",
    "  def myfunc(self):\n",
    "    print(\"Hello my name is \" + self.name)\n",
    "\n",
    "p1 = Person(\"John\", 36)\n",
    "\n",
    "\n",
    "print(p1.name)\n",
    "print(p1.age)\n",
    "p1.myfunc()\n",
    "     "
   ]
  },
  {
   "cell_type": "code",
   "execution_count": 117,
   "metadata": {},
   "outputs": [
    {
     "name": "stdout",
     "output_type": "stream",
     "text": [
      "Rocket altitude: 1\n",
      "Rocket altitude: 0\n",
      "Rocket altitude: 0\n",
      "Rocket altitude: 0\n",
      "Rocket altitude: 0\n"
     ]
    }
   ],
   "source": [
    "class Rocket():\n",
    "    # Rocket simulates a rocket ship for a game,\n",
    "    #  or a physics simulation.\n",
    "    \n",
    "    def __init__(self):\n",
    "        # Each rocket has an (x,y) position.\n",
    "        self.x = 0\n",
    "        self.y = 0\n",
    "        \n",
    "    def move_up(self):\n",
    "        # Increment the y-position of the rocket.\n",
    "        self.y += 1\n",
    "        \n",
    "# Create a fleet of 5 rockets, and store them in a list.\n",
    "my_rockets = [Rocket() for x in range(0,5)]\n",
    "\n",
    "# Move the first rocket up.\n",
    "my_rockets[0].move_up()\n",
    "\n",
    "# Show that only the first rocket has moved.\n",
    "for rocket in my_rockets:\n",
    "    print(\"Rocket altitude:\", rocket.y)"
   ]
  },
  {
   "cell_type": "markdown",
   "metadata": {},
   "source": [
    "## Practical Example No. 2: Quaternions"
   ]
  },
  {
   "cell_type": "markdown",
   "metadata": {},
   "source": [
    "We are used to work with several numeric systems, for example:\n",
    "\n",
    "     Natural numbers:\n",
    "$$\\mathbb{N} \\rightarrow 0, 1, 2, 3, 4, \\cdots \\; \\text{or}\\;  1, 2, 3, 4, \\cdots$$\n",
    "\n",
    "    Integer numbers:\n",
    "$$\\mathbb{Z} \\rightarrow \\cdots, −5, −4, −3, −2, −1, 0, 1, 2, 3, 4, 5, \\cdots$$\n",
    "\n",
    "    Rational numbers:\n",
    "$$\\mathbb{Q} \\rightarrow \\frac{a}{b} \\;\\mathrm{where}\\;  a \\text{and}\\; b  \\in \\mathbb{Z} \\; \\mathrm{and}\\; b \\neq 0$$\n",
    "\n",
    "    Real numbers:\n",
    "$$\\mathbb{R} \\rightarrow \\text{The limit of a convergent sequence of rational numbers. examples:}\\;  \\pi=3.1415..., \\phi=1.61803..., etc$$\n",
    "\n",
    "    Complex numbers:\n",
    "$$\\mathbb{C} \\rightarrow a + b i \\;\\text{or}\\; a +  i b \\;\\text{where}\\; a \\;\\text{and}\\; b \\in \\mathbb{R} \\;\\text{and}\\; i=\\sqrt{−1}$$\n",
    "\n",
    "There are, however other sets of numbers, some of them are  called **hypercomplex numbers**. They include the **Quaternions** $\\mathbb{H}$, invented by Sir William Rowan Hamilton, in which multiplication is not _commutative_, and the **Octonions** $\\mathbb{O}$, in which multiplication is _not associative_.\n",
    "\n",
    "\n",
    "The use of these type of number is quite broad but maybe the most important use comes from engineering and computer description of moving objects, as they can be used to represent transformations of orientations of graphical objects. They are also used in Quantum Mechanics in the case of Spinors.\n",
    "\n",
    "We will used the Quaternions as excuse to introduce key concepts in object oriented programming using Python. Complex numbers can be thought of as tuples of real numbers. Every complex is a real **linear combination** of the _unit complex_:\n",
    "\n",
    "$$\\lbrace e_0, e_1, \\rbrace$$\n",
    "\n",
    "There are rules about how to multiply complex numbers. They can be expressed in the following table:\n",
    "\n",
    "<style type=\"text/css\">\n",
    ".tg  {border-collapse:collapse;border-spacing:0;}\n",
    ".tg td{font-family:Arial, sans-serif;font-size:14px;padding:10px 20px;border-style:solid;border-width:1px;overflow:hidden;word-break:normal;}\n",
    ".tg th{font-family:Arial, sans-serif;font-size:14px;font-weight:normal;padding:10px 20px;border-style:solid;border-width:1px;overflow:hidden;word-break:normal;}\n",
    "</style>\n",
    "<table class=\"tg\">\n",
    "  <tr>\n",
    "    <th class=\"tg-031e\">$\\times$</th>\n",
    "    <th class=\"tg-031e\">$1$</th>\n",
    "    <th class=\"tg-031e\">$i$</th>\n",
    "  </tr>\n",
    "  <tr>\n",
    "    <td class=\"tg-031e\">$1$</td>\n",
    "    <td class=\"tg-031e\">$1$</td>\n",
    "    <td class=\"tg-031e\">$i$</td>\n",
    "  </tr>\n",
    "  <tr>\n",
    "    <td class=\"tg-031e\">$i$</td>\n",
    "    <td class=\"tg-031e\">$i$</td>\n",
    "    <td class=\"tg-031e\">$-1$</td>\n",
    "  </tr>\n",
    "</table>\n",
    "\n",
    "Similarly, Quaternions can be thought of as 4-tuples of real numbers. Each Quatrnion is a real **linear combination** of the _unit quaternion set_:\n",
    "\n",
    "$$\\lbrace e_0, e_1, e_2, e_3 \\rbrace$$\n",
    "\n",
    "The rules about how to multiply Quaternions are different from Complex and Reals. They can be expressed in the following table:\n",
    "\n",
    "<style type=\"text/css\">\n",
    ".tg  {border-collapse:collapse;border-spacing:0;}\n",
    ".tg td{font-family:Arial, sans-serif;font-size:14px;padding:10px 20px;border-style:solid;border-width:1px;overflow:hidden;word-break:normal;}\n",
    ".tg th{font-family:Arial, sans-serif;font-size:14px;font-weight:normal;padding:10px 20px;border-style:solid;border-width:1px;overflow:hidden;word-break:normal;}\n",
    "</style>\n",
    "<table class=\"tg\">\n",
    "  <tr>\n",
    "    <th class=\"tg-031e\">$\\times$</th>\n",
    "    <th class=\"tg-031e\">$1$</th>\n",
    "    <th class=\"tg-031e\">$i$</th>\n",
    "    <th class=\"tg-031e\">$j$</th>\n",
    "    <th class=\"tg-031e\">$k$</th>\n",
    "  </tr>\n",
    "  <tr>\n",
    "    <td class=\"tg-031e\">$1$</td>\n",
    "    <td class=\"tg-031e\">$1$</td>\n",
    "    <td class=\"tg-031e\">$i$</td>\n",
    "    <td class=\"tg-031e\">$j$<br></td>\n",
    "    <td class=\"tg-031e\">$k$</td>\n",
    "  </tr>\n",
    "  <tr>\n",
    "    <td class=\"tg-031e\">$i$</td>\n",
    "    <td class=\"tg-031e\">$i$</td>\n",
    "    <td class=\"tg-031e\">$-1$</td>\n",
    "    <td class=\"tg-031e\">$k$</td>\n",
    "    <td class=\"tg-031e\">$-j$</td>\n",
    "  </tr>\n",
    "  <tr>\n",
    "    <td class=\"tg-031e\">$j$</td>\n",
    "    <td class=\"tg-031e\">$j$</td>\n",
    "    <td class=\"tg-031e\">$-k$</td>\n",
    "    <td class=\"tg-031e\">$-1$</td>\n",
    "    <td class=\"tg-031e\">$i$</td>\n",
    "  </tr>\n",
    "  <tr>\n",
    "    <td class=\"tg-031e\">$k$</td>\n",
    "    <td class=\"tg-031e\">$k$</td>\n",
    "    <td class=\"tg-031e\">$j$</td>\n",
    "    <td class=\"tg-031e\">$-i$</td>\n",
    "    <td class=\"tg-031e\">$-1$</td>\n",
    "  </tr>\n",
    "</table>\n",
    "\n",
    "Our objective is to create a Python Class that could deal with Quaternions as simple and direct as possible. A class is a concept from Object-Oriented programming that allow to abstract the idea of an object. An object is something that has properties and is able to do things. In our case we will create a _class_ Quaternion. Instances of the class will be specific quaternions. We can do things with quaternions such as _add_ two quaternions, multiply them using the multiplication rule above, we can do pretty much the same kind of things that we can expect from complex numbers but in a rather more elaborated way. Let us create a first our first version of the class Quaternion and we will improve it later on.\n"
   ]
  },
  {
   "cell_type": "code",
   "execution_count": 118,
   "metadata": {},
   "outputs": [],
   "source": [
    "from numbers import Number\n",
    "from math import sqrt\n",
    "\n",
    "class Quaternion():\n",
    "    \n",
    "    def __init__(self,value=None):\n",
    "        if value is None:\n",
    "            self.values = tuple((0,0,0,0))\n",
    "        elif isinstance(value,(int,float)):\n",
    "            self.values = tuple((value, 0, 0, 0))\n",
    "        elif isinstance(value,complex):\n",
    "            self.values = tuple((value.real, value.imag, 0, 0))\n",
    "        elif isinstance(value,(tuple, list)):\n",
    "            self.values = tuple(value)\n",
    "\n",
    "    def __eq__(self,other):\n",
    "        if isinstance(other, Number):\n",
    "            other= self.__class__(other)\n",
    "        return self.values == other.values\n",
    "        \n",
    "    __req__ = __eq__\n",
    "            \n",
    "    \n",
    "    def __str__(self):\n",
    "        sigii = '+' if self.values[1] >= 0 else '-'\n",
    "        sigjj = '+' if self.values[2] >= 0 else '-'\n",
    "        sigkk = '+' if self.values[3] >= 0 else '-'\n",
    "        return \"%.3f %s %.3f i %s %.3f j %s %.3f k\" % ( self.values[0], sigii, abs(self.values[1]), sigjj, abs(self.values[2]), sigkk, abs(self.values[3])) \n",
    "        \n",
    "    def __repr__(self):\n",
    "        return 'Quaternion('+str(self.values)+')'\n",
    "\n",
    "    @property\n",
    "    def scalar_part(self):\n",
    "        return self.values[0]\n",
    "    \n",
    "    @property\n",
    "    def vector_part(self):\n",
    "        return self.values[1:]\n",
    "\n",
    "    @staticmethod\n",
    "    def one():\n",
    "        return Quaternion((1,0,0,0))\n",
    "\n",
    "    @staticmethod\n",
    "    def ii():\n",
    "        return Quaternion((0,1,0,0))\n",
    "    \n",
    "    @staticmethod\n",
    "    def jj():\n",
    "        return Quaternion((0,0,1,0))\n",
    "\n",
    "    @staticmethod\n",
    "    def kk():\n",
    "        return Quaternion((0,0,0,1))\n",
    "    \n",
    "    def __add__(self, other):\n",
    "        if isinstance(other, Number):\n",
    "            other = self.__class__(other)\n",
    "        ret=[0,0,0,0]\n",
    "        for i in range(4):\n",
    "            ret[i]=self.values[i]+other.values[i]\n",
    "        return self.__class__(ret)\n",
    "    \n",
    "    __radd__ = __add__\n",
    "\n",
    "    \n",
    "    def __mul__(self, other):\n",
    "        if isinstance(other, Number):\n",
    "            other = self.__class__(other)\n",
    "        ret = [0,0,0,0]\n",
    "        ret[0] = self.values[0]*other.values[0]-self.values[1]*other.values[1]-self.values[2]*other.values[2]-self.values[3]*other.values[3]\n",
    "        ret[1] = self.values[0]*other.values[1]+self.values[1]*other.values[0]+self.values[2]*other.values[3]-self.values[3]*other.values[2]\n",
    "        ret[2] = self.values[0]*other.values[2]+self.values[2]*other.values[0]+self.values[3]*other.values[1]-self.values[1]*other.values[3]\n",
    "        ret[3] = self.values[0]*other.values[3]+self.values[3]*other.values[0]+self.values[1]*other.values[2]-self.values[2]*other.values[1]\n",
    "        return self.__class__(ret)\n",
    "\n",
    "    def __rmul__(self, other):\n",
    "        if isinstance(other, Number):\n",
    "            other= self.__class__(other)\n",
    "        ret = [0,0,0,0]\n",
    "        ret[0] = self.values[0]*other.values[0]-self.values[1]*other.values[1]-self.values[2]*other.values[2]-self.values[3]*other.values[3]\n",
    "        ret[1] = self.values[0]*other.values[1]+self.values[1]*other.values[0]-self.values[2]*other.values[3]+self.values[3]*other.values[2]\n",
    "        ret[2] = self.values[0]*other.values[2]+self.values[2]*other.values[0]-self.values[3]*other.values[1]+self.values[1]*other.values[3]\n",
    "        ret[3] = self.values[0]*other.values[3]+self.values[3]*other.values[0]-self.values[1]*other.values[2]+self.values[2]*other.values[1]\n",
    "        return self.__class__(ret)\n",
    "\n",
    "    def norm(self):\n",
    "        return sqrt(self.values[0]*self.values[0]+self.values[1]*self.values[1]+self.values[2]*self.values[2]+self.values[3]*self.values[3])\n",
    "    \n",
    "    def conjugate(self):\n",
    "        return Quaternion((self.values[0], -self.values[1], -self.values[2], -self.values[3] ))\n",
    "    \n",
    "    def inverse(self):\n",
    "        return self.conjugate()*(1.0/self.norm()**2)\n",
    "    \n",
    "    def unitary(self):\n",
    "        return self*(1.0/self.norm())"
   ]
  },
  {
   "cell_type": "markdown",
   "metadata": {},
   "source": [
    "Lets explore in detail all the code above. When a new object of the class Quaternion is created the python interpreter calls the `__init__` method. The values could be entered as _tuple_ or _list_, internally the four values of the Quaternion will be stored in a tuple. See now some examples of Quaternions created explicitelly:"
   ]
  },
  {
   "cell_type": "code",
   "execution_count": 119,
   "metadata": {},
   "outputs": [
    {
     "data": {
      "text/plain": [
       "Quaternion((0, 2, 3.7, 9))"
      ]
     },
     "execution_count": 119,
     "metadata": {},
     "output_type": "execute_result"
    }
   ],
   "source": [
    "Quaternion([0,2,3.7,9]) "
   ]
  },
  {
   "cell_type": "code",
   "execution_count": 120,
   "metadata": {},
   "outputs": [
    {
     "data": {
      "text/plain": [
       "Quaternion((2, 5, 0, 8))"
      ]
     },
     "execution_count": 120,
     "metadata": {},
     "output_type": "execute_result"
    }
   ],
   "source": [
    "Quaternion((2,5,0,8))"
   ]
  },
  {
   "cell_type": "code",
   "execution_count": 121,
   "metadata": {},
   "outputs": [
    {
     "data": {
      "text/plain": [
       "Quaternion((0, 0, 0, 0))"
      ]
     },
     "execution_count": 121,
     "metadata": {},
     "output_type": "execute_result"
    }
   ],
   "source": [
    "Quaternion()"
   ]
  },
  {
   "cell_type": "code",
   "execution_count": 122,
   "metadata": {},
   "outputs": [
    {
     "data": {
      "text/plain": [
       "Quaternion((3, 0, 0, 0))"
      ]
     },
     "execution_count": 122,
     "metadata": {},
     "output_type": "execute_result"
    }
   ],
   "source": [
    "Quaternion(3)"
   ]
  },
  {
   "cell_type": "code",
   "execution_count": 123,
   "metadata": {},
   "outputs": [
    {
     "data": {
      "text/plain": [
       "Quaternion((3.0, 4.0, 0, 0))"
      ]
     },
     "execution_count": 123,
     "metadata": {},
     "output_type": "execute_result"
    }
   ],
   "source": [
    "Quaternion(3+4j)"
   ]
  },
  {
   "cell_type": "markdown",
   "metadata": {},
   "source": [
    "The text in the output is a representation of the object Quaternion. This representation is obtained by the python interpreter by calling the `__repr__` method.\n",
    "The `__repr__` (also used as `repr()` ) method is intended to create an `eval()`-uable string of the object. You can see that in the next example:"
   ]
  },
  {
   "cell_type": "code",
   "execution_count": 124,
   "metadata": {},
   "outputs": [
    {
     "data": {
      "text/plain": [
       "'Quaternion((2, 5, 0, 8))'"
      ]
     },
     "execution_count": 124,
     "metadata": {},
     "output_type": "execute_result"
    }
   ],
   "source": [
    "a=Quaternion((2, 5, 0, 8))\n",
    "repr(a)"
   ]
  },
  {
   "cell_type": "code",
   "execution_count": 125,
   "metadata": {},
   "outputs": [
    {
     "data": {
      "text/plain": [
       "'Quaternion((2, 5, 0, 8))'"
      ]
     },
     "execution_count": 125,
     "metadata": {},
     "output_type": "execute_result"
    }
   ],
   "source": [
    "b=eval(repr(a))\n",
    "repr(b)"
   ]
  },
  {
   "cell_type": "markdown",
   "metadata": {},
   "source": [
    "We create a new Quaternion _b_ using the representation of Quaternion _a_. We can also test that _a_ and _b_ are equal using the `__eq__` method "
   ]
  },
  {
   "cell_type": "code",
   "execution_count": 126,
   "metadata": {},
   "outputs": [
    {
     "data": {
      "text/plain": [
       "True"
      ]
     },
     "execution_count": 126,
     "metadata": {},
     "output_type": "execute_result"
    }
   ],
   "source": [
    "a == b"
   ]
  },
  {
   "cell_type": "markdown",
   "metadata": {},
   "source": [
    "In the case below we are comparing a Quaternion with an Integer, the method `__eq__` will first create a new Quaternion from the Integer and after will test for equality "
   ]
  },
  {
   "cell_type": "code",
   "execution_count": 127,
   "metadata": {},
   "outputs": [
    {
     "data": {
      "text/plain": [
       "True"
      ]
     },
     "execution_count": 127,
     "metadata": {},
     "output_type": "execute_result"
    }
   ],
   "source": [
    "Quaternion((3,0,0,0)) == 3"
   ]
  },
  {
   "cell_type": "markdown",
   "metadata": {},
   "source": [
    "This example is rather different a complex number has no method to compare with Quaternion, so it will try to use the reverse equality `__req__`. \n",
    "As the equality is simmetric for Quaternions the line `__req__ = __eq__` is making the method `__req__` referencing the method `__eq__` with reverse arguments"
   ]
  },
  {
   "cell_type": "code",
   "execution_count": 128,
   "metadata": {},
   "outputs": [
    {
     "data": {
      "text/plain": [
       "True"
      ]
     },
     "execution_count": 128,
     "metadata": {},
     "output_type": "execute_result"
    }
   ],
   "source": [
    "3+4j == Quaternion((3,4,0,0))"
   ]
  },
  {
   "cell_type": "markdown",
   "metadata": {},
   "source": [
    "Similarly as a complex number is composed of **real** and **imaginary** parts, a quaternion is can be decomposed of a **scalar** and **vector** part. We can create methods to return those parts. We add two methods `scalar_part` and `vector_part` to return the corresponding elements of the quaternion. The text `@property` is a decorator, this special decorator makes those methods look like read-only variables when in fact they are slices of the internal variable `self.values` . Notice that when we are calling the properties `scalar_part` and `vector_part` the parentesis are no longer present "
   ]
  },
  {
   "cell_type": "code",
   "execution_count": 129,
   "metadata": {},
   "outputs": [
    {
     "data": {
      "text/plain": [
       "Quaternion((2, 5, 0, 8))"
      ]
     },
     "execution_count": 129,
     "metadata": {},
     "output_type": "execute_result"
    }
   ],
   "source": [
    "b"
   ]
  },
  {
   "cell_type": "code",
   "execution_count": 130,
   "metadata": {},
   "outputs": [
    {
     "data": {
      "text/plain": [
       "2"
      ]
     },
     "execution_count": 130,
     "metadata": {},
     "output_type": "execute_result"
    }
   ],
   "source": [
    "b.scalar_part"
   ]
  },
  {
   "cell_type": "code",
   "execution_count": 131,
   "metadata": {},
   "outputs": [
    {
     "data": {
      "text/plain": [
       "(5, 0, 8)"
      ]
     },
     "execution_count": 131,
     "metadata": {},
     "output_type": "execute_result"
    }
   ],
   "source": [
    "b.vector_part"
   ]
  },
  {
   "cell_type": "markdown",
   "metadata": {},
   "source": [
    "The elements of this basis are customarily denoted as _1_, _i_, _j_, and _k_. Every element of $\\mathbb{H}$ can be uniquely written as a linear combination of these basis elements, that is, as a _1_ + b _i_ + c _j_ + d _k_, where a, b, c, and d are real numbers. The basis element _1_ will be the identity element of $\\mathbb{H}$, meaning that multiplication by 1 does nothing, and for this reason, elements of H are usually written a _1_ + b _i_ + c _j_ + d _k_, suppressing the basis element _1_. Let us create the elements of the base using the four `static methods` that we defined above as one, ii, jj, kk. Those methods are very special. First, they are decorated using `@staticmethod` indicating that they are called without an instance. For that reason the argument `self` does not appear in the list of arguments. See above how they are used here to create our 4 unitary Quaternions"
   ]
  },
  {
   "cell_type": "code",
   "execution_count": 132,
   "metadata": {},
   "outputs": [],
   "source": [
    "one=Quaternion().one()\n",
    "iii=Quaternion().ii()\n",
    "jjj=Quaternion().jj()\n",
    "kkk=Quaternion().kk()"
   ]
  },
  {
   "cell_type": "markdown",
   "metadata": {},
   "source": [
    "There is another interesting method that we will used here. It is the `__str__`. The method `__str_` is similar to `__repr__` in the sense that both produces string representations\n",
    "of the object, but `__str__` is intended to be human readable but `__repr__` should be `eval()-able`"
   ]
  },
  {
   "cell_type": "code",
   "execution_count": 133,
   "metadata": {},
   "outputs": [
    {
     "name": "stdout",
     "output_type": "stream",
     "text": [
      "1.000 + 0.000 i + 0.000 j + 0.000 k\n",
      "0.000 + 1.000 i + 0.000 j + 0.000 k\n",
      "0.000 + 0.000 i + 1.000 j + 0.000 k\n",
      "0.000 + 0.000 i + 0.000 j + 1.000 k\n"
     ]
    }
   ],
   "source": [
    "print(one)\n",
    "print(iii)\n",
    "print(jjj)\n",
    "print(kkk)"
   ]
  },
  {
   "cell_type": "markdown",
   "metadata": {},
   "source": [
    "The sum of quaternions is very straightforward. We implement the sum of quaternions using the special method `__add__` and `__radd__`. \n",
    "The first one is used in cases where the first argument is a quaternion"
   ]
  },
  {
   "cell_type": "code",
   "execution_count": 134,
   "metadata": {},
   "outputs": [
    {
     "name": "stdout",
     "output_type": "stream",
     "text": [
      "0.000 + 1.000 i + 1.000 j + 0.000 k\n"
     ]
    }
   ],
   "source": [
    "print(iii+jjj)"
   ]
  },
  {
   "cell_type": "markdown",
   "metadata": {},
   "source": [
    "Also for computing sums of quaternions with other numbers using an internal conversion to quaternion. Notice that complex numbers in python use the symbol _j_ instead of _i_. But the `__str__` method is creating an string in the traditional way, printing i to indicate the imaginary component."
   ]
  },
  {
   "cell_type": "code",
   "execution_count": 135,
   "metadata": {},
   "outputs": [
    {
     "name": "stdout",
     "output_type": "stream",
     "text": [
      "3.000 + 7.000 i + 0.000 j + 1.000 k\n"
     ]
    }
   ],
   "source": [
    "print(kkk+ 3 + 7j)"
   ]
  },
  {
   "cell_type": "markdown",
   "metadata": {},
   "source": [
    "The reverse operation `__radd__` is used in cases where the direct operation fails. \n",
    "The complex number class has no method to add quaternions, so python will try the reverse operation `__radd__` instead, in this case quaternions are conmutative under addition, so we are making `__radd__` equivalent to `__add__` . Also notice that we can chain the sum of quaternions in a very natural way"
   ]
  },
  {
   "cell_type": "code",
   "execution_count": 136,
   "metadata": {},
   "outputs": [
    {
     "name": "stdout",
     "output_type": "stream",
     "text": [
      "9.000 + 5.000 i + 0.000 j + 1.000 k\n"
     ]
    }
   ],
   "source": [
    "print(9 + 4j + iii + kkk)"
   ]
  },
  {
   "cell_type": "markdown",
   "metadata": {},
   "source": [
    "The multiplication is rather different. Lets for example test the defining property of Quaternions: $i^2=j^2=k^2=ijk=-1$"
   ]
  },
  {
   "cell_type": "code",
   "execution_count": 137,
   "metadata": {},
   "outputs": [
    {
     "name": "stdout",
     "output_type": "stream",
     "text": [
      "-1.000 + 0.000 i + 0.000 j + 0.000 k\n",
      "-1.000 + 0.000 i + 0.000 j + 0.000 k\n",
      "-1.000 + 0.000 i + 0.000 j + 0.000 k\n",
      "-1.000 + 0.000 i + 0.000 j + 0.000 k\n"
     ]
    }
   ],
   "source": [
    "print(iii*iii)\n",
    "print(jjj*jjj)\n",
    "print(kkk*kkk)\n",
    "print(iii*jjj*kkk)"
   ]
  },
  {
   "cell_type": "markdown",
   "metadata": {},
   "source": [
    "This was possible by using the special method `__mul__`. As the right-side object is a quaternion, it will call the `__mul__` with the left-hand side are the other argument. \n",
    "That is also the case for a quaternion multiplied by any other number:"
   ]
  },
  {
   "cell_type": "code",
   "execution_count": 138,
   "metadata": {},
   "outputs": [
    {
     "name": "stdout",
     "output_type": "stream",
     "text": [
      "8.000 + 7.000 i + 6.000 j + 5.000 k\n"
     ]
    }
   ],
   "source": [
    "a=8 + iii*7 + jjj*6 + kkk*5\n",
    "print(a)"
   ]
  },
  {
   "cell_type": "markdown",
   "metadata": {},
   "source": [
    "Being able to multiply a number for a quaternion requires the reverse operation and this is not the same as the direct one because quaternions do not conmute under multiplication, see for example:"
   ]
  },
  {
   "cell_type": "code",
   "execution_count": 139,
   "metadata": {},
   "outputs": [
    {
     "name": "stdout",
     "output_type": "stream",
     "text": [
      "16.000 + 14.000 i + 12.000 j + 10.000 k\n"
     ]
    }
   ],
   "source": [
    "print(2*a)"
   ]
  },
  {
   "cell_type": "code",
   "execution_count": 140,
   "metadata": {},
   "outputs": [
    {
     "name": "stdout",
     "output_type": "stream",
     "text": [
      "-7.000 + 8.000 i - 5.000 j + 6.000 k\n"
     ]
    }
   ],
   "source": [
    "print(1j*a)"
   ]
  },
  {
   "cell_type": "code",
   "execution_count": 141,
   "metadata": {},
   "outputs": [
    {
     "name": "stdout",
     "output_type": "stream",
     "text": [
      "-7.000 + 8.000 i + 5.000 j - 6.000 k\n"
     ]
    }
   ],
   "source": [
    "print(a*1j)"
   ]
  },
  {
   "cell_type": "markdown",
   "metadata": {},
   "source": [
    "There are four more methods to complete a simple but efective Quaternion class implementation. They are the conjugate, the norm, the inverse and the unitary quaternion (also called versor). They were written at the end of our code. Lets test those simple methods. Lets take b from a previous calculation:"
   ]
  },
  {
   "cell_type": "code",
   "execution_count": 142,
   "metadata": {},
   "outputs": [
    {
     "name": "stdout",
     "output_type": "stream",
     "text": [
      "16.000 + 14.000 i + 12.000 j + 10.000 k\n"
     ]
    }
   ],
   "source": [
    "b=2*a\n",
    "print(b)"
   ]
  },
  {
   "cell_type": "markdown",
   "metadata": {},
   "source": [
    "The norm of the quaternion is:"
   ]
  },
  {
   "cell_type": "code",
   "execution_count": 143,
   "metadata": {},
   "outputs": [
    {
     "data": {
      "text/plain": [
       "26.38181191654584"
      ]
     },
     "execution_count": 143,
     "metadata": {},
     "output_type": "execute_result"
    }
   ],
   "source": [
    "b.norm()"
   ]
  },
  {
   "cell_type": "markdown",
   "metadata": {},
   "source": [
    "The unitary quaternion:"
   ]
  },
  {
   "cell_type": "code",
   "execution_count": 144,
   "metadata": {},
   "outputs": [
    {
     "data": {
      "text/plain": [
       "Quaternion((0.6064784348631227, 0.5306686305052324, 0.454858826147342, 0.37904902178945166))"
      ]
     },
     "execution_count": 144,
     "metadata": {},
     "output_type": "execute_result"
    }
   ],
   "source": [
    "b.unitary()"
   ]
  },
  {
   "cell_type": "code",
   "execution_count": 145,
   "metadata": {},
   "outputs": [
    {
     "data": {
      "text/plain": [
       "Quaternion((16.0, 14.0, 12.0, 10.0))"
      ]
     },
     "execution_count": 145,
     "metadata": {},
     "output_type": "execute_result"
    }
   ],
   "source": [
    "b.unitary()*b.norm()"
   ]
  },
  {
   "cell_type": "markdown",
   "metadata": {},
   "source": [
    "Now we show that we can decompose a quaternion in its versor scaled by its norm"
   ]
  },
  {
   "cell_type": "code",
   "execution_count": 146,
   "metadata": {},
   "outputs": [
    {
     "data": {
      "text/plain": [
       "True"
      ]
     },
     "execution_count": 146,
     "metadata": {},
     "output_type": "execute_result"
    }
   ],
   "source": [
    "b == b.norm()*b.unitary()"
   ]
  },
  {
   "cell_type": "markdown",
   "metadata": {},
   "source": [
    "As quaternions are not conmutative, the division express as $\\frac{a}{b}$. Using that expression we cannot make the difference between $a b^{-1}$ or $a^{-1} b$ and those two quaternions are in general not the same. We will see that with an example "
   ]
  },
  {
   "cell_type": "code",
   "execution_count": 147,
   "metadata": {},
   "outputs": [
    {
     "name": "stdout",
     "output_type": "stream",
     "text": [
      "16.000 + 14.000 i + 12.000 j + 10.000 k\n",
      "1.000 + 2.000 i + 3.000 j + 4.000 k\n"
     ]
    }
   ],
   "source": [
    "c= 1 + 2*iii + 3*jjj + 4*kkk\n",
    "print(b)\n",
    "print(c)"
   ]
  },
  {
   "cell_type": "code",
   "execution_count": 148,
   "metadata": {},
   "outputs": [
    {
     "name": "stdout",
     "output_type": "stream",
     "text": [
      "0.172 + 0.000 i + 0.103 j + 0.052 k\n"
     ]
    }
   ],
   "source": [
    "print(b.inverse() * c)"
   ]
  },
  {
   "cell_type": "code",
   "execution_count": 149,
   "metadata": {},
   "outputs": [
    {
     "name": "stdout",
     "output_type": "stream",
     "text": [
      "4.000 - 1.200 i + 0.000 j - 2.400 k\n"
     ]
    }
   ],
   "source": [
    "print(b * c.inverse())"
   ]
  },
  {
   "cell_type": "markdown",
   "metadata": {},
   "source": [
    "The inverse works as expected creating an unitary quaternion when multiplied with the original quaternion. At least under the presision of floating point numbers"
   ]
  },
  {
   "cell_type": "code",
   "execution_count": 150,
   "metadata": {},
   "outputs": [
    {
     "data": {
      "text/plain": [
       "0.9999999999999999"
      ]
     },
     "execution_count": 150,
     "metadata": {},
     "output_type": "execute_result"
    }
   ],
   "source": [
    "(b * b.inverse()).norm()"
   ]
  },
  {
   "cell_type": "markdown",
   "metadata": {},
   "source": [
    "### Some references about quaternions"
   ]
  },
  {
   "cell_type": "markdown",
   "metadata": {},
   "source": [
    "Quaternions, Octonions and Sextenions had a interesting evolution even if they remain unknown for many people out of mathematicians and theoretical physicist.\n",
    "You can learn more about the quaternions in the [Wikipedia](http://en.wikipedia.org/wiki/Quaternion Quaternion). Another good source of reference is the [Wolfram's Mathworld](http://mathworld.wolfram.com/Quaternion.html) page. "
   ]
  },
  {
   "cell_type": "markdown",
   "metadata": {},
   "source": [
    "### Notes about implementation"
   ]
  },
  {
   "cell_type": "markdown",
   "metadata": {},
   "source": [
    "This implementation was done in purely python code, avoiding the use of numpy on purpose. There are several ways on which the implemented class could be improuved adding more special methods and generalizing others. They are also alternative representations for quaternions, for example using $2 \\times 2$ matrices with complex elements or $4 \\times 4$ matrices on Reals. each of them with their own advantages and disadvantages. "
   ]
  },
  {
   "cell_type": "markdown",
   "metadata": {},
   "source": [
    "## Decorators, Static methods, Class methods and Properties (Advanced)\n",
    "\n",
    "A method is a function that is stored as a class attribute. You can declare and access such a function this way:"
   ]
  },
  {
   "cell_type": "code",
   "execution_count": 151,
   "metadata": {},
   "outputs": [],
   "source": [
    "from math import pi\n",
    "\n",
    "class Sphere(object):\n",
    "\n",
    "    def __init__(self, r):\n",
    "        self.radius = r\n",
    "\n",
    "    def get_area(self):\n",
    "        return 4*pi*self.radius**2\n",
    "\n",
    "    def get_volume(self):\n",
    "        return 4/3*pi*self.radius**3\n",
    "    "
   ]
  },
  {
   "cell_type": "code",
   "execution_count": 152,
   "metadata": {},
   "outputs": [
    {
     "data": {
      "text/plain": [
       "<function __main__.Sphere.get_volume(self)>"
      ]
     },
     "execution_count": 152,
     "metadata": {},
     "output_type": "execute_result"
    }
   ],
   "source": [
    "Sphere.get_volume"
   ]
  },
  {
   "cell_type": "markdown",
   "metadata": {},
   "source": [
    "We can't call `get_volume` because it's not bound to any instance of Sphere. And a method wants an instance as its first argument (in Python 3 it could be anything). Let's try to do that then:"
   ]
  },
  {
   "cell_type": "code",
   "execution_count": 153,
   "metadata": {},
   "outputs": [
    {
     "data": {
      "text/plain": [
       "4.1887902047863905"
      ]
     },
     "execution_count": 153,
     "metadata": {},
     "output_type": "execute_result"
    }
   ],
   "source": [
    "Sphere.get_volume(Sphere(1))"
   ]
  },
  {
   "cell_type": "markdown",
   "metadata": {},
   "source": [
    "It worked! We called the method with an instance as its first argument, so everything's fine. But you will agree with me if I say this is not a very handy way to call methods; we have to refer to the class each time we want to call a method. And if we don't know what class is our object, this is not going to work for very long.\n",
    "\n",
    "So what Python does for us, is that it binds all the methods from the class Sphere to any instance of this class. This means that the attribute get_volume of an instance of Sphere is a bound method: a method for which the first argument will be the instance itself."
   ]
  },
  {
   "cell_type": "code",
   "execution_count": 154,
   "metadata": {},
   "outputs": [
    {
     "data": {
      "text/plain": [
       "<bound method Sphere.get_volume of <__main__.Sphere object at 0x110d68c50>>"
      ]
     },
     "execution_count": 154,
     "metadata": {},
     "output_type": "execute_result"
    }
   ],
   "source": [
    "Sphere(2).get_volume"
   ]
  },
  {
   "cell_type": "code",
   "execution_count": 155,
   "metadata": {},
   "outputs": [
    {
     "data": {
      "text/plain": [
       "33.510321638291124"
      ]
     },
     "execution_count": 155,
     "metadata": {},
     "output_type": "execute_result"
    }
   ],
   "source": [
    "Sphere(2).get_volume()"
   ]
  },
  {
   "cell_type": "markdown",
   "metadata": {},
   "source": [
    "As expected, we don't have to provide any argument to get_volume, since it's bound, its self argument is automatically set to our Sphere instance. Here's an even better proof of that:"
   ]
  },
  {
   "cell_type": "code",
   "execution_count": 156,
   "metadata": {},
   "outputs": [
    {
     "data": {
      "text/plain": [
       "33.510321638291124"
      ]
     },
     "execution_count": 156,
     "metadata": {},
     "output_type": "execute_result"
    }
   ],
   "source": [
    "m = Sphere(2).get_volume\n",
    "m()"
   ]
  },
  {
   "cell_type": "markdown",
   "metadata": {},
   "source": [
    "Indeed, you don't even have to keep a reference to your Sphere object. Its method is bound to the object, so the method is sufficient to itself.\n",
    "\n",
    "But what if you wanted to know which object this bound method is bound to? Here's a little trick:"
   ]
  },
  {
   "cell_type": "code",
   "execution_count": 157,
   "metadata": {},
   "outputs": [
    {
     "data": {
      "text/plain": [
       "<__main__.Sphere at 0x110e44c50>"
      ]
     },
     "execution_count": 157,
     "metadata": {},
     "output_type": "execute_result"
    }
   ],
   "source": [
    "m = Sphere(2).get_volume\n",
    "m.__self__"
   ]
  },
  {
   "cell_type": "code",
   "execution_count": 158,
   "metadata": {},
   "outputs": [
    {
     "data": {
      "text/plain": [
       "True"
      ]
     },
     "execution_count": 158,
     "metadata": {},
     "output_type": "execute_result"
    }
   ],
   "source": [
    "# You could guess, look at this:\n",
    "m == m.__self__.get_volume"
   ]
  },
  {
   "cell_type": "markdown",
   "metadata": {},
   "source": [
    "Obviously, we still have a reference to our object, and we can find it back if we want.\n",
    "\n",
    "In Python 3, the functions attached to a class are not considered as unbound method anymore, but as simple functions, that are bound to an object if required. So the principle stays the same, the model is just simplified."
   ]
  },
  {
   "cell_type": "code",
   "execution_count": 159,
   "metadata": {},
   "outputs": [
    {
     "data": {
      "text/plain": [
       "<function __main__.Sphere.get_volume(self)>"
      ]
     },
     "execution_count": 159,
     "metadata": {},
     "output_type": "execute_result"
    }
   ],
   "source": [
    "Sphere.get_volume"
   ]
  },
  {
   "cell_type": "markdown",
   "metadata": {},
   "source": [
    "### Static methods\n",
    "\n",
    "Static methods are a special case of methods. Sometimes, you'll write code that belongs to a class, but that doesn't use the object itself at all. For example:"
   ]
  },
  {
   "cell_type": "code",
   "execution_count": 160,
   "metadata": {},
   "outputs": [],
   "source": [
    "class Sphere(object):\n",
    "\n",
    "    @staticmethod\n",
    "    def double_radius(x):\n",
    "        return 2*x\n",
    "\n",
    "    def enlarge(self):\n",
    "        return self.double_radius(self.radius)"
   ]
  },
  {
   "cell_type": "markdown",
   "metadata": {},
   "source": [
    "In such a case, writing double_radius as a non-static method would work too, but it would provide it with a self argument that would not be used. Here, the decorator @staticmethod buys us several things:\n",
    "\n",
    "  * Python doesn't have to instantiate a bound-method for each Sphere object we instantiate. \n",
    "  * Bound methods are objects too, and creating them has a cost. \n",
    "  \n",
    "Having a static method avoids that:"
   ]
  },
  {
   "cell_type": "code",
   "execution_count": 161,
   "metadata": {},
   "outputs": [
    {
     "data": {
      "text/plain": [
       "False"
      ]
     },
     "execution_count": 161,
     "metadata": {},
     "output_type": "execute_result"
    }
   ],
   "source": [
    "Sphere().enlarge is Sphere().enlarge"
   ]
  },
  {
   "cell_type": "code",
   "execution_count": 162,
   "metadata": {},
   "outputs": [
    {
     "data": {
      "text/plain": [
       "True"
      ]
     },
     "execution_count": 162,
     "metadata": {},
     "output_type": "execute_result"
    }
   ],
   "source": [
    "Sphere().double_radius is Sphere.double_radius"
   ]
  },
  {
   "cell_type": "code",
   "execution_count": 163,
   "metadata": {},
   "outputs": [
    {
     "data": {
      "text/plain": [
       "True"
      ]
     },
     "execution_count": 163,
     "metadata": {},
     "output_type": "execute_result"
    }
   ],
   "source": [
    "Sphere().double_radius is Sphere().double_radius"
   ]
  },
  {
   "cell_type": "markdown",
   "metadata": {},
   "source": [
    "  * It eases the readability of the code: seeing @staticmethod, we know that the method does not depend on the state of the object itself;\n",
    "\n",
    "  * It allows us to override the mix_ingredients method in a subclass. If we used a function mix_ingredients defined at the top-level of our module, a class inheriting from Sphere wouldn't be able to change the way we mix ingredients for our Sphere without overriding cook itself."
   ]
  },
  {
   "cell_type": "markdown",
   "metadata": {},
   "source": [
    "### Class methods\n",
    "\n",
    "Class methods are methods that are not bound to an object, but to a class"
   ]
  },
  {
   "cell_type": "code",
   "execution_count": 164,
   "metadata": {},
   "outputs": [],
   "source": [
    "class Sphere(object):\n",
    "    radius = 2\n",
    "\n",
    "    @classmethod\n",
    "    def get_radius(cls):\n",
    "        return cls.radius"
   ]
  },
  {
   "cell_type": "code",
   "execution_count": 165,
   "metadata": {},
   "outputs": [
    {
     "data": {
      "text/plain": [
       "<bound method Sphere.get_radius of <class '__main__.Sphere'>>"
      ]
     },
     "execution_count": 165,
     "metadata": {},
     "output_type": "execute_result"
    }
   ],
   "source": [
    "Sphere.get_radius"
   ]
  },
  {
   "cell_type": "code",
   "execution_count": 166,
   "metadata": {},
   "outputs": [
    {
     "data": {
      "text/plain": [
       "<bound method Sphere.get_radius of <class '__main__.Sphere'>>"
      ]
     },
     "execution_count": 166,
     "metadata": {},
     "output_type": "execute_result"
    }
   ],
   "source": [
    "Sphere().get_radius"
   ]
  },
  {
   "cell_type": "code",
   "execution_count": 167,
   "metadata": {},
   "outputs": [
    {
     "data": {
      "text/plain": [
       "True"
      ]
     },
     "execution_count": 167,
     "metadata": {},
     "output_type": "execute_result"
    }
   ],
   "source": [
    "Sphere.get_radius == Sphere.get_radius"
   ]
  },
  {
   "cell_type": "code",
   "execution_count": 168,
   "metadata": {},
   "outputs": [
    {
     "data": {
      "text/plain": [
       "2"
      ]
     },
     "execution_count": 168,
     "metadata": {},
     "output_type": "execute_result"
    }
   ],
   "source": [
    "Sphere.get_radius()"
   ]
  },
  {
   "cell_type": "markdown",
   "metadata": {},
   "source": [
    "Whatever the way you use to access this method, it will always be bound to the class it is attached to, and its first argument will be the class itself (remember that classes are objects too).\n",
    "\n",
    "Class methods are mostly useful for two types of methods:\n",
    "\n",
    "  * **Factory methods**, that are used to create an instance for a class using for example some sort of pre-processing. If we use a `@staticmethod` instead, we would have to hardcode the `Sphere` class name in our function, making any class inheriting from `Sphere` unable to use our factory for its own use."
   ]
  },
  {
   "cell_type": "code",
   "execution_count": 169,
   "metadata": {},
   "outputs": [],
   "source": [
    "class Sphere(object):\n",
    "    def __init__(self, r):\n",
    "        self.radius = r\n",
    "\n",
    "    @classmethod\n",
    "    def scale_radius(cls, x):\n",
    "        return cls(2*x)"
   ]
  },
  {
   "cell_type": "code",
   "execution_count": 170,
   "metadata": {},
   "outputs": [
    {
     "data": {
      "text/plain": [
       "4"
      ]
     },
     "execution_count": 170,
     "metadata": {},
     "output_type": "execute_result"
    }
   ],
   "source": [
    "s=Sphere.scale_radius(2)\n",
    "s.radius"
   ]
  },
  {
   "cell_type": "markdown",
   "metadata": {},
   "source": [
    "  * **Static methods** calling static methods: if you split a static method in several static methods, you shouldn't hard-code the class name but use class methods. Using this way to declare our method, the `Sphere` name is never directly referenced and inheritance and method overriding will work flawlessly"
   ]
  },
  {
   "cell_type": "code",
   "execution_count": 171,
   "metadata": {},
   "outputs": [],
   "source": [
    "from math import pi\n",
    "\n",
    "class Sphere(object):\n",
    "    \n",
    "    def __init__(self, radius, height):\n",
    "        self.radius = radius\n",
    "        self.height = height\n",
    "\n",
    "    def get_area(self):\n",
    "        return compute_area(self.radius)\n",
    "\n",
    "    def get_volume(self):\n",
    "        return compute_area(self.radius)\n",
    "    \n",
    "    @staticmethod\n",
    "    def compute_area(radius):\n",
    "         return 4*pi*radius**2\n",
    "\n",
    "    @staticmethod\n",
    "    def compute_volume(radius):\n",
    "         return 4/3*pi*radius**3\n",
    "\n",
    "    @classmethod\n",
    "    def ratio(cls, radius):\n",
    "        return cls.compute_area(radius)/cls.compute_volume(radius)\n",
    "    "
   ]
  },
  {
   "cell_type": "code",
   "execution_count": 172,
   "metadata": {},
   "outputs": [
    {
     "data": {
      "text/plain": [
       "0.3"
      ]
     },
     "execution_count": 172,
     "metadata": {},
     "output_type": "execute_result"
    }
   ],
   "source": [
    "Sphere.ratio(10)"
   ]
  },
  {
   "cell_type": "markdown",
   "metadata": {},
   "source": [
    "### Abstract methods\n",
    "\n",
    "An abstract method is a method defined in a base class, but that may not provide any implementation. In Java, it would describe the methods of an interface.\n",
    "\n",
    "So the simplest way to write an abstract method in Python is:"
   ]
  },
  {
   "cell_type": "code",
   "execution_count": 173,
   "metadata": {},
   "outputs": [],
   "source": [
    "class Sphere(object):\n",
    "    def get_radius(self):\n",
    "        raise NotImplementedError"
   ]
  },
  {
   "cell_type": "markdown",
   "metadata": {},
   "source": [
    "Any class inheriting from Sphere should implement and override the `get_radius` method, otherwise an exception would be raised.\n",
    "\n",
    "This particular way of implementing abstract method has a drawback. If you write a class that inherits from Sphere and forget to implement get_radius, the error will only be raised when you'll try to use that method."
   ]
  },
  {
   "cell_type": "raw",
   "metadata": {},
   "source": [
    "Sphere()\n",
    "<__main__.Sphere object at 0x7fb747353d90>\n",
    "\n",
    "Sphere().get_radius()\n",
    "Traceback (most recent call last):\n",
    "  File \"<stdin>\", line 1, in <module>\n",
    "  File \"<stdin>\", line 3, in get_radius\n",
    "NotImplementedError"
   ]
  },
  {
   "cell_type": "markdown",
   "metadata": {},
   "source": [
    "There's a way to trigger this way earlier, when the object is being instantiated, using the abc module that's provided with Python."
   ]
  },
  {
   "cell_type": "code",
   "execution_count": 174,
   "metadata": {},
   "outputs": [],
   "source": [
    "from abc import ABC, abstractmethod\n",
    "\n",
    "class SurfaceRevolution(ABC):\n",
    "\n",
    "    def __init__(self,r):\n",
    "        self.radius = r\n",
    "    \n",
    "    @abstractmethod\n",
    "    def get_radius(self):\n",
    "         \"\"\"Method that should do something.\"\"\""
   ]
  },
  {
   "cell_type": "markdown",
   "metadata": {},
   "source": [
    "Using abc and its special class, as soon as you'll try to instantiate SurfaceRevolution or any class inheriting from it, you'll get a TypeError."
   ]
  },
  {
   "cell_type": "raw",
   "metadata": {},
   "source": [
    "SurfaceRevolution(4)\n",
    "---------------------------------------------------------------------------\n",
    "TypeError                                 Traceback (most recent call last)\n",
    "<ipython-input-269-02ffabd7c877> in <module>\n",
    "----> 1 SurfaceRevolution(4)\n",
    "\n",
    "TypeError: Can't instantiate abstract class SurfaceRevolution with abstract methods get_radius"
   ]
  },
  {
   "cell_type": "markdown",
   "metadata": {},
   "source": [
    "### Mixing static, class and abstract methods\n",
    "\n",
    "When building classes and inheritances, the time will come where you will have to mix all these methods decorators. So here's some tips about it.\n",
    "\n",
    "Keep in mind that declaring a method as being abstract, doesn't freeze the prototype of that method. That means that it must be implemented, but it can be implemented with any argument list."
   ]
  },
  {
   "cell_type": "code",
   "execution_count": 175,
   "metadata": {},
   "outputs": [],
   "source": [
    "import abc\n",
    "\n",
    "class SurfaceRevolution(object):\n",
    "    __metaclass__  = abc.ABCMeta\n",
    "\n",
    "    @abc.abstractmethod\n",
    "    def get_radius(self):\n",
    "         \"\"\"Returns the radius list.\"\"\"\n",
    "\n",
    "class Spheroid(SurfaceRevolution):\n",
    "    def get_radius(self, scaled=False):\n",
    "        center = 2 if scaled else 1\n",
    "        return scaled * self.radius"
   ]
  },
  {
   "cell_type": "markdown",
   "metadata": {},
   "source": [
    "This is valid, since `Spheroid` fulfills the interface requirement we defined for `SurfaceRevolution` objects. That means that we could also implement it as being a class or a static method, for example:"
   ]
  },
  {
   "cell_type": "code",
   "execution_count": 176,
   "metadata": {},
   "outputs": [],
   "source": [
    "from abc import ABC, abstractmethod\n",
    "\n",
    "class SurfaceRevolution(ABC):\n",
    "\n",
    "    @abstractmethod\n",
    "    def get_center(self):\n",
    "         \"\"\"Returns the center.\"\"\"\n",
    "\n",
    "class CenteredSphere(SurfaceRevolution):\n",
    "    @staticmethod\n",
    "    def get_center():\n",
    "        return (0,0,0)"
   ]
  },
  {
   "cell_type": "code",
   "execution_count": 177,
   "metadata": {},
   "outputs": [
    {
     "data": {
      "text/plain": [
       "(0, 0, 0)"
      ]
     },
     "execution_count": 177,
     "metadata": {},
     "output_type": "execute_result"
    }
   ],
   "source": [
    "CenteredSphere.get_center()"
   ]
  },
  {
   "cell_type": "markdown",
   "metadata": {},
   "source": [
    "This is also correct and fulfills the contract we have with our abstract `SurfaceRevolution` class. The fact that the `get_center` method doesn't need to know about the object to return result is an implementation detail, not a criteria to have our contract fulfilled.\n",
    "\n",
    "Therefore, you can't force an implementation of your abstract method to be a regular, class or static method, and arguably you shouldn't. Starting with Python 3, it's now possible to use the `@staticmethod` and `@classmethod` decorators on top of `@abstractmethod`:"
   ]
  },
  {
   "cell_type": "code",
   "execution_count": 178,
   "metadata": {},
   "outputs": [],
   "source": [
    "from abc import ABC, abstractmethod\n",
    "\n",
    "class SurfaceRevolution(ABC):\n",
    "\n",
    "    centered = True\n",
    "\n",
    "    @classmethod\n",
    "    @abstractmethod\n",
    "    def is_centered(cls):\n",
    "         \"\"\"Returns the ingredient list.\"\"\"\n",
    "         return cls.centered"
   ]
  },
  {
   "cell_type": "markdown",
   "metadata": {},
   "source": [
    "Don't misread this: if you think this is going to force your subclasses to implement `is_centered` as a class method, you are wrong. This simply implies that your implementation of `is_centered` in the `SurfaceRevolution` class is a class method.\n",
    "\n",
    "An implementation in an abstract method? Yes! In Python, contrary to methods in Java interfaces, you can have code in your abstract methods and call it via super():"
   ]
  },
  {
   "cell_type": "code",
   "execution_count": 179,
   "metadata": {},
   "outputs": [],
   "source": [
    "from abc import ABC, abstractmethod\n",
    "\n",
    "class SurfaceRevolution(ABC):\n",
    "\n",
    "    center = (0,0,0)\n",
    "\n",
    "    @classmethod\n",
    "    @abstractmethod\n",
    "    def get_center(cls):\n",
    "         \"\"\"Returns the ingredient list.\"\"\"\n",
    "         return cls.center\n",
    "\n",
    "class MovedSphere(SurfaceRevolution):\n",
    "    def get_center(self):\n",
    "        return super(MovedSphere, self).get_center()"
   ]
  },
  {
   "cell_type": "markdown",
   "metadata": {},
   "source": [
    "In such a case, every `Sphere` you will build by inheriting from `SurfaceRevolution` will have to override the `get_center` method, but will be able to use the default mechanism to get the center by using super()."
   ]
  },
  {
   "cell_type": "markdown",
   "metadata": {},
   "source": [
    "### Properties\n",
    "\n",
    "In Python methods can act like properties when using the `@property` decorator\n",
    "Properties are used in Python Object Oriented Programming to provide the class with values that result from computations from internal properties that we want to keep private.\n",
    "    \n",
    "The example below shows the usage of properties to store the value of temperature and control that is value has physical sense"
   ]
  },
  {
   "cell_type": "code",
   "execution_count": 180,
   "metadata": {},
   "outputs": [],
   "source": [
    "class Celsius:\n",
    "    def __init__(self, temperature = 0):\n",
    "        self._temperature = temperature\n",
    "\n",
    "    def to_fahrenheit(self):\n",
    "        return (self.temperature * 1.8) + 32\n",
    "\n",
    "    @property\n",
    "    def temperature(self):\n",
    "        print(\"Getting value\")\n",
    "        return self._temperature\n",
    "\n",
    "    @temperature.setter\n",
    "    def temperature(self, value):\n",
    "        if value < -273:\n",
    "            raise ValueError(\"Temperature below -273 is not possible\")\n",
    "        print(\"Setting value\")\n",
    "        self._temperature = value"
   ]
  },
  {
   "cell_type": "code",
   "execution_count": 181,
   "metadata": {},
   "outputs": [],
   "source": [
    "c=Celsius(100)"
   ]
  },
  {
   "cell_type": "code",
   "execution_count": 182,
   "metadata": {},
   "outputs": [
    {
     "name": "stdout",
     "output_type": "stream",
     "text": [
      "Getting value\n"
     ]
    },
    {
     "data": {
      "text/plain": [
       "100"
      ]
     },
     "execution_count": 182,
     "metadata": {},
     "output_type": "execute_result"
    }
   ],
   "source": [
    "c.temperature"
   ]
  },
  {
   "cell_type": "code",
   "execution_count": 183,
   "metadata": {},
   "outputs": [
    {
     "name": "stdout",
     "output_type": "stream",
     "text": [
      "Getting value\n"
     ]
    },
    {
     "data": {
      "text/plain": [
       "212.0"
      ]
     },
     "execution_count": 183,
     "metadata": {},
     "output_type": "execute_result"
    }
   ],
   "source": [
    "c.to_fahrenheit()"
   ]
  },
  {
   "cell_type": "raw",
   "metadata": {},
   "source": [
    "c.temperature=-300\n",
    "---------------------------------------------------------------------------\n",
    "ValueError                                Traceback (most recent call last)\n",
    "<ipython-input-318-dcba37e43336> in <module>\n",
    "----> 1 c.temperature=-300\n",
    "\n",
    "<ipython-input-309-c16b585d1af3> in temperature(self, value)\n",
    "     14     def temperature(self, value):\n",
    "     15         if value < -273:\n",
    "---> 16             raise ValueError(\"Temperature below -273 is not possible\")\n",
    "     17         print(\"Setting value\")\n",
    "     18         self._temperature = value\n",
    "\n",
    "ValueError: Temperature below -273 is not possible\n"
   ]
  },
  {
   "cell_type": "markdown",
   "metadata": {},
   "source": [
    "## Practical Example No. 3: Platonic Solids\n",
    "\n",
    "We will use some classes to manipulate some of the properties of Platonic Solids\n",
    "\n",
    "As you know there are 5 platonic Solids and they shared some combinatorial properties.\n",
    "\n",
    "A convex polyhedron is a Platonic solid if and only if\n",
    "\n",
    " * all its faces are congruent convex regular polygons\n",
    " * none of its faces intersect except at their edges, and\n",
    " * the same number of faces meet at each of its vertices.\n",
    "\n",
    "Each Platonic solid can therefore be denoted by a symbol {$p$,&nbsp;$q$} where\n",
    "\n",
    "  $p$ is the number of edges (or, equivalently, vertices) of each face, and\n",
    "  <br>\n",
    "  $q$ is the number of faces (or, equivalently, edges) that meet at each vertex.\n",
    "\n",
    "The symbol {$p$ ,&nbsp;$q$}, called the **Schläfli symbol**, gives a combinatorial description of the polyhedron. The Schläfli symbols of the five Platonic solids are given in the table below.\n",
    "\n",
    "| Polyhedron || Vertices || Edges || Faces || Schläfli symbol || Vertex configuration|\n",
    "|:-----------||:--------:||:-----:||:-----:||:---------------:||:-------------------:|\n",
    "| Tetrahedron|| 4 || 6 || 4 || {3, 3} || 3.3.3 |\n",
    "| Hexahedron || 8 || 12 || 6 || {4, 3} || 4.4.4 |\n",
    "| Octahedron || 6 || 12 || 8 || {3, 4} || 3.3.3.3 |\n",
    "| Dodecahedron || 20 || 30 || 12 || {5, 3} || 5.5.5 |\n",
    "| Icosahedron || 12 || 30 || 20 || {3, 5} || 3.3.3.3.3 |\n",
    "\n",
    "All other combinatorial information about these solids, such as total number of vertices ($V$), edges ($E$), and faces ($F$), can be determined from $p$ and $q$. Since any edge joins two vertices and has two adjacent faces we must have:\n",
    "\n",
    "\\begin{equation}\n",
    "pF = 2E = qV.\\,\n",
    "\\end{equation}\n",
    "\n",
    "The other relationship between these values is given by Euler's formula:\n",
    "\n",
    "\\begin{equation}\n",
    "V - E + F = 2.\\,\n",
    "\\end{equation}\n",
    "\n",
    "Together these three relationships completely determine ''V'', ''E'', and ''F'':\n",
    "\n",
    "\\begin{equation}\n",
    "V = \\frac{4p}{4 - (p-2)(q-2)},\\quad E = \\frac{2pq}{4 - (p-2)(q-2)},\\quad F = \\frac{4q}{4 - (p-2)(q-2)}.\n",
    "\\end{equation}\n",
    "\n",
    "Swapping $p$ and $q$ interchanges $F$ and $V$ while leaving $E$ unchanged.\n",
    "\n",
    "Every polyhedron has a dual (or \"polar\") polyhedron with faces and vertices interchanged. \n",
    "The dual of every Platonic solid is another Platonic solid, so that we can arrange the five solids into dual pairs.\n",
    "\n",
    "  * The tetrahedron is self-dual (i.e. its dual is another tetrahedron).\n",
    "  * The cube and the octahedron form a dual pair.\n",
    "  * The dodecahedron and the icosahedron form a dual pair.\n",
    "\n",
    "We can now encode all this knowledge into a Python class that allow us to manipulate platonic solids. We will explore the Vertex, Edges and Face relations and the duality relation"
   ]
  },
  {
   "cell_type": "code",
   "execution_count": 184,
   "metadata": {},
   "outputs": [],
   "source": [
    "class PlatonicSolid():\n",
    "    \n",
    "    platonic={'tetrahedron': (3,3), 'hexahedron': (4,3), 'octahedron': (3,4), \n",
    "              'dodecahedron': (3,5), 'icosahedron': (5,3)}\n",
    "    \n",
    "    def __init__(self, name=None):\n",
    "        \n",
    "        if name is None:\n",
    "            self.schlafli = (3,3)\n",
    "        else:\n",
    "            self.schlafli = self.name2schlafi(name)\n",
    "\n",
    "    @classmethod\n",
    "    def name2schlafi(cls,name):\n",
    "        \n",
    "        if name.lower() == 'cube':\n",
    "            hedron = 'hexahedron'\n",
    "        elif name.lower() in cls.platonic:\n",
    "            hedron = name.lower()\n",
    "        else:\n",
    "            raise ValueError(\"'%s' is not recognized as a Platonic Solid\" % name)\n",
    "        return cls.platonic[hedron]\n",
    "        \n",
    "    @classmethod\n",
    "    def schlafli2name(cls,schlafli):\n",
    "\n",
    "        if schlafli not in cls.platonic.values():\n",
    "            raise ValueError(\"'%s' is not recognized as a valid Schlafli Symbol\" % schlafli)\n",
    "            \n",
    "        hedrons = [key  for (key, value) in cls.platonic.items() if value == schlafli]\n",
    "        return hedrons[0]\n",
    "\n",
    "    @property\n",
    "    def p(self):\n",
    "        return self.schlafli[0]\n",
    "    \n",
    "    @property\n",
    "    def q(self):\n",
    "        return self.schlafli[1]\n",
    "    \n",
    "    @property\n",
    "    def vertices(self):\n",
    "        p = self.p\n",
    "        q = self.q\n",
    "        return 4*p//(4 - (p-2)*(q-2))\n",
    "    \n",
    "    @property\n",
    "    def edges(self):\n",
    "        p = self.p\n",
    "        q = self.q\n",
    "        return 2*p*q//(4 - (p-2)*(q-2))\n",
    "    \n",
    "    @property\n",
    "    def faces(self):\n",
    "        p = self.p\n",
    "        q = self.q\n",
    "        return 4*q//(4 - (p-2)*(q-2))\n",
    "    \n",
    "    def dual(self):\n",
    "        return self.__class__(self.schlafli2name((self.q,self.p)))\n",
    "        "
   ]
  },
  {
   "cell_type": "code",
   "execution_count": 185,
   "metadata": {},
   "outputs": [
    {
     "name": "stdout",
     "output_type": "stream",
     "text": [
      "(4, 3)\n",
      "8\n",
      "12\n",
      "6\n"
     ]
    }
   ],
   "source": [
    "cube=PlatonicSolid('cube')\n",
    "print(cube.schlafli)\n",
    "print(cube.vertices)\n",
    "print(cube.edges)\n",
    "print(cube.faces)"
   ]
  },
  {
   "cell_type": "code",
   "execution_count": 186,
   "metadata": {},
   "outputs": [
    {
     "name": "stdout",
     "output_type": "stream",
     "text": [
      "(3, 4)\n",
      "6\n",
      "12\n",
      "8\n"
     ]
    }
   ],
   "source": [
    "octa=cube.dual()\n",
    "print(octa.schlafli)\n",
    "print(octa.vertices)\n",
    "print(octa.edges)\n",
    "print(octa.faces)"
   ]
  },
  {
   "cell_type": "markdown",
   "metadata": {},
   "source": [
    "# 3 Key Differences between Python 2.x and 3.x"
   ]
  },
  {
   "cell_type": "markdown",
   "metadata": {},
   "source": [
    "## Print"
   ]
  },
  {
   "cell_type": "markdown",
   "metadata": {},
   "source": [
    "Python 2’s print statement has been replaced by the print() function, meaning that we have to wrap the object that we want to print in parantheses. The commands below work on Python 2.x"
   ]
  },
  {
   "cell_type": "raw",
   "metadata": {},
   "source": [
    "from platform import python_version\n",
    "\n",
    "print 'Python', python_version()\n",
    "print 'Hello, World!'\n",
    "print('Hello, World!')\n",
    "print \"text\", ; print 'print more text on the same line'"
   ]
  },
  {
   "cell_type": "markdown",
   "metadata": {},
   "source": [
    "In Python 3.x to get the same results you have to use:"
   ]
  },
  {
   "cell_type": "code",
   "execution_count": 187,
   "metadata": {},
   "outputs": [
    {
     "name": "stdout",
     "output_type": "stream",
     "text": [
      "Python 3.7.4\n",
      "Hello, World!\n",
      "some text, print more text on the same line\n"
     ]
    }
   ],
   "source": [
    "from platform import python_version\n",
    "\n",
    "print('Python', python_version())\n",
    "print('Hello, World!')\n",
    "\n",
    "print(\"some text,\", end=\"\")\n",
    "print(' print more text on the same line')"
   ]
  },
  {
   "cell_type": "markdown",
   "metadata": {},
   "source": [
    "## Integer Division"
   ]
  },
  {
   "cell_type": "markdown",
   "metadata": {},
   "source": [
    "This change is particularly dangerous. In Scientific Computing this is even more true as the divison can go unnoticed. In Python 2.x the dision of two integers is always an integer. In Python 3.x the result is promoted to float if the numbers have not solution in the integers. The commands below work in Python 2.x and return integers:"
   ]
  },
  {
   "cell_type": "raw",
   "metadata": {},
   "source": [
    "print 'Python', python_version()\n",
    "print '3 / 2 =', 3 / 2\n",
    "print '3 // 2 =', 3 // 2\n",
    "print '3 / 2.0 =', 3 / 2.0\n",
    "print '3 // 2.0 =', 3 // 2.0"
   ]
  },
  {
   "cell_type": "markdown",
   "metadata": {},
   "source": [
    "In Python 3.x to get the same results you have to use:"
   ]
  },
  {
   "cell_type": "code",
   "execution_count": 188,
   "metadata": {},
   "outputs": [
    {
     "name": "stdout",
     "output_type": "stream",
     "text": [
      "Python 3.7.4\n",
      "3 / 2 = 1.5\n",
      "3 // 2 = 1\n",
      "3 / 2.0 = 1.5\n",
      "3 // 2.0 = 1.0\n"
     ]
    }
   ],
   "source": [
    "print('Python', python_version())\n",
    "print('3 / 2 =', 3 / 2)\n",
    "print('3 // 2 =', 3 // 2)\n",
    "print('3 / 2.0 =', 3 / 2.0)\n",
    "print('3 // 2.0 =', 3 // 2.0)"
   ]
  },
  {
   "cell_type": "markdown",
   "metadata": {},
   "source": [
    "## xrange"
   ]
  },
  {
   "cell_type": "markdown",
   "metadata": {},
   "source": [
    "xrange() used to be very popular in Python 2.x for creating an iterable object, e.g., in a for-loop or list/set-dictionary-comprehension. In many situations you need to iterate over a list of values and xrange has the advantage of the regular range() of being generally faster if you have to iterate over it only once (e.g., in a for-loop). \n",
    "\n",
    "There are two main reasons for choosing xrange over range, speed memory. However, in contrast to 1-time iterations, it is not recommended if you repeat the iteration multiple times, since the generation happens every time from scratch!\n",
    "\n",
    "Consider this case:"
   ]
  },
  {
   "cell_type": "code",
   "execution_count": 189,
   "metadata": {},
   "outputs": [],
   "source": [
    "import timeit\n",
    "\n",
    "def test_range(n):\n",
    "    sum=0\n",
    "    for i in range(n):\n",
    "        for j in range(n):\n",
    "            for k in range(n):\n",
    "                ijk=i+j*k\n",
    "                sum=sum+ ijk\n",
    "                \n",
    "                if ijk > 1:\n",
    "                    break\n",
    "\n",
    "            else:\n",
    "                # Continue if the inner loop wasn't broken.\n",
    "                continue\n",
    "            # Inner loop was broken, break the outer.\n",
    "            break\n",
    "\n",
    "        else:\n",
    "            # Continue if the inner loop wasn't broken.\n",
    "            continue\n",
    "        # Inner loop was broken, break the outer.\n",
    "        break\n",
    "\n",
    "\n",
    "    return sum\n",
    "            \n",
    "def test_xrange(n):\n",
    "    sum=0\n",
    "    for i in xrange(n):\n",
    "        for j in xrange(n):\n",
    "            for k in xrange(n):\n",
    "                ijk=i+j*k\n",
    "                sum=sum+ ijk\n",
    "                \n",
    "                if ijk > 1:\n",
    "                    break\n",
    "\n",
    "            else:\n",
    "                # Continue if the inner loop wasn't broken.\n",
    "                continue\n",
    "            # Inner loop was broken, break the outer.\n",
    "            break\n",
    "\n",
    "        else:\n",
    "            # Continue if the inner loop wasn't broken.\n",
    "            continue\n",
    "        # Inner loop was broken, break the outer.\n",
    "        break\n",
    "\n",
    "    return sum"
   ]
  },
  {
   "cell_type": "markdown",
   "metadata": {},
   "source": [
    "These two functions are used on the script `range_vs_xrange.py` and their timings are shown:"
   ]
  },
  {
   "cell_type": "raw",
   "metadata": {},
   "source": [
    "$ python2 range_vs_xrange.py\n",
    "Using range() function:\n",
    "1.72167515755\n",
    "Using xrange() function:\n",
    "1.00023412704\n"
   ]
  },
  {
   "cell_type": "markdown",
   "metadata": {},
   "source": [
    "On Python 3.x the xrange was removed and range behaves as xrange returning an iterable object."
   ]
  },
  {
   "cell_type": "markdown",
   "metadata": {},
   "source": [
    "## More differences"
   ]
  },
  {
   "cell_type": "markdown",
   "metadata": {},
   "source": [
    "There are more differences beyond the 3 above, a good description of the key differences can be found on [Sebastian Raschka' blog](https://sebastianraschka.com/Articles/2014_python_2_3_key_diff.html)"
   ]
  },
  {
   "cell_type": "markdown",
   "metadata": {},
   "source": [
    "# Brief exploration of other scientific packages for Python"
   ]
  },
  {
   "cell_type": "markdown",
   "metadata": {},
   "source": [
    "## Numpy"
   ]
  },
  {
   "cell_type": "markdown",
   "metadata": {},
   "source": [
    "Now we will test if numpy is working on your system"
   ]
  },
  {
   "cell_type": "code",
   "execution_count": 190,
   "metadata": {},
   "outputs": [],
   "source": [
    "import numpy as np"
   ]
  },
  {
   "cell_type": "markdown",
   "metadata": {},
   "source": [
    "If you get an error in the previous input, numpy is not installed on your system. The next inputs will fail also"
   ]
  },
  {
   "cell_type": "markdown",
   "metadata": {},
   "source": [
    "Those are the Pauli matrices:"
   ]
  },
  {
   "cell_type": "code",
   "execution_count": 191,
   "metadata": {},
   "outputs": [
    {
     "data": {
      "text/plain": [
       "array([[0.+0.j, 1.+0.j],\n",
       "       [1.+0.j, 0.+0.j]])"
      ]
     },
     "execution_count": 191,
     "metadata": {},
     "output_type": "execute_result"
    }
   ],
   "source": [
    "sigmax=np.array([ [0, 1], [1, 0] ], dtype=complex)\n",
    "sigmax"
   ]
  },
  {
   "cell_type": "code",
   "execution_count": 192,
   "metadata": {},
   "outputs": [
    {
     "data": {
      "text/plain": [
       "array([[ 0.+0.j, -0.-1.j],\n",
       "       [ 0.+1.j,  0.+0.j]])"
      ]
     },
     "execution_count": 192,
     "metadata": {},
     "output_type": "execute_result"
    }
   ],
   "source": [
    "sigmay=np.array([ [0, -1j], [1j, 0] ], dtype=complex)\n",
    "sigmay"
   ]
  },
  {
   "cell_type": "code",
   "execution_count": 193,
   "metadata": {},
   "outputs": [
    {
     "data": {
      "text/plain": [
       "array([[ 1.+0.j,  0.+0.j],\n",
       "       [ 0.+0.j, -1.+0.j]])"
      ]
     },
     "execution_count": 193,
     "metadata": {},
     "output_type": "execute_result"
    }
   ],
   "source": [
    "sigmaz=np.array([ [1, 0], [0, -1] ], dtype=complex)\n",
    "sigmaz"
   ]
  },
  {
   "cell_type": "markdown",
   "metadata": {},
   "source": [
    "This shows the involutary property of Pauli matrices"
   ]
  },
  {
   "cell_type": "code",
   "execution_count": 194,
   "metadata": {},
   "outputs": [
    {
     "data": {
      "text/plain": [
       "array([[1.-0.j, 0.-0.j],\n",
       "       [0.-0.j, 1.-0.j]])"
      ]
     },
     "execution_count": 194,
     "metadata": {},
     "output_type": "execute_result"
    }
   ],
   "source": [
    "-1j* np.dot( sigmax, np.dot(sigmay, sigmaz))"
   ]
  },
  {
   "cell_type": "markdown",
   "metadata": {},
   "source": [
    "This shows how to produce the Identity matrix with complex entries"
   ]
  },
  {
   "cell_type": "code",
   "execution_count": 195,
   "metadata": {},
   "outputs": [
    {
     "data": {
      "text/plain": [
       "array([[1.+0.j, 0.+0.j],\n",
       "       [0.+0.j, 1.+0.j]])"
      ]
     },
     "execution_count": 195,
     "metadata": {},
     "output_type": "execute_result"
    }
   ],
   "source": [
    "np.eye(2, dtype=complex)"
   ]
  },
  {
   "cell_type": "markdown",
   "metadata": {},
   "source": [
    "These are the rotation matrices in $\\mathbb{R}^3$"
   ]
  },
  {
   "cell_type": "code",
   "execution_count": 196,
   "metadata": {},
   "outputs": [],
   "source": [
    "from math import cos, sin, radians\n",
    "def Rotation(alpha, beta, gamma):\n",
    "    a=radians(alpha)\n",
    "    b=radians(beta)\n",
    "    c=radians(gamma)\n",
    "    Rx=np.array([[1, 0, 0],[0, cos(a), -sin(a)],[0, sin(a), cos(a)]])\n",
    "    Ry=np.array([[cos(b),0,sin(beta)],[0, 1, 0],[-sin(b), 0, cos(b)]])\n",
    "    Rz=np.array([[cos(c), -sin(c), 0],[sin(c), cos(c), 0],[0, 0, 1]])\n",
    "    return Rx, Ry, Rz"
   ]
  },
  {
   "cell_type": "code",
   "execution_count": 197,
   "metadata": {},
   "outputs": [
    {
     "data": {
      "text/plain": [
       "(array([[ 1.,  0.,  0.],\n",
       "        [ 0.,  1., -0.],\n",
       "        [ 0.,  0.,  1.]]), array([[ 1.,  0.,  0.],\n",
       "        [ 0.,  1.,  0.],\n",
       "        [-0.,  0.,  1.]]), array([[ 0., -1.,  0.],\n",
       "        [ 1.,  0.,  0.],\n",
       "        [ 0.,  0.,  1.]]))"
      ]
     },
     "execution_count": 197,
     "metadata": {},
     "output_type": "execute_result"
    }
   ],
   "source": [
    "np.set_printoptions(precision=3,suppress=True)\n",
    "Rotation(0,0,90)"
   ]
  },
  {
   "cell_type": "markdown",
   "metadata": {},
   "source": [
    "This shows that rotations form a group, the so call Special Orthogonal Group $SO(3)$"
   ]
  },
  {
   "cell_type": "code",
   "execution_count": 198,
   "metadata": {},
   "outputs": [
    {
     "name": "stdout",
     "output_type": "stream",
     "text": [
      "[[ 1.     0.     0.   ]\n",
      " [ 0.     0.707 -0.707]\n",
      " [ 0.     0.707  0.707]]\n",
      "[[ 0.707  0.     0.851]\n",
      " [ 0.     1.     0.   ]\n",
      " [-0.707  0.     0.707]]\n",
      "[[ 1. -0.  0.]\n",
      " [ 0.  1.  0.]\n",
      " [ 0.  0.  1.]]\n"
     ]
    }
   ],
   "source": [
    "Rx,Ry,Rz=Rotation(45,45,0)\n",
    "print(Rx)\n",
    "print(Ry)\n",
    "print(Rz)"
   ]
  },
  {
   "cell_type": "markdown",
   "metadata": {},
   "source": [
    "Notice that rotate 45 degrees about the y axis followed by a rotation of 45 degrees about the x axis does not produce the same matrix, or same rotation, that operating in the inverse order.\n",
    "Matrix multiplication and rotations do not conmute. The _np.dot()_ is used to multiply matrices."
   ]
  },
  {
   "cell_type": "code",
   "execution_count": 199,
   "metadata": {},
   "outputs": [
    {
     "data": {
      "text/plain": [
       "array([[ 0.707,  0.   ,  0.851],\n",
       "       [ 0.5  ,  0.707, -0.5  ],\n",
       "       [-0.5  ,  0.707,  0.5  ]])"
      ]
     },
     "execution_count": 199,
     "metadata": {},
     "output_type": "execute_result"
    }
   ],
   "source": [
    "np.dot(Rx,Ry)"
   ]
  },
  {
   "cell_type": "code",
   "execution_count": 200,
   "metadata": {},
   "outputs": [
    {
     "data": {
      "text/plain": [
       "array([[ 0.707,  0.602,  0.602],\n",
       "       [ 0.   ,  0.707, -0.707],\n",
       "       [-0.707,  0.5  ,  0.5  ]])"
      ]
     },
     "execution_count": 200,
     "metadata": {},
     "output_type": "execute_result"
    }
   ],
   "source": [
    "np.dot(Ry,Rx)"
   ]
  },
  {
   "cell_type": "markdown",
   "metadata": {},
   "source": [
    "## Scipy"
   ]
  },
  {
   "cell_type": "markdown",
   "metadata": {},
   "source": [
    "We start importing the Bessel function of the first kind of real order v: $J_v(\\rho)$. We also need to import the RBF class for radial basis function interpolation of n-dimensional scattered data."
   ]
  },
  {
   "cell_type": "code",
   "execution_count": 201,
   "metadata": {},
   "outputs": [],
   "source": [
    "from scipy.interpolate import Rbf\n",
    "from scipy.special import jn\n",
    "from math import pi"
   ]
  },
  {
   "cell_type": "markdown",
   "metadata": {},
   "source": [
    "Here we create our random sampling of data. The \"Sombrero\" function is defined as $2 J_1(\\pi \\rho)/(\\pi \\rho)$. This function is very used in optics and image processing. Lets try to see if the RBF algorithm is able to capture the small waves of the \"Sobrero\"."
   ]
  },
  {
   "cell_type": "code",
   "execution_count": 202,
   "metadata": {},
   "outputs": [],
   "source": [
    "x = np.random.rand(100)*8.0-4.0\n",
    "y = np.random.rand(100)*8.0-4.0\n",
    "rho = np.sqrt(x**2 + y**2)\n",
    "z = 2 * jn(1,pi*rho)/(pi*rho)\n",
    "tx = np.linspace(-4.0, 4.0, 100)\n",
    "ty = np.linspace(-4.0, 4.0, 100)\n",
    "XI, YI = np.meshgrid(tx, ty)"
   ]
  },
  {
   "cell_type": "markdown",
   "metadata": {},
   "source": [
    "Now, we have the sampled data and a mesh grid to work with. The class Rbf returns a callable that we use to fill the interpolated values in the ZI array"
   ]
  },
  {
   "cell_type": "code",
   "execution_count": 203,
   "metadata": {},
   "outputs": [],
   "source": [
    "rbf = Rbf(x, y, z, epsilon=2)\n",
    "ZI = rbf(XI, YI)"
   ]
  },
  {
   "cell_type": "markdown",
   "metadata": {},
   "source": [
    "We can used this interpolated data for visualization. Matplotlib is the standard \"de facto\" for plotting"
   ]
  },
  {
   "cell_type": "markdown",
   "metadata": {},
   "source": [
    "## Matplotlib"
   ]
  },
  {
   "cell_type": "code",
   "execution_count": 204,
   "metadata": {},
   "outputs": [],
   "source": [
    "%matplotlib inline\n",
    "import matplotlib.pyplot as plt\n",
    "from matplotlib import cm"
   ]
  },
  {
   "cell_type": "markdown",
   "metadata": {},
   "source": [
    "Now plot the interpolated mesh"
   ]
  },
  {
   "cell_type": "code",
   "execution_count": 205,
   "metadata": {},
   "outputs": [
    {
     "data": {
      "image/png": "[encoded data removed]",
      "text/plain": [
       "<Figure size 648x576 with 2 Axes>"
      ]
     },
     "metadata": {
      "needs_background": "light"
     },
     "output_type": "display_data"
    }
   ],
   "source": [
    "fig=plt.figure(figsize=(9, 8))\n",
    "#n = plt.normalize(-1., 1.)\n",
    "plt.subplot(1, 1, 1)\n",
    "plt.pcolor(XI, YI, ZI, cmap=cm.jet)\n",
    "plt.scatter(x, y, 20, z, cmap=cm.jet)\n",
    "plt.title('RBF interpolation - multiquadrics')\n",
    "plt.xlim(-4, 4)\n",
    "plt.ylim(-4, 4)\n",
    "plt.colorbar();"
   ]
  },
  {
   "cell_type": "markdown",
   "metadata": {},
   "source": [
    "Notice that the Rbf algorithm was able to capture, even if not completely the first and second ring in the \"Sombrero\" function.\n",
    "We can try now to plot the surface of the function using also Matplotlib"
   ]
  },
  {
   "cell_type": "code",
   "execution_count": 206,
   "metadata": {},
   "outputs": [
    {
     "data": {
      "image/png": "[encoded data removed]",
      "text/plain": [
       "<Figure size 1152x576 with 2 Axes>"
      ]
     },
     "metadata": {
      "needs_background": "light"
     },
     "output_type": "display_data"
    }
   ],
   "source": [
    "from mpl_toolkits.mplot3d import Axes3D\n",
    "from matplotlib.ticker import LinearLocator\n",
    "from matplotlib.ticker import FormatStrFormatter\n",
    "\n",
    "fig = plt.figure(figsize=(16,8))\n",
    "ax = fig.gca(projection='3d')\n",
    "surf = ax.plot_surface(XI, YI, ZI, rstride=1, cstride=1, cmap=cm.coolwarm,\n",
    "        linewidth=0, antialiased=False)\n",
    "\n",
    "ax.set_zlim(-1.01, 1.01)\n",
    "ax.zaxis.set_major_locator(LinearLocator(10))\n",
    "ax.zaxis.set_major_formatter(FormatStrFormatter('%.02f'))\n",
    "\n",
    "fig.colorbar(surf, shrink=0.5, aspect=5)\n",
    "\n",
    "plt.show()"
   ]
  },
  {
   "cell_type": "markdown",
   "metadata": {},
   "source": [
    "## SymPy"
   ]
  },
  {
   "cell_type": "markdown",
   "metadata": {},
   "source": [
    "This is a library for symbolic math, different of most of the libraries presented untit now that are basically numeric. Lets do some simple examples to see how SymPy works.\n",
    "This is one of the libraries that you have not installed. If you are not really intrested in computer algebra, just move on to the next library. "
   ]
  },
  {
   "cell_type": "code",
   "execution_count": 207,
   "metadata": {},
   "outputs": [],
   "source": [
    "#%load_ext sympyprinting\n",
    "import sympy as sym\n",
    "from sympy import init_printing\n",
    "init_printing()"
   ]
  },
  {
   "cell_type": "code",
   "execution_count": 208,
   "metadata": {},
   "outputs": [],
   "source": [
    "# Deprecated\n",
    "#sym.interactive.ipythonprinting"
   ]
  },
  {
   "cell_type": "markdown",
   "metadata": {},
   "source": [
    "We will inform Sympy that treat 'x', 'y', 'z' and 't' as symbols. "
   ]
  },
  {
   "cell_type": "code",
   "execution_count": 209,
   "metadata": {},
   "outputs": [],
   "source": [
    "x, y, z, t = sym.symbols('x y z t')"
   ]
  },
  {
   "cell_type": "markdown",
   "metadata": {},
   "source": [
    "Equality is given by the function Eq, not by '=' (or ':=')"
   ]
  },
  {
   "cell_type": "code",
   "execution_count": 210,
   "metadata": {},
   "outputs": [
    {
     "data": {
      "image/png": "[encoded data removed]",
      "text/latex": [
       "$$x = y$$"
      ],
      "text/plain": [
       "x = y"
      ]
     },
     "execution_count": 210,
     "metadata": {},
     "output_type": "execute_result"
    }
   ],
   "source": [
    "sym.Eq(x,y)"
   ]
  },
  {
   "cell_type": "markdown",
   "metadata": {},
   "source": [
    "The imaginary unit is I, not 1j like use to be in Python "
   ]
  },
  {
   "cell_type": "code",
   "execution_count": 211,
   "metadata": {},
   "outputs": [
    {
     "data": {
      "image/png": "[encoded data removed]",
      "text/latex": [
       "$$\\frac{3 \\pi}{2} + \\frac{e^{i x}}{x^{2} + y}$$"
      ],
      "text/plain": [
       "        ⅈ⋅x \n",
       "3⋅π    ℯ    \n",
       "─── + ──────\n",
       " 2     2    \n",
       "      x  + y"
      ]
     },
     "execution_count": 211,
     "metadata": {},
     "output_type": "execute_result"
    }
   ],
   "source": [
    "sym.Rational(3,2)*sym.pi + sym.exp(sym.I*x) / (x**2 + y)"
   ]
  },
  {
   "cell_type": "code",
   "execution_count": 212,
   "metadata": {},
   "outputs": [
    {
     "data": {
      "image/png": "[encoded data removed]",
      "text/latex": [
       "$$\\left(x + 1\\right) \\left(x + y\\right)^{3}$$"
      ],
      "text/plain": [
       "               3\n",
       "(x + 1)⋅(x + y) "
      ]
     },
     "execution_count": 212,
     "metadata": {},
     "output_type": "execute_result"
    }
   ],
   "source": [
    "eq = ((x+y)**3 * (x+1))\n",
    "eq"
   ]
  },
  {
   "cell_type": "code",
   "execution_count": 213,
   "metadata": {},
   "outputs": [
    {
     "data": {
      "image/png": "[encoded data removed]",
      "text/latex": [
       "$$x^{4} + 3 x^{3} y + x^{3} + 3 x^{2} y^{2} + 3 x^{2} y + x y^{3} + 3 x y^{2} + y^{3}$$"
      ],
      "text/plain": [
       " 4      3      3      2  2      2        3        2    3\n",
       "x  + 3⋅x ⋅y + x  + 3⋅x ⋅y  + 3⋅x ⋅y + x⋅y  + 3⋅x⋅y  + y "
      ]
     },
     "execution_count": 213,
     "metadata": {},
     "output_type": "execute_result"
    }
   ],
   "source": [
    "sym.expand(eq)"
   ]
  },
  {
   "cell_type": "markdown",
   "metadata": {},
   "source": [
    "Lets try to solve a differential equation, we start defing two symbols that are actually functions"
   ]
  },
  {
   "cell_type": "code",
   "execution_count": 214,
   "metadata": {},
   "outputs": [],
   "source": [
    "f, g = sym.symbols('f g', cls=sym.Function)"
   ]
  },
  {
   "cell_type": "markdown",
   "metadata": {},
   "source": [
    "Now a differential equation for $f(x)$ could be defined as: "
   ]
  },
  {
   "cell_type": "code",
   "execution_count": 215,
   "metadata": {},
   "outputs": [
    {
     "data": {
      "image/png": "[encoded data removed]",
      "text/latex": [
       "$$f{\\left (x \\right )} - 2 \\frac{d}{d x} f{\\left (x \\right )} + \\frac{d^{2}}{d x^{2}} f{\\left (x \\right )} = \\sin{\\left (x \\right )}$$"
      ],
      "text/plain": [
       "                      2               \n",
       "         d           d                \n",
       "f(x) - 2⋅──(f(x)) + ───(f(x)) = sin(x)\n",
       "         dx           2               \n",
       "                    dx                "
      ]
     },
     "execution_count": 215,
     "metadata": {},
     "output_type": "execute_result"
    }
   ],
   "source": [
    "diffeq = sym.Eq(f(x).diff(x, x) - 2*f(x).diff(x) + f(x), sym.sin(x))\n",
    "diffeq"
   ]
  },
  {
   "cell_type": "code",
   "execution_count": 216,
   "metadata": {},
   "outputs": [
    {
     "data": {
      "image/png": "[encoded data removed]",
      "text/latex": [
       "$$f{\\left (x \\right )} = \\left(C_{1} + C_{2} x\\right) e^{x} + \\frac{\\cos{\\left (x \\right )}}{2}$$"
      ],
      "text/plain": [
       "                    x   cos(x)\n",
       "f(x) = (C₁ + C₂⋅x)⋅ℯ  + ──────\n",
       "                          2   "
      ]
     },
     "execution_count": 216,
     "metadata": {},
     "output_type": "execute_result"
    }
   ],
   "source": [
    "sym.dsolve(diffeq, f(x))"
   ]
  },
  {
   "cell_type": "markdown",
   "metadata": {},
   "source": [
    "As expected, there are two arbitrary constants in the solution to the differential equation above"
   ]
  },
  {
   "cell_type": "markdown",
   "metadata": {},
   "source": [
    "#### IMPORTING DATA"
   ]
  },
  {
   "cell_type": "code",
   "execution_count": 27,
   "metadata": {},
   "outputs": [
    {
     "name": "stdout",
     "output_type": "stream",
     "text": [
      "[OrderedDict([('\\ufeffage', '63'), ('sex', '1'), ('cp', '3'), ('trestbps', '145'), ('chol', '233'), ('fbs', '1'), ('restecg', '0'), ('thalach', '150'), ('exang', '0'), ('oldpeak', '2.3'), ('slope', '0'), ('ca', '0'), ('thal', '1'), ('target', '1')]), OrderedDict([('\\ufeffage', '37'), ('sex', '1'), ('cp', '2'), ('trestbps', '130'), ('chol', '250'), ('fbs', '0'), ('restecg', '1'), ('thalach', '187'), ('exang', '0'), ('oldpeak', '3.5'), ('slope', '0'), ('ca', '0'), ('thal', '2'), ('target', '1')]), OrderedDict([('\\ufeffage', '41'), ('sex', '0'), ('cp', '1'), ('trestbps', '130'), ('chol', '204'), ('fbs', '0'), ('restecg', '0'), ('thalach', '172'), ('exang', '0'), ('oldpeak', '1.4'), ('slope', '2'), ('ca', '0'), ('thal', '2'), ('target', '1')])]\n",
      "Sum over the column =  207.0\n"
     ]
    }
   ],
   "source": [
    "import csv\n",
    "\n",
    "%precision 2\n",
    "\n",
    "with open('data/heart.csv') as cvsfile:\n",
    "    myfile=list(csv.DictReader(cvsfile))\n",
    "    \n",
    "print(myfile[:3])\n",
    "\n",
    "ll=sum([float(d['sex']) for d in myfile])\n",
    "print('Sum over the column = ',ll)"
   ]
  },
  {
   "cell_type": "markdown",
   "metadata": {},
   "source": [
    "## Pandas"
   ]
  },
  {
   "cell_type": "markdown",
   "metadata": {},
   "source": [
    "Pandas is the last library that we will test in for the introduction. Pandas is a library for Data Analysis, it is robust enough to suppport data from csv, "
   ]
  },
  {
   "cell_type": "code",
   "execution_count": 217,
   "metadata": {},
   "outputs": [],
   "source": [
    "import pandas as pd"
   ]
  },
  {
   "cell_type": "code",
   "execution_count": 218,
   "metadata": {},
   "outputs": [],
   "source": [
    "df=pd.read_excel('data/2018_all_indicators.xlsx')"
   ]
  },
  {
   "cell_type": "code",
   "execution_count": 219,
   "metadata": {},
   "outputs": [
    {
     "data": {
      "text/plain": [
       "Index([     'dimension',   'indicator_id', 'indicator_name',           'iso3',\n",
       "         'country_name',             1990,             1991,             1992,\n",
       "                   1993,             1994,             1995,             1996,\n",
       "                   1997,             1998,             1999,             2000,\n",
       "                   2001,             2002,             2003,             2004,\n",
       "                   2005,             2006,             2007,             2008,\n",
       "                   2009,             2010,             2011,             2012,\n",
       "                   2013,             2014,             2015,             2016,\n",
       "                   2017,             9999],\n",
       "      dtype='object')"
      ]
     },
     "execution_count": 219,
     "metadata": {},
     "output_type": "execute_result"
    }
   ],
   "source": [
    "df.columns"
   ]
  },
  {
   "cell_type": "code",
   "execution_count": 220,
   "metadata": {},
   "outputs": [
    {
     "data": {
      "text/plain": [
       "array(['AFG', 'ALB', 'DZA', 'AND', 'AGO', 'ATG', 'ARG', 'ARM', 'AUS',\n",
       "       'AUT', 'AZE', 'BHS', 'BHR', 'BGD', 'BRB', 'BLR', 'BEL', 'BLZ',\n",
       "       'BEN', 'BTN', 'BOL', 'BIH', 'BWA', 'BRA', 'BRN', 'BGR', 'BFA',\n",
       "       'BDI', 'CPV', 'KHM', 'CMR', 'CAN', 'CAF', 'TCD', 'CHL', 'CHN',\n",
       "       'COL', 'COM', 'COG', 'COD', 'CRI', 'CIV', 'HRV', 'CUB', 'CYP',\n",
       "       'CZE', 'DNK', 'DJI', 'DMA', 'DOM', 'ECU', 'EGY', 'SLV', 'GNQ',\n",
       "       'ERI', 'EST', 'SWZ', 'ETH', 'FJI', 'FIN', 'FRA', 'GAB', 'GMB',\n",
       "       'GEO', 'DEU', 'GHA', 'GRC', 'GRD', 'GTM', 'GIN', 'GNB', 'GUY',\n",
       "       'HTI', 'HND', 'HKG', 'HUN', 'ISL', 'IND', 'IDN', 'IRN', 'IRQ',\n",
       "       'IRL', 'ISR', 'ITA', 'JAM', 'JPN', 'JOR', 'KAZ', 'KEN', 'KIR',\n",
       "       'KOR', 'KWT', 'KGZ', 'LAO', 'LVA', 'LBN', 'LSO', 'LBR', 'LBY',\n",
       "       'LIE', 'LTU', 'LUX', 'MDG', 'MWI', 'MYS', 'MDV', 'MLI', 'MLT',\n",
       "       'MHL', 'MRT', 'MUS', 'MEX', 'FSM', 'MDA', 'MNG', 'MNE', 'MAR',\n",
       "       'MOZ', 'MMR', 'NAM', 'NPL', 'NLD', 'NZL', 'NIC', 'NER', 'NGA',\n",
       "       'NOR', 'OMN', 'PAK', 'PLW', 'PSE', 'PAN', 'PNG', 'PRY', 'PER',\n",
       "       'PHL', 'POL', 'PRT', 'QAT', 'ROU', 'RUS', 'RWA', 'KNA', 'LCA',\n",
       "       'VCT', 'WSM', 'STP', 'SAU', 'SEN', 'SRB', 'SYC', 'SLE', 'SGP',\n",
       "       'SVK', 'SVN', 'SLB', 'ZAF', 'SSD', 'ESP', 'LKA', 'SDN', 'SUR',\n",
       "       'SWE', 'CHE', 'SYR', 'TJK', 'TZA', 'THA', 'MKD', 'TLS', 'TGO',\n",
       "       'TON', 'TTO', 'TUN', 'TUR', 'TKM', 'UGA', 'UKR', 'ARE', 'GBR',\n",
       "       'USA', 'URY', 'UZB', 'VUT', 'VEN', 'VNM', 'YEM', 'ZMB', 'ZWE',\n",
       "       'PRK', 'SOM', 'MCO', 'NRU', 'SMR', 'TUV'], dtype=object)"
      ]
     },
     "execution_count": 220,
     "metadata": {},
     "output_type": "execute_result"
    }
   ],
   "source": [
    "df['iso3'].unique()"
   ]
  },
  {
   "cell_type": "code",
   "execution_count": 221,
   "metadata": {},
   "outputs": [
    {
     "data": {
      "text/plain": [
       "array(['Afghanistan', 'Albania', 'Algeria', 'Andorra', 'Angola',\n",
       "       'Antigua and Barbuda', 'Argentina', 'Armenia', 'Australia',\n",
       "       'Austria', 'Azerbaijan', 'Bahamas', 'Bahrain', 'Bangladesh',\n",
       "       'Barbados', 'Belarus', 'Belgium', 'Belize', 'Benin', 'Bhutan',\n",
       "       'Bolivia (Plurinational State of)', 'Bosnia and Herzegovina',\n",
       "       'Botswana', 'Brazil', 'Brunei Darussalam', 'Bulgaria',\n",
       "       'Burkina Faso', 'Burundi', 'Cabo Verde', 'Cambodia', 'Cameroon',\n",
       "       'Canada', 'Central African Republic', 'Chad', 'Chile', 'China',\n",
       "       'Colombia', 'Comoros', 'Congo',\n",
       "       'Congo (Democratic Republic of the)', 'Costa Rica',\n",
       "       \"Côte d'Ivoire\", 'Croatia', 'Cuba', 'Cyprus', 'Czechia', 'Denmark',\n",
       "       'Djibouti', 'Dominica', 'Dominican Republic', 'Ecuador', 'Egypt',\n",
       "       'El Salvador', 'Equatorial Guinea', 'Eritrea', 'Estonia',\n",
       "       'Eswatini (Kingdom of)', 'Ethiopia', 'Fiji', 'Finland', 'France',\n",
       "       'Gabon', 'Gambia', 'Georgia', 'Germany', 'Ghana', 'Greece',\n",
       "       'Grenada', 'Guatemala', 'Guinea', 'Guinea-Bissau', 'Guyana',\n",
       "       'Haiti', 'Honduras', 'Hong Kong, China (SAR)', 'Hungary',\n",
       "       'Iceland', 'India', 'Indonesia', 'Iran (Islamic Republic of)',\n",
       "       'Iraq', 'Ireland', 'Israel', 'Italy', 'Jamaica', 'Japan', 'Jordan',\n",
       "       'Kazakhstan', 'Kenya', 'Kiribati', 'Korea (Republic of)', 'Kuwait',\n",
       "       'Kyrgyzstan', \"Lao People's Democratic Republic\", 'Latvia',\n",
       "       'Lebanon', 'Lesotho', 'Liberia', 'Libya', 'Liechtenstein',\n",
       "       'Lithuania', 'Luxembourg', 'Madagascar', 'Malawi', 'Malaysia',\n",
       "       'Maldives', 'Mali', 'Malta', 'Marshall Islands', 'Mauritania',\n",
       "       'Mauritius', 'Mexico', 'Micronesia (Federated States of)',\n",
       "       'Moldova (Republic of)', 'Mongolia', 'Montenegro', 'Morocco',\n",
       "       'Mozambique', 'Myanmar', 'Namibia', 'Nepal', 'Netherlands',\n",
       "       'New Zealand', 'Nicaragua', 'Niger', 'Nigeria', 'Norway', 'Oman',\n",
       "       'Pakistan', 'Palau', 'Palestine, State of', 'Panama',\n",
       "       'Papua New Guinea', 'Paraguay', 'Peru', 'Philippines', 'Poland',\n",
       "       'Portugal', 'Qatar', 'Romania', 'Russian Federation', 'Rwanda',\n",
       "       'Saint Kitts and Nevis', 'Saint Lucia',\n",
       "       'Saint Vincent and the Grenadines', 'Samoa',\n",
       "       'Sao Tome and Principe', 'Saudi Arabia', 'Senegal', 'Serbia',\n",
       "       'Seychelles', 'Sierra Leone', 'Singapore', 'Slovakia', 'Slovenia',\n",
       "       'Solomon Islands', 'South Africa', 'South Sudan', 'Spain',\n",
       "       'Sri Lanka', 'Sudan', 'Suriname', 'Sweden', 'Switzerland',\n",
       "       'Syrian Arab Republic', 'Tajikistan',\n",
       "       'Tanzania (United Republic of)', 'Thailand',\n",
       "       'The former Yugoslav Republic of Macedonia', 'Timor-Leste', 'Togo',\n",
       "       'Tonga', 'Trinidad and Tobago', 'Tunisia', 'Turkey',\n",
       "       'Turkmenistan', 'Uganda', 'Ukraine', 'United Arab Emirates',\n",
       "       'United Kingdom', 'United States', 'Uruguay', 'Uzbekistan',\n",
       "       'Vanuatu', 'Venezuela (Bolivarian Republic of)', 'Viet Nam',\n",
       "       'Yemen', 'Zambia', 'Zimbabwe',\n",
       "       \"Korea (Democratic People's Rep. of)\", 'Somalia', 'Monaco',\n",
       "       'Nauru', 'San Marino', 'Tuvalu'], dtype=object)"
      ]
     },
     "execution_count": 221,
     "metadata": {},
     "output_type": "execute_result"
    }
   ],
   "source": [
    "df['country_name'].unique()"
   ]
  },
  {
   "cell_type": "code",
   "execution_count": 222,
   "metadata": {},
   "outputs": [
    {
     "data": {
      "text/html": [
       "<div>\n",
       "<style scoped>\n",
       "    .dataframe tbody tr th:only-of-type {\n",
       "        vertical-align: middle;\n",
       "    }\n",
       "\n",
       "    .dataframe tbody tr th {\n",
       "        vertical-align: top;\n",
       "    }\n",
       "\n",
       "    .dataframe thead th {\n",
       "        text-align: right;\n",
       "    }\n",
       "</style>\n",
       "<table border=\"1\" class=\"dataframe\">\n",
       "  <thead>\n",
       "    <tr style=\"text-align: right;\">\n",
       "      <th></th>\n",
       "      <th>dimension</th>\n",
       "      <th>indicator_id</th>\n",
       "      <th>indicator_name</th>\n",
       "      <th>iso3</th>\n",
       "      <th>country_name</th>\n",
       "      <th>1990</th>\n",
       "      <th>1991</th>\n",
       "      <th>1992</th>\n",
       "      <th>1993</th>\n",
       "      <th>1994</th>\n",
       "      <th>...</th>\n",
       "      <th>2009</th>\n",
       "      <th>2010</th>\n",
       "      <th>2011</th>\n",
       "      <th>2012</th>\n",
       "      <th>2013</th>\n",
       "      <th>2014</th>\n",
       "      <th>2015</th>\n",
       "      <th>2016</th>\n",
       "      <th>2017</th>\n",
       "      <th>9999</th>\n",
       "    </tr>\n",
       "  </thead>\n",
       "  <tbody>\n",
       "    <tr>\n",
       "      <th>111</th>\n",
       "      <td>Composite indices</td>\n",
       "      <td>146206</td>\n",
       "      <td>HDI rank</td>\n",
       "      <td>MEX</td>\n",
       "      <td>Mexico</td>\n",
       "      <td>NaN</td>\n",
       "      <td>NaN</td>\n",
       "      <td>NaN</td>\n",
       "      <td>NaN</td>\n",
       "      <td>NaN</td>\n",
       "      <td>...</td>\n",
       "      <td>NaN</td>\n",
       "      <td>NaN</td>\n",
       "      <td>NaN</td>\n",
       "      <td>NaN</td>\n",
       "      <td>NaN</td>\n",
       "      <td>NaN</td>\n",
       "      <td>NaN</td>\n",
       "      <td>74.000</td>\n",
       "      <td>74.000</td>\n",
       "      <td>NaN</td>\n",
       "    </tr>\n",
       "    <tr>\n",
       "      <th>300</th>\n",
       "      <td>Composite indices</td>\n",
       "      <td>137506</td>\n",
       "      <td>Human Development Index (HDI)</td>\n",
       "      <td>MEX</td>\n",
       "      <td>Mexico</td>\n",
       "      <td>0.65</td>\n",
       "      <td>0.654</td>\n",
       "      <td>0.658</td>\n",
       "      <td>0.663</td>\n",
       "      <td>0.67</td>\n",
       "      <td>...</td>\n",
       "      <td>0.743</td>\n",
       "      <td>0.743</td>\n",
       "      <td>0.751</td>\n",
       "      <td>0.757</td>\n",
       "      <td>0.756</td>\n",
       "      <td>0.761</td>\n",
       "      <td>0.767</td>\n",
       "      <td>0.772</td>\n",
       "      <td>0.774</td>\n",
       "      <td>0.774</td>\n",
       "    </tr>\n",
       "    <tr>\n",
       "      <th>486</th>\n",
       "      <td>Demography</td>\n",
       "      <td>47906</td>\n",
       "      <td>Median age (years)</td>\n",
       "      <td>MEX</td>\n",
       "      <td>Mexico</td>\n",
       "      <td>19.50</td>\n",
       "      <td>NaN</td>\n",
       "      <td>NaN</td>\n",
       "      <td>NaN</td>\n",
       "      <td>NaN</td>\n",
       "      <td>...</td>\n",
       "      <td>NaN</td>\n",
       "      <td>25.900</td>\n",
       "      <td>NaN</td>\n",
       "      <td>NaN</td>\n",
       "      <td>NaN</td>\n",
       "      <td>NaN</td>\n",
       "      <td>27.500</td>\n",
       "      <td>NaN</td>\n",
       "      <td>NaN</td>\n",
       "      <td>27.500</td>\n",
       "    </tr>\n",
       "    <tr>\n",
       "      <th>671</th>\n",
       "      <td>Demography</td>\n",
       "      <td>122006</td>\n",
       "      <td>Old-age (65 and older) dependency ratio (per 1...</td>\n",
       "      <td>MEX</td>\n",
       "      <td>Mexico</td>\n",
       "      <td>7.50</td>\n",
       "      <td>7.600</td>\n",
       "      <td>7.600</td>\n",
       "      <td>7.700</td>\n",
       "      <td>7.80</td>\n",
       "      <td>...</td>\n",
       "      <td>9.100</td>\n",
       "      <td>9.200</td>\n",
       "      <td>9.300</td>\n",
       "      <td>9.400</td>\n",
       "      <td>9.500</td>\n",
       "      <td>9.600</td>\n",
       "      <td>9.800</td>\n",
       "      <td>10.000</td>\n",
       "      <td>10.300</td>\n",
       "      <td>10.300</td>\n",
       "    </tr>\n",
       "    <tr>\n",
       "      <th>856</th>\n",
       "      <td>Demography</td>\n",
       "      <td>63106</td>\n",
       "      <td>Population ages 15–64 (millions)</td>\n",
       "      <td>MEX</td>\n",
       "      <td>Mexico</td>\n",
       "      <td>48.40</td>\n",
       "      <td>49.800</td>\n",
       "      <td>51.300</td>\n",
       "      <td>52.800</td>\n",
       "      <td>54.20</td>\n",
       "      <td>...</td>\n",
       "      <td>73.800</td>\n",
       "      <td>75.400</td>\n",
       "      <td>77.000</td>\n",
       "      <td>78.600</td>\n",
       "      <td>80.200</td>\n",
       "      <td>81.700</td>\n",
       "      <td>83.100</td>\n",
       "      <td>84.500</td>\n",
       "      <td>85.900</td>\n",
       "      <td>85.900</td>\n",
       "    </tr>\n",
       "    <tr>\n",
       "      <th>1041</th>\n",
       "      <td>Demography</td>\n",
       "      <td>132706</td>\n",
       "      <td>Population ages 65 and older (millions)</td>\n",
       "      <td>MEX</td>\n",
       "      <td>Mexico</td>\n",
       "      <td>3.60</td>\n",
       "      <td>3.800</td>\n",
       "      <td>3.900</td>\n",
       "      <td>4.100</td>\n",
       "      <td>4.20</td>\n",
       "      <td>...</td>\n",
       "      <td>6.700</td>\n",
       "      <td>6.900</td>\n",
       "      <td>7.100</td>\n",
       "      <td>7.400</td>\n",
       "      <td>7.600</td>\n",
       "      <td>7.900</td>\n",
       "      <td>8.200</td>\n",
       "      <td>8.500</td>\n",
       "      <td>8.900</td>\n",
       "      <td>8.900</td>\n",
       "    </tr>\n",
       "    <tr>\n",
       "      <th>1226</th>\n",
       "      <td>Demography</td>\n",
       "      <td>132806</td>\n",
       "      <td>Population under age 5 (millions)</td>\n",
       "      <td>MEX</td>\n",
       "      <td>Mexico</td>\n",
       "      <td>11.50</td>\n",
       "      <td>11.600</td>\n",
       "      <td>11.700</td>\n",
       "      <td>11.800</td>\n",
       "      <td>11.80</td>\n",
       "      <td>...</td>\n",
       "      <td>11.500</td>\n",
       "      <td>11.400</td>\n",
       "      <td>11.400</td>\n",
       "      <td>11.500</td>\n",
       "      <td>11.500</td>\n",
       "      <td>11.500</td>\n",
       "      <td>11.500</td>\n",
       "      <td>11.600</td>\n",
       "      <td>11.500</td>\n",
       "      <td>11.500</td>\n",
       "    </tr>\n",
       "    <tr>\n",
       "      <th>1411</th>\n",
       "      <td>Demography</td>\n",
       "      <td>49006</td>\n",
       "      <td>Sex ratio at birth (male to female births)</td>\n",
       "      <td>MEX</td>\n",
       "      <td>Mexico</td>\n",
       "      <td>1.05</td>\n",
       "      <td>NaN</td>\n",
       "      <td>NaN</td>\n",
       "      <td>NaN</td>\n",
       "      <td>NaN</td>\n",
       "      <td>...</td>\n",
       "      <td>NaN</td>\n",
       "      <td>1.050</td>\n",
       "      <td>NaN</td>\n",
       "      <td>NaN</td>\n",
       "      <td>NaN</td>\n",
       "      <td>NaN</td>\n",
       "      <td>1.050</td>\n",
       "      <td>1.050</td>\n",
       "      <td>1.050</td>\n",
       "      <td>1.050</td>\n",
       "    </tr>\n",
       "    <tr>\n",
       "      <th>1600</th>\n",
       "      <td>Demography</td>\n",
       "      <td>44206</td>\n",
       "      <td>Total population (millions)</td>\n",
       "      <td>MEX</td>\n",
       "      <td>Mexico</td>\n",
       "      <td>85.40</td>\n",
       "      <td>87.100</td>\n",
       "      <td>88.800</td>\n",
       "      <td>90.600</td>\n",
       "      <td>92.30</td>\n",
       "      <td>...</td>\n",
       "      <td>115.500</td>\n",
       "      <td>117.300</td>\n",
       "      <td>119.100</td>\n",
       "      <td>120.800</td>\n",
       "      <td>122.500</td>\n",
       "      <td>124.200</td>\n",
       "      <td>125.900</td>\n",
       "      <td>127.500</td>\n",
       "      <td>129.200</td>\n",
       "      <td>129.200</td>\n",
       "    </tr>\n",
       "    <tr>\n",
       "      <th>1795</th>\n",
       "      <td>Demography</td>\n",
       "      <td>45106</td>\n",
       "      <td>Urban population (%)</td>\n",
       "      <td>MEX</td>\n",
       "      <td>Mexico</td>\n",
       "      <td>71.40</td>\n",
       "      <td>71.800</td>\n",
       "      <td>72.200</td>\n",
       "      <td>72.600</td>\n",
       "      <td>73.00</td>\n",
       "      <td>...</td>\n",
       "      <td>77.500</td>\n",
       "      <td>77.800</td>\n",
       "      <td>78.100</td>\n",
       "      <td>78.400</td>\n",
       "      <td>78.700</td>\n",
       "      <td>79.000</td>\n",
       "      <td>79.300</td>\n",
       "      <td>79.600</td>\n",
       "      <td>79.900</td>\n",
       "      <td>79.900</td>\n",
       "    </tr>\n",
       "    <tr>\n",
       "      <th>1986</th>\n",
       "      <td>Demography</td>\n",
       "      <td>121206</td>\n",
       "      <td>Young age (0-14) dependency ratio (per 100 peo...</td>\n",
       "      <td>MEX</td>\n",
       "      <td>Mexico</td>\n",
       "      <td>68.90</td>\n",
       "      <td>67.100</td>\n",
       "      <td>65.400</td>\n",
       "      <td>63.900</td>\n",
       "      <td>62.50</td>\n",
       "      <td>...</td>\n",
       "      <td>47.400</td>\n",
       "      <td>46.300</td>\n",
       "      <td>45.300</td>\n",
       "      <td>44.300</td>\n",
       "      <td>43.400</td>\n",
       "      <td>42.500</td>\n",
       "      <td>41.600</td>\n",
       "      <td>40.900</td>\n",
       "      <td>40.100</td>\n",
       "      <td>40.100</td>\n",
       "    </tr>\n",
       "    <tr>\n",
       "      <th>2174</th>\n",
       "      <td>Education</td>\n",
       "      <td>103706</td>\n",
       "      <td>Education index</td>\n",
       "      <td>MEX</td>\n",
       "      <td>Mexico</td>\n",
       "      <td>0.48</td>\n",
       "      <td>0.481</td>\n",
       "      <td>0.487</td>\n",
       "      <td>0.491</td>\n",
       "      <td>0.50</td>\n",
       "      <td>...</td>\n",
       "      <td>0.627</td>\n",
       "      <td>0.623</td>\n",
       "      <td>0.638</td>\n",
       "      <td>0.650</td>\n",
       "      <td>0.648</td>\n",
       "      <td>0.655</td>\n",
       "      <td>0.666</td>\n",
       "      <td>0.678</td>\n",
       "      <td>0.678</td>\n",
       "      <td>0.678</td>\n",
       "    </tr>\n",
       "    <tr>\n",
       "      <th>2364</th>\n",
       "      <td>Education</td>\n",
       "      <td>69706</td>\n",
       "      <td>Expected years of schooling (years)</td>\n",
       "      <td>MEX</td>\n",
       "      <td>Mexico</td>\n",
       "      <td>10.60</td>\n",
       "      <td>10.500</td>\n",
       "      <td>10.500</td>\n",
       "      <td>10.400</td>\n",
       "      <td>10.50</td>\n",
       "      <td>...</td>\n",
       "      <td>12.700</td>\n",
       "      <td>12.800</td>\n",
       "      <td>12.900</td>\n",
       "      <td>13.100</td>\n",
       "      <td>13.300</td>\n",
       "      <td>13.500</td>\n",
       "      <td>13.700</td>\n",
       "      <td>14.100</td>\n",
       "      <td>14.100</td>\n",
       "      <td>14.100</td>\n",
       "    </tr>\n",
       "    <tr>\n",
       "      <th>2554</th>\n",
       "      <td>Education</td>\n",
       "      <td>123306</td>\n",
       "      <td>Expected years of schooling, female (years)</td>\n",
       "      <td>MEX</td>\n",
       "      <td>Mexico</td>\n",
       "      <td>10.40</td>\n",
       "      <td>10.300</td>\n",
       "      <td>10.300</td>\n",
       "      <td>10.200</td>\n",
       "      <td>10.30</td>\n",
       "      <td>...</td>\n",
       "      <td>12.900</td>\n",
       "      <td>13.000</td>\n",
       "      <td>13.100</td>\n",
       "      <td>13.300</td>\n",
       "      <td>13.500</td>\n",
       "      <td>13.700</td>\n",
       "      <td>13.900</td>\n",
       "      <td>14.400</td>\n",
       "      <td>14.400</td>\n",
       "      <td>14.400</td>\n",
       "    </tr>\n",
       "    <tr>\n",
       "      <th>2743</th>\n",
       "      <td>Education</td>\n",
       "      <td>123406</td>\n",
       "      <td>Expected years of schooling, male (years)</td>\n",
       "      <td>MEX</td>\n",
       "      <td>Mexico</td>\n",
       "      <td>10.80</td>\n",
       "      <td>10.600</td>\n",
       "      <td>10.600</td>\n",
       "      <td>10.600</td>\n",
       "      <td>10.60</td>\n",
       "      <td>...</td>\n",
       "      <td>12.500</td>\n",
       "      <td>12.600</td>\n",
       "      <td>12.700</td>\n",
       "      <td>12.900</td>\n",
       "      <td>13.100</td>\n",
       "      <td>13.300</td>\n",
       "      <td>13.400</td>\n",
       "      <td>13.800</td>\n",
       "      <td>13.800</td>\n",
       "      <td>13.800</td>\n",
       "    </tr>\n",
       "    <tr>\n",
       "      <th>2927</th>\n",
       "      <td>Education</td>\n",
       "      <td>149206</td>\n",
       "      <td>Government expenditure on education (% of GDP)</td>\n",
       "      <td>MEX</td>\n",
       "      <td>Mexico</td>\n",
       "      <td>2.30</td>\n",
       "      <td>NaN</td>\n",
       "      <td>NaN</td>\n",
       "      <td>NaN</td>\n",
       "      <td>NaN</td>\n",
       "      <td>...</td>\n",
       "      <td>NaN</td>\n",
       "      <td>5.200</td>\n",
       "      <td>5.100</td>\n",
       "      <td>5.200</td>\n",
       "      <td>4.700</td>\n",
       "      <td>5.300</td>\n",
       "      <td>NaN</td>\n",
       "      <td>NaN</td>\n",
       "      <td>NaN</td>\n",
       "      <td>5.300</td>\n",
       "    </tr>\n",
       "    <tr>\n",
       "      <th>3110</th>\n",
       "      <td>Education</td>\n",
       "      <td>133006</td>\n",
       "      <td>Gross enrolment ratio, pre-primary (% of presc...</td>\n",
       "      <td>MEX</td>\n",
       "      <td>Mexico</td>\n",
       "      <td>60.00</td>\n",
       "      <td>NaN</td>\n",
       "      <td>NaN</td>\n",
       "      <td>NaN</td>\n",
       "      <td>NaN</td>\n",
       "      <td>...</td>\n",
       "      <td>99.000</td>\n",
       "      <td>100.000</td>\n",
       "      <td>101.000</td>\n",
       "      <td>103.000</td>\n",
       "      <td>70.000</td>\n",
       "      <td>70.000</td>\n",
       "      <td>71.000</td>\n",
       "      <td>71.000</td>\n",
       "      <td>NaN</td>\n",
       "      <td>71.000</td>\n",
       "    </tr>\n",
       "    <tr>\n",
       "      <th>3299</th>\n",
       "      <td>Education</td>\n",
       "      <td>63206</td>\n",
       "      <td>Gross enrolment ratio, primary (% of primary s...</td>\n",
       "      <td>MEX</td>\n",
       "      <td>Mexico</td>\n",
       "      <td>111.00</td>\n",
       "      <td>NaN</td>\n",
       "      <td>NaN</td>\n",
       "      <td>NaN</td>\n",
       "      <td>NaN</td>\n",
       "      <td>...</td>\n",
       "      <td>105.000</td>\n",
       "      <td>105.000</td>\n",
       "      <td>106.000</td>\n",
       "      <td>106.000</td>\n",
       "      <td>106.000</td>\n",
       "      <td>105.000</td>\n",
       "      <td>104.000</td>\n",
       "      <td>104.000</td>\n",
       "      <td>NaN</td>\n",
       "      <td>104.000</td>\n",
       "    </tr>\n",
       "    <tr>\n",
       "      <th>3490</th>\n",
       "      <td>Education</td>\n",
       "      <td>63306</td>\n",
       "      <td>Gross enrolment ratio, secondary (% of seconda...</td>\n",
       "      <td>MEX</td>\n",
       "      <td>Mexico</td>\n",
       "      <td>53.00</td>\n",
       "      <td>NaN</td>\n",
       "      <td>NaN</td>\n",
       "      <td>NaN</td>\n",
       "      <td>NaN</td>\n",
       "      <td>...</td>\n",
       "      <td>84.000</td>\n",
       "      <td>84.000</td>\n",
       "      <td>85.000</td>\n",
       "      <td>86.000</td>\n",
       "      <td>88.000</td>\n",
       "      <td>92.000</td>\n",
       "      <td>95.000</td>\n",
       "      <td>97.000</td>\n",
       "      <td>NaN</td>\n",
       "      <td>97.000</td>\n",
       "    </tr>\n",
       "    <tr>\n",
       "      <th>3680</th>\n",
       "      <td>Education</td>\n",
       "      <td>63406</td>\n",
       "      <td>Gross enrolment ratio, tertiary (% of tertiary...</td>\n",
       "      <td>MEX</td>\n",
       "      <td>Mexico</td>\n",
       "      <td>15.00</td>\n",
       "      <td>NaN</td>\n",
       "      <td>NaN</td>\n",
       "      <td>NaN</td>\n",
       "      <td>NaN</td>\n",
       "      <td>...</td>\n",
       "      <td>25.000</td>\n",
       "      <td>26.000</td>\n",
       "      <td>27.000</td>\n",
       "      <td>29.000</td>\n",
       "      <td>29.000</td>\n",
       "      <td>30.000</td>\n",
       "      <td>31.000</td>\n",
       "      <td>37.000</td>\n",
       "      <td>NaN</td>\n",
       "      <td>37.000</td>\n",
       "    </tr>\n",
       "    <tr>\n",
       "      <th>3838</th>\n",
       "      <td>Education</td>\n",
       "      <td>101406</td>\n",
       "      <td>Literacy rate, adult (% ages 15 and older)</td>\n",
       "      <td>MEX</td>\n",
       "      <td>Mexico</td>\n",
       "      <td>87.60</td>\n",
       "      <td>NaN</td>\n",
       "      <td>NaN</td>\n",
       "      <td>NaN</td>\n",
       "      <td>NaN</td>\n",
       "      <td>...</td>\n",
       "      <td>93.400</td>\n",
       "      <td>93.100</td>\n",
       "      <td>93.500</td>\n",
       "      <td>94.200</td>\n",
       "      <td>94.000</td>\n",
       "      <td>94.600</td>\n",
       "      <td>94.500</td>\n",
       "      <td>NaN</td>\n",
       "      <td>NaN</td>\n",
       "      <td>94.500</td>\n",
       "    </tr>\n",
       "    <tr>\n",
       "      <th>4008</th>\n",
       "      <td>Education</td>\n",
       "      <td>103006</td>\n",
       "      <td>Mean years of schooling (years)</td>\n",
       "      <td>MEX</td>\n",
       "      <td>Mexico</td>\n",
       "      <td>5.50</td>\n",
       "      <td>5.700</td>\n",
       "      <td>5.900</td>\n",
       "      <td>6.100</td>\n",
       "      <td>6.20</td>\n",
       "      <td>...</td>\n",
       "      <td>8.200</td>\n",
       "      <td>8.000</td>\n",
       "      <td>8.400</td>\n",
       "      <td>8.600</td>\n",
       "      <td>8.400</td>\n",
       "      <td>8.400</td>\n",
       "      <td>8.600</td>\n",
       "      <td>8.600</td>\n",
       "      <td>8.600</td>\n",
       "      <td>8.600</td>\n",
       "    </tr>\n",
       "    <tr>\n",
       "      <th>4190</th>\n",
       "      <td>Education</td>\n",
       "      <td>24106</td>\n",
       "      <td>Mean years of schooling, female (years)</td>\n",
       "      <td>MEX</td>\n",
       "      <td>Mexico</td>\n",
       "      <td>5.10</td>\n",
       "      <td>5.300</td>\n",
       "      <td>5.400</td>\n",
       "      <td>5.500</td>\n",
       "      <td>5.60</td>\n",
       "      <td>...</td>\n",
       "      <td>7.800</td>\n",
       "      <td>7.800</td>\n",
       "      <td>8.000</td>\n",
       "      <td>8.300</td>\n",
       "      <td>8.100</td>\n",
       "      <td>8.200</td>\n",
       "      <td>8.400</td>\n",
       "      <td>8.400</td>\n",
       "      <td>8.400</td>\n",
       "      <td>8.400</td>\n",
       "    </tr>\n",
       "    <tr>\n",
       "      <th>4363</th>\n",
       "      <td>Education</td>\n",
       "      <td>24206</td>\n",
       "      <td>Mean years of schooling, male (years)</td>\n",
       "      <td>MEX</td>\n",
       "      <td>Mexico</td>\n",
       "      <td>6.00</td>\n",
       "      <td>6.100</td>\n",
       "      <td>6.300</td>\n",
       "      <td>6.500</td>\n",
       "      <td>6.70</td>\n",
       "      <td>...</td>\n",
       "      <td>8.600</td>\n",
       "      <td>8.200</td>\n",
       "      <td>8.500</td>\n",
       "      <td>8.900</td>\n",
       "      <td>8.600</td>\n",
       "      <td>8.600</td>\n",
       "      <td>8.800</td>\n",
       "      <td>8.800</td>\n",
       "      <td>8.800</td>\n",
       "      <td>8.800</td>\n",
       "    </tr>\n",
       "    <tr>\n",
       "      <th>4532</th>\n",
       "      <td>Education</td>\n",
       "      <td>23806</td>\n",
       "      <td>Population with at least some secondary educat...</td>\n",
       "      <td>MEX</td>\n",
       "      <td>Mexico</td>\n",
       "      <td>30.60</td>\n",
       "      <td>NaN</td>\n",
       "      <td>NaN</td>\n",
       "      <td>NaN</td>\n",
       "      <td>NaN</td>\n",
       "      <td>...</td>\n",
       "      <td>NaN</td>\n",
       "      <td>52.800</td>\n",
       "      <td>55.400</td>\n",
       "      <td>58.000</td>\n",
       "      <td>56.500</td>\n",
       "      <td>57.400</td>\n",
       "      <td>57.400</td>\n",
       "      <td>59.300</td>\n",
       "      <td>59.300</td>\n",
       "      <td>59.300</td>\n",
       "    </tr>\n",
       "    <tr>\n",
       "      <th>4698</th>\n",
       "      <td>Education</td>\n",
       "      <td>23906</td>\n",
       "      <td>Population with at least some secondary educat...</td>\n",
       "      <td>MEX</td>\n",
       "      <td>Mexico</td>\n",
       "      <td>27.80</td>\n",
       "      <td>29.300</td>\n",
       "      <td>30.700</td>\n",
       "      <td>32.200</td>\n",
       "      <td>33.70</td>\n",
       "      <td>...</td>\n",
       "      <td>51.200</td>\n",
       "      <td>51.000</td>\n",
       "      <td>53.300</td>\n",
       "      <td>55.700</td>\n",
       "      <td>54.800</td>\n",
       "      <td>56.100</td>\n",
       "      <td>56.100</td>\n",
       "      <td>57.800</td>\n",
       "      <td>57.800</td>\n",
       "      <td>57.800</td>\n",
       "    </tr>\n",
       "    <tr>\n",
       "      <th>4863</th>\n",
       "      <td>Education</td>\n",
       "      <td>24006</td>\n",
       "      <td>Population with at least some secondary educat...</td>\n",
       "      <td>MEX</td>\n",
       "      <td>Mexico</td>\n",
       "      <td>33.90</td>\n",
       "      <td>35.500</td>\n",
       "      <td>37.000</td>\n",
       "      <td>38.500</td>\n",
       "      <td>40.10</td>\n",
       "      <td>...</td>\n",
       "      <td>57.000</td>\n",
       "      <td>54.800</td>\n",
       "      <td>57.700</td>\n",
       "      <td>60.600</td>\n",
       "      <td>58.500</td>\n",
       "      <td>59.000</td>\n",
       "      <td>59.000</td>\n",
       "      <td>61.000</td>\n",
       "      <td>61.000</td>\n",
       "      <td>61.000</td>\n",
       "    </tr>\n",
       "    <tr>\n",
       "      <th>5037</th>\n",
       "      <td>Education</td>\n",
       "      <td>46106</td>\n",
       "      <td>Primary school dropout rate (% of primary scho...</td>\n",
       "      <td>MEX</td>\n",
       "      <td>Mexico</td>\n",
       "      <td>28.40</td>\n",
       "      <td>NaN</td>\n",
       "      <td>NaN</td>\n",
       "      <td>NaN</td>\n",
       "      <td>NaN</td>\n",
       "      <td>...</td>\n",
       "      <td>5.800</td>\n",
       "      <td>5.000</td>\n",
       "      <td>4.200</td>\n",
       "      <td>5.400</td>\n",
       "      <td>4.300</td>\n",
       "      <td>4.300</td>\n",
       "      <td>7.800</td>\n",
       "      <td>NaN</td>\n",
       "      <td>NaN</td>\n",
       "      <td>7.800</td>\n",
       "    </tr>\n",
       "    <tr>\n",
       "      <th>5180</th>\n",
       "      <td>Education</td>\n",
       "      <td>45806</td>\n",
       "      <td>Primary school teachers trained to teach (%)</td>\n",
       "      <td>MEX</td>\n",
       "      <td>Mexico</td>\n",
       "      <td>NaN</td>\n",
       "      <td>NaN</td>\n",
       "      <td>NaN</td>\n",
       "      <td>NaN</td>\n",
       "      <td>NaN</td>\n",
       "      <td>...</td>\n",
       "      <td>96.000</td>\n",
       "      <td>96.000</td>\n",
       "      <td>96.000</td>\n",
       "      <td>96.000</td>\n",
       "      <td>96.000</td>\n",
       "      <td>97.000</td>\n",
       "      <td>96.000</td>\n",
       "      <td>97.000</td>\n",
       "      <td>NaN</td>\n",
       "      <td>97.000</td>\n",
       "    </tr>\n",
       "    <tr>\n",
       "      <th>5271</th>\n",
       "      <td>Education</td>\n",
       "      <td>177006</td>\n",
       "      <td>Programme for International Student Assessment...</td>\n",
       "      <td>MEX</td>\n",
       "      <td>Mexico</td>\n",
       "      <td>NaN</td>\n",
       "      <td>NaN</td>\n",
       "      <td>NaN</td>\n",
       "      <td>NaN</td>\n",
       "      <td>NaN</td>\n",
       "      <td>...</td>\n",
       "      <td>NaN</td>\n",
       "      <td>NaN</td>\n",
       "      <td>NaN</td>\n",
       "      <td>NaN</td>\n",
       "      <td>NaN</td>\n",
       "      <td>NaN</td>\n",
       "      <td>408.000</td>\n",
       "      <td>NaN</td>\n",
       "      <td>NaN</td>\n",
       "      <td>408.000</td>\n",
       "    </tr>\n",
       "    <tr>\n",
       "      <th>...</th>\n",
       "      <td>...</td>\n",
       "      <td>...</td>\n",
       "      <td>...</td>\n",
       "      <td>...</td>\n",
       "      <td>...</td>\n",
       "      <td>...</td>\n",
       "      <td>...</td>\n",
       "      <td>...</td>\n",
       "      <td>...</td>\n",
       "      <td>...</td>\n",
       "      <td>...</td>\n",
       "      <td>...</td>\n",
       "      <td>...</td>\n",
       "      <td>...</td>\n",
       "      <td>...</td>\n",
       "      <td>...</td>\n",
       "      <td>...</td>\n",
       "      <td>...</td>\n",
       "      <td>...</td>\n",
       "      <td>...</td>\n",
       "      <td>...</td>\n",
       "    </tr>\n",
       "    <tr>\n",
       "      <th>20786</th>\n",
       "      <td>Poverty</td>\n",
       "      <td>153706</td>\n",
       "      <td>Working poor at PPP$3.10 a day (% of total emp...</td>\n",
       "      <td>MEX</td>\n",
       "      <td>Mexico</td>\n",
       "      <td>NaN</td>\n",
       "      <td>21.300</td>\n",
       "      <td>NaN</td>\n",
       "      <td>NaN</td>\n",
       "      <td>NaN</td>\n",
       "      <td>...</td>\n",
       "      <td>10.900</td>\n",
       "      <td>10.400</td>\n",
       "      <td>9.300</td>\n",
       "      <td>8.300</td>\n",
       "      <td>9.800</td>\n",
       "      <td>11.900</td>\n",
       "      <td>11.500</td>\n",
       "      <td>11.100</td>\n",
       "      <td>11.300</td>\n",
       "      <td>11.300</td>\n",
       "    </tr>\n",
       "    <tr>\n",
       "      <th>20939</th>\n",
       "      <td>Socio-economic sustainability</td>\n",
       "      <td>164406</td>\n",
       "      <td>Adjusted net savings (% of GNI)</td>\n",
       "      <td>MEX</td>\n",
       "      <td>Mexico</td>\n",
       "      <td>8.30</td>\n",
       "      <td>NaN</td>\n",
       "      <td>NaN</td>\n",
       "      <td>NaN</td>\n",
       "      <td>NaN</td>\n",
       "      <td>...</td>\n",
       "      <td>NaN</td>\n",
       "      <td>12.500</td>\n",
       "      <td>10.500</td>\n",
       "      <td>10.800</td>\n",
       "      <td>8.500</td>\n",
       "      <td>10.200</td>\n",
       "      <td>11.900</td>\n",
       "      <td>12.500</td>\n",
       "      <td>NaN</td>\n",
       "      <td>12.500</td>\n",
       "    </tr>\n",
       "    <tr>\n",
       "      <th>21114</th>\n",
       "      <td>Socio-economic sustainability</td>\n",
       "      <td>170006</td>\n",
       "      <td>Concentration index (exports) (value)</td>\n",
       "      <td>MEX</td>\n",
       "      <td>Mexico</td>\n",
       "      <td>NaN</td>\n",
       "      <td>NaN</td>\n",
       "      <td>NaN</td>\n",
       "      <td>NaN</td>\n",
       "      <td>NaN</td>\n",
       "      <td>...</td>\n",
       "      <td>0.142</td>\n",
       "      <td>0.148</td>\n",
       "      <td>0.154</td>\n",
       "      <td>0.146</td>\n",
       "      <td>0.141</td>\n",
       "      <td>0.130</td>\n",
       "      <td>0.122</td>\n",
       "      <td>0.123</td>\n",
       "      <td>NaN</td>\n",
       "      <td>NaN</td>\n",
       "    </tr>\n",
       "    <tr>\n",
       "      <th>21299</th>\n",
       "      <td>Socio-economic sustainability</td>\n",
       "      <td>178306</td>\n",
       "      <td>Gross capital formation (% of GDP)</td>\n",
       "      <td>MEX</td>\n",
       "      <td>Mexico</td>\n",
       "      <td>23.10</td>\n",
       "      <td>NaN</td>\n",
       "      <td>NaN</td>\n",
       "      <td>NaN</td>\n",
       "      <td>NaN</td>\n",
       "      <td>...</td>\n",
       "      <td>NaN</td>\n",
       "      <td>22.800</td>\n",
       "      <td>23.300</td>\n",
       "      <td>23.900</td>\n",
       "      <td>22.500</td>\n",
       "      <td>21.900</td>\n",
       "      <td>23.300</td>\n",
       "      <td>23.700</td>\n",
       "      <td>23.100</td>\n",
       "      <td>23.100</td>\n",
       "    </tr>\n",
       "    <tr>\n",
       "      <th>21444</th>\n",
       "      <td>Socio-economic sustainability</td>\n",
       "      <td>170106</td>\n",
       "      <td>Income quintile ratio, average annual change (%)</td>\n",
       "      <td>MEX</td>\n",
       "      <td>Mexico</td>\n",
       "      <td>NaN</td>\n",
       "      <td>NaN</td>\n",
       "      <td>NaN</td>\n",
       "      <td>NaN</td>\n",
       "      <td>NaN</td>\n",
       "      <td>...</td>\n",
       "      <td>NaN</td>\n",
       "      <td>NaN</td>\n",
       "      <td>NaN</td>\n",
       "      <td>NaN</td>\n",
       "      <td>NaN</td>\n",
       "      <td>NaN</td>\n",
       "      <td>NaN</td>\n",
       "      <td>NaN</td>\n",
       "      <td>NaN</td>\n",
       "      <td>-2.600</td>\n",
       "    </tr>\n",
       "    <tr>\n",
       "      <th>21576</th>\n",
       "      <td>Socio-economic sustainability</td>\n",
       "      <td>183206</td>\n",
       "      <td>Overall loss in HDI value due to inequality, a...</td>\n",
       "      <td>MEX</td>\n",
       "      <td>Mexico</td>\n",
       "      <td>NaN</td>\n",
       "      <td>NaN</td>\n",
       "      <td>NaN</td>\n",
       "      <td>NaN</td>\n",
       "      <td>NaN</td>\n",
       "      <td>...</td>\n",
       "      <td>NaN</td>\n",
       "      <td>NaN</td>\n",
       "      <td>NaN</td>\n",
       "      <td>NaN</td>\n",
       "      <td>NaN</td>\n",
       "      <td>NaN</td>\n",
       "      <td>NaN</td>\n",
       "      <td>NaN</td>\n",
       "      <td>NaN</td>\n",
       "      <td>0.200</td>\n",
       "    </tr>\n",
       "    <tr>\n",
       "      <th>21739</th>\n",
       "      <td>Socio-economic sustainability</td>\n",
       "      <td>177106</td>\n",
       "      <td>Population using improved drinking-water sourc...</td>\n",
       "      <td>MEX</td>\n",
       "      <td>Mexico</td>\n",
       "      <td>NaN</td>\n",
       "      <td>NaN</td>\n",
       "      <td>NaN</td>\n",
       "      <td>NaN</td>\n",
       "      <td>NaN</td>\n",
       "      <td>...</td>\n",
       "      <td>NaN</td>\n",
       "      <td>95.500</td>\n",
       "      <td>NaN</td>\n",
       "      <td>NaN</td>\n",
       "      <td>NaN</td>\n",
       "      <td>NaN</td>\n",
       "      <td>98.300</td>\n",
       "      <td>NaN</td>\n",
       "      <td>NaN</td>\n",
       "      <td>98.300</td>\n",
       "    </tr>\n",
       "    <tr>\n",
       "      <th>21934</th>\n",
       "      <td>Socio-economic sustainability</td>\n",
       "      <td>177206</td>\n",
       "      <td>Population using improved sanitation facilitie...</td>\n",
       "      <td>MEX</td>\n",
       "      <td>Mexico</td>\n",
       "      <td>NaN</td>\n",
       "      <td>NaN</td>\n",
       "      <td>NaN</td>\n",
       "      <td>NaN</td>\n",
       "      <td>NaN</td>\n",
       "      <td>...</td>\n",
       "      <td>NaN</td>\n",
       "      <td>85.200</td>\n",
       "      <td>NaN</td>\n",
       "      <td>NaN</td>\n",
       "      <td>NaN</td>\n",
       "      <td>NaN</td>\n",
       "      <td>89.200</td>\n",
       "      <td>NaN</td>\n",
       "      <td>NaN</td>\n",
       "      <td>89.200</td>\n",
       "    </tr>\n",
       "    <tr>\n",
       "      <th>22107</th>\n",
       "      <td>Socio-economic sustainability</td>\n",
       "      <td>179706</td>\n",
       "      <td>Ratio of education and health expenditure to m...</td>\n",
       "      <td>MEX</td>\n",
       "      <td>Mexico</td>\n",
       "      <td>NaN</td>\n",
       "      <td>NaN</td>\n",
       "      <td>NaN</td>\n",
       "      <td>NaN</td>\n",
       "      <td>NaN</td>\n",
       "      <td>...</td>\n",
       "      <td>NaN</td>\n",
       "      <td>20.100</td>\n",
       "      <td>19.900</td>\n",
       "      <td>19.100</td>\n",
       "      <td>17.500</td>\n",
       "      <td>16.700</td>\n",
       "      <td>NaN</td>\n",
       "      <td>NaN</td>\n",
       "      <td>NaN</td>\n",
       "      <td>16.700</td>\n",
       "    </tr>\n",
       "    <tr>\n",
       "      <th>22230</th>\n",
       "      <td>Socio-economic sustainability</td>\n",
       "      <td>52306</td>\n",
       "      <td>Research and development expenditure (% of GDP)</td>\n",
       "      <td>MEX</td>\n",
       "      <td>Mexico</td>\n",
       "      <td>NaN</td>\n",
       "      <td>NaN</td>\n",
       "      <td>NaN</td>\n",
       "      <td>NaN</td>\n",
       "      <td>NaN</td>\n",
       "      <td>...</td>\n",
       "      <td>NaN</td>\n",
       "      <td>0.500</td>\n",
       "      <td>0.500</td>\n",
       "      <td>0.500</td>\n",
       "      <td>0.500</td>\n",
       "      <td>0.500</td>\n",
       "      <td>0.600</td>\n",
       "      <td>NaN</td>\n",
       "      <td>NaN</td>\n",
       "      <td>0.600</td>\n",
       "    </tr>\n",
       "    <tr>\n",
       "      <th>22399</th>\n",
       "      <td>Socio-economic sustainability</td>\n",
       "      <td>181706</td>\n",
       "      <td>Rural population with access to electricity (%)</td>\n",
       "      <td>MEX</td>\n",
       "      <td>Mexico</td>\n",
       "      <td>82.60</td>\n",
       "      <td>NaN</td>\n",
       "      <td>NaN</td>\n",
       "      <td>NaN</td>\n",
       "      <td>NaN</td>\n",
       "      <td>...</td>\n",
       "      <td>NaN</td>\n",
       "      <td>97.500</td>\n",
       "      <td>97.900</td>\n",
       "      <td>97.200</td>\n",
       "      <td>99.600</td>\n",
       "      <td>97.500</td>\n",
       "      <td>98.000</td>\n",
       "      <td>100.000</td>\n",
       "      <td>NaN</td>\n",
       "      <td>100.000</td>\n",
       "    </tr>\n",
       "    <tr>\n",
       "      <th>22561</th>\n",
       "      <td>Socio-economic sustainability</td>\n",
       "      <td>179406</td>\n",
       "      <td>Skilled labour force (% of labour force)</td>\n",
       "      <td>MEX</td>\n",
       "      <td>Mexico</td>\n",
       "      <td>NaN</td>\n",
       "      <td>NaN</td>\n",
       "      <td>NaN</td>\n",
       "      <td>NaN</td>\n",
       "      <td>NaN</td>\n",
       "      <td>...</td>\n",
       "      <td>NaN</td>\n",
       "      <td>34.600</td>\n",
       "      <td>35.600</td>\n",
       "      <td>36.300</td>\n",
       "      <td>37.200</td>\n",
       "      <td>37.400</td>\n",
       "      <td>37.800</td>\n",
       "      <td>38.800</td>\n",
       "      <td>40.000</td>\n",
       "      <td>40.000</td>\n",
       "    </tr>\n",
       "    <tr>\n",
       "      <th>22693</th>\n",
       "      <td>Socio-economic sustainability</td>\n",
       "      <td>174206</td>\n",
       "      <td>Total debt service (% of exports of goods, ser...</td>\n",
       "      <td>MEX</td>\n",
       "      <td>Mexico</td>\n",
       "      <td>21.80</td>\n",
       "      <td>NaN</td>\n",
       "      <td>NaN</td>\n",
       "      <td>NaN</td>\n",
       "      <td>NaN</td>\n",
       "      <td>...</td>\n",
       "      <td>NaN</td>\n",
       "      <td>10.100</td>\n",
       "      <td>11.200</td>\n",
       "      <td>17.700</td>\n",
       "      <td>10.200</td>\n",
       "      <td>11.500</td>\n",
       "      <td>13.200</td>\n",
       "      <td>19.400</td>\n",
       "      <td>NaN</td>\n",
       "      <td>19.400</td>\n",
       "    </tr>\n",
       "    <tr>\n",
       "      <th>22852</th>\n",
       "      <td>Trade and financial flows</td>\n",
       "      <td>133206</td>\n",
       "      <td>Exports and imports (% of GDP)</td>\n",
       "      <td>MEX</td>\n",
       "      <td>Mexico</td>\n",
       "      <td>38.30</td>\n",
       "      <td>35.600</td>\n",
       "      <td>35.500</td>\n",
       "      <td>27.800</td>\n",
       "      <td>30.70</td>\n",
       "      <td>...</td>\n",
       "      <td>56.000</td>\n",
       "      <td>60.800</td>\n",
       "      <td>63.500</td>\n",
       "      <td>65.800</td>\n",
       "      <td>63.800</td>\n",
       "      <td>65.000</td>\n",
       "      <td>71.200</td>\n",
       "      <td>76.200</td>\n",
       "      <td>77.600</td>\n",
       "      <td>77.600</td>\n",
       "    </tr>\n",
       "    <tr>\n",
       "      <th>23037</th>\n",
       "      <td>Trade and financial flows</td>\n",
       "      <td>53506</td>\n",
       "      <td>Foreign direct investment, net inflows (% of GDP)</td>\n",
       "      <td>MEX</td>\n",
       "      <td>Mexico</td>\n",
       "      <td>1.00</td>\n",
       "      <td>1.500</td>\n",
       "      <td>1.200</td>\n",
       "      <td>0.900</td>\n",
       "      <td>2.10</td>\n",
       "      <td>...</td>\n",
       "      <td>2.200</td>\n",
       "      <td>2.000</td>\n",
       "      <td>2.100</td>\n",
       "      <td>1.500</td>\n",
       "      <td>3.700</td>\n",
       "      <td>2.300</td>\n",
       "      <td>3.100</td>\n",
       "      <td>3.200</td>\n",
       "      <td>2.800</td>\n",
       "      <td>2.800</td>\n",
       "    </tr>\n",
       "    <tr>\n",
       "      <th>23207</th>\n",
       "      <td>Trade and financial flows</td>\n",
       "      <td>99106</td>\n",
       "      <td>Net official development assistance received (...</td>\n",
       "      <td>MEX</td>\n",
       "      <td>Mexico</td>\n",
       "      <td>0.10</td>\n",
       "      <td>0.100</td>\n",
       "      <td>0.100</td>\n",
       "      <td>0.100</td>\n",
       "      <td>0.10</td>\n",
       "      <td>...</td>\n",
       "      <td>0.000</td>\n",
       "      <td>0.000</td>\n",
       "      <td>0.100</td>\n",
       "      <td>0.000</td>\n",
       "      <td>0.000</td>\n",
       "      <td>0.100</td>\n",
       "      <td>0.000</td>\n",
       "      <td>0.100</td>\n",
       "      <td>NaN</td>\n",
       "      <td>0.100</td>\n",
       "    </tr>\n",
       "    <tr>\n",
       "      <th>23380</th>\n",
       "      <td>Trade and financial flows</td>\n",
       "      <td>111306</td>\n",
       "      <td>Private capital flows (% of GDP)</td>\n",
       "      <td>MEX</td>\n",
       "      <td>Mexico</td>\n",
       "      <td>0.50</td>\n",
       "      <td>-5.400</td>\n",
       "      <td>-6.500</td>\n",
       "      <td>-6.500</td>\n",
       "      <td>-3.50</td>\n",
       "      <td>...</td>\n",
       "      <td>1.700</td>\n",
       "      <td>-3.900</td>\n",
       "      <td>-4.900</td>\n",
       "      <td>-4.700</td>\n",
       "      <td>-6.000</td>\n",
       "      <td>-5.500</td>\n",
       "      <td>-4.200</td>\n",
       "      <td>-5.500</td>\n",
       "      <td>-2.900</td>\n",
       "      <td>-2.900</td>\n",
       "    </tr>\n",
       "    <tr>\n",
       "      <th>23560</th>\n",
       "      <td>Trade and financial flows</td>\n",
       "      <td>52606</td>\n",
       "      <td>Remittances, inflows (% of GDP)</td>\n",
       "      <td>MEX</td>\n",
       "      <td>Mexico</td>\n",
       "      <td>1.18</td>\n",
       "      <td>0.960</td>\n",
       "      <td>1.020</td>\n",
       "      <td>0.790</td>\n",
       "      <td>0.78</td>\n",
       "      <td>...</td>\n",
       "      <td>2.450</td>\n",
       "      <td>2.090</td>\n",
       "      <td>1.990</td>\n",
       "      <td>1.930</td>\n",
       "      <td>1.820</td>\n",
       "      <td>1.890</td>\n",
       "      <td>2.240</td>\n",
       "      <td>2.660</td>\n",
       "      <td>2.660</td>\n",
       "      <td>2.660</td>\n",
       "    </tr>\n",
       "    <tr>\n",
       "      <th>23682</th>\n",
       "      <td>Work, employment and vulnerability</td>\n",
       "      <td>181306</td>\n",
       "      <td>Child labour (% ages 5-17)</td>\n",
       "      <td>MEX</td>\n",
       "      <td>Mexico</td>\n",
       "      <td>NaN</td>\n",
       "      <td>NaN</td>\n",
       "      <td>NaN</td>\n",
       "      <td>NaN</td>\n",
       "      <td>NaN</td>\n",
       "      <td>...</td>\n",
       "      <td>NaN</td>\n",
       "      <td>NaN</td>\n",
       "      <td>NaN</td>\n",
       "      <td>NaN</td>\n",
       "      <td>NaN</td>\n",
       "      <td>NaN</td>\n",
       "      <td>NaN</td>\n",
       "      <td>NaN</td>\n",
       "      <td>NaN</td>\n",
       "      <td>4.900</td>\n",
       "    </tr>\n",
       "    <tr>\n",
       "      <th>23814</th>\n",
       "      <td>Work, employment and vulnerability</td>\n",
       "      <td>150606</td>\n",
       "      <td>Employment in agriculture (% of total employment)</td>\n",
       "      <td>MEX</td>\n",
       "      <td>Mexico</td>\n",
       "      <td>NaN</td>\n",
       "      <td>26.800</td>\n",
       "      <td>NaN</td>\n",
       "      <td>NaN</td>\n",
       "      <td>NaN</td>\n",
       "      <td>...</td>\n",
       "      <td>13.600</td>\n",
       "      <td>13.900</td>\n",
       "      <td>13.400</td>\n",
       "      <td>13.500</td>\n",
       "      <td>13.500</td>\n",
       "      <td>13.600</td>\n",
       "      <td>13.500</td>\n",
       "      <td>12.900</td>\n",
       "      <td>13.100</td>\n",
       "      <td>13.100</td>\n",
       "    </tr>\n",
       "    <tr>\n",
       "      <th>23994</th>\n",
       "      <td>Work, employment and vulnerability</td>\n",
       "      <td>150706</td>\n",
       "      <td>Employment in services (% of total employment)</td>\n",
       "      <td>MEX</td>\n",
       "      <td>Mexico</td>\n",
       "      <td>NaN</td>\n",
       "      <td>50.100</td>\n",
       "      <td>NaN</td>\n",
       "      <td>NaN</td>\n",
       "      <td>NaN</td>\n",
       "      <td>...</td>\n",
       "      <td>62.000</td>\n",
       "      <td>62.000</td>\n",
       "      <td>62.000</td>\n",
       "      <td>62.700</td>\n",
       "      <td>62.500</td>\n",
       "      <td>61.600</td>\n",
       "      <td>61.400</td>\n",
       "      <td>61.400</td>\n",
       "      <td>61.100</td>\n",
       "      <td>61.100</td>\n",
       "    </tr>\n",
       "    <tr>\n",
       "      <th>24174</th>\n",
       "      <td>Work, employment and vulnerability</td>\n",
       "      <td>148306</td>\n",
       "      <td>Employment to population ratio (% ages 15 and ...</td>\n",
       "      <td>MEX</td>\n",
       "      <td>Mexico</td>\n",
       "      <td>NaN</td>\n",
       "      <td>56.900</td>\n",
       "      <td>NaN</td>\n",
       "      <td>NaN</td>\n",
       "      <td>NaN</td>\n",
       "      <td>...</td>\n",
       "      <td>58.300</td>\n",
       "      <td>58.100</td>\n",
       "      <td>58.200</td>\n",
       "      <td>59.000</td>\n",
       "      <td>58.800</td>\n",
       "      <td>58.300</td>\n",
       "      <td>58.700</td>\n",
       "      <td>58.900</td>\n",
       "      <td>59.200</td>\n",
       "      <td>59.200</td>\n",
       "    </tr>\n",
       "    <tr>\n",
       "      <th>24354</th>\n",
       "      <td>Work, employment and vulnerability</td>\n",
       "      <td>148206</td>\n",
       "      <td>Labour force participation rate (% ages 15 and...</td>\n",
       "      <td>MEX</td>\n",
       "      <td>Mexico</td>\n",
       "      <td>58.50</td>\n",
       "      <td>NaN</td>\n",
       "      <td>NaN</td>\n",
       "      <td>NaN</td>\n",
       "      <td>NaN</td>\n",
       "      <td>...</td>\n",
       "      <td>61.600</td>\n",
       "      <td>61.400</td>\n",
       "      <td>61.400</td>\n",
       "      <td>62.100</td>\n",
       "      <td>61.900</td>\n",
       "      <td>61.300</td>\n",
       "      <td>61.400</td>\n",
       "      <td>61.300</td>\n",
       "      <td>61.300</td>\n",
       "      <td>61.300</td>\n",
       "    </tr>\n",
       "    <tr>\n",
       "      <th>24534</th>\n",
       "      <td>Work, employment and vulnerability</td>\n",
       "      <td>48706</td>\n",
       "      <td>Labour force participation rate (% ages 15 and...</td>\n",
       "      <td>MEX</td>\n",
       "      <td>Mexico</td>\n",
       "      <td>33.50</td>\n",
       "      <td>NaN</td>\n",
       "      <td>NaN</td>\n",
       "      <td>NaN</td>\n",
       "      <td>NaN</td>\n",
       "      <td>...</td>\n",
       "      <td>43.300</td>\n",
       "      <td>43.200</td>\n",
       "      <td>43.500</td>\n",
       "      <td>44.600</td>\n",
       "      <td>44.600</td>\n",
       "      <td>43.600</td>\n",
       "      <td>43.900</td>\n",
       "      <td>44.000</td>\n",
       "      <td>44.100</td>\n",
       "      <td>44.100</td>\n",
       "    </tr>\n",
       "    <tr>\n",
       "      <th>24714</th>\n",
       "      <td>Work, employment and vulnerability</td>\n",
       "      <td>48806</td>\n",
       "      <td>Labour force participation rate (% ages 15 and...</td>\n",
       "      <td>MEX</td>\n",
       "      <td>Mexico</td>\n",
       "      <td>84.40</td>\n",
       "      <td>NaN</td>\n",
       "      <td>NaN</td>\n",
       "      <td>NaN</td>\n",
       "      <td>NaN</td>\n",
       "      <td>...</td>\n",
       "      <td>80.400</td>\n",
       "      <td>80.100</td>\n",
       "      <td>79.800</td>\n",
       "      <td>80.100</td>\n",
       "      <td>79.700</td>\n",
       "      <td>79.500</td>\n",
       "      <td>79.300</td>\n",
       "      <td>79.100</td>\n",
       "      <td>79.000</td>\n",
       "      <td>79.000</td>\n",
       "    </tr>\n",
       "    <tr>\n",
       "      <th>24891</th>\n",
       "      <td>Work, employment and vulnerability</td>\n",
       "      <td>123806</td>\n",
       "      <td>Old-age pension recipients (% of statutory pen...</td>\n",
       "      <td>MEX</td>\n",
       "      <td>Mexico</td>\n",
       "      <td>NaN</td>\n",
       "      <td>NaN</td>\n",
       "      <td>NaN</td>\n",
       "      <td>NaN</td>\n",
       "      <td>NaN</td>\n",
       "      <td>...</td>\n",
       "      <td>NaN</td>\n",
       "      <td>NaN</td>\n",
       "      <td>NaN</td>\n",
       "      <td>NaN</td>\n",
       "      <td>NaN</td>\n",
       "      <td>NaN</td>\n",
       "      <td>NaN</td>\n",
       "      <td>NaN</td>\n",
       "      <td>NaN</td>\n",
       "      <td>25.200</td>\n",
       "    </tr>\n",
       "    <tr>\n",
       "      <th>25069</th>\n",
       "      <td>Work, employment and vulnerability</td>\n",
       "      <td>140606</td>\n",
       "      <td>Unemployment, total (% of labour force)</td>\n",
       "      <td>MEX</td>\n",
       "      <td>Mexico</td>\n",
       "      <td>NaN</td>\n",
       "      <td>3.100</td>\n",
       "      <td>NaN</td>\n",
       "      <td>NaN</td>\n",
       "      <td>NaN</td>\n",
       "      <td>...</td>\n",
       "      <td>5.400</td>\n",
       "      <td>5.300</td>\n",
       "      <td>5.200</td>\n",
       "      <td>4.900</td>\n",
       "      <td>4.900</td>\n",
       "      <td>4.800</td>\n",
       "      <td>4.300</td>\n",
       "      <td>3.900</td>\n",
       "      <td>3.500</td>\n",
       "      <td>3.500</td>\n",
       "    </tr>\n",
       "    <tr>\n",
       "      <th>25249</th>\n",
       "      <td>Work, employment and vulnerability</td>\n",
       "      <td>110906</td>\n",
       "      <td>Unemployment, youth (% ages 15–24)</td>\n",
       "      <td>MEX</td>\n",
       "      <td>Mexico</td>\n",
       "      <td>NaN</td>\n",
       "      <td>5.300</td>\n",
       "      <td>NaN</td>\n",
       "      <td>NaN</td>\n",
       "      <td>NaN</td>\n",
       "      <td>...</td>\n",
       "      <td>10.000</td>\n",
       "      <td>9.700</td>\n",
       "      <td>9.800</td>\n",
       "      <td>9.400</td>\n",
       "      <td>9.400</td>\n",
       "      <td>9.400</td>\n",
       "      <td>8.600</td>\n",
       "      <td>7.700</td>\n",
       "      <td>6.900</td>\n",
       "      <td>6.900</td>\n",
       "    </tr>\n",
       "    <tr>\n",
       "      <th>25429</th>\n",
       "      <td>Work, employment and vulnerability</td>\n",
       "      <td>43006</td>\n",
       "      <td>Vulnerable employment (% of total employment)</td>\n",
       "      <td>MEX</td>\n",
       "      <td>Mexico</td>\n",
       "      <td>NaN</td>\n",
       "      <td>36.800</td>\n",
       "      <td>NaN</td>\n",
       "      <td>NaN</td>\n",
       "      <td>NaN</td>\n",
       "      <td>...</td>\n",
       "      <td>29.800</td>\n",
       "      <td>28.800</td>\n",
       "      <td>28.800</td>\n",
       "      <td>28.400</td>\n",
       "      <td>28.400</td>\n",
       "      <td>28.000</td>\n",
       "      <td>27.700</td>\n",
       "      <td>27.100</td>\n",
       "      <td>27.200</td>\n",
       "      <td>27.200</td>\n",
       "    </tr>\n",
       "    <tr>\n",
       "      <th>25577</th>\n",
       "      <td>Work, employment and vulnerability</td>\n",
       "      <td>147906</td>\n",
       "      <td>Youth not in school or employment (% ages 15-24)</td>\n",
       "      <td>MEX</td>\n",
       "      <td>Mexico</td>\n",
       "      <td>NaN</td>\n",
       "      <td>NaN</td>\n",
       "      <td>NaN</td>\n",
       "      <td>NaN</td>\n",
       "      <td>NaN</td>\n",
       "      <td>...</td>\n",
       "      <td>22.100</td>\n",
       "      <td>22.200</td>\n",
       "      <td>21.800</td>\n",
       "      <td>21.100</td>\n",
       "      <td>20.500</td>\n",
       "      <td>20.300</td>\n",
       "      <td>19.800</td>\n",
       "      <td>19.600</td>\n",
       "      <td>18.700</td>\n",
       "      <td>18.700</td>\n",
       "    </tr>\n",
       "  </tbody>\n",
       "</table>\n",
       "<p>156 rows × 34 columns</p>\n",
       "</div>"
      ],
      "text/plain": [
       "                                dimension  indicator_id  \\\n",
       "111                     Composite indices        146206   \n",
       "300                     Composite indices        137506   \n",
       "486                            Demography         47906   \n",
       "671                            Demography        122006   \n",
       "856                            Demography         63106   \n",
       "1041                           Demography        132706   \n",
       "1226                           Demography        132806   \n",
       "1411                           Demography         49006   \n",
       "1600                           Demography         44206   \n",
       "1795                           Demography         45106   \n",
       "1986                           Demography        121206   \n",
       "2174                            Education        103706   \n",
       "2364                            Education         69706   \n",
       "2554                            Education        123306   \n",
       "2743                            Education        123406   \n",
       "2927                            Education        149206   \n",
       "3110                            Education        133006   \n",
       "3299                            Education         63206   \n",
       "3490                            Education         63306   \n",
       "3680                            Education         63406   \n",
       "3838                            Education        101406   \n",
       "4008                            Education        103006   \n",
       "4190                            Education         24106   \n",
       "4363                            Education         24206   \n",
       "4532                            Education         23806   \n",
       "4698                            Education         23906   \n",
       "4863                            Education         24006   \n",
       "5037                            Education         46106   \n",
       "5180                            Education         45806   \n",
       "5271                            Education        177006   \n",
       "...                                   ...           ...   \n",
       "20786                             Poverty        153706   \n",
       "20939       Socio-economic sustainability        164406   \n",
       "21114       Socio-economic sustainability        170006   \n",
       "21299       Socio-economic sustainability        178306   \n",
       "21444       Socio-economic sustainability        170106   \n",
       "21576       Socio-economic sustainability        183206   \n",
       "21739       Socio-economic sustainability        177106   \n",
       "21934       Socio-economic sustainability        177206   \n",
       "22107       Socio-economic sustainability        179706   \n",
       "22230       Socio-economic sustainability         52306   \n",
       "22399       Socio-economic sustainability        181706   \n",
       "22561       Socio-economic sustainability        179406   \n",
       "22693       Socio-economic sustainability        174206   \n",
       "22852           Trade and financial flows        133206   \n",
       "23037           Trade and financial flows         53506   \n",
       "23207           Trade and financial flows         99106   \n",
       "23380           Trade and financial flows        111306   \n",
       "23560           Trade and financial flows         52606   \n",
       "23682  Work, employment and vulnerability        181306   \n",
       "23814  Work, employment and vulnerability        150606   \n",
       "23994  Work, employment and vulnerability        150706   \n",
       "24174  Work, employment and vulnerability        148306   \n",
       "24354  Work, employment and vulnerability        148206   \n",
       "24534  Work, employment and vulnerability         48706   \n",
       "24714  Work, employment and vulnerability         48806   \n",
       "24891  Work, employment and vulnerability        123806   \n",
       "25069  Work, employment and vulnerability        140606   \n",
       "25249  Work, employment and vulnerability        110906   \n",
       "25429  Work, employment and vulnerability         43006   \n",
       "25577  Work, employment and vulnerability        147906   \n",
       "\n",
       "                                          indicator_name iso3 country_name  \\\n",
       "111                                             HDI rank  MEX       Mexico   \n",
       "300                        Human Development Index (HDI)  MEX       Mexico   \n",
       "486                                   Median age (years)  MEX       Mexico   \n",
       "671    Old-age (65 and older) dependency ratio (per 1...  MEX       Mexico   \n",
       "856                     Population ages 15–64 (millions)  MEX       Mexico   \n",
       "1041             Population ages 65 and older (millions)  MEX       Mexico   \n",
       "1226                   Population under age 5 (millions)  MEX       Mexico   \n",
       "1411          Sex ratio at birth (male to female births)  MEX       Mexico   \n",
       "1600                         Total population (millions)  MEX       Mexico   \n",
       "1795                                Urban population (%)  MEX       Mexico   \n",
       "1986   Young age (0-14) dependency ratio (per 100 peo...  MEX       Mexico   \n",
       "2174                                     Education index  MEX       Mexico   \n",
       "2364                 Expected years of schooling (years)  MEX       Mexico   \n",
       "2554         Expected years of schooling, female (years)  MEX       Mexico   \n",
       "2743           Expected years of schooling, male (years)  MEX       Mexico   \n",
       "2927      Government expenditure on education (% of GDP)  MEX       Mexico   \n",
       "3110   Gross enrolment ratio, pre-primary (% of presc...  MEX       Mexico   \n",
       "3299   Gross enrolment ratio, primary (% of primary s...  MEX       Mexico   \n",
       "3490   Gross enrolment ratio, secondary (% of seconda...  MEX       Mexico   \n",
       "3680   Gross enrolment ratio, tertiary (% of tertiary...  MEX       Mexico   \n",
       "3838          Literacy rate, adult (% ages 15 and older)  MEX       Mexico   \n",
       "4008                     Mean years of schooling (years)  MEX       Mexico   \n",
       "4190             Mean years of schooling, female (years)  MEX       Mexico   \n",
       "4363               Mean years of schooling, male (years)  MEX       Mexico   \n",
       "4532   Population with at least some secondary educat...  MEX       Mexico   \n",
       "4698   Population with at least some secondary educat...  MEX       Mexico   \n",
       "4863   Population with at least some secondary educat...  MEX       Mexico   \n",
       "5037   Primary school dropout rate (% of primary scho...  MEX       Mexico   \n",
       "5180        Primary school teachers trained to teach (%)  MEX       Mexico   \n",
       "5271   Programme for International Student Assessment...  MEX       Mexico   \n",
       "...                                                  ...  ...          ...   \n",
       "20786  Working poor at PPP$3.10 a day (% of total emp...  MEX       Mexico   \n",
       "20939                    Adjusted net savings (% of GNI)  MEX       Mexico   \n",
       "21114              Concentration index (exports) (value)  MEX       Mexico   \n",
       "21299                 Gross capital formation (% of GDP)  MEX       Mexico   \n",
       "21444   Income quintile ratio, average annual change (%)  MEX       Mexico   \n",
       "21576  Overall loss in HDI value due to inequality, a...  MEX       Mexico   \n",
       "21739  Population using improved drinking-water sourc...  MEX       Mexico   \n",
       "21934  Population using improved sanitation facilitie...  MEX       Mexico   \n",
       "22107  Ratio of education and health expenditure to m...  MEX       Mexico   \n",
       "22230    Research and development expenditure (% of GDP)  MEX       Mexico   \n",
       "22399    Rural population with access to electricity (%)  MEX       Mexico   \n",
       "22561           Skilled labour force (% of labour force)  MEX       Mexico   \n",
       "22693  Total debt service (% of exports of goods, ser...  MEX       Mexico   \n",
       "22852                     Exports and imports (% of GDP)  MEX       Mexico   \n",
       "23037  Foreign direct investment, net inflows (% of GDP)  MEX       Mexico   \n",
       "23207  Net official development assistance received (...  MEX       Mexico   \n",
       "23380                   Private capital flows (% of GDP)  MEX       Mexico   \n",
       "23560                    Remittances, inflows (% of GDP)  MEX       Mexico   \n",
       "23682                         Child labour (% ages 5-17)  MEX       Mexico   \n",
       "23814  Employment in agriculture (% of total employment)  MEX       Mexico   \n",
       "23994     Employment in services (% of total employment)  MEX       Mexico   \n",
       "24174  Employment to population ratio (% ages 15 and ...  MEX       Mexico   \n",
       "24354  Labour force participation rate (% ages 15 and...  MEX       Mexico   \n",
       "24534  Labour force participation rate (% ages 15 and...  MEX       Mexico   \n",
       "24714  Labour force participation rate (% ages 15 and...  MEX       Mexico   \n",
       "24891  Old-age pension recipients (% of statutory pen...  MEX       Mexico   \n",
       "25069            Unemployment, total (% of labour force)  MEX       Mexico   \n",
       "25249                 Unemployment, youth (% ages 15–24)  MEX       Mexico   \n",
       "25429      Vulnerable employment (% of total employment)  MEX       Mexico   \n",
       "25577   Youth not in school or employment (% ages 15-24)  MEX       Mexico   \n",
       "\n",
       "         1990    1991    1992    1993   1994  ...     2009     2010     2011  \\\n",
       "111       NaN     NaN     NaN     NaN    NaN  ...      NaN      NaN      NaN   \n",
       "300      0.65   0.654   0.658   0.663   0.67  ...    0.743    0.743    0.751   \n",
       "486     19.50     NaN     NaN     NaN    NaN  ...      NaN   25.900      NaN   \n",
       "671      7.50   7.600   7.600   7.700   7.80  ...    9.100    9.200    9.300   \n",
       "856     48.40  49.800  51.300  52.800  54.20  ...   73.800   75.400   77.000   \n",
       "1041     3.60   3.800   3.900   4.100   4.20  ...    6.700    6.900    7.100   \n",
       "1226    11.50  11.600  11.700  11.800  11.80  ...   11.500   11.400   11.400   \n",
       "1411     1.05     NaN     NaN     NaN    NaN  ...      NaN    1.050      NaN   \n",
       "1600    85.40  87.100  88.800  90.600  92.30  ...  115.500  117.300  119.100   \n",
       "1795    71.40  71.800  72.200  72.600  73.00  ...   77.500   77.800   78.100   \n",
       "1986    68.90  67.100  65.400  63.900  62.50  ...   47.400   46.300   45.300   \n",
       "2174     0.48   0.481   0.487   0.491   0.50  ...    0.627    0.623    0.638   \n",
       "2364    10.60  10.500  10.500  10.400  10.50  ...   12.700   12.800   12.900   \n",
       "2554    10.40  10.300  10.300  10.200  10.30  ...   12.900   13.000   13.100   \n",
       "2743    10.80  10.600  10.600  10.600  10.60  ...   12.500   12.600   12.700   \n",
       "2927     2.30     NaN     NaN     NaN    NaN  ...      NaN    5.200    5.100   \n",
       "3110    60.00     NaN     NaN     NaN    NaN  ...   99.000  100.000  101.000   \n",
       "3299   111.00     NaN     NaN     NaN    NaN  ...  105.000  105.000  106.000   \n",
       "3490    53.00     NaN     NaN     NaN    NaN  ...   84.000   84.000   85.000   \n",
       "3680    15.00     NaN     NaN     NaN    NaN  ...   25.000   26.000   27.000   \n",
       "3838    87.60     NaN     NaN     NaN    NaN  ...   93.400   93.100   93.500   \n",
       "4008     5.50   5.700   5.900   6.100   6.20  ...    8.200    8.000    8.400   \n",
       "4190     5.10   5.300   5.400   5.500   5.60  ...    7.800    7.800    8.000   \n",
       "4363     6.00   6.100   6.300   6.500   6.70  ...    8.600    8.200    8.500   \n",
       "4532    30.60     NaN     NaN     NaN    NaN  ...      NaN   52.800   55.400   \n",
       "4698    27.80  29.300  30.700  32.200  33.70  ...   51.200   51.000   53.300   \n",
       "4863    33.90  35.500  37.000  38.500  40.10  ...   57.000   54.800   57.700   \n",
       "5037    28.40     NaN     NaN     NaN    NaN  ...    5.800    5.000    4.200   \n",
       "5180      NaN     NaN     NaN     NaN    NaN  ...   96.000   96.000   96.000   \n",
       "5271      NaN     NaN     NaN     NaN    NaN  ...      NaN      NaN      NaN   \n",
       "...       ...     ...     ...     ...    ...  ...      ...      ...      ...   \n",
       "20786     NaN  21.300     NaN     NaN    NaN  ...   10.900   10.400    9.300   \n",
       "20939    8.30     NaN     NaN     NaN    NaN  ...      NaN   12.500   10.500   \n",
       "21114     NaN     NaN     NaN     NaN    NaN  ...    0.142    0.148    0.154   \n",
       "21299   23.10     NaN     NaN     NaN    NaN  ...      NaN   22.800   23.300   \n",
       "21444     NaN     NaN     NaN     NaN    NaN  ...      NaN      NaN      NaN   \n",
       "21576     NaN     NaN     NaN     NaN    NaN  ...      NaN      NaN      NaN   \n",
       "21739     NaN     NaN     NaN     NaN    NaN  ...      NaN   95.500      NaN   \n",
       "21934     NaN     NaN     NaN     NaN    NaN  ...      NaN   85.200      NaN   \n",
       "22107     NaN     NaN     NaN     NaN    NaN  ...      NaN   20.100   19.900   \n",
       "22230     NaN     NaN     NaN     NaN    NaN  ...      NaN    0.500    0.500   \n",
       "22399   82.60     NaN     NaN     NaN    NaN  ...      NaN   97.500   97.900   \n",
       "22561     NaN     NaN     NaN     NaN    NaN  ...      NaN   34.600   35.600   \n",
       "22693   21.80     NaN     NaN     NaN    NaN  ...      NaN   10.100   11.200   \n",
       "22852   38.30  35.600  35.500  27.800  30.70  ...   56.000   60.800   63.500   \n",
       "23037    1.00   1.500   1.200   0.900   2.10  ...    2.200    2.000    2.100   \n",
       "23207    0.10   0.100   0.100   0.100   0.10  ...    0.000    0.000    0.100   \n",
       "23380    0.50  -5.400  -6.500  -6.500  -3.50  ...    1.700   -3.900   -4.900   \n",
       "23560    1.18   0.960   1.020   0.790   0.78  ...    2.450    2.090    1.990   \n",
       "23682     NaN     NaN     NaN     NaN    NaN  ...      NaN      NaN      NaN   \n",
       "23814     NaN  26.800     NaN     NaN    NaN  ...   13.600   13.900   13.400   \n",
       "23994     NaN  50.100     NaN     NaN    NaN  ...   62.000   62.000   62.000   \n",
       "24174     NaN  56.900     NaN     NaN    NaN  ...   58.300   58.100   58.200   \n",
       "24354   58.50     NaN     NaN     NaN    NaN  ...   61.600   61.400   61.400   \n",
       "24534   33.50     NaN     NaN     NaN    NaN  ...   43.300   43.200   43.500   \n",
       "24714   84.40     NaN     NaN     NaN    NaN  ...   80.400   80.100   79.800   \n",
       "24891     NaN     NaN     NaN     NaN    NaN  ...      NaN      NaN      NaN   \n",
       "25069     NaN   3.100     NaN     NaN    NaN  ...    5.400    5.300    5.200   \n",
       "25249     NaN   5.300     NaN     NaN    NaN  ...   10.000    9.700    9.800   \n",
       "25429     NaN  36.800     NaN     NaN    NaN  ...   29.800   28.800   28.800   \n",
       "25577     NaN     NaN     NaN     NaN    NaN  ...   22.100   22.200   21.800   \n",
       "\n",
       "          2012     2013     2014     2015     2016     2017     9999  \n",
       "111        NaN      NaN      NaN      NaN   74.000   74.000      NaN  \n",
       "300      0.757    0.756    0.761    0.767    0.772    0.774    0.774  \n",
       "486        NaN      NaN      NaN   27.500      NaN      NaN   27.500  \n",
       "671      9.400    9.500    9.600    9.800   10.000   10.300   10.300  \n",
       "856     78.600   80.200   81.700   83.100   84.500   85.900   85.900  \n",
       "1041     7.400    7.600    7.900    8.200    8.500    8.900    8.900  \n",
       "1226    11.500   11.500   11.500   11.500   11.600   11.500   11.500  \n",
       "1411       NaN      NaN      NaN    1.050    1.050    1.050    1.050  \n",
       "1600   120.800  122.500  124.200  125.900  127.500  129.200  129.200  \n",
       "1795    78.400   78.700   79.000   79.300   79.600   79.900   79.900  \n",
       "1986    44.300   43.400   42.500   41.600   40.900   40.100   40.100  \n",
       "2174     0.650    0.648    0.655    0.666    0.678    0.678    0.678  \n",
       "2364    13.100   13.300   13.500   13.700   14.100   14.100   14.100  \n",
       "2554    13.300   13.500   13.700   13.900   14.400   14.400   14.400  \n",
       "2743    12.900   13.100   13.300   13.400   13.800   13.800   13.800  \n",
       "2927     5.200    4.700    5.300      NaN      NaN      NaN    5.300  \n",
       "3110   103.000   70.000   70.000   71.000   71.000      NaN   71.000  \n",
       "3299   106.000  106.000  105.000  104.000  104.000      NaN  104.000  \n",
       "3490    86.000   88.000   92.000   95.000   97.000      NaN   97.000  \n",
       "3680    29.000   29.000   30.000   31.000   37.000      NaN   37.000  \n",
       "3838    94.200   94.000   94.600   94.500      NaN      NaN   94.500  \n",
       "4008     8.600    8.400    8.400    8.600    8.600    8.600    8.600  \n",
       "4190     8.300    8.100    8.200    8.400    8.400    8.400    8.400  \n",
       "4363     8.900    8.600    8.600    8.800    8.800    8.800    8.800  \n",
       "4532    58.000   56.500   57.400   57.400   59.300   59.300   59.300  \n",
       "4698    55.700   54.800   56.100   56.100   57.800   57.800   57.800  \n",
       "4863    60.600   58.500   59.000   59.000   61.000   61.000   61.000  \n",
       "5037     5.400    4.300    4.300    7.800      NaN      NaN    7.800  \n",
       "5180    96.000   96.000   97.000   96.000   97.000      NaN   97.000  \n",
       "5271       NaN      NaN      NaN  408.000      NaN      NaN  408.000  \n",
       "...        ...      ...      ...      ...      ...      ...      ...  \n",
       "20786    8.300    9.800   11.900   11.500   11.100   11.300   11.300  \n",
       "20939   10.800    8.500   10.200   11.900   12.500      NaN   12.500  \n",
       "21114    0.146    0.141    0.130    0.122    0.123      NaN      NaN  \n",
       "21299   23.900   22.500   21.900   23.300   23.700   23.100   23.100  \n",
       "21444      NaN      NaN      NaN      NaN      NaN      NaN   -2.600  \n",
       "21576      NaN      NaN      NaN      NaN      NaN      NaN    0.200  \n",
       "21739      NaN      NaN      NaN   98.300      NaN      NaN   98.300  \n",
       "21934      NaN      NaN      NaN   89.200      NaN      NaN   89.200  \n",
       "22107   19.100   17.500   16.700      NaN      NaN      NaN   16.700  \n",
       "22230    0.500    0.500    0.500    0.600      NaN      NaN    0.600  \n",
       "22399   97.200   99.600   97.500   98.000  100.000      NaN  100.000  \n",
       "22561   36.300   37.200   37.400   37.800   38.800   40.000   40.000  \n",
       "22693   17.700   10.200   11.500   13.200   19.400      NaN   19.400  \n",
       "22852   65.800   63.800   65.000   71.200   76.200   77.600   77.600  \n",
       "23037    1.500    3.700    2.300    3.100    3.200    2.800    2.800  \n",
       "23207    0.000    0.000    0.100    0.000    0.100      NaN    0.100  \n",
       "23380   -4.700   -6.000   -5.500   -4.200   -5.500   -2.900   -2.900  \n",
       "23560    1.930    1.820    1.890    2.240    2.660    2.660    2.660  \n",
       "23682      NaN      NaN      NaN      NaN      NaN      NaN    4.900  \n",
       "23814   13.500   13.500   13.600   13.500   12.900   13.100   13.100  \n",
       "23994   62.700   62.500   61.600   61.400   61.400   61.100   61.100  \n",
       "24174   59.000   58.800   58.300   58.700   58.900   59.200   59.200  \n",
       "24354   62.100   61.900   61.300   61.400   61.300   61.300   61.300  \n",
       "24534   44.600   44.600   43.600   43.900   44.000   44.100   44.100  \n",
       "24714   80.100   79.700   79.500   79.300   79.100   79.000   79.000  \n",
       "24891      NaN      NaN      NaN      NaN      NaN      NaN   25.200  \n",
       "25069    4.900    4.900    4.800    4.300    3.900    3.500    3.500  \n",
       "25249    9.400    9.400    9.400    8.600    7.700    6.900    6.900  \n",
       "25429   28.400   28.400   28.000   27.700   27.100   27.200   27.200  \n",
       "25577   21.100   20.500   20.300   19.800   19.600   18.700   18.700  \n",
       "\n",
       "[156 rows x 34 columns]"
      ]
     },
     "execution_count": 222,
     "metadata": {},
     "output_type": "execute_result"
    }
   ],
   "source": [
    "df.loc[df['iso3']=='MEX']"
   ]
  },
  {
   "cell_type": "code",
   "execution_count": 223,
   "metadata": {},
   "outputs": [],
   "source": [
    "mex=df.loc[df['iso3']=='MEX'][['indicator_name']+list(range(1990,2018))]"
   ]
  },
  {
   "cell_type": "code",
   "execution_count": 224,
   "metadata": {},
   "outputs": [
    {
     "data": {
      "text/html": [
       "<div>\n",
       "<style scoped>\n",
       "    .dataframe tbody tr th:only-of-type {\n",
       "        vertical-align: middle;\n",
       "    }\n",
       "\n",
       "    .dataframe tbody tr th {\n",
       "        vertical-align: top;\n",
       "    }\n",
       "\n",
       "    .dataframe thead th {\n",
       "        text-align: right;\n",
       "    }\n",
       "</style>\n",
       "<table border=\"1\" class=\"dataframe\">\n",
       "  <thead>\n",
       "    <tr style=\"text-align: right;\">\n",
       "      <th></th>\n",
       "      <th>300</th>\n",
       "      <th>671</th>\n",
       "      <th>856</th>\n",
       "      <th>1041</th>\n",
       "      <th>1226</th>\n",
       "      <th>1600</th>\n",
       "      <th>1795</th>\n",
       "      <th>1986</th>\n",
       "      <th>2174</th>\n",
       "      <th>2364</th>\n",
       "      <th>...</th>\n",
       "      <th>12247</th>\n",
       "      <th>12435</th>\n",
       "      <th>12620</th>\n",
       "      <th>12809</th>\n",
       "      <th>16084</th>\n",
       "      <th>16275</th>\n",
       "      <th>22852</th>\n",
       "      <th>23037</th>\n",
       "      <th>23380</th>\n",
       "      <th>23560</th>\n",
       "    </tr>\n",
       "  </thead>\n",
       "  <tbody>\n",
       "    <tr>\n",
       "      <th>indicator_name</th>\n",
       "      <td>Human Development Index (HDI)</td>\n",
       "      <td>Old-age (65 and older) dependency ratio (per 1...</td>\n",
       "      <td>Population ages 15–64 (millions)</td>\n",
       "      <td>Population ages 65 and older (millions)</td>\n",
       "      <td>Population under age 5 (millions)</td>\n",
       "      <td>Total population (millions)</td>\n",
       "      <td>Urban population (%)</td>\n",
       "      <td>Young age (0-14) dependency ratio (per 100 peo...</td>\n",
       "      <td>Education index</td>\n",
       "      <td>Expected years of schooling (years)</td>\n",
       "      <td>...</td>\n",
       "      <td>Life expectancy at birth (years)</td>\n",
       "      <td>Life expectancy at birth, female (years)</td>\n",
       "      <td>Life expectancy at birth, male (years)</td>\n",
       "      <td>Life expectancy index</td>\n",
       "      <td>Gross national income (GNI) per capita (2011 P...</td>\n",
       "      <td>Income index</td>\n",
       "      <td>Exports and imports (% of GDP)</td>\n",
       "      <td>Foreign direct investment, net inflows (% of GDP)</td>\n",
       "      <td>Private capital flows (% of GDP)</td>\n",
       "      <td>Remittances, inflows (% of GDP)</td>\n",
       "    </tr>\n",
       "    <tr>\n",
       "      <th>1990</th>\n",
       "      <td>0.65</td>\n",
       "      <td>7.5</td>\n",
       "      <td>48.4</td>\n",
       "      <td>3.6</td>\n",
       "      <td>11.5</td>\n",
       "      <td>85.4</td>\n",
       "      <td>71.4</td>\n",
       "      <td>68.9</td>\n",
       "      <td>0.48</td>\n",
       "      <td>10.6</td>\n",
       "      <td>...</td>\n",
       "      <td>70.8</td>\n",
       "      <td>73.8</td>\n",
       "      <td>67.9</td>\n",
       "      <td>0.782</td>\n",
       "      <td>12690</td>\n",
       "      <td>0.732</td>\n",
       "      <td>38.3</td>\n",
       "      <td>1</td>\n",
       "      <td>0.5</td>\n",
       "      <td>1.18</td>\n",
       "    </tr>\n",
       "    <tr>\n",
       "      <th>1991</th>\n",
       "      <td>0.654</td>\n",
       "      <td>7.6</td>\n",
       "      <td>49.8</td>\n",
       "      <td>3.8</td>\n",
       "      <td>11.6</td>\n",
       "      <td>87.1</td>\n",
       "      <td>71.8</td>\n",
       "      <td>67.1</td>\n",
       "      <td>0.481</td>\n",
       "      <td>10.5</td>\n",
       "      <td>...</td>\n",
       "      <td>71.2</td>\n",
       "      <td>74.2</td>\n",
       "      <td>68.4</td>\n",
       "      <td>0.788</td>\n",
       "      <td>13030</td>\n",
       "      <td>0.736</td>\n",
       "      <td>35.6</td>\n",
       "      <td>1.5</td>\n",
       "      <td>-5.4</td>\n",
       "      <td>0.96</td>\n",
       "    </tr>\n",
       "    <tr>\n",
       "      <th>1992</th>\n",
       "      <td>0.658</td>\n",
       "      <td>7.6</td>\n",
       "      <td>51.3</td>\n",
       "      <td>3.9</td>\n",
       "      <td>11.7</td>\n",
       "      <td>88.8</td>\n",
       "      <td>72.2</td>\n",
       "      <td>65.4</td>\n",
       "      <td>0.487</td>\n",
       "      <td>10.5</td>\n",
       "      <td>...</td>\n",
       "      <td>71.6</td>\n",
       "      <td>74.5</td>\n",
       "      <td>68.8</td>\n",
       "      <td>0.794</td>\n",
       "      <td>13245</td>\n",
       "      <td>0.738</td>\n",
       "      <td>35.5</td>\n",
       "      <td>1.2</td>\n",
       "      <td>-6.5</td>\n",
       "      <td>1.02</td>\n",
       "    </tr>\n",
       "    <tr>\n",
       "      <th>1993</th>\n",
       "      <td>0.663</td>\n",
       "      <td>7.7</td>\n",
       "      <td>52.8</td>\n",
       "      <td>4.1</td>\n",
       "      <td>11.8</td>\n",
       "      <td>90.6</td>\n",
       "      <td>72.6</td>\n",
       "      <td>63.9</td>\n",
       "      <td>0.491</td>\n",
       "      <td>10.4</td>\n",
       "      <td>...</td>\n",
       "      <td>72</td>\n",
       "      <td>74.8</td>\n",
       "      <td>69.3</td>\n",
       "      <td>0.8</td>\n",
       "      <td>13622</td>\n",
       "      <td>0.742</td>\n",
       "      <td>27.8</td>\n",
       "      <td>0.9</td>\n",
       "      <td>-6.5</td>\n",
       "      <td>0.79</td>\n",
       "    </tr>\n",
       "    <tr>\n",
       "      <th>1994</th>\n",
       "      <td>0.67</td>\n",
       "      <td>7.8</td>\n",
       "      <td>54.2</td>\n",
       "      <td>4.2</td>\n",
       "      <td>11.8</td>\n",
       "      <td>92.3</td>\n",
       "      <td>73</td>\n",
       "      <td>62.5</td>\n",
       "      <td>0.5</td>\n",
       "      <td>10.5</td>\n",
       "      <td>...</td>\n",
       "      <td>72.4</td>\n",
       "      <td>75.1</td>\n",
       "      <td>69.8</td>\n",
       "      <td>0.806</td>\n",
       "      <td>13896</td>\n",
       "      <td>0.745</td>\n",
       "      <td>30.7</td>\n",
       "      <td>2.1</td>\n",
       "      <td>-3.5</td>\n",
       "      <td>0.78</td>\n",
       "    </tr>\n",
       "    <tr>\n",
       "      <th>1995</th>\n",
       "      <td>0.669</td>\n",
       "      <td>7.8</td>\n",
       "      <td>55.6</td>\n",
       "      <td>4.4</td>\n",
       "      <td>11.8</td>\n",
       "      <td>94</td>\n",
       "      <td>73.4</td>\n",
       "      <td>61.2</td>\n",
       "      <td>0.51</td>\n",
       "      <td>10.7</td>\n",
       "      <td>...</td>\n",
       "      <td>72.8</td>\n",
       "      <td>75.4</td>\n",
       "      <td>70.2</td>\n",
       "      <td>0.812</td>\n",
       "      <td>12047</td>\n",
       "      <td>0.724</td>\n",
       "      <td>46.3</td>\n",
       "      <td>2.6</td>\n",
       "      <td>0.2</td>\n",
       "      <td>1.21</td>\n",
       "    </tr>\n",
       "    <tr>\n",
       "      <th>1996</th>\n",
       "      <td>0.677</td>\n",
       "      <td>7.9</td>\n",
       "      <td>56.9</td>\n",
       "      <td>4.5</td>\n",
       "      <td>11.9</td>\n",
       "      <td>95.7</td>\n",
       "      <td>73.7</td>\n",
       "      <td>60.1</td>\n",
       "      <td>0.517</td>\n",
       "      <td>10.8</td>\n",
       "      <td>...</td>\n",
       "      <td>73.2</td>\n",
       "      <td>75.7</td>\n",
       "      <td>70.7</td>\n",
       "      <td>0.818</td>\n",
       "      <td>12864</td>\n",
       "      <td>0.734</td>\n",
       "      <td>50.4</td>\n",
       "      <td>2.2</td>\n",
       "      <td>-5.6</td>\n",
       "      <td>1.2</td>\n",
       "    </tr>\n",
       "    <tr>\n",
       "      <th>1997</th>\n",
       "      <td>0.683</td>\n",
       "      <td>8</td>\n",
       "      <td>58.2</td>\n",
       "      <td>4.7</td>\n",
       "      <td>11.9</td>\n",
       "      <td>97.3</td>\n",
       "      <td>73.9</td>\n",
       "      <td>59.1</td>\n",
       "      <td>0.523</td>\n",
       "      <td>11</td>\n",
       "      <td>...</td>\n",
       "      <td>73.5</td>\n",
       "      <td>76</td>\n",
       "      <td>71</td>\n",
       "      <td>0.823</td>\n",
       "      <td>13539</td>\n",
       "      <td>0.741</td>\n",
       "      <td>48.8</td>\n",
       "      <td>2.6</td>\n",
       "      <td>-3.4</td>\n",
       "      <td>1.11</td>\n",
       "    </tr>\n",
       "    <tr>\n",
       "      <th>1998</th>\n",
       "      <td>0.69</td>\n",
       "      <td>8.1</td>\n",
       "      <td>59.4</td>\n",
       "      <td>4.8</td>\n",
       "      <td>12</td>\n",
       "      <td>98.8</td>\n",
       "      <td>74.2</td>\n",
       "      <td>58.2</td>\n",
       "      <td>0.532</td>\n",
       "      <td>11.3</td>\n",
       "      <td>...</td>\n",
       "      <td>73.8</td>\n",
       "      <td>76.2</td>\n",
       "      <td>71.4</td>\n",
       "      <td>0.828</td>\n",
       "      <td>13922</td>\n",
       "      <td>0.746</td>\n",
       "      <td>51</td>\n",
       "      <td>2.4</td>\n",
       "      <td>-2.6</td>\n",
       "      <td>1.23</td>\n",
       "    </tr>\n",
       "    <tr>\n",
       "      <th>1999</th>\n",
       "      <td>0.695</td>\n",
       "      <td>8.2</td>\n",
       "      <td>60.6</td>\n",
       "      <td>5</td>\n",
       "      <td>12</td>\n",
       "      <td>100.3</td>\n",
       "      <td>74.4</td>\n",
       "      <td>57.3</td>\n",
       "      <td>0.538</td>\n",
       "      <td>11.4</td>\n",
       "      <td>...</td>\n",
       "      <td>74.1</td>\n",
       "      <td>76.5</td>\n",
       "      <td>71.7</td>\n",
       "      <td>0.832</td>\n",
       "      <td>14315</td>\n",
       "      <td>0.75</td>\n",
       "      <td>50.6</td>\n",
       "      <td>2.3</td>\n",
       "      <td>-4.1</td>\n",
       "      <td>1.11</td>\n",
       "    </tr>\n",
       "    <tr>\n",
       "      <th>2000</th>\n",
       "      <td>0.702</td>\n",
       "      <td>8.3</td>\n",
       "      <td>61.7</td>\n",
       "      <td>5.1</td>\n",
       "      <td>12</td>\n",
       "      <td>101.7</td>\n",
       "      <td>74.7</td>\n",
       "      <td>56.4</td>\n",
       "      <td>0.548</td>\n",
       "      <td>11.7</td>\n",
       "      <td>...</td>\n",
       "      <td>74.4</td>\n",
       "      <td>76.8</td>\n",
       "      <td>71.9</td>\n",
       "      <td>0.836</td>\n",
       "      <td>14814</td>\n",
       "      <td>0.755</td>\n",
       "      <td>52.4</td>\n",
       "      <td>2.6</td>\n",
       "      <td>-2.8</td>\n",
       "      <td>1.06</td>\n",
       "    </tr>\n",
       "    <tr>\n",
       "      <th>2001</th>\n",
       "      <td>0.704</td>\n",
       "      <td>8.4</td>\n",
       "      <td>62.9</td>\n",
       "      <td>5.3</td>\n",
       "      <td>12</td>\n",
       "      <td>103.1</td>\n",
       "      <td>75</td>\n",
       "      <td>55.5</td>\n",
       "      <td>0.554</td>\n",
       "      <td>11.8</td>\n",
       "      <td>...</td>\n",
       "      <td>74.6</td>\n",
       "      <td>77</td>\n",
       "      <td>72.2</td>\n",
       "      <td>0.84</td>\n",
       "      <td>14486</td>\n",
       "      <td>0.752</td>\n",
       "      <td>47.2</td>\n",
       "      <td>4</td>\n",
       "      <td>-4.1</td>\n",
       "      <td>1.34</td>\n",
       "    </tr>\n",
       "    <tr>\n",
       "      <th>2002</th>\n",
       "      <td>0.71</td>\n",
       "      <td>8.4</td>\n",
       "      <td>64</td>\n",
       "      <td>5.4</td>\n",
       "      <td>12</td>\n",
       "      <td>104.4</td>\n",
       "      <td>75.4</td>\n",
       "      <td>54.6</td>\n",
       "      <td>0.566</td>\n",
       "      <td>12</td>\n",
       "      <td>...</td>\n",
       "      <td>74.8</td>\n",
       "      <td>77.2</td>\n",
       "      <td>72.4</td>\n",
       "      <td>0.843</td>\n",
       "      <td>14371</td>\n",
       "      <td>0.75</td>\n",
       "      <td>46.7</td>\n",
       "      <td>3.1</td>\n",
       "      <td>-3</td>\n",
       "      <td>1.43</td>\n",
       "    </tr>\n",
       "    <tr>\n",
       "      <th>2003</th>\n",
       "      <td>0.717</td>\n",
       "      <td>8.5</td>\n",
       "      <td>65.2</td>\n",
       "      <td>5.5</td>\n",
       "      <td>11.9</td>\n",
       "      <td>105.6</td>\n",
       "      <td>75.7</td>\n",
       "      <td>53.6</td>\n",
       "      <td>0.579</td>\n",
       "      <td>12.3</td>\n",
       "      <td>...</td>\n",
       "      <td>75</td>\n",
       "      <td>77.4</td>\n",
       "      <td>72.6</td>\n",
       "      <td>0.846</td>\n",
       "      <td>14667</td>\n",
       "      <td>0.753</td>\n",
       "      <td>50.2</td>\n",
       "      <td>2.5</td>\n",
       "      <td>-2.9</td>\n",
       "      <td>2.28</td>\n",
       "    </tr>\n",
       "    <tr>\n",
       "      <th>2004</th>\n",
       "      <td>0.724</td>\n",
       "      <td>8.5</td>\n",
       "      <td>66.4</td>\n",
       "      <td>5.7</td>\n",
       "      <td>11.8</td>\n",
       "      <td>107</td>\n",
       "      <td>76</td>\n",
       "      <td>52.7</td>\n",
       "      <td>0.588</td>\n",
       "      <td>12.3</td>\n",
       "      <td>...</td>\n",
       "      <td>75.2</td>\n",
       "      <td>77.6</td>\n",
       "      <td>72.7</td>\n",
       "      <td>0.849</td>\n",
       "      <td>15187</td>\n",
       "      <td>0.759</td>\n",
       "      <td>58.4</td>\n",
       "      <td>3.2</td>\n",
       "      <td>-3</td>\n",
       "      <td>2.54</td>\n",
       "    </tr>\n",
       "    <tr>\n",
       "      <th>2005</th>\n",
       "      <td>0.727</td>\n",
       "      <td>8.6</td>\n",
       "      <td>67.6</td>\n",
       "      <td>5.8</td>\n",
       "      <td>11.7</td>\n",
       "      <td>108.5</td>\n",
       "      <td>76.3</td>\n",
       "      <td>51.8</td>\n",
       "      <td>0.595</td>\n",
       "      <td>12.3</td>\n",
       "      <td>...</td>\n",
       "      <td>75.3</td>\n",
       "      <td>77.8</td>\n",
       "      <td>72.9</td>\n",
       "      <td>0.851</td>\n",
       "      <td>15291</td>\n",
       "      <td>0.76</td>\n",
       "      <td>62.4</td>\n",
       "      <td>3</td>\n",
       "      <td>-0.7</td>\n",
       "      <td>2.59</td>\n",
       "    </tr>\n",
       "    <tr>\n",
       "      <th>2006</th>\n",
       "      <td>0.736</td>\n",
       "      <td>8.7</td>\n",
       "      <td>69.1</td>\n",
       "      <td>6</td>\n",
       "      <td>11.6</td>\n",
       "      <td>110.1</td>\n",
       "      <td>76.6</td>\n",
       "      <td>50.7</td>\n",
       "      <td>0.61</td>\n",
       "      <td>12.4</td>\n",
       "      <td>...</td>\n",
       "      <td>75.5</td>\n",
       "      <td>77.9</td>\n",
       "      <td>73.1</td>\n",
       "      <td>0.854</td>\n",
       "      <td>15731</td>\n",
       "      <td>0.764</td>\n",
       "      <td>56.1</td>\n",
       "      <td>2.1</td>\n",
       "      <td>-1.5</td>\n",
       "      <td>2.72</td>\n",
       "    </tr>\n",
       "    <tr>\n",
       "      <th>2007</th>\n",
       "      <td>0.739</td>\n",
       "      <td>8.8</td>\n",
       "      <td>70.6</td>\n",
       "      <td>6.2</td>\n",
       "      <td>11.5</td>\n",
       "      <td>111.8</td>\n",
       "      <td>76.9</td>\n",
       "      <td>49.6</td>\n",
       "      <td>0.613</td>\n",
       "      <td>12.5</td>\n",
       "      <td>...</td>\n",
       "      <td>75.7</td>\n",
       "      <td>78.1</td>\n",
       "      <td>73.2</td>\n",
       "      <td>0.856</td>\n",
       "      <td>16283</td>\n",
       "      <td>0.769</td>\n",
       "      <td>56.8</td>\n",
       "      <td>3.1</td>\n",
       "      <td>-1.9</td>\n",
       "      <td>2.55</td>\n",
       "    </tr>\n",
       "    <tr>\n",
       "      <th>2008</th>\n",
       "      <td>0.742</td>\n",
       "      <td>8.9</td>\n",
       "      <td>72.2</td>\n",
       "      <td>6.5</td>\n",
       "      <td>11.5</td>\n",
       "      <td>113.7</td>\n",
       "      <td>77.2</td>\n",
       "      <td>48.5</td>\n",
       "      <td>0.619</td>\n",
       "      <td>12.6</td>\n",
       "      <td>...</td>\n",
       "      <td>75.8</td>\n",
       "      <td>78.2</td>\n",
       "      <td>73.4</td>\n",
       "      <td>0.858</td>\n",
       "      <td>16262</td>\n",
       "      <td>0.769</td>\n",
       "      <td>57.8</td>\n",
       "      <td>2.9</td>\n",
       "      <td>-4.4</td>\n",
       "      <td>2.35</td>\n",
       "    </tr>\n",
       "    <tr>\n",
       "      <th>2009</th>\n",
       "      <td>0.743</td>\n",
       "      <td>9.1</td>\n",
       "      <td>73.8</td>\n",
       "      <td>6.7</td>\n",
       "      <td>11.5</td>\n",
       "      <td>115.5</td>\n",
       "      <td>77.5</td>\n",
       "      <td>47.4</td>\n",
       "      <td>0.627</td>\n",
       "      <td>12.7</td>\n",
       "      <td>...</td>\n",
       "      <td>75.9</td>\n",
       "      <td>78.4</td>\n",
       "      <td>73.5</td>\n",
       "      <td>0.861</td>\n",
       "      <td>15228</td>\n",
       "      <td>0.759</td>\n",
       "      <td>56</td>\n",
       "      <td>2.2</td>\n",
       "      <td>1.7</td>\n",
       "      <td>2.45</td>\n",
       "    </tr>\n",
       "    <tr>\n",
       "      <th>2010</th>\n",
       "      <td>0.743</td>\n",
       "      <td>9.2</td>\n",
       "      <td>75.4</td>\n",
       "      <td>6.9</td>\n",
       "      <td>11.4</td>\n",
       "      <td>117.3</td>\n",
       "      <td>77.8</td>\n",
       "      <td>46.3</td>\n",
       "      <td>0.623</td>\n",
       "      <td>12.8</td>\n",
       "      <td>...</td>\n",
       "      <td>76.1</td>\n",
       "      <td>78.5</td>\n",
       "      <td>73.7</td>\n",
       "      <td>0.863</td>\n",
       "      <td>15770</td>\n",
       "      <td>0.764</td>\n",
       "      <td>60.8</td>\n",
       "      <td>2</td>\n",
       "      <td>-3.9</td>\n",
       "      <td>2.09</td>\n",
       "    </tr>\n",
       "    <tr>\n",
       "      <th>2011</th>\n",
       "      <td>0.751</td>\n",
       "      <td>9.3</td>\n",
       "      <td>77</td>\n",
       "      <td>7.1</td>\n",
       "      <td>11.4</td>\n",
       "      <td>119.1</td>\n",
       "      <td>78.1</td>\n",
       "      <td>45.3</td>\n",
       "      <td>0.638</td>\n",
       "      <td>12.9</td>\n",
       "      <td>...</td>\n",
       "      <td>76.3</td>\n",
       "      <td>78.7</td>\n",
       "      <td>73.8</td>\n",
       "      <td>0.865</td>\n",
       "      <td>15960</td>\n",
       "      <td>0.766</td>\n",
       "      <td>63.5</td>\n",
       "      <td>2.1</td>\n",
       "      <td>-4.9</td>\n",
       "      <td>1.99</td>\n",
       "    </tr>\n",
       "    <tr>\n",
       "      <th>2012</th>\n",
       "      <td>0.757</td>\n",
       "      <td>9.4</td>\n",
       "      <td>78.6</td>\n",
       "      <td>7.4</td>\n",
       "      <td>11.5</td>\n",
       "      <td>120.8</td>\n",
       "      <td>78.4</td>\n",
       "      <td>44.3</td>\n",
       "      <td>0.65</td>\n",
       "      <td>13.1</td>\n",
       "      <td>...</td>\n",
       "      <td>76.4</td>\n",
       "      <td>78.8</td>\n",
       "      <td>74</td>\n",
       "      <td>0.868</td>\n",
       "      <td>16165</td>\n",
       "      <td>0.768</td>\n",
       "      <td>65.8</td>\n",
       "      <td>1.5</td>\n",
       "      <td>-4.7</td>\n",
       "      <td>1.93</td>\n",
       "    </tr>\n",
       "    <tr>\n",
       "      <th>2013</th>\n",
       "      <td>0.756</td>\n",
       "      <td>9.5</td>\n",
       "      <td>80.2</td>\n",
       "      <td>7.6</td>\n",
       "      <td>11.5</td>\n",
       "      <td>122.5</td>\n",
       "      <td>78.7</td>\n",
       "      <td>43.4</td>\n",
       "      <td>0.648</td>\n",
       "      <td>13.3</td>\n",
       "      <td>...</td>\n",
       "      <td>76.6</td>\n",
       "      <td>79</td>\n",
       "      <td>74.1</td>\n",
       "      <td>0.87</td>\n",
       "      <td>15991</td>\n",
       "      <td>0.767</td>\n",
       "      <td>63.8</td>\n",
       "      <td>3.7</td>\n",
       "      <td>-6</td>\n",
       "      <td>1.82</td>\n",
       "    </tr>\n",
       "    <tr>\n",
       "      <th>2014</th>\n",
       "      <td>0.761</td>\n",
       "      <td>9.6</td>\n",
       "      <td>81.7</td>\n",
       "      <td>7.9</td>\n",
       "      <td>11.5</td>\n",
       "      <td>124.2</td>\n",
       "      <td>79</td>\n",
       "      <td>42.5</td>\n",
       "      <td>0.655</td>\n",
       "      <td>13.5</td>\n",
       "      <td>...</td>\n",
       "      <td>76.8</td>\n",
       "      <td>79.2</td>\n",
       "      <td>74.3</td>\n",
       "      <td>0.873</td>\n",
       "      <td>16292</td>\n",
       "      <td>0.769</td>\n",
       "      <td>65</td>\n",
       "      <td>2.3</td>\n",
       "      <td>-5.5</td>\n",
       "      <td>1.89</td>\n",
       "    </tr>\n",
       "    <tr>\n",
       "      <th>2015</th>\n",
       "      <td>0.767</td>\n",
       "      <td>9.8</td>\n",
       "      <td>83.1</td>\n",
       "      <td>8.2</td>\n",
       "      <td>11.5</td>\n",
       "      <td>125.9</td>\n",
       "      <td>79.3</td>\n",
       "      <td>41.6</td>\n",
       "      <td>0.666</td>\n",
       "      <td>13.7</td>\n",
       "      <td>...</td>\n",
       "      <td>76.9</td>\n",
       "      <td>79.4</td>\n",
       "      <td>74.5</td>\n",
       "      <td>0.876</td>\n",
       "      <td>16569</td>\n",
       "      <td>0.772</td>\n",
       "      <td>71.2</td>\n",
       "      <td>3.1</td>\n",
       "      <td>-4.2</td>\n",
       "      <td>2.24</td>\n",
       "    </tr>\n",
       "    <tr>\n",
       "      <th>2016</th>\n",
       "      <td>0.772</td>\n",
       "      <td>10</td>\n",
       "      <td>84.5</td>\n",
       "      <td>8.5</td>\n",
       "      <td>11.6</td>\n",
       "      <td>127.5</td>\n",
       "      <td>79.6</td>\n",
       "      <td>40.9</td>\n",
       "      <td>0.678</td>\n",
       "      <td>14.1</td>\n",
       "      <td>...</td>\n",
       "      <td>77.1</td>\n",
       "      <td>79.5</td>\n",
       "      <td>74.7</td>\n",
       "      <td>0.879</td>\n",
       "      <td>16623</td>\n",
       "      <td>0.772</td>\n",
       "      <td>76.2</td>\n",
       "      <td>3.2</td>\n",
       "      <td>-5.5</td>\n",
       "      <td>2.66</td>\n",
       "    </tr>\n",
       "    <tr>\n",
       "      <th>2017</th>\n",
       "      <td>0.774</td>\n",
       "      <td>10.3</td>\n",
       "      <td>85.9</td>\n",
       "      <td>8.9</td>\n",
       "      <td>11.5</td>\n",
       "      <td>129.2</td>\n",
       "      <td>79.9</td>\n",
       "      <td>40.1</td>\n",
       "      <td>0.678</td>\n",
       "      <td>14.1</td>\n",
       "      <td>...</td>\n",
       "      <td>77.3</td>\n",
       "      <td>79.7</td>\n",
       "      <td>74.9</td>\n",
       "      <td>0.882</td>\n",
       "      <td>16944</td>\n",
       "      <td>0.775</td>\n",
       "      <td>77.6</td>\n",
       "      <td>2.8</td>\n",
       "      <td>-2.9</td>\n",
       "      <td>2.66</td>\n",
       "    </tr>\n",
       "  </tbody>\n",
       "</table>\n",
       "<p>29 rows × 29 columns</p>\n",
       "</div>"
      ],
      "text/plain": [
       "                                        300    \\\n",
       "indicator_name  Human Development Index (HDI)   \n",
       "1990                                     0.65   \n",
       "1991                                    0.654   \n",
       "1992                                    0.658   \n",
       "1993                                    0.663   \n",
       "1994                                     0.67   \n",
       "1995                                    0.669   \n",
       "1996                                    0.677   \n",
       "1997                                    0.683   \n",
       "1998                                     0.69   \n",
       "1999                                    0.695   \n",
       "2000                                    0.702   \n",
       "2001                                    0.704   \n",
       "2002                                     0.71   \n",
       "2003                                    0.717   \n",
       "2004                                    0.724   \n",
       "2005                                    0.727   \n",
       "2006                                    0.736   \n",
       "2007                                    0.739   \n",
       "2008                                    0.742   \n",
       "2009                                    0.743   \n",
       "2010                                    0.743   \n",
       "2011                                    0.751   \n",
       "2012                                    0.757   \n",
       "2013                                    0.756   \n",
       "2014                                    0.761   \n",
       "2015                                    0.767   \n",
       "2016                                    0.772   \n",
       "2017                                    0.774   \n",
       "\n",
       "                                                            671    \\\n",
       "indicator_name  Old-age (65 and older) dependency ratio (per 1...   \n",
       "1990                                                          7.5   \n",
       "1991                                                          7.6   \n",
       "1992                                                          7.6   \n",
       "1993                                                          7.7   \n",
       "1994                                                          7.8   \n",
       "1995                                                          7.8   \n",
       "1996                                                          7.9   \n",
       "1997                                                            8   \n",
       "1998                                                          8.1   \n",
       "1999                                                          8.2   \n",
       "2000                                                          8.3   \n",
       "2001                                                          8.4   \n",
       "2002                                                          8.4   \n",
       "2003                                                          8.5   \n",
       "2004                                                          8.5   \n",
       "2005                                                          8.6   \n",
       "2006                                                          8.7   \n",
       "2007                                                          8.8   \n",
       "2008                                                          8.9   \n",
       "2009                                                          9.1   \n",
       "2010                                                          9.2   \n",
       "2011                                                          9.3   \n",
       "2012                                                          9.4   \n",
       "2013                                                          9.5   \n",
       "2014                                                          9.6   \n",
       "2015                                                          9.8   \n",
       "2016                                                           10   \n",
       "2017                                                         10.3   \n",
       "\n",
       "                                           856    \\\n",
       "indicator_name  Population ages 15–64 (millions)   \n",
       "1990                                        48.4   \n",
       "1991                                        49.8   \n",
       "1992                                        51.3   \n",
       "1993                                        52.8   \n",
       "1994                                        54.2   \n",
       "1995                                        55.6   \n",
       "1996                                        56.9   \n",
       "1997                                        58.2   \n",
       "1998                                        59.4   \n",
       "1999                                        60.6   \n",
       "2000                                        61.7   \n",
       "2001                                        62.9   \n",
       "2002                                          64   \n",
       "2003                                        65.2   \n",
       "2004                                        66.4   \n",
       "2005                                        67.6   \n",
       "2006                                        69.1   \n",
       "2007                                        70.6   \n",
       "2008                                        72.2   \n",
       "2009                                        73.8   \n",
       "2010                                        75.4   \n",
       "2011                                          77   \n",
       "2012                                        78.6   \n",
       "2013                                        80.2   \n",
       "2014                                        81.7   \n",
       "2015                                        83.1   \n",
       "2016                                        84.5   \n",
       "2017                                        85.9   \n",
       "\n",
       "                                                  1041   \\\n",
       "indicator_name  Population ages 65 and older (millions)   \n",
       "1990                                                3.6   \n",
       "1991                                                3.8   \n",
       "1992                                                3.9   \n",
       "1993                                                4.1   \n",
       "1994                                                4.2   \n",
       "1995                                                4.4   \n",
       "1996                                                4.5   \n",
       "1997                                                4.7   \n",
       "1998                                                4.8   \n",
       "1999                                                  5   \n",
       "2000                                                5.1   \n",
       "2001                                                5.3   \n",
       "2002                                                5.4   \n",
       "2003                                                5.5   \n",
       "2004                                                5.7   \n",
       "2005                                                5.8   \n",
       "2006                                                  6   \n",
       "2007                                                6.2   \n",
       "2008                                                6.5   \n",
       "2009                                                6.7   \n",
       "2010                                                6.9   \n",
       "2011                                                7.1   \n",
       "2012                                                7.4   \n",
       "2013                                                7.6   \n",
       "2014                                                7.9   \n",
       "2015                                                8.2   \n",
       "2016                                                8.5   \n",
       "2017                                                8.9   \n",
       "\n",
       "                                            1226   \\\n",
       "indicator_name  Population under age 5 (millions)   \n",
       "1990                                         11.5   \n",
       "1991                                         11.6   \n",
       "1992                                         11.7   \n",
       "1993                                         11.8   \n",
       "1994                                         11.8   \n",
       "1995                                         11.8   \n",
       "1996                                         11.9   \n",
       "1997                                         11.9   \n",
       "1998                                           12   \n",
       "1999                                           12   \n",
       "2000                                           12   \n",
       "2001                                           12   \n",
       "2002                                           12   \n",
       "2003                                         11.9   \n",
       "2004                                         11.8   \n",
       "2005                                         11.7   \n",
       "2006                                         11.6   \n",
       "2007                                         11.5   \n",
       "2008                                         11.5   \n",
       "2009                                         11.5   \n",
       "2010                                         11.4   \n",
       "2011                                         11.4   \n",
       "2012                                         11.5   \n",
       "2013                                         11.5   \n",
       "2014                                         11.5   \n",
       "2015                                         11.5   \n",
       "2016                                         11.6   \n",
       "2017                                         11.5   \n",
       "\n",
       "                                      1600                  1795   \\\n",
       "indicator_name  Total population (millions)  Urban population (%)   \n",
       "1990                                   85.4                  71.4   \n",
       "1991                                   87.1                  71.8   \n",
       "1992                                   88.8                  72.2   \n",
       "1993                                   90.6                  72.6   \n",
       "1994                                   92.3                    73   \n",
       "1995                                     94                  73.4   \n",
       "1996                                   95.7                  73.7   \n",
       "1997                                   97.3                  73.9   \n",
       "1998                                   98.8                  74.2   \n",
       "1999                                  100.3                  74.4   \n",
       "2000                                  101.7                  74.7   \n",
       "2001                                  103.1                    75   \n",
       "2002                                  104.4                  75.4   \n",
       "2003                                  105.6                  75.7   \n",
       "2004                                    107                    76   \n",
       "2005                                  108.5                  76.3   \n",
       "2006                                  110.1                  76.6   \n",
       "2007                                  111.8                  76.9   \n",
       "2008                                  113.7                  77.2   \n",
       "2009                                  115.5                  77.5   \n",
       "2010                                  117.3                  77.8   \n",
       "2011                                  119.1                  78.1   \n",
       "2012                                  120.8                  78.4   \n",
       "2013                                  122.5                  78.7   \n",
       "2014                                  124.2                    79   \n",
       "2015                                  125.9                  79.3   \n",
       "2016                                  127.5                  79.6   \n",
       "2017                                  129.2                  79.9   \n",
       "\n",
       "                                                            1986   \\\n",
       "indicator_name  Young age (0-14) dependency ratio (per 100 peo...   \n",
       "1990                                                         68.9   \n",
       "1991                                                         67.1   \n",
       "1992                                                         65.4   \n",
       "1993                                                         63.9   \n",
       "1994                                                         62.5   \n",
       "1995                                                         61.2   \n",
       "1996                                                         60.1   \n",
       "1997                                                         59.1   \n",
       "1998                                                         58.2   \n",
       "1999                                                         57.3   \n",
       "2000                                                         56.4   \n",
       "2001                                                         55.5   \n",
       "2002                                                         54.6   \n",
       "2003                                                         53.6   \n",
       "2004                                                         52.7   \n",
       "2005                                                         51.8   \n",
       "2006                                                         50.7   \n",
       "2007                                                         49.6   \n",
       "2008                                                         48.5   \n",
       "2009                                                         47.4   \n",
       "2010                                                         46.3   \n",
       "2011                                                         45.3   \n",
       "2012                                                         44.3   \n",
       "2013                                                         43.4   \n",
       "2014                                                         42.5   \n",
       "2015                                                         41.6   \n",
       "2016                                                         40.9   \n",
       "2017                                                         40.1   \n",
       "\n",
       "                          2174                                 2364   ...  \\\n",
       "indicator_name  Education index  Expected years of schooling (years)  ...   \n",
       "1990                       0.48                                 10.6  ...   \n",
       "1991                      0.481                                 10.5  ...   \n",
       "1992                      0.487                                 10.5  ...   \n",
       "1993                      0.491                                 10.4  ...   \n",
       "1994                        0.5                                 10.5  ...   \n",
       "1995                       0.51                                 10.7  ...   \n",
       "1996                      0.517                                 10.8  ...   \n",
       "1997                      0.523                                   11  ...   \n",
       "1998                      0.532                                 11.3  ...   \n",
       "1999                      0.538                                 11.4  ...   \n",
       "2000                      0.548                                 11.7  ...   \n",
       "2001                      0.554                                 11.8  ...   \n",
       "2002                      0.566                                   12  ...   \n",
       "2003                      0.579                                 12.3  ...   \n",
       "2004                      0.588                                 12.3  ...   \n",
       "2005                      0.595                                 12.3  ...   \n",
       "2006                       0.61                                 12.4  ...   \n",
       "2007                      0.613                                 12.5  ...   \n",
       "2008                      0.619                                 12.6  ...   \n",
       "2009                      0.627                                 12.7  ...   \n",
       "2010                      0.623                                 12.8  ...   \n",
       "2011                      0.638                                 12.9  ...   \n",
       "2012                       0.65                                 13.1  ...   \n",
       "2013                      0.648                                 13.3  ...   \n",
       "2014                      0.655                                 13.5  ...   \n",
       "2015                      0.666                                 13.7  ...   \n",
       "2016                      0.678                                 14.1  ...   \n",
       "2017                      0.678                                 14.1  ...   \n",
       "\n",
       "                                           12247  \\\n",
       "indicator_name  Life expectancy at birth (years)   \n",
       "1990                                        70.8   \n",
       "1991                                        71.2   \n",
       "1992                                        71.6   \n",
       "1993                                          72   \n",
       "1994                                        72.4   \n",
       "1995                                        72.8   \n",
       "1996                                        73.2   \n",
       "1997                                        73.5   \n",
       "1998                                        73.8   \n",
       "1999                                        74.1   \n",
       "2000                                        74.4   \n",
       "2001                                        74.6   \n",
       "2002                                        74.8   \n",
       "2003                                          75   \n",
       "2004                                        75.2   \n",
       "2005                                        75.3   \n",
       "2006                                        75.5   \n",
       "2007                                        75.7   \n",
       "2008                                        75.8   \n",
       "2009                                        75.9   \n",
       "2010                                        76.1   \n",
       "2011                                        76.3   \n",
       "2012                                        76.4   \n",
       "2013                                        76.6   \n",
       "2014                                        76.8   \n",
       "2015                                        76.9   \n",
       "2016                                        77.1   \n",
       "2017                                        77.3   \n",
       "\n",
       "                                                   12435  \\\n",
       "indicator_name  Life expectancy at birth, female (years)   \n",
       "1990                                                73.8   \n",
       "1991                                                74.2   \n",
       "1992                                                74.5   \n",
       "1993                                                74.8   \n",
       "1994                                                75.1   \n",
       "1995                                                75.4   \n",
       "1996                                                75.7   \n",
       "1997                                                  76   \n",
       "1998                                                76.2   \n",
       "1999                                                76.5   \n",
       "2000                                                76.8   \n",
       "2001                                                  77   \n",
       "2002                                                77.2   \n",
       "2003                                                77.4   \n",
       "2004                                                77.6   \n",
       "2005                                                77.8   \n",
       "2006                                                77.9   \n",
       "2007                                                78.1   \n",
       "2008                                                78.2   \n",
       "2009                                                78.4   \n",
       "2010                                                78.5   \n",
       "2011                                                78.7   \n",
       "2012                                                78.8   \n",
       "2013                                                  79   \n",
       "2014                                                79.2   \n",
       "2015                                                79.4   \n",
       "2016                                                79.5   \n",
       "2017                                                79.7   \n",
       "\n",
       "                                                 12620                  12809  \\\n",
       "indicator_name  Life expectancy at birth, male (years)  Life expectancy index   \n",
       "1990                                              67.9                  0.782   \n",
       "1991                                              68.4                  0.788   \n",
       "1992                                              68.8                  0.794   \n",
       "1993                                              69.3                    0.8   \n",
       "1994                                              69.8                  0.806   \n",
       "1995                                              70.2                  0.812   \n",
       "1996                                              70.7                  0.818   \n",
       "1997                                                71                  0.823   \n",
       "1998                                              71.4                  0.828   \n",
       "1999                                              71.7                  0.832   \n",
       "2000                                              71.9                  0.836   \n",
       "2001                                              72.2                   0.84   \n",
       "2002                                              72.4                  0.843   \n",
       "2003                                              72.6                  0.846   \n",
       "2004                                              72.7                  0.849   \n",
       "2005                                              72.9                  0.851   \n",
       "2006                                              73.1                  0.854   \n",
       "2007                                              73.2                  0.856   \n",
       "2008                                              73.4                  0.858   \n",
       "2009                                              73.5                  0.861   \n",
       "2010                                              73.7                  0.863   \n",
       "2011                                              73.8                  0.865   \n",
       "2012                                                74                  0.868   \n",
       "2013                                              74.1                   0.87   \n",
       "2014                                              74.3                  0.873   \n",
       "2015                                              74.5                  0.876   \n",
       "2016                                              74.7                  0.879   \n",
       "2017                                              74.9                  0.882   \n",
       "\n",
       "                                                            16084  \\\n",
       "indicator_name  Gross national income (GNI) per capita (2011 P...   \n",
       "1990                                                        12690   \n",
       "1991                                                        13030   \n",
       "1992                                                        13245   \n",
       "1993                                                        13622   \n",
       "1994                                                        13896   \n",
       "1995                                                        12047   \n",
       "1996                                                        12864   \n",
       "1997                                                        13539   \n",
       "1998                                                        13922   \n",
       "1999                                                        14315   \n",
       "2000                                                        14814   \n",
       "2001                                                        14486   \n",
       "2002                                                        14371   \n",
       "2003                                                        14667   \n",
       "2004                                                        15187   \n",
       "2005                                                        15291   \n",
       "2006                                                        15731   \n",
       "2007                                                        16283   \n",
       "2008                                                        16262   \n",
       "2009                                                        15228   \n",
       "2010                                                        15770   \n",
       "2011                                                        15960   \n",
       "2012                                                        16165   \n",
       "2013                                                        15991   \n",
       "2014                                                        16292   \n",
       "2015                                                        16569   \n",
       "2016                                                        16623   \n",
       "2017                                                        16944   \n",
       "\n",
       "                       16275                           22852  \\\n",
       "indicator_name  Income index  Exports and imports (% of GDP)   \n",
       "1990                   0.732                            38.3   \n",
       "1991                   0.736                            35.6   \n",
       "1992                   0.738                            35.5   \n",
       "1993                   0.742                            27.8   \n",
       "1994                   0.745                            30.7   \n",
       "1995                   0.724                            46.3   \n",
       "1996                   0.734                            50.4   \n",
       "1997                   0.741                            48.8   \n",
       "1998                   0.746                              51   \n",
       "1999                    0.75                            50.6   \n",
       "2000                   0.755                            52.4   \n",
       "2001                   0.752                            47.2   \n",
       "2002                    0.75                            46.7   \n",
       "2003                   0.753                            50.2   \n",
       "2004                   0.759                            58.4   \n",
       "2005                    0.76                            62.4   \n",
       "2006                   0.764                            56.1   \n",
       "2007                   0.769                            56.8   \n",
       "2008                   0.769                            57.8   \n",
       "2009                   0.759                              56   \n",
       "2010                   0.764                            60.8   \n",
       "2011                   0.766                            63.5   \n",
       "2012                   0.768                            65.8   \n",
       "2013                   0.767                            63.8   \n",
       "2014                   0.769                              65   \n",
       "2015                   0.772                            71.2   \n",
       "2016                   0.772                            76.2   \n",
       "2017                   0.775                            77.6   \n",
       "\n",
       "                                                            23037  \\\n",
       "indicator_name  Foreign direct investment, net inflows (% of GDP)   \n",
       "1990                                                            1   \n",
       "1991                                                          1.5   \n",
       "1992                                                          1.2   \n",
       "1993                                                          0.9   \n",
       "1994                                                          2.1   \n",
       "1995                                                          2.6   \n",
       "1996                                                          2.2   \n",
       "1997                                                          2.6   \n",
       "1998                                                          2.4   \n",
       "1999                                                          2.3   \n",
       "2000                                                          2.6   \n",
       "2001                                                            4   \n",
       "2002                                                          3.1   \n",
       "2003                                                          2.5   \n",
       "2004                                                          3.2   \n",
       "2005                                                            3   \n",
       "2006                                                          2.1   \n",
       "2007                                                          3.1   \n",
       "2008                                                          2.9   \n",
       "2009                                                          2.2   \n",
       "2010                                                            2   \n",
       "2011                                                          2.1   \n",
       "2012                                                          1.5   \n",
       "2013                                                          3.7   \n",
       "2014                                                          2.3   \n",
       "2015                                                          3.1   \n",
       "2016                                                          3.2   \n",
       "2017                                                          2.8   \n",
       "\n",
       "                                           23380  \\\n",
       "indicator_name  Private capital flows (% of GDP)   \n",
       "1990                                         0.5   \n",
       "1991                                        -5.4   \n",
       "1992                                        -6.5   \n",
       "1993                                        -6.5   \n",
       "1994                                        -3.5   \n",
       "1995                                         0.2   \n",
       "1996                                        -5.6   \n",
       "1997                                        -3.4   \n",
       "1998                                        -2.6   \n",
       "1999                                        -4.1   \n",
       "2000                                        -2.8   \n",
       "2001                                        -4.1   \n",
       "2002                                          -3   \n",
       "2003                                        -2.9   \n",
       "2004                                          -3   \n",
       "2005                                        -0.7   \n",
       "2006                                        -1.5   \n",
       "2007                                        -1.9   \n",
       "2008                                        -4.4   \n",
       "2009                                         1.7   \n",
       "2010                                        -3.9   \n",
       "2011                                        -4.9   \n",
       "2012                                        -4.7   \n",
       "2013                                          -6   \n",
       "2014                                        -5.5   \n",
       "2015                                        -4.2   \n",
       "2016                                        -5.5   \n",
       "2017                                        -2.9   \n",
       "\n",
       "                                          23560  \n",
       "indicator_name  Remittances, inflows (% of GDP)  \n",
       "1990                                       1.18  \n",
       "1991                                       0.96  \n",
       "1992                                       1.02  \n",
       "1993                                       0.79  \n",
       "1994                                       0.78  \n",
       "1995                                       1.21  \n",
       "1996                                        1.2  \n",
       "1997                                       1.11  \n",
       "1998                                       1.23  \n",
       "1999                                       1.11  \n",
       "2000                                       1.06  \n",
       "2001                                       1.34  \n",
       "2002                                       1.43  \n",
       "2003                                       2.28  \n",
       "2004                                       2.54  \n",
       "2005                                       2.59  \n",
       "2006                                       2.72  \n",
       "2007                                       2.55  \n",
       "2008                                       2.35  \n",
       "2009                                       2.45  \n",
       "2010                                       2.09  \n",
       "2011                                       1.99  \n",
       "2012                                       1.93  \n",
       "2013                                       1.82  \n",
       "2014                                       1.89  \n",
       "2015                                       2.24  \n",
       "2016                                       2.66  \n",
       "2017                                       2.66  \n",
       "\n",
       "[29 rows x 29 columns]"
      ]
     },
     "execution_count": 224,
     "metadata": {},
     "output_type": "execute_result"
    }
   ],
   "source": [
    "mex_t=mex.dropna().transpose()\n",
    "mex_t"
   ]
  },
  {
   "cell_type": "code",
   "execution_count": 225,
   "metadata": {},
   "outputs": [
    {
     "data": {
      "text/plain": [
       "Index(['indicator_name',             1990,             1991,             1992,\n",
       "                   1993,             1994,             1995,             1996,\n",
       "                   1997,             1998,             1999,             2000,\n",
       "                   2001,             2002,             2003,             2004,\n",
       "                   2005,             2006,             2007,             2008,\n",
       "                   2009,             2010,             2011,             2012,\n",
       "                   2013,             2014,             2015,             2016,\n",
       "                   2017],\n",
       "      dtype='object')"
      ]
     },
     "execution_count": 225,
     "metadata": {},
     "output_type": "execute_result"
    }
   ],
   "source": [
    "mex_t.index"
   ]
  },
  {
   "cell_type": "code",
   "execution_count": 226,
   "metadata": {},
   "outputs": [
    {
     "data": {
      "text/html": [
       "<div>\n",
       "<style scoped>\n",
       "    .dataframe tbody tr th:only-of-type {\n",
       "        vertical-align: middle;\n",
       "    }\n",
       "\n",
       "    .dataframe tbody tr th {\n",
       "        vertical-align: top;\n",
       "    }\n",
       "\n",
       "    .dataframe thead th {\n",
       "        text-align: right;\n",
       "    }\n",
       "</style>\n",
       "<table border=\"1\" class=\"dataframe\">\n",
       "  <thead>\n",
       "    <tr style=\"text-align: right;\">\n",
       "      <th>indicator_name</th>\n",
       "      <th>Human Development Index (HDI)</th>\n",
       "      <th>Old-age (65 and older) dependency ratio (per 100 people ages 15-64)</th>\n",
       "      <th>Population ages 15–64 (millions)</th>\n",
       "      <th>Population ages 65 and older (millions)</th>\n",
       "      <th>Population under age 5 (millions)</th>\n",
       "      <th>Total population (millions)</th>\n",
       "      <th>Urban population (%)</th>\n",
       "      <th>Young age (0-14) dependency ratio (per 100 people ages 15-64)</th>\n",
       "      <th>Education index</th>\n",
       "      <th>Expected years of schooling (years)</th>\n",
       "      <th>...</th>\n",
       "      <th>Life expectancy at birth (years)</th>\n",
       "      <th>Life expectancy at birth, female (years)</th>\n",
       "      <th>Life expectancy at birth, male (years)</th>\n",
       "      <th>Life expectancy index</th>\n",
       "      <th>Gross national income (GNI) per capita (2011 PPP $)</th>\n",
       "      <th>Income index</th>\n",
       "      <th>Exports and imports (% of GDP)</th>\n",
       "      <th>Foreign direct investment, net inflows (% of GDP)</th>\n",
       "      <th>Private capital flows (% of GDP)</th>\n",
       "      <th>Remittances, inflows (% of GDP)</th>\n",
       "    </tr>\n",
       "  </thead>\n",
       "  <tbody>\n",
       "    <tr>\n",
       "      <th>1990</th>\n",
       "      <td>0.65</td>\n",
       "      <td>7.5</td>\n",
       "      <td>48.4</td>\n",
       "      <td>3.6</td>\n",
       "      <td>11.5</td>\n",
       "      <td>85.4</td>\n",
       "      <td>71.4</td>\n",
       "      <td>68.9</td>\n",
       "      <td>0.48</td>\n",
       "      <td>10.6</td>\n",
       "      <td>...</td>\n",
       "      <td>70.8</td>\n",
       "      <td>73.8</td>\n",
       "      <td>67.9</td>\n",
       "      <td>0.782</td>\n",
       "      <td>12690</td>\n",
       "      <td>0.732</td>\n",
       "      <td>38.3</td>\n",
       "      <td>1</td>\n",
       "      <td>0.5</td>\n",
       "      <td>1.18</td>\n",
       "    </tr>\n",
       "    <tr>\n",
       "      <th>1991</th>\n",
       "      <td>0.654</td>\n",
       "      <td>7.6</td>\n",
       "      <td>49.8</td>\n",
       "      <td>3.8</td>\n",
       "      <td>11.6</td>\n",
       "      <td>87.1</td>\n",
       "      <td>71.8</td>\n",
       "      <td>67.1</td>\n",
       "      <td>0.481</td>\n",
       "      <td>10.5</td>\n",
       "      <td>...</td>\n",
       "      <td>71.2</td>\n",
       "      <td>74.2</td>\n",
       "      <td>68.4</td>\n",
       "      <td>0.788</td>\n",
       "      <td>13030</td>\n",
       "      <td>0.736</td>\n",
       "      <td>35.6</td>\n",
       "      <td>1.5</td>\n",
       "      <td>-5.4</td>\n",
       "      <td>0.96</td>\n",
       "    </tr>\n",
       "    <tr>\n",
       "      <th>1992</th>\n",
       "      <td>0.658</td>\n",
       "      <td>7.6</td>\n",
       "      <td>51.3</td>\n",
       "      <td>3.9</td>\n",
       "      <td>11.7</td>\n",
       "      <td>88.8</td>\n",
       "      <td>72.2</td>\n",
       "      <td>65.4</td>\n",
       "      <td>0.487</td>\n",
       "      <td>10.5</td>\n",
       "      <td>...</td>\n",
       "      <td>71.6</td>\n",
       "      <td>74.5</td>\n",
       "      <td>68.8</td>\n",
       "      <td>0.794</td>\n",
       "      <td>13245</td>\n",
       "      <td>0.738</td>\n",
       "      <td>35.5</td>\n",
       "      <td>1.2</td>\n",
       "      <td>-6.5</td>\n",
       "      <td>1.02</td>\n",
       "    </tr>\n",
       "    <tr>\n",
       "      <th>1993</th>\n",
       "      <td>0.663</td>\n",
       "      <td>7.7</td>\n",
       "      <td>52.8</td>\n",
       "      <td>4.1</td>\n",
       "      <td>11.8</td>\n",
       "      <td>90.6</td>\n",
       "      <td>72.6</td>\n",
       "      <td>63.9</td>\n",
       "      <td>0.491</td>\n",
       "      <td>10.4</td>\n",
       "      <td>...</td>\n",
       "      <td>72</td>\n",
       "      <td>74.8</td>\n",
       "      <td>69.3</td>\n",
       "      <td>0.8</td>\n",
       "      <td>13622</td>\n",
       "      <td>0.742</td>\n",
       "      <td>27.8</td>\n",
       "      <td>0.9</td>\n",
       "      <td>-6.5</td>\n",
       "      <td>0.79</td>\n",
       "    </tr>\n",
       "    <tr>\n",
       "      <th>1994</th>\n",
       "      <td>0.67</td>\n",
       "      <td>7.8</td>\n",
       "      <td>54.2</td>\n",
       "      <td>4.2</td>\n",
       "      <td>11.8</td>\n",
       "      <td>92.3</td>\n",
       "      <td>73</td>\n",
       "      <td>62.5</td>\n",
       "      <td>0.5</td>\n",
       "      <td>10.5</td>\n",
       "      <td>...</td>\n",
       "      <td>72.4</td>\n",
       "      <td>75.1</td>\n",
       "      <td>69.8</td>\n",
       "      <td>0.806</td>\n",
       "      <td>13896</td>\n",
       "      <td>0.745</td>\n",
       "      <td>30.7</td>\n",
       "      <td>2.1</td>\n",
       "      <td>-3.5</td>\n",
       "      <td>0.78</td>\n",
       "    </tr>\n",
       "    <tr>\n",
       "      <th>1995</th>\n",
       "      <td>0.669</td>\n",
       "      <td>7.8</td>\n",
       "      <td>55.6</td>\n",
       "      <td>4.4</td>\n",
       "      <td>11.8</td>\n",
       "      <td>94</td>\n",
       "      <td>73.4</td>\n",
       "      <td>61.2</td>\n",
       "      <td>0.51</td>\n",
       "      <td>10.7</td>\n",
       "      <td>...</td>\n",
       "      <td>72.8</td>\n",
       "      <td>75.4</td>\n",
       "      <td>70.2</td>\n",
       "      <td>0.812</td>\n",
       "      <td>12047</td>\n",
       "      <td>0.724</td>\n",
       "      <td>46.3</td>\n",
       "      <td>2.6</td>\n",
       "      <td>0.2</td>\n",
       "      <td>1.21</td>\n",
       "    </tr>\n",
       "    <tr>\n",
       "      <th>1996</th>\n",
       "      <td>0.677</td>\n",
       "      <td>7.9</td>\n",
       "      <td>56.9</td>\n",
       "      <td>4.5</td>\n",
       "      <td>11.9</td>\n",
       "      <td>95.7</td>\n",
       "      <td>73.7</td>\n",
       "      <td>60.1</td>\n",
       "      <td>0.517</td>\n",
       "      <td>10.8</td>\n",
       "      <td>...</td>\n",
       "      <td>73.2</td>\n",
       "      <td>75.7</td>\n",
       "      <td>70.7</td>\n",
       "      <td>0.818</td>\n",
       "      <td>12864</td>\n",
       "      <td>0.734</td>\n",
       "      <td>50.4</td>\n",
       "      <td>2.2</td>\n",
       "      <td>-5.6</td>\n",
       "      <td>1.2</td>\n",
       "    </tr>\n",
       "    <tr>\n",
       "      <th>1997</th>\n",
       "      <td>0.683</td>\n",
       "      <td>8</td>\n",
       "      <td>58.2</td>\n",
       "      <td>4.7</td>\n",
       "      <td>11.9</td>\n",
       "      <td>97.3</td>\n",
       "      <td>73.9</td>\n",
       "      <td>59.1</td>\n",
       "      <td>0.523</td>\n",
       "      <td>11</td>\n",
       "      <td>...</td>\n",
       "      <td>73.5</td>\n",
       "      <td>76</td>\n",
       "      <td>71</td>\n",
       "      <td>0.823</td>\n",
       "      <td>13539</td>\n",
       "      <td>0.741</td>\n",
       "      <td>48.8</td>\n",
       "      <td>2.6</td>\n",
       "      <td>-3.4</td>\n",
       "      <td>1.11</td>\n",
       "    </tr>\n",
       "    <tr>\n",
       "      <th>1998</th>\n",
       "      <td>0.69</td>\n",
       "      <td>8.1</td>\n",
       "      <td>59.4</td>\n",
       "      <td>4.8</td>\n",
       "      <td>12</td>\n",
       "      <td>98.8</td>\n",
       "      <td>74.2</td>\n",
       "      <td>58.2</td>\n",
       "      <td>0.532</td>\n",
       "      <td>11.3</td>\n",
       "      <td>...</td>\n",
       "      <td>73.8</td>\n",
       "      <td>76.2</td>\n",
       "      <td>71.4</td>\n",
       "      <td>0.828</td>\n",
       "      <td>13922</td>\n",
       "      <td>0.746</td>\n",
       "      <td>51</td>\n",
       "      <td>2.4</td>\n",
       "      <td>-2.6</td>\n",
       "      <td>1.23</td>\n",
       "    </tr>\n",
       "    <tr>\n",
       "      <th>1999</th>\n",
       "      <td>0.695</td>\n",
       "      <td>8.2</td>\n",
       "      <td>60.6</td>\n",
       "      <td>5</td>\n",
       "      <td>12</td>\n",
       "      <td>100.3</td>\n",
       "      <td>74.4</td>\n",
       "      <td>57.3</td>\n",
       "      <td>0.538</td>\n",
       "      <td>11.4</td>\n",
       "      <td>...</td>\n",
       "      <td>74.1</td>\n",
       "      <td>76.5</td>\n",
       "      <td>71.7</td>\n",
       "      <td>0.832</td>\n",
       "      <td>14315</td>\n",
       "      <td>0.75</td>\n",
       "      <td>50.6</td>\n",
       "      <td>2.3</td>\n",
       "      <td>-4.1</td>\n",
       "      <td>1.11</td>\n",
       "    </tr>\n",
       "    <tr>\n",
       "      <th>2000</th>\n",
       "      <td>0.702</td>\n",
       "      <td>8.3</td>\n",
       "      <td>61.7</td>\n",
       "      <td>5.1</td>\n",
       "      <td>12</td>\n",
       "      <td>101.7</td>\n",
       "      <td>74.7</td>\n",
       "      <td>56.4</td>\n",
       "      <td>0.548</td>\n",
       "      <td>11.7</td>\n",
       "      <td>...</td>\n",
       "      <td>74.4</td>\n",
       "      <td>76.8</td>\n",
       "      <td>71.9</td>\n",
       "      <td>0.836</td>\n",
       "      <td>14814</td>\n",
       "      <td>0.755</td>\n",
       "      <td>52.4</td>\n",
       "      <td>2.6</td>\n",
       "      <td>-2.8</td>\n",
       "      <td>1.06</td>\n",
       "    </tr>\n",
       "    <tr>\n",
       "      <th>2001</th>\n",
       "      <td>0.704</td>\n",
       "      <td>8.4</td>\n",
       "      <td>62.9</td>\n",
       "      <td>5.3</td>\n",
       "      <td>12</td>\n",
       "      <td>103.1</td>\n",
       "      <td>75</td>\n",
       "      <td>55.5</td>\n",
       "      <td>0.554</td>\n",
       "      <td>11.8</td>\n",
       "      <td>...</td>\n",
       "      <td>74.6</td>\n",
       "      <td>77</td>\n",
       "      <td>72.2</td>\n",
       "      <td>0.84</td>\n",
       "      <td>14486</td>\n",
       "      <td>0.752</td>\n",
       "      <td>47.2</td>\n",
       "      <td>4</td>\n",
       "      <td>-4.1</td>\n",
       "      <td>1.34</td>\n",
       "    </tr>\n",
       "    <tr>\n",
       "      <th>2002</th>\n",
       "      <td>0.71</td>\n",
       "      <td>8.4</td>\n",
       "      <td>64</td>\n",
       "      <td>5.4</td>\n",
       "      <td>12</td>\n",
       "      <td>104.4</td>\n",
       "      <td>75.4</td>\n",
       "      <td>54.6</td>\n",
       "      <td>0.566</td>\n",
       "      <td>12</td>\n",
       "      <td>...</td>\n",
       "      <td>74.8</td>\n",
       "      <td>77.2</td>\n",
       "      <td>72.4</td>\n",
       "      <td>0.843</td>\n",
       "      <td>14371</td>\n",
       "      <td>0.75</td>\n",
       "      <td>46.7</td>\n",
       "      <td>3.1</td>\n",
       "      <td>-3</td>\n",
       "      <td>1.43</td>\n",
       "    </tr>\n",
       "    <tr>\n",
       "      <th>2003</th>\n",
       "      <td>0.717</td>\n",
       "      <td>8.5</td>\n",
       "      <td>65.2</td>\n",
       "      <td>5.5</td>\n",
       "      <td>11.9</td>\n",
       "      <td>105.6</td>\n",
       "      <td>75.7</td>\n",
       "      <td>53.6</td>\n",
       "      <td>0.579</td>\n",
       "      <td>12.3</td>\n",
       "      <td>...</td>\n",
       "      <td>75</td>\n",
       "      <td>77.4</td>\n",
       "      <td>72.6</td>\n",
       "      <td>0.846</td>\n",
       "      <td>14667</td>\n",
       "      <td>0.753</td>\n",
       "      <td>50.2</td>\n",
       "      <td>2.5</td>\n",
       "      <td>-2.9</td>\n",
       "      <td>2.28</td>\n",
       "    </tr>\n",
       "    <tr>\n",
       "      <th>2004</th>\n",
       "      <td>0.724</td>\n",
       "      <td>8.5</td>\n",
       "      <td>66.4</td>\n",
       "      <td>5.7</td>\n",
       "      <td>11.8</td>\n",
       "      <td>107</td>\n",
       "      <td>76</td>\n",
       "      <td>52.7</td>\n",
       "      <td>0.588</td>\n",
       "      <td>12.3</td>\n",
       "      <td>...</td>\n",
       "      <td>75.2</td>\n",
       "      <td>77.6</td>\n",
       "      <td>72.7</td>\n",
       "      <td>0.849</td>\n",
       "      <td>15187</td>\n",
       "      <td>0.759</td>\n",
       "      <td>58.4</td>\n",
       "      <td>3.2</td>\n",
       "      <td>-3</td>\n",
       "      <td>2.54</td>\n",
       "    </tr>\n",
       "    <tr>\n",
       "      <th>2005</th>\n",
       "      <td>0.727</td>\n",
       "      <td>8.6</td>\n",
       "      <td>67.6</td>\n",
       "      <td>5.8</td>\n",
       "      <td>11.7</td>\n",
       "      <td>108.5</td>\n",
       "      <td>76.3</td>\n",
       "      <td>51.8</td>\n",
       "      <td>0.595</td>\n",
       "      <td>12.3</td>\n",
       "      <td>...</td>\n",
       "      <td>75.3</td>\n",
       "      <td>77.8</td>\n",
       "      <td>72.9</td>\n",
       "      <td>0.851</td>\n",
       "      <td>15291</td>\n",
       "      <td>0.76</td>\n",
       "      <td>62.4</td>\n",
       "      <td>3</td>\n",
       "      <td>-0.7</td>\n",
       "      <td>2.59</td>\n",
       "    </tr>\n",
       "    <tr>\n",
       "      <th>2006</th>\n",
       "      <td>0.736</td>\n",
       "      <td>8.7</td>\n",
       "      <td>69.1</td>\n",
       "      <td>6</td>\n",
       "      <td>11.6</td>\n",
       "      <td>110.1</td>\n",
       "      <td>76.6</td>\n",
       "      <td>50.7</td>\n",
       "      <td>0.61</td>\n",
       "      <td>12.4</td>\n",
       "      <td>...</td>\n",
       "      <td>75.5</td>\n",
       "      <td>77.9</td>\n",
       "      <td>73.1</td>\n",
       "      <td>0.854</td>\n",
       "      <td>15731</td>\n",
       "      <td>0.764</td>\n",
       "      <td>56.1</td>\n",
       "      <td>2.1</td>\n",
       "      <td>-1.5</td>\n",
       "      <td>2.72</td>\n",
       "    </tr>\n",
       "    <tr>\n",
       "      <th>2007</th>\n",
       "      <td>0.739</td>\n",
       "      <td>8.8</td>\n",
       "      <td>70.6</td>\n",
       "      <td>6.2</td>\n",
       "      <td>11.5</td>\n",
       "      <td>111.8</td>\n",
       "      <td>76.9</td>\n",
       "      <td>49.6</td>\n",
       "      <td>0.613</td>\n",
       "      <td>12.5</td>\n",
       "      <td>...</td>\n",
       "      <td>75.7</td>\n",
       "      <td>78.1</td>\n",
       "      <td>73.2</td>\n",
       "      <td>0.856</td>\n",
       "      <td>16283</td>\n",
       "      <td>0.769</td>\n",
       "      <td>56.8</td>\n",
       "      <td>3.1</td>\n",
       "      <td>-1.9</td>\n",
       "      <td>2.55</td>\n",
       "    </tr>\n",
       "    <tr>\n",
       "      <th>2008</th>\n",
       "      <td>0.742</td>\n",
       "      <td>8.9</td>\n",
       "      <td>72.2</td>\n",
       "      <td>6.5</td>\n",
       "      <td>11.5</td>\n",
       "      <td>113.7</td>\n",
       "      <td>77.2</td>\n",
       "      <td>48.5</td>\n",
       "      <td>0.619</td>\n",
       "      <td>12.6</td>\n",
       "      <td>...</td>\n",
       "      <td>75.8</td>\n",
       "      <td>78.2</td>\n",
       "      <td>73.4</td>\n",
       "      <td>0.858</td>\n",
       "      <td>16262</td>\n",
       "      <td>0.769</td>\n",
       "      <td>57.8</td>\n",
       "      <td>2.9</td>\n",
       "      <td>-4.4</td>\n",
       "      <td>2.35</td>\n",
       "    </tr>\n",
       "    <tr>\n",
       "      <th>2009</th>\n",
       "      <td>0.743</td>\n",
       "      <td>9.1</td>\n",
       "      <td>73.8</td>\n",
       "      <td>6.7</td>\n",
       "      <td>11.5</td>\n",
       "      <td>115.5</td>\n",
       "      <td>77.5</td>\n",
       "      <td>47.4</td>\n",
       "      <td>0.627</td>\n",
       "      <td>12.7</td>\n",
       "      <td>...</td>\n",
       "      <td>75.9</td>\n",
       "      <td>78.4</td>\n",
       "      <td>73.5</td>\n",
       "      <td>0.861</td>\n",
       "      <td>15228</td>\n",
       "      <td>0.759</td>\n",
       "      <td>56</td>\n",
       "      <td>2.2</td>\n",
       "      <td>1.7</td>\n",
       "      <td>2.45</td>\n",
       "    </tr>\n",
       "    <tr>\n",
       "      <th>2010</th>\n",
       "      <td>0.743</td>\n",
       "      <td>9.2</td>\n",
       "      <td>75.4</td>\n",
       "      <td>6.9</td>\n",
       "      <td>11.4</td>\n",
       "      <td>117.3</td>\n",
       "      <td>77.8</td>\n",
       "      <td>46.3</td>\n",
       "      <td>0.623</td>\n",
       "      <td>12.8</td>\n",
       "      <td>...</td>\n",
       "      <td>76.1</td>\n",
       "      <td>78.5</td>\n",
       "      <td>73.7</td>\n",
       "      <td>0.863</td>\n",
       "      <td>15770</td>\n",
       "      <td>0.764</td>\n",
       "      <td>60.8</td>\n",
       "      <td>2</td>\n",
       "      <td>-3.9</td>\n",
       "      <td>2.09</td>\n",
       "    </tr>\n",
       "    <tr>\n",
       "      <th>2011</th>\n",
       "      <td>0.751</td>\n",
       "      <td>9.3</td>\n",
       "      <td>77</td>\n",
       "      <td>7.1</td>\n",
       "      <td>11.4</td>\n",
       "      <td>119.1</td>\n",
       "      <td>78.1</td>\n",
       "      <td>45.3</td>\n",
       "      <td>0.638</td>\n",
       "      <td>12.9</td>\n",
       "      <td>...</td>\n",
       "      <td>76.3</td>\n",
       "      <td>78.7</td>\n",
       "      <td>73.8</td>\n",
       "      <td>0.865</td>\n",
       "      <td>15960</td>\n",
       "      <td>0.766</td>\n",
       "      <td>63.5</td>\n",
       "      <td>2.1</td>\n",
       "      <td>-4.9</td>\n",
       "      <td>1.99</td>\n",
       "    </tr>\n",
       "    <tr>\n",
       "      <th>2012</th>\n",
       "      <td>0.757</td>\n",
       "      <td>9.4</td>\n",
       "      <td>78.6</td>\n",
       "      <td>7.4</td>\n",
       "      <td>11.5</td>\n",
       "      <td>120.8</td>\n",
       "      <td>78.4</td>\n",
       "      <td>44.3</td>\n",
       "      <td>0.65</td>\n",
       "      <td>13.1</td>\n",
       "      <td>...</td>\n",
       "      <td>76.4</td>\n",
       "      <td>78.8</td>\n",
       "      <td>74</td>\n",
       "      <td>0.868</td>\n",
       "      <td>16165</td>\n",
       "      <td>0.768</td>\n",
       "      <td>65.8</td>\n",
       "      <td>1.5</td>\n",
       "      <td>-4.7</td>\n",
       "      <td>1.93</td>\n",
       "    </tr>\n",
       "    <tr>\n",
       "      <th>2013</th>\n",
       "      <td>0.756</td>\n",
       "      <td>9.5</td>\n",
       "      <td>80.2</td>\n",
       "      <td>7.6</td>\n",
       "      <td>11.5</td>\n",
       "      <td>122.5</td>\n",
       "      <td>78.7</td>\n",
       "      <td>43.4</td>\n",
       "      <td>0.648</td>\n",
       "      <td>13.3</td>\n",
       "      <td>...</td>\n",
       "      <td>76.6</td>\n",
       "      <td>79</td>\n",
       "      <td>74.1</td>\n",
       "      <td>0.87</td>\n",
       "      <td>15991</td>\n",
       "      <td>0.767</td>\n",
       "      <td>63.8</td>\n",
       "      <td>3.7</td>\n",
       "      <td>-6</td>\n",
       "      <td>1.82</td>\n",
       "    </tr>\n",
       "    <tr>\n",
       "      <th>2014</th>\n",
       "      <td>0.761</td>\n",
       "      <td>9.6</td>\n",
       "      <td>81.7</td>\n",
       "      <td>7.9</td>\n",
       "      <td>11.5</td>\n",
       "      <td>124.2</td>\n",
       "      <td>79</td>\n",
       "      <td>42.5</td>\n",
       "      <td>0.655</td>\n",
       "      <td>13.5</td>\n",
       "      <td>...</td>\n",
       "      <td>76.8</td>\n",
       "      <td>79.2</td>\n",
       "      <td>74.3</td>\n",
       "      <td>0.873</td>\n",
       "      <td>16292</td>\n",
       "      <td>0.769</td>\n",
       "      <td>65</td>\n",
       "      <td>2.3</td>\n",
       "      <td>-5.5</td>\n",
       "      <td>1.89</td>\n",
       "    </tr>\n",
       "    <tr>\n",
       "      <th>2015</th>\n",
       "      <td>0.767</td>\n",
       "      <td>9.8</td>\n",
       "      <td>83.1</td>\n",
       "      <td>8.2</td>\n",
       "      <td>11.5</td>\n",
       "      <td>125.9</td>\n",
       "      <td>79.3</td>\n",
       "      <td>41.6</td>\n",
       "      <td>0.666</td>\n",
       "      <td>13.7</td>\n",
       "      <td>...</td>\n",
       "      <td>76.9</td>\n",
       "      <td>79.4</td>\n",
       "      <td>74.5</td>\n",
       "      <td>0.876</td>\n",
       "      <td>16569</td>\n",
       "      <td>0.772</td>\n",
       "      <td>71.2</td>\n",
       "      <td>3.1</td>\n",
       "      <td>-4.2</td>\n",
       "      <td>2.24</td>\n",
       "    </tr>\n",
       "    <tr>\n",
       "      <th>2016</th>\n",
       "      <td>0.772</td>\n",
       "      <td>10</td>\n",
       "      <td>84.5</td>\n",
       "      <td>8.5</td>\n",
       "      <td>11.6</td>\n",
       "      <td>127.5</td>\n",
       "      <td>79.6</td>\n",
       "      <td>40.9</td>\n",
       "      <td>0.678</td>\n",
       "      <td>14.1</td>\n",
       "      <td>...</td>\n",
       "      <td>77.1</td>\n",
       "      <td>79.5</td>\n",
       "      <td>74.7</td>\n",
       "      <td>0.879</td>\n",
       "      <td>16623</td>\n",
       "      <td>0.772</td>\n",
       "      <td>76.2</td>\n",
       "      <td>3.2</td>\n",
       "      <td>-5.5</td>\n",
       "      <td>2.66</td>\n",
       "    </tr>\n",
       "    <tr>\n",
       "      <th>2017</th>\n",
       "      <td>0.774</td>\n",
       "      <td>10.3</td>\n",
       "      <td>85.9</td>\n",
       "      <td>8.9</td>\n",
       "      <td>11.5</td>\n",
       "      <td>129.2</td>\n",
       "      <td>79.9</td>\n",
       "      <td>40.1</td>\n",
       "      <td>0.678</td>\n",
       "      <td>14.1</td>\n",
       "      <td>...</td>\n",
       "      <td>77.3</td>\n",
       "      <td>79.7</td>\n",
       "      <td>74.9</td>\n",
       "      <td>0.882</td>\n",
       "      <td>16944</td>\n",
       "      <td>0.775</td>\n",
       "      <td>77.6</td>\n",
       "      <td>2.8</td>\n",
       "      <td>-2.9</td>\n",
       "      <td>2.66</td>\n",
       "    </tr>\n",
       "  </tbody>\n",
       "</table>\n",
       "<p>28 rows × 29 columns</p>\n",
       "</div>"
      ],
      "text/plain": [
       "indicator_name Human Development Index (HDI)  \\\n",
       "1990                                    0.65   \n",
       "1991                                   0.654   \n",
       "1992                                   0.658   \n",
       "1993                                   0.663   \n",
       "1994                                    0.67   \n",
       "1995                                   0.669   \n",
       "1996                                   0.677   \n",
       "1997                                   0.683   \n",
       "1998                                    0.69   \n",
       "1999                                   0.695   \n",
       "2000                                   0.702   \n",
       "2001                                   0.704   \n",
       "2002                                    0.71   \n",
       "2003                                   0.717   \n",
       "2004                                   0.724   \n",
       "2005                                   0.727   \n",
       "2006                                   0.736   \n",
       "2007                                   0.739   \n",
       "2008                                   0.742   \n",
       "2009                                   0.743   \n",
       "2010                                   0.743   \n",
       "2011                                   0.751   \n",
       "2012                                   0.757   \n",
       "2013                                   0.756   \n",
       "2014                                   0.761   \n",
       "2015                                   0.767   \n",
       "2016                                   0.772   \n",
       "2017                                   0.774   \n",
       "\n",
       "indicator_name Old-age (65 and older) dependency ratio (per 100 people ages 15-64)  \\\n",
       "1990                                                          7.5                    \n",
       "1991                                                          7.6                    \n",
       "1992                                                          7.6                    \n",
       "1993                                                          7.7                    \n",
       "1994                                                          7.8                    \n",
       "1995                                                          7.8                    \n",
       "1996                                                          7.9                    \n",
       "1997                                                            8                    \n",
       "1998                                                          8.1                    \n",
       "1999                                                          8.2                    \n",
       "2000                                                          8.3                    \n",
       "2001                                                          8.4                    \n",
       "2002                                                          8.4                    \n",
       "2003                                                          8.5                    \n",
       "2004                                                          8.5                    \n",
       "2005                                                          8.6                    \n",
       "2006                                                          8.7                    \n",
       "2007                                                          8.8                    \n",
       "2008                                                          8.9                    \n",
       "2009                                                          9.1                    \n",
       "2010                                                          9.2                    \n",
       "2011                                                          9.3                    \n",
       "2012                                                          9.4                    \n",
       "2013                                                          9.5                    \n",
       "2014                                                          9.6                    \n",
       "2015                                                          9.8                    \n",
       "2016                                                           10                    \n",
       "2017                                                         10.3                    \n",
       "\n",
       "indicator_name Population ages 15–64 (millions)  \\\n",
       "1990                                       48.4   \n",
       "1991                                       49.8   \n",
       "1992                                       51.3   \n",
       "1993                                       52.8   \n",
       "1994                                       54.2   \n",
       "1995                                       55.6   \n",
       "1996                                       56.9   \n",
       "1997                                       58.2   \n",
       "1998                                       59.4   \n",
       "1999                                       60.6   \n",
       "2000                                       61.7   \n",
       "2001                                       62.9   \n",
       "2002                                         64   \n",
       "2003                                       65.2   \n",
       "2004                                       66.4   \n",
       "2005                                       67.6   \n",
       "2006                                       69.1   \n",
       "2007                                       70.6   \n",
       "2008                                       72.2   \n",
       "2009                                       73.8   \n",
       "2010                                       75.4   \n",
       "2011                                         77   \n",
       "2012                                       78.6   \n",
       "2013                                       80.2   \n",
       "2014                                       81.7   \n",
       "2015                                       83.1   \n",
       "2016                                       84.5   \n",
       "2017                                       85.9   \n",
       "\n",
       "indicator_name Population ages 65 and older (millions)  \\\n",
       "1990                                               3.6   \n",
       "1991                                               3.8   \n",
       "1992                                               3.9   \n",
       "1993                                               4.1   \n",
       "1994                                               4.2   \n",
       "1995                                               4.4   \n",
       "1996                                               4.5   \n",
       "1997                                               4.7   \n",
       "1998                                               4.8   \n",
       "1999                                                 5   \n",
       "2000                                               5.1   \n",
       "2001                                               5.3   \n",
       "2002                                               5.4   \n",
       "2003                                               5.5   \n",
       "2004                                               5.7   \n",
       "2005                                               5.8   \n",
       "2006                                                 6   \n",
       "2007                                               6.2   \n",
       "2008                                               6.5   \n",
       "2009                                               6.7   \n",
       "2010                                               6.9   \n",
       "2011                                               7.1   \n",
       "2012                                               7.4   \n",
       "2013                                               7.6   \n",
       "2014                                               7.9   \n",
       "2015                                               8.2   \n",
       "2016                                               8.5   \n",
       "2017                                               8.9   \n",
       "\n",
       "indicator_name Population under age 5 (millions) Total population (millions)  \\\n",
       "1990                                        11.5                        85.4   \n",
       "1991                                        11.6                        87.1   \n",
       "1992                                        11.7                        88.8   \n",
       "1993                                        11.8                        90.6   \n",
       "1994                                        11.8                        92.3   \n",
       "1995                                        11.8                          94   \n",
       "1996                                        11.9                        95.7   \n",
       "1997                                        11.9                        97.3   \n",
       "1998                                          12                        98.8   \n",
       "1999                                          12                       100.3   \n",
       "2000                                          12                       101.7   \n",
       "2001                                          12                       103.1   \n",
       "2002                                          12                       104.4   \n",
       "2003                                        11.9                       105.6   \n",
       "2004                                        11.8                         107   \n",
       "2005                                        11.7                       108.5   \n",
       "2006                                        11.6                       110.1   \n",
       "2007                                        11.5                       111.8   \n",
       "2008                                        11.5                       113.7   \n",
       "2009                                        11.5                       115.5   \n",
       "2010                                        11.4                       117.3   \n",
       "2011                                        11.4                       119.1   \n",
       "2012                                        11.5                       120.8   \n",
       "2013                                        11.5                       122.5   \n",
       "2014                                        11.5                       124.2   \n",
       "2015                                        11.5                       125.9   \n",
       "2016                                        11.6                       127.5   \n",
       "2017                                        11.5                       129.2   \n",
       "\n",
       "indicator_name Urban population (%)  \\\n",
       "1990                           71.4   \n",
       "1991                           71.8   \n",
       "1992                           72.2   \n",
       "1993                           72.6   \n",
       "1994                             73   \n",
       "1995                           73.4   \n",
       "1996                           73.7   \n",
       "1997                           73.9   \n",
       "1998                           74.2   \n",
       "1999                           74.4   \n",
       "2000                           74.7   \n",
       "2001                             75   \n",
       "2002                           75.4   \n",
       "2003                           75.7   \n",
       "2004                             76   \n",
       "2005                           76.3   \n",
       "2006                           76.6   \n",
       "2007                           76.9   \n",
       "2008                           77.2   \n",
       "2009                           77.5   \n",
       "2010                           77.8   \n",
       "2011                           78.1   \n",
       "2012                           78.4   \n",
       "2013                           78.7   \n",
       "2014                             79   \n",
       "2015                           79.3   \n",
       "2016                           79.6   \n",
       "2017                           79.9   \n",
       "\n",
       "indicator_name Young age (0-14) dependency ratio (per 100 people ages 15-64)  \\\n",
       "1990                                                         68.9              \n",
       "1991                                                         67.1              \n",
       "1992                                                         65.4              \n",
       "1993                                                         63.9              \n",
       "1994                                                         62.5              \n",
       "1995                                                         61.2              \n",
       "1996                                                         60.1              \n",
       "1997                                                         59.1              \n",
       "1998                                                         58.2              \n",
       "1999                                                         57.3              \n",
       "2000                                                         56.4              \n",
       "2001                                                         55.5              \n",
       "2002                                                         54.6              \n",
       "2003                                                         53.6              \n",
       "2004                                                         52.7              \n",
       "2005                                                         51.8              \n",
       "2006                                                         50.7              \n",
       "2007                                                         49.6              \n",
       "2008                                                         48.5              \n",
       "2009                                                         47.4              \n",
       "2010                                                         46.3              \n",
       "2011                                                         45.3              \n",
       "2012                                                         44.3              \n",
       "2013                                                         43.4              \n",
       "2014                                                         42.5              \n",
       "2015                                                         41.6              \n",
       "2016                                                         40.9              \n",
       "2017                                                         40.1              \n",
       "\n",
       "indicator_name Education index Expected years of schooling (years)  ...  \\\n",
       "1990                      0.48                                10.6  ...   \n",
       "1991                     0.481                                10.5  ...   \n",
       "1992                     0.487                                10.5  ...   \n",
       "1993                     0.491                                10.4  ...   \n",
       "1994                       0.5                                10.5  ...   \n",
       "1995                      0.51                                10.7  ...   \n",
       "1996                     0.517                                10.8  ...   \n",
       "1997                     0.523                                  11  ...   \n",
       "1998                     0.532                                11.3  ...   \n",
       "1999                     0.538                                11.4  ...   \n",
       "2000                     0.548                                11.7  ...   \n",
       "2001                     0.554                                11.8  ...   \n",
       "2002                     0.566                                  12  ...   \n",
       "2003                     0.579                                12.3  ...   \n",
       "2004                     0.588                                12.3  ...   \n",
       "2005                     0.595                                12.3  ...   \n",
       "2006                      0.61                                12.4  ...   \n",
       "2007                     0.613                                12.5  ...   \n",
       "2008                     0.619                                12.6  ...   \n",
       "2009                     0.627                                12.7  ...   \n",
       "2010                     0.623                                12.8  ...   \n",
       "2011                     0.638                                12.9  ...   \n",
       "2012                      0.65                                13.1  ...   \n",
       "2013                     0.648                                13.3  ...   \n",
       "2014                     0.655                                13.5  ...   \n",
       "2015                     0.666                                13.7  ...   \n",
       "2016                     0.678                                14.1  ...   \n",
       "2017                     0.678                                14.1  ...   \n",
       "\n",
       "indicator_name Life expectancy at birth (years)  \\\n",
       "1990                                       70.8   \n",
       "1991                                       71.2   \n",
       "1992                                       71.6   \n",
       "1993                                         72   \n",
       "1994                                       72.4   \n",
       "1995                                       72.8   \n",
       "1996                                       73.2   \n",
       "1997                                       73.5   \n",
       "1998                                       73.8   \n",
       "1999                                       74.1   \n",
       "2000                                       74.4   \n",
       "2001                                       74.6   \n",
       "2002                                       74.8   \n",
       "2003                                         75   \n",
       "2004                                       75.2   \n",
       "2005                                       75.3   \n",
       "2006                                       75.5   \n",
       "2007                                       75.7   \n",
       "2008                                       75.8   \n",
       "2009                                       75.9   \n",
       "2010                                       76.1   \n",
       "2011                                       76.3   \n",
       "2012                                       76.4   \n",
       "2013                                       76.6   \n",
       "2014                                       76.8   \n",
       "2015                                       76.9   \n",
       "2016                                       77.1   \n",
       "2017                                       77.3   \n",
       "\n",
       "indicator_name Life expectancy at birth, female (years)  \\\n",
       "1990                                               73.8   \n",
       "1991                                               74.2   \n",
       "1992                                               74.5   \n",
       "1993                                               74.8   \n",
       "1994                                               75.1   \n",
       "1995                                               75.4   \n",
       "1996                                               75.7   \n",
       "1997                                                 76   \n",
       "1998                                               76.2   \n",
       "1999                                               76.5   \n",
       "2000                                               76.8   \n",
       "2001                                                 77   \n",
       "2002                                               77.2   \n",
       "2003                                               77.4   \n",
       "2004                                               77.6   \n",
       "2005                                               77.8   \n",
       "2006                                               77.9   \n",
       "2007                                               78.1   \n",
       "2008                                               78.2   \n",
       "2009                                               78.4   \n",
       "2010                                               78.5   \n",
       "2011                                               78.7   \n",
       "2012                                               78.8   \n",
       "2013                                                 79   \n",
       "2014                                               79.2   \n",
       "2015                                               79.4   \n",
       "2016                                               79.5   \n",
       "2017                                               79.7   \n",
       "\n",
       "indicator_name Life expectancy at birth, male (years) Life expectancy index  \\\n",
       "1990                                             67.9                 0.782   \n",
       "1991                                             68.4                 0.788   \n",
       "1992                                             68.8                 0.794   \n",
       "1993                                             69.3                   0.8   \n",
       "1994                                             69.8                 0.806   \n",
       "1995                                             70.2                 0.812   \n",
       "1996                                             70.7                 0.818   \n",
       "1997                                               71                 0.823   \n",
       "1998                                             71.4                 0.828   \n",
       "1999                                             71.7                 0.832   \n",
       "2000                                             71.9                 0.836   \n",
       "2001                                             72.2                  0.84   \n",
       "2002                                             72.4                 0.843   \n",
       "2003                                             72.6                 0.846   \n",
       "2004                                             72.7                 0.849   \n",
       "2005                                             72.9                 0.851   \n",
       "2006                                             73.1                 0.854   \n",
       "2007                                             73.2                 0.856   \n",
       "2008                                             73.4                 0.858   \n",
       "2009                                             73.5                 0.861   \n",
       "2010                                             73.7                 0.863   \n",
       "2011                                             73.8                 0.865   \n",
       "2012                                               74                 0.868   \n",
       "2013                                             74.1                  0.87   \n",
       "2014                                             74.3                 0.873   \n",
       "2015                                             74.5                 0.876   \n",
       "2016                                             74.7                 0.879   \n",
       "2017                                             74.9                 0.882   \n",
       "\n",
       "indicator_name Gross national income (GNI) per capita (2011 PPP $)  \\\n",
       "1990                                                        12690    \n",
       "1991                                                        13030    \n",
       "1992                                                        13245    \n",
       "1993                                                        13622    \n",
       "1994                                                        13896    \n",
       "1995                                                        12047    \n",
       "1996                                                        12864    \n",
       "1997                                                        13539    \n",
       "1998                                                        13922    \n",
       "1999                                                        14315    \n",
       "2000                                                        14814    \n",
       "2001                                                        14486    \n",
       "2002                                                        14371    \n",
       "2003                                                        14667    \n",
       "2004                                                        15187    \n",
       "2005                                                        15291    \n",
       "2006                                                        15731    \n",
       "2007                                                        16283    \n",
       "2008                                                        16262    \n",
       "2009                                                        15228    \n",
       "2010                                                        15770    \n",
       "2011                                                        15960    \n",
       "2012                                                        16165    \n",
       "2013                                                        15991    \n",
       "2014                                                        16292    \n",
       "2015                                                        16569    \n",
       "2016                                                        16623    \n",
       "2017                                                        16944    \n",
       "\n",
       "indicator_name Income index Exports and imports (% of GDP)  \\\n",
       "1990                  0.732                           38.3   \n",
       "1991                  0.736                           35.6   \n",
       "1992                  0.738                           35.5   \n",
       "1993                  0.742                           27.8   \n",
       "1994                  0.745                           30.7   \n",
       "1995                  0.724                           46.3   \n",
       "1996                  0.734                           50.4   \n",
       "1997                  0.741                           48.8   \n",
       "1998                  0.746                             51   \n",
       "1999                   0.75                           50.6   \n",
       "2000                  0.755                           52.4   \n",
       "2001                  0.752                           47.2   \n",
       "2002                   0.75                           46.7   \n",
       "2003                  0.753                           50.2   \n",
       "2004                  0.759                           58.4   \n",
       "2005                   0.76                           62.4   \n",
       "2006                  0.764                           56.1   \n",
       "2007                  0.769                           56.8   \n",
       "2008                  0.769                           57.8   \n",
       "2009                  0.759                             56   \n",
       "2010                  0.764                           60.8   \n",
       "2011                  0.766                           63.5   \n",
       "2012                  0.768                           65.8   \n",
       "2013                  0.767                           63.8   \n",
       "2014                  0.769                             65   \n",
       "2015                  0.772                           71.2   \n",
       "2016                  0.772                           76.2   \n",
       "2017                  0.775                           77.6   \n",
       "\n",
       "indicator_name Foreign direct investment, net inflows (% of GDP)  \\\n",
       "1990                                                           1   \n",
       "1991                                                         1.5   \n",
       "1992                                                         1.2   \n",
       "1993                                                         0.9   \n",
       "1994                                                         2.1   \n",
       "1995                                                         2.6   \n",
       "1996                                                         2.2   \n",
       "1997                                                         2.6   \n",
       "1998                                                         2.4   \n",
       "1999                                                         2.3   \n",
       "2000                                                         2.6   \n",
       "2001                                                           4   \n",
       "2002                                                         3.1   \n",
       "2003                                                         2.5   \n",
       "2004                                                         3.2   \n",
       "2005                                                           3   \n",
       "2006                                                         2.1   \n",
       "2007                                                         3.1   \n",
       "2008                                                         2.9   \n",
       "2009                                                         2.2   \n",
       "2010                                                           2   \n",
       "2011                                                         2.1   \n",
       "2012                                                         1.5   \n",
       "2013                                                         3.7   \n",
       "2014                                                         2.3   \n",
       "2015                                                         3.1   \n",
       "2016                                                         3.2   \n",
       "2017                                                         2.8   \n",
       "\n",
       "indicator_name Private capital flows (% of GDP)  \\\n",
       "1990                                        0.5   \n",
       "1991                                       -5.4   \n",
       "1992                                       -6.5   \n",
       "1993                                       -6.5   \n",
       "1994                                       -3.5   \n",
       "1995                                        0.2   \n",
       "1996                                       -5.6   \n",
       "1997                                       -3.4   \n",
       "1998                                       -2.6   \n",
       "1999                                       -4.1   \n",
       "2000                                       -2.8   \n",
       "2001                                       -4.1   \n",
       "2002                                         -3   \n",
       "2003                                       -2.9   \n",
       "2004                                         -3   \n",
       "2005                                       -0.7   \n",
       "2006                                       -1.5   \n",
       "2007                                       -1.9   \n",
       "2008                                       -4.4   \n",
       "2009                                        1.7   \n",
       "2010                                       -3.9   \n",
       "2011                                       -4.9   \n",
       "2012                                       -4.7   \n",
       "2013                                         -6   \n",
       "2014                                       -5.5   \n",
       "2015                                       -4.2   \n",
       "2016                                       -5.5   \n",
       "2017                                       -2.9   \n",
       "\n",
       "indicator_name Remittances, inflows (% of GDP)  \n",
       "1990                                      1.18  \n",
       "1991                                      0.96  \n",
       "1992                                      1.02  \n",
       "1993                                      0.79  \n",
       "1994                                      0.78  \n",
       "1995                                      1.21  \n",
       "1996                                       1.2  \n",
       "1997                                      1.11  \n",
       "1998                                      1.23  \n",
       "1999                                      1.11  \n",
       "2000                                      1.06  \n",
       "2001                                      1.34  \n",
       "2002                                      1.43  \n",
       "2003                                      2.28  \n",
       "2004                                      2.54  \n",
       "2005                                      2.59  \n",
       "2006                                      2.72  \n",
       "2007                                      2.55  \n",
       "2008                                      2.35  \n",
       "2009                                      2.45  \n",
       "2010                                      2.09  \n",
       "2011                                      1.99  \n",
       "2012                                      1.93  \n",
       "2013                                      1.82  \n",
       "2014                                      1.89  \n",
       "2015                                      2.24  \n",
       "2016                                      2.66  \n",
       "2017                                      2.66  \n",
       "\n",
       "[28 rows x 29 columns]"
      ]
     },
     "execution_count": 226,
     "metadata": {},
     "output_type": "execute_result"
    }
   ],
   "source": [
    "mex_t.columns=mex_t.iloc[0]\n",
    "df=mex_t.reindex(mex_t.index.drop('indicator_name'))\n",
    "df"
   ]
  },
  {
   "cell_type": "code",
   "execution_count": 227,
   "metadata": {},
   "outputs": [
    {
     "data": {
      "text/plain": [
       "['Expected years of schooling (years)',\n",
       " 'Expected years of schooling, female (years)',\n",
       " 'Expected years of schooling, male (years)',\n",
       " 'Mean years of schooling (years)',\n",
       " 'Mean years of schooling, female (years)',\n",
       " 'Mean years of schooling, male (years)']"
      ]
     },
     "execution_count": 227,
     "metadata": {},
     "output_type": "execute_result"
    }
   ],
   "source": [
    "edu_cols=[x for x in df.columns if 'schooling' in x ]\n",
    "edu_cols"
   ]
  },
  {
   "cell_type": "code",
   "execution_count": 228,
   "metadata": {},
   "outputs": [
    {
     "data": {
      "image/png": "[encoded data removed]",
      "text/plain": [
       "<Figure size 1152x576 with 1 Axes>"
      ]
     },
     "metadata": {
      "needs_background": "light"
     },
     "output_type": "display_data"
    }
   ],
   "source": [
    "df.plot.line(y=edu_cols,figsize=(16,8));"
   ]
  },
  {
   "cell_type": "code",
   "execution_count": 229,
   "metadata": {},
   "outputs": [
    {
     "data": {
      "text/plain": [
       "['Exports and imports (% of GDP)',\n",
       " 'Foreign direct investment, net inflows (% of GDP)',\n",
       " 'Private capital flows (% of GDP)',\n",
       " 'Remittances, inflows (% of GDP)']"
      ]
     },
     "execution_count": 229,
     "metadata": {},
     "output_type": "execute_result"
    }
   ],
   "source": [
    "gdp_cols=[x for x in df.columns if 'GDP' in x ]\n",
    "gdp_cols"
   ]
  },
  {
   "cell_type": "code",
   "execution_count": 230,
   "metadata": {},
   "outputs": [
    {
     "data": {
      "image/png": "[encoded data removed]",
      "text/plain": [
       "<Figure size 1152x576 with 1 Axes>"
      ]
     },
     "metadata": {
      "needs_background": "light"
     },
     "output_type": "display_data"
    }
   ],
   "source": [
    "df.plot.line(y=gdp_cols,figsize=(16,8));"
   ]
  },
  {
   "cell_type": "markdown",
   "metadata": {},
   "source": [
    "# Conclusions\n",
    "\n",
    "In this notebook we explore:\n",
    "\n",
    " 1. Introduction\n",
    "     1. Zen of Python\n",
    "     1. Optimization\n",
    " 1. Python Syntax I\n",
    "     1. Variables\n",
    "     1. Data Types\n",
    "     1. Mathematical Operations\n",
    " 1. Python Syntax II\n",
    "     1. Containers\n",
    "     1. Loops\n",
    "     1. Conditionals\n",
    " 1. Python Syntax III\n",
    "     1. Functions\n",
    " 1. Python Syntax IV\n",
    "     1. Classes\n",
    " 1. Differences between Python 2.x and 3.x\n",
    "     1. Print\n",
    "     1. Integer division\n",
    " 1. A brief overview of external packages for Scientific Computing\n",
    "     1. Numpy\n",
    "     1. SciPy\n",
    "     1. Matplotlib\n",
    "     1. SymPy\n",
    "     1. Pandas\n",
    " "
   ]
  }
 ],
 "metadata": {
  "kernelspec": {
   "display_name": "Python 3",
   "language": "python",
   "name": "python3"
  },
  "language_info": {
   "codemirror_mode": {
    "name": "ipython",
    "version": 3
   },
   "file_extension": ".py",
   "mimetype": "text/x-python",
   "name": "python",
   "nbconvert_exporter": "python",
   "pygments_lexer": "ipython3",
   "version": "3.7.7"
  }
 },
 "nbformat": 4,
 "nbformat_minor": 2
}
