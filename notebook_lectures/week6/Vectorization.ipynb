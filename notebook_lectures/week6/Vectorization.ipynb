{
 "cells": [
  {
   "cell_type": "markdown",
   "metadata": {},
   "source": [
    "# Week 6 Day 1: Vectorization\n",
    "\n",
    "## Objectives:\n",
    "\n",
    "* Become comfortable with arrays > 1D\n",
    "* Work on avoiding loops (even nested ones)"
   ]
  },
  {
   "cell_type": "code",
   "execution_count": null,
   "metadata": {},
   "outputs": [],
   "source": [
    "import numpy as np\n",
    "import matplotlib.pyplot as plt"
   ]
  },
  {
   "cell_type": "markdown",
   "metadata": {},
   "source": [
    "### Vectorized calculations\n",
    "\n",
    "We will rather loosely be using the term \"vectorized\" to mean array-at-a-time computations.\n",
    "True (hardware-level) vectorization actually runs a small set of multiple calculations at the same time on your device - this may or may not happen in our array computations - and it isn't important at the moment."
   ]
  },
  {
   "cell_type": "code",
   "execution_count": null,
   "metadata": {},
   "outputs": [],
   "source": [
    "a = np.array([1, 2, 3, 4])\n",
    "b = np.array([5, 6, 7, 8])\n",
    "\n",
    "# Classic loops:\n",
    "c1 = np.empty_like(a)\n",
    "for i in range(len(a)):\n",
    "    c1[i] = a[i] + b[i]\n",
    "\n",
    "# Array-at-a-time, or \"vectorized\":\n",
    "c2 = a + b"
   ]
  },
  {
   "cell_type": "code",
   "execution_count": null,
   "metadata": {},
   "outputs": [],
   "source": [
    "print(c1)\n",
    "print(c2)"
   ]
  },
  {
   "cell_type": "markdown",
   "metadata": {},
   "source": [
    "Let's try in two diminsions:\n",
    "\n",
    "Note: since I'm explicitly looking at the output values, I'm okay to use square matricies. It's often a nice check to use non-square matricies if you have the choice; it catches missmatches in diminsions!"
   ]
  },
  {
   "cell_type": "code",
   "execution_count": null,
   "metadata": {},
   "outputs": [],
   "source": [
    "a = np.array([[1, 2], [3, 4]])\n",
    "b = np.array([[5, 6], [7, 8]])\n",
    "\n",
    "# Classic loops:\n",
    "c1 = np.empty_like(a)\n",
    "for i in range(a.shape[0]):\n",
    "    for j in range(a.shape[1]):\n",
    "        c1[i, j] = a[i, j] + b[i, j]\n",
    "\n",
    "# Array-at-a-time, or \"vectorized\":\n",
    "c2 = a + b\n",
    "\n",
    "print(c1)\n",
    "print(c2)"
   ]
  },
  {
   "cell_type": "markdown",
   "metadata": {},
   "source": [
    "### Broadcasting reminder:\n",
    "\n",
    "We've seen 1D broadcasting quite a bit: scalars can be mixed with arrays:"
   ]
  },
  {
   "cell_type": "code",
   "execution_count": null,
   "metadata": {},
   "outputs": [],
   "source": [
    "np.array([1, 2]) + 1"
   ]
  },
  {
   "cell_type": "markdown",
   "metadata": {},
   "source": [
    "That expands to multiple diminsions like this:\n",
    "\n",
    "```\n",
    "(a, b, ..., z) OP (a, b, ..., z) -> element wise\n",
    "(a, b, ..., z) OP (a, 1, ..., z) -> length 1 instead of b -> duplicated b times\n",
    "(a, b, ..., z) OP (b, ..., z) -> prepend a diminsion of length 1 -> see above\n",
    "```\n",
    "\n",
    "The third rule explains scalars, but is a bit problematic. Try to use the second rule when possible instead."
   ]
  },
  {
   "cell_type": "code",
   "execution_count": null,
   "metadata": {},
   "outputs": [],
   "source": [
    "print(np.ones([2, 3]) + np.ones([2, 3]))\n",
    "print(np.ones([2, 3]) + np.ones([1, 3]))\n",
    "print(np.ones([2, 3]) + np.ones([3]))"
   ]
  },
  {
   "cell_type": "markdown",
   "metadata": {},
   "source": [
    "## Memory layout\n",
    "\n",
    "Computer memory is linear. It might be fragmented a bit, but it is not 2D or 3D. (and if it was, it would be even harder to manage). So, all objects more than 1D have to be laid out in some fasion. There are three choices for 2D arrays:\n",
    "* Pointers to 1D arrays. Requires look ups to traverse - bad for performance and memory.\n",
    "* Row major C order. Default in Python. Similar to the way we write.\n",
    "* Column major F order (from Fortran). Default in Matlab, optional in Python.\n",
    "\n",
    "Law: whenever there are two ways to do something, it will always be done both ways.\n"
   ]
  },
  {
   "cell_type": "code",
   "execution_count": null,
   "metadata": {},
   "outputs": [],
   "source": [
    "A = np.array([[1, 2], [3, 4]], order=\"C\")\n",
    "print(A)\n",
    "print(A.flatten(\"K\"))"
   ]
  },
  {
   "cell_type": "code",
   "execution_count": null,
   "metadata": {},
   "outputs": [],
   "source": [
    "A = np.array([[1, 2], [3, 4]], order=\"F\")\n",
    "print(A)\n",
    "print(A.flatten(\"K\"))"
   ]
  },
  {
   "cell_type": "markdown",
   "metadata": {},
   "source": [
    "This matters when we make loops - how do we want the computer to look up the items in the list?"
   ]
  },
  {
   "cell_type": "code",
   "execution_count": null,
   "metadata": {},
   "outputs": [],
   "source": [
    "A = np.array([[1, 2], [3, 4]])\n",
    "\n",
    "print(\"Continious:\", end=\" \")\n",
    "for i in range(2):\n",
    "    print(A[0, i], end=\" \")\n",
    "\n",
    "print()\n",
    "print(\"Not continious:\", end=\" \")\n",
    "for i in range(2):\n",
    "    print(A[i, 0], end=\" \")"
   ]
  },
  {
   "cell_type": "markdown",
   "metadata": {},
   "source": [
    "Numpy hides the details whenever it can. Even if you use Fortran style arrays, everything will still \"just work\"; unless you try hard, even \"flatten\" works the same way - it turns it into a C style flat array even if that's not how it's laid out in memory (add \"K\" to fix). Any method or function that depends on the order will have an `order=` argument. UFuncts will loop in the best order automatically. And Transposes are basically no-ops - they just change from C style to F style and vise versa!"
   ]
  },
  {
   "cell_type": "code",
   "execution_count": null,
   "metadata": {},
   "outputs": [],
   "source": [
    "print(np.isfortran(A))\n",
    "print(np.isfortran(A.T))"
   ]
  },
  {
   "cell_type": "markdown",
   "metadata": {},
   "source": [
    "Note: we'll discuss why `A.T` is the transpose of a matrix in a minute."
   ]
  },
  {
   "cell_type": "markdown",
   "metadata": {},
   "source": [
    "### Questions:\n",
    "* Why is `np.ones([1,3]).reshape([2])` not allowed?\n",
    "* Why is `np.ones([3]).reshape([1,3])` a no op?"
   ]
  },
  {
   "cell_type": "code",
   "execution_count": null,
   "metadata": {},
   "outputs": [],
   "source": [
    "np.ones([3]).flatten(\"K\")"
   ]
  },
  {
   "cell_type": "markdown",
   "metadata": {},
   "source": [
    "Adding a 1 length dimension is basically a \"no-op\" - the memory of the array does not change, just the interpretation of it."
   ]
  },
  {
   "cell_type": "markdown",
   "metadata": {},
   "source": [
    "So why is the auto up-scaling broadcasting (rule 3 above) irritating to use?"
   ]
  },
  {
   "cell_type": "markdown",
   "metadata": {},
   "source": [
    "Given these two brodcasting expressions:\n",
    "\n",
    "$$\n",
    "\\left[\n",
    "\\begin{matrix}\n",
    "1 & 2 \\\\\n",
    "3 & 4\n",
    "\\end{matrix}\n",
    "\\right]\n",
    "\\times\n",
    "\\left[\n",
    "\\begin{matrix}\n",
    "1 & 2\n",
    "\\end{matrix}\n",
    "\\right]\n",
    "$$\n",
    "\n",
    "$$\n",
    "\\left[\n",
    "\\begin{matrix}\n",
    "1 & 2 \\\\\n",
    "3 & 4\n",
    "\\end{matrix}\n",
    "\\right]\n",
    "\\times\n",
    "\\left[\n",
    "\\begin{matrix}\n",
    "1 \\\\\n",
    "2\n",
    "\\end{matrix}\n",
    "\\right]\n",
    "$$\n",
    "\n",
    "What happens if the second one is just a 1D array?"
   ]
  },
  {
   "cell_type": "code",
   "execution_count": null,
   "metadata": {},
   "outputs": [],
   "source": [
    "a = np.array([[1, 2], [3, 4]])\n",
    "\n",
    "print(a * np.array([[1, 2]]))\n",
    "print(a * np.array([[1], [2]]))\n",
    "\n",
    "print(a * np.array([1, 2]))"
   ]
  },
  {
   "cell_type": "code",
   "execution_count": null,
   "metadata": {},
   "outputs": [],
   "source": [
    "A = np.array([[1, 2], [3, 4]])\n",
    "A.T"
   ]
  },
  {
   "cell_type": "markdown",
   "metadata": {},
   "source": [
    "## Aside:\n",
    "\n",
    "Python objects (since Python 2.2, at least) provide **properties** - those are methods that look at at like members!\n",
    "\n",
    "So the following:\n",
    "\n",
    "```python\n",
    "value = object.member\n",
    "```\n",
    "\n",
    "can secretly call a function! (Think `object.member()`, though it's technically calling `object.member.__get__()`.) A similar trick exists for setting, as well.\n",
    "\n",
    "Why would you use them?\n",
    "\n",
    "* You can turn a real member into a property as your class gets more complex\n",
    "* You can avoid some `()` (great for chaining)\n",
    "* You can take advantage of the nice set syntax\n",
    "\n",
    "When would you use them?\n",
    "\n",
    "* Not for long calculations - a user does not expect a program to hang when accessing or setting a member\n",
    "* Only for simple properties that do not have *any* options"
   ]
  },
  {
   "cell_type": "markdown",
   "metadata": {},
   "source": [
    "You can access the transpose of a matrix:"
   ]
  },
  {
   "cell_type": "code",
   "execution_count": null,
   "metadata": {},
   "outputs": [],
   "source": [
    "a.T"
   ]
  },
  {
   "cell_type": "markdown",
   "metadata": {},
   "source": [
    "Since a 1D transpose does nothing, the following expression does not do what you might naively expect:"
   ]
  },
  {
   "cell_type": "code",
   "execution_count": null,
   "metadata": {},
   "outputs": [],
   "source": [
    "# print(a * np.array([1,2]).T)"
   ]
  },
  {
   "cell_type": "markdown",
   "metadata": {},
   "source": [
    "The solution? Make this an explicit row or column vector. Generally, when doing linear algebra, you should be using 2D arrays. This does *not* mean that Python is wrong for having 1D arrays - it just adds flexibility.\n",
    "\n",
    "Quick way to make a column vector:"
   ]
  },
  {
   "cell_type": "code",
   "execution_count": null,
   "metadata": {},
   "outputs": [],
   "source": [
    "print(np.array([[1, 2]]).T)"
   ]
  },
  {
   "cell_type": "markdown",
   "metadata": {},
   "source": [
    "Interesting note: The transpose actually just converts an array between C ordering and F ordering!"
   ]
  },
  {
   "cell_type": "code",
   "execution_count": null,
   "metadata": {},
   "outputs": [],
   "source": [
    "A.flags"
   ]
  },
  {
   "cell_type": "code",
   "execution_count": null,
   "metadata": {},
   "outputs": [],
   "source": [
    "A.T.flags"
   ]
  },
  {
   "cell_type": "markdown",
   "metadata": {},
   "source": [
    "# Vectorization (array computing) with 2D arrays\n",
    "\n",
    "It can be a little tricky to vectorize code, but the speed is worth it, and it can be easier to read in some cases. Let's take an example:"
   ]
  },
  {
   "cell_type": "markdown",
   "metadata": {},
   "source": [
    "We have points in 3D space with a weight W. What is the weighted mean?"
   ]
  },
  {
   "cell_type": "code",
   "execution_count": null,
   "metadata": {},
   "outputs": [],
   "source": [
    "state = np.random.RandomState(42)\n",
    "x = state.rand(10)\n",
    "y = state.rand(10)\n",
    "z = state.rand(10)\n",
    "w = state.rand(10)"
   ]
  },
  {
   "cell_type": "code",
   "execution_count": null,
   "metadata": {},
   "outputs": [],
   "source": [
    "xsum = 0\n",
    "ysum = 0\n",
    "zsum = 0\n",
    "wsum = 0\n",
    "\n",
    "for i in range(len(x)):\n",
    "    xsum += x[i] * w[i]\n",
    "    ysum += y[i] * w[i]\n",
    "    zsum += z[i] * w[i]\n",
    "    wsum += w[i]\n",
    "\n",
    "xsum /= wsum\n",
    "ysum /= wsum\n",
    "zsum /= wsum"
   ]
  },
  {
   "cell_type": "code",
   "execution_count": null,
   "metadata": {},
   "outputs": [],
   "source": [
    "fig, axs = plt.subplots(1, 3, figsize=(14, 4))\n",
    "axs[0].scatter(x, y, s=w * 1000)\n",
    "axs[0].plot(xsum, ysum, \"rx\")\n",
    "axs[1].scatter(x, z, s=w * 1000)\n",
    "axs[1].plot(xsum, zsum, \"rx\")\n",
    "axs[2].scatter(y, z, s=w * 1000)\n",
    "axs[2].plot(ysum, zsum, \"rx\")\n",
    "plt.show()"
   ]
  },
  {
   "cell_type": "code",
   "execution_count": null,
   "metadata": {},
   "outputs": [],
   "source": [
    "# state = np.random.RandomState(42)\n",
    "# M = state.rand(4, 10)\n",
    "M = np.stack([x, y, z])"
   ]
  },
  {
   "cell_type": "code",
   "execution_count": null,
   "metadata": {},
   "outputs": [],
   "source": [
    "M.shape"
   ]
  },
  {
   "cell_type": "code",
   "execution_count": null,
   "metadata": {},
   "outputs": [],
   "source": [
    "Wsum = np.sum(w)\n",
    "Msum = np.sum(M * w, axis=1) / Wsum\n",
    "Msum.shape"
   ]
  },
  {
   "cell_type": "code",
   "execution_count": null,
   "metadata": {},
   "outputs": [],
   "source": [
    "print(Msum == np.array([xsum, ysum, zsum]))"
   ]
  },
  {
   "cell_type": "markdown",
   "metadata": {},
   "source": [
    "### Question: Why is this true?"
   ]
  },
  {
   "cell_type": "code",
   "execution_count": null,
   "metadata": {},
   "outputs": [],
   "source": [
    "M1 = np.stack([x, y, z, w])\n",
    "state = np.random.RandomState(42)\n",
    "M2 = state.rand(4, 10)\n",
    "\n",
    "print(M1 == M2)"
   ]
  },
  {
   "cell_type": "markdown",
   "metadata": {},
   "source": [
    "We can also do this with a 4x10 array."
   ]
  },
  {
   "cell_type": "code",
   "execution_count": null,
   "metadata": {},
   "outputs": [],
   "source": [
    "Wsum2 = np.sum(M2[3])\n",
    "Msum2 = np.sum(M2[:3] * M2[3], axis=1) / Wsum\n",
    "Msum2.shape\n",
    "Msum2 == np.array([xsum, ysum, zsum])"
   ]
  },
  {
   "cell_type": "markdown",
   "metadata": {},
   "source": [
    "This (as we've seen) is nicer to generate, and keeps our number of variables down, but has the issue that it becomes less clear to read. We can use one of two tricks:\n",
    "\n",
    "* Set `w = M2[3]` and `M=[:3]`. These will still be the same memory space (no copy is made - they are just \"views\"), so this does not come at a penalty.\n",
    "* Use a record array, or Pandas. We'll cover this (Pandas, at least) later. If the types of the columns do not match, this is the only way to do it."
   ]
  }
 ],
 "metadata": {
  "kernelspec": {
   "display_name": "compclass",
   "language": "python",
   "name": "compclass"
  },
  "language_info": {
   "codemirror_mode": {
    "name": "ipython",
    "version": 3
   },
   "file_extension": ".py",
   "mimetype": "text/x-python",
   "name": "python",
   "nbconvert_exporter": "python",
   "pygments_lexer": "ipython3",
   "version": "3.8.2"
  }
 },
 "nbformat": 4,
 "nbformat_minor": 4
}
