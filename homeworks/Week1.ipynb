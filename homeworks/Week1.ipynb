{
 "cells": [
  {
   "cell_type": "markdown",
   "metadata": {},
   "source": [
    "# Week one: Basic Python skills\n",
    "\n",
    "(And introduction to weekly problem set format)\n",
    "\n",
    "# WRITE YOUR NAME HERE\n",
    "\n",
    "Create a project in your Github for your first homework. You will get an invitation from me every week. The first time, it will be a process, therefore do not hesitate to ask.\n"
   ]
  },
  {
   "cell_type": "markdown",
   "metadata": {},
   "source": [
    "This course will provide a set of problems, based on a Jupyter notebook that will need to be filled in each week. The goal of filling in the requested pieces is twofold: you should be able to run the worksheet and get the requested answer with the given dataset, and you should also be able to pass with different datasets (not given). These will often check unusual inputs, etc., so try to make sure all possible input datasets are accounted for.\n",
    "\n",
    "To be graded, your notebook must be runnable start to finish. If you can't make an in-notebook test pass, comment it out to attempt to get partial credit. You should replace the `...` markers with your code. Do not change the names of the pre-defined variables and functions that you are supposed to provide; but otherwise, you can do almost anything. Feel free to make helper functions and classes, make extra tests, etc. I will provide working wrappers around whatever you are doing, so you don't need to do anything other than replace `...` with code unless you want to. (One exception: Add your name and UC 6+2 below!)"
   ]
  },
  {
   "cell_type": "code",
   "execution_count": null,
   "metadata": {},
   "outputs": [],
   "source": [
    "# Replace the following lines\n",
    "WVUID = '0800000000'\n",
    "NAME = 'Joe Smith'"
   ]
  },
  {
   "cell_type": "markdown",
   "metadata": {},
   "source": [
    "# Problem 1: Getting started\n",
    "\n",
    "Write a function named `factorial(x)` that computes the factorial of a number. Include a docstring (explaining what the function does, what are the input variables and what is the expected output). Make sure you throw an error (such as ValueError) if x is negative or not an integer. You **must implement this yourself** (you can't use `math.factorial`). You can use the following procedure for the factorial:\n",
    "\n",
    "* Set the result to 1\n",
    "* Loop over the values 1 to x, multiplying the result each time\n",
    "* Return the result\n",
    "\n",
    "Here (as in later problems), I'll put `...` where you should write code."
   ]
  },
  {
   "cell_type": "code",
   "execution_count": null,
   "metadata": {},
   "outputs": [],
   "source": [
    "def factorial(x):\n",
    "    if ...: # Check for invalid input\n",
    "        raise ValueError(f\"Invalid value: x={x}\")\n",
    "    ... # do calculations and return final result (several lines)"
   ]
  },
  {
   "cell_type": "markdown",
   "metadata": {},
   "source": [
    "### Tests\n",
    "\n",
    "Note that you can always add more tests if you like. I'm using the `assert` statement, which throws an error if the expression it expects is `False` (or false-like)."
   ]
  },
  {
   "cell_type": "code",
   "execution_count": null,
   "metadata": {},
   "outputs": [],
   "source": [
    "import math\n",
    "assert math.factorial(10) == factorial(10)"
   ]
  },
  {
   "cell_type": "markdown",
   "metadata": {},
   "source": [
    "# Problem 2: Fun with collections\n",
    "\n",
    "This is a series of manipulations on a tuples. I'll give you some example tuples to test, but your manipulations should work on any iterable input:"
   ]
  },
  {
   "cell_type": "code",
   "execution_count": null,
   "metadata": {},
   "outputs": [],
   "source": [
    "my_tuple_0_10 = tuple(range(10))\n",
    "my_tuple_5_15 = tuple(range(5,15))\n",
    "print(\"my_tuple_0_10 =\", my_tuple_0_10)\n",
    "print(\"my_tuple_5_15 =\", my_tuple_5_15)"
   ]
  },
  {
   "cell_type": "markdown",
   "metadata": {},
   "source": [
    "### 2.1: Select the even elements of an iterable only:\n",
    "\n",
    "Fill in the following function with something that `return`s just the even parts of list. You can use a list comprehension, or build it with an explicit loop; it's up to you. (You can even use a generator if you know that that is, but that's probably overkill)."
   ]
  },
  {
   "cell_type": "code",
   "execution_count": null,
   "metadata": {},
   "outputs": [],
   "source": [
    "def evens(input_list):\n",
    "    ..."
   ]
  },
  {
   "cell_type": "code",
   "execution_count": null,
   "metadata": {},
   "outputs": [],
   "source": [
    "assert tuple(evens(my_tuple_0_10)) == (0,2,4,6,8)"
   ]
  },
  {
   "cell_type": "markdown",
   "metadata": {},
   "source": [
    "### 2.2: Operations on a list\n",
    "\n",
    "Compute the following calculation on every element of the iterable given.\n",
    "\n",
    "$$\n",
    "y = A x^3 + B x^2 + C x + D\n",
    "$$\n",
    "\n",
    "\n",
    "\n",
    "Return an iterable with the computed values."
   ]
  },
  {
   "cell_type": "code",
   "execution_count": null,
   "metadata": {},
   "outputs": [],
   "source": [
    "def poly(input_list, A, B, C, D):\n",
    "    ..."
   ]
  },
  {
   "cell_type": "markdown",
   "metadata": {},
   "source": [
    "<font color=\"grey\">\n",
    "\n",
    "> Side note: Python has great support for function arguments - you can make required, optional, and keyword-only arguments, along with unlimited positional and unlimited keyword arguments. We'll just use the normal required arguments here, but maybe optional would be better; you could set 0 as the default, for example."
   ]
  },
  {
   "cell_type": "code",
   "execution_count": null,
   "metadata": {},
   "outputs": [],
   "source": [
    "assert tuple(poly(my_tuple_0_10, 0, 1, 0, 0)) == my_tuple_0_10\n",
    "assert tuple(poly(my_tuple_0_10, 1, 0, 0)) == (0,1,4,9,16,25,36,49,64,81)\n",
    "assert tuple(poly(my_tuple_0_10, A=1, B=0, C=0)) == (0,1,4,9,16,25,36,49,64,81)"
   ]
  },
  {
   "cell_type": "markdown",
   "metadata": {},
   "source": [
    "<font color=\"grey\">\n",
    "> Note: you are always welcome to add more tests - when I grade I will be running more tests than I put in the examples, as well. You might want to be careful in this case if adding floating point tests; `==` is a little tricky with floating point values. We'll talk about numerical precision in a later lecture."
   ]
  },
  {
   "cell_type": "markdown",
   "metadata": {},
   "source": [
    "### 2.3: Operations on two lists\n",
    "\n",
    "Let's try operating on two lists at a time. Compute the \"dot product\", $\\sum_i x_i y_i$ of the two input iterables.\n",
    "\n",
    "> If Python lists/tuples supported `@`, this would be `x @ y` - but they don't. Python lists are not really meant to be numeric; things like `+` and `*` are not defined in a numeric way either. `+` concatenates lists and `*` repeats them. We'll later see Numpy, which is much better for numerics.\n",
    "\n",
    "There are ways to do this in a comprehension (if you really want to, look at `zip`), but feel free to use a normal for loop. If you use a for loop, you'll want to add things up yourself; if you use a comprehension, use the `sum()` function to do the sum once you compute the product."
   ]
  },
  {
   "cell_type": "code",
   "execution_count": null,
   "metadata": {},
   "outputs": [],
   "source": [
    "def dot(list_x, list_y):\n",
    "    ..."
   ]
  },
  {
   "cell_type": "code",
   "execution_count": null,
   "metadata": {},
   "outputs": [],
   "source": [
    "assert dot(my_tuple_0_10, my_tuple_5_15) == 510"
   ]
  },
  {
   "cell_type": "markdown",
   "metadata": {},
   "source": [
    "### 2.4: Compute the intersection of two lists\n",
    "\n",
    "You can use `set(x)` to convert an iterable x into a set. Compute the intersection of the two input iterables. You can read about sets in the official documentation [here](https://docs.python.org/3.6/tutorial/datastructures.html?highlight=intersection#sets), or in [here](https://docs.python.org/3.6/library/stdtypes.html#set), or in [this article](https://realpython.com/python-sets/). Feel free to return any iterable, including a set."
   ]
  },
  {
   "cell_type": "code",
   "execution_count": null,
   "metadata": {},
   "outputs": [],
   "source": [
    "def intersection(list_1, list_2):\n",
    "    ..."
   ]
  },
  {
   "cell_type": "markdown",
   "metadata": {},
   "source": [
    "For the test, I'm using the `sorted` built-in to both convert an iterable to a list, and to make sure our comparison actually works since sets are unordered."
   ]
  },
  {
   "cell_type": "code",
   "execution_count": null,
   "metadata": {},
   "outputs": [],
   "source": [
    "assert sorted(intersection(my_tuple_0_10, my_tuple_5_15)) == [5,6,7,8,9]"
   ]
  },
  {
   "cell_type": "markdown",
   "metadata": {},
   "source": [
    "# Problem 3: Inspection\n",
    "\n",
    "The Python language gives you an amazing level of introspection capabilities. You can look up practically anything. For the following questions, we will look at the `six` module, which is a simple pure-python module that makes it easy to write code that supports Python 2 and Python 3 at the same time (The name comes from $2\\times3=6$). There's no special reason for this module over another one, it's just already in Anaconda and written in pure Python."
   ]
  },
  {
   "cell_type": "code",
   "execution_count": null,
   "metadata": {},
   "outputs": [],
   "source": [
    "import six"
   ]
  },
  {
   "cell_type": "markdown",
   "metadata": {},
   "source": [
    "### 3.1: Where is the six package located?\n",
    "\n",
    "Hint: Look at the hidden members by typing `six._` then pressing tab. Or use `dir(six)` to get a list of all the members including hidden members."
   ]
  },
  {
   "cell_type": "code",
   "execution_count": null,
   "metadata": {},
   "outputs": [],
   "source": [
    "ANSWER_3_1 = ... # FILL ME IN (one line)\n",
    "print(ANSWER_3_1)"
   ]
  },
  {
   "cell_type": "markdown",
   "metadata": {},
   "source": [
    "### 3.2:  What is the documentation string on `six.next`?\n",
    "\n",
    "Hint: if you use `help(six.next)`, you will print the documentation, but won't be able to capture it in a variable. Look at the hidden members instead."
   ]
  },
  {
   "cell_type": "code",
   "execution_count": null,
   "metadata": {},
   "outputs": [],
   "source": [
    "ANSWER_3_2 = ... # FILL ME IN (one line)\n",
    "print(ANSWER_3_2)"
   ]
  },
  {
   "cell_type": "markdown",
   "metadata": {},
   "source": [
    "### 3.3: How many items are directly in the six module?\n",
    "\n",
    "Look for how many objects (mostly functions or classes, maybe a few variables - but as you'll see later, this distinction doesn't really matter - they are all objects.). Include the hidden members. Use the previous hints for help."
   ]
  },
  {
   "cell_type": "code",
   "execution_count": null,
   "metadata": {},
   "outputs": [],
   "source": [
    "ANSWER_3_3 = ... # FILL ME IN (one line)\n",
    "print(ANSWER_3_3)"
   ]
  },
  {
   "cell_type": "markdown",
   "metadata": {},
   "source": [
    "### 3.4: What is the source code for `six.iteritems`?\n",
    "\n",
    "Hint: use the inspect module. Feel free to use tab completion to look through (inspect?) the `inspect` module. Or go to [the documentation](https://docs.python.org/3/library/inspect.html). Or call for help on the module by typing `inspect?` (IPython) or `help(inspect)` (Python)."
   ]
  },
  {
   "cell_type": "code",
   "execution_count": null,
   "metadata": {},
   "outputs": [],
   "source": [
    "import inspect"
   ]
  },
  {
   "cell_type": "code",
   "execution_count": null,
   "metadata": {},
   "outputs": [],
   "source": [
    "ANSWER_3_4 = ... # FILL ME IN (one line)\n",
    "print(ANSWER_3_4)"
   ]
  }
 ],
 "metadata": {
  "kernelspec": {
   "display_name": "Python 3",
   "language": "python",
   "name": "python3"
  },
  "language_info": {
   "codemirror_mode": {
    "name": "ipython",
    "version": 3
   },
   "file_extension": ".py",
   "mimetype": "text/x-python",
   "name": "python",
   "nbconvert_exporter": "python",
   "pygments_lexer": "ipython3",
   "version": "3.7.7"
  }
 },
 "nbformat": 4,
 "nbformat_minor": 2
}
